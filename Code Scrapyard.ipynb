{
 "cells": [
  {
   "cell_type": "code",
   "execution_count": null,
   "id": "fb3b2a77-efa0-42fa-9a4a-2deafb115dec",
   "metadata": {},
   "outputs": [],
   "source": [
    "# make a list of the most frequent categories of the column\n",
    "top_1500_cat = [cat for cat in critics.index]\n",
    "\n",
    "# now make the binary variables\n",
    "for cat in top_1500_cat:\n",
    "    X_train[cat] = np.where(X_train['criticName'] == cat, 1, 0) # whenever data['b'] == cat replace it with 1 else 0\n",
    "\n",
    "# This is done for one categorical column, similarly you can repeat for all categorical columns"
   ]
  },
  {
   "cell_type": "code",
   "execution_count": null,
   "id": "24e31234-ffcb-4227-b8b6-1156baa3b039",
   "metadata": {},
   "outputs": [],
   "source": [
    "# Scheme to replace top critics with 0 and bottom critics with 1 to be used with the dummies of top critics\n",
    "\n",
    "critics = combined['criticName'].value_counts().sort_values()\n",
    "\n",
    "def transform_value(value):\n",
    "    if value in critics:\n",
    "        return 0\n",
    "    else:\n",
    "        return 1\n",
    "\n",
    "# Apply the transformation to the 'Name' column\n",
    "X_train['criticName'] = X_train['criticName'].apply(lambda x: transform_value(x))"
   ]
  },
  {
   "cell_type": "code",
   "execution_count": null,
   "id": "40b930a5-b30b-479e-a660-73ffe6fcaf03",
   "metadata": {},
   "outputs": [],
   "source": [
    "# Previous attempt to merge the dataframes\n",
    "combined = pd.concat([massive, massive_features], axis=1)"
   ]
  },
  {
   "cell_type": "code",
   "execution_count": null,
   "id": "adfded94-618e-4474-bd58-22286fe848a3",
   "metadata": {},
   "outputs": [],
   "source": [
    "# Creating a dataframe made of the vectorized review text for the linear model\n",
    "# massive_features = pd.DataFrame(X.toarray(), columns=tfidf_vectorizer.get_feature_names())"
   ]
  },
  {
   "cell_type": "code",
   "execution_count": null,
   "id": "96966081-cb5a-4ac6-9f10-33d72a853917",
   "metadata": {},
   "outputs": [],
   "source": [
    "# Convert both dataframes to the datatype of a 2D array, vectors, which is float64\n",
    "array_type = vectors.dtype\n",
    "v_df = v_df.astype(array_type)\n",
    "massive = massive.astype(array_type)"
   ]
  },
  {
   "cell_type": "code",
   "execution_count": null,
   "id": "16209867-2301-4155-a4ef-666638599bff",
   "metadata": {},
   "outputs": [],
   "source": [
    "# Splitting train and test from combined dataframe by bottom rows\n",
    "\n",
    "# Gathering total rows of combined\n",
    "total_rows = len(combined)\n",
    "# Number of rows to keep for training (all except the last n, which are from massive_outliers)\n",
    "train_rows = total_rows - 3000\n",
    "# Splitting Train from massive df and Test from massive_outliers\n",
    "Train = combined.iloc[:train_rows, :]\n",
    "Test = combined.iloc[train_rows:, :]"
   ]
  },
  {
   "cell_type": "code",
   "execution_count": null,
   "id": "4b020d5d-fb82-4fd2-a588-1eb73a6c666a",
   "metadata": {},
   "outputs": [],
   "source": [
    "# Splitting X and y manually\n",
    "X_train = Train.drop(columns=['delta_category'])\n",
    "y_train = Train['delta_category']\n",
    "# Converting Category datatype to integer\n",
    "y_train = y_train.cat.codes"
   ]
  }
 ],
 "metadata": {
  "kernelspec": {
   "display_name": "Python 3 (ipykernel)",
   "language": "python",
   "name": "python3"
  },
  "language_info": {
   "codemirror_mode": {
    "name": "ipython",
    "version": 3
   },
   "file_extension": ".py",
   "mimetype": "text/x-python",
   "name": "python",
   "nbconvert_exporter": "python",
   "pygments_lexer": "ipython3",
   "version": "3.7.13"
  }
 },
 "nbformat": 4,
 "nbformat_minor": 5
}
