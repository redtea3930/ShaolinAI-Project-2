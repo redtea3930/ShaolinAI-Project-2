{
 "cells": [
  {
   "cell_type": "code",
   "execution_count": 1,
   "id": "b80b3cc5-603d-4724-9179-b1f762a2e8c0",
   "metadata": {},
   "outputs": [],
   "source": [
    "#import libraries\n",
    "import pandas as pd\n",
    "import numpy as np\n",
    "from pathlib import Path\n",
    "import matplotlib.pyplot as plt\n",
    "import seaborn as sns\n",
    "from sklearn.model_selection import train_test_split\n",
    "from sklearn.metrics import accuracy_score, classification_report, confusion_matrix\n",
    "from sklearn.preprocessing import StandardScaler\n",
    "from sklearn.decomposition import PCA\n",
    "from sklearn.linear_model import LinearRegression\n",
    "from nltk.corpus import stopwords\n",
    "from nltk.tokenize import word_tokenize\n",
    "from nltk.stem import WordNetLemmatizer \n",
    "from gensim.models import Word2Vec\n",
    "from gensim.test.utils import datapath\n",
    "from gensim import utils\n",
    "import gensim\n",
    "import multiprocessing\n",
    "import os\n",
    "from time import time\n",
    "cores = multiprocessing.cpu_count()"
   ]
  },
  {
   "cell_type": "code",
   "execution_count": 2,
   "id": "b8e08946-4fd4-422f-8669-519037b0459f",
   "metadata": {},
   "outputs": [
    {
     "name": "stdout",
     "output_type": "stream",
     "text": [
      "Collecting git+https://github.com/cphyc/jupyter-notify.git\n",
      "  Cloning https://github.com/cphyc/jupyter-notify.git to c:\\users\\athen\\appdata\\local\\temp\\pip-req-build-gt8j7ame\n",
      "  Resolved https://github.com/cphyc/jupyter-notify.git to commit 8cff958cbd3f00f7e4eb59b457f9f915e2ddff37\n",
      "  Preparing metadata (setup.py): started\n",
      "  Preparing metadata (setup.py): finished with status 'done'\n",
      "Requirement already satisfied: ipython in c:\\users\\athen\\anaconda3\\envs\\dev\\lib\\site-packages (from jupyternotify==0.1.15) (7.31.1)\n",
      "Requirement already satisfied: jupyter in c:\\users\\athen\\anaconda3\\envs\\dev\\lib\\site-packages (from jupyternotify==0.1.15) (1.0.0)\n",
      "Requirement already satisfied: colorama in c:\\users\\athen\\anaconda3\\envs\\dev\\lib\\site-packages (from ipython->jupyternotify==0.1.15) (0.4.5)\n",
      "Requirement already satisfied: decorator in c:\\users\\athen\\anaconda3\\envs\\dev\\lib\\site-packages (from ipython->jupyternotify==0.1.15) (5.1.1)\n",
      "Requirement already satisfied: prompt-toolkit!=3.0.0,!=3.0.1,<3.1.0,>=2.0.0 in c:\\users\\athen\\anaconda3\\envs\\dev\\lib\\site-packages (from ipython->jupyternotify==0.1.15) (3.0.20)\n",
      "Requirement already satisfied: backcall in c:\\users\\athen\\anaconda3\\envs\\dev\\lib\\site-packages (from ipython->jupyternotify==0.1.15) (0.2.0)\n",
      "Requirement already satisfied: pickleshare in c:\\users\\athen\\anaconda3\\envs\\dev\\lib\\site-packages (from ipython->jupyternotify==0.1.15) (0.7.5)\n",
      "Requirement already satisfied: matplotlib-inline in c:\\users\\athen\\anaconda3\\envs\\dev\\lib\\site-packages (from ipython->jupyternotify==0.1.15) (0.1.6)\n",
      "Requirement already satisfied: jedi>=0.16 in c:\\users\\athen\\anaconda3\\envs\\dev\\lib\\site-packages (from ipython->jupyternotify==0.1.15) (0.18.1)\n",
      "Requirement already satisfied: pygments in c:\\users\\athen\\anaconda3\\envs\\dev\\lib\\site-packages (from ipython->jupyternotify==0.1.15) (2.11.2)\n",
      "Requirement already satisfied: setuptools>=18.5 in c:\\users\\athen\\anaconda3\\envs\\dev\\lib\\site-packages (from ipython->jupyternotify==0.1.15) (63.4.1)\n",
      "Requirement already satisfied: traitlets>=4.2 in c:\\users\\athen\\anaconda3\\envs\\dev\\lib\\site-packages (from ipython->jupyternotify==0.1.15) (5.1.1)\n",
      "Requirement already satisfied: notebook in c:\\users\\athen\\anaconda3\\envs\\dev\\lib\\site-packages (from jupyter->jupyternotify==0.1.15) (6.4.12)\n",
      "Requirement already satisfied: nbconvert in c:\\users\\athen\\anaconda3\\envs\\dev\\lib\\site-packages (from jupyter->jupyternotify==0.1.15) (6.4.4)\n",
      "Requirement already satisfied: ipywidgets in c:\\users\\athen\\anaconda3\\envs\\dev\\lib\\site-packages (from jupyter->jupyternotify==0.1.15) (7.6.5)\n",
      "Requirement already satisfied: jupyter-console in c:\\users\\athen\\anaconda3\\envs\\dev\\lib\\site-packages (from jupyter->jupyternotify==0.1.15) (6.4.3)\n",
      "Requirement already satisfied: ipykernel in c:\\users\\athen\\anaconda3\\envs\\dev\\lib\\site-packages (from jupyter->jupyternotify==0.1.15) (6.15.2)\n",
      "Requirement already satisfied: qtconsole in c:\\users\\athen\\anaconda3\\envs\\dev\\lib\\site-packages (from jupyter->jupyternotify==0.1.15) (5.2.2)\n",
      "Requirement already satisfied: parso<0.9.0,>=0.8.0 in c:\\users\\athen\\anaconda3\\envs\\dev\\lib\\site-packages (from jedi>=0.16->ipython->jupyternotify==0.1.15) (0.8.3)\n",
      "Requirement already satisfied: wcwidth in c:\\users\\athen\\anaconda3\\envs\\dev\\lib\\site-packages (from prompt-toolkit!=3.0.0,!=3.0.1,<3.1.0,>=2.0.0->ipython->jupyternotify==0.1.15) (0.2.5)\n",
      "Requirement already satisfied: psutil in c:\\users\\athen\\anaconda3\\envs\\dev\\lib\\site-packages (from ipykernel->jupyter->jupyternotify==0.1.15) (5.9.0)\n",
      "Requirement already satisfied: tornado>=6.1 in c:\\users\\athen\\anaconda3\\envs\\dev\\lib\\site-packages (from ipykernel->jupyter->jupyternotify==0.1.15) (6.2)\n",
      "Requirement already satisfied: pyzmq>=17 in c:\\users\\athen\\anaconda3\\envs\\dev\\lib\\site-packages (from ipykernel->jupyter->jupyternotify==0.1.15) (23.2.0)\n",
      "Requirement already satisfied: debugpy>=1.0 in c:\\users\\athen\\anaconda3\\envs\\dev\\lib\\site-packages (from ipykernel->jupyter->jupyternotify==0.1.15) (1.5.1)\n",
      "Requirement already satisfied: jupyter-client>=6.1.12 in c:\\users\\athen\\anaconda3\\envs\\dev\\lib\\site-packages (from ipykernel->jupyter->jupyternotify==0.1.15) (7.3.5)\n",
      "Requirement already satisfied: packaging in c:\\users\\athen\\anaconda3\\envs\\dev\\lib\\site-packages (from ipykernel->jupyter->jupyternotify==0.1.15) (21.3)\n",
      "Requirement already satisfied: nest-asyncio in c:\\users\\athen\\anaconda3\\envs\\dev\\lib\\site-packages (from ipykernel->jupyter->jupyternotify==0.1.15) (1.5.5)\n",
      "Requirement already satisfied: nbformat>=4.2.0 in c:\\users\\athen\\anaconda3\\envs\\dev\\lib\\site-packages (from ipywidgets->jupyter->jupyternotify==0.1.15) (5.5.0)\n",
      "Requirement already satisfied: ipython-genutils~=0.2.0 in c:\\users\\athen\\anaconda3\\envs\\dev\\lib\\site-packages (from ipywidgets->jupyter->jupyternotify==0.1.15) (0.2.0)\n",
      "Requirement already satisfied: widgetsnbextension~=3.5.0 in c:\\users\\athen\\anaconda3\\envs\\dev\\lib\\site-packages (from ipywidgets->jupyter->jupyternotify==0.1.15) (3.5.2)\n",
      "Requirement already satisfied: jupyterlab-widgets>=1.0.0 in c:\\users\\athen\\anaconda3\\envs\\dev\\lib\\site-packages (from ipywidgets->jupyter->jupyternotify==0.1.15) (1.0.0)\n",
      "Requirement already satisfied: defusedxml in c:\\users\\athen\\anaconda3\\envs\\dev\\lib\\site-packages (from nbconvert->jupyter->jupyternotify==0.1.15) (0.7.1)\n",
      "Requirement already satisfied: testpath in c:\\users\\athen\\anaconda3\\envs\\dev\\lib\\site-packages (from nbconvert->jupyter->jupyternotify==0.1.15) (0.6.0)\n",
      "Requirement already satisfied: pandocfilters>=1.4.1 in c:\\users\\athen\\anaconda3\\envs\\dev\\lib\\site-packages (from nbconvert->jupyter->jupyternotify==0.1.15) (1.5.0)\n",
      "Requirement already satisfied: beautifulsoup4 in c:\\users\\athen\\anaconda3\\envs\\dev\\lib\\site-packages (from nbconvert->jupyter->jupyternotify==0.1.15) (4.11.1)\n",
      "Requirement already satisfied: jupyterlab-pygments in c:\\users\\athen\\anaconda3\\envs\\dev\\lib\\site-packages (from nbconvert->jupyter->jupyternotify==0.1.15) (0.1.2)\n",
      "Requirement already satisfied: jupyter-core in c:\\users\\athen\\anaconda3\\envs\\dev\\lib\\site-packages (from nbconvert->jupyter->jupyternotify==0.1.15) (4.11.1)\n",
      "Requirement already satisfied: entrypoints>=0.2.2 in c:\\users\\athen\\anaconda3\\envs\\dev\\lib\\site-packages (from nbconvert->jupyter->jupyternotify==0.1.15) (0.4)\n",
      "Requirement already satisfied: jinja2>=2.4 in c:\\users\\athen\\anaconda3\\envs\\dev\\lib\\site-packages (from nbconvert->jupyter->jupyternotify==0.1.15) (2.11.3)\n",
      "Requirement already satisfied: bleach in c:\\users\\athen\\anaconda3\\envs\\dev\\lib\\site-packages (from nbconvert->jupyter->jupyternotify==0.1.15) (4.1.0)\n",
      "Requirement already satisfied: nbclient<0.6.0,>=0.5.0 in c:\\users\\athen\\anaconda3\\envs\\dev\\lib\\site-packages (from nbconvert->jupyter->jupyternotify==0.1.15) (0.5.13)\n",
      "Requirement already satisfied: mistune<2,>=0.8.1 in c:\\users\\athen\\anaconda3\\envs\\dev\\lib\\site-packages (from nbconvert->jupyter->jupyternotify==0.1.15) (0.8.4)\n",
      "Requirement already satisfied: terminado>=0.8.3 in c:\\users\\athen\\anaconda3\\envs\\dev\\lib\\site-packages (from notebook->jupyter->jupyternotify==0.1.15) (0.13.1)\n",
      "Requirement already satisfied: prometheus-client in c:\\users\\athen\\anaconda3\\envs\\dev\\lib\\site-packages (from notebook->jupyter->jupyternotify==0.1.15) (0.14.1)\n",
      "Requirement already satisfied: argon2-cffi in c:\\users\\athen\\anaconda3\\envs\\dev\\lib\\site-packages (from notebook->jupyter->jupyternotify==0.1.15) (21.3.0)\n",
      "Requirement already satisfied: Send2Trash>=1.8.0 in c:\\users\\athen\\anaconda3\\envs\\dev\\lib\\site-packages (from notebook->jupyter->jupyternotify==0.1.15) (1.8.0)\n",
      "Requirement already satisfied: qtpy in c:\\users\\athen\\anaconda3\\envs\\dev\\lib\\site-packages (from qtconsole->jupyter->jupyternotify==0.1.15) (2.2.0)\n",
      "Requirement already satisfied: MarkupSafe>=0.23 in c:\\users\\athen\\anaconda3\\envs\\dev\\lib\\site-packages (from jinja2>=2.4->nbconvert->jupyter->jupyternotify==0.1.15) (2.0.1)\n",
      "Requirement already satisfied: python-dateutil>=2.8.2 in c:\\users\\athen\\anaconda3\\envs\\dev\\lib\\site-packages (from jupyter-client>=6.1.12->ipykernel->jupyter->jupyternotify==0.1.15) (2.8.2)\n",
      "Requirement already satisfied: pywin32>=1.0 in c:\\users\\athen\\anaconda3\\envs\\dev\\lib\\site-packages (from jupyter-core->nbconvert->jupyter->jupyternotify==0.1.15) (302)\n",
      "Requirement already satisfied: fastjsonschema in c:\\users\\athen\\anaconda3\\envs\\dev\\lib\\site-packages (from nbformat>=4.2.0->ipywidgets->jupyter->jupyternotify==0.1.15) (2.16.2)\n",
      "Requirement already satisfied: jsonschema>=2.6 in c:\\users\\athen\\anaconda3\\envs\\dev\\lib\\site-packages (from nbformat>=4.2.0->ipywidgets->jupyter->jupyternotify==0.1.15) (4.16.0)\n",
      "Requirement already satisfied: pywinpty>=1.1.0 in c:\\users\\athen\\anaconda3\\envs\\dev\\lib\\site-packages (from terminado>=0.8.3->notebook->jupyter->jupyternotify==0.1.15) (2.0.2)\n",
      "Requirement already satisfied: typing-extensions in c:\\users\\athen\\anaconda3\\envs\\dev\\lib\\site-packages (from argon2-cffi->notebook->jupyter->jupyternotify==0.1.15) (4.3.0)\n",
      "Requirement already satisfied: argon2-cffi-bindings in c:\\users\\athen\\anaconda3\\envs\\dev\\lib\\site-packages (from argon2-cffi->notebook->jupyter->jupyternotify==0.1.15) (21.2.0)\n",
      "Requirement already satisfied: soupsieve>1.2 in c:\\users\\athen\\anaconda3\\envs\\dev\\lib\\site-packages (from beautifulsoup4->nbconvert->jupyter->jupyternotify==0.1.15) (2.3.1)\n",
      "Requirement already satisfied: webencodings in c:\\users\\athen\\anaconda3\\envs\\dev\\lib\\site-packages (from bleach->nbconvert->jupyter->jupyternotify==0.1.15) (0.5.1)\n",
      "Requirement already satisfied: six>=1.9.0 in c:\\users\\athen\\anaconda3\\envs\\dev\\lib\\site-packages (from bleach->nbconvert->jupyter->jupyternotify==0.1.15) (1.16.0)\n",
      "Requirement already satisfied: pyparsing!=3.0.5,>=2.0.2 in c:\\users\\athen\\anaconda3\\envs\\dev\\lib\\site-packages (from packaging->ipykernel->jupyter->jupyternotify==0.1.15) (3.0.9)\n",
      "Requirement already satisfied: pyrsistent!=0.17.0,!=0.17.1,!=0.17.2,>=0.14.0 in c:\\users\\athen\\anaconda3\\envs\\dev\\lib\\site-packages (from jsonschema>=2.6->nbformat>=4.2.0->ipywidgets->jupyter->jupyternotify==0.1.15) (0.18.0)\n",
      "Requirement already satisfied: importlib-resources>=1.4.0 in c:\\users\\athen\\anaconda3\\envs\\dev\\lib\\site-packages (from jsonschema>=2.6->nbformat>=4.2.0->ipywidgets->jupyter->jupyternotify==0.1.15) (5.2.0)\n",
      "Requirement already satisfied: importlib-metadata in c:\\users\\athen\\anaconda3\\envs\\dev\\lib\\site-packages (from jsonschema>=2.6->nbformat>=4.2.0->ipywidgets->jupyter->jupyternotify==0.1.15) (4.11.3)\n",
      "Requirement already satisfied: attrs>=17.4.0 in c:\\users\\athen\\anaconda3\\envs\\dev\\lib\\site-packages (from jsonschema>=2.6->nbformat>=4.2.0->ipywidgets->jupyter->jupyternotify==0.1.15) (21.4.0)\n",
      "Requirement already satisfied: pkgutil-resolve-name>=1.3.10 in c:\\users\\athen\\anaconda3\\envs\\dev\\lib\\site-packages (from jsonschema>=2.6->nbformat>=4.2.0->ipywidgets->jupyter->jupyternotify==0.1.15) (1.3.10)\n",
      "Requirement already satisfied: cffi>=1.0.1 in c:\\users\\athen\\anaconda3\\envs\\dev\\lib\\site-packages (from argon2-cffi-bindings->argon2-cffi->notebook->jupyter->jupyternotify==0.1.15) (1.15.1)\n",
      "Requirement already satisfied: pycparser in c:\\users\\athen\\anaconda3\\envs\\dev\\lib\\site-packages (from cffi>=1.0.1->argon2-cffi-bindings->argon2-cffi->notebook->jupyter->jupyternotify==0.1.15) (2.21)\n",
      "Requirement already satisfied: zipp>=3.1.0 in c:\\users\\athen\\anaconda3\\envs\\dev\\lib\\site-packages (from importlib-resources>=1.4.0->jsonschema>=2.6->nbformat>=4.2.0->ipywidgets->jupyter->jupyternotify==0.1.15) (3.8.0)\n"
     ]
    },
    {
     "name": "stderr",
     "output_type": "stream",
     "text": [
      "  Running command git clone --filter=blob:none --quiet https://github.com/cphyc/jupyter-notify.git 'C:\\Users\\Athen\\AppData\\Local\\Temp\\pip-req-build-gt8j7ame'\n"
     ]
    },
    {
     "data": {
      "application/javascript": [
       "if (!(\"Notification\" in window)) {\n",
       "    alert(\"This browser does not support desktop notifications, so the %%notify magic will not work.\");\n",
       "} else if (Notification.permission !== 'granted' && Notification.permission !== 'denied') {\n",
       "    Notification.requestPermission(function (permission) {\n",
       "        if(!('permission' in Notification)) {\n",
       "            Notification.permission = permission;\n",
       "        }\n",
       "    })\n",
       "}\n",
       "\n",
       "if(!window.jQuery) {\n",
       "    var jq = document.createElement('script');\n",
       "    jq.src = \"//ajax.googleapis.com/ajax/libs/jquery/2.1.4/jquery.min.js\";\n",
       "    document.getElementsByTagName('head')[0].appendChild(jq);\n",
       "}\n",
       "\n",
       "// Detect if the window is out of focus.\n",
       "window.jupyterNotifyIsInBackground = undefined;\n",
       "(function() {\n",
       "    // Check document.hidden support\n",
       "    var hidden;\n",
       "    if (typeof document.hidden !== \"undefined\") { // Opera 12.10 and Firefox 18 and later support\n",
       "      hidden = \"hidden\";\n",
       "    } else if (typeof document.msHidden !== \"undefined\") {\n",
       "      hidden = \"msHidden\";\n",
       "    } else if (typeof document.webkitHidden !== \"undefined\") {\n",
       "      hidden = \"webkitHidden\";\n",
       "    }\n",
       "\n",
       "    // Set initial background state\n",
       "    if (document[hidden]) {\n",
       "      window.jupyterNotifyIsInBackground = true;\n",
       "    } else {\n",
       "      window.jupyterNotifyIsInBackground = false;\n",
       "    }\n",
       "\n",
       "    window.addEventListener('blur', function() { window.jupyterNotifyIsInBackground = true; }, false);\n",
       "    window.addEventListener('focus', function() { window.jupyterNotifyIsInBackground = false; }, false);\n",
       "})();\n"
      ],
      "text/plain": [
       "<IPython.core.display.Javascript object>"
      ]
     },
     "metadata": {},
     "output_type": "display_data"
    }
   ],
   "source": [
    "# To notify when cell is complete (may need to comment out first line)\n",
    "# !pip uninstall jupyternotify -y\n",
    "!pip install git+https://github.com/cphyc/jupyter-notify.git\n",
    "%reload_ext jupyternotify"
   ]
  },
  {
   "cell_type": "code",
   "execution_count": 16,
   "id": "606c2cda-48a1-4431-be34-c839cf1cd02d",
   "metadata": {},
   "outputs": [],
   "source": [
    "# read in cleaned CSV\n",
    "filepath = Path('../massive.csv')\n",
    "massive = pd.read_csv(filepath)\n",
    "massive = massive.sample(n=15000)"
   ]
  },
  {
   "cell_type": "code",
   "execution_count": 17,
   "id": "dacfd229-e592-4890-8f1b-973eac81fff8",
   "metadata": {},
   "outputs": [
    {
     "data": {
      "text/html": [
       "<div>\n",
       "<style scoped>\n",
       "    .dataframe tbody tr th:only-of-type {\n",
       "        vertical-align: middle;\n",
       "    }\n",
       "\n",
       "    .dataframe tbody tr th {\n",
       "        vertical-align: top;\n",
       "    }\n",
       "\n",
       "    .dataframe thead th {\n",
       "        text-align: right;\n",
       "    }\n",
       "</style>\n",
       "<table border=\"1\" class=\"dataframe\">\n",
       "  <thead>\n",
       "    <tr style=\"text-align: right;\">\n",
       "      <th></th>\n",
       "      <th>id</th>\n",
       "      <th>title</th>\n",
       "      <th>audienceScore</th>\n",
       "      <th>tomatoMeter</th>\n",
       "      <th>reviewId</th>\n",
       "      <th>creationDate</th>\n",
       "      <th>criticName</th>\n",
       "      <th>isTopCritic</th>\n",
       "      <th>reviewState</th>\n",
       "      <th>publicatioName</th>\n",
       "      <th>reviewText</th>\n",
       "      <th>scoreSentiment</th>\n",
       "      <th>delta</th>\n",
       "    </tr>\n",
       "  </thead>\n",
       "  <tbody>\n",
       "    <tr>\n",
       "      <th>747149</th>\n",
       "      <td>the_rocket</td>\n",
       "      <td>The Rocket</td>\n",
       "      <td>83.0</td>\n",
       "      <td>95.0</td>\n",
       "      <td>2160564</td>\n",
       "      <td>2013-08-25</td>\n",
       "      <td>Ed Gibbs</td>\n",
       "      <td>False</td>\n",
       "      <td>fresh</td>\n",
       "      <td>The Sunday Age</td>\n",
       "      <td>A hugely enjoyable, thoroughly infectious feat...</td>\n",
       "      <td>POSITIVE</td>\n",
       "      <td>12.0</td>\n",
       "    </tr>\n",
       "  </tbody>\n",
       "</table>\n",
       "</div>"
      ],
      "text/plain": [
       "                id       title  audienceScore  tomatoMeter  reviewId  \\\n",
       "747149  the_rocket  The Rocket           83.0         95.0   2160564   \n",
       "\n",
       "       creationDate criticName  isTopCritic reviewState  publicatioName  \\\n",
       "747149   2013-08-25   Ed Gibbs        False       fresh  The Sunday Age   \n",
       "\n",
       "                                               reviewText scoreSentiment  \\\n",
       "747149  A hugely enjoyable, thoroughly infectious feat...       POSITIVE   \n",
       "\n",
       "        delta  \n",
       "747149   12.0  "
      ]
     },
     "execution_count": 17,
     "metadata": {},
     "output_type": "execute_result"
    }
   ],
   "source": [
    "massive.head(1)"
   ]
  },
  {
   "cell_type": "code",
   "execution_count": 18,
   "id": "7043144f-4577-4804-a286-d00e82aeff78",
   "metadata": {},
   "outputs": [],
   "source": [
    "# Dropping columns including audienceScore because it could unfairly help the model predict the delta. Leaving tomatoMeter to give the model a base of where the delta could be.\n",
    "massive = massive.drop(columns=['id', 'reviewId', 'creationDate', 'isTopCritic', 'reviewState', 'audienceScore'])"
   ]
  },
  {
   "cell_type": "code",
   "execution_count": 19,
   "id": "b8673ded-49df-43d3-bf79-634ac7000096",
   "metadata": {},
   "outputs": [
    {
     "data": {
      "text/plain": [
       "title             0\n",
       "tomatoMeter       0\n",
       "criticName        0\n",
       "publicatioName    0\n",
       "reviewText        0\n",
       "scoreSentiment    0\n",
       "delta             0\n",
       "dtype: int64"
      ]
     },
     "execution_count": 19,
     "metadata": {},
     "output_type": "execute_result"
    }
   ],
   "source": [
    "massive.isnull().sum()"
   ]
  },
  {
   "cell_type": "code",
   "execution_count": 20,
   "id": "3038c20c-d453-4bfe-ba9c-f2ff38aec57c",
   "metadata": {},
   "outputs": [
    {
     "data": {
      "text/plain": [
       "title              7266\n",
       "tomatoMeter       14889\n",
       "criticName        11876\n",
       "publicatioName    13530\n",
       "reviewText            0\n",
       "scoreSentiment    14987\n",
       "delta             14868\n",
       "dtype: int64"
      ]
     },
     "execution_count": 20,
     "metadata": {},
     "output_type": "execute_result"
    }
   ],
   "source": [
    "# Dropping duplicates\n",
    "massive = massive.drop_duplicates(subset='reviewText', keep='first')\n",
    "# Checking for duplicates\n",
    "dup_df = massive.apply(lambda x: x.duplicated()).sum()\n",
    "dup_df"
   ]
  },
  {
   "cell_type": "code",
   "execution_count": null,
   "id": "f02aa687-093e-4da1-97ff-f440bb5c26b3",
   "metadata": {},
   "outputs": [
    {
     "ename": "NameError",
     "evalue": "name 'tokenizer' is not defined",
     "output_type": "error",
     "traceback": [
      "\u001b[1;31m---------------------------------------------------------------------------\u001b[0m",
      "\u001b[1;31mNameError\u001b[0m                                 Traceback (most recent call last)",
      "\u001b[1;32m~\\AppData\\Local\\Temp\\ipykernel_24056\\3851463200.py\u001b[0m in \u001b[0;36m<module>\u001b[1;34m\u001b[0m\n\u001b[0;32m      1\u001b[0m \u001b[1;31m# Tokenize and encode the text data using BERT tokenizer\u001b[0m\u001b[1;33m\u001b[0m\u001b[1;33m\u001b[0m\u001b[1;33m\u001b[0m\u001b[0m\n\u001b[1;32m----> 2\u001b[1;33m \u001b[0mencoded_data\u001b[0m \u001b[1;33m=\u001b[0m \u001b[1;33m[\u001b[0m\u001b[0mtokenizer\u001b[0m\u001b[1;33m.\u001b[0m\u001b[0mencode\u001b[0m\u001b[1;33m(\u001b[0m\u001b[0mtext\u001b[0m\u001b[1;33m,\u001b[0m \u001b[0madd_special_tokens\u001b[0m\u001b[1;33m=\u001b[0m\u001b[1;32mTrue\u001b[0m\u001b[1;33m)\u001b[0m \u001b[1;32mfor\u001b[0m \u001b[0mtext\u001b[0m \u001b[1;32min\u001b[0m \u001b[0mmassive\u001b[0m\u001b[1;33m[\u001b[0m\u001b[1;34m'reviewText'\u001b[0m\u001b[1;33m]\u001b[0m\u001b[1;33m]\u001b[0m\u001b[1;33m\u001b[0m\u001b[1;33m\u001b[0m\u001b[0m\n\u001b[0m\u001b[0;32m      3\u001b[0m \u001b[1;33m\u001b[0m\u001b[0m\n\u001b[0;32m      4\u001b[0m \u001b[1;31m# Pad sequences to the same length (optional but recommended)\u001b[0m\u001b[1;33m\u001b[0m\u001b[1;33m\u001b[0m\u001b[1;33m\u001b[0m\u001b[0m\n\u001b[0;32m      5\u001b[0m \u001b[0mmax_len\u001b[0m \u001b[1;33m=\u001b[0m \u001b[0mmax\u001b[0m\u001b[1;33m(\u001b[0m\u001b[1;33m[\u001b[0m\u001b[0mlen\u001b[0m\u001b[1;33m(\u001b[0m\u001b[0mseq\u001b[0m\u001b[1;33m)\u001b[0m \u001b[1;32mfor\u001b[0m \u001b[0mseq\u001b[0m \u001b[1;32min\u001b[0m \u001b[0mencoded_data\u001b[0m\u001b[1;33m]\u001b[0m\u001b[1;33m)\u001b[0m\u001b[1;33m\u001b[0m\u001b[1;33m\u001b[0m\u001b[0m\n",
      "\u001b[1;32m~\\AppData\\Local\\Temp\\ipykernel_24056\\3851463200.py\u001b[0m in \u001b[0;36m<listcomp>\u001b[1;34m(.0)\u001b[0m\n\u001b[0;32m      1\u001b[0m \u001b[1;31m# Tokenize and encode the text data using BERT tokenizer\u001b[0m\u001b[1;33m\u001b[0m\u001b[1;33m\u001b[0m\u001b[1;33m\u001b[0m\u001b[0m\n\u001b[1;32m----> 2\u001b[1;33m \u001b[0mencoded_data\u001b[0m \u001b[1;33m=\u001b[0m \u001b[1;33m[\u001b[0m\u001b[0mtokenizer\u001b[0m\u001b[1;33m.\u001b[0m\u001b[0mencode\u001b[0m\u001b[1;33m(\u001b[0m\u001b[0mtext\u001b[0m\u001b[1;33m,\u001b[0m \u001b[0madd_special_tokens\u001b[0m\u001b[1;33m=\u001b[0m\u001b[1;32mTrue\u001b[0m\u001b[1;33m)\u001b[0m \u001b[1;32mfor\u001b[0m \u001b[0mtext\u001b[0m \u001b[1;32min\u001b[0m \u001b[0mmassive\u001b[0m\u001b[1;33m[\u001b[0m\u001b[1;34m'reviewText'\u001b[0m\u001b[1;33m]\u001b[0m\u001b[1;33m]\u001b[0m\u001b[1;33m\u001b[0m\u001b[1;33m\u001b[0m\u001b[0m\n\u001b[0m\u001b[0;32m      3\u001b[0m \u001b[1;33m\u001b[0m\u001b[0m\n\u001b[0;32m      4\u001b[0m \u001b[1;31m# Pad sequences to the same length (optional but recommended)\u001b[0m\u001b[1;33m\u001b[0m\u001b[1;33m\u001b[0m\u001b[1;33m\u001b[0m\u001b[0m\n\u001b[0;32m      5\u001b[0m \u001b[0mmax_len\u001b[0m \u001b[1;33m=\u001b[0m \u001b[0mmax\u001b[0m\u001b[1;33m(\u001b[0m\u001b[1;33m[\u001b[0m\u001b[0mlen\u001b[0m\u001b[1;33m(\u001b[0m\u001b[0mseq\u001b[0m\u001b[1;33m)\u001b[0m \u001b[1;32mfor\u001b[0m \u001b[0mseq\u001b[0m \u001b[1;32min\u001b[0m \u001b[0mencoded_data\u001b[0m\u001b[1;33m]\u001b[0m\u001b[1;33m)\u001b[0m\u001b[1;33m\u001b[0m\u001b[1;33m\u001b[0m\u001b[0m\n",
      "\u001b[1;31mNameError\u001b[0m: name 'tokenizer' is not defined"
     ]
    }
   ],
   "source": [
    "# Tokenize and encode the text data using BERT tokenizer\n",
    "encoded_data = [tokenizer.encode(text, add_special_tokens=True) for text in massive['reviewText']]\n",
    "\n",
    "# Pad sequences to the same length (optional but recommended)\n",
    "max_len = max([len(seq) for seq in encoded_data])\n",
    "padded_data = [seq + [0] * (max_len - len(seq)) for seq in encoded_data]\n",
    "\n",
    "# Convert to PyTorch tensors\n",
    "input_ids = torch.tensor(padded_data)"
   ]
  },
  {
   "cell_type": "code",
   "execution_count": null,
   "id": "637ab241-6df2-44c9-84a7-957aed4db95b",
   "metadata": {},
   "outputs": [],
   "source": [
    "%%notify\n",
    "# Forward pass through the BERT model to get embeddings\n",
    "with torch.no_grad():\n",
    "    embeddings = model(input_ids)[0]  # The [0] index gets the embeddings from the model output"
   ]
  },
  {
   "cell_type": "code",
   "execution_count": null,
   "id": "326e26c0-c76a-4826-be13-79c35472cfb3",
   "metadata": {},
   "outputs": [],
   "source": [
    "# Creating a dataframe made of the vectorized review text for the linear model\n",
    "# massive_features = pd.DataFrame(X.toarray(), columns=tfidf_vectorizer.get_feature_names())"
   ]
  },
  {
   "cell_type": "code",
   "execution_count": null,
   "id": "688d5fd1-c80d-47f4-8c52-4bc91ec9cdd4",
   "metadata": {},
   "outputs": [
    {
     "ename": "NameError",
     "evalue": "name 'combined' is not defined",
     "output_type": "error",
     "traceback": [
      "\u001b[1;31m---------------------------------------------------------------------------\u001b[0m",
      "\u001b[1;31mNameError\u001b[0m                                 Traceback (most recent call last)",
      "\u001b[1;32m~\\AppData\\Local\\Temp\\ipykernel_24056\\1632384181.py\u001b[0m in \u001b[0;36m<module>\u001b[1;34m\u001b[0m\n\u001b[0;32m      1\u001b[0m \u001b[1;31m# Dropping review text now that vectorized words are all columns\u001b[0m\u001b[1;33m\u001b[0m\u001b[1;33m\u001b[0m\u001b[1;33m\u001b[0m\u001b[0m\n\u001b[1;32m----> 2\u001b[1;33m \u001b[0mcombined\u001b[0m \u001b[1;33m=\u001b[0m \u001b[0mcombined\u001b[0m\u001b[1;33m.\u001b[0m\u001b[0mdrop\u001b[0m\u001b[1;33m(\u001b[0m\u001b[0mcolumns\u001b[0m\u001b[1;33m=\u001b[0m\u001b[1;33m[\u001b[0m\u001b[1;34m'reviewText'\u001b[0m\u001b[1;33m]\u001b[0m\u001b[1;33m)\u001b[0m\u001b[1;33m\u001b[0m\u001b[1;33m\u001b[0m\u001b[0m\n\u001b[0m",
      "\u001b[1;31mNameError\u001b[0m: name 'combined' is not defined"
     ]
    }
   ],
   "source": [
    "# Dropping review text now that vectorized words are all columns\n",
    "combined = combined.drop(columns=['reviewText'])"
   ]
  },
  {
   "cell_type": "code",
   "execution_count": 238,
   "id": "00ec8b92-efdd-4418-8187-952557b62038",
   "metadata": {},
   "outputs": [],
   "source": [
    "# Fill the nulls in all of the word columns with 0\n",
    "combined = combined.fillna(0)"
   ]
  },
  {
   "cell_type": "code",
   "execution_count": null,
   "id": "66941dde-e810-4c38-b202-daed024aa859",
   "metadata": {},
   "outputs": [
    {
     "data": {
      "text/plain": [
       "title_            0\n",
       "tomatoMeter       0\n",
       "criticName        0\n",
       "publicatioName    0\n",
       "scoreSentiment    0\n",
       "delta             0\n",
       "abandon           0\n",
       "ability           0\n",
       "able              0\n",
       "dtype: int64"
      ]
     },
     "execution_count": 266,
     "metadata": {},
     "output_type": "execute_result"
    }
   ],
   "source": [
    "combined.isnull().sum().head(9)"
   ]
  },
  {
   "cell_type": "code",
   "execution_count": null,
   "id": "5dac35c1-4c06-49fd-b618-61b900391658",
   "metadata": {},
   "outputs": [
    {
     "data": {
      "text/plain": [
       "Other              8954\n",
       "Dennis Schwartz     111\n",
       "David Nusair         94\n",
       "Roger Ebert          89\n",
       "Roger Moore          81\n",
       "                   ... \n",
       "Ella Taylor          16\n",
       "Scott Foundas        16\n",
       "Dann Gire            16\n",
       "David Noh            16\n",
       "Kim Newman           16\n",
       "Name: criticName, Length: 214, dtype: int64"
      ]
     },
     "execution_count": 267,
     "metadata": {},
     "output_type": "execute_result"
    }
   ],
   "source": [
    "# Renaming the least-appearing critics as Other to be encoded as the same critic later\n",
    "counts = combined.criticName.value_counts()\n",
    "threshold = combined.criticName.isin(counts.index[counts<16])\n",
    "combined.loc[threshold, 'criticName'] = 'Other'\n",
    "combined['criticName'].value_counts()"
   ]
  },
  {
   "cell_type": "code",
   "execution_count": null,
   "id": "0a6b0a96-a932-4eaf-a06b-4ab22e1ea42a",
   "metadata": {},
   "outputs": [
    {
     "data": {
      "text/plain": [
       "Other                 4148\n",
       "New York Times         180\n",
       "Variety                166\n",
       "Los Angeles Times      138\n",
       "Slant Magazine         134\n",
       "                      ... \n",
       "The Ringer              12\n",
       "Three Movie Buffs       12\n",
       "Film Companion          12\n",
       "Baltimore Sun           12\n",
       "culturevulture.net      12\n",
       "Name: publicatioName, Length: 333, dtype: int64"
      ]
     },
     "execution_count": 268,
     "metadata": {},
     "output_type": "execute_result"
    }
   ],
   "source": [
    "# Repeat for publications\n",
    "counts = combined.publicatioName.value_counts()\n",
    "threshold = combined.publicatioName.isin(counts.index[counts<12])\n",
    "combined.loc[threshold, 'publicatioName'] = 'Other'\n",
    "combined['publicatioName'].value_counts()"
   ]
  },
  {
   "cell_type": "code",
   "execution_count": 271,
   "id": "8e2b43ac-cd1e-45d7-99ed-0febba501f75",
   "metadata": {},
   "outputs": [
    {
     "data": {
      "text/html": [
       "<div>\n",
       "<style scoped>\n",
       "    .dataframe tbody tr th:only-of-type {\n",
       "        vertical-align: middle;\n",
       "    }\n",
       "\n",
       "    .dataframe tbody tr th {\n",
       "        vertical-align: top;\n",
       "    }\n",
       "\n",
       "    .dataframe thead th {\n",
       "        text-align: right;\n",
       "    }\n",
       "</style>\n",
       "<table border=\"1\" class=\"dataframe\">\n",
       "  <thead>\n",
       "    <tr style=\"text-align: right;\">\n",
       "      <th></th>\n",
       "      <th>tomatoMeter</th>\n",
       "      <th>delta</th>\n",
       "      <th>abandon</th>\n",
       "      <th>ability</th>\n",
       "      <th>able</th>\n",
       "      <th>abrams</th>\n",
       "      <th>absence</th>\n",
       "      <th>absolute</th>\n",
       "      <th>absolutely</th>\n",
       "      <th>absorbing</th>\n",
       "      <th>...</th>\n",
       "      <th>publicatioName_culturevulture.net</th>\n",
       "      <th>publicatioName_eFilmCritic.com</th>\n",
       "      <th>publicatioName_eye WEEKLY</th>\n",
       "      <th>publicatioName_film-authority.com</th>\n",
       "      <th>publicatioName_indieWire</th>\n",
       "      <th>publicatioName_jackiekcooper.com</th>\n",
       "      <th>publicatioName_rachelsreviews.net</th>\n",
       "      <th>publicatioName_rec.arts.movies.reviews</th>\n",
       "      <th>scoreSentiment_NEGATIVE</th>\n",
       "      <th>scoreSentiment_POSITIVE</th>\n",
       "    </tr>\n",
       "  </thead>\n",
       "  <tbody>\n",
       "    <tr>\n",
       "      <th>328556</th>\n",
       "      <td>22.0</td>\n",
       "      <td>-10.0</td>\n",
       "      <td>0.0</td>\n",
       "      <td>0.0</td>\n",
       "      <td>0.0</td>\n",
       "      <td>0.0</td>\n",
       "      <td>0.0</td>\n",
       "      <td>0.0</td>\n",
       "      <td>0.0</td>\n",
       "      <td>0.0</td>\n",
       "      <td>...</td>\n",
       "      <td>0</td>\n",
       "      <td>0</td>\n",
       "      <td>0</td>\n",
       "      <td>0</td>\n",
       "      <td>0</td>\n",
       "      <td>0</td>\n",
       "      <td>0</td>\n",
       "      <td>0</td>\n",
       "      <td>0</td>\n",
       "      <td>1</td>\n",
       "    </tr>\n",
       "  </tbody>\n",
       "</table>\n",
       "<p>1 rows × 13241 columns</p>\n",
       "</div>"
      ],
      "text/plain": [
       "        tomatoMeter  delta  abandon  ability  able  abrams  absence  absolute  \\\n",
       "328556         22.0  -10.0      0.0      0.0   0.0     0.0      0.0       0.0   \n",
       "\n",
       "        absolutely  absorbing  ...  publicatioName_culturevulture.net  \\\n",
       "328556         0.0        0.0  ...                                  0   \n",
       "\n",
       "        publicatioName_eFilmCritic.com  publicatioName_eye WEEKLY  \\\n",
       "328556                               0                          0   \n",
       "\n",
       "        publicatioName_film-authority.com  publicatioName_indieWire  \\\n",
       "328556                                  0                         0   \n",
       "\n",
       "        publicatioName_jackiekcooper.com  publicatioName_rachelsreviews.net  \\\n",
       "328556                                 0                                  0   \n",
       "\n",
       "        publicatioName_rec.arts.movies.reviews  scoreSentiment_NEGATIVE  \\\n",
       "328556                                       0                        0   \n",
       "\n",
       "        scoreSentiment_POSITIVE  \n",
       "328556                        1  \n",
       "\n",
       "[1 rows x 13241 columns]"
      ]
     },
     "execution_count": 271,
     "metadata": {},
     "output_type": "execute_result"
    }
   ],
   "source": [
    "combined.head(1)"
   ]
  },
  {
   "cell_type": "code",
   "execution_count": null,
   "id": "c935d9a7-59a9-4b8c-a9d1-0e79ab7882c7",
   "metadata": {},
   "outputs": [],
   "source": [
    "# list of columns to dummy\n",
    "categorical_cols = ['title_', 'criticName', 'publicatioName', 'scoreSentiment'] \n",
    "# get dummies on categorical columns\n",
    "combined = pd.get_dummies(combined, columns = categorical_cols)"
   ]
  },
  {
   "cell_type": "code",
   "execution_count": 273,
   "id": "eb89e1f1-0bff-4f86-8651-a43c7a1ef3bc",
   "metadata": {},
   "outputs": [],
   "source": [
    "X = combined.drop(columns=['delta'])\n",
    "y = combined['delta']"
   ]
  },
  {
   "cell_type": "code",
   "execution_count": 274,
   "id": "3ca3d855-6d54-4f08-a154-8263c060c0a5",
   "metadata": {},
   "outputs": [
    {
     "data": {
      "text/plain": [
       "0"
      ]
     },
     "execution_count": 274,
     "metadata": {},
     "output_type": "execute_result"
    }
   ],
   "source": [
    "X.isnull().sum().sum()"
   ]
  },
  {
   "cell_type": "code",
   "execution_count": 284,
   "id": "c7540d4b-fec3-4010-871c-1c04310b757c",
   "metadata": {},
   "outputs": [
    {
     "data": {
      "text/plain": [
       "328556   -10.0\n",
       "477873    19.0\n",
       "709010     9.0\n",
       "340594     8.0\n",
       "720402   -31.0\n",
       "Name: delta, dtype: float64"
      ]
     },
     "execution_count": 284,
     "metadata": {},
     "output_type": "execute_result"
    }
   ],
   "source": [
    "y[:5]"
   ]
  },
  {
   "cell_type": "code",
   "execution_count": null,
   "id": "3c4213ab-63c3-4a06-8136-77b367ae20c4",
   "metadata": {},
   "outputs": [],
   "source": []
  },
  {
   "cell_type": "code",
   "execution_count": 292,
   "id": "9563c69a-5fe8-478e-95ef-96b5baa219e8",
   "metadata": {},
   "outputs": [],
   "source": [
    "# Split the data into training and testing sets\n",
    "X_train, X_test, y_train, y_test = train_test_split(X, y, test_size=0.25, random_state=42)"
   ]
  },
  {
   "cell_type": "code",
   "execution_count": 293,
   "id": "5cd7a49c-11fe-44c7-b41f-d6103075df8b",
   "metadata": {},
   "outputs": [
    {
     "data": {
      "text/plain": [
       "0"
      ]
     },
     "execution_count": 293,
     "metadata": {},
     "output_type": "execute_result"
    }
   ],
   "source": [
    "X_train.isnull().sum().sum()"
   ]
  },
  {
   "cell_type": "code",
   "execution_count": 283,
   "id": "3a22dd78-d2dc-439c-8358-5adcc92a006a",
   "metadata": {},
   "outputs": [],
   "source": [
    "# Scaling X\n",
    "sc = StandardScaler()\n",
    "X_train_sc = sc.fit_transform(X_train)\n",
    "X_test_sc = sc.transform(X_test)"
   ]
  },
  {
   "cell_type": "code",
   "execution_count": 339,
   "id": "b8ae210a-41df-437c-b957-98dd50ebf7c8",
   "metadata": {},
   "outputs": [],
   "source": [
    "pca = PCA(n_components=2000)\n",
    "X_train_p = pca.fit_transform(X_train_sc)\n",
    "X_test_p = pca.transform(X_test_sc)"
   ]
  },
  {
   "cell_type": "code",
   "execution_count": 340,
   "id": "23f77fd3-0e56-4485-8a77-da3f463c976f",
   "metadata": {},
   "outputs": [
    {
     "data": {
      "text/plain": [
       "LinearRegression()"
      ]
     },
     "execution_count": 340,
     "metadata": {},
     "output_type": "execute_result"
    }
   ],
   "source": [
    "# Choose a machine learning model (e.g., Logistic Regression) and train it\n",
    "model = LinearRegression()\n",
    "model.fit(X_train_p, y_train)"
   ]
  },
  {
   "cell_type": "code",
   "execution_count": 341,
   "id": "5c029fd9-cedb-403e-ac43-debd16f82170",
   "metadata": {},
   "outputs": [
    {
     "data": {
      "text/plain": [
       "0.5509262446941581"
      ]
     },
     "execution_count": 341,
     "metadata": {},
     "output_type": "execute_result"
    }
   ],
   "source": [
    "model.score(X_train_p, y_train)"
   ]
  },
  {
   "cell_type": "code",
   "execution_count": 342,
   "id": "f456ec82-348d-434d-8f2a-23ef3bd0eecb",
   "metadata": {},
   "outputs": [
    {
     "data": {
      "text/plain": [
       "0.3442473356373843"
      ]
     },
     "execution_count": 342,
     "metadata": {},
     "output_type": "execute_result"
    }
   ],
   "source": [
    "model.score(X_test_p, y_test)"
   ]
  },
  {
   "cell_type": "code",
   "execution_count": null,
   "id": "527c8bdf-f07e-4cec-94a6-019223f53430",
   "metadata": {},
   "outputs": [],
   "source": []
  }
 ],
 "metadata": {
  "kernelspec": {
   "display_name": "Python 3 (ipykernel)",
   "language": "python",
   "name": "python3"
  },
  "language_info": {
   "codemirror_mode": {
    "name": "ipython",
    "version": 3
   },
   "file_extension": ".py",
   "mimetype": "text/x-python",
   "name": "python",
   "nbconvert_exporter": "python",
   "pygments_lexer": "ipython3",
   "version": "3.7.13"
  }
 },
 "nbformat": 4,
 "nbformat_minor": 5
}
