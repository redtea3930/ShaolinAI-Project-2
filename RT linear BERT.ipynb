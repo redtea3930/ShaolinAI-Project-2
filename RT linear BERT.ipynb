{
 "cells": [
  {
   "cell_type": "code",
   "execution_count": 1,
   "id": "b80b3cc5-603d-4724-9179-b1f762a2e8c0",
   "metadata": {},
   "outputs": [],
   "source": [
    "#import libraries\n",
    "import pandas as pd\n",
    "import numpy as np\n",
    "from pathlib import Path\n",
    "import matplotlib.pyplot as plt\n",
    "import seaborn as sns\n",
    "from sklearn.model_selection import train_test_split\n",
    "from sklearn.metrics import accuracy_score, classification_report, confusion_matrix\n",
    "from sklearn.preprocessing import StandardScaler\n",
    "from sklearn.decomposition import PCA\n",
    "from sklearn.linear_model import LinearRegression\n",
    "from nltk.corpus import stopwords\n",
    "from nltk.tokenize import word_tokenize\n",
    "from nltk.stem import WordNetLemmatizer \n",
    "from gensim.models import Word2Vec\n",
    "from gensim.test.utils import datapath\n",
    "from gensim import utils\n",
    "import gensim\n",
    "import multiprocessing\n",
    "import os\n",
    "from time import time\n",
    "cores = multiprocessing.cpu_count()"
   ]
  },
  {
   "cell_type": "code",
   "execution_count": null,
   "id": "b8e08946-4fd4-422f-8669-519037b0459f",
   "metadata": {},
   "outputs": [],
   "source": [
    "# To notify when cell is complete (may need to comment out first line)\n",
    "# !pip uninstall jupyternotify -y\n",
    "!pip install git+https://github.com/cphyc/jupyter-notify.git\n",
    "%reload_ext jupyternotify"
   ]
  },
  {
   "cell_type": "code",
   "execution_count": 3,
   "id": "606c2cda-48a1-4431-be34-c839cf1cd02d",
   "metadata": {},
   "outputs": [
    {
     "data": {
      "application/javascript": [
       "$(document).ready(\n",
       "    function() {\n",
       "        function appendUniqueDiv(){\n",
       "            // append a div with our uuid so we can check that it's already\n",
       "            // been sent and avoid duplicates on page reload\n",
       "            var notifiedDiv = document.createElement(\"div\")\n",
       "            notifiedDiv.id = \"c48eeeda-6170-46d3-812f-3a0b1b1b72c8\"\n",
       "            element.append(notifiedDiv)\n",
       "        }\n",
       "\n",
       "        // only send notifications if the pageload is complete; this will\n",
       "        // help stop extra notifications when a saved notebook is loaded,\n",
       "        // which during testing gives us state \"interactive\", not \"complete\"\n",
       "        if (document.readyState === 'complete') {\n",
       "            // check for the div that signifies that the notification\n",
       "            // was already sent\n",
       "            if (document.getElementById(\"c48eeeda-6170-46d3-812f-3a0b1b1b72c8\") === null) {\n",
       "                var notificationPayload = {\"requireInteraction\": false, \"icon\": \"/static/base/images/favicon.ico\", \"body\": \"Cell execution has finished!\", \"only_in_background\": false};\n",
       "\n",
       "                // We have a notification but the window is active\n",
       "                if (notificationPayload.only_in_background && !window.jupyterNotifyIsInBackground) {\n",
       "                    appendUniqueDiv();\n",
       "                    return;\n",
       "                }\n",
       "                if (Notification.permission !== 'denied') {\n",
       "                    if (Notification.permission !== 'granted') { \n",
       "                        Notification.requestPermission(function (permission) {\n",
       "                            if(!('permission' in Notification)) {\n",
       "                                Notification.permission = permission\n",
       "                            }\n",
       "                        })\n",
       "                    }\n",
       "                    if (Notification.permission === 'granted') {\n",
       "                    var notification = new Notification(\"Jupyter Notebook\", notificationPayload)\n",
       "                    appendUniqueDiv()\n",
       "                    notification.onclick = function () {\n",
       "                        window.focus();\n",
       "                        this.close();\n",
       "                        };\n",
       "                    } \n",
       "                }     \n",
       "            }\n",
       "        }\n",
       "    }\n",
       ")\n"
      ],
      "text/plain": [
       "<IPython.core.display.Javascript object>"
      ]
     },
     "metadata": {},
     "output_type": "display_data"
    }
   ],
   "source": [
    "# read in cleaned CSV\n",
    "filepath = Path('../massive.csv')\n",
    "massive = pd.read_csv(filepath)\n",
    "massive = massive.sample(n=15000)"
   ]
  },
  {
   "cell_type": "code",
   "execution_count": 4,
   "id": "dacfd229-e592-4890-8f1b-973eac81fff8",
   "metadata": {},
   "outputs": [
    {
     "data": {
      "text/html": [
       "<div>\n",
       "<style scoped>\n",
       "    .dataframe tbody tr th:only-of-type {\n",
       "        vertical-align: middle;\n",
       "    }\n",
       "\n",
       "    .dataframe tbody tr th {\n",
       "        vertical-align: top;\n",
       "    }\n",
       "\n",
       "    .dataframe thead th {\n",
       "        text-align: right;\n",
       "    }\n",
       "</style>\n",
       "<table border=\"1\" class=\"dataframe\">\n",
       "  <thead>\n",
       "    <tr style=\"text-align: right;\">\n",
       "      <th></th>\n",
       "      <th>id</th>\n",
       "      <th>title</th>\n",
       "      <th>audienceScore</th>\n",
       "      <th>tomatoMeter</th>\n",
       "      <th>reviewId</th>\n",
       "      <th>creationDate</th>\n",
       "      <th>criticName</th>\n",
       "      <th>isTopCritic</th>\n",
       "      <th>reviewState</th>\n",
       "      <th>publicatioName</th>\n",
       "      <th>reviewText</th>\n",
       "      <th>scoreSentiment</th>\n",
       "      <th>delta</th>\n",
       "    </tr>\n",
       "  </thead>\n",
       "  <tbody>\n",
       "    <tr>\n",
       "      <th>759017</th>\n",
       "      <td>1075984-iron_monkey</td>\n",
       "      <td>Iron Monkey</td>\n",
       "      <td>86.0</td>\n",
       "      <td>91.0</td>\n",
       "      <td>256086</td>\n",
       "      <td>2001-10-16</td>\n",
       "      <td>James Berardinelli</td>\n",
       "      <td>True</td>\n",
       "      <td>fresh</td>\n",
       "      <td>ReelViews</td>\n",
       "      <td>[Yuen's] fights are innovative and intense, wh...</td>\n",
       "      <td>POSITIVE</td>\n",
       "      <td>5.0</td>\n",
       "    </tr>\n",
       "  </tbody>\n",
       "</table>\n",
       "</div>"
      ],
      "text/plain": [
       "                         id        title  audienceScore  tomatoMeter  \\\n",
       "759017  1075984-iron_monkey  Iron Monkey           86.0         91.0   \n",
       "\n",
       "        reviewId creationDate          criticName  isTopCritic reviewState  \\\n",
       "759017    256086   2001-10-16  James Berardinelli         True       fresh   \n",
       "\n",
       "       publicatioName                                         reviewText  \\\n",
       "759017      ReelViews  [Yuen's] fights are innovative and intense, wh...   \n",
       "\n",
       "       scoreSentiment  delta  \n",
       "759017       POSITIVE    5.0  "
      ]
     },
     "execution_count": 4,
     "metadata": {},
     "output_type": "execute_result"
    }
   ],
   "source": [
    "massive.head(1)"
   ]
  },
  {
   "cell_type": "code",
   "execution_count": 4,
   "id": "7043144f-4577-4804-a286-d00e82aeff78",
   "metadata": {},
   "outputs": [],
   "source": [
    "# Dropping columns including audienceScore because it could unfairly help the model predict the delta. Leaving tomatoMeter to give the model a base of where the delta could be.\n",
    "massive = massive.drop(columns=['id', 'reviewId', 'creationDate', 'isTopCritic', 'reviewState', 'audienceScore'])"
   ]
  },
  {
   "cell_type": "code",
   "execution_count": 5,
   "id": "b8673ded-49df-43d3-bf79-634ac7000096",
   "metadata": {},
   "outputs": [
    {
     "data": {
      "text/plain": [
       "title             0\n",
       "tomatoMeter       0\n",
       "criticName        0\n",
       "publicatioName    0\n",
       "reviewText        0\n",
       "scoreSentiment    0\n",
       "delta             0\n",
       "dtype: int64"
      ]
     },
     "execution_count": 5,
     "metadata": {},
     "output_type": "execute_result"
    }
   ],
   "source": [
    "massive.isnull().sum()"
   ]
  },
  {
   "cell_type": "code",
   "execution_count": 6,
   "id": "3038c20c-d453-4bfe-ba9c-f2ff38aec57c",
   "metadata": {},
   "outputs": [
    {
     "data": {
      "text/plain": [
       "title              7267\n",
       "tomatoMeter       14884\n",
       "criticName        11902\n",
       "publicatioName    13487\n",
       "reviewText            0\n",
       "scoreSentiment    14982\n",
       "delta             14868\n",
       "dtype: int64"
      ]
     },
     "execution_count": 6,
     "metadata": {},
     "output_type": "execute_result"
    }
   ],
   "source": [
    "# Dropping duplicates\n",
    "massive = massive.drop_duplicates(subset='reviewText', keep='first')\n",
    "# Checking for duplicates\n",
    "dup_df = massive.apply(lambda x: x.duplicated()).sum()\n",
    "dup_df"
   ]
  },
  {
   "cell_type": "code",
   "execution_count": 18,
   "id": "c8ef3920-1a56-4063-8460-b6be9b18ba60",
   "metadata": {},
   "outputs": [
    {
     "name": "stderr",
     "output_type": "stream",
     "text": [
      "Some weights of the model checkpoint at activebus/BERT_Review were not used when initializing BertModel: ['cls.predictions.transform.dense.bias', 'cls.predictions.transform.LayerNorm.weight', 'cls.predictions.transform.dense.weight', 'cls.predictions.bias', 'cls.predictions.decoder.weight', 'cls.predictions.transform.LayerNorm.bias', 'cls.predictions.decoder.bias']\n",
      "- This IS expected if you are initializing BertModel from the checkpoint of a model trained on another task or with another architecture (e.g. initializing a BertForSequenceClassification model from a BertForPreTraining model).\n",
      "- This IS NOT expected if you are initializing BertModel from the checkpoint of a model that you expect to be exactly identical (initializing a BertForSequenceClassification model from a BertForSequenceClassification model).\n"
     ]
    }
   ],
   "source": [
    "import torch\n",
    "from transformers import AutoModel, AutoTokenizer, AutoConfig\n",
    "from transformers import AutoModelForSequenceClassification\n",
    "from torch.utils.data import DataLoader\n",
    "\n",
    "tokenizer = AutoTokenizer.from_pretrained(\"activebus/BERT_Review\")\n",
    "model = AutoModel.from_pretrained(\"activebus/BERT_Review\")\n"
   ]
  },
  {
   "cell_type": "code",
   "execution_count": 15,
   "id": "aae3856f-5d99-401e-ab38-e1028d4bdb36",
   "metadata": {},
   "outputs": [],
   "source": [
    "# loaded_model = torch.load('../BERT_Review/pytorch_model.bin', map_location=torch.device('cpu'))"
   ]
  },
  {
   "cell_type": "code",
   "execution_count": 19,
   "id": "f02aa687-093e-4da1-97ff-f440bb5c26b3",
   "metadata": {},
   "outputs": [
    {
     "data": {
      "text/html": [
       "<div>\n",
       "<style scoped>\n",
       "    .dataframe tbody tr th:only-of-type {\n",
       "        vertical-align: middle;\n",
       "    }\n",
       "\n",
       "    .dataframe tbody tr th {\n",
       "        vertical-align: top;\n",
       "    }\n",
       "\n",
       "    .dataframe thead th {\n",
       "        text-align: right;\n",
       "    }\n",
       "</style>\n",
       "<table border=\"1\" class=\"dataframe\">\n",
       "  <thead>\n",
       "    <tr style=\"text-align: right;\">\n",
       "      <th></th>\n",
       "      <th>title</th>\n",
       "      <th>tomatoMeter</th>\n",
       "      <th>criticName</th>\n",
       "      <th>publicatioName</th>\n",
       "      <th>reviewText</th>\n",
       "      <th>scoreSentiment</th>\n",
       "      <th>delta</th>\n",
       "      <th>embeddings</th>\n",
       "    </tr>\n",
       "  </thead>\n",
       "  <tbody>\n",
       "    <tr>\n",
       "      <th>326995</th>\n",
       "      <td>Superman II</td>\n",
       "      <td>83.0</td>\n",
       "      <td>Jesús Fernández Santos</td>\n",
       "      <td>El Pais (Spain)</td>\n",
       "      <td>Like in each of these films, the best part are...</td>\n",
       "      <td>POSITIVE</td>\n",
       "      <td>7.0</td>\n",
       "      <td>[-0.31772605, 0.5285138, 0.3135373, -0.4036947...</td>\n",
       "    </tr>\n",
       "    <tr>\n",
       "      <th>584625</th>\n",
       "      <td>Chasing Amy</td>\n",
       "      <td>87.0</td>\n",
       "      <td>Radheyan Simonpillai</td>\n",
       "      <td>AskMen.com</td>\n",
       "      <td>The third installment of Kevin Smith's New Jer...</td>\n",
       "      <td>POSITIVE</td>\n",
       "      <td>4.0</td>\n",
       "      <td>[-0.0777253, 0.18772165, 0.051908623, -0.30558...</td>\n",
       "    </tr>\n",
       "    <tr>\n",
       "      <th>676483</th>\n",
       "      <td>Machuca</td>\n",
       "      <td>87.0</td>\n",
       "      <td>Jonathan Curiel</td>\n",
       "      <td>San Francisco Chronicle</td>\n",
       "      <td>It's a sensitively wrought work that reveals a...</td>\n",
       "      <td>POSITIVE</td>\n",
       "      <td>-4.0</td>\n",
       "      <td>[-0.31736574, 0.39004192, -0.3942195, -0.11205...</td>\n",
       "    </tr>\n",
       "    <tr>\n",
       "      <th>867120</th>\n",
       "      <td>A Sunday Affair</td>\n",
       "      <td>50.0</td>\n",
       "      <td>John Serba</td>\n",
       "      <td>Decider</td>\n",
       "      <td>A Sunday Affair is a decent technical achievem...</td>\n",
       "      <td>NEGATIVE</td>\n",
       "      <td>-4.0</td>\n",
       "      <td>[-0.34689125, 0.61465055, 0.1722262, -0.104893...</td>\n",
       "    </tr>\n",
       "    <tr>\n",
       "      <th>661243</th>\n",
       "      <td>Scary Stories to Tell in the Dark</td>\n",
       "      <td>77.0</td>\n",
       "      <td>Jason Fraley</td>\n",
       "      <td>WTOP (Washington, D.C.)</td>\n",
       "      <td>A PG-13 adaptation that delivers intermittent ...</td>\n",
       "      <td>NEGATIVE</td>\n",
       "      <td>5.0</td>\n",
       "      <td>[-0.41672167, 0.5564149, 0.0064520207, -0.0507...</td>\n",
       "    </tr>\n",
       "  </tbody>\n",
       "</table>\n",
       "</div>"
      ],
      "text/plain": [
       "                                    title  tomatoMeter  \\\n",
       "326995                        Superman II         83.0   \n",
       "584625                        Chasing Amy         87.0   \n",
       "676483                            Machuca         87.0   \n",
       "867120                    A Sunday Affair         50.0   \n",
       "661243  Scary Stories to Tell in the Dark         77.0   \n",
       "\n",
       "                    criticName           publicatioName  \\\n",
       "326995  Jesús Fernández Santos          El Pais (Spain)   \n",
       "584625    Radheyan Simonpillai               AskMen.com   \n",
       "676483         Jonathan Curiel  San Francisco Chronicle   \n",
       "867120              John Serba                  Decider   \n",
       "661243            Jason Fraley  WTOP (Washington, D.C.)   \n",
       "\n",
       "                                               reviewText scoreSentiment  \\\n",
       "326995  Like in each of these films, the best part are...       POSITIVE   \n",
       "584625  The third installment of Kevin Smith's New Jer...       POSITIVE   \n",
       "676483  It's a sensitively wrought work that reveals a...       POSITIVE   \n",
       "867120  A Sunday Affair is a decent technical achievem...       NEGATIVE   \n",
       "661243  A PG-13 adaptation that delivers intermittent ...       NEGATIVE   \n",
       "\n",
       "        delta                                         embeddings  \n",
       "326995    7.0  [-0.31772605, 0.5285138, 0.3135373, -0.4036947...  \n",
       "584625    4.0  [-0.0777253, 0.18772165, 0.051908623, -0.30558...  \n",
       "676483   -4.0  [-0.31736574, 0.39004192, -0.3942195, -0.11205...  \n",
       "867120   -4.0  [-0.34689125, 0.61465055, 0.1722262, -0.104893...  \n",
       "661243    5.0  [-0.41672167, 0.5564149, 0.0064520207, -0.0507...  "
      ]
     },
     "execution_count": 19,
     "metadata": {},
     "output_type": "execute_result"
    }
   ],
   "source": [
    "def preprocess(text):\n",
    "    new_text = []\n",
    "    for t in text.split(\" \"):\n",
    "        t = '@user' if t.startswith('@') and len(t) > 1 else t\n",
    "        t = 'http' if t.startswith('http') else t\n",
    "        new_text.append(t)\n",
    "    return \" \".join(new_text)\n",
    "\n",
    "def get_embedding(text):\n",
    "    text = preprocess(text)\n",
    "    encoded_input = tokenizer(text, return_tensors='pt')\n",
    "    features = model(**encoded_input)\n",
    "    features = features[0].detach().numpy() \n",
    "    features_mean = np.mean(features[0], axis=0) \n",
    "    return features_mean\n",
    "\n",
    "massive['embeddings'] = massive.reviewText.map(lambda x: get_embedding(x))\n",
    "massive.head()"
   ]
  },
  {
   "cell_type": "code",
   "execution_count": 21,
   "id": "637ab241-6df2-44c9-84a7-957aed4db95b",
   "metadata": {},
   "outputs": [],
   "source": [
    "vectors = np.array(massive.embeddings.tolist(), dtype='float')\n",
    "\n",
    "X = vectors\n",
    "y = massive['delta']"
   ]
  },
  {
   "cell_type": "code",
   "execution_count": null,
   "id": "326e26c0-c76a-4826-be13-79c35472cfb3",
   "metadata": {},
   "outputs": [],
   "source": [
    "# Creating a dataframe made of the vectorized review text for the linear model\n",
    "# massive_features = pd.DataFrame(X.toarray(), columns=tfidf_vectorizer.get_feature_names())"
   ]
  },
  {
   "cell_type": "code",
   "execution_count": 245,
   "id": "688d5fd1-c80d-47f4-8c52-4bc91ec9cdd4",
   "metadata": {},
   "outputs": [],
   "source": [
    "# Dropping review text now that vectorized words are all columns\n",
    "combined = combined.drop(columns=['reviewText'])"
   ]
  },
  {
   "cell_type": "code",
   "execution_count": 238,
   "id": "00ec8b92-efdd-4418-8187-952557b62038",
   "metadata": {},
   "outputs": [],
   "source": [
    "# Fill the nulls in all of the word columns with 0\n",
    "combined = combined.fillna(0)"
   ]
  },
  {
   "cell_type": "code",
   "execution_count": null,
   "id": "66941dde-e810-4c38-b202-daed024aa859",
   "metadata": {},
   "outputs": [
    {
     "data": {
      "text/plain": [
       "title_            0\n",
       "tomatoMeter       0\n",
       "criticName        0\n",
       "publicatioName    0\n",
       "scoreSentiment    0\n",
       "delta             0\n",
       "abandon           0\n",
       "ability           0\n",
       "able              0\n",
       "dtype: int64"
      ]
     },
     "execution_count": 266,
     "metadata": {},
     "output_type": "execute_result"
    }
   ],
   "source": [
    "combined.isnull().sum().head(9)"
   ]
  },
  {
   "cell_type": "code",
   "execution_count": null,
   "id": "5dac35c1-4c06-49fd-b618-61b900391658",
   "metadata": {},
   "outputs": [
    {
     "data": {
      "text/plain": [
       "Other              8954\n",
       "Dennis Schwartz     111\n",
       "David Nusair         94\n",
       "Roger Ebert          89\n",
       "Roger Moore          81\n",
       "                   ... \n",
       "Ella Taylor          16\n",
       "Scott Foundas        16\n",
       "Dann Gire            16\n",
       "David Noh            16\n",
       "Kim Newman           16\n",
       "Name: criticName, Length: 214, dtype: int64"
      ]
     },
     "execution_count": 267,
     "metadata": {},
     "output_type": "execute_result"
    }
   ],
   "source": [
    "# Renaming the least-appearing critics as Other to be encoded as the same critic later\n",
    "counts = combined.criticName.value_counts()\n",
    "threshold = combined.criticName.isin(counts.index[counts<16])\n",
    "combined.loc[threshold, 'criticName'] = 'Other'\n",
    "combined['criticName'].value_counts()"
   ]
  },
  {
   "cell_type": "code",
   "execution_count": null,
   "id": "0a6b0a96-a932-4eaf-a06b-4ab22e1ea42a",
   "metadata": {},
   "outputs": [
    {
     "data": {
      "text/plain": [
       "Other                 4148\n",
       "New York Times         180\n",
       "Variety                166\n",
       "Los Angeles Times      138\n",
       "Slant Magazine         134\n",
       "                      ... \n",
       "The Ringer              12\n",
       "Three Movie Buffs       12\n",
       "Film Companion          12\n",
       "Baltimore Sun           12\n",
       "culturevulture.net      12\n",
       "Name: publicatioName, Length: 333, dtype: int64"
      ]
     },
     "execution_count": 268,
     "metadata": {},
     "output_type": "execute_result"
    }
   ],
   "source": [
    "# Repeat for publications\n",
    "counts = combined.publicatioName.value_counts()\n",
    "threshold = combined.publicatioName.isin(counts.index[counts<12])\n",
    "combined.loc[threshold, 'publicatioName'] = 'Other'\n",
    "combined['publicatioName'].value_counts()"
   ]
  },
  {
   "cell_type": "code",
   "execution_count": 271,
   "id": "8e2b43ac-cd1e-45d7-99ed-0febba501f75",
   "metadata": {},
   "outputs": [
    {
     "data": {
      "text/html": [
       "<div>\n",
       "<style scoped>\n",
       "    .dataframe tbody tr th:only-of-type {\n",
       "        vertical-align: middle;\n",
       "    }\n",
       "\n",
       "    .dataframe tbody tr th {\n",
       "        vertical-align: top;\n",
       "    }\n",
       "\n",
       "    .dataframe thead th {\n",
       "        text-align: right;\n",
       "    }\n",
       "</style>\n",
       "<table border=\"1\" class=\"dataframe\">\n",
       "  <thead>\n",
       "    <tr style=\"text-align: right;\">\n",
       "      <th></th>\n",
       "      <th>tomatoMeter</th>\n",
       "      <th>delta</th>\n",
       "      <th>abandon</th>\n",
       "      <th>ability</th>\n",
       "      <th>able</th>\n",
       "      <th>abrams</th>\n",
       "      <th>absence</th>\n",
       "      <th>absolute</th>\n",
       "      <th>absolutely</th>\n",
       "      <th>absorbing</th>\n",
       "      <th>...</th>\n",
       "      <th>publicatioName_culturevulture.net</th>\n",
       "      <th>publicatioName_eFilmCritic.com</th>\n",
       "      <th>publicatioName_eye WEEKLY</th>\n",
       "      <th>publicatioName_film-authority.com</th>\n",
       "      <th>publicatioName_indieWire</th>\n",
       "      <th>publicatioName_jackiekcooper.com</th>\n",
       "      <th>publicatioName_rachelsreviews.net</th>\n",
       "      <th>publicatioName_rec.arts.movies.reviews</th>\n",
       "      <th>scoreSentiment_NEGATIVE</th>\n",
       "      <th>scoreSentiment_POSITIVE</th>\n",
       "    </tr>\n",
       "  </thead>\n",
       "  <tbody>\n",
       "    <tr>\n",
       "      <th>328556</th>\n",
       "      <td>22.0</td>\n",
       "      <td>-10.0</td>\n",
       "      <td>0.0</td>\n",
       "      <td>0.0</td>\n",
       "      <td>0.0</td>\n",
       "      <td>0.0</td>\n",
       "      <td>0.0</td>\n",
       "      <td>0.0</td>\n",
       "      <td>0.0</td>\n",
       "      <td>0.0</td>\n",
       "      <td>...</td>\n",
       "      <td>0</td>\n",
       "      <td>0</td>\n",
       "      <td>0</td>\n",
       "      <td>0</td>\n",
       "      <td>0</td>\n",
       "      <td>0</td>\n",
       "      <td>0</td>\n",
       "      <td>0</td>\n",
       "      <td>0</td>\n",
       "      <td>1</td>\n",
       "    </tr>\n",
       "  </tbody>\n",
       "</table>\n",
       "<p>1 rows × 13241 columns</p>\n",
       "</div>"
      ],
      "text/plain": [
       "        tomatoMeter  delta  abandon  ability  able  abrams  absence  absolute  \\\n",
       "328556         22.0  -10.0      0.0      0.0   0.0     0.0      0.0       0.0   \n",
       "\n",
       "        absolutely  absorbing  ...  publicatioName_culturevulture.net  \\\n",
       "328556         0.0        0.0  ...                                  0   \n",
       "\n",
       "        publicatioName_eFilmCritic.com  publicatioName_eye WEEKLY  \\\n",
       "328556                               0                          0   \n",
       "\n",
       "        publicatioName_film-authority.com  publicatioName_indieWire  \\\n",
       "328556                                  0                         0   \n",
       "\n",
       "        publicatioName_jackiekcooper.com  publicatioName_rachelsreviews.net  \\\n",
       "328556                                 0                                  0   \n",
       "\n",
       "        publicatioName_rec.arts.movies.reviews  scoreSentiment_NEGATIVE  \\\n",
       "328556                                       0                        0   \n",
       "\n",
       "        scoreSentiment_POSITIVE  \n",
       "328556                        1  \n",
       "\n",
       "[1 rows x 13241 columns]"
      ]
     },
     "execution_count": 271,
     "metadata": {},
     "output_type": "execute_result"
    }
   ],
   "source": [
    "combined.head(1)"
   ]
  },
  {
   "cell_type": "code",
   "execution_count": null,
   "id": "c935d9a7-59a9-4b8c-a9d1-0e79ab7882c7",
   "metadata": {},
   "outputs": [],
   "source": [
    "# list of columns to dummy\n",
    "categorical_cols = ['title_', 'criticName', 'publicatioName', 'scoreSentiment'] \n",
    "# get dummies on categorical columns\n",
    "combined = pd.get_dummies(combined, columns = categorical_cols)"
   ]
  },
  {
   "cell_type": "code",
   "execution_count": 273,
   "id": "eb89e1f1-0bff-4f86-8651-a43c7a1ef3bc",
   "metadata": {},
   "outputs": [],
   "source": [
    "X = combined.drop(columns=['delta'])\n",
    "y = combined['delta']"
   ]
  },
  {
   "cell_type": "code",
   "execution_count": 274,
   "id": "3ca3d855-6d54-4f08-a154-8263c060c0a5",
   "metadata": {},
   "outputs": [
    {
     "data": {
      "text/plain": [
       "0"
      ]
     },
     "execution_count": 274,
     "metadata": {},
     "output_type": "execute_result"
    }
   ],
   "source": [
    "X.isnull().sum().sum()"
   ]
  },
  {
   "cell_type": "code",
   "execution_count": 284,
   "id": "c7540d4b-fec3-4010-871c-1c04310b757c",
   "metadata": {},
   "outputs": [
    {
     "data": {
      "text/plain": [
       "328556   -10.0\n",
       "477873    19.0\n",
       "709010     9.0\n",
       "340594     8.0\n",
       "720402   -31.0\n",
       "Name: delta, dtype: float64"
      ]
     },
     "execution_count": 284,
     "metadata": {},
     "output_type": "execute_result"
    }
   ],
   "source": [
    "y[:5]"
   ]
  },
  {
   "cell_type": "code",
   "execution_count": null,
   "id": "3c4213ab-63c3-4a06-8136-77b367ae20c4",
   "metadata": {},
   "outputs": [],
   "source": []
  },
  {
   "cell_type": "code",
   "execution_count": 292,
   "id": "9563c69a-5fe8-478e-95ef-96b5baa219e8",
   "metadata": {},
   "outputs": [],
   "source": [
    "# Split the data into training and testing sets\n",
    "X_train, X_test, y_train, y_test = train_test_split(X, y, test_size=0.25, random_state=42)"
   ]
  },
  {
   "cell_type": "code",
   "execution_count": 293,
   "id": "5cd7a49c-11fe-44c7-b41f-d6103075df8b",
   "metadata": {},
   "outputs": [
    {
     "data": {
      "text/plain": [
       "0"
      ]
     },
     "execution_count": 293,
     "metadata": {},
     "output_type": "execute_result"
    }
   ],
   "source": [
    "X_train.isnull().sum().sum()"
   ]
  },
  {
   "cell_type": "code",
   "execution_count": 283,
   "id": "3a22dd78-d2dc-439c-8358-5adcc92a006a",
   "metadata": {},
   "outputs": [],
   "source": [
    "# Scaling X\n",
    "sc = StandardScaler()\n",
    "X_train_sc = sc.fit_transform(X_train)\n",
    "X_test_sc = sc.transform(X_test)"
   ]
  },
  {
   "cell_type": "code",
   "execution_count": 339,
   "id": "b8ae210a-41df-437c-b957-98dd50ebf7c8",
   "metadata": {},
   "outputs": [],
   "source": [
    "pca = PCA(n_components=2000)\n",
    "X_train_p = pca.fit_transform(X_train_sc)\n",
    "X_test_p = pca.transform(X_test_sc)"
   ]
  },
  {
   "cell_type": "code",
   "execution_count": 340,
   "id": "23f77fd3-0e56-4485-8a77-da3f463c976f",
   "metadata": {},
   "outputs": [
    {
     "data": {
      "text/plain": [
       "LinearRegression()"
      ]
     },
     "execution_count": 340,
     "metadata": {},
     "output_type": "execute_result"
    }
   ],
   "source": [
    "# Choose a machine learning model (e.g., Logistic Regression) and train it\n",
    "model = LinearRegression()\n",
    "model.fit(X_train_p, y_train)"
   ]
  },
  {
   "cell_type": "code",
   "execution_count": 341,
   "id": "5c029fd9-cedb-403e-ac43-debd16f82170",
   "metadata": {},
   "outputs": [
    {
     "data": {
      "text/plain": [
       "0.5509262446941581"
      ]
     },
     "execution_count": 341,
     "metadata": {},
     "output_type": "execute_result"
    }
   ],
   "source": [
    "model.score(X_train_p, y_train)"
   ]
  },
  {
   "cell_type": "code",
   "execution_count": 342,
   "id": "f456ec82-348d-434d-8f2a-23ef3bd0eecb",
   "metadata": {},
   "outputs": [
    {
     "data": {
      "text/plain": [
       "0.3442473356373843"
      ]
     },
     "execution_count": 342,
     "metadata": {},
     "output_type": "execute_result"
    }
   ],
   "source": [
    "model.score(X_test_p, y_test)"
   ]
  },
  {
   "cell_type": "code",
   "execution_count": null,
   "id": "527c8bdf-f07e-4cec-94a6-019223f53430",
   "metadata": {},
   "outputs": [],
   "source": []
  }
 ],
 "metadata": {
  "kernelspec": {
   "display_name": "Python 3 (ipykernel)",
   "language": "python",
   "name": "python3"
  },
  "language_info": {
   "codemirror_mode": {
    "name": "ipython",
    "version": 3
   },
   "file_extension": ".py",
   "mimetype": "text/x-python",
   "name": "python",
   "nbconvert_exporter": "python",
   "pygments_lexer": "ipython3",
   "version": "3.7.13"
  }
 },
 "nbformat": 4,
 "nbformat_minor": 5
}
