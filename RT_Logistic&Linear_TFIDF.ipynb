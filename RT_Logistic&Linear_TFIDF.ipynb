{
 "cells": [
  {
   "cell_type": "code",
   "execution_count": 1,
   "id": "b80b3cc5-603d-4724-9179-b1f762a2e8c0",
   "metadata": {},
   "outputs": [],
   "source": [
    "#import libraries\n",
    "import pandas as pd\n",
    "import numpy as np\n",
    "from pathlib import Path\n",
    "import matplotlib.pyplot as plt\n",
    "import seaborn as sns\n",
    "from sklearn.model_selection import train_test_split\n",
    "from sklearn.feature_extraction.text import TfidfVectorizer\n",
    "from sklearn.metrics import accuracy_score, classification_report, confusion_matrix\n",
    "from sklearn.model_selection import GridSearchCV\n",
    "from sklearn.preprocessing import StandardScaler\n",
    "from sklearn.decomposition import PCA\n",
    "from sklearn.linear_model import LogisticRegression\n",
    "from sklearn.linear_model import LinearRegression\n",
    "from nltk.corpus import stopwords\n",
    "from nltk.tokenize import word_tokenize\n",
    "from nltk.stem import WordNetLemmatizer "
   ]
  },
  {
   "cell_type": "code",
   "execution_count": null,
   "id": "863ebb22-be98-4db4-a8f0-4daa8a61bd7a",
   "metadata": {},
   "outputs": [],
   "source": [
    "!pip install git+https://github.com/cphyc/jupyter-notify.git\n",
    "%reload_ext jupyternotify"
   ]
  },
  {
   "cell_type": "code",
   "execution_count": 361,
   "id": "606c2cda-48a1-4431-be34-c839cf1cd02d",
   "metadata": {},
   "outputs": [],
   "source": [
    "# read in cleaned CSV\n",
    "filepath = Path('../massive.csv')\n",
    "massive = pd.read_csv(filepath)\n",
    "massive = massive.sample(n=25000)"
   ]
  },
  {
   "cell_type": "markdown",
   "id": "86cc7673-eeb1-4b25-8eb5-9df2e13e4f64",
   "metadata": {},
   "source": [
    "## Pre-processing"
   ]
  },
  {
   "cell_type": "code",
   "execution_count": 362,
   "id": "dacfd229-e592-4890-8f1b-973eac81fff8",
   "metadata": {},
   "outputs": [
    {
     "data": {
      "text/html": [
       "<div>\n",
       "<style scoped>\n",
       "    .dataframe tbody tr th:only-of-type {\n",
       "        vertical-align: middle;\n",
       "    }\n",
       "\n",
       "    .dataframe tbody tr th {\n",
       "        vertical-align: top;\n",
       "    }\n",
       "\n",
       "    .dataframe thead th {\n",
       "        text-align: right;\n",
       "    }\n",
       "</style>\n",
       "<table border=\"1\" class=\"dataframe\">\n",
       "  <thead>\n",
       "    <tr style=\"text-align: right;\">\n",
       "      <th></th>\n",
       "      <th>id</th>\n",
       "      <th>title</th>\n",
       "      <th>audienceScore</th>\n",
       "      <th>tomatoMeter</th>\n",
       "      <th>reviewId</th>\n",
       "      <th>creationDate</th>\n",
       "      <th>criticName</th>\n",
       "      <th>isTopCritic</th>\n",
       "      <th>reviewState</th>\n",
       "      <th>publicatioName</th>\n",
       "      <th>reviewText</th>\n",
       "      <th>scoreSentiment</th>\n",
       "      <th>delta</th>\n",
       "    </tr>\n",
       "  </thead>\n",
       "  <tbody>\n",
       "    <tr>\n",
       "      <th>727501</th>\n",
       "      <td>forgetting_sarah_marshall</td>\n",
       "      <td>Forgetting Sarah Marshall</td>\n",
       "      <td>76.0</td>\n",
       "      <td>83.0</td>\n",
       "      <td>1721200</td>\n",
       "      <td>2008-04-10</td>\n",
       "      <td>Urban Cinefile Critics</td>\n",
       "      <td>False</td>\n",
       "      <td>fresh</td>\n",
       "      <td>Urban Cinefile</td>\n",
       "      <td>There's a lot to like in Forgetting Sarah Mars...</td>\n",
       "      <td>POSITIVE</td>\n",
       "      <td>7.0</td>\n",
       "    </tr>\n",
       "  </tbody>\n",
       "</table>\n",
       "</div>"
      ],
      "text/plain": [
       "                               id                      title  audienceScore  \\\n",
       "727501  forgetting_sarah_marshall  Forgetting Sarah Marshall           76.0   \n",
       "\n",
       "        tomatoMeter  reviewId creationDate              criticName  \\\n",
       "727501         83.0   1721200   2008-04-10  Urban Cinefile Critics   \n",
       "\n",
       "        isTopCritic reviewState  publicatioName  \\\n",
       "727501        False       fresh  Urban Cinefile   \n",
       "\n",
       "                                               reviewText scoreSentiment  \\\n",
       "727501  There's a lot to like in Forgetting Sarah Mars...       POSITIVE   \n",
       "\n",
       "        delta  \n",
       "727501    7.0  "
      ]
     },
     "execution_count": 362,
     "metadata": {},
     "output_type": "execute_result"
    }
   ],
   "source": [
    "massive.head(1)"
   ]
  },
  {
   "cell_type": "code",
   "execution_count": 363,
   "id": "7043144f-4577-4804-a286-d00e82aeff78",
   "metadata": {},
   "outputs": [],
   "source": [
    "# Dropping columns including audienceScore because it could unfairly help the model predict the delta. Leaving tomatoMeter to give the model a base of where the delta could be.\n",
    "massive = massive.drop(columns=['id', 'reviewId', 'creationDate', 'isTopCritic', 'reviewState', 'audienceScore'])\n",
    "massive = massive.reset_index(drop=True)"
   ]
  },
  {
   "cell_type": "code",
   "execution_count": 364,
   "id": "b8673ded-49df-43d3-bf79-634ac7000096",
   "metadata": {},
   "outputs": [
    {
     "data": {
      "text/plain": [
       "title             0\n",
       "tomatoMeter       0\n",
       "criticName        0\n",
       "publicatioName    0\n",
       "reviewText        0\n",
       "scoreSentiment    0\n",
       "delta             0\n",
       "dtype: int64"
      ]
     },
     "execution_count": 364,
     "metadata": {},
     "output_type": "execute_result"
    }
   ],
   "source": [
    "massive.isnull().sum()"
   ]
  },
  {
   "cell_type": "code",
   "execution_count": 365,
   "id": "3038c20c-d453-4bfe-ba9c-f2ff38aec57c",
   "metadata": {},
   "outputs": [
    {
     "data": {
      "text/plain": [
       "title             14762\n",
       "tomatoMeter       24861\n",
       "criticName        21155\n",
       "publicatioName    23295\n",
       "reviewText            0\n",
       "scoreSentiment    24959\n",
       "delta             24831\n",
       "dtype: int64"
      ]
     },
     "execution_count": 365,
     "metadata": {},
     "output_type": "execute_result"
    }
   ],
   "source": [
    "# Dropping duplicates\n",
    "massive = massive.drop_duplicates(subset='reviewText', keep='first')\n",
    "# Checking for duplicates\n",
    "dup_df = massive.apply(lambda x: x.duplicated()).sum()\n",
    "dup_df"
   ]
  },
  {
   "cell_type": "code",
   "execution_count": 370,
   "id": "836fd104-2e74-45d9-a604-fbbc3af65312",
   "metadata": {},
   "outputs": [
    {
     "data": {
      "text/plain": [
       "<AxesSubplot:xlabel='publicatioName', ylabel='Count'>"
      ]
     },
     "execution_count": 370,
     "metadata": {},
     "output_type": "execute_result"
    },
    {
     "data": {
      "image/png": "[encoded data removed]",
      "text/plain": [
       "<Figure size 600x300 with 1 Axes>"
      ]
     },
     "metadata": {},
     "output_type": "display_data"
    }
   ],
   "source": [
    "sns.set(rc = {'figure.figsize':(6,3)})\n",
    "sns.histplot(data=massive, x='publicatioName')"
   ]
  },
  {
   "cell_type": "code",
   "execution_count": 151,
   "id": "29aeba55-fee8-44dc-aef0-54b550ef2e06",
   "metadata": {},
   "outputs": [
    {
     "data": {
      "text/plain": [
       "<AxesSubplot:xlabel='criticName', ylabel='Count'>"
      ]
     },
     "execution_count": 151,
     "metadata": {},
     "output_type": "execute_result"
    },
    {
     "data": {
      "image/png": "[encoded data removed]",
      "text/plain": [
       "<Figure size 600x300 with 1 Axes>"
      ]
     },
     "metadata": {},
     "output_type": "display_data"
    }
   ],
   "source": [
    "sns.set(rc = {'figure.figsize':(6,3)})\n",
    "sns.histplot(data=massive, x='criticName')"
   ]
  },
  {
   "cell_type": "code",
   "execution_count": 274,
   "id": "a717857c-0ddd-438a-9064-ed0ad9061b98",
   "metadata": {},
   "outputs": [
    {
     "data": {
      "text/plain": [
       "array([[<AxesSubplot:title={'center':'delta'}>]], dtype=object)"
      ]
     },
     "execution_count": 274,
     "metadata": {},
     "output_type": "execute_result"
    },
    {
     "data": {
      "image/png": "[encoded data removed]",
      "text/plain": [
       "<Figure size 600x300 with 1 Axes>"
      ]
     },
     "metadata": {},
     "output_type": "display_data"
    }
   ],
   "source": [
    "massive.hist(column='delta', bins=100)"
   ]
  },
  {
   "cell_type": "code",
   "execution_count": 275,
   "id": "c8ef3920-1a56-4063-8460-b6be9b18ba60",
   "metadata": {},
   "outputs": [],
   "source": [
    "# define a function to process text on the data\n",
    "lemmatizer = WordNetLemmatizer()\n",
    "import re\n",
    "def process_text(text): \n",
    "    sw = set(stopwords.words('english')) \n",
    "    regex = re.compile(\"[^a-zA-Z ]\") \n",
    "    re_clean = regex.sub('', text) \n",
    "    words = word_tokenize(re_clean) \n",
    "    lem = [lemmatizer.lemmatize(word) for word in words] \n",
    "    output = ' '.join([word.lower() for word in lem if word.lower() not in sw]) \n",
    "    return output"
   ]
  },
  {
   "cell_type": "code",
   "execution_count": 276,
   "id": "dde6990b-5398-4f51-b517-502d386a59f2",
   "metadata": {},
   "outputs": [
    {
     "data": {
      "text/html": [
       "<div>\n",
       "<style scoped>\n",
       "    .dataframe tbody tr th:only-of-type {\n",
       "        vertical-align: middle;\n",
       "    }\n",
       "\n",
       "    .dataframe tbody tr th {\n",
       "        vertical-align: top;\n",
       "    }\n",
       "\n",
       "    .dataframe thead th {\n",
       "        text-align: right;\n",
       "    }\n",
       "</style>\n",
       "<table border=\"1\" class=\"dataframe\">\n",
       "  <thead>\n",
       "    <tr style=\"text-align: right;\">\n",
       "      <th></th>\n",
       "      <th>title</th>\n",
       "      <th>tomatoMeter</th>\n",
       "      <th>criticName</th>\n",
       "      <th>publicatioName</th>\n",
       "      <th>reviewText</th>\n",
       "      <th>scoreSentiment</th>\n",
       "      <th>delta</th>\n",
       "    </tr>\n",
       "  </thead>\n",
       "  <tbody>\n",
       "    <tr>\n",
       "      <th>0</th>\n",
       "      <td>12 Monkeys</td>\n",
       "      <td>88.0</td>\n",
       "      <td>Matthew Pejkovic</td>\n",
       "      <td>Matt's Movie Reviews</td>\n",
       "      <td>dark gritty scifi thriller monkeys stand apart...</td>\n",
       "      <td>POSITIVE</td>\n",
       "      <td>0.0</td>\n",
       "    </tr>\n",
       "    <tr>\n",
       "      <th>1</th>\n",
       "      <td>I Know Who Killed Me</td>\n",
       "      <td>9.0</td>\n",
       "      <td>Jan Stuart</td>\n",
       "      <td>Newsday</td>\n",
       "      <td>know killed ostensibly horror thriller slicean...</td>\n",
       "      <td>NEGATIVE</td>\n",
       "      <td>-17.0</td>\n",
       "    </tr>\n",
       "  </tbody>\n",
       "</table>\n",
       "</div>"
      ],
      "text/plain": [
       "                  title  tomatoMeter        criticName        publicatioName  \\\n",
       "0            12 Monkeys         88.0  Matthew Pejkovic  Matt's Movie Reviews   \n",
       "1  I Know Who Killed Me          9.0        Jan Stuart               Newsday   \n",
       "\n",
       "                                          reviewText scoreSentiment  delta  \n",
       "0  dark gritty scifi thriller monkeys stand apart...       POSITIVE    0.0  \n",
       "1  know killed ostensibly horror thriller slicean...       NEGATIVE  -17.0  "
      ]
     },
     "execution_count": 276,
     "metadata": {},
     "output_type": "execute_result"
    }
   ],
   "source": [
    "# use a lambda x function to apple process text on the whole column.\n",
    "massive_lemma = massive.copy()\n",
    "massive_lemma['reviewText'] = massive_lemma['reviewText'].apply(lambda x: process_text(x))\n",
    "massive_lemma = massive_lemma.reset_index(drop=True)\n",
    "massive_lemma.head(2)"
   ]
  },
  {
   "cell_type": "markdown",
   "id": "1d0e58f7-50b8-48fd-b49e-30bf345c6b80",
   "metadata": {},
   "source": [
    "## TFIDF Vectorizer and Logistic Regression (sentiment model)"
   ]
  },
  {
   "cell_type": "code",
   "execution_count": 487,
   "id": "8c499634-2bfb-41f7-966a-a8877201f39f",
   "metadata": {},
   "outputs": [],
   "source": [
    "# tfidf vectorizer for sentiment model\n",
    "tfidf_vectorizer = TfidfVectorizer(max_features=5000)\n",
    "X = massive_lemma['reviewText']\n",
    "y = massive_lemma['scoreSentiment']\n",
    "X_v = tfidf_vectorizer.fit_transform(X)"
   ]
  },
  {
   "cell_type": "code",
   "execution_count": 444,
   "id": "698b1ab1-8b50-4058-a10e-bc4988f21785",
   "metadata": {},
   "outputs": [],
   "source": [
    "# Split the data into training and testing sets for sentiment model\n",
    "X_train, X_test, y_train, y_test = train_test_split(X, y, test_size=0.25, random_state=42)"
   ]
  },
  {
   "cell_type": "code",
   "execution_count": 445,
   "id": "4f5c5865-4ed6-43b2-b19c-d1fa5ed71c41",
   "metadata": {},
   "outputs": [
    {
     "data": {
      "text/plain": [
       "LogisticRegression(max_iter=5000)"
      ]
     },
     "execution_count": 445,
     "metadata": {},
     "output_type": "execute_result"
    }
   ],
   "source": [
    "X_train_v = tfidf_vectorizer.fit_transform(X_train)\n",
    "X_test_v = tfidf_vectorizer.transform(X_test)\n",
    "# Choose a machine learning model (e.g., Logistic Regression) and train it\n",
    "logistic_model = LogisticRegression(max_iter=5000)\n",
    "logistic_model.fit(X_train_v, y_train)"
   ]
  },
  {
   "cell_type": "code",
   "execution_count": 254,
   "id": "253355ed-d047-4679-8c24-99252f8f734a",
   "metadata": {},
   "outputs": [
    {
     "data": {
      "text/plain": [
       "0.8237230823990034"
      ]
     },
     "execution_count": 254,
     "metadata": {},
     "output_type": "execute_result"
    }
   ],
   "source": [
    "model.score(X_train, y_train)"
   ]
  },
  {
   "cell_type": "code",
   "execution_count": 255,
   "id": "93b1bd7a-d373-4ddb-977b-3fcb97f7f85b",
   "metadata": {},
   "outputs": [
    {
     "data": {
      "text/plain": [
       "0.8113157192420604"
      ]
     },
     "execution_count": 255,
     "metadata": {},
     "output_type": "execute_result"
    }
   ],
   "source": [
    "model.score(X_test, y_test)"
   ]
  },
  {
   "cell_type": "code",
   "execution_count": 213,
   "id": "3bbdcc26-9520-4f8a-8d90-4bb2175ee530",
   "metadata": {},
   "outputs": [
    {
     "name": "stdout",
     "output_type": "stream",
     "text": [
      "              precision    recall  f1-score   support\n",
      "\n",
      "    NEGATIVE       0.72      0.28      0.40      1104\n",
      "    POSITIVE       0.76      0.95      0.85      2643\n",
      "\n",
      "    accuracy                           0.76      3747\n",
      "   macro avg       0.74      0.62      0.62      3747\n",
      "weighted avg       0.75      0.76      0.72      3747\n",
      "\n"
     ]
    }
   ],
   "source": [
    "# Classification Report, Confusion Matrix\n",
    "y_pred = model.predict(X_test)\n",
    "print(classification_report(y_test, y_pred))"
   ]
  },
  {
   "cell_type": "code",
   "execution_count": 373,
   "id": "48d40495-feda-4165-9aa9-4736488857b8",
   "metadata": {},
   "outputs": [
    {
     "data": {
      "image/png": "[encoded data removed]",
      "text/plain": [
       "<Figure size 600x600 with 1 Axes>"
      ]
     },
     "metadata": {},
     "output_type": "display_data"
    }
   ],
   "source": [
    "conf = confusion_matrix(y_test, y_pred)\n",
    "plt.figure(figsize=(6, 6))\n",
    "sns.heatmap(conf, annot=True, fmt='d', cmap='Blues', cbar=False, \n",
    "            square=True, xticklabels=['Predicted Negative', 'Predicted Positive'], \n",
    "            yticklabels=['Actual Negative', 'Actual Positive'])\n",
    "plt.xlabel('Predicted')\n",
    "plt.ylabel('Actual')\n",
    "plt.title('Confusion Matrix')\n",
    "plt.savefig('Log_Regression_Sentiment_Confusion_Matrix')\n",
    "plt.show()"
   ]
  },
  {
   "cell_type": "markdown",
   "id": "1ac30449-ea90-4d44-a03a-626a2ab62348",
   "metadata": {},
   "source": [
    "## LIME"
   ]
  },
  {
   "cell_type": "code",
   "execution_count": 504,
   "id": "7ce6fd57-34ce-4369-b5b6-62a03dd9e7d3",
   "metadata": {
    "tags": []
   },
   "outputs": [],
   "source": [
    "from lime import lime_text\n",
    "from lime.lime_text import LimeTextExplainer\n",
    "from sklearn.pipeline import make_pipeline\n",
    "from bs4 import BeautifulSoup"
   ]
  },
  {
   "cell_type": "code",
   "execution_count": 505,
   "id": "5b32db52-4cea-473a-a23e-4a480b15b7bb",
   "metadata": {},
   "outputs": [],
   "source": [
    "REPLACE_BY_SPACE_RE = re.compile('[/(){}\\[\\]\\|@,;]')\n",
    "BAD_SYMBOLS_RE = re.compile('[^0-9a-z #+_]')\n",
    "# STOPWORDS = set(stopwords.words('english'))\n",
    "\n",
    "def clean_text(text):\n",
    "    \"\"\"\n",
    "        text: a string\n",
    "        \n",
    "        return: modified initial string\n",
    "    \"\"\"\n",
    "    text = BeautifulSoup(text, \"lxml\").text # HTML decoding. BeautifulSoup's text attribute will return a string stripped of any HTML tags and metadata.\n",
    "    text = text.lower() # lowercase text\n",
    "    text = REPLACE_BY_SPACE_RE.sub(' ', text) # replace REPLACE_BY_SPACE_RE symbols by space in text. substitute the matched string in REPLACE_BY_SPACE_RE with space.\n",
    "    text = BAD_SYMBOLS_RE.sub('', text) # remove symbols which are in BAD_SYMBOLS_RE from text. substitute the matched string in BAD_SYMBOLS_RE with nothing. \n",
    "#    text = ' '.join(word for word in text.split() if word not in STOPWORDS) # remove stopwors from text\n",
    "    return text"
   ]
  },
  {
   "cell_type": "code",
   "execution_count": 506,
   "id": "e506222a-4425-4198-bfe1-72e5800ac5c4",
   "metadata": {},
   "outputs": [
    {
     "name": "stderr",
     "output_type": "stream",
     "text": [
      "The input looks more like a filename than markup. You may want to open this file and pass the filehandle into Beautiful Soup.\n"
     ]
    }
   ],
   "source": [
    "massive['cleaned'] = massive['reviewText'].apply(clean_text)"
   ]
  },
  {
   "cell_type": "code",
   "execution_count": 510,
   "id": "bfa0cac4-e74f-4cde-805e-acb888d1e3fa",
   "metadata": {},
   "outputs": [],
   "source": [
    "list_corpus = massive[\"cleaned\"].tolist()\n",
    "list_labels = massive[\"scoreSentiment\"].tolist()\n",
    "X_train, X_test, y_train, y_test = train_test_split(list_corpus, list_labels, test_size=0.2, random_state=40)\n",
    "train_vectors = tfidf_vectorizer.fit_transform(X_train)\n",
    "test_vectors = tfidf_vectorizer.transform(X_test)"
   ]
  },
  {
   "cell_type": "code",
   "execution_count": 514,
   "id": "c073211e-8d56-4a54-a619-1b0c31147c1f",
   "metadata": {},
   "outputs": [
    {
     "name": "stdout",
     "output_type": "stream",
     "text": [
      "accuracy = 0.7352293210494693\n"
     ]
    }
   ],
   "source": [
    "logreg = LogisticRegression(max_iter=5000, n_jobs=1, C=1e5)\n",
    "logreg.fit(train_vectors, y_train)\n",
    "pred = logreg.predict(test_vectors)\n",
    "print(f'accuracy = {accuracy_score(y_test, pred)}')"
   ]
  },
  {
   "cell_type": "code",
   "execution_count": 518,
   "id": "6d455940-e648-4227-a8bb-a9f43d06e7a1",
   "metadata": {},
   "outputs": [
    {
     "ename": "ValueError",
     "evalue": "invalid literal for int() with base 10: 'NEGATIVE'",
     "output_type": "error",
     "traceback": [
      "\u001b[1;31m---------------------------------------------------------------------------\u001b[0m",
      "\u001b[1;31mValueError\u001b[0m                                Traceback (most recent call last)",
      "\u001b[1;32m~\\AppData\\Local\\Temp\\ipykernel_19656\\1369163827.py\u001b[0m in \u001b[0;36m<module>\u001b[1;34m\u001b[0m\n\u001b[0;32m      5\u001b[0m \u001b[0midx\u001b[0m \u001b[1;33m=\u001b[0m \u001b[1;36m1877\u001b[0m\u001b[1;33m\u001b[0m\u001b[1;33m\u001b[0m\u001b[0m\n\u001b[0;32m      6\u001b[0m \u001b[0mpredicted_class\u001b[0m \u001b[1;33m=\u001b[0m \u001b[0mlogreg\u001b[0m\u001b[1;33m.\u001b[0m\u001b[0mpredict\u001b[0m\u001b[1;33m(\u001b[0m\u001b[0mtest_vectors\u001b[0m\u001b[1;33m[\u001b[0m\u001b[0midx\u001b[0m\u001b[1;33m]\u001b[0m\u001b[1;33m)\u001b[0m\u001b[1;33m.\u001b[0m\u001b[0mreshape\u001b[0m\u001b[1;33m(\u001b[0m\u001b[1;36m1\u001b[0m\u001b[1;33m,\u001b[0m \u001b[1;33m-\u001b[0m\u001b[1;36m1\u001b[0m\u001b[1;33m)\u001b[0m\u001b[1;33m[\u001b[0m\u001b[1;36m0\u001b[0m\u001b[1;33m,\u001b[0m \u001b[1;36m0\u001b[0m\u001b[1;33m]\u001b[0m\u001b[1;33m\u001b[0m\u001b[1;33m\u001b[0m\u001b[0m\n\u001b[1;32m----> 7\u001b[1;33m \u001b[0mpredicted_class_index\u001b[0m \u001b[1;33m=\u001b[0m \u001b[0mint\u001b[0m\u001b[1;33m(\u001b[0m\u001b[0mpredicted_class\u001b[0m\u001b[1;33m)\u001b[0m\u001b[1;33m\u001b[0m\u001b[1;33m\u001b[0m\u001b[0m\n\u001b[0m\u001b[0;32m      8\u001b[0m \u001b[0mexp\u001b[0m \u001b[1;33m=\u001b[0m \u001b[0mexplainer\u001b[0m\u001b[1;33m.\u001b[0m\u001b[0mexplain_instance\u001b[0m\u001b[1;33m(\u001b[0m\u001b[0mX_test\u001b[0m\u001b[1;33m[\u001b[0m\u001b[0midx\u001b[0m\u001b[1;33m]\u001b[0m\u001b[1;33m,\u001b[0m \u001b[0mc\u001b[0m\u001b[1;33m.\u001b[0m\u001b[0mpredict_proba\u001b[0m\u001b[1;33m,\u001b[0m \u001b[0mnum_features\u001b[0m\u001b[1;33m=\u001b[0m\u001b[1;36m6\u001b[0m\u001b[1;33m,\u001b[0m \u001b[0mlabels\u001b[0m\u001b[1;33m=\u001b[0m\u001b[1;33m[\u001b[0m\u001b[1;36m0\u001b[0m\u001b[1;33m,\u001b[0m \u001b[1;36m1\u001b[0m\u001b[1;33m]\u001b[0m\u001b[1;33m)\u001b[0m\u001b[1;33m\u001b[0m\u001b[1;33m\u001b[0m\u001b[0m\n\u001b[0;32m      9\u001b[0m \u001b[0mprint\u001b[0m\u001b[1;33m(\u001b[0m\u001b[1;34m'Document id: %d'\u001b[0m \u001b[1;33m%\u001b[0m \u001b[0midx\u001b[0m\u001b[1;33m)\u001b[0m\u001b[1;33m\u001b[0m\u001b[1;33m\u001b[0m\u001b[0m\n",
      "\u001b[1;31mValueError\u001b[0m: invalid literal for int() with base 10: 'NEGATIVE'"
     ]
    }
   ],
   "source": [
    "c = make_pipeline(tfidf_vectorizer, logreg)\n",
    "class_names=list(massive.scoreSentiment.unique())\n",
    "explainer = LimeTextExplainer(class_names=class_names)\n",
    "\n",
    "idx = 1877\n",
    "predicted_class = logreg.predict(test_vectors[idx]).reshape(1, -1)[0, 0]\n",
    "predicted_class_index = int(predicted_class)\n",
    "exp = explainer.explain_instance(X_test[idx], c.predict_proba, num_features=6, labels=[0, 1])\n",
    "print('Document id: %d' % idx)\n",
    "print('Predicted class =', class_names[predicted_class_index])\n",
    "print('True class: %s' % class_names[y_test[idx]])"
   ]
  },
  {
   "cell_type": "code",
   "execution_count": 519,
   "id": "636e4d46-f2a7-4e43-9494-b0595d69b366",
   "metadata": {},
   "outputs": [
    {
     "ename": "IndexError",
     "evalue": "only integers, slices (`:`), ellipsis (`...`), numpy.newaxis (`None`) and integer or boolean arrays are valid indices",
     "output_type": "error",
     "traceback": [
      "\u001b[1;31m---------------------------------------------------------------------------\u001b[0m",
      "\u001b[1;31mIndexError\u001b[0m                                Traceback (most recent call last)",
      "\u001b[1;32m~\\AppData\\Local\\Temp\\ipykernel_19656\\2187654178.py\u001b[0m in \u001b[0;36m<module>\u001b[1;34m\u001b[0m\n\u001b[0;32m      5\u001b[0m \u001b[0midx\u001b[0m \u001b[1;33m=\u001b[0m \u001b[1;36m1877\u001b[0m\u001b[1;33m\u001b[0m\u001b[1;33m\u001b[0m\u001b[0m\n\u001b[0;32m      6\u001b[0m \u001b[0mpredicted_class\u001b[0m \u001b[1;33m=\u001b[0m \u001b[0mlogreg\u001b[0m\u001b[1;33m.\u001b[0m\u001b[0mpredict\u001b[0m\u001b[1;33m(\u001b[0m\u001b[0mtest_vectors\u001b[0m\u001b[1;33m[\u001b[0m\u001b[0midx\u001b[0m\u001b[1;33m]\u001b[0m\u001b[1;33m)\u001b[0m\u001b[1;33m.\u001b[0m\u001b[0mreshape\u001b[0m\u001b[1;33m(\u001b[0m\u001b[1;36m1\u001b[0m\u001b[1;33m,\u001b[0m \u001b[1;33m-\u001b[0m\u001b[1;36m1\u001b[0m\u001b[1;33m)\u001b[0m\u001b[1;33m[\u001b[0m\u001b[1;36m0\u001b[0m\u001b[1;33m,\u001b[0m \u001b[1;36m0\u001b[0m\u001b[1;33m]\u001b[0m\u001b[1;33m\u001b[0m\u001b[1;33m\u001b[0m\u001b[0m\n\u001b[1;32m----> 7\u001b[1;33m \u001b[0mexp\u001b[0m \u001b[1;33m=\u001b[0m \u001b[0mexplainer\u001b[0m\u001b[1;33m.\u001b[0m\u001b[0mexplain_instance\u001b[0m\u001b[1;33m(\u001b[0m\u001b[0mX_test\u001b[0m\u001b[1;33m[\u001b[0m\u001b[0midx\u001b[0m\u001b[1;33m]\u001b[0m\u001b[1;33m,\u001b[0m \u001b[0mc\u001b[0m\u001b[1;33m.\u001b[0m\u001b[0mpredict_proba\u001b[0m\u001b[1;33m,\u001b[0m \u001b[0mnum_features\u001b[0m\u001b[1;33m=\u001b[0m\u001b[1;36m6\u001b[0m\u001b[1;33m,\u001b[0m \u001b[0mlabels\u001b[0m\u001b[1;33m=\u001b[0m\u001b[0mclass_names\u001b[0m\u001b[1;33m)\u001b[0m\u001b[1;33m\u001b[0m\u001b[1;33m\u001b[0m\u001b[0m\n\u001b[0m\u001b[0;32m      8\u001b[0m \u001b[0mprint\u001b[0m\u001b[1;33m(\u001b[0m\u001b[1;34m'Document id: %d'\u001b[0m \u001b[1;33m%\u001b[0m \u001b[0midx\u001b[0m\u001b[1;33m)\u001b[0m\u001b[1;33m\u001b[0m\u001b[1;33m\u001b[0m\u001b[0m\n\u001b[0;32m      9\u001b[0m \u001b[0mprint\u001b[0m\u001b[1;33m(\u001b[0m\u001b[1;34m'Predicted class ='\u001b[0m\u001b[1;33m,\u001b[0m \u001b[0mpredicted_class\u001b[0m\u001b[1;33m)\u001b[0m\u001b[1;33m\u001b[0m\u001b[1;33m\u001b[0m\u001b[0m\n",
      "\u001b[1;32m~\\anaconda3\\envs\\nlp\\lib\\site-packages\\lime\\lime_text.py\u001b[0m in \u001b[0;36mexplain_instance\u001b[1;34m(self, text_instance, classifier_fn, labels, top_labels, num_features, num_samples, distance_metric, model_regressor)\u001b[0m\n\u001b[0;32m    430\u001b[0m                 \u001b[0mdata\u001b[0m\u001b[1;33m,\u001b[0m \u001b[0myss\u001b[0m\u001b[1;33m,\u001b[0m \u001b[0mdistances\u001b[0m\u001b[1;33m,\u001b[0m \u001b[0mlabel\u001b[0m\u001b[1;33m,\u001b[0m \u001b[0mnum_features\u001b[0m\u001b[1;33m,\u001b[0m\u001b[1;33m\u001b[0m\u001b[1;33m\u001b[0m\u001b[0m\n\u001b[0;32m    431\u001b[0m                 \u001b[0mmodel_regressor\u001b[0m\u001b[1;33m=\u001b[0m\u001b[0mmodel_regressor\u001b[0m\u001b[1;33m,\u001b[0m\u001b[1;33m\u001b[0m\u001b[1;33m\u001b[0m\u001b[0m\n\u001b[1;32m--> 432\u001b[1;33m                 feature_selection=self.feature_selection)\n\u001b[0m\u001b[0;32m    433\u001b[0m         \u001b[1;32mreturn\u001b[0m \u001b[0mret_exp\u001b[0m\u001b[1;33m\u001b[0m\u001b[1;33m\u001b[0m\u001b[0m\n\u001b[0;32m    434\u001b[0m \u001b[1;33m\u001b[0m\u001b[0m\n",
      "\u001b[1;32m~\\anaconda3\\envs\\nlp\\lib\\site-packages\\lime\\lime_base.py\u001b[0m in \u001b[0;36mexplain_instance_with_data\u001b[1;34m(self, neighborhood_data, neighborhood_labels, distances, label, num_features, feature_selection, model_regressor)\u001b[0m\n\u001b[0;32m    180\u001b[0m \u001b[1;33m\u001b[0m\u001b[0m\n\u001b[0;32m    181\u001b[0m         \u001b[0mweights\u001b[0m \u001b[1;33m=\u001b[0m \u001b[0mself\u001b[0m\u001b[1;33m.\u001b[0m\u001b[0mkernel_fn\u001b[0m\u001b[1;33m(\u001b[0m\u001b[0mdistances\u001b[0m\u001b[1;33m)\u001b[0m\u001b[1;33m\u001b[0m\u001b[1;33m\u001b[0m\u001b[0m\n\u001b[1;32m--> 182\u001b[1;33m         \u001b[0mlabels_column\u001b[0m \u001b[1;33m=\u001b[0m \u001b[0mneighborhood_labels\u001b[0m\u001b[1;33m[\u001b[0m\u001b[1;33m:\u001b[0m\u001b[1;33m,\u001b[0m \u001b[0mlabel\u001b[0m\u001b[1;33m]\u001b[0m\u001b[1;33m\u001b[0m\u001b[1;33m\u001b[0m\u001b[0m\n\u001b[0m\u001b[0;32m    183\u001b[0m         used_features = self.feature_selection(neighborhood_data,\n\u001b[0;32m    184\u001b[0m                                                \u001b[0mlabels_column\u001b[0m\u001b[1;33m,\u001b[0m\u001b[1;33m\u001b[0m\u001b[1;33m\u001b[0m\u001b[0m\n",
      "\u001b[1;31mIndexError\u001b[0m: only integers, slices (`:`), ellipsis (`...`), numpy.newaxis (`None`) and integer or boolean arrays are valid indices"
     ]
    }
   ],
   "source": [
    "c = make_pipeline(tfidf_vectorizer, logreg)\n",
    "class_names = list(massive.scoreSentiment.unique())\n",
    "explainer = LimeTextExplainer(class_names=class_names)\n",
    "\n",
    "idx = 1877\n",
    "predicted_class = logreg.predict(test_vectors[idx]).reshape(1, -1)[0, 0]\n",
    "exp = explainer.explain_instance(X_test[idx], c.predict_proba, num_features=6, labels=class_names)\n",
    "print('Document id: %d' % idx)\n",
    "print('Predicted class =', predicted_class)\n",
    "print('True class: %s' % class_names[y_test[idx]])"
   ]
  },
  {
   "cell_type": "markdown",
   "id": "e882f3db-7620-4a56-9ba1-3108e5e89105",
   "metadata": {},
   "source": [
    "## SHAP and BERT"
   ]
  },
  {
   "cell_type": "code",
   "execution_count": 488,
   "id": "d1551d91-3f4f-474b-b955-183193bdc573",
   "metadata": {},
   "outputs": [],
   "source": [
    "explainer = shap.Explainer(model, X_v, feature_names=tfidf_vectorizer.get_feature_names_out())\n",
    "shap_values = explainer(X_v)"
   ]
  },
  {
   "cell_type": "code",
   "execution_count": 521,
   "id": "88397773-8661-425a-af1a-b617a1e3f76e",
   "metadata": {},
   "outputs": [
    {
     "data": {
      "text/plain": [
       "'dark gritty scifi thriller monkeys stand apart scifi film due unique twisted concept future mankind'"
      ]
     },
     "execution_count": 521,
     "metadata": {},
     "output_type": "execute_result"
    }
   ],
   "source": [
    "X[0]"
   ]
  },
  {
   "cell_type": "code",
   "execution_count": 490,
   "id": "1d157e91-10bf-455c-9184-19f909ecd46e",
   "metadata": {},
   "outputs": [
    {
     "data": {
      "text/html": [
       "\n",
       "<div id='iWL8NAYPX41WZW4U20EW4'>\n",
       "<div style='color: #900; text-align: center;'>\n",
       "  <b>Visualization omitted, Javascript library not loaded!</b><br>\n",
       "  Have you run `initjs()` in this notebook? If this notebook was from another\n",
       "  user you must also trust this notebook (File -> Trust notebook). If you are viewing\n",
       "  this notebook on github the Javascript has been stripped for security. If you are using\n",
       "  JupyterLab this error is because a JupyterLab extension has not yet been written.\n",
       "</div></div>\n",
       " <script>\n",
       "   if (window.SHAP) SHAP.ReactDom.render(\n",
       "    SHAP.React.createElement(SHAP.AdditiveForceVisualizer, {\"outNames\": [\"f(x)\"], \"baseValue\": 1.2698359252868805, \"outValue\": 2.119827680240306, \"link\": \"identity\", \"featureNames\": [\"aaron\", \"abandon\", \"abandoned\", \"ability\", \"able\", \"abrams\", \"absence\", \"absent\", \"absolute\", \"absolutely\", \"absorbing\", \"abstract\", \"absurd\", \"absurdist\", \"absurdity\", \"abundance\", \"abuse\", \"academy\", \"accent\", \"accept\", \"acceptance\", \"access\", \"accessible\", \"acclaimed\", \"accomplished\", \"accomplishes\", \"accomplishment\", \"account\", \"accurate\", \"achieve\", \"achieved\", \"achievement\", \"achieves\", \"achingly\", \"across\", \"act\", \"acted\", \"acting\", \"action\", \"actionadventure\", \"actioner\", \"actionpacked\", \"activist\", \"activity\", \"actor\", \"actress\", \"actual\", \"actually\", \"ad\", \"adam\", \"adams\", \"adaptation\", \"adapted\", \"add\", \"added\", \"addiction\", \"adding\", \"addition\", \"address\", \"adequate\", \"admirable\", \"admirably\", \"admire\", \"admission\", \"admit\", \"admittedly\", \"adolescence\", \"adolescent\", \"adorable\", \"adrenaline\", \"adult\", \"advance\", \"advantage\", \"adventure\", \"adventurous\", \"advice\", \"aesthetic\", \"affable\", \"affair\", \"affect\", \"affecting\", \"affection\", \"affectionate\", \"affleck\", \"afflecks\", \"aficionado\", \"afloat\", \"afraid\", \"africa\", \"african\", \"aftermath\", \"afternoon\", \"afterwards\", \"age\", \"aged\", \"agenda\", \"agent\", \"aggressively\", \"aging\", \"ago\", \"agony\", \"agree\", \"agreeable\", \"ahead\", \"aided\", \"aim\", \"aimed\", \"aiming\", \"aint\", \"air\", \"akin\", \"al\", \"alan\", \"alas\", \"albeit\", \"album\", \"alex\", \"alfred\", \"ali\", \"alice\", \"alien\", \"alike\", \"alist\", \"alive\", \"allegory\", \"allen\", \"allens\", \"allow\", \"allowed\", \"allowing\", \"allows\", \"allure\", \"almodvar\", \"almost\", \"alone\", \"along\", \"alongside\", \"already\", \"also\", \"alternate\", \"alternately\", \"alternative\", \"although\", \"altman\", \"altogether\", \"always\", \"amateur\", \"amateurish\", \"amazing\", \"amazingly\", \"ambiguity\", \"ambiguous\", \"ambition\", \"ambitious\", \"america\", \"american\", \"americans\", \"americas\", \"amiable\", \"amid\", \"amidst\", \"among\", \"amount\", \"amp\", \"ample\", \"amuse\", \"amused\", \"amusement\", \"amusing\", \"amy\", \"analysis\", \"anchor\", \"anchored\", \"ancient\", \"anderson\", \"andersons\", \"andrew\", \"andy\", \"angel\", \"angeles\", \"angels\", \"anger\", \"angle\", \"angry\", \"angst\", \"anguish\", \"animal\", \"animated\", \"animation\", \"anime\", \"anna\", \"anne\", \"annie\", \"annoying\", \"anonymous\", \"another\", \"answer\", \"anthology\", \"anthony\", \"antic\", \"anticipated\", \"antidote\", \"antihero\", \"antiwar\", \"antman\", \"anxiety\", \"anybody\", \"anymore\", \"anyone\", \"anything\", \"anyway\", \"anywhere\", \"ao\", \"apart\", \"apatow\", \"apes\", \"aplomb\", \"apocalypse\", \"apparent\", \"apparently\", \"appeal\", \"appealing\", \"appear\", \"appearance\", \"appears\", \"appetite\", \"appreciate\", \"appreciated\", \"appreciation\", \"approach\", \"appropriate\", \"appropriately\", \"apt\", \"aptly\", \"arc\", \"archival\", \"archive\", \"area\", \"arent\", \"arguably\", \"argue\", \"argument\", \"arm\", \"army\", \"around\", \"array\", \"arresting\", \"arrival\", \"arrives\", \"art\", \"artful\", \"artfully\", \"arthouse\", \"arthur\", \"artifice\", \"artificial\", \"artist\", \"artistic\", \"artistry\", \"arty\", \"asian\", \"aside\", \"ask\", \"asked\", \"asking\", \"asks\", \"aspect\", \"aspiration\", \"aspires\", \"assault\", \"assembled\", \"asset\", \"associated\", \"assured\", \"astonishing\", \"astonishingly\", \"astounding\", \"astute\", \"athlete\", \"atmosphere\", \"atmospheric\", \"attack\", \"attempt\", \"attempting\", \"attention\", \"attitude\", \"attraction\", \"attractive\", \"audacious\", \"audience\", \"aura\", \"austin\", \"australian\", \"auteur\", \"authentic\", \"authenticity\", \"author\", \"authority\", \"available\", \"avatar\", \"avengers\", \"average\", \"avoid\", \"avoiding\", \"avoids\", \"awake\", \"award\", \"aware\", \"awareness\", \"away\", \"awe\", \"aweinspiring\", \"awesome\", \"awful\", \"awfully\", \"awkward\", \"awkwardly\", \"baby\", \"back\", \"backdrop\", \"background\", \"backstory\", \"bad\", \"badly\", \"baffling\", \"bag\", \"balance\", \"balanced\", \"balancing\", \"bale\", \"ball\", \"ballet\", \"banal\", \"banality\", \"band\", \"bang\", \"bank\", \"banter\", \"bar\", \"bare\", \"barely\", \"barry\", \"barrymore\", \"base\", \"baseball\", \"based\", \"basic\", \"basically\", \"basis\", \"basketball\", \"batman\", \"battle\", \"bay\", \"beach\", \"bear\", \"beast\", \"beat\", \"beating\", \"beautiful\", \"beautifully\", \"beauty\", \"became\", \"become\", \"becomes\", \"becoming\", \"began\", \"begin\", \"beginning\", \"beguiling\", \"behavior\", \"behind\", \"behold\", \"belief\", \"believable\", \"believe\", \"believed\", \"bell\", \"belle\", \"belly\", \"belong\", \"belongs\", \"beloved\", \"belt\", \"ben\", \"beneath\", \"benefit\", \"berg\", \"besides\", \"besson\", \"best\", \"bet\", \"betrayal\", \"better\", \"beyond\", \"big\", \"bigbudget\", \"bigger\", \"biggest\", \"bigscreen\", \"bill\", \"billy\", \"biography\", \"biopic\", \"biopics\", \"bird\", \"birds\", \"birth\", \"bit\", \"bite\", \"biting\", \"bitter\", \"bittersweet\", \"bizarre\", \"black\", \"blackandwhite\", \"blade\", \"blair\", \"blame\", \"blanchett\", \"bland\", \"blank\", \"blast\", \"blatant\", \"bleak\", \"blend\", \"blending\", \"blessed\", \"blind\", \"bloated\", \"block\", \"blockbuster\", \"blonde\", \"blood\", \"bloody\", \"bloom\", \"blow\", \"blue\", \"blunt\", \"blur\", \"bluray\", \"bmovie\", \"board\", \"boast\", \"boasting\", \"bob\", \"bodies\", \"body\", \"bogged\", \"boil\", \"bold\", \"boldly\", \"bollywood\", \"bolstered\", \"bomb\", \"bombastic\", \"bond\", \"bone\", \"bong\", \"bonkers\", \"book\", \"boot\", \"border\", \"borderline\", \"bore\", \"bored\", \"boredom\", \"boring\", \"born\", \"bother\", \"bottle\", \"bottom\", \"bounce\", \"bound\", \"boundary\", \"bourne\", \"bow\", \"box\", \"boxing\", \"boy\", \"boyle\", \"boys\", \"bracing\", \"brad\", \"brain\", \"branagh\", \"brand\", \"brash\", \"brave\", \"bravery\", \"bravura\", \"break\", \"breaking\", \"breakthrough\", \"breath\", \"breathe\", \"breathes\", \"breathless\", \"breathtaking\", \"breezy\", \"brian\", \"bridge\", \"bridges\", \"brief\", \"bright\", \"brilliance\", \"brilliant\", \"brilliantly\", \"brimming\", \"bring\", \"bringing\", \"brings\", \"brisk\", \"british\", \"broad\", \"broader\", \"broadway\", \"broken\", \"brooding\", \"brooklyn\", \"brooks\", \"brother\", \"brothers\", \"brought\", \"brown\", \"bruce\", \"brutal\", \"brutality\", \"brutally\", \"bubble\", \"buck\", \"bucket\", \"buddy\", \"budget\", \"buff\", \"build\", \"building\", \"built\", \"bull\", \"bullet\", \"bullock\", \"bump\", \"bunch\", \"buoyed\", \"burden\", \"buried\", \"burn\", \"burning\", \"burst\", \"bursting\", \"burton\", \"burtons\", \"bush\", \"business\", \"busy\", \"button\", \"buy\", \"buzz\", \"bythenumbers\", \"cable\", \"cage\", \"caine\", \"cake\", \"calculated\", \"call\", \"called\", \"calling\", \"calm\", \"camaraderie\", \"came\", \"cameo\", \"camera\", \"camerawork\", \"cameron\", \"camp\", \"campaign\", \"campy\", \"canadian\", \"candid\", \"candy\", \"cannes\", \"canon\", \"cant\", \"canvas\", \"capable\", \"capacity\", \"caper\", \"capital\", \"capitalism\", \"capsule\", \"captain\", \"captivating\", \"capture\", \"captured\", \"capturing\", \"car\", \"card\", \"care\", \"career\", \"careful\", \"carefully\", \"carell\", \"caricature\", \"caring\", \"carnage\", \"carrey\", \"carried\", \"carry\", \"carrying\", \"cars\", \"carter\", \"cartoon\", \"cartoonish\", \"case\", \"cash\", \"cast\", \"casting\", \"casual\", \"cat\", \"catch\", \"catching\", \"catchy\", \"category\", \"catharsis\", \"cathartic\", \"catholic\", \"caught\", \"cause\", \"caustic\", \"cautionary\", \"celebrate\", \"celebrated\", \"celebrates\", \"celebrating\", \"celebration\", \"celebrity\", \"cell\", \"celluloid\", \"cement\", \"center\", \"central\", \"centre\", \"century\", \"cerebral\", \"certain\", \"certainly\", \"cgi\", \"challenge\", \"challenging\", \"chamber\", \"champion\", \"chan\", \"chance\", \"change\", \"changed\", \"changing\", \"channel\", \"chaos\", \"chaotic\", \"chapter\", \"character\", \"characterdriven\", \"characterization\", \"charge\", \"charged\", \"charisma\", \"charismatic\", \"charles\", \"charlie\", \"charm\", \"charmer\", \"charming\", \"charmingly\", \"chase\", \"chasing\", \"chastain\", \"cheap\", \"check\", \"checking\", \"cheeky\", \"cheer\", \"cheerful\", \"cheese\", \"cheesy\", \"chef\", \"chemistry\", \"chest\", \"chew\", \"chicago\", \"chick\", \"child\", \"childhood\", \"childish\", \"children\", \"childrens\", \"chill\", \"chiller\", \"chilling\", \"chilly\", \"china\", \"chinese\", \"choice\", \"choose\", \"chop\", \"chord\", \"choreographed\", \"choreography\", \"chosen\", \"chris\", \"christian\", \"christmas\", \"christopher\", \"chronicle\", \"chuckle\", \"church\", \"cinderella\", \"cinema\", \"cinematic\", \"cinematically\", \"cinematographer\", \"cinematography\", \"circle\", \"circumstance\", \"citizen\", \"city\", \"civil\", \"civilization\", \"claim\", \"clarity\", \"clash\", \"class\", \"classic\", \"classical\", \"classy\", \"claustrophobic\", \"clean\", \"clear\", \"cleareyed\", \"clearly\", \"clever\", \"cleverly\", \"cleverness\", \"clich\", \"clichd\", \"cliche\", \"clichs\", \"click\", \"climactic\", \"climate\", \"climax\", \"clint\", \"clip\", \"clock\", \"clooney\", \"close\", \"closely\", \"closer\", \"closest\", \"closeup\", \"closing\", \"clothes\", \"cloud\", \"clown\", \"cloying\", \"club\", \"clue\", \"clueless\", \"clumsy\", \"clunky\", \"coast\", \"cocktail\", \"coda\", \"code\", \"coen\", \"coens\", \"cohen\", \"coherence\", \"coherent\", \"cohesive\", \"cold\", \"colin\", \"collaboration\", \"collaborator\", \"collapse\", \"collection\", \"collective\", \"college\", \"color\", \"colorful\", \"colour\", \"colourful\", \"com\", \"combat\", \"combination\", \"combine\", \"combined\", \"combining\", \"come\", \"comeback\", \"comedian\", \"comedic\", \"comedy\", \"comedydrama\", \"comes\", \"comfort\", \"comfortable\", \"comfortably\", \"comforting\", \"comic\", \"comical\", \"comicbook\", \"coming\", \"comingofage\", \"command\", \"commanding\", \"commendable\", \"comment\", \"commentary\", \"commercial\", \"commitment\", \"committed\", \"common\", \"community\", \"como\", \"companion\", \"company\", \"compared\", \"comparison\", \"compassion\", \"compassionate\", \"compelling\", \"compensate\", \"competent\", \"competently\", \"competition\", \"complete\", \"completely\", \"complex\", \"complexity\", \"complicated\", \"compliment\", \"composed\", \"composition\", \"comprehensive\", \"compromise\", \"computer\", \"computergenerated\", \"con\", \"conceit\", \"conceived\", \"concept\", \"conception\", \"concern\", \"concerned\", \"concert\", \"conclusion\", \"condition\", \"confection\", \"confidence\", \"confident\", \"confines\", \"confirms\", \"conflict\", \"conflicted\", \"confront\", \"confrontation\", \"confused\", \"confusing\", \"confusion\", \"conjuring\", \"connect\", \"connected\", \"connection\", \"connects\", \"conscience\", \"consciousness\", \"consequence\", \"consider\", \"considerable\", \"considerably\", \"consideration\", \"considered\", \"considering\", \"consistent\", \"consistently\", \"conspiracy\", \"constant\", \"constantly\", \"construct\", \"constructed\", \"construction\", \"contained\", \"contains\", \"contemplative\", \"contemporary\", \"contempt\", \"contender\", \"content\", \"context\", \"continually\", \"continue\", \"continues\", \"contradiction\", \"contrast\", \"contribution\", \"contrivance\", \"contrived\", \"control\", \"controlled\", \"controversial\", \"controversy\", \"convention\", \"conventional\", \"conversation\", \"convey\", \"conveying\", \"conveys\", \"conviction\", \"convince\", \"convinced\", \"convincing\", \"convincingly\", \"convoluted\", \"cool\", \"cooper\", \"cop\", \"coppola\", \"coppolas\", \"copy\", \"core\", \"corner\", \"corny\", \"corporate\", \"corrupt\", \"corruption\", \"cosmic\", \"cost\", \"costar\", \"costner\", \"costume\", \"could\", \"couldnt\", \"couldve\", \"count\", \"counterpart\", \"countless\", \"country\", \"couple\", \"coupled\", \"courage\", \"courageous\", \"course\", \"court\", \"courtroom\", \"cover\", \"covered\", \"cowboy\", \"cowriter\", \"crack\", \"craft\", \"crafted\", \"crafting\", \"craftsmanship\", \"craig\", \"crash\", \"crass\", \"crawl\", \"crazy\", \"create\", \"created\", \"creates\", \"creating\", \"creation\", \"creative\", \"creativity\", \"creator\", \"creature\", \"credibility\", \"credible\", \"credit\", \"creed\", \"creep\", \"creepy\", \"crew\", \"crime\", \"criminal\", \"crisis\", \"crisp\", \"critic\", \"critical\", \"criticism\", \"critique\", \"cronenberg\", \"cross\", \"crowd\", \"crowdpleaser\", \"crowdpleasing\", \"crowe\", \"crucial\", \"crude\", \"cruel\", \"cruelty\", \"cruise\", \"cry\", \"cue\", \"cult\", \"cultural\", \"culture\", \"cup\", \"curiosity\", \"curious\", \"curiously\", \"current\", \"currently\", \"curse\", \"curtain\", \"curtis\", \"cusack\", \"cut\", \"cute\", \"cutting\", \"cycle\", \"cynical\", \"cynicism\", \"da\", \"dad\", \"dafoe\", \"daily\", \"damage\", \"damaged\", \"damn\", \"damned\", \"damon\", \"dan\", \"dance\", \"dancing\", \"danger\", \"dangerous\", \"daniel\", \"danish\", \"danny\", \"dare\", \"daring\", \"dark\", \"darker\", \"darkest\", \"darkly\", \"darkness\", \"darn\", \"dash\", \"date\", \"dated\", \"dating\", \"daughter\", \"david\", \"davis\", \"dawn\", \"day\", \"days\", \"dazzle\", \"dazzling\", \"dc\", \"de\", \"dead\", \"deadly\", \"deadpan\", \"deadpool\", \"deal\", \"dealing\", \"dean\", \"dear\", \"death\", \"debate\", \"debt\", \"debut\", \"decade\", \"decent\", \"deceptively\", \"decide\", \"decided\", \"decidedly\", \"decision\", \"dedicated\", \"dedication\", \"deep\", \"deeper\", \"deeply\", \"define\", \"defined\", \"definite\", \"definitely\", \"definition\", \"definitive\", \"deft\", \"deftly\", \"degree\", \"del\", \"delf\", \"deliberate\", \"deliberately\", \"delicate\", \"delicately\", \"delicious\", \"deliciously\", \"delight\", \"delightful\", \"delightfully\", \"delirious\", \"deliver\", \"delivered\", \"delivering\", \"delivers\", \"delivery\", \"demand\", \"demanding\", \"demographic\", \"demon\", \"demonstrates\", \"dense\", \"deny\", \"denying\", \"denzel\", \"department\", \"depending\", \"depends\", \"depicted\", \"depicting\", \"depiction\", \"depicts\", \"depp\", \"depressing\", \"depression\", \"depth\", \"derivative\", \"descent\", \"describe\", \"described\", \"desert\", \"deserve\", \"deserved\", \"deserves\", \"deserving\", \"design\", \"designed\", \"desire\", \"desired\", \"despair\", \"desperate\", \"desperately\", \"desperation\", \"despicable\", \"despite\", \"destination\", \"destined\", \"destiny\", \"destruction\", \"detail\", \"detailed\", \"detective\", \"determination\", \"determined\", \"detour\", \"devastating\", \"develop\", \"developed\", \"development\", \"develops\", \"device\", \"devil\", \"devoid\", \"devoted\", \"devotion\", \"dialogue\", \"diary\", \"dicaprio\", \"dick\", \"didactic\", \"didnt\", \"die\", \"died\", \"diehard\", \"difference\", \"different\", \"difficult\", \"difficulty\", \"dig\", \"digital\", \"dignity\", \"dilemma\", \"dimension\", \"dinner\", \"dinosaur\", \"dire\", \"direct\", \"directed\", \"directing\", \"direction\", \"directly\", \"director\", \"directorial\", \"directs\", \"dirty\", \"disappoint\", \"disappointed\", \"disappointing\", \"disappointingly\", \"disappointment\", \"disarming\", \"disaster\", \"disbelief\", \"discover\", \"discovery\", \"discussion\", \"disease\", \"disguise\", \"disguised\", \"disgusting\", \"dish\", \"disjointed\", \"dislike\", \"dismiss\", \"disney\", \"disneys\", \"disparate\", \"display\", \"disposable\", \"distance\", \"distant\", \"distinct\", \"distinctive\", \"distinctly\", \"distinguished\", \"distract\", \"distracting\", \"distraction\", \"disturbing\", \"dive\", \"diverse\", \"diversion\", \"diverting\", \"divide\", \"dizzying\", \"doc\", \"doctor\", \"docu\", \"document\", \"documentary\", \"doe\", \"doesnapost\", \"doesnt\", \"dog\", \"dogs\", \"doll\", \"dollar\", \"domestic\", \"done\", \"dont\", \"doom\", \"doomed\", \"door\", \"dose\", \"double\", \"doubt\", \"douglas\", \"dour\", \"downbeat\", \"downey\", \"downright\", \"dozen\", \"dr\", \"drab\", \"draft\", \"drag\", \"dragon\", \"drama\", \"dramatic\", \"dramatically\", \"dramedy\", \"draw\", \"drawing\", \"drawn\", \"dread\", \"dreadful\", \"dream\", \"dreamlike\", \"dreamworks\", \"dreamy\", \"dreary\", \"dress\", \"dressed\", \"drew\", \"drift\", \"drinking\", \"drive\", \"driven\", \"driver\", \"driving\", \"droll\", \"drop\", \"drug\", \"drunk\", \"dry\", \"dubious\", \"dud\", \"dude\", \"due\", \"duel\", \"dull\", \"dumb\", \"dune\", \"duo\", \"dust\", \"duty\", \"dvd\", \"dying\", \"dynamic\", \"dynamite\", \"dysfunctional\", \"dystopian\", \"eager\", \"ear\", \"earlier\", \"early\", \"earn\", \"earned\", \"earnest\", \"earnestness\", \"earns\", \"earth\", \"ease\", \"easier\", \"easily\", \"east\", \"eastwood\", \"eastwoods\", \"easy\", \"eat\", \"eating\", \"eccentric\", \"eccentricity\", \"echo\", \"economic\", \"economy\", \"ed\", \"eddie\", \"edgar\", \"edge\", \"edgy\", \"edited\", \"editing\", \"editor\", \"education\", \"educational\", \"edward\", \"eerie\", \"effect\", \"effective\", \"effectively\", \"efficient\", \"effort\", \"effortless\", \"effortlessly\", \"ego\", \"eight\", \"either\", \"el\", \"elaborate\", \"election\", \"electric\", \"electrifying\", \"elegance\", \"elegant\", \"elegantly\", \"element\", \"elephant\", \"elevate\", \"elevated\", \"elevates\", \"elicit\", \"elizabeth\", \"eloquent\", \"else\", \"elsewhere\", \"elusive\", \"elvis\", \"em\", \"embarrassing\", \"embrace\", \"embracing\", \"emerge\", \"emerges\", \"emerging\", \"emily\", \"emma\", \"emmerich\", \"emotion\", \"emotional\", \"emotionally\", \"empathetic\", \"empathy\", \"emphasis\", \"empire\", \"employ\", \"empowering\", \"empowerment\", \"empty\", \"en\", \"enchanting\", \"encounter\", \"end\", \"endearing\", \"endeavor\", \"ended\", \"ending\", \"endless\", \"endlessly\", \"endurance\", \"endure\", \"enduring\", \"enemy\", \"energetic\", \"energy\", \"engage\", \"engaged\", \"engagement\", \"engages\", \"engaging\", \"england\", \"english\", \"engrossing\", \"enhanced\", \"enigmatic\", \"enjoy\", \"enjoyable\", \"enjoyably\", \"enjoyed\", \"enjoying\", \"enjoyment\", \"enlightening\", \"enormous\", \"enormously\", \"enough\", \"ensemble\", \"ensure\", \"ensures\", \"enterprise\", \"entertain\", \"entertained\", \"entertaining\", \"entertainingly\", \"entertainment\", \"entertains\", \"enthralling\", \"enthusiasm\", \"enthusiastic\", \"entire\", \"entirely\", \"entry\", \"environment\", \"epic\", \"episode\", \"episodic\", \"equal\", \"equally\", \"equivalent\", \"era\", \"eric\", \"erotic\", \"erratic\", \"escape\", \"escapism\", \"escapist\", \"especially\", \"espionage\", \"essay\", \"essence\", \"essential\", \"essentially\", \"establish\", \"established\", \"establishes\", \"et\", \"etc\", \"eternal\", \"ethic\", \"ethical\", \"ethnic\", \"european\", \"even\", \"evening\", \"event\", \"eventually\", \"ever\", \"every\", \"everybody\", \"everyday\", \"everyone\", \"everyones\", \"everything\", \"everywhere\", \"evidence\", \"evident\", \"evil\", \"evocation\", \"evocative\", \"evoke\", \"evokes\", \"evolution\", \"exactly\", \"examination\", \"examines\", \"example\", \"exceedingly\", \"excellence\", \"excellent\", \"excels\", \"except\", \"exception\", \"exceptional\", \"exceptionally\", \"excess\", \"excessive\", \"exchange\", \"excited\", \"excitement\", \"exciting\", \"excruciating\", \"excuse\", \"executed\", \"execution\", \"exercise\", \"exhausting\", \"exhibit\", \"exhilarating\", \"exist\", \"existence\", \"existential\", \"exists\", \"exit\", \"exotic\", \"expands\", \"expect\", \"expectation\", \"expected\", \"expecting\", \"expense\", \"expensive\", \"experience\", \"experienced\", \"experiment\", \"experimental\", \"expert\", \"expertly\", \"explain\", \"explanation\", \"explicit\", \"exploit\", \"exploitation\", \"exploitative\", \"exploration\", \"explore\", \"explored\", \"explores\", \"exploring\", \"explosion\", \"explosive\", \"expo\", \"expose\", \"exposition\", \"express\", \"expression\", \"expressive\", \"exquisite\", \"exquisitely\", \"extended\", \"extension\", \"extent\", \"extra\", \"extraordinary\", \"extravagant\", \"extravaganza\", \"extreme\", \"extremely\", \"exuberance\", \"exuberant\", \"eye\", \"eyeopening\", \"eyepopping\", \"eyes\", \"fable\", \"fabulous\", \"face\", \"faced\", \"fact\", \"factor\", \"factory\", \"fade\", \"fail\", \"failed\", \"failing\", \"fails\", \"failure\", \"faint\", \"fair\", \"fairly\", \"fairy\", \"fairytale\", \"faith\", \"faithful\", \"fake\", \"fall\", \"fallen\", \"falling\", \"false\", \"falter\", \"fame\", \"familial\", \"familiar\", \"familiarity\", \"family\", \"familyfriendly\", \"famous\", \"fan\", \"fanciful\", \"fancy\", \"fans\", \"fantastic\", \"fantastical\", \"fantasy\", \"far\", \"farce\", \"farcical\", \"fare\", \"farewell\", \"farfetched\", \"fascinated\", \"fascinating\", \"fascination\", \"fashion\", \"fashioned\", \"fast\", \"faster\", \"fastpaced\", \"fat\", \"fatal\", \"fate\", \"father\", \"fault\", \"favor\", \"favorite\", \"fear\", \"fearless\", \"feast\", \"feat\", \"feature\", \"featurelength\", \"features\", \"featuring\", \"feel\", \"feelgood\", \"feeling\", \"feels\", \"fell\", \"fellow\", \"felt\", \"female\", \"feminist\", \"ferocious\", \"ferrell\", \"fest\", \"festival\", \"fever\", \"fewer\", \"fey\", \"fiction\", \"fictional\", \"field\", \"fiennes\", \"fierce\", \"fiercely\", \"fiery\", \"fifth\", \"fight\", \"fighter\", \"fighting\", \"figure\", \"fill\", \"filled\", \"filling\", \"film\", \"filme\", \"filmed\", \"filming\", \"filmmaker\", \"filmmaking\", \"films\", \"final\", \"finale\", \"finally\", \"financial\", \"fincher\", \"find\", \"finding\", \"fine\", \"finely\", \"finest\", \"finger\", \"finish\", \"finished\", \"fire\", \"firm\", \"firmly\", \"first\", \"firstrate\", \"firsttime\", \"fish\", \"fit\", \"fitting\", \"five\", \"fix\", \"flag\", \"flair\", \"flash\", \"flashback\", \"flashy\", \"flat\", \"flatout\", \"flavor\", \"flaw\", \"flawed\", \"flawless\", \"fleeting\", \"flesh\", \"flick\", \"flight\", \"flimsy\", \"floor\", \"flourish\", \"flow\", \"fluff\", \"fluid\", \"fly\", \"flying\", \"focus\", \"focused\", \"focusing\", \"fodder\", \"fog\", \"folk\", \"follow\", \"followed\", \"following\", \"follows\", \"followup\", \"folly\", \"fond\", \"food\", \"fool\", \"foot\", \"footage\", \"football\", \"foray\", \"force\", \"forced\", \"ford\", \"foreign\", \"forest\", \"forever\", \"forget\", \"forgets\", \"forgettable\", \"forgive\", \"forgiveness\", \"forgotten\", \"form\", \"formal\", \"format\", \"former\", \"formidable\", \"formula\", \"formulaic\", \"forth\", \"fortunately\", \"fortune\", \"forward\", \"foster\", \"found\", \"foundation\", \"four\", \"fourth\", \"fox\", \"fractured\", \"fragile\", \"frame\", \"framed\", \"framing\", \"frances\", \"franchise\", \"francisco\", \"franco\", \"frank\", \"frankly\", \"frantic\", \"fred\", \"free\", \"freedom\", \"freeman\", \"french\", \"frenetic\", \"frequent\", \"frequently\", \"fresh\", \"freshness\", \"friday\", \"friend\", \"friendly\", \"friendship\", \"fright\", \"frightening\", \"front\", \"frontier\", \"frothy\", \"frozen\", \"frustrated\", \"frustrating\", \"frustratingly\", \"frustration\", \"fu\", \"fuel\", \"full\", \"fully\", \"fun\", \"function\", \"fundamental\", \"fundamentally\", \"funnier\", \"funniest\", \"funny\", \"furious\", \"fury\", \"future\", \"futuristic\", \"fuzzy\", \"gag\", \"gain\", \"galaxy\", \"game\", \"games\", \"gang\", \"gangster\", \"gap\", \"garden\", \"gary\", \"gas\", \"gave\", \"gay\", \"gaze\", \"gear\", \"geek\", \"gem\", \"gender\", \"general\", \"generally\", \"generate\", \"generates\", \"generation\", \"generic\", \"generous\", \"genius\", \"genre\", \"gentle\", \"gently\", \"genuine\", \"genuinely\", \"george\", \"german\", \"gesture\", \"get\", \"getting\", \"ghost\", \"giant\", \"gibson\", \"giddy\", \"gift\", \"gifted\", \"giggle\", \"gimmick\", \"gimmicky\", \"girl\", \"girls\", \"give\", \"given\", \"giving\", \"glad\", \"glass\", \"glee\", \"gleeful\", \"gleefully\", \"glib\", \"glimpse\", \"global\", \"gloomy\", \"glorious\", \"gloriously\", \"glory\", \"gloss\", \"glossy\", \"glow\", \"go\", \"goal\", \"god\", \"godfather\", \"gods\", \"godzilla\", \"goes\", \"going\", \"gold\", \"golden\", \"gone\", \"gonzo\", \"good\", \"goodbye\", \"goodlooking\", \"goodnatured\", \"goodness\", \"goofy\", \"gordon\", \"gore\", \"gorgeous\", \"gorgeously\", \"gory\", \"gosling\", \"got\", \"gothic\", \"gotten\", \"government\", \"grab\", \"grace\", \"graceful\", \"grade\", \"gradually\", \"grand\", \"grandeur\", \"grant\", \"granted\", \"graphic\", \"grasp\", \"gratuitous\", \"grave\", \"gravitas\", \"gravity\", \"gray\", \"great\", \"greater\", \"greatest\", \"greatly\", \"greatness\", \"greed\", \"greek\", \"green\", \"grew\", \"grey\", \"grief\", \"grim\", \"grindhouse\", \"grip\", \"gripping\", \"grisly\", \"grit\", \"gritty\", \"groove\", \"gross\", \"grossout\", \"grotesque\", \"ground\", \"groundbreaking\", \"grounded\", \"group\", \"grow\", \"growing\", \"grown\", \"grownup\", \"grows\", \"growth\", \"gruesome\", \"guarantee\", \"guaranteed\", \"guard\", \"guardians\", \"guess\", \"guessing\", \"guest\", \"guide\", \"guillermo\", \"guilt\", \"guilty\", \"guitar\", \"gun\", \"gut\", \"guy\", \"guys\", \"gyllenhaal\", \"ha\", \"hackneyed\", \"hadnt\", \"hair\", \"half\", \"halfbaked\", \"halfway\", \"hall\", \"hallmark\", \"halloween\", \"hamilton\", \"hammer\", \"hand\", \"handful\", \"handle\", \"handled\", \"handling\", \"handsome\", \"handsomely\", \"haneke\", \"hang\", \"hanging\", \"hangover\", \"hanks\", \"happen\", \"happened\", \"happening\", \"happens\", \"happily\", \"happiness\", \"happy\", \"hard\", \"hardcore\", \"harder\", \"hardhitting\", \"hardly\", \"hardy\", \"harmless\", \"harmony\", \"harrelson\", \"harris\", \"harrison\", \"harrowing\", \"harry\", \"harsh\", \"hart\", \"harvey\", \"hasnt\", \"hat\", \"hate\", \"haunted\", \"haunting\", \"havent\", \"head\", \"headed\", \"headline\", \"heady\", \"healing\", \"health\", \"healthy\", \"hear\", \"heard\", \"hearing\", \"heart\", \"heartbreak\", \"heartbreaking\", \"heartfelt\", \"hearts\", \"heartstrings\", \"heartwarming\", \"heat\", \"heaven\", \"heavily\", \"heavy\", \"heavyhanded\", \"heck\", \"hed\", \"heft\", \"height\", \"heightened\", \"heist\", \"held\", \"helen\", \"hell\", \"help\", \"helped\", \"helping\", \"henry\", \"heres\", \"hero\", \"heroic\", \"heroine\", \"heroism\", \"herzog\", \"hes\", \"hey\", \"hidden\", \"hide\", \"hiding\", \"high\", \"highconcept\", \"higher\", \"highest\", \"highlight\", \"highly\", \"hilarious\", \"hilariously\", \"hilarity\", \"hill\", \"hills\", \"hint\", \"hip\", \"historic\", \"historical\", \"history\", \"hit\", \"hitchcock\", \"hitchcocks\", \"hitting\", \"hoffman\", \"hokey\", \"hokum\", \"hold\", \"holding\", \"hole\", \"holiday\", \"holland\", \"hollow\", \"hollywood\", \"hollywoods\", \"holmes\", \"holocaust\", \"holy\", \"homage\", \"home\", \"honest\", \"honestly\", \"honesty\", \"hong\", \"honor\", \"hood\", \"hook\", \"hoot\", \"hope\", \"hoped\", \"hopeful\", \"hopefully\", \"hopelessly\", \"hoping\", \"hopkins\", \"horrible\", \"horrific\", \"horrifying\", \"horror\", \"horse\", \"host\", \"hot\", \"hotel\", \"hour\", \"house\", \"howard\", \"however\", \"hudson\", \"huge\", \"hugely\", \"hugh\", \"hughes\", \"human\", \"humane\", \"humanity\", \"humor\", \"humorous\", \"humour\", \"hundred\", \"hunger\", \"hunt\", \"hunter\", \"hurt\", \"husband\", \"hustle\", \"hybrid\", \"hype\", \"hypnotic\", \"hypocrisy\", \"hysterical\", \"ian\", \"ice\", \"icon\", \"iconic\", \"id\", \"idea\", \"ideal\", \"identity\", \"idiosyncratic\", \"idiot\", \"idiotic\", \"ignore\", \"ignored\", \"ii\", \"iii\", \"ill\", \"illness\", \"illuminating\", \"illusion\", \"illustrates\", \"im\", \"image\", \"imagery\", \"imaginable\", \"imagination\", \"imaginative\", \"imagine\", \"imagined\", \"imax\", \"imitation\", \"immediacy\", \"immediate\", \"immediately\", \"immense\", \"immensely\", \"immersive\", \"immigrant\", \"impact\", \"impassioned\", \"impeccable\", \"impeccably\", \"imperfect\", \"implausible\", \"implication\", \"importance\", \"important\", \"importantly\", \"impossible\", \"impress\", \"impressed\", \"impression\", \"impressive\", \"impressively\", \"improbable\", \"improvement\", \"improves\", \"impulse\", \"inability\", \"inch\", \"incident\", \"incisive\", \"include\", \"includes\", \"including\", \"incoherent\", \"incomprehensible\", \"inconsequential\", \"inconsistent\", \"increasingly\", \"incredible\", \"incredibly\", \"indeed\", \"indelible\", \"independence\", \"independent\", \"india\", \"indian\", \"indictment\", \"indie\", \"individual\", \"indulgent\", \"industry\", \"inept\", \"inert\", \"inevitable\", \"inevitably\", \"infectious\", \"inferior\", \"influence\", \"influential\", \"information\", \"informative\", \"infuriating\", \"infused\", \"ingenious\", \"ingenuity\", \"ingredient\", \"inhabit\", \"inherent\", \"inherently\", \"initial\", \"initially\", \"injustice\", \"inner\", \"innocence\", \"innocent\", \"innovation\", \"innovative\", \"insane\", \"insanely\", \"insanity\", \"inside\", \"insidious\", \"insight\", \"insightful\", \"inspiration\", \"inspirational\", \"inspire\", \"inspired\", \"inspires\", \"inspiring\", \"installment\", \"instance\", \"instant\", \"instantly\", \"instead\", \"instinct\", \"institution\", \"insult\", \"intact\", \"integrity\", \"intellectual\", \"intellectually\", \"intelligence\", \"intelligent\", \"intelligently\", \"intended\", \"intense\", \"intensely\", \"intensity\", \"intent\", \"intention\", \"interaction\", \"interest\", \"interested\", \"interesting\", \"interior\", \"intermittently\", \"internal\", \"international\", \"internet\", \"interpretation\", \"interview\", \"intimacy\", \"intimate\", \"intoxicating\", \"intricate\", \"intrigue\", \"intriguing\", \"introduces\", \"introduction\", \"invasion\", \"invention\", \"inventive\", \"invested\", \"investigation\", \"investigative\", \"investment\", \"invigorating\", \"invisible\", \"invite\", \"involved\", \"involves\", \"involving\", \"iranian\", \"iraq\", \"irish\", \"iron\", \"ironic\", \"irony\", \"irresistible\", \"irreverent\", \"irritating\", \"island\", \"isnt\", \"isolation\", \"israeli\", \"issue\", \"italian\", \"itaposs\", \"itll\", \"ive\", \"jack\", \"jackie\", \"jackman\", \"jackson\", \"jacksons\", \"jake\", \"james\", \"jamie\", \"jane\", \"japanese\", \"jarring\", \"jason\", \"jawdropping\", \"jazz\", \"jean\", \"jeff\", \"jenkins\", \"jennifer\", \"jerry\", \"jesse\", \"jessica\", \"jesus\", \"jewish\", \"jim\", \"jimmy\", \"joan\", \"job\", \"jobs\", \"joe\", \"joel\", \"john\", \"johnny\", \"johnson\", \"join\", \"joke\", \"joker\", \"jolie\", \"jolt\", \"jon\", \"jonathan\", \"jones\", \"jordan\", \"joseph\", \"josh\", \"journalism\", \"journalist\", \"journey\", \"joy\", \"joyful\", \"joyous\", \"jr\", \"judd\", \"judge\", \"judgment\", \"judy\", \"juicy\", \"julia\", \"julie\", \"jump\", \"jungle\", \"junk\", \"junky\", \"jurassic\", \"justice\", \"justify\", \"juvenile\", \"kate\", \"keaton\", \"keen\", \"keep\", \"keeping\", \"kelly\", \"ken\", \"kept\", \"kevin\", \"key\", \"kick\", \"kickass\", \"kicking\", \"kid\", \"kidman\", \"kids\", \"kill\", \"killed\", \"killer\", \"killing\", \"kim\", \"kind\", \"kinda\", \"kindness\", \"kinetic\", \"king\", \"kingdom\", \"kings\", \"kiss\", \"kitchen\", \"knack\", \"knew\", \"knife\", \"knight\", \"knock\", \"knockoff\", \"knockout\", \"know\", \"knowing\", \"knowledge\", \"known\", \"kong\", \"korean\", \"kristen\", \"kubrick\", \"kudos\", \"kung\", \"la\", \"labor\", \"laced\", \"lack\", \"lacking\", \"lackluster\", \"lady\", \"laid\", \"lame\", \"land\", \"landing\", \"landmark\", \"landscape\", \"lane\", \"language\", \"large\", \"largely\", \"larger\", \"lark\", \"larry\", \"last\", \"lasting\", \"late\", \"later\", \"latest\", \"latter\", \"laugh\", \"laughable\", \"laughed\", \"laughing\", \"laughoutloud\", \"laughter\", \"lavish\", \"law\", \"lawrence\", \"lay\", \"layer\", \"layered\", \"lazy\", \"le\", \"lead\", \"leaden\", \"leader\", \"leading\", \"leaf\", \"league\", \"lean\", \"leap\", \"learn\", \"learned\", \"learning\", \"least\", \"leave\", \"leaving\", \"led\", \"lee\", \"lees\", \"left\", \"leg\", \"legacy\", \"legal\", \"legend\", \"legendary\", \"legitimate\", \"lego\", \"leigh\", \"leisurely\", \"lends\", \"length\", \"lengthy\", \"lens\", \"less\", \"lesser\", \"lesson\", \"let\", \"lets\", \"letter\", \"letting\", \"level\", \"lewis\", \"liam\", \"liberal\", \"liberty\", \"lie\", \"life\", \"lifeaffirming\", \"lifeless\", \"lifetime\", \"lift\", \"lifted\", \"light\", \"lighter\", \"lighthearted\", \"lighting\", \"lightness\", \"lightweight\", \"likable\", \"like\", \"likeable\", \"liked\", \"likely\", \"limit\", \"limitation\", \"limited\", \"limp\", \"line\", \"linger\", \"lingering\", \"lingers\", \"linklater\", \"lion\", \"list\", \"listen\", \"listening\", \"listless\", \"lit\", \"literal\", \"literally\", \"literary\", \"literature\", \"little\", \"live\", \"liveaction\", \"lived\", \"lively\", \"lives\", \"living\", \"loach\", \"load\", \"loaded\", \"local\", \"location\", \"locked\", \"logic\", \"london\", \"loneliness\", \"lonely\", \"long\", \"longer\", \"longing\", \"look\", \"looked\", \"looking\", \"loose\", \"loosely\", \"lord\", \"los\", \"lose\", \"loser\", \"loses\", \"losing\", \"loss\", \"lost\", \"lot\", \"loud\", \"louis\", \"lovable\", \"love\", \"loved\", \"lovely\", \"lover\", \"loving\", \"lovingly\", \"low\", \"lowbrow\", \"lowbudget\", \"lowkey\", \"loyalty\", \"lucas\", \"luck\", \"luckily\", \"lucky\", \"ludicrous\", \"luminous\", \"lunacy\", \"lurid\", \"lurking\", \"lush\", \"lust\", \"lynch\", \"lyrical\", \"macabre\", \"machination\", \"machine\", \"macho\", \"mad\", \"maddening\", \"made\", \"madness\", \"magazine\", \"magic\", \"magical\", \"magnetic\", \"magnificent\", \"magnificently\", \"main\", \"mainly\", \"mainstream\", \"maintain\", \"maintaining\", \"maintains\", \"mais\", \"major\", \"majority\", \"majors\", \"make\", \"maker\", \"makes\", \"makeup\", \"making\", \"male\", \"malick\", \"man\", \"manage\", \"managed\", \"manages\", \"manhattan\", \"manic\", \"manipulation\", \"manipulative\", \"mann\", \"manner\", \"many\", \"map\", \"march\", \"margin\", \"mark\", \"marked\", \"market\", \"marketing\", \"marriage\", \"married\", \"marshall\", \"martial\", \"martin\", \"marvel\", \"marvelous\", \"marvels\", \"mary\", \"masculinity\", \"mashup\", \"mask\", \"mass\", \"massive\", \"master\", \"masterful\", \"masterfully\", \"masterpiece\", \"masterwork\", \"mastery\", \"match\", \"matched\", \"material\", \"matinee\", \"matrix\", \"matt\", \"matter\", \"matthew\", \"mature\", \"maturity\", \"maudlin\", \"max\", \"maximum\", \"may\", \"maybe\", \"mayhem\", \"mccarthy\", \"mcu\", \"meal\", \"mean\", \"meander\", \"meandering\", \"meaning\", \"meaningful\", \"meant\", \"measure\", \"measured\", \"meat\", \"mechanic\", \"mechanical\", \"mediocre\", \"mediocrity\", \"meditation\", \"meditative\", \"medium\", \"meet\", \"meeting\", \"mel\", \"melancholy\", \"melissa\", \"melodrama\", \"melodramatic\", \"member\", \"memoir\", \"memorable\", \"memory\", \"men\", \"menace\", \"mendes\", \"mental\", \"mention\", \"mercy\", \"mere\", \"merely\", \"merit\", \"meryl\", \"mesmerizing\", \"mess\", \"message\", \"messy\", \"met\", \"metal\", \"metaphor\", \"method\", \"meticulous\", \"meticulously\", \"mexican\", \"mia\", \"michael\", \"michelle\", \"middle\", \"middleaged\", \"middling\", \"midnight\", \"mids\", \"midst\", \"might\", \"mighty\", \"mike\", \"mild\", \"mildly\", \"mile\", \"miles\", \"milieu\", \"military\", \"milk\", \"miller\", \"millers\", \"million\", \"mind\", \"mindless\", \"mine\", \"minimal\", \"minimalist\", \"minimum\", \"minor\", \"minute\", \"miracle\", \"mirren\", \"mirror\", \"miserable\", \"misery\", \"misfire\", \"misguided\", \"mishmash\", \"miss\", \"missed\", \"missing\", \"mission\", \"misstep\", \"mistake\", \"mix\", \"mixed\", \"mixing\", \"mixture\", \"mob\", \"mode\", \"model\", \"moderately\", \"modern\", \"modernday\", \"modest\", \"modestly\", \"mold\", \"mom\", \"moment\", \"momentum\", \"money\", \"monologue\", \"monotonous\", \"monster\", \"monsters\", \"montage\", \"month\", \"monty\", \"mood\", \"moody\", \"moon\", \"moore\", \"moores\", \"moral\", \"morality\", \"morally\", \"morgan\", \"morning\", \"morris\", \"mortality\", \"mostly\", \"mother\", \"motif\", \"motion\", \"motivation\", \"mountain\", \"mounted\", \"mouse\", \"mouth\", \"move\", \"moved\", \"movement\", \"movie\", \"moviegoer\", \"moviemaking\", \"movies\", \"moving\", \"mr\", \"mrs\", \"ms\", \"much\", \"muchneeded\", \"muddled\", \"multilayered\", \"multiple\", \"multiplex\", \"mundane\", \"murder\", \"murky\", \"murphy\", \"murray\", \"muscle\", \"museum\", \"music\", \"musical\", \"musician\", \"must\", \"muster\", \"mustsee\", \"muted\", \"mysterious\", \"mystery\", \"myth\", \"mythology\", \"na\", \"nail\", \"naive\", \"naked\", \"name\", \"named\", \"narration\", \"narrative\", \"narratively\", \"narrow\", \"nasty\", \"nation\", \"national\", \"native\", \"natural\", \"naturalistic\", \"naturally\", \"nature\", \"nazi\", \"near\", \"nearly\", \"neat\", \"neatly\", \"necessarily\", \"necessary\", \"need\", \"needed\", \"needle\", \"neeson\", \"neighbor\", \"neil\", \"neither\", \"nerve\", \"nervous\", \"netflix\", \"network\", \"never\", \"nevertheless\", \"new\", \"newcomer\", \"news\", \"newspaper\", \"next\", \"nice\", \"nicely\", \"nicholas\", \"nichols\", \"nicholson\", \"nick\", \"nicolas\", \"nifty\", \"night\", \"nightmare\", \"nightmarish\", \"nights\", \"nimble\", \"nine\", \"niro\", \"noble\", \"nobody\", \"nod\", \"noir\", \"noise\", \"noisy\", \"nolan\", \"nolans\", \"nomination\", \"none\", \"nonetheless\", \"nonfiction\", \"nonsense\", \"nonsensical\", \"nonstop\", \"normal\", \"normally\", \"north\", \"nose\", \"nostalgia\", \"nostalgic\", \"notable\", \"notably\", \"notch\", \"note\", \"nothing\", \"notice\", \"notion\", \"notorious\", \"novel\", \"novelty\", \"nowhere\", \"nuance\", \"nuanced\", \"nudity\", \"number\", \"numerous\", \"object\", \"objective\", \"obnoxious\", \"obscure\", \"observant\", \"observation\", \"observed\", \"obsession\", \"obsessive\", \"obstacle\", \"obvious\", \"obviously\", \"occasion\", \"occasional\", \"occasionally\", \"oceans\", \"odd\", \"oddball\", \"oddity\", \"oddly\", \"odds\", \"ode\", \"odyssey\", \"offbeat\", \"offensive\", \"offer\", \"offered\", \"offering\", \"offers\", \"office\", \"official\", \"offkilter\", \"offputting\", \"offset\", \"often\", \"oh\", \"ok\", \"okay\", \"old\", \"older\", \"oldfashioned\", \"oldschool\", \"oliver\", \"ominous\", \"one\", \"onedimensional\", \"oneliners\", \"onenote\", \"ongoing\", \"onscreen\", \"onto\", \"open\", \"opening\", \"opera\", \"operates\", \"operation\", \"opinion\", \"opportunity\", \"opposed\", \"opposite\", \"optimism\", \"optimistic\", \"order\", \"ordinary\", \"organic\", \"origin\", \"original\", \"originality\", \"originally\", \"oscar\", \"oscars\", \"oscarwinning\", \"others\", \"otherwise\", \"ought\", \"outcome\", \"outer\", \"outing\", \"outlandish\", \"outrage\", \"outrageous\", \"outrageously\", \"outright\", \"outside\", \"outsider\", \"outstanding\", \"overall\", \"overblown\", \"overcome\", \"overcomes\", \"overlong\", \"overlook\", \"overlooked\", \"overly\", \"overstuffed\", \"overthetop\", \"overwhelming\", \"overwrought\", \"owes\", \"oz\", \"pace\", \"paced\", \"pacing\", \"pacino\", \"pack\", \"package\", \"packed\", \"page\", \"paid\", \"pain\", \"painful\", \"painfully\", \"paint\", \"painting\", \"pair\", \"pairing\", \"palatable\", \"pale\", \"palette\", \"palpable\", \"pan\", \"panache\", \"panda\", \"pandemic\", \"pantheon\", \"panther\", \"paper\", \"par\", \"para\", \"parable\", \"parade\", \"paradise\", \"parallel\", \"paranoia\", \"paranoid\", \"parasite\", \"parent\", \"parental\", \"parents\", \"paris\", \"park\", \"parker\", \"parody\", \"part\", \"particular\", \"particularly\", \"partly\", \"partner\", \"party\", \"pas\", \"pass\", \"passable\", \"passage\", \"passed\", \"passing\", \"passion\", \"passionate\", \"past\", \"pastiche\", \"pat\", \"patch\", \"path\", \"pathetic\", \"pathos\", \"patience\", \"patient\", \"patrick\", \"pattern\", \"pattinson\", \"paul\", \"pause\", \"pay\", \"paying\", \"payoff\", \"peace\", \"peak\", \"pearl\", \"peculiar\", \"pedestrian\", \"pedigree\", \"peek\", \"peer\", \"penetrating\", \"penn\", \"people\", \"per\", \"percent\", \"perception\", \"perceptive\", \"perfect\", \"perfection\", \"perfectly\", \"performance\", \"performed\", \"performer\", \"perhaps\", \"peril\", \"period\", \"perry\", \"person\", \"persona\", \"personal\", \"personality\", \"perspective\", \"persuasive\", \"perverse\", \"pet\", \"peter\", \"pg\", \"phenomenal\", \"phenomenon\", \"philip\", \"phillips\", \"philosophical\", \"philosophy\", \"phoenix\", \"phone\", \"phony\", \"photo\", \"photographed\", \"photography\", \"physical\", \"physically\", \"piano\", \"pic\", \"pick\", \"picture\", \"pie\", \"piece\", \"pile\", \"pine\", \"pinocchio\", \"pirates\", \"pitch\", \"pitchperfect\", \"pitfall\", \"pity\", \"pixar\", \"pixars\", \"place\", \"plain\", \"plan\", \"plane\", \"planet\", \"platform\", \"plausible\", \"play\", \"played\", \"player\", \"playful\", \"playing\", \"plays\", \"pleasant\", \"pleasantly\", \"please\", \"pleased\", \"pleasing\", \"pleasurable\", \"pleasure\", \"plenty\", \"plight\", \"plodding\", \"plot\", \"plotted\", \"plotting\", \"plus\", \"poem\", \"poet\", \"poetic\", \"poetry\", \"poignancy\", \"poignant\", \"point\", \"pointed\", \"pointless\", \"poke\", \"polanski\", \"police\", \"polish\", \"polished\", \"political\", \"politically\", \"politician\", \"politics\", \"ponder\", \"ponderous\", \"pool\", \"poor\", \"poorly\", \"pop\", \"popcorn\", \"popular\", \"populated\", \"por\", \"porn\", \"portion\", \"portrait\", \"portray\", \"portrayal\", \"portrayed\", \"portraying\", \"portrays\", \"pose\", \"position\", \"positive\", \"positively\", \"posse\", \"possibility\", \"possible\", \"possibly\", \"post\", \"postapocalyptic\", \"poster\", \"postmodern\", \"potent\", \"potential\", \"potentially\", \"potter\", \"poverty\", \"power\", \"powerful\", \"powerfully\", \"powerhouse\", \"practical\", \"practically\", \"practice\", \"praise\", \"preaching\", \"preachy\", \"precious\", \"precise\", \"precisely\", \"precision\", \"predator\", \"predecessor\", \"predictability\", \"predictable\", \"predictably\", \"prefer\", \"prejudice\", \"premise\", \"prepare\", \"prepared\", \"preposterous\", \"prequel\", \"presence\", \"present\", \"presentation\", \"presented\", \"presenting\", \"president\", \"press\", \"pressure\", \"pretend\", \"pretension\", \"pretentious\", \"pretty\", \"prevent\", \"prevents\", \"previous\", \"previously\", \"prey\", \"price\", \"pride\", \"primal\", \"primarily\", \"primary\", \"prime\", \"primer\", \"prince\", \"princess\", \"principal\", \"principle\", \"prison\", \"private\", \"privilege\", \"prize\", \"probably\", \"problem\", \"problematic\", \"procedural\", \"proceeding\", \"process\", \"produce\", \"produced\", \"producer\", \"product\", \"production\", \"prof\", \"profane\", \"profanity\", \"professional\", \"profile\", \"profound\", \"profoundly\", \"progress\", \"progressive\", \"project\", \"promise\", \"promised\", \"promising\", \"proof\", \"prop\", \"propaganda\", \"proper\", \"properly\", \"property\", \"proportion\", \"protagonist\", \"protest\", \"proud\", \"prove\", \"proved\", \"proven\", \"provide\", \"provided\", \"provides\", \"providing\", \"proving\", \"provocative\", \"provoking\", \"psyche\", \"psycho\", \"psychological\", \"psychology\", \"public\", \"pull\", \"pulled\", \"pulling\", \"pulp\", \"pulpy\", \"pulse\", \"pun\", \"punch\", \"punk\", \"puppet\", \"pure\", \"purely\", \"purpose\", \"pursuit\", \"push\", \"pushing\", \"put\", \"putting\", \"puzzle\", \"qualify\", \"quality\", \"que\", \"queasy\", \"queen\", \"queer\", \"quentin\", \"quest\", \"question\", \"questionable\", \"questioning\", \"quick\", \"quickly\", \"quiet\", \"quietly\", \"quirk\", \"quirky\", \"quite\", \"rabbit\", \"race\", \"rachel\", \"racial\", \"racing\", \"racism\", \"radical\", \"radio\", \"rage\", \"raging\", \"rail\", \"raimi\", \"rain\", \"raise\", \"raised\", \"raising\", \"ralph\", \"rambling\", \"rampant\", \"random\", \"range\", \"rank\", \"rape\", \"rare\", \"rarely\", \"rate\", \"rather\", \"rating\", \"raucous\", \"raunchy\", \"ravishing\", \"raw\", \"ray\", \"reach\", \"reaching\", \"reaction\", \"read\", \"reading\", \"ready\", \"real\", \"realism\", \"realistic\", \"reality\", \"realize\", \"realized\", \"reallife\", \"really\", \"realm\", \"reason\", \"reasonably\", \"rebecca\", \"rebel\", \"reboot\", \"recall\", \"received\", \"recent\", \"recognition\", \"recognizable\", \"recognize\", \"recommend\", \"recommendation\", \"recommended\", \"record\", \"recreation\", \"recycled\", \"red\", \"redemption\", \"redford\", \"reduced\", \"redundant\", \"reel\", \"reeves\", \"reference\", \"reflect\", \"reflection\", \"reflects\", \"refreshing\", \"refreshingly\", \"refusal\", \"refuse\", \"regard\", \"regarding\", \"regardless\", \"register\", \"regret\", \"regular\", \"reign\", \"reinvent\", \"reitman\", \"relatable\", \"relate\", \"relation\", \"relationship\", \"relative\", \"relatively\", \"release\", \"released\", \"relentless\", \"relentlessly\", \"relevance\", \"relevant\", \"relief\", \"relies\", \"religion\", \"religious\", \"relish\", \"rely\", \"relying\", \"remain\", \"remaining\", \"remains\", \"remake\", \"remarkable\", \"remarkably\", \"remember\", \"remembered\", \"remind\", \"reminded\", \"reminder\", \"reminding\", \"reminds\", \"reminiscent\", \"remote\", \"remotely\", \"removed\", \"render\", \"rendered\", \"rendering\", \"rendition\", \"repeat\", \"repeated\", \"repeatedly\", \"repetition\", \"repetitive\", \"replaced\", \"report\", \"representation\", \"represents\", \"reputation\", \"require\", \"required\", \"requires\", \"requisite\", \"rescue\", \"resembles\", \"resembling\", \"resilience\", \"resist\", \"resistance\", \"resolution\", \"resolve\", \"resonance\", \"resonant\", \"resonate\", \"resonates\", \"resort\", \"respect\", \"respectable\", \"respectful\", \"response\", \"responsibility\", \"responsible\", \"rest\", \"restless\", \"restrained\", \"restraint\", \"result\", \"resulting\", \"retains\", \"retelling\", \"retread\", \"retro\", \"return\", \"returning\", \"reunion\", \"reveal\", \"revealed\", \"revealing\", \"reveals\", \"revel\", \"revelation\", \"revelatory\", \"revenge\", \"review\", \"revisit\", \"revolution\", \"revolutionary\", \"reward\", \"rewarding\", \"reynolds\", \"rhythm\", \"rich\", \"richard\", \"richer\", \"richly\", \"ride\", \"ridiculous\", \"ridiculously\", \"riding\", \"ridley\", \"rife\", \"riff\", \"right\", \"righteous\", \"ring\", \"rings\", \"riot\", \"rise\", \"rising\", \"risk\", \"risky\", \"ritchie\", \"ritual\", \"rival\", \"river\", \"riveting\", \"road\", \"rob\", \"robert\", \"roberts\", \"robin\", \"robinson\", \"robot\", \"robust\", \"rock\", \"rocket\", \"rocky\", \"rodriguez\", \"rogen\", \"roger\", \"rogers\", \"rogue\", \"role\", \"roll\", \"rollicking\", \"rolling\", \"roman\", \"romance\", \"romantic\", \"romcom\", \"romp\", \"ron\", \"room\", \"root\", \"rooted\", \"rooting\", \"rose\", \"ross\", \"rote\", \"rough\", \"round\", \"rousing\", \"route\", \"routine\", \"royal\", \"rrated\", \"rudd\", \"ruin\", \"rule\", \"run\", \"runner\", \"running\", \"runofthemill\", \"runtime\", \"rural\", \"rush\", \"rushed\", \"russell\", \"russian\", \"ruthless\", \"ryan\", \"saccharine\", \"sacrifice\", \"sad\", \"sadly\", \"sadness\", \"safe\", \"safety\", \"saga\", \"said\", \"saint\", \"sake\", \"sally\", \"sam\", \"samurai\", \"san\", \"sandler\", \"sant\", \"santa\", \"sappy\", \"sarah\", \"sardonic\", \"satire\", \"satirical\", \"satisfaction\", \"satisfactory\", \"satisfied\", \"satisfies\", \"satisfy\", \"satisfying\", \"saturday\", \"savage\", \"save\", \"saved\", \"saving\", \"savvy\", \"saw\", \"say\", \"saying\", \"scale\", \"scandal\", \"scare\", \"scared\", \"scary\", \"scattered\", \"scattershot\", \"scenario\", \"scene\", \"scenery\", \"scheme\", \"schmaltz\", \"school\", \"science\", \"sciencefiction\", \"scifi\", \"scope\", \"score\", \"scorsese\", \"scorseses\", \"scott\", \"scotts\", \"scratch\", \"scream\", \"screaming\", \"screen\", \"screening\", \"screenplay\", \"screenwriter\", \"screenwriting\", \"screwball\", \"script\", \"scripted\", \"se\", \"sea\", \"seamless\", \"seamlessly\", \"sean\", \"search\", \"searching\", \"searing\", \"season\", \"seat\", \"second\", \"secret\", \"section\", \"seductive\", \"see\", \"seeing\", \"seek\", \"seeking\", \"seem\", \"seemed\", \"seeming\", \"seemingly\", \"seems\", \"seen\", \"segment\", \"seldom\", \"self\", \"selfaware\", \"selfawareness\", \"selfconscious\", \"selfindulgent\", \"sell\", \"send\", \"sends\", \"sens\", \"sensation\", \"sensational\", \"sense\", \"sensibility\", \"sensitive\", \"sensitively\", \"sensitivity\", \"sensual\", \"sentiment\", \"sentimental\", \"sentimentality\", \"separate\", \"sequel\", \"sequence\", \"serf\", \"serial\", \"series\", \"serious\", \"seriously\", \"seriousness\", \"serve\", \"served\", \"service\", \"serviceable\", \"serving\", \"set\", \"setpieces\", \"setting\", \"settle\", \"setup\", \"seven\", \"several\", \"sex\", \"sexual\", \"sexuality\", \"sexy\", \"shade\", \"shadow\", \"shadows\", \"shaggy\", \"shake\", \"shakespeare\", \"shaky\", \"shallow\", \"shame\", \"shameless\", \"shamelessly\", \"shape\", \"share\", \"shared\", \"shark\", \"sharp\", \"sharper\", \"sharply\", \"shed\", \"sheen\", \"sheer\", \"shell\", \"shenanigan\", \"shes\", \"shift\", \"shifting\", \"shine\", \"shining\", \"shiny\", \"ship\", \"shock\", \"shocker\", \"shocking\", \"shockingly\", \"shoot\", \"shooting\", \"shootout\", \"short\", \"shortcoming\", \"shot\", \"shoulder\", \"shouldnt\", \"show\", \"showcase\", \"showdown\", \"showing\", \"shown\", \"shrek\", \"shtick\", \"shy\", \"shyamalan\", \"shyamalans\", \"sibling\", \"sick\", \"side\", \"sight\", \"sign\", \"signature\", \"significance\", \"significant\", \"silence\", \"silent\", \"silliness\", \"silly\", \"silver\", \"similar\", \"similarly\", \"simon\", \"simple\", \"simplicity\", \"simplistic\", \"simply\", \"simultaneously\", \"sin\", \"since\", \"sincere\", \"sincerity\", \"sing\", \"singer\", \"singing\", \"single\", \"singular\", \"sinister\", \"sink\", \"sister\", \"sit\", \"sitcom\", \"sitting\", \"situation\", \"six\", \"size\", \"sketch\", \"skill\", \"skilled\", \"skillful\", \"skillfully\", \"skin\", \"skip\", \"sky\", \"slack\", \"slapdash\", \"slapstick\", \"slasher\", \"slavery\", \"sleek\", \"sleep\", \"sleeve\", \"slice\", \"slick\", \"slickly\", \"slide\", \"slight\", \"slightest\", \"slightly\", \"slip\", \"slog\", \"sloppy\", \"slow\", \"slowly\", \"slowmoving\", \"sluggish\", \"sly\", \"small\", \"smaller\", \"smalltown\", \"smart\", \"smarter\", \"smartly\", \"smell\", \"smile\", \"smiling\", \"smith\", \"smiths\", \"smooth\", \"smoothly\", \"smug\", \"snappy\", \"snapshot\", \"sneak\", \"snow\", \"soap\", \"soar\", \"sober\", \"sobering\", \"social\", \"socially\", \"society\", \"soderbergh\", \"soderberghs\", \"soft\", \"soldier\", \"solely\", \"solemn\", \"solid\", \"solidly\", \"solo\", \"solution\", \"somber\", \"somebody\", \"somehow\", \"someone\", \"something\", \"sometimes\", \"somewhat\", \"somewhere\", \"son\", \"song\", \"soon\", \"sophisticated\", \"sophistication\", \"sorkin\", \"sorrow\", \"sorry\", \"sort\", \"soso\", \"soul\", \"soulful\", \"soulless\", \"sound\", \"soundtrack\", \"sour\", \"source\", \"south\", \"southern\", \"space\", \"span\", \"spanish\", \"spare\", \"spark\", \"sparkle\", \"sparkling\", \"sparks\", \"speak\", \"speaking\", \"speaks\", \"special\", \"specific\", \"spectacle\", \"spectacular\", \"spectacularly\", \"spectator\", \"speech\", \"speed\", \"spell\", \"spellbinding\", \"spend\", \"spending\", \"spends\", \"spent\", \"spiderman\", \"spielberg\", \"spielbergs\", \"spike\", \"spin\", \"spinning\", \"spirit\", \"spirited\", \"spiritual\", \"spite\", \"splendid\", \"splendor\", \"split\", \"spoof\", \"spooky\", \"sporadically\", \"sport\", \"spot\", \"spotlight\", \"spoton\", \"sprawling\", \"spread\", \"spring\", \"spy\", \"squanders\", \"square\", \"squarely\", \"st\", \"stab\", \"stage\", \"staged\", \"staggering\", \"staging\", \"stake\", \"stale\", \"stallone\", \"stand\", \"standard\", \"standing\", \"standout\", \"stanley\", \"star\", \"stark\", \"starring\", \"stars\", \"start\", \"started\", \"starting\", \"startling\", \"state\", \"statement\", \"states\", \"statham\", \"status\", \"stay\", \"staying\", \"steady\", \"steal\", \"steam\", \"steel\", \"steeped\", \"steer\", \"stellar\", \"step\", \"stephen\", \"stereotype\", \"steve\", \"steven\", \"stewart\", \"stick\", \"sticking\", \"stiff\", \"still\", \"stilted\", \"stimulating\", \"sting\", \"stir\", \"stirring\", \"stock\", \"stomach\", \"stone\", \"stones\", \"stop\", \"store\", \"storm\", \"story\", \"storyline\", \"storyteller\", \"storytelling\", \"straight\", \"straightforward\", \"strain\", \"strained\", \"strand\", \"strange\", \"strangely\", \"stranger\", \"stray\", \"streak\", \"stream\", \"streep\", \"street\", \"strength\", \"stretch\", \"stretched\", \"strictly\", \"strike\", \"striking\", \"strikingly\", \"string\", \"strip\", \"strives\", \"stroke\", \"strong\", \"stronger\", \"strongest\", \"strongly\", \"structure\", \"structured\", \"struggle\", \"struggling\", \"stuck\", \"student\", \"studio\", \"study\", \"stuff\", \"stumble\", \"stunning\", \"stunningly\", \"stunt\", \"stupid\", \"stupidity\", \"sturdy\", \"style\", \"stylish\", \"stylistic\", \"stylized\", \"subgenre\", \"subject\", \"sublime\", \"subplot\", \"subplots\", \"substance\", \"substantial\", \"subtext\", \"subtitle\", \"subtle\", \"subtlety\", \"subtly\", \"suburban\", \"subversive\", \"succeed\", \"succeeded\", \"succeeds\", \"success\", \"successful\", \"successfully\", \"suck\", \"sudden\", \"suddenly\", \"suffer\", \"suffering\", \"suffers\", \"sufficient\", \"sufficiently\", \"sugar\", \"suggest\", \"suggesting\", \"suggests\", \"suicide\", \"suit\", \"suitably\", \"suited\", \"sum\", \"summer\", \"sumptuous\", \"sun\", \"sundance\", \"sunday\", \"sunny\", \"sunshine\", \"super\", \"superb\", \"superbly\", \"superficial\", \"superhero\", \"superheroes\", \"superior\", \"superlative\", \"superman\", \"supernatural\", \"superstar\", \"supply\", \"support\", \"supporting\", \"supposed\", \"supposedly\", \"supreme\", \"supremely\", \"sure\", \"surely\", \"surface\", \"surpasses\", \"surprise\", \"surprised\", \"surprising\", \"surprisingly\", \"surreal\", \"surrounded\", \"surrounding\", \"survival\", \"survive\", \"survivor\", \"suspect\", \"suspense\", \"suspenseful\", \"sustain\", \"sustained\", \"swallow\", \"swan\", \"sweat\", \"swedish\", \"sweep\", \"sweeping\", \"sweet\", \"sweetly\", \"sweetness\", \"swept\", \"swing\", \"switch\", \"sword\", \"symbolism\", \"sympathetic\", \"sympathy\", \"system\", \"ta\", \"table\", \"tackle\", \"tactic\", \"tad\", \"take\", \"taken\", \"takes\", \"taking\", \"tale\", \"talent\", \"talented\", \"talk\", \"talking\", \"talky\", \"tall\", \"tangled\", \"tap\", \"tarantino\", \"tarantinos\", \"target\", \"task\", \"taste\", \"tasty\", \"taut\", \"taylor\", \"tea\", \"teach\", \"teacher\", \"team\", \"tear\", \"tearjerker\", \"tease\", \"technical\", \"technically\", \"technique\", \"technological\", \"technology\", \"ted\", \"tedious\", \"tedium\", \"teen\", \"teenage\", \"teenager\", \"teeth\", \"television\", \"tell\", \"telling\", \"template\", \"ten\", \"tend\", \"tendency\", \"tender\", \"tenderness\", \"tends\", \"tense\", \"tension\", \"tepid\", \"term\", \"terrible\", \"terribly\", \"terrific\", \"terrifically\", \"terrifying\", \"territory\", \"terror\", \"terrorist\", \"test\", \"testament\", \"texas\", \"text\", \"texture\", \"textured\", \"th\", \"thank\", \"thankfully\", \"thanks\", \"thatll\", \"thats\", \"theater\", \"theatre\", \"theatrical\", \"thematic\", \"thematically\", \"theme\", \"theory\", \"therapy\", \"theres\", \"theron\", \"thesis\", \"theyd\", \"theyll\", \"theyre\", \"theyve\", \"thick\", \"thief\", \"thin\", \"thing\", \"things\", \"think\", \"thinking\", \"thinly\", \"third\", \"thomas\", \"thompson\", \"thor\", \"thorough\", \"thoroughly\", \"though\", \"thought\", \"thoughtful\", \"thoughtprovoking\", \"thousand\", \"thread\", \"threat\", \"threatens\", \"three\", \"thrill\", \"thriller\", \"thrilling\", \"throat\", \"throughout\", \"throw\", \"throwaway\", \"throwback\", \"throwing\", \"thrown\", \"thunder\", \"thus\", \"tick\", \"ticket\", \"tidy\", \"tie\", \"tiger\", \"tight\", \"tightly\", \"tim\", \"time\", \"timeless\", \"timely\", \"times\", \"timing\", \"tiny\", \"tired\", \"tiresome\", \"titanic\", \"title\", \"titled\", \"titular\", \"today\", \"todd\", \"toe\", \"together\", \"told\", \"tolerance\", \"toll\", \"tom\", \"tomorrow\", \"ton\", \"tonal\", \"tonally\", \"tone\", \"tony\", \"took\", \"tool\", \"toothless\", \"top\", \"topic\", \"topical\", \"topnotch\", \"torn\", \"toro\", \"toros\", \"torture\", \"tortured\", \"total\", \"totally\", \"touch\", \"touching\", \"tough\", \"tour\", \"tourist\", \"toward\", \"towards\", \"towering\", \"town\", \"toxic\", \"toy\", \"trace\", \"track\", \"trade\", \"trademark\", \"tradition\", \"traditional\", \"traffic\", \"tragedy\", \"tragic\", \"trailer\", \"train\", \"trajectory\", \"transcend\", \"transcendent\", \"transcends\", \"transform\", \"transformation\", \"transforms\", \"transition\", \"translation\", \"trap\", \"trapped\", \"trapping\", \"trash\", \"trashy\", \"trauma\", \"travel\", \"travelogue\", \"tread\", \"treasure\", \"treat\", \"treated\", \"treatment\", \"tree\", \"trek\", \"tremendous\", \"tremendously\", \"trial\", \"triangle\", \"tribute\", \"trick\", \"tricky\", \"tried\", \"trier\", \"trifle\", \"trilogy\", \"trio\", \"trip\", \"triple\", \"trippy\", \"trite\", \"triumph\", \"triumphant\", \"trope\", \"trouble\", \"troubled\", \"troubling\", \"true\", \"truelife\", \"truly\", \"trump\", \"trust\", \"truth\", \"truthful\", \"try\", \"trying\", \"tug\", \"tune\", \"turn\", \"turned\", \"turning\", \"tv\", \"twice\", \"twilight\", \"twin\", \"twist\", \"twisted\", \"twisty\", \"two\", \"twohour\", \"tyler\", \"type\", \"typical\", \"typically\", \"ugly\", \"ultimate\", \"ultimately\", \"um\", \"uma\", \"un\", \"una\", \"unabashed\", \"unabashedly\", \"unable\", \"unapologetically\", \"unassuming\", \"unbearable\", \"unbelievable\", \"uncanny\", \"uncertain\", \"uncertainty\", \"uncomfortable\", \"uncommon\", \"uncompromising\", \"unconventional\", \"unconvincing\", \"undemanding\", \"undeniable\", \"undeniably\", \"undercurrent\", \"undercut\", \"underdeveloped\", \"underdog\", \"underlying\", \"undermined\", \"underneath\", \"underrated\", \"understand\", \"understanding\", \"understands\", \"understated\", \"understatement\", \"underwhelming\", \"underwritten\", \"undone\", \"undoubtedly\", \"uneasy\", \"uneven\", \"unexpected\", \"unexpectedly\", \"unfamiliar\", \"unflinching\", \"unfocused\", \"unfold\", \"unfolding\", \"unfolds\", \"unforgettable\", \"unfortunate\", \"unfortunately\", \"unfunny\", \"unhinged\", \"uniformly\", \"unimaginative\", \"uninspired\", \"uninvolving\", \"unique\", \"uniquely\", \"united\", \"universal\", \"universe\", \"unknown\", \"unless\", \"unlike\", \"unlikely\", \"unnecessary\", \"unnerving\", \"unoriginal\", \"unpleasant\", \"unpredictable\", \"unpretentious\", \"unrelenting\", \"unremarkable\", \"unsatisfying\", \"unsentimental\", \"unsettling\", \"unusual\", \"unusually\", \"unwieldy\", \"upbeat\", \"update\", \"uplift\", \"uplifting\", \"upon\", \"ups\", \"urban\", \"urge\", \"urgency\", \"urgent\", \"us\", \"use\", \"used\", \"using\", \"usual\", \"usually\", \"utter\", \"utterly\", \"vacation\", \"vague\", \"vaguely\", \"valentine\", \"valley\", \"valuable\", \"value\", \"vampire\", \"van\", \"vanity\", \"vapid\", \"variation\", \"variety\", \"various\", \"vast\", \"vastly\", \"vaughn\", \"veers\", \"vegas\", \"vehicle\", \"vein\", \"vengeance\", \"venture\", \"verbal\", \"verge\", \"version\", \"versus\", \"verve\", \"veteran\", \"via\", \"vibe\", \"vibrant\", \"vice\", \"vicious\", \"victim\", \"victory\", \"video\", \"vietnam\", \"view\", \"viewed\", \"viewer\", \"viewing\", \"viewpoint\", \"vignette\", \"village\", \"villain\", \"vincent\", \"vintage\", \"violence\", \"violent\", \"virtually\", \"virtue\", \"visceral\", \"vision\", \"visionary\", \"visit\", \"visual\", \"visually\", \"visuals\", \"vital\", \"vitality\", \"vivid\", \"vividly\", \"vocal\", \"voice\", \"voiceover\", \"void\", \"volume\", \"von\", \"voyage\", \"vulgar\", \"vulnerability\", \"vulnerable\", \"wa\", \"wacky\", \"wahlberg\", \"wait\", \"waiting\", \"waititi\", \"wake\", \"walk\", \"walking\", \"wall\", \"wallop\", \"wallow\", \"walter\", \"wan\", \"wannabe\", \"want\", \"wanted\", \"wanting\", \"war\", \"warfare\", \"warm\", \"warmhearted\", \"warmth\", \"warning\", \"warrant\", \"warrior\", \"wars\", \"washington\", \"wasnt\", \"wasp\", \"waste\", \"wasted\", \"watch\", \"watchable\", \"watched\", \"watching\", \"water\", \"waters\", \"watts\", \"wave\", \"way\", \"weak\", \"weakest\", \"weakness\", \"wealth\", \"weapon\", \"wear\", \"wearing\", \"weave\", \"web\", \"wed\", \"wedding\", \"week\", \"weekend\", \"weight\", \"weighty\", \"weird\", \"weirdly\", \"weirdness\", \"welcome\", \"well\", \"wellacted\", \"wellcrafted\", \"welles\", \"wellexecuted\", \"wellintentioned\", \"wellmade\", \"wellmeaning\", \"wellworn\", \"wellwritten\", \"went\", \"werent\", \"werewolf\", \"wes\", \"west\", \"western\", \"weve\", \"whale\", \"whatever\", \"whats\", \"wheel\", \"whenever\", \"whether\", \"whiff\", \"whilst\", \"whimsical\", \"whimsy\", \"white\", \"whodunit\", \"whole\", \"wholesome\", \"wholly\", \"whose\", \"whove\", \"wick\", \"wicked\", \"wickedly\", \"wide\", \"wider\", \"widow\", \"wife\", \"wild\", \"wilder\", \"wildly\", \"william\", \"williams\", \"willing\", \"willingness\", \"wilson\", \"win\", \"wind\", \"window\", \"wine\", \"wink\", \"winner\", \"winning\", \"winslet\", \"winter\", \"wisdom\", \"wise\", \"wisely\", \"wish\", \"wishing\", \"wistful\", \"wit\", \"witch\", \"witherspoon\", \"within\", \"without\", \"witness\", \"witty\", \"wizard\", \"wolf\", \"woman\", \"women\", \"wonder\", \"wonderful\", \"wonderfully\", \"wondering\", \"wondrous\", \"wong\", \"wont\", \"wood\", \"wooden\", \"woody\", \"word\", \"work\", \"worked\", \"worker\", \"working\", \"works\", \"world\", \"worn\", \"worry\", \"worse\", \"worship\", \"worst\", \"worth\", \"worthwhile\", \"worthy\", \"would\", \"wouldbe\", \"wouldnt\", \"wound\", \"wow\", \"wrap\", \"wrapped\", \"wreck\", \"wrenching\", \"wright\", \"wrights\", \"write\", \"writer\", \"writerdirector\", \"writing\", \"written\", \"wrong\", \"wrote\", \"wry\", \"wwii\", \"xmen\", \"yarn\", \"yeah\", \"year\", \"yearning\", \"yearold\", \"years\", \"yes\", \"yet\", \"york\", \"youd\", \"youll\", \"young\", \"younger\", \"youngster\", \"youre\", \"youth\", \"youthful\", \"youve\", \"zany\", \"zellweger\", \"zemeckis\", \"zero\", \"zippy\", \"zombie\", \"zone\"], \"features\": {\"14\": {\"effect\": -1.0935262447007642e-06, \"value\": 0.0}, \"27\": {\"effect\": -0.0016363645146700609, \"value\": 0.0}, \"32\": {\"effect\": -0.002100954301808506, \"value\": 0.0}, \"36\": {\"effect\": -0.001965150858261143, \"value\": 0.0}, \"38\": {\"effect\": -0.011637846260398531, \"value\": 0.0}, \"44\": {\"effect\": 0.0001858976133230962, \"value\": 0.0}, \"47\": {\"effect\": 0.000789359952679672, \"value\": 0.0}, \"51\": {\"effect\": -0.00017024627201568386, \"value\": 0.0}, \"69\": {\"effect\": -0.002578401819709912, \"value\": 0.0}, \"79\": {\"effect\": -0.0008331693102026885, \"value\": 0.0}, \"80\": {\"effect\": -0.013418535569897765, \"value\": 0.0}, \"129\": {\"effect\": 0.00025925841478984733, \"value\": 0.0}, \"133\": {\"effect\": 0.0019780831009650964, \"value\": 0.0}, \"135\": {\"effect\": -0.0014073526332515948, \"value\": 0.0}, \"137\": {\"effect\": 0.005812836844040797, \"value\": 0.0}, \"138\": {\"effect\": -0.003581588251187231, \"value\": 0.0}, \"142\": {\"effect\": -0.0008343112882593772, \"value\": 0.0}, \"143\": {\"effect\": -0.00012046794674154559, \"value\": 0.0}, \"145\": {\"effect\": -0.0018325458233490663, \"value\": 0.0}, \"161\": {\"effect\": -0.002980882959652018, \"value\": 0.0}, \"168\": {\"effect\": -0.0018140011338349455, \"value\": 0.0}, \"174\": {\"effect\": -0.0010043877212296381, \"value\": 0.0}, \"177\": {\"effect\": -0.001682759647020266, \"value\": 0.0}, \"190\": {\"effect\": -0.0032334900048735377, \"value\": 0.0}, \"195\": {\"effect\": 0.0032454729625507653, \"value\": 0.0}, \"206\": {\"effect\": 0.001056642308506819, \"value\": 0.0}, \"209\": {\"effect\": 0.0028972382305275093, \"value\": 0.0}, \"213\": {\"effect\": -0.46665351609449723, \"value\": 0.2840618574785208}, \"217\": {\"effect\": 0.0015757580703049234, \"value\": 0.0}, \"241\": {\"effect\": -0.0002766153138528511, \"value\": 0.0}, \"249\": {\"effect\": -0.0030277778656221466, \"value\": 0.0}, \"256\": {\"effect\": -0.008793393979716119, \"value\": 0.0}, \"264\": {\"effect\": -0.00039854656840669715, \"value\": 0.0}, \"289\": {\"effect\": 0.001199387262735728, \"value\": 0.0}, \"290\": {\"effect\": 0.00017821470872975883, \"value\": 0.0}, \"309\": {\"effect\": -0.001490646691778437, \"value\": 0.0}, \"322\": {\"effect\": 0.009296751650356115, \"value\": 0.0}, \"334\": {\"effect\": -3.0074042940332354e-05, \"value\": 0.0}, \"358\": {\"effect\": -0.009182457121380008, \"value\": 0.0}, \"359\": {\"effect\": -0.022868824727359755, \"value\": 0.0}, \"362\": {\"effect\": 0.00030938925910724773, \"value\": 0.0}, \"365\": {\"effect\": 0.0022563455789802417, \"value\": 0.0}, \"368\": {\"effect\": -0.004860397555496578, \"value\": 0.0}, \"389\": {\"effect\": -0.030462756711991633, \"value\": 0.0}, \"394\": {\"effect\": -5.8795909340896584e-05, \"value\": 0.0}, \"407\": {\"effect\": -0.0019375281152753498, \"value\": 0.0}, \"421\": {\"effect\": -0.01013787986662818, \"value\": 0.0}, \"427\": {\"effect\": 0.008125219183271009, \"value\": 0.0}, \"435\": {\"effect\": -0.0024351392982815126, \"value\": 0.0}, \"436\": {\"effect\": -0.002730895098442028, \"value\": 0.0}, \"440\": {\"effect\": -0.002907173044724191, \"value\": 0.0}, \"464\": {\"effect\": 0.005584875121763481, \"value\": 0.0}, \"465\": {\"effect\": 0.013137297418256763, \"value\": 0.0}, \"467\": {\"effect\": -0.006575540004336219, \"value\": 0.0}, \"485\": {\"effect\": 0.00194014203557052, \"value\": 0.0}, \"487\": {\"effect\": -0.006288868317583209, \"value\": 0.0}, \"504\": {\"effect\": -0.004708544502151901, \"value\": 0.0}, \"521\": {\"effect\": -0.0005291699704081453, \"value\": 0.0}, \"525\": {\"effect\": -0.0037757567230943625, \"value\": 0.0}, \"554\": {\"effect\": 0.002367005751520259, \"value\": 0.0}, \"571\": {\"effect\": 0.0012590367514866245, \"value\": 0.0}, \"591\": {\"effect\": -0.005045713102241484, \"value\": 0.0}, \"596\": {\"effect\": 0.002383891713338423, \"value\": 0.0}, \"614\": {\"effect\": -0.0023860648720556406, \"value\": 0.0}, \"617\": {\"effect\": -0.0005242647782515077, \"value\": 0.0}, \"629\": {\"effect\": 0.000597341511443574, \"value\": 0.0}, \"632\": {\"effect\": -0.0017285601972846212, \"value\": 0.0}, \"633\": {\"effect\": -0.004334983355653, \"value\": 0.0}, \"639\": {\"effect\": -0.0012031624555757377, \"value\": 0.0}, \"642\": {\"effect\": -0.007463558632340187, \"value\": 0.0}, \"644\": {\"effect\": -0.005741993510696262, \"value\": 0.0}, \"646\": {\"effect\": -0.004527346469208069, \"value\": 0.0}, \"650\": {\"effect\": 8.105745536466352e-05, \"value\": 0.0}, \"652\": {\"effect\": -0.003559136148175395, \"value\": 0.0}, \"655\": {\"effect\": 0.002153169206944371, \"value\": 0.0}, \"658\": {\"effect\": -0.0029452924660922056, \"value\": 0.0}, \"659\": {\"effect\": 0.006728976396276729, \"value\": 0.0}, \"664\": {\"effect\": -0.0012006166059359326, \"value\": 0.0}, \"668\": {\"effect\": -0.009053230833583212, \"value\": 0.0}, \"682\": {\"effect\": 0.007431571267628153, \"value\": 0.0}, \"683\": {\"effect\": 0.0012062009062559966, \"value\": 0.0}, \"696\": {\"effect\": -0.007340721081944855, \"value\": 0.0}, \"700\": {\"effect\": 0.000419003082658437, \"value\": 0.0}, \"715\": {\"effect\": -0.0022803167957293775, \"value\": 0.0}, \"716\": {\"effect\": 0.0020356242087191776, \"value\": 0.0}, \"719\": {\"effect\": -0.0008384288736858661, \"value\": 0.0}, \"735\": {\"effect\": 0.0007288345490237576, \"value\": 0.0}, \"738\": {\"effect\": -0.004991650253083541, \"value\": 0.0}, \"743\": {\"effect\": 0.008315931445912188, \"value\": 0.0}, \"757\": {\"effect\": 0.0010914835223997015, \"value\": 0.0}, \"768\": {\"effect\": 0.0025981306396434425, \"value\": 0.0}, \"770\": {\"effect\": -0.0015478794803022867, \"value\": 0.0}, \"786\": {\"effect\": -0.003514874724018631, \"value\": 0.0}, \"796\": {\"effect\": 0.002336521943288158, \"value\": 0.0}, \"799\": {\"effect\": -0.004068179401101766, \"value\": 0.0}, \"800\": {\"effect\": 0.005733704988978462, \"value\": 0.0}, \"809\": {\"effect\": -0.001155723073962162, \"value\": 0.0}, \"817\": {\"effect\": 0.004444118192132465, \"value\": 0.0}, \"822\": {\"effect\": 0.0009665819956183914, \"value\": 0.0}, \"835\": {\"effect\": 0.001136766156265925, \"value\": 0.0}, \"836\": {\"effect\": -0.006843940856784216, \"value\": 0.0}, \"838\": {\"effect\": -0.005598455449373929, \"value\": 0.0}, \"849\": {\"effect\": -0.27600635126158324, \"value\": 0.26915150765218876}, \"853\": {\"effect\": -0.004640152238775315, \"value\": 0.0}, \"875\": {\"effect\": -0.0036685092577889273, \"value\": 0.0}, \"893\": {\"effect\": -0.0033688978150002435, \"value\": 0.0}, \"896\": {\"effect\": 0.00441789341637477, \"value\": 0.0}, \"913\": {\"effect\": -0.0018032054263253773, \"value\": 0.0}, \"931\": {\"effect\": 0.00011763723730777366, \"value\": 0.0}, \"938\": {\"effect\": 0.0035418438496977464, \"value\": 0.0}, \"939\": {\"effect\": 0.0018884648584140955, \"value\": 0.0}, \"940\": {\"effect\": 0.0016559029448135656, \"value\": 0.0}, \"944\": {\"effect\": -0.0002389214831135467, \"value\": 0.0}, \"950\": {\"effect\": -0.0014311512709841597, \"value\": 0.0}, \"968\": {\"effect\": -0.003343859749808868, \"value\": 0.0}, \"970\": {\"effect\": -0.00037211450732191104, \"value\": 0.0}, \"972\": {\"effect\": 0.001763246079461313, \"value\": 0.0}, \"975\": {\"effect\": -0.0004530581423585988, \"value\": 0.0}, \"983\": {\"effect\": -0.0006964118581453622, \"value\": 0.0}, \"1011\": {\"effect\": -0.005257287639543186, \"value\": 0.0}, \"1012\": {\"effect\": -0.0004524973579466618, \"value\": 0.0}, \"1042\": {\"effect\": 0.22215736498755195, \"value\": 0.23252961479886877}, \"1046\": {\"effect\": -0.0002361055264402157, \"value\": 0.0}, \"1050\": {\"effect\": 0.0028712878666010033, \"value\": 0.0}, \"1059\": {\"effect\": -0.0037008088453213406, \"value\": 0.0}, \"1061\": {\"effect\": -0.001247553902245001, \"value\": 0.0}, \"1074\": {\"effect\": -0.0017086471663720426, \"value\": 0.0}, \"1082\": {\"effect\": -0.0021148525586234357, \"value\": 0.0}, \"1084\": {\"effect\": -0.0010356825816967188, \"value\": 0.0}, \"1088\": {\"effect\": 0.0008400771150358019, \"value\": 0.0}, \"1094\": {\"effect\": 0.0024139829064542687, \"value\": 0.0}, \"1108\": {\"effect\": -0.0012010972893614384, \"value\": 0.0}, \"1110\": {\"effect\": -0.007434791893467774, \"value\": 0.0}, \"1117\": {\"effect\": -0.0038565114416515443, \"value\": 0.0}, \"1128\": {\"effect\": -0.0061360708533030155, \"value\": 0.0}, \"1141\": {\"effect\": 0.0003815671527049332, \"value\": 0.0}, \"1142\": {\"effect\": 0.0029608621910303997, \"value\": 0.0}, \"1155\": {\"effect\": -0.002963102234903732, \"value\": 0.0}, \"1156\": {\"effect\": -0.003133442163640595, \"value\": 0.0}, \"1171\": {\"effect\": 0.004773195789582986, \"value\": 0.0}, \"1182\": {\"effect\": 0.00031076018718805866, \"value\": 0.0}, \"1195\": {\"effect\": 0.0006277482340890777, \"value\": 0.0}, \"1197\": {\"effect\": -0.0020204922849871108, \"value\": 0.0}, \"1201\": {\"effect\": -0.006424797427397291, \"value\": 0.0}, \"1220\": {\"effect\": -0.0015580396266367507, \"value\": 0.0}, \"1227\": {\"effect\": -0.0005181059861616596, \"value\": 0.0}, \"1244\": {\"effect\": -0.01288166127649345, \"value\": 0.0}, \"1245\": {\"effect\": -0.003997797724764384, \"value\": 0.0}, \"1246\": {\"effect\": -0.0010685754770119996, \"value\": 0.0}, \"1247\": {\"effect\": 0.0026158170710256744, \"value\": 0.0}, \"1248\": {\"effect\": 0.0233974842120485, \"value\": 0.0}, \"1255\": {\"effect\": 0.007896774662524553, \"value\": 0.0}, \"1274\": {\"effect\": 0.002862927311454515, \"value\": 0.0}, \"1277\": {\"effect\": -0.0017097804253815854, \"value\": 0.0}, \"1280\": {\"effect\": -0.0018323923459038997, \"value\": 0.0}, \"1283\": {\"effect\": -0.0014922791893879023, \"value\": 0.0}, \"1304\": {\"effect\": 0.19526396556625075, \"value\": 0.28967298818638876}, \"1321\": {\"effect\": 0.0008962312523204611, \"value\": 0.0}, \"1326\": {\"effect\": -0.0017370133237065955, \"value\": 0.0}, \"1334\": {\"effect\": -0.006735971937984503, \"value\": 0.0}, \"1345\": {\"effect\": -0.004382972959299477, \"value\": 0.0}, \"1352\": {\"effect\": -0.0013897940702470406, \"value\": 0.0}, \"1360\": {\"effect\": -0.004709877862977809, \"value\": 0.0}, \"1379\": {\"effect\": -0.004780134973624647, \"value\": 0.0}, \"1384\": {\"effect\": -0.002812277187550262, \"value\": 0.0}, \"1393\": {\"effect\": 0.004505243221854255, \"value\": 0.0}, \"1408\": {\"effect\": 0.012496555884586381, \"value\": 0.0}, \"1410\": {\"effect\": 0.001131027747845491, \"value\": 0.0}, \"1419\": {\"effect\": -0.005502882287220747, \"value\": 0.0}, \"1420\": {\"effect\": -0.0013086904256366313, \"value\": 0.0}, \"1424\": {\"effect\": -0.000936513302294982, \"value\": 0.0}, \"1437\": {\"effect\": -0.0033945008543809904, \"value\": 0.0}, \"1445\": {\"effect\": -0.004276203662912405, \"value\": 0.0}, \"1447\": {\"effect\": -0.03432303436338777, \"value\": 0.0}, \"1450\": {\"effect\": -0.017939499914857503, \"value\": 0.0}, \"1471\": {\"effect\": 2.2355734333497664e-05, \"value\": 0.0}, \"1478\": {\"effect\": 0.009831110813052798, \"value\": 0.0}, \"1481\": {\"effect\": -0.0025038952714808277, \"value\": 0.0}, \"1487\": {\"effect\": -0.0007890574784738546, \"value\": 0.0}, \"1492\": {\"effect\": -0.0010277640283516477, \"value\": 0.0}, \"1507\": {\"effect\": -0.0033361690540717236, \"value\": 0.0}, \"1510\": {\"effect\": 0.0010371553469118381, \"value\": 0.0}, \"1513\": {\"effect\": -0.009484204025926143, \"value\": 0.0}, \"1517\": {\"effect\": -0.0057793384092097244, \"value\": 0.0}, \"1540\": {\"effect\": -0.005301453297124235, \"value\": 0.0}, \"1546\": {\"effect\": -0.0034329041976655797, \"value\": 0.0}, \"1571\": {\"effect\": -0.005315148607266519, \"value\": 0.0}, \"1572\": {\"effect\": -0.002872474095239131, \"value\": 0.0}, \"1582\": {\"effect\": -0.003600455538087977, \"value\": 0.0}, \"1592\": {\"effect\": -3.738602051777216e-05, \"value\": 0.0}, \"1599\": {\"effect\": 0.014449215340382767, \"value\": 0.0}, \"1605\": {\"effect\": -0.003619109195350837, \"value\": 0.0}, \"1608\": {\"effect\": 0.005766548681399651, \"value\": 0.0}, \"1614\": {\"effect\": -0.005269888476152535, \"value\": 0.0}, \"1616\": {\"effect\": -0.001994745919895768, \"value\": 0.0}, \"1618\": {\"effect\": -0.005093005526671908, \"value\": 0.0}, \"1628\": {\"effect\": 0.006379355545867184, \"value\": 0.0}, \"1637\": {\"effect\": -0.0004416035295706937, \"value\": 0.0}, \"1639\": {\"effect\": -0.0015877846102670483, \"value\": 0.0}, \"1641\": {\"effect\": -0.004491748226707235, \"value\": 0.0}, \"1653\": {\"effect\": 0.0026737393894264846, \"value\": 0.0}, \"1657\": {\"effect\": 0.0060583305063959805, \"value\": 0.0}, \"1659\": {\"effect\": 0.0037394376315449994, \"value\": 0.0}, \"1663\": {\"effect\": 0.0002418267296466504, \"value\": 0.0}, \"1686\": {\"effect\": -0.0013859894941171539, \"value\": 0.0}, \"1688\": {\"effect\": 0.0447027458031141, \"value\": 0.10909942126530026}, \"1700\": {\"effect\": -2.63367754388056e-05, \"value\": 0.0}, \"1711\": {\"effect\": -0.0014246106923182689, \"value\": 0.0}, \"1717\": {\"effect\": 0.003334583762855856, \"value\": 0.0}, \"1720\": {\"effect\": -0.0016196133960051332, \"value\": 0.0}, \"1727\": {\"effect\": -0.0025850076813479016, \"value\": 0.0}, \"1732\": {\"effect\": -0.0016548183249555453, \"value\": 0.0}, \"1736\": {\"effect\": -0.000568631651050956, \"value\": 0.0}, \"1742\": {\"effect\": 0.00027415945884568215, \"value\": 0.0}, \"1748\": {\"effect\": -0.0019827691254593557, \"value\": 0.0}, \"1749\": {\"effect\": 0.0033389423062955455, \"value\": 0.0}, \"1755\": {\"effect\": -0.0014209814254172214, \"value\": 0.0}, \"1758\": {\"effect\": -0.0005117823713277224, \"value\": 0.0}, \"1772\": {\"effect\": -3.215305475212807e-05, \"value\": 0.0}, \"1785\": {\"effect\": 0.0008506231820420073, \"value\": 0.0}, \"1789\": {\"effect\": -0.0011420405605115063, \"value\": 0.0}, \"1792\": {\"effect\": -0.0019073776800366993, \"value\": 0.0}, \"1796\": {\"effect\": -0.001359255825319421, \"value\": 0.0}, \"1799\": {\"effect\": -0.00233565022454845, \"value\": 0.0}, \"1808\": {\"effect\": 0.004155739258851866, \"value\": 0.0}, \"1813\": {\"effect\": -0.0043348696702475795, \"value\": 0.0}, \"1815\": {\"effect\": -0.0049416932729786445, \"value\": 0.0}, \"1828\": {\"effect\": -0.00606829397529094, \"value\": 0.0}, \"1834\": {\"effect\": -0.0009004145993834424, \"value\": 0.0}, \"1836\": {\"effect\": -0.009889505563617848, \"value\": 0.0}, \"1839\": {\"effect\": 0.15333147200847905, \"value\": 0.27486782337733145}, \"1842\": {\"effect\": 0.0021851972587282127, \"value\": 0.0}, \"1845\": {\"effect\": 5.247135405263836e-05, \"value\": 0.0}, \"1847\": {\"effect\": 0.0006257569578947127, \"value\": 0.0}, \"1851\": {\"effect\": -0.00016641034556087644, \"value\": 0.0}, \"1856\": {\"effect\": 0.002085202522399776, \"value\": 0.0}, \"1866\": {\"effect\": -0.005411312970284935, \"value\": 0.0}, \"1867\": {\"effect\": -0.006886389426434321, \"value\": 0.0}, \"1868\": {\"effect\": -0.004351324446321803, \"value\": 0.0}, \"1872\": {\"effect\": -0.002601505072617888, \"value\": 0.0}, \"1876\": {\"effect\": 0.005537934231192712, \"value\": 0.0}, \"1889\": {\"effect\": -0.002780205032579899, \"value\": 0.0}, \"1907\": {\"effect\": -0.00016516610951838604, \"value\": 0.0}, \"1908\": {\"effect\": -0.0009191749709374532, \"value\": 0.0}, \"1914\": {\"effect\": 0.0007763026267191749, \"value\": 0.0}, \"1915\": {\"effect\": -0.004388005353010903, \"value\": 0.0}, \"1919\": {\"effect\": -0.013167499860699504, \"value\": 0.0}, \"1925\": {\"effect\": 0.002646996313421826, \"value\": 0.0}, \"1926\": {\"effect\": 0.0023989488707358633, \"value\": 0.0}, \"1931\": {\"effect\": 0.0009106297773408256, \"value\": 0.0}, \"1945\": {\"effect\": 0.0004523037613657525, \"value\": 0.0}, \"1951\": {\"effect\": -0.02125288474117049, \"value\": 0.0}, \"1968\": {\"effect\": 0.36759614935461893, \"value\": 0.2902410550669707}, \"1975\": {\"effect\": -0.0025875271999588946, \"value\": 0.0}, \"1981\": {\"effect\": 0.0023681685802398487, \"value\": 0.0}, \"1998\": {\"effect\": 0.0010540735545019047, \"value\": 0.0}, \"2001\": {\"effect\": -0.0008362244267731588, \"value\": 0.0}, \"2013\": {\"effect\": -0.0047851990884402226, \"value\": 0.0}, \"2024\": {\"effect\": -0.0030852124044488853, \"value\": 0.0}, \"2026\": {\"effect\": 0.00010620583579935181, \"value\": 0.0}, \"2032\": {\"effect\": 0.010066108314147464, \"value\": 0.0}, \"2034\": {\"effect\": -0.0011710052708521178, \"value\": 0.0}, \"2054\": {\"effect\": 0.001088239597595856, \"value\": 0.0}, \"2064\": {\"effect\": -0.01236319015576683, \"value\": 0.0}, \"2080\": {\"effect\": -0.001775507666261907, \"value\": 0.0}, \"2085\": {\"effect\": -0.0021172622661630516, \"value\": 0.0}, \"2089\": {\"effect\": -0.0011940655769307252, \"value\": 0.0}, \"2090\": {\"effect\": -0.0020217234308942023, \"value\": 0.0}, \"2100\": {\"effect\": -0.008236369851740722, \"value\": 0.0}, \"2105\": {\"effect\": -0.004636337864992262, \"value\": 0.0}, \"2115\": {\"effect\": -0.003449092134905035, \"value\": 0.0}, \"2116\": {\"effect\": -0.0016984607298049172, \"value\": 0.0}, \"2123\": {\"effect\": -0.0021079285195663923, \"value\": 0.0}, \"2129\": {\"effect\": -0.0012738641890155278, \"value\": 0.0}, \"2134\": {\"effect\": -6.617076588929645e-05, \"value\": 0.0}, \"2154\": {\"effect\": -0.0011492664072755225, \"value\": 0.0}, \"2155\": {\"effect\": 0.0028081394913103404, \"value\": 0.0}, \"2163\": {\"effect\": -0.0011823515022060095, \"value\": 0.0}, \"2164\": {\"effect\": -0.0017344273220856288, \"value\": 0.0}, \"2168\": {\"effect\": -0.004394475723938095, \"value\": 0.0}, \"2171\": {\"effect\": -0.0041699702548024286, \"value\": 0.0}, \"2191\": {\"effect\": 0.010925143749129274, \"value\": 0.0}, \"2237\": {\"effect\": -0.007908515100686053, \"value\": 0.0}, \"2249\": {\"effect\": 0.0009829478820115372, \"value\": 0.0}, \"2299\": {\"effect\": 0.008218355142961266, \"value\": 0.0}, \"2311\": {\"effect\": 0.005560281334169925, \"value\": 0.0}, \"2320\": {\"effect\": -0.006739702761838715, \"value\": 0.0}, \"2331\": {\"effect\": 0.0018068963639042029, \"value\": 0.0}, \"2344\": {\"effect\": -0.0018473170801475106, \"value\": 0.0}, \"2359\": {\"effect\": 0.0012738430807407316, \"value\": 0.0}, \"2366\": {\"effect\": -0.016785656746940304, \"value\": 0.0}, \"2369\": {\"effect\": 0.00028551610471940083, \"value\": 0.0}, \"2370\": {\"effect\": 0.013045763256622525, \"value\": 0.0}, \"2375\": {\"effect\": -7.386776328286675e-05, \"value\": 0.0}, \"2395\": {\"effect\": 0.0011241106222934934, \"value\": 0.0}, \"2404\": {\"effect\": -0.003950448056564976, \"value\": 0.0}, \"2406\": {\"effect\": 0.0002509653145662295, \"value\": 0.0}, \"2408\": {\"effect\": -0.0005208020118281331, \"value\": 0.0}, \"2409\": {\"effect\": -0.0006304181700530185, \"value\": 0.0}, \"2425\": {\"effect\": -0.0076350755600017774, \"value\": 0.0}, \"2428\": {\"effect\": -0.0012581102026598438, \"value\": 0.0}, \"2441\": {\"effect\": -0.0002715750289280156, \"value\": 0.0}, \"2443\": {\"effect\": 0.0067002508933869205, \"value\": 0.0}, \"2447\": {\"effect\": -0.0023608987847068344, \"value\": 0.0}, \"2465\": {\"effect\": -0.00042860725971999146, \"value\": 0.0}, \"2469\": {\"effect\": -0.0022788382727031314, \"value\": 0.0}, \"2481\": {\"effect\": -0.004734227967853782, \"value\": 0.0}, \"2493\": {\"effect\": -0.004940396708656616, \"value\": 0.0}, \"2494\": {\"effect\": 0.02751481599076669, \"value\": 0.0}, \"2495\": {\"effect\": 0.009809660037734085, \"value\": 0.0}, \"2503\": {\"effect\": -0.0014578773565076648, \"value\": 0.0}, \"2511\": {\"effect\": -0.0008362228666748831, \"value\": 0.0}, \"2512\": {\"effect\": 0.0017307947797435355, \"value\": 0.0}, \"2515\": {\"effect\": 0.0009334710726936954, \"value\": 0.0}, \"2517\": {\"effect\": -0.0024005078722081265, \"value\": 0.0}, \"2530\": {\"effect\": 0.0030693415571997357, \"value\": 0.0}, \"2531\": {\"effect\": -0.001936734920670413, \"value\": 0.0}, \"2535\": {\"effect\": 0.0012321002904203448, \"value\": 0.0}, \"2542\": {\"effect\": 0.0011287913426563405, \"value\": 0.0}, \"2543\": {\"effect\": -0.0011825674834087534, \"value\": 0.0}, \"2564\": {\"effect\": 0.00031147122582317983, \"value\": 0.0}, \"2569\": {\"effect\": -0.0001418109839475657, \"value\": 0.0}, \"2575\": {\"effect\": -0.010307037418384513, \"value\": 0.0}, \"2587\": {\"effect\": -0.0036192774269430414, \"value\": 0.0}, \"2588\": {\"effect\": 0.014140506633149795, \"value\": 0.0}, \"2590\": {\"effect\": -0.0084011702683305, \"value\": 0.0}, \"2599\": {\"effect\": 0.0016500193802086206, \"value\": 0.0}, \"2612\": {\"effect\": -0.0021642574951910784, \"value\": 0.0}, \"2631\": {\"effect\": -0.0006773639962389528, \"value\": 0.0}, \"2643\": {\"effect\": 0.008760195180521442, \"value\": 0.0}, \"2645\": {\"effect\": 0.0008166072532195932, \"value\": 0.0}, \"2648\": {\"effect\": -0.0056135488705324026, \"value\": 0.0}, \"2654\": {\"effect\": 0.006495226379704019, \"value\": 0.0}, \"2663\": {\"effect\": 0.00486932211401437, \"value\": 0.0}, \"2671\": {\"effect\": -0.004714315231933878, \"value\": 0.0}, \"2678\": {\"effect\": -3.130650096725861e-05, \"value\": 0.0}, \"2693\": {\"effect\": -0.0006603429290005346, \"value\": 0.0}, \"2696\": {\"effect\": -0.0045136451026160035, \"value\": 0.0}, \"2700\": {\"effect\": 0.00027799434032284244, \"value\": 0.0}, \"2713\": {\"effect\": 0.0007354409243643798, \"value\": 0.0}, \"2717\": {\"effect\": -3.488971970628043e-05, \"value\": 0.0}, \"2749\": {\"effect\": -0.004591286833400003, \"value\": 0.0}, \"2756\": {\"effect\": -0.00045673957404815483, \"value\": 0.0}, \"2758\": {\"effect\": -0.01177703988433796, \"value\": 0.0}, \"2760\": {\"effect\": -0.001647719027402176, \"value\": 0.0}, \"2763\": {\"effect\": 0.0015675732851268115, \"value\": 0.0}, \"2776\": {\"effect\": -0.003192034918182833, \"value\": 0.0}, \"2785\": {\"effect\": -0.0002442886921723153, \"value\": 0.0}, \"2798\": {\"effect\": 0.0176805509814886, \"value\": 0.0}, \"2803\": {\"effect\": 0.0014639405447754972, \"value\": 0.0}, \"2817\": {\"effect\": 0.001468676186041014, \"value\": 0.0}, \"2837\": {\"effect\": 0.008437278247174756, \"value\": 0.0}, \"2843\": {\"effect\": 0.01686406466187421, \"value\": 0.0}, \"2848\": {\"effect\": 0.00742648497848091, \"value\": 0.0}, \"2852\": {\"effect\": -0.00033463847443522706, \"value\": 0.0}, \"2860\": {\"effect\": -0.0031382029100879773, \"value\": 0.0}, \"2864\": {\"effect\": -0.0001547550344650493, \"value\": 0.0}, \"2866\": {\"effect\": 0.0008232288734705493, \"value\": 0.0}, \"2882\": {\"effect\": -0.0018372604978413925, \"value\": 0.0}, \"2889\": {\"effect\": -0.0019029959438714456, \"value\": 0.0}, \"2891\": {\"effect\": 0.000879336597431429, \"value\": 0.0}, \"2900\": {\"effect\": 0.008205187680136386, \"value\": 0.0}, \"2904\": {\"effect\": -0.018744948320314606, \"value\": 0.0}, \"2908\": {\"effect\": 0.012739677878982301, \"value\": 0.0}, \"2913\": {\"effect\": 0.0019103845151361356, \"value\": 0.0}, \"2921\": {\"effect\": -0.0022874017147635705, \"value\": 0.0}, \"2922\": {\"effect\": -0.00675923061052388, \"value\": 0.0}, \"2937\": {\"effect\": 0.001617510976915322, \"value\": 0.0}, \"2938\": {\"effect\": 0.002883090087225226, \"value\": 0.0}, \"2939\": {\"effect\": 0.0005920173939109531, \"value\": 0.0}, \"2944\": {\"effect\": -0.004947756477863556, \"value\": 0.0}, \"2946\": {\"effect\": -0.004766791595442365, \"value\": 0.0}, \"2968\": {\"effect\": 0.013643242184577286, \"value\": 0.0}, \"2970\": {\"effect\": -0.0028086161559954252, \"value\": 0.0}, \"2974\": {\"effect\": -0.0004467006386565346, \"value\": 0.0}, \"2999\": {\"effect\": 0.006348322013662592, \"value\": 0.0}, \"3014\": {\"effect\": -0.00011082356151702597, \"value\": 0.0}, \"3015\": {\"effect\": 0.003998174625825266, \"value\": 0.0}, \"3045\": {\"effect\": -0.00016656378166090256, \"value\": 0.0}, \"3052\": {\"effect\": 4.350786203777273e-05, \"value\": 0.0}, \"3056\": {\"effect\": -0.002389777745959385, \"value\": 0.0}, \"3058\": {\"effect\": -0.0016349355100816621, \"value\": 0.0}, \"3061\": {\"effect\": 0.0016651369339361049, \"value\": 0.0}, \"3065\": {\"effect\": 0.005674586435750197, \"value\": 0.0}, \"3067\": {\"effect\": -0.006080132503772559, \"value\": 0.0}, \"3069\": {\"effect\": 0.0007737891130759052, \"value\": 0.0}, \"3071\": {\"effect\": -0.007510085022047766, \"value\": 0.0}, \"3093\": {\"effect\": -0.0019749351947412935, \"value\": 0.0}, \"3096\": {\"effect\": -0.0033477549964845135, \"value\": 0.0}, \"3101\": {\"effect\": 0.0036300618276659752, \"value\": 0.0}, \"3112\": {\"effect\": -0.007567417050116566, \"value\": 0.0}, \"3141\": {\"effect\": -0.00043729326799793976, \"value\": 0.0}, \"3167\": {\"effect\": -0.0008962697894762292, \"value\": 0.0}, \"3170\": {\"effect\": -0.0023731396921424256, \"value\": 0.0}, \"3172\": {\"effect\": 0.0021112998124585974, \"value\": 0.0}, \"3184\": {\"effect\": -0.002257492628610684, \"value\": 0.0}, \"3211\": {\"effect\": -0.001409741059389456, \"value\": 0.0}, \"3216\": {\"effect\": -0.007755592975621166, \"value\": 0.0}, \"3218\": {\"effect\": -0.008216453656547138, \"value\": 0.0}, \"3219\": {\"effect\": -0.008528954480102376, \"value\": 0.0}, \"3227\": {\"effect\": -0.0031682331754115064, \"value\": 0.0}, \"3248\": {\"effect\": -0.003062501278335498, \"value\": 0.0}, \"3253\": {\"effect\": 0.0004962756126895528, \"value\": 0.0}, \"3255\": {\"effect\": 0.0004631190293228268, \"value\": 0.0}, \"3259\": {\"effect\": -0.001666288166327267, \"value\": 0.0}, \"3261\": {\"effect\": -0.003392689776466128, \"value\": 0.0}, \"3273\": {\"effect\": 0.004782419400022697, \"value\": 0.0}, \"3274\": {\"effect\": 0.0009222243119057197, \"value\": 0.0}, \"3275\": {\"effect\": -0.002613491952922185, \"value\": 0.0}, \"3286\": {\"effect\": -0.008630263102067586, \"value\": 0.0}, \"3291\": {\"effect\": 0.004891322257116322, \"value\": 0.0}, \"3292\": {\"effect\": -0.002202762712490247, \"value\": 0.0}, \"3299\": {\"effect\": 0.006392641842668927, \"value\": 0.0}, \"3306\": {\"effect\": 0.0004935743202262326, \"value\": 0.0}, \"3307\": {\"effect\": -0.0026974459992002014, \"value\": 0.0}, \"3315\": {\"effect\": 0.010916285889372776, \"value\": 0.0}, \"3318\": {\"effect\": 0.0004306661174330117, \"value\": 0.0}, \"3322\": {\"effect\": 0.0006412500346973246, \"value\": 0.0}, \"3343\": {\"effect\": 0.0037132395463316792, \"value\": 0.0}, \"3346\": {\"effect\": -0.005520729642282816, \"value\": 0.0}, \"3363\": {\"effect\": 0.006180839190190755, \"value\": 0.0}, \"3367\": {\"effect\": 0.011130643634977837, \"value\": 0.0}, \"3372\": {\"effect\": 0.0009144812240664688, \"value\": 0.0}, \"3386\": {\"effect\": -0.0001475219422010069, \"value\": 0.0}, \"3405\": {\"effect\": 0.010027944913331125, \"value\": 0.0}, \"3409\": {\"effect\": -0.004274376584424443, \"value\": 0.0}, \"3414\": {\"effect\": 0.000971135524834464, \"value\": 0.0}, \"3415\": {\"effect\": -0.0035742918150935767, \"value\": 0.0}, \"3426\": {\"effect\": 0.0023488978082482955, \"value\": 0.0}, \"3435\": {\"effect\": 0.002232893468914117, \"value\": 0.0}, \"3446\": {\"effect\": -0.0036734763612788065, \"value\": 0.0}, \"3450\": {\"effect\": -9.421650483122231e-05, \"value\": 0.0}, \"3453\": {\"effect\": -0.013605394861747687, \"value\": 0.0}, \"3457\": {\"effect\": 0.0005419851156036929, \"value\": 0.0}, \"3463\": {\"effect\": -0.009820480296336963, \"value\": 0.0}, \"3467\": {\"effect\": -0.0012819775193322195, \"value\": 0.0}, \"3469\": {\"effect\": -0.0053712627522101925, \"value\": 0.0}, \"3480\": {\"effect\": 0.00014337139492000397, \"value\": 0.0}, \"3485\": {\"effect\": -0.011425215008093528, \"value\": 0.0}, \"3488\": {\"effect\": -0.0035362100830716083, \"value\": 0.0}, \"3489\": {\"effect\": 0.0018792363800515335, \"value\": 0.0}, \"3514\": {\"effect\": 0.0025599942129333024, \"value\": 0.0}, \"3525\": {\"effect\": -2.2719660625142932e-05, \"value\": 0.0}, \"3528\": {\"effect\": 0.0005895237939844489, \"value\": 0.0}, \"3529\": {\"effect\": -0.004282968033256655, \"value\": 0.0}, \"3532\": {\"effect\": -0.0014787993289662592, \"value\": 0.0}, \"3536\": {\"effect\": 0.0056967174323970145, \"value\": 0.0}, \"3538\": {\"effect\": 0.003896735286904098, \"value\": 0.0}, \"3545\": {\"effect\": -0.0012872308499086477, \"value\": 0.0}, \"3550\": {\"effect\": -0.0064256819630745775, \"value\": 0.0}, \"3567\": {\"effect\": -0.015030989181933904, \"value\": 0.0}, \"3589\": {\"effect\": 0.0004033723892024491, \"value\": 0.0}, \"3602\": {\"effect\": -0.013237149431977978, \"value\": 0.0}, \"3609\": {\"effect\": -0.0035902227828761126, \"value\": 0.0}, \"3628\": {\"effect\": 0.0020798805454880884, \"value\": 0.0}, \"3646\": {\"effect\": -0.011489714718350787, \"value\": 0.0}, \"3655\": {\"effect\": -0.004649454739672786, \"value\": 0.0}, \"3660\": {\"effect\": 0.005231503558302032, \"value\": 0.0}, \"3672\": {\"effect\": -0.0003322809350150889, \"value\": 0.0}, \"3673\": {\"effect\": -0.0015708766057228297, \"value\": 0.0}, \"3685\": {\"effect\": -0.005428358586144967, \"value\": 0.0}, \"3697\": {\"effect\": -0.00255316822881017, \"value\": 0.0}, \"3704\": {\"effect\": -0.0002463056081119582, \"value\": 0.0}, \"3712\": {\"effect\": -0.0026637227594797667, \"value\": 0.0}, \"3722\": {\"effect\": -0.004652737850566613, \"value\": 0.0}, \"3729\": {\"effect\": 0.004564096817911957, \"value\": 0.0}, \"3733\": {\"effect\": -0.00078214329290819, \"value\": 0.0}, \"3748\": {\"effect\": -0.002577275805101549, \"value\": 0.0}, \"3762\": {\"effect\": -0.0016777930887049819, \"value\": 0.0}, \"3782\": {\"effect\": 0.0012199781674523916, \"value\": 0.0}, \"3789\": {\"effect\": -0.011432352655561381, \"value\": 0.0}, \"3797\": {\"effect\": -0.0019762846455210615, \"value\": 0.0}, \"3801\": {\"effect\": 0.0031570590147445227, \"value\": 0.0}, \"3803\": {\"effect\": 0.0016274476615905937, \"value\": 0.0}, \"3811\": {\"effect\": -4.751177634527371e-05, \"value\": 0.0}, \"3812\": {\"effect\": -0.0015644508318392275, \"value\": 0.0}, \"3813\": {\"effect\": -0.00230310524085706, \"value\": 0.0}, \"3814\": {\"effect\": 0.04565316985418253, \"value\": 0.5175862024817939}, \"3816\": {\"effect\": -0.001779476851572964, \"value\": 0.0}, \"3824\": {\"effect\": -0.0006719272853395891, \"value\": 0.0}, \"3826\": {\"effect\": 0.008776165450273245, \"value\": 0.0}, \"3829\": {\"effect\": -0.004374934585507354, \"value\": 0.0}, \"3838\": {\"effect\": 0.0010047582285075526, \"value\": 0.0}, \"3846\": {\"effect\": -0.0034123011058014635, \"value\": 0.0}, \"3847\": {\"effect\": -0.0032069016139149014, \"value\": 0.0}, \"3848\": {\"effect\": -0.0005306461967349073, \"value\": 0.0}, \"3850\": {\"effect\": 0.006363616179341803, \"value\": 0.0}, \"3854\": {\"effect\": 0.005533707859059856, \"value\": 0.0}, \"3855\": {\"effect\": -0.0011752493006401644, \"value\": 0.0}, \"3869\": {\"effect\": 0.000637156349231725, \"value\": 0.0}, \"3879\": {\"effect\": 8.835629935333047e-05, \"value\": 0.0}, \"3888\": {\"effect\": -0.0016804116670165593, \"value\": 0.0}, \"3911\": {\"effect\": 0.0034758489267541033, \"value\": 0.0}, \"3929\": {\"effect\": -0.006816129895792186, \"value\": 0.0}, \"3942\": {\"effect\": 0.002412004157546934, \"value\": 0.0}, \"3953\": {\"effect\": 0.0006453886837655535, \"value\": 0.0}, \"3964\": {\"effect\": -0.004835857225259862, \"value\": 0.0}, \"3966\": {\"effect\": 0.0023550949392651256, \"value\": 0.0}, \"3967\": {\"effect\": -3.172874379468941e-05, \"value\": 0.0}, \"3982\": {\"effect\": 0.001511128157878725, \"value\": 0.0}, \"3984\": {\"effect\": -0.0027932887115468437, \"value\": 0.0}, \"3995\": {\"effect\": -0.0042999773370912195, \"value\": 0.0}, \"3999\": {\"effect\": -0.004008646516176734, \"value\": 0.0}, \"4011\": {\"effect\": -0.0023625856843677694, \"value\": 0.0}, \"4016\": {\"effect\": -0.0015515243638980342, \"value\": 0.0}, \"4039\": {\"effect\": -0.0033354493150347564, \"value\": 0.0}, \"4052\": {\"effect\": 0.001661876049563248, \"value\": 0.0}, \"4063\": {\"effect\": 0.0035365831673342487, \"value\": 0.0}, \"4064\": {\"effect\": -0.0002504155509685649, \"value\": 0.0}, \"4066\": {\"effect\": -0.008531857834703081, \"value\": 0.0}, \"4069\": {\"effect\": -0.002668820150794189, \"value\": 0.0}, \"4081\": {\"effect\": 0.00019141332778581098, \"value\": 0.0}, \"4084\": {\"effect\": -0.0008213558246131381, \"value\": 0.0}, \"4089\": {\"effect\": 0.0009102814853861226, \"value\": 0.0}, \"4116\": {\"effect\": -0.0020003340184313323, \"value\": 0.0}, \"4118\": {\"effect\": -0.003569732988660353, \"value\": 0.0}, \"4119\": {\"effect\": -0.0042507436654905814, \"value\": 0.0}, \"4120\": {\"effect\": -0.0024784847794968455, \"value\": 0.0}, \"4125\": {\"effect\": 0.005444680333024252, \"value\": 0.0}, \"4129\": {\"effect\": -0.002035991126353063, \"value\": 0.0}, \"4135\": {\"effect\": -0.0005978198642434537, \"value\": 0.0}, \"4146\": {\"effect\": 0.00962642408625783, \"value\": 0.0}, \"4148\": {\"effect\": 0.31229747791701773, \"value\": 0.25525903672300093}, \"4153\": {\"effect\": -0.0031092223153396186, \"value\": 0.0}, \"4157\": {\"effect\": 0.001669745480004503, \"value\": 0.0}, \"4166\": {\"effect\": -0.00274913593855788, \"value\": 0.0}, \"4176\": {\"effect\": 0.0009935757458941514, \"value\": 0.0}, \"4184\": {\"effect\": -0.014831919749988043, \"value\": 0.0}, \"4197\": {\"effect\": -0.003397680572228063, \"value\": 0.0}, \"4199\": {\"effect\": -0.002499288122752195, \"value\": 0.0}, \"4206\": {\"effect\": -0.0012085647126282744, \"value\": 0.0}, \"4237\": {\"effect\": -0.004229387235360861, \"value\": 0.0}, \"4239\": {\"effect\": -0.006407602546542063, \"value\": 0.0}, \"4245\": {\"effect\": -0.0014315347932148425, \"value\": 0.0}, \"4246\": {\"effect\": -0.005367506030145121, \"value\": 0.0}, \"4250\": {\"effect\": 0.0004007650133985088, \"value\": 0.0}, \"4254\": {\"effect\": 0.00960446885299973, \"value\": 0.0}, \"4287\": {\"effect\": -0.004579520230466039, \"value\": 0.0}, \"4299\": {\"effect\": -0.0020174412737042156, \"value\": 0.0}, \"4311\": {\"effect\": -0.0003515171244514553, \"value\": 0.0}, \"4318\": {\"effect\": -0.007485912212952201, \"value\": 0.0}, \"4326\": {\"effect\": 0.001211857232183176, \"value\": 0.0}, \"4336\": {\"effect\": -0.008343831296120052, \"value\": 0.0}, \"4340\": {\"effect\": 0.0014451056441110671, \"value\": 0.0}, \"4350\": {\"effect\": -0.0010864171628231258, \"value\": 0.0}, \"4352\": {\"effect\": -0.0009459880428005302, \"value\": 0.0}, \"4356\": {\"effect\": -0.004814608768384938, \"value\": 0.0}, \"4358\": {\"effect\": 0.0026312323621452364, \"value\": 0.0}, \"4360\": {\"effect\": -0.0025908674467081416, \"value\": 0.0}, \"4365\": {\"effect\": -0.00660357327299614, \"value\": 0.0}, \"4369\": {\"effect\": -0.0008329043984633256, \"value\": 0.0}, \"4393\": {\"effect\": -0.00010879030221844498, \"value\": 0.0}, \"4394\": {\"effect\": 0.0007451161529187369, \"value\": 0.0}, \"4395\": {\"effect\": 0.003230127067423629, \"value\": 0.0}, \"4399\": {\"effect\": -0.019836844931594176, \"value\": 0.0}, \"4403\": {\"effect\": -0.0025756976618318017, \"value\": 0.0}, \"4408\": {\"effect\": -0.011416826346330077, \"value\": 0.0}, \"4423\": {\"effect\": -0.01868949240639157, \"value\": 0.0}, \"4426\": {\"effect\": 0.0005314816441306063, \"value\": 0.0}, \"4427\": {\"effect\": -0.0010520394710129763, \"value\": 0.0}, \"4434\": {\"effect\": 0.005230062757529105, \"value\": 0.0}, \"4444\": {\"effect\": 0.001946179593178511, \"value\": 0.0}, \"4446\": {\"effect\": -5.9109885124650575e-05, \"value\": 0.0}, \"4449\": {\"effect\": 0.004194365083571813, \"value\": 0.0}, \"4455\": {\"effect\": -7.990482749429939e-05, \"value\": 0.0}, \"4461\": {\"effect\": 0.0008602611447960536, \"value\": 0.0}, \"4465\": {\"effect\": 0.0858484735852439, \"value\": 0.1998700201460581}, \"4466\": {\"effect\": -0.01229056652555652, \"value\": 0.0}, \"4471\": {\"effect\": -0.002657453421230592, \"value\": 0.0}, \"4481\": {\"effect\": -0.007344217501180295, \"value\": 0.0}, \"4484\": {\"effect\": -0.006269234768986609, \"value\": 0.0}, \"4489\": {\"effect\": 0.0007202494368776085, \"value\": 0.0}, \"4495\": {\"effect\": 0.0029690914189232725, \"value\": 0.0}, \"4499\": {\"effect\": 0.0006332460681209305, \"value\": 0.0}, \"4503\": {\"effect\": 0.0005379544721339962, \"value\": 0.0}, \"4516\": {\"effect\": -0.004523089192772121, \"value\": 0.0}, \"4524\": {\"effect\": -0.002095843182862441, \"value\": 0.0}, \"4525\": {\"effect\": -0.01420186226441766, \"value\": 0.0}, \"4534\": {\"effect\": -0.0017569441822109797, \"value\": 0.0}, \"4560\": {\"effect\": 0.0022057018887493454, \"value\": 0.0}, \"4564\": {\"effect\": -0.002473829734618632, \"value\": 0.0}, \"4574\": {\"effect\": -0.013142813650638524, \"value\": 0.0}, \"4575\": {\"effect\": 0.0014304409273186228, \"value\": 0.0}, \"4576\": {\"effect\": -0.0015182472744504542, \"value\": 0.0}, \"4580\": {\"effect\": -0.0034813964749251403, \"value\": 0.0}, \"4583\": {\"effect\": -0.0008382305103875174, \"value\": 0.0}, \"4586\": {\"effect\": -0.009052562525623505, \"value\": 0.0}, \"4592\": {\"effect\": -0.011042679766697037, \"value\": 0.0}, \"4594\": {\"effect\": -0.0010293523879607385, \"value\": 0.0}, \"4599\": {\"effect\": 0.006840603332555883, \"value\": 0.0}, \"4600\": {\"effect\": 0.00506941136706029, \"value\": 0.0}, \"4603\": {\"effect\": 0.0002562910006628201, \"value\": 0.0}, \"4610\": {\"effect\": -0.001265264930523897, \"value\": 0.0}, \"4611\": {\"effect\": 0.28343140566582964, \"value\": 0.3099843414586514}, \"4613\": {\"effect\": 0.0017763304308854742, \"value\": 0.0}, \"4652\": {\"effect\": -0.0025075641598720096, \"value\": 0.0}, \"4662\": {\"effect\": 0.0051289503111452825, \"value\": 0.0}, \"4678\": {\"effect\": 0.020273173726389482, \"value\": 0.0}, \"4680\": {\"effect\": 0.617092085482469, \"value\": 0.26095980798782514}, \"4689\": {\"effect\": 0.005424152469691958, \"value\": 0.0}, \"4699\": {\"effect\": -0.003406346490241092, \"value\": 0.0}, \"4700\": {\"effect\": -0.007023095290984703, \"value\": 0.0}, \"4704\": {\"effect\": -0.0021348407086432884, \"value\": 0.0}, \"4716\": {\"effect\": -0.0014571999504347918, \"value\": 0.0}, \"4717\": {\"effect\": -0.0005840716819657746, \"value\": 0.0}, \"4720\": {\"effect\": 0.00102475650078909, \"value\": 0.0}, \"4723\": {\"effect\": 0.00471059393643418, \"value\": 0.0}, \"4740\": {\"effect\": 0.00037550617542895457, \"value\": 0.0}, \"4753\": {\"effect\": 0.002484986598413023, \"value\": 0.0}, \"4761\": {\"effect\": -0.00012250977785452464, \"value\": 0.0}, \"4766\": {\"effect\": 0.003183518465775826, \"value\": 0.0}, \"4769\": {\"effect\": -0.001389799757838702, \"value\": 0.0}, \"4777\": {\"effect\": -0.001991802437940595, \"value\": 0.0}, \"4778\": {\"effect\": -0.010367834461718916, \"value\": 0.0}, \"4779\": {\"effect\": -0.00017971317232808425, \"value\": 0.0}, \"4780\": {\"effect\": -0.00817198858286648, \"value\": 0.0}, \"4794\": {\"effect\": 0.005698751399498439, \"value\": 0.0}, \"4799\": {\"effect\": -0.00280956803018804, \"value\": 0.0}, \"4820\": {\"effect\": -0.003323928230590767, \"value\": 0.0}, \"4826\": {\"effect\": -0.007877691878529394, \"value\": 0.0}, \"4829\": {\"effect\": 0.0018914427518973648, \"value\": 0.0}, \"4834\": {\"effect\": -0.002072988315880552, \"value\": 0.0}, \"4836\": {\"effect\": 0.008426618508217921, \"value\": 0.0}, \"4848\": {\"effect\": 0.003265205685202449, \"value\": 0.0}, \"4850\": {\"effect\": -0.0013098873115720395, \"value\": 0.0}, \"4860\": {\"effect\": -0.0056492012696661995, \"value\": 0.0}, \"4869\": {\"effect\": -0.006755491329302634, \"value\": 0.0}, \"4883\": {\"effect\": 0.0016136806295100087, \"value\": 0.0}, \"4885\": {\"effect\": -7.135501745625976e-05, \"value\": 0.0}, \"4886\": {\"effect\": -0.0003643196592440063, \"value\": 0.0}, \"4904\": {\"effect\": 0.006819003277553994, \"value\": 0.0}, \"4909\": {\"effect\": -0.006843737872949266, \"value\": 0.0}, \"4911\": {\"effect\": 0.000727207067831002, \"value\": 0.0}, \"4922\": {\"effect\": 0.003923760862796086, \"value\": 0.0}, \"4928\": {\"effect\": -0.0007846884726529185, \"value\": 0.0}, \"4930\": {\"effect\": -0.01333576441292422, \"value\": 0.0}, \"4933\": {\"effect\": -0.00576894833461403, \"value\": 0.0}, \"4940\": {\"effect\": -0.005632259550380202, \"value\": 0.0}, \"4941\": {\"effect\": -1.6708773105868444e-06, \"value\": 0.0}, \"4945\": {\"effect\": -0.006779942536553421, \"value\": 0.0}, \"4948\": {\"effect\": 0.0064523175914804115, \"value\": 0.0}, \"4951\": {\"effect\": -0.01268539438276984, \"value\": 0.0}, \"4964\": {\"effect\": -6.89057770703993e-05, \"value\": 0.0}, \"4966\": {\"effect\": 0.0031633086778373497, \"value\": 0.0}, \"4967\": {\"effect\": 0.00149811972790207, \"value\": 0.0}, \"4968\": {\"effect\": -0.0006893629733015952, \"value\": 0.0}, \"4970\": {\"effect\": 0.010747655957895804, \"value\": 0.0}, \"4977\": {\"effect\": -0.030070947577208726, \"value\": 0.0}, \"4981\": {\"effect\": -0.002307499989582759, \"value\": 0.0}, \"4986\": {\"effect\": -0.006579616065118443, \"value\": 0.0}, \"4989\": {\"effect\": -0.001470137046476395, \"value\": 0.0}, \"4992\": {\"effect\": 0.0017657907671962314, \"value\": 0.0}}, \"plot_cmap\": \"RdBu\", \"labelMargin\": 20}),\n",
       "    document.getElementById('iWL8NAYPX41WZW4U20EW4')\n",
       "  );\n",
       "</script>"
      ],
      "text/plain": [
       "<shap.plots._force.AdditiveForceVisualizer at 0x1a437cafcc8>"
      ]
     },
     "execution_count": 490,
     "metadata": {},
     "output_type": "execute_result"
    }
   ],
   "source": [
    "# Visualize SHAP values as text\n",
    "shap.plots.force(shap_values[0])"
   ]
  },
  {
   "cell_type": "code",
   "execution_count": null,
   "id": "3089a68d-d037-4c33-82dd-32b6c08e840f",
   "metadata": {},
   "outputs": [],
   "source": [
    "shap.plots.beeswarm(shap_values[100:3550])\n",
    "#plt.savefig('Sentiment_shap_beeswarm_plot.png', bbox_inches='tight')"
   ]
  },
  {
   "cell_type": "code",
   "execution_count": null,
   "id": "78453c05-793e-4cef-ac54-03f0f7a9d415",
   "metadata": {},
   "outputs": [],
   "source": [
    "shap.summary_plot(shap_values, X_train_v)"
   ]
  },
  {
   "cell_type": "code",
   "execution_count": null,
   "id": "ef6c2217-ebf7-4d59-a400-b6458df9b850",
   "metadata": {},
   "outputs": [],
   "source": [
    "shap.plots.bar(shap_values.min(0))"
   ]
  },
  {
   "cell_type": "code",
   "execution_count": null,
   "id": "887e9e38-9274-452c-99e7-ac98da8d7c22",
   "metadata": {},
   "outputs": [],
   "source": [
    "shap.plots.bar(shap_values.sum(0))"
   ]
  },
  {
   "cell_type": "code",
   "execution_count": 502,
   "id": "82437408-d0ad-440b-81e8-6acb68f5bf7c",
   "metadata": {},
   "outputs": [
    {
     "data": {
      "image/png": "[encoded data removed]",
      "text/plain": [
       "<Figure size 800x650 with 1 Axes>"
      ]
     },
     "metadata": {},
     "output_type": "display_data"
    }
   ],
   "source": [
    "shap.plots.bar(shap_values[:, \"pretentious\"])"
   ]
  },
  {
   "cell_type": "code",
   "execution_count": 479,
   "id": "d22e1fbb-4f68-403b-a418-d8f99713255c",
   "metadata": {},
   "outputs": [
    {
     "name": "stdout",
     "output_type": "stream",
     "text": [
      "milieu fool tony\n"
     ]
    }
   ],
   "source": [
    "decoded_text = tfidf_vectorizer.inverse_transform(X_test_v)\n",
    "original_review = ' '.join(decoded_text[19669])\n",
    "print(original_review)"
   ]
  },
  {
   "cell_type": "code",
   "execution_count": 482,
   "id": "bcb06cef-c155-4173-99e1-453d948a2306",
   "metadata": {},
   "outputs": [
    {
     "data": {
      "text/plain": [
       "26115    auerbach ha resurrected butlers career buried ...\n",
       "29641                          bad film leaf amusing sting\n",
       "75767    squandering space time actorparttime screenwri...\n",
       "83349    film manages present genre knowing wink give n...\n",
       "91390    itforces u reconsider body work far expansive ...\n",
       "                               ...                        \n",
       "79329    littleknown attractive brit marling certainly ...\n",
       "65477    surface dumplin slight charming comedy beauty ...\n",
       "74956    uneven humor relying heavily stereotype leaf d...\n",
       "97718    even villeneuve tasked actor reading herberts ...\n",
       "70462      vulgar ridiculous offensive absolutely riveting\n",
       "Name: reviewText, Length: 24859, dtype: object"
      ]
     },
     "execution_count": 482,
     "metadata": {},
     "output_type": "execute_result"
    }
   ],
   "source": [
    "X_test"
   ]
  },
  {
   "cell_type": "code",
   "execution_count": 484,
   "id": "f0ceb385-e6ac-46ea-a977-f35c6d65262e",
   "metadata": {},
   "outputs": [
    {
     "ename": "KeyError",
     "evalue": "19669",
     "output_type": "error",
     "traceback": [
      "\u001b[1;31m---------------------------------------------------------------------------\u001b[0m",
      "\u001b[1;31mKeyError\u001b[0m                                  Traceback (most recent call last)",
      "\u001b[1;32m~\\anaconda3\\envs\\nlp\\lib\\site-packages\\pandas\\core\\indexes\\base.py\u001b[0m in \u001b[0;36mget_loc\u001b[1;34m(self, key, method, tolerance)\u001b[0m\n\u001b[0;32m   3360\u001b[0m             \u001b[1;32mtry\u001b[0m\u001b[1;33m:\u001b[0m\u001b[1;33m\u001b[0m\u001b[1;33m\u001b[0m\u001b[0m\n\u001b[1;32m-> 3361\u001b[1;33m                 \u001b[1;32mreturn\u001b[0m \u001b[0mself\u001b[0m\u001b[1;33m.\u001b[0m\u001b[0m_engine\u001b[0m\u001b[1;33m.\u001b[0m\u001b[0mget_loc\u001b[0m\u001b[1;33m(\u001b[0m\u001b[0mcasted_key\u001b[0m\u001b[1;33m)\u001b[0m\u001b[1;33m\u001b[0m\u001b[1;33m\u001b[0m\u001b[0m\n\u001b[0m\u001b[0;32m   3362\u001b[0m             \u001b[1;32mexcept\u001b[0m \u001b[0mKeyError\u001b[0m \u001b[1;32mas\u001b[0m \u001b[0merr\u001b[0m\u001b[1;33m:\u001b[0m\u001b[1;33m\u001b[0m\u001b[1;33m\u001b[0m\u001b[0m\n",
      "\u001b[1;32m~\\anaconda3\\envs\\nlp\\lib\\site-packages\\pandas\\_libs\\index.pyx\u001b[0m in \u001b[0;36mpandas._libs.index.IndexEngine.get_loc\u001b[1;34m()\u001b[0m\n",
      "\u001b[1;32m~\\anaconda3\\envs\\nlp\\lib\\site-packages\\pandas\\_libs\\index.pyx\u001b[0m in \u001b[0;36mpandas._libs.index.IndexEngine.get_loc\u001b[1;34m()\u001b[0m\n",
      "\u001b[1;32mpandas\\_libs\\hashtable_class_helper.pxi\u001b[0m in \u001b[0;36mpandas._libs.hashtable.Int64HashTable.get_item\u001b[1;34m()\u001b[0m\n",
      "\u001b[1;32mpandas\\_libs\\hashtable_class_helper.pxi\u001b[0m in \u001b[0;36mpandas._libs.hashtable.Int64HashTable.get_item\u001b[1;34m()\u001b[0m\n",
      "\u001b[1;31mKeyError\u001b[0m: 19669",
      "\nThe above exception was the direct cause of the following exception:\n",
      "\u001b[1;31mKeyError\u001b[0m                                  Traceback (most recent call last)",
      "\u001b[1;32m~\\AppData\\Local\\Temp\\ipykernel_19656\\3402124657.py\u001b[0m in \u001b[0;36m<module>\u001b[1;34m\u001b[0m\n\u001b[1;32m----> 1\u001b[1;33m \u001b[0mprint\u001b[0m\u001b[1;33m(\u001b[0m\u001b[0mX_test\u001b[0m\u001b[1;33m[\u001b[0m\u001b[1;36m19669\u001b[0m\u001b[1;33m]\u001b[0m\u001b[1;33m)\u001b[0m\u001b[1;33m\u001b[0m\u001b[1;33m\u001b[0m\u001b[0m\n\u001b[0m\u001b[0;32m      2\u001b[0m \u001b[1;31m#print(X_test.loc[19669, 'title'])\u001b[0m\u001b[1;33m\u001b[0m\u001b[1;33m\u001b[0m\u001b[1;33m\u001b[0m\u001b[0m\n",
      "\u001b[1;32m~\\anaconda3\\envs\\nlp\\lib\\site-packages\\pandas\\core\\series.py\u001b[0m in \u001b[0;36m__getitem__\u001b[1;34m(self, key)\u001b[0m\n\u001b[0;32m    940\u001b[0m \u001b[1;33m\u001b[0m\u001b[0m\n\u001b[0;32m    941\u001b[0m         \u001b[1;32melif\u001b[0m \u001b[0mkey_is_scalar\u001b[0m\u001b[1;33m:\u001b[0m\u001b[1;33m\u001b[0m\u001b[1;33m\u001b[0m\u001b[0m\n\u001b[1;32m--> 942\u001b[1;33m             \u001b[1;32mreturn\u001b[0m \u001b[0mself\u001b[0m\u001b[1;33m.\u001b[0m\u001b[0m_get_value\u001b[0m\u001b[1;33m(\u001b[0m\u001b[0mkey\u001b[0m\u001b[1;33m)\u001b[0m\u001b[1;33m\u001b[0m\u001b[1;33m\u001b[0m\u001b[0m\n\u001b[0m\u001b[0;32m    943\u001b[0m \u001b[1;33m\u001b[0m\u001b[0m\n\u001b[0;32m    944\u001b[0m         \u001b[1;32mif\u001b[0m \u001b[0mis_hashable\u001b[0m\u001b[1;33m(\u001b[0m\u001b[0mkey\u001b[0m\u001b[1;33m)\u001b[0m\u001b[1;33m:\u001b[0m\u001b[1;33m\u001b[0m\u001b[1;33m\u001b[0m\u001b[0m\n",
      "\u001b[1;32m~\\anaconda3\\envs\\nlp\\lib\\site-packages\\pandas\\core\\series.py\u001b[0m in \u001b[0;36m_get_value\u001b[1;34m(self, label, takeable)\u001b[0m\n\u001b[0;32m   1049\u001b[0m \u001b[1;33m\u001b[0m\u001b[0m\n\u001b[0;32m   1050\u001b[0m         \u001b[1;31m# Similar to Index.get_value, but we do not fall back to positional\u001b[0m\u001b[1;33m\u001b[0m\u001b[1;33m\u001b[0m\u001b[1;33m\u001b[0m\u001b[0m\n\u001b[1;32m-> 1051\u001b[1;33m         \u001b[0mloc\u001b[0m \u001b[1;33m=\u001b[0m \u001b[0mself\u001b[0m\u001b[1;33m.\u001b[0m\u001b[0mindex\u001b[0m\u001b[1;33m.\u001b[0m\u001b[0mget_loc\u001b[0m\u001b[1;33m(\u001b[0m\u001b[0mlabel\u001b[0m\u001b[1;33m)\u001b[0m\u001b[1;33m\u001b[0m\u001b[1;33m\u001b[0m\u001b[0m\n\u001b[0m\u001b[0;32m   1052\u001b[0m         \u001b[1;32mreturn\u001b[0m \u001b[0mself\u001b[0m\u001b[1;33m.\u001b[0m\u001b[0mindex\u001b[0m\u001b[1;33m.\u001b[0m\u001b[0m_get_values_for_loc\u001b[0m\u001b[1;33m(\u001b[0m\u001b[0mself\u001b[0m\u001b[1;33m,\u001b[0m \u001b[0mloc\u001b[0m\u001b[1;33m,\u001b[0m \u001b[0mlabel\u001b[0m\u001b[1;33m)\u001b[0m\u001b[1;33m\u001b[0m\u001b[1;33m\u001b[0m\u001b[0m\n\u001b[0;32m   1053\u001b[0m \u001b[1;33m\u001b[0m\u001b[0m\n",
      "\u001b[1;32m~\\anaconda3\\envs\\nlp\\lib\\site-packages\\pandas\\core\\indexes\\base.py\u001b[0m in \u001b[0;36mget_loc\u001b[1;34m(self, key, method, tolerance)\u001b[0m\n\u001b[0;32m   3361\u001b[0m                 \u001b[1;32mreturn\u001b[0m \u001b[0mself\u001b[0m\u001b[1;33m.\u001b[0m\u001b[0m_engine\u001b[0m\u001b[1;33m.\u001b[0m\u001b[0mget_loc\u001b[0m\u001b[1;33m(\u001b[0m\u001b[0mcasted_key\u001b[0m\u001b[1;33m)\u001b[0m\u001b[1;33m\u001b[0m\u001b[1;33m\u001b[0m\u001b[0m\n\u001b[0;32m   3362\u001b[0m             \u001b[1;32mexcept\u001b[0m \u001b[0mKeyError\u001b[0m \u001b[1;32mas\u001b[0m \u001b[0merr\u001b[0m\u001b[1;33m:\u001b[0m\u001b[1;33m\u001b[0m\u001b[1;33m\u001b[0m\u001b[0m\n\u001b[1;32m-> 3363\u001b[1;33m                 \u001b[1;32mraise\u001b[0m \u001b[0mKeyError\u001b[0m\u001b[1;33m(\u001b[0m\u001b[0mkey\u001b[0m\u001b[1;33m)\u001b[0m \u001b[1;32mfrom\u001b[0m \u001b[0merr\u001b[0m\u001b[1;33m\u001b[0m\u001b[1;33m\u001b[0m\u001b[0m\n\u001b[0m\u001b[0;32m   3364\u001b[0m \u001b[1;33m\u001b[0m\u001b[0m\n\u001b[0;32m   3365\u001b[0m         \u001b[1;32mif\u001b[0m \u001b[0mis_scalar\u001b[0m\u001b[1;33m(\u001b[0m\u001b[0mkey\u001b[0m\u001b[1;33m)\u001b[0m \u001b[1;32mand\u001b[0m \u001b[0misna\u001b[0m\u001b[1;33m(\u001b[0m\u001b[0mkey\u001b[0m\u001b[1;33m)\u001b[0m \u001b[1;32mand\u001b[0m \u001b[1;32mnot\u001b[0m \u001b[0mself\u001b[0m\u001b[1;33m.\u001b[0m\u001b[0mhasnans\u001b[0m\u001b[1;33m:\u001b[0m\u001b[1;33m\u001b[0m\u001b[1;33m\u001b[0m\u001b[0m\n",
      "\u001b[1;31mKeyError\u001b[0m: 19669"
     ]
    }
   ],
   "source": [
    "print(X_test[19669])\n",
    "#print(X_test.loc[19669, 'title'])"
   ]
  },
  {
   "cell_type": "markdown",
   "id": "6b2661b1-ba6a-4c66-adb1-65fa6f5d65bc",
   "metadata": {},
   "source": [
    "### Processing for Linear Regression"
   ]
  },
  {
   "cell_type": "code",
   "execution_count": 13,
   "id": "326e26c0-c76a-4826-be13-79c35472cfb3",
   "metadata": {},
   "outputs": [
    {
     "name": "stderr",
     "output_type": "stream",
     "text": [
      "C:\\Users\\Dan\\anaconda3\\envs\\nlp\\lib\\site-packages\\sklearn\\utils\\deprecation.py:87: FutureWarning: Function get_feature_names is deprecated; get_feature_names is deprecated in 1.0 and will be removed in 1.2. Please use get_feature_names_out instead.\n",
      "  warnings.warn(msg, category=FutureWarning)\n"
     ]
    }
   ],
   "source": [
    "# Creating a dataframe made of the vectorized review text for the linear model\n",
    "massive_features = pd.DataFrame(X.toarray(), columns=tfidf_vectorizer.get_feature_names())"
   ]
  },
  {
   "cell_type": "code",
   "execution_count": 14,
   "id": "60c8d2db-9d4f-4494-8b24-43620e7698ae",
   "metadata": {},
   "outputs": [
    {
     "data": {
      "text/html": [
       "<div>\n",
       "<style scoped>\n",
       "    .dataframe tbody tr th:only-of-type {\n",
       "        vertical-align: middle;\n",
       "    }\n",
       "\n",
       "    .dataframe tbody tr th {\n",
       "        vertical-align: top;\n",
       "    }\n",
       "\n",
       "    .dataframe thead th {\n",
       "        text-align: right;\n",
       "    }\n",
       "</style>\n",
       "<table border=\"1\" class=\"dataframe\">\n",
       "  <thead>\n",
       "    <tr style=\"text-align: right;\">\n",
       "      <th></th>\n",
       "      <th>aaron</th>\n",
       "      <th>abandon</th>\n",
       "      <th>abandoned</th>\n",
       "      <th>ability</th>\n",
       "      <th>able</th>\n",
       "      <th>aboard</th>\n",
       "      <th>abrams</th>\n",
       "      <th>abrupt</th>\n",
       "      <th>absence</th>\n",
       "      <th>absent</th>\n",
       "      <th>...</th>\n",
       "      <th>youngster</th>\n",
       "      <th>youre</th>\n",
       "      <th>youth</th>\n",
       "      <th>youthful</th>\n",
       "      <th>youve</th>\n",
       "      <th>zack</th>\n",
       "      <th>zany</th>\n",
       "      <th>zero</th>\n",
       "      <th>zombie</th>\n",
       "      <th>zone</th>\n",
       "    </tr>\n",
       "  </thead>\n",
       "  <tbody>\n",
       "    <tr>\n",
       "      <th>0</th>\n",
       "      <td>0.0</td>\n",
       "      <td>0.0</td>\n",
       "      <td>0.0</td>\n",
       "      <td>0.0</td>\n",
       "      <td>0.0</td>\n",
       "      <td>0.0</td>\n",
       "      <td>0.0</td>\n",
       "      <td>0.0</td>\n",
       "      <td>0.0</td>\n",
       "      <td>0.0</td>\n",
       "      <td>...</td>\n",
       "      <td>0.0</td>\n",
       "      <td>0.0</td>\n",
       "      <td>0.0</td>\n",
       "      <td>0.0</td>\n",
       "      <td>0.0</td>\n",
       "      <td>0.0</td>\n",
       "      <td>0.0</td>\n",
       "      <td>0.0</td>\n",
       "      <td>0.0</td>\n",
       "      <td>0.0</td>\n",
       "    </tr>\n",
       "    <tr>\n",
       "      <th>1</th>\n",
       "      <td>0.0</td>\n",
       "      <td>0.0</td>\n",
       "      <td>0.0</td>\n",
       "      <td>0.0</td>\n",
       "      <td>0.0</td>\n",
       "      <td>0.0</td>\n",
       "      <td>0.0</td>\n",
       "      <td>0.0</td>\n",
       "      <td>0.0</td>\n",
       "      <td>0.0</td>\n",
       "      <td>...</td>\n",
       "      <td>0.0</td>\n",
       "      <td>0.0</td>\n",
       "      <td>0.0</td>\n",
       "      <td>0.0</td>\n",
       "      <td>0.0</td>\n",
       "      <td>0.0</td>\n",
       "      <td>0.0</td>\n",
       "      <td>0.0</td>\n",
       "      <td>0.0</td>\n",
       "      <td>0.0</td>\n",
       "    </tr>\n",
       "  </tbody>\n",
       "</table>\n",
       "<p>2 rows × 5000 columns</p>\n",
       "</div>"
      ],
      "text/plain": [
       "   aaron  abandon  abandoned  ability  able  aboard  abrams  abrupt  absence  \\\n",
       "0    0.0      0.0        0.0      0.0   0.0     0.0     0.0     0.0      0.0   \n",
       "1    0.0      0.0        0.0      0.0   0.0     0.0     0.0     0.0      0.0   \n",
       "\n",
       "   absent  ...  youngster  youre  youth  youthful  youve  zack  zany  zero  \\\n",
       "0     0.0  ...        0.0    0.0    0.0       0.0    0.0   0.0   0.0   0.0   \n",
       "1     0.0  ...        0.0    0.0    0.0       0.0    0.0   0.0   0.0   0.0   \n",
       "\n",
       "   zombie  zone  \n",
       "0     0.0   0.0  \n",
       "1     0.0   0.0  \n",
       "\n",
       "[2 rows x 5000 columns]"
      ]
     },
     "execution_count": 14,
     "metadata": {},
     "output_type": "execute_result"
    }
   ],
   "source": [
    "massive_features.head(2)"
   ]
  },
  {
   "cell_type": "code",
   "execution_count": 15,
   "id": "257b52dc-37a5-4e2a-a043-dce490c45deb",
   "metadata": {},
   "outputs": [],
   "source": [
    "# Need to rename column because title is also a column in massive_features\n",
    "massive = massive.rename(columns={'title': 'title_'})"
   ]
  },
  {
   "cell_type": "markdown",
   "id": "84aad289-9d64-436f-acfd-120eff73617e",
   "metadata": {},
   "source": [
    "### Second TFIDF vectorizer for Linear Regression (Predicting Delta)"
   ]
  },
  {
   "cell_type": "code",
   "execution_count": 16,
   "id": "5cd0c733-fc83-45d8-8e70-da96ec5473de",
   "metadata": {},
   "outputs": [
    {
     "name": "stderr",
     "output_type": "stream",
     "text": [
      "C:\\Users\\Dan\\anaconda3\\envs\\nlp\\lib\\site-packages\\sklearn\\utils\\deprecation.py:87: FutureWarning: Function get_feature_names is deprecated; get_feature_names is deprecated in 1.0 and will be removed in 1.2. Please use get_feature_names_out instead.\n",
      "  warnings.warn(msg, category=FutureWarning)\n"
     ]
    }
   ],
   "source": [
    "# Vectorizing original df to dense array for linear model\n",
    "tfidf_dense = tfidf_vectorizer.fit_transform(massive['reviewText']).todense()\n",
    "\n",
    "# Naming columns for each vectorized word and combining with original massive dataframe\n",
    "new_cols = tfidf_vectorizer.get_feature_names()\n",
    "combined = massive.join(pd.DataFrame(tfidf_dense, columns=new_cols))"
   ]
  },
  {
   "cell_type": "code",
   "execution_count": 17,
   "id": "688d5fd1-c80d-47f4-8c52-4bc91ec9cdd4",
   "metadata": {},
   "outputs": [],
   "source": [
    "# Dropping review text now that vectorized words are all columns\n",
    "combined = combined.drop(columns=['reviewText'])"
   ]
  },
  {
   "cell_type": "code",
   "execution_count": 18,
   "id": "00ec8b92-efdd-4418-8187-952557b62038",
   "metadata": {},
   "outputs": [],
   "source": [
    "# Fill the nulls in all of the word columns with 0\n",
    "combined = combined.fillna(0)"
   ]
  },
  {
   "cell_type": "code",
   "execution_count": 19,
   "id": "66941dde-e810-4c38-b202-daed024aa859",
   "metadata": {},
   "outputs": [
    {
     "data": {
      "text/plain": [
       "title_            0\n",
       "tomatoMeter       0\n",
       "criticName        0\n",
       "publicatioName    0\n",
       "scoreSentiment    0\n",
       "delta             0\n",
       "aaron             0\n",
       "abandon           0\n",
       "abandoned         0\n",
       "dtype: int64"
      ]
     },
     "execution_count": 19,
     "metadata": {},
     "output_type": "execute_result"
    }
   ],
   "source": [
    "combined.isnull().sum().head(9)"
   ]
  },
  {
   "cell_type": "markdown",
   "id": "8cba6169-15d4-4c78-bac4-0e485ddbee15",
   "metadata": {},
   "source": [
    "### Encoding, Splitting, Scaling, PCA"
   ]
  },
  {
   "cell_type": "code",
   "execution_count": 20,
   "id": "5dac35c1-4c06-49fd-b618-61b900391658",
   "metadata": {},
   "outputs": [
    {
     "data": {
      "text/plain": [
       "Other                  8822\n",
       "Dennis Schwartz         123\n",
       "Jeffrey M. Anderson      89\n",
       "Roger Ebert              88\n",
       "David Nusair             82\n",
       "                       ... \n",
       "Andrea Chase             16\n",
       "Geoffrey Macnab          16\n",
       "Scott Nash               16\n",
       "Jack Mathews             16\n",
       "Eddie Harrison           16\n",
       "Name: criticName, Length: 218, dtype: int64"
      ]
     },
     "execution_count": 20,
     "metadata": {},
     "output_type": "execute_result"
    }
   ],
   "source": [
    "# Renaming the least-appearing critics as Other to be encoded as the same critic later\n",
    "counts = combined.criticName.value_counts()\n",
    "threshold = combined.criticName.isin(counts.index[counts<16])\n",
    "combined.loc[threshold, 'criticName'] = 'Other'\n",
    "combined['criticName'].value_counts()"
   ]
  },
  {
   "cell_type": "code",
   "execution_count": 21,
   "id": "0a6b0a96-a932-4eaf-a06b-4ab22e1ea42a",
   "metadata": {},
   "outputs": [
    {
     "data": {
      "text/plain": [
       "Other                           4223\n",
       "New York Times                   214\n",
       "Variety                          164\n",
       "Los Angeles Times                158\n",
       "Washington Post                  129\n",
       "                                ... \n",
       "Ebert & Roeper                    12\n",
       "film-authority.com                12\n",
       "Kansas City Kansan                12\n",
       "SF Weekly                         12\n",
       "Worcester Telegram & Gazette      12\n",
       "Name: publicatioName, Length: 316, dtype: int64"
      ]
     },
     "execution_count": 21,
     "metadata": {},
     "output_type": "execute_result"
    }
   ],
   "source": [
    "# Repeat for publications\n",
    "counts = combined.publicatioName.value_counts()\n",
    "threshold = combined.publicatioName.isin(counts.index[counts<12])\n",
    "combined.loc[threshold, 'publicatioName'] = 'Other'\n",
    "combined['publicatioName'].value_counts()"
   ]
  },
  {
   "cell_type": "code",
   "execution_count": 22,
   "id": "8e2b43ac-cd1e-45d7-99ed-0febba501f75",
   "metadata": {},
   "outputs": [
    {
     "data": {
      "text/html": [
       "<div>\n",
       "<style scoped>\n",
       "    .dataframe tbody tr th:only-of-type {\n",
       "        vertical-align: middle;\n",
       "    }\n",
       "\n",
       "    .dataframe tbody tr th {\n",
       "        vertical-align: top;\n",
       "    }\n",
       "\n",
       "    .dataframe thead th {\n",
       "        text-align: right;\n",
       "    }\n",
       "</style>\n",
       "<table border=\"1\" class=\"dataframe\">\n",
       "  <thead>\n",
       "    <tr style=\"text-align: right;\">\n",
       "      <th></th>\n",
       "      <th>title_</th>\n",
       "      <th>tomatoMeter</th>\n",
       "      <th>criticName</th>\n",
       "      <th>publicatioName</th>\n",
       "      <th>scoreSentiment</th>\n",
       "      <th>delta</th>\n",
       "      <th>aaron</th>\n",
       "      <th>abandon</th>\n",
       "      <th>abandoned</th>\n",
       "      <th>ability</th>\n",
       "      <th>...</th>\n",
       "      <th>youngster</th>\n",
       "      <th>youre</th>\n",
       "      <th>youth</th>\n",
       "      <th>youthful</th>\n",
       "      <th>youve</th>\n",
       "      <th>zack</th>\n",
       "      <th>zany</th>\n",
       "      <th>zero</th>\n",
       "      <th>zombie</th>\n",
       "      <th>zone</th>\n",
       "    </tr>\n",
       "  </thead>\n",
       "  <tbody>\n",
       "    <tr>\n",
       "      <th>355619</th>\n",
       "      <td>Fist Fight</td>\n",
       "      <td>25.0</td>\n",
       "      <td>Richard Roeper</td>\n",
       "      <td>Chicago Sun-Times</td>\n",
       "      <td>NEGATIVE</td>\n",
       "      <td>-15.0</td>\n",
       "      <td>0.0</td>\n",
       "      <td>0.0</td>\n",
       "      <td>0.0</td>\n",
       "      <td>0.0</td>\n",
       "      <td>...</td>\n",
       "      <td>0.0</td>\n",
       "      <td>0.0</td>\n",
       "      <td>0.0</td>\n",
       "      <td>0.0</td>\n",
       "      <td>0.0</td>\n",
       "      <td>0.0</td>\n",
       "      <td>0.0</td>\n",
       "      <td>0.0</td>\n",
       "      <td>0.0</td>\n",
       "      <td>0.0</td>\n",
       "    </tr>\n",
       "  </tbody>\n",
       "</table>\n",
       "<p>1 rows × 5006 columns</p>\n",
       "</div>"
      ],
      "text/plain": [
       "            title_  tomatoMeter      criticName     publicatioName  \\\n",
       "355619  Fist Fight         25.0  Richard Roeper  Chicago Sun-Times   \n",
       "\n",
       "       scoreSentiment  delta  aaron  abandon  abandoned  ability  ...  \\\n",
       "355619       NEGATIVE  -15.0    0.0      0.0        0.0      0.0  ...   \n",
       "\n",
       "        youngster  youre  youth  youthful  youve  zack  zany  zero  zombie  \\\n",
       "355619        0.0    0.0    0.0       0.0    0.0   0.0   0.0   0.0     0.0   \n",
       "\n",
       "        zone  \n",
       "355619   0.0  \n",
       "\n",
       "[1 rows x 5006 columns]"
      ]
     },
     "execution_count": 22,
     "metadata": {},
     "output_type": "execute_result"
    }
   ],
   "source": [
    "combined.head(1)"
   ]
  },
  {
   "cell_type": "code",
   "execution_count": 23,
   "id": "c935d9a7-59a9-4b8c-a9d1-0e79ab7882c7",
   "metadata": {},
   "outputs": [],
   "source": [
    "# list of columns to dummy\n",
    "categorical_cols = ['title_', 'criticName', 'publicatioName', 'scoreSentiment'] \n",
    "# get dummies on categorical columns\n",
    "combined = pd.get_dummies(combined, columns = categorical_cols)"
   ]
  },
  {
   "cell_type": "code",
   "execution_count": 24,
   "id": "eb89e1f1-0bff-4f86-8651-a43c7a1ef3bc",
   "metadata": {},
   "outputs": [],
   "source": [
    "X = combined.drop(columns=['delta'])\n",
    "y = combined['delta']"
   ]
  },
  {
   "cell_type": "code",
   "execution_count": 25,
   "id": "3ca3d855-6d54-4f08-a154-8263c060c0a5",
   "metadata": {},
   "outputs": [
    {
     "data": {
      "text/plain": [
       "0"
      ]
     },
     "execution_count": 25,
     "metadata": {},
     "output_type": "execute_result"
    }
   ],
   "source": [
    "X.isnull().sum().sum()"
   ]
  },
  {
   "cell_type": "code",
   "execution_count": 26,
   "id": "c7540d4b-fec3-4010-871c-1c04310b757c",
   "metadata": {},
   "outputs": [
    {
     "data": {
      "text/plain": [
       "0"
      ]
     },
     "execution_count": 26,
     "metadata": {},
     "output_type": "execute_result"
    }
   ],
   "source": [
    "y.isnull().sum()"
   ]
  },
  {
   "cell_type": "code",
   "execution_count": 27,
   "id": "9563c69a-5fe8-478e-95ef-96b5baa219e8",
   "metadata": {},
   "outputs": [],
   "source": [
    "# Split the data into training and testing sets\n",
    "X_train, X_test, y_train, y_test = train_test_split(X, y, test_size=0.25, random_state=42)"
   ]
  },
  {
   "cell_type": "code",
   "execution_count": 28,
   "id": "5cd7a49c-11fe-44c7-b41f-d6103075df8b",
   "metadata": {},
   "outputs": [
    {
     "data": {
      "text/plain": [
       "0"
      ]
     },
     "execution_count": 28,
     "metadata": {},
     "output_type": "execute_result"
    }
   ],
   "source": [
    "X_train.isnull().sum().sum()"
   ]
  },
  {
   "cell_type": "code",
   "execution_count": 29,
   "id": "3a22dd78-d2dc-439c-8358-5adcc92a006a",
   "metadata": {},
   "outputs": [],
   "source": [
    "# Scaling X\n",
    "sc = StandardScaler()\n",
    "X_train_sc = sc.fit_transform(X_train)\n",
    "X_test_sc = sc.transform(X_test)"
   ]
  },
  {
   "cell_type": "code",
   "execution_count": 30,
   "id": "b8ae210a-41df-437c-b957-98dd50ebf7c8",
   "metadata": {},
   "outputs": [],
   "source": [
    "pca = PCA(n_components=500)\n",
    "X_train_p = pca.fit_transform(X_train_sc)\n",
    "X_test_p = pca.transform(X_test_sc)"
   ]
  },
  {
   "cell_type": "markdown",
   "id": "fe4690c2-3f40-458d-8c7a-c23be318fe80",
   "metadata": {},
   "source": [
    "## Linear Regression (predicting Delta)"
   ]
  },
  {
   "cell_type": "code",
   "execution_count": 31,
   "id": "23f77fd3-0e56-4485-8a77-da3f463c976f",
   "metadata": {},
   "outputs": [
    {
     "data": {
      "text/plain": [
       "LinearRegression()"
      ]
     },
     "execution_count": 31,
     "metadata": {},
     "output_type": "execute_result"
    }
   ],
   "source": [
    "model = LinearRegression()\n",
    "model.fit(X_train_p, y_train)"
   ]
  },
  {
   "cell_type": "code",
   "execution_count": 32,
   "id": "5c029fd9-cedb-403e-ac43-debd16f82170",
   "metadata": {},
   "outputs": [
    {
     "data": {
      "text/plain": [
       "0.28077819576737584"
      ]
     },
     "execution_count": 32,
     "metadata": {},
     "output_type": "execute_result"
    }
   ],
   "source": [
    "model.score(X_train_p, y_train)"
   ]
  },
  {
   "cell_type": "code",
   "execution_count": 33,
   "id": "f456ec82-348d-434d-8f2a-23ef3bd0eecb",
   "metadata": {},
   "outputs": [
    {
     "data": {
      "text/plain": [
       "0.1758836524732681"
      ]
     },
     "execution_count": 33,
     "metadata": {},
     "output_type": "execute_result"
    }
   ],
   "source": [
    "model.score(X_test_p, y_test)"
   ]
  },
  {
   "cell_type": "markdown",
   "id": "3bedd525-2c0d-4b25-ba73-125e31570485",
   "metadata": {},
   "source": [
    "### Linear Regression Analysis"
   ]
  },
  {
   "cell_type": "code",
   "execution_count": 34,
   "id": "527c8bdf-f07e-4cec-94a6-019223f53430",
   "metadata": {},
   "outputs": [],
   "source": [
    "predictions = model.predict(X_test_p)"
   ]
  },
  {
   "cell_type": "code",
   "execution_count": 42,
   "id": "a559fb4f-1870-4028-99b1-f5a7fcb3685b",
   "metadata": {},
   "outputs": [
    {
     "name": "stdout",
     "output_type": "stream",
     "text": [
      "[-3.56296151 -4.66554148  1.13050078  9.03154539 -5.67624745  6.25023458\n",
      "  4.45586076  4.92743838  1.08207383 -4.10322991  7.1443801   5.96869097\n",
      "  2.84419009 11.59766563  3.68576251 14.24818512  8.32193283  3.32009553\n",
      " -1.29936089  3.3962823 ]\n",
      "486172    -1.0\n",
      "775342   -13.0\n",
      "458534     5.0\n",
      "504301    13.0\n",
      "206296     6.0\n",
      "944304    30.0\n",
      "789519    -3.0\n",
      "138129    10.0\n",
      "267602     6.0\n",
      "585204   -21.0\n",
      "119205    14.0\n",
      "657993     3.0\n",
      "883085     4.0\n",
      "400970     5.0\n",
      "910977    -3.0\n",
      "54238     13.0\n",
      "470976    19.0\n",
      "741257     1.0\n",
      "638701    -7.0\n",
      "8692       6.0\n",
      "Name: delta, dtype: float64\n"
     ]
    }
   ],
   "source": [
    "print(predictions[100:120])\n",
    "print(y_test[100:120])"
   ]
  },
  {
   "cell_type": "code",
   "execution_count": 43,
   "id": "c237ac77-3a13-49b8-b44f-478daa5f2bf7",
   "metadata": {},
   "outputs": [
    {
     "data": {
      "text/plain": [
       "0.9831749268123526"
      ]
     },
     "execution_count": 43,
     "metadata": {},
     "output_type": "execute_result"
    }
   ],
   "source": [
    "predictions.mean()"
   ]
  },
  {
   "cell_type": "code",
   "execution_count": 39,
   "id": "0f5fc5b3-ffb0-4509-8d72-69c2d4d3602d",
   "metadata": {},
   "outputs": [
    {
     "data": {
      "text/plain": [
       "-29.810990313343122"
      ]
     },
     "execution_count": 39,
     "metadata": {},
     "output_type": "execute_result"
    }
   ],
   "source": [
    "predictions.min()"
   ]
  },
  {
   "cell_type": "code",
   "execution_count": 44,
   "id": "0899be1b-dac1-4fb3-9fd5-59b4ef9e95cc",
   "metadata": {},
   "outputs": [
    {
     "data": {
      "text/plain": [
       "0.9017618793379605"
      ]
     },
     "execution_count": 44,
     "metadata": {},
     "output_type": "execute_result"
    }
   ],
   "source": [
    "y_test.mean()"
   ]
  },
  {
   "cell_type": "code",
   "execution_count": 41,
   "id": "d7bfccb8-8773-45df-ab65-d9a95bceb9d5",
   "metadata": {},
   "outputs": [
    {
     "data": {
      "text/plain": [
       "-64.0"
      ]
     },
     "execution_count": 41,
     "metadata": {},
     "output_type": "execute_result"
    }
   ],
   "source": [
    "y_test.min()"
   ]
  },
  {
   "cell_type": "code",
   "execution_count": 49,
   "id": "9ff162a3-a159-4aec-8118-bcd2488299a6",
   "metadata": {},
   "outputs": [
    {
     "data": {
      "image/png": "[encoded data removed]",
      "text/plain": [
       "<Figure size 600x300 with 1 Axes>"
      ]
     },
     "metadata": {},
     "output_type": "display_data"
    }
   ],
   "source": [
    "sns.set(rc = {'figure.figsize':(6,3)})\n",
    "sns.histplot(data=predictions)\n",
    "plt.savefig('tfidf_linear_predictions.png')"
   ]
  },
  {
   "cell_type": "code",
   "execution_count": 50,
   "id": "fdbd8681-2dba-4dcc-8a5e-f0323e1e01a9",
   "metadata": {},
   "outputs": [
    {
     "data": {
      "image/png": "[encoded data removed]",
      "text/plain": [
       "<Figure size 600x300 with 1 Axes>"
      ]
     },
     "metadata": {},
     "output_type": "display_data"
    }
   ],
   "source": [
    "sns.set(rc = {'figure.figsize':(6,3)})\n",
    "sns.histplot(data=y_test)\n",
    "plt.savefig('tfidf_linear_ytest.png')"
   ]
  },
  {
   "cell_type": "code",
   "execution_count": 54,
   "id": "7d73bd6f-4a42-43dc-85a6-8ff6a52f6ed0",
   "metadata": {},
   "outputs": [
    {
     "data": {
      "text/plain": [
       "0.1758836524732681"
      ]
     },
     "execution_count": 54,
     "metadata": {},
     "output_type": "execute_result"
    }
   ],
   "source": [
    "from sklearn.metrics import mean_squared_error, mean_absolute_error, r2_score\n",
    "r2 = r2_score(y_test, predictions)\n",
    "r2"
   ]
  },
  {
   "cell_type": "code",
   "execution_count": null,
   "id": "dbfa879a-bb15-4f62-bba8-375373c29f2d",
   "metadata": {},
   "outputs": [],
   "source": []
  }
 ],
 "metadata": {
  "kernelspec": {
   "display_name": "Python 3 (ipykernel)",
   "language": "python",
   "name": "python3"
  },
  "language_info": {
   "codemirror_mode": {
    "name": "ipython",
    "version": 3
   },
   "file_extension": ".py",
   "mimetype": "text/x-python",
   "name": "python",
   "nbconvert_exporter": "python",
   "pygments_lexer": "ipython3",
   "version": "3.7.13"
  }
 },
 "nbformat": 4,
 "nbformat_minor": 5
}
