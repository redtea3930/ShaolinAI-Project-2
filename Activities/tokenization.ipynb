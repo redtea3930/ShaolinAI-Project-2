{
 "cells": [
  {
   "cell_type": "code",
   "execution_count": 1,
   "metadata": {},
   "outputs": [
    {
     "name": "stderr",
     "output_type": "stream",
     "text": [
      "[nltk_data] Downloading package reuters to\n",
      "[nltk_data]     C:\\Users\\Dan\\AppData\\Roaming\\nltk_data...\n",
      "[nltk_data]   Package reuters is already up-to-date!\n",
      "[nltk_data] Downloading package punkt to\n",
      "[nltk_data]     C:\\Users\\Dan\\AppData\\Roaming\\nltk_data...\n",
      "[nltk_data]   Package punkt is already up-to-date!\n"
     ]
    },
    {
     "data": {
      "text/plain": [
       "True"
      ]
     },
     "execution_count": 1,
     "metadata": {},
     "output_type": "execute_result"
    }
   ],
   "source": [
    "from nltk.corpus import reuters\n",
    "from nltk.tokenize import sent_tokenize, word_tokenize\n",
    "\n",
    "# Code to download corpora\n",
    "import nltk\n",
    "nltk.download(\"reuters\")\n",
    "nltk.download('punkt')"
   ]
  },
  {
   "cell_type": "code",
   "execution_count": null,
   "metadata": {},
   "outputs": [],
   "source": []
  },
  {
   "cell_type": "markdown",
   "metadata": {},
   "source": [
    "## The NLTK Reuters corpus"
   ]
  },
  {
   "cell_type": "code",
   "execution_count": 2,
   "metadata": {},
   "outputs": [
    {
     "name": "stdout",
     "output_type": "stream",
     "text": [
      "['acq', 'alum', 'barley', 'bop', 'carcass', 'castor-oil', 'cocoa', 'coconut', 'coconut-oil', 'coffee', 'copper', 'copra-cake', 'corn', 'cotton', 'cotton-oil', 'cpi', 'cpu', 'crude', 'dfl', 'dlr', 'dmk', 'earn', 'fuel', 'gas', 'gnp', 'gold', 'grain', 'groundnut', 'groundnut-oil', 'heat', 'hog', 'housing', 'income', 'instal-debt', 'interest', 'ipi', 'iron-steel', 'jet', 'jobs', 'l-cattle', 'lead', 'lei', 'lin-oil', 'livestock', 'lumber', 'meal-feed', 'money-fx', 'money-supply', 'naphtha', 'nat-gas', 'nickel', 'nkr', 'nzdlr', 'oat', 'oilseed', 'orange', 'palladium', 'palm-oil', 'palmkernel', 'pet-chem', 'platinum', 'potato', 'propane', 'rand', 'rape-oil', 'rapeseed', 'reserves', 'retail', 'rice', 'rubber', 'rye', 'ship', 'silver', 'sorghum', 'soy-meal', 'soy-oil', 'soybean', 'strategic-metal', 'sugar', 'sun-meal', 'sun-oil', 'sunseed', 'tea', 'tin', 'trade', 'veg-oil', 'wheat', 'wpi', 'yen', 'zinc']\n"
     ]
    }
   ],
   "source": [
    "# The reuters corpus includes over 10,000 news articles, many of which are about financial markets\n",
    "# These articles are tagged by topic, or category\n",
    "print(reuters.categories())"
   ]
  },
  {
   "cell_type": "code",
   "execution_count": 3,
   "metadata": {},
   "outputs": [
    {
     "data": {
      "text/plain": [
       "'test/14829'"
      ]
     },
     "execution_count": 3,
     "metadata": {},
     "output_type": "execute_result"
    }
   ],
   "source": [
    "# We'll find the first article about crude oil\n",
    "reuters.fileids(categories = 'crude')[0]"
   ]
  },
  {
   "cell_type": "code",
   "execution_count": 4,
   "metadata": {},
   "outputs": [
    {
     "name": "stdout",
     "output_type": "stream",
     "text": [
      "JAPAN TO REVISE LONG-TERM ENERGY DEMAND DOWNWARDS\n",
      "  The Ministry of International Trade and\n",
      "  Industry (MITI) will revise its long-term energy supply/demand\n",
      "  outlook by August to meet a forecast downtrend in Japanese\n",
      "  energy demand, ministry officials said.\n",
      "      MITI is expected to lower the projection for primary energy\n",
      "  supplies in the year 2000 to 550 mln kilolitres (kl) from 600\n",
      "  mln, they said.\n",
      "      The decision follows the emergence of structural changes in\n",
      "  Japanese industry following the rise in the value of the yen\n",
      "  and a decline in domestic electric power demand.\n",
      "      MITI is planning to work out a revised energy supply/demand\n",
      "  outlook through deliberations of committee meetings of the\n",
      "  Agency of Natural Resources and Energy, the officials said.\n",
      "      They said MITI will also review the breakdown of energy\n",
      "  supply sources, including oil, nuclear, coal and natural gas.\n",
      "      Nuclear energy provided the bulk of Japan's electric power\n",
      "  in the fiscal year ended March 31, supplying an estimated 27\n",
      "  pct on a kilowatt/hour basis, followed by oil (23 pct) and\n",
      "  liquefied natural gas (21 pct), they noted.\n",
      "  \n",
      "\n",
      "\n"
     ]
    }
   ],
   "source": [
    "article = reuters.raw('test/14829')\n",
    "print(article)"
   ]
  },
  {
   "cell_type": "markdown",
   "metadata": {},
   "source": [
    "## Tokenizing with string splits"
   ]
  },
  {
   "cell_type": "code",
   "execution_count": 5,
   "metadata": {},
   "outputs": [
    {
     "data": {
      "text/plain": [
       "['JAPAN TO REVISE LONG-TERM ENERGY DEMAND DOWNWARDS\\n  The Ministry of International Trade and\\n  Industry (MITI) will revise its long-term energy supply/demand\\n  outlook by August to meet a forecast downtrend in Japanese\\n  energy demand, ministry officials said',\n",
       " '\\n      MITI is expected to lower the projection for primary energy\\n  supplies in the year 2000 to 550 mln kilolitres (kl) from 600\\n  mln, they said',\n",
       " '\\n      The decision follows the emergence of structural changes in\\n  Japanese industry following the rise in the value of the yen\\n  and a decline in domestic electric power demand',\n",
       " '\\n      MITI is planning to work out a revised energy supply/demand\\n  outlook through deliberations of committee meetings of the\\n  Agency of Natural Resources and Energy, the officials said',\n",
       " '\\n      They said MITI will also review the breakdown of energy\\n  supply sources, including oil, nuclear, coal and natural gas',\n",
       " \"\\n      Nuclear energy provided the bulk of Japan's electric power\\n  in the fiscal year ended March 31, supplying an estimated 27\\n  pct on a kilowatt/hour basis, followed by oil (23 pct) and\\n  liquefied natural gas (21 pct), they noted\",\n",
       " '\\n  \\n\\n']"
      ]
     },
     "execution_count": 5,
     "metadata": {},
     "output_type": "execute_result"
    }
   ],
   "source": [
    "# Simple sentence tokenizing with string split\n",
    "article.split('.')"
   ]
  },
  {
   "cell_type": "code",
   "execution_count": 6,
   "metadata": {},
   "outputs": [
    {
     "name": "stdout",
     "output_type": "stream",
     "text": [
      "['JAPAN', 'TO', 'REVISE', 'LONG-TERM', 'ENERGY', 'DEMAND', 'DOWNWARDS\\n', '', 'The', 'Ministry', 'of', 'International', 'Trade', 'and\\n', '', 'Industry', '(MITI)', 'will', 'revise', 'its', 'long-term', 'energy', 'supply/demand\\n', '', 'outlook', 'by', 'August', 'to', 'meet', 'a', 'forecast', 'downtrend', 'in', 'Japanese\\n', '', 'energy', 'demand,', 'ministry', 'officials', 'said']\n"
     ]
    }
   ],
   "source": [
    "sent = article.split('.')[0]\n",
    "print(sent.split(' '))"
   ]
  },
  {
   "cell_type": "markdown",
   "metadata": {},
   "source": [
    "## NLTK tokenization"
   ]
  },
  {
   "cell_type": "code",
   "execution_count": 7,
   "metadata": {},
   "outputs": [
    {
     "data": {
      "text/plain": [
       "['JAPAN TO REVISE LONG-TERM ENERGY DEMAND DOWNWARDS\\n  The Ministry of International Trade and\\n  Industry (MITI) will revise its long-term energy supply/demand\\n  outlook by August to meet a forecast downtrend in Japanese\\n  energy demand, ministry officials said.',\n",
       " 'MITI is expected to lower the projection for primary energy\\n  supplies in the year 2000 to 550 mln kilolitres (kl) from 600\\n  mln, they said.',\n",
       " 'The decision follows the emergence of structural changes in\\n  Japanese industry following the rise in the value of the yen\\n  and a decline in domestic electric power demand.',\n",
       " 'MITI is planning to work out a revised energy supply/demand\\n  outlook through deliberations of committee meetings of the\\n  Agency of Natural Resources and Energy, the officials said.',\n",
       " 'They said MITI will also review the breakdown of energy\\n  supply sources, including oil, nuclear, coal and natural gas.',\n",
       " \"Nuclear energy provided the bulk of Japan's electric power\\n  in the fiscal year ended March 31, supplying an estimated 27\\n  pct on a kilowatt/hour basis, followed by oil (23 pct) and\\n  liquefied natural gas (21 pct), they noted.\"]"
      ]
     },
     "execution_count": 7,
     "metadata": {},
     "output_type": "execute_result"
    }
   ],
   "source": [
    "# Now using NLTK's sent_tokenize function\n",
    "sent_tokenize(article)"
   ]
  },
  {
   "cell_type": "code",
   "execution_count": 8,
   "metadata": {},
   "outputs": [
    {
     "name": "stdout",
     "output_type": "stream",
     "text": [
      "['JAPAN', 'TO', 'REVISE', 'LONG-TERM', 'ENERGY', 'DEMAND', 'DOWNWARDS', 'The', 'Ministry', 'of', 'International', 'Trade', 'and', 'Industry', '(', 'MITI', ')', 'will', 'revise', 'its', 'long-term', 'energy', 'supply/demand', 'outlook', 'by', 'August', 'to', 'meet', 'a', 'forecast', 'downtrend', 'in', 'Japanese', 'energy', 'demand', ',', 'ministry', 'officials', 'said']\n"
     ]
    }
   ],
   "source": [
    "#...and word_tokenize function\n",
    "print(word_tokenize(sent))"
   ]
  },
  {
   "cell_type": "code",
   "execution_count": 9,
   "metadata": {},
   "outputs": [],
   "source": [
    "words = word_tokenize(sent)"
   ]
  },
  {
   "cell_type": "code",
   "execution_count": null,
   "metadata": {},
   "outputs": [],
   "source": []
  }
 ],
 "metadata": {
  "kernelspec": {
   "display_name": "Python 3 (ipykernel)",
   "language": "python",
   "name": "python3"
  },
  "language_info": {
   "codemirror_mode": {
    "name": "ipython",
    "version": 3
   },
   "file_extension": ".py",
   "mimetype": "text/x-python",
   "name": "python",
   "nbconvert_exporter": "python",
   "pygments_lexer": "ipython3",
   "version": "3.7.13"
  }
 },
 "nbformat": 4,
 "nbformat_minor": 4
}
