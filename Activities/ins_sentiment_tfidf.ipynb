{
 "cells": [
  {
   "cell_type": "code",
   "execution_count": 1,
   "id": "d3541d9b-65fb-4d9a-bd4e-87bbad8c6e68",
   "metadata": {},
   "outputs": [],
   "source": [
    "import pandas as pd\n",
    "import numpy as np\n",
    "import nltk\n",
    "from nltk.corpus import stopwords\n",
    "from nltk.tokenize import word_tokenize\n",
    "from nltk.stem import WordNetLemmatizer\n",
    "import re"
   ]
  },
  {
   "cell_type": "code",
   "execution_count": 2,
   "id": "b313c383-1ef4-4d3d-96b5-34ab210b4db6",
   "metadata": {},
   "outputs": [
    {
     "data": {
      "text/html": [
       "<div>\n",
       "<style scoped>\n",
       "    .dataframe tbody tr th:only-of-type {\n",
       "        vertical-align: middle;\n",
       "    }\n",
       "\n",
       "    .dataframe tbody tr th {\n",
       "        vertical-align: top;\n",
       "    }\n",
       "\n",
       "    .dataframe thead th {\n",
       "        text-align: right;\n",
       "    }\n",
       "</style>\n",
       "<table border=\"1\" class=\"dataframe\">\n",
       "  <thead>\n",
       "    <tr style=\"text-align: right;\">\n",
       "      <th></th>\n",
       "      <th>reviewText</th>\n",
       "      <th>label</th>\n",
       "    </tr>\n",
       "  </thead>\n",
       "  <tbody>\n",
       "    <tr>\n",
       "      <th>0</th>\n",
       "      <td>its up to you but as per the poppyaustin.com s...</td>\n",
       "      <td>0</td>\n",
       "    </tr>\n",
       "    <tr>\n",
       "      <th>1</th>\n",
       "      <td>I didn't have this item in my home for more th...</td>\n",
       "      <td>0</td>\n",
       "    </tr>\n",
       "    <tr>\n",
       "      <th>2</th>\n",
       "      <td>Description states there should be 144 tattoos...</td>\n",
       "      <td>0</td>\n",
       "    </tr>\n",
       "    <tr>\n",
       "      <th>3</th>\n",
       "      <td>Agreed, this hair is nothing like what you act...</td>\n",
       "      <td>0</td>\n",
       "    </tr>\n",
       "    <tr>\n",
       "      <th>4</th>\n",
       "      <td>Not quite what I expected!</td>\n",
       "      <td>0</td>\n",
       "    </tr>\n",
       "    <tr>\n",
       "      <th>...</th>\n",
       "      <td>...</td>\n",
       "      <td>...</td>\n",
       "    </tr>\n",
       "    <tr>\n",
       "      <th>99995</th>\n",
       "      <td>This is very good for eczema and even more eff...</td>\n",
       "      <td>1</td>\n",
       "    </tr>\n",
       "    <tr>\n",
       "      <th>99996</th>\n",
       "      <td>Love the shimmer and a chap stick as well.</td>\n",
       "      <td>1</td>\n",
       "    </tr>\n",
       "    <tr>\n",
       "      <th>99997</th>\n",
       "      <td>Thanks!!!</td>\n",
       "      <td>1</td>\n",
       "    </tr>\n",
       "    <tr>\n",
       "      <th>99998</th>\n",
       "      <td>Love it, and have been wearing this for 30 years</td>\n",
       "      <td>1</td>\n",
       "    </tr>\n",
       "    <tr>\n",
       "      <th>99999</th>\n",
       "      <td>These brushes were a birthday gift for my 14 y...</td>\n",
       "      <td>1</td>\n",
       "    </tr>\n",
       "  </tbody>\n",
       "</table>\n",
       "<p>100000 rows × 2 columns</p>\n",
       "</div>"
      ],
      "text/plain": [
       "                                              reviewText  label\n",
       "0      its up to you but as per the poppyaustin.com s...      0\n",
       "1      I didn't have this item in my home for more th...      0\n",
       "2      Description states there should be 144 tattoos...      0\n",
       "3      Agreed, this hair is nothing like what you act...      0\n",
       "4                             Not quite what I expected!      0\n",
       "...                                                  ...    ...\n",
       "99995  This is very good for eczema and even more eff...      1\n",
       "99996         Love the shimmer and a chap stick as well.      1\n",
       "99997                                          Thanks!!!      1\n",
       "99998   Love it, and have been wearing this for 30 years      1\n",
       "99999  These brushes were a birthday gift for my 14 y...      1\n",
       "\n",
       "[100000 rows x 2 columns]"
      ]
     },
     "execution_count": 2,
     "metadata": {},
     "output_type": "execute_result"
    }
   ],
   "source": [
    "data = pd.read_csv('../Resources/beauty_reviews.csv')\n",
    "data"
   ]
  },
  {
   "cell_type": "code",
   "execution_count": 3,
   "id": "8fecd5df-497c-4725-8eb0-d6a4817ea1bf",
   "metadata": {},
   "outputs": [],
   "source": [
    "data['pre_process'] = data['reviewText'].apply(lambda x: ' '.join(x.lower() for x in str(x).split()))"
   ]
  },
  {
   "cell_type": "code",
   "execution_count": 4,
   "id": "eebe960e-b628-4865-91c5-c13c1f8415a3",
   "metadata": {},
   "outputs": [
    {
     "name": "stderr",
     "output_type": "stream",
     "text": [
      "C:\\Users\\nlpza\\.conda\\envs\\dev\\lib\\site-packages\\bs4\\__init__.py:439: MarkupResemblesLocatorWarning: The input looks more like a filename than markup. You may want to open this file and pass the filehandle into Beautiful Soup.\n",
      "  MarkupResemblesLocatorWarning\n",
      "C:\\Users\\nlpza\\.conda\\envs\\dev\\lib\\site-packages\\bs4\\__init__.py:408: MarkupResemblesLocatorWarning: The input looks more like a URL than markup. You may want to use an HTTP client like requests to get the document behind the URL, and feed that document to Beautiful Soup.\n",
      "  MarkupResemblesLocatorWarning\n"
     ]
    }
   ],
   "source": [
    "from bs4 import BeautifulSoup\n",
    "data['pre_process']=data['pre_process'].apply(lambda x: BeautifulSoup(x).get_text())\n",
    "\n",
    "data['pre_process']=data['pre_process'].apply(lambda x: re.sub(r'http\\S+', '', x))"
   ]
  },
  {
   "cell_type": "code",
   "execution_count": 5,
   "id": "2b0b115d-8ca6-49a9-ae5f-04c85d755b28",
   "metadata": {},
   "outputs": [],
   "source": [
    "def process_text(doc):\n",
    "    sw = set(stopwords.words('english'))\n",
    "    regex = re.compile(\"[^a-zA-Z ]\")\n",
    "    re_clean = regex.sub('', doc)\n",
    "    lemmatizer = WordNetLemmatizer()\n",
    "    lem = [lemmatizer.lemmatize(w) for w in word_tokenize(re_clean)]\n",
    "    output = [word.lower() for word in lem if word.lower() not in sw]\n",
    "    return ' '.join(output)\n",
    "data['pre_process'] = data['pre_process'].apply(lambda x: process_text(x))"
   ]
  },
  {
   "cell_type": "code",
   "execution_count": 6,
   "id": "0a14277a-087e-459a-a478-44b41794424e",
   "metadata": {},
   "outputs": [
    {
     "data": {
      "text/html": [
       "<div>\n",
       "<style scoped>\n",
       "    .dataframe tbody tr th:only-of-type {\n",
       "        vertical-align: middle;\n",
       "    }\n",
       "\n",
       "    .dataframe tbody tr th {\n",
       "        vertical-align: top;\n",
       "    }\n",
       "\n",
       "    .dataframe thead th {\n",
       "        text-align: right;\n",
       "    }\n",
       "</style>\n",
       "<table border=\"1\" class=\"dataframe\">\n",
       "  <thead>\n",
       "    <tr style=\"text-align: right;\">\n",
       "      <th></th>\n",
       "      <th>reviewText</th>\n",
       "      <th>label</th>\n",
       "      <th>pre_process</th>\n",
       "    </tr>\n",
       "  </thead>\n",
       "  <tbody>\n",
       "    <tr>\n",
       "      <th>0</th>\n",
       "      <td>its up to you but as per the poppyaustin.com s...</td>\n",
       "      <td>0</td>\n",
       "      <td>per poppyaustincom saysfor avoidance doubt pro...</td>\n",
       "    </tr>\n",
       "    <tr>\n",
       "      <th>1</th>\n",
       "      <td>I didn't have this item in my home for more th...</td>\n",
       "      <td>0</td>\n",
       "      <td>didnt item home two hour onoff button wouldnt ...</td>\n",
       "    </tr>\n",
       "    <tr>\n",
       "      <th>2</th>\n",
       "      <td>Description states there should be 144 tattoos...</td>\n",
       "      <td>0</td>\n",
       "      <td>description state tattoo received disappointed...</td>\n",
       "    </tr>\n",
       "    <tr>\n",
       "      <th>3</th>\n",
       "      <td>Agreed, this hair is nothing like what you act...</td>\n",
       "      <td>0</td>\n",
       "      <td>agreed hair nothing like actually receive clea...</td>\n",
       "    </tr>\n",
       "    <tr>\n",
       "      <th>4</th>\n",
       "      <td>Not quite what I expected!</td>\n",
       "      <td>0</td>\n",
       "      <td>quite expected</td>\n",
       "    </tr>\n",
       "    <tr>\n",
       "      <th>...</th>\n",
       "      <td>...</td>\n",
       "      <td>...</td>\n",
       "      <td>...</td>\n",
       "    </tr>\n",
       "    <tr>\n",
       "      <th>99995</th>\n",
       "      <td>This is very good for eczema and even more eff...</td>\n",
       "      <td>1</td>\n",
       "      <td>good eczema even effective used shower skin st...</td>\n",
       "    </tr>\n",
       "    <tr>\n",
       "      <th>99996</th>\n",
       "      <td>Love the shimmer and a chap stick as well.</td>\n",
       "      <td>1</td>\n",
       "      <td>love shimmer chap stick well</td>\n",
       "    </tr>\n",
       "    <tr>\n",
       "      <th>99997</th>\n",
       "      <td>Thanks!!!</td>\n",
       "      <td>1</td>\n",
       "      <td>thanks</td>\n",
       "    </tr>\n",
       "    <tr>\n",
       "      <th>99998</th>\n",
       "      <td>Love it, and have been wearing this for 30 years</td>\n",
       "      <td>1</td>\n",
       "      <td>love wearing year</td>\n",
       "    </tr>\n",
       "    <tr>\n",
       "      <th>99999</th>\n",
       "      <td>These brushes were a birthday gift for my 14 y...</td>\n",
       "      <td>1</td>\n",
       "      <td>brush birthday gift yr old granddaughter picke...</td>\n",
       "    </tr>\n",
       "  </tbody>\n",
       "</table>\n",
       "<p>100000 rows × 3 columns</p>\n",
       "</div>"
      ],
      "text/plain": [
       "                                              reviewText  label  \\\n",
       "0      its up to you but as per the poppyaustin.com s...      0   \n",
       "1      I didn't have this item in my home for more th...      0   \n",
       "2      Description states there should be 144 tattoos...      0   \n",
       "3      Agreed, this hair is nothing like what you act...      0   \n",
       "4                             Not quite what I expected!      0   \n",
       "...                                                  ...    ...   \n",
       "99995  This is very good for eczema and even more eff...      1   \n",
       "99996         Love the shimmer and a chap stick as well.      1   \n",
       "99997                                          Thanks!!!      1   \n",
       "99998   Love it, and have been wearing this for 30 years      1   \n",
       "99999  These brushes were a birthday gift for my 14 y...      1   \n",
       "\n",
       "                                             pre_process  \n",
       "0      per poppyaustincom saysfor avoidance doubt pro...  \n",
       "1      didnt item home two hour onoff button wouldnt ...  \n",
       "2      description state tattoo received disappointed...  \n",
       "3      agreed hair nothing like actually receive clea...  \n",
       "4                                         quite expected  \n",
       "...                                                  ...  \n",
       "99995  good eczema even effective used shower skin st...  \n",
       "99996                       love shimmer chap stick well  \n",
       "99997                                             thanks  \n",
       "99998                                  love wearing year  \n",
       "99999  brush birthday gift yr old granddaughter picke...  \n",
       "\n",
       "[100000 rows x 3 columns]"
      ]
     },
     "execution_count": 6,
     "metadata": {},
     "output_type": "execute_result"
    }
   ],
   "source": [
    "data"
   ]
  },
  {
   "cell_type": "code",
   "execution_count": 7,
   "id": "c772a942-1a59-4e7e-8e58-5c57df7c70d5",
   "metadata": {},
   "outputs": [
    {
     "name": "stdout",
     "output_type": "stream",
     "text": [
      "Train: ((75000,), (75000,))\n",
      "Test: ((25000,), (25000,))\n"
     ]
    }
   ],
   "source": [
    "from sklearn.model_selection import train_test_split\n",
    "X_train, X_test, y_train, y_test = train_test_split(data['pre_process'], data['label'], test_size=0.25, random_state=30)\n",
    "print(f'Train: {X_train.shape,y_train.shape}\\nTest: {X_test.shape,y_test.shape}')"
   ]
  },
  {
   "cell_type": "code",
   "execution_count": 8,
   "id": "553d318c-9446-44e5-ba8c-9d61d50b59af",
   "metadata": {},
   "outputs": [],
   "source": [
    "from sklearn.feature_extraction.text import TfidfVectorizer\n",
    "vectorizer= TfidfVectorizer()\n",
    "tf_X_train = vectorizer.fit_transform(X_train)\n",
    "tf_X_test = vectorizer.transform(X_test)"
   ]
  },
  {
   "cell_type": "code",
   "execution_count": 11,
   "id": "f2783e94-6f7c-465f-b8b8-19bfd486ee42",
   "metadata": {},
   "outputs": [
    {
     "data": {
      "text/plain": [
       "5.051536498556645"
      ]
     },
     "execution_count": 11,
     "metadata": {},
     "output_type": "execute_result"
    }
   ],
   "source": [
    "tf_X_train[0].toarray().sum()"
   ]
  },
  {
   "cell_type": "code",
   "execution_count": 12,
   "id": "751d159d-2748-42ab-9365-14b262b4d20c",
   "metadata": {},
   "outputs": [],
   "source": [
    "from sklearn.linear_model import LogisticRegression\n",
    "clf = LogisticRegression(max_iter=1000,solver='saga')"
   ]
  },
  {
   "cell_type": "code",
   "execution_count": 13,
   "id": "7029cba8-fc16-441d-a681-fa6438503741",
   "metadata": {},
   "outputs": [
    {
     "data": {
      "text/plain": [
       "LogisticRegression(max_iter=1000, solver='saga')"
      ]
     },
     "execution_count": 13,
     "metadata": {},
     "output_type": "execute_result"
    }
   ],
   "source": [
    "clf.fit(tf_X_train,y_train)"
   ]
  },
  {
   "cell_type": "code",
   "execution_count": 14,
   "id": "690ac123-4a0d-4382-ab1e-7ac526af5b28",
   "metadata": {},
   "outputs": [],
   "source": [
    "y_test_pred=clf.predict(tf_X_test)"
   ]
  },
  {
   "cell_type": "code",
   "execution_count": 15,
   "id": "ba889160-479b-4e12-87a5-2f003b653039",
   "metadata": {},
   "outputs": [
    {
     "data": {
      "text/html": [
       "<style type=\"text/css\">\n",
       "#T_bcb2b_row0_col0, #T_bcb2b_row0_col2, #T_bcb2b_row1_col1 {\n",
       "  background-color: #006837;\n",
       "  color: #f1f1f1;\n",
       "}\n",
       "#T_bcb2b_row0_col1, #T_bcb2b_row1_col0, #T_bcb2b_row1_col2 {\n",
       "  background-color: #a50026;\n",
       "  color: #f1f1f1;\n",
       "}\n",
       "</style>\n",
       "<table id=\"T_bcb2b_\">\n",
       "  <thead>\n",
       "    <tr>\n",
       "      <th class=\"blank level0\" >&nbsp;</th>\n",
       "      <th class=\"col_heading level0 col0\" >precision</th>\n",
       "      <th class=\"col_heading level0 col1\" >recall</th>\n",
       "      <th class=\"col_heading level0 col2\" >f1-score</th>\n",
       "      <th class=\"col_heading level0 col3\" >support</th>\n",
       "    </tr>\n",
       "  </thead>\n",
       "  <tbody>\n",
       "    <tr>\n",
       "      <th id=\"T_bcb2b_level0_row0\" class=\"row_heading level0 row0\" >0</th>\n",
       "      <td id=\"T_bcb2b_row0_col0\" class=\"data row0 col0\" >0.890665</td>\n",
       "      <td id=\"T_bcb2b_row0_col1\" class=\"data row0 col1\" >0.880582</td>\n",
       "      <td id=\"T_bcb2b_row0_col2\" class=\"data row0 col2\" >0.885595</td>\n",
       "      <td id=\"T_bcb2b_row0_col3\" class=\"data row0 col3\" >12720</td>\n",
       "    </tr>\n",
       "    <tr>\n",
       "      <th id=\"T_bcb2b_level0_row1\" class=\"row_heading level0 row1\" >1</th>\n",
       "      <td id=\"T_bcb2b_row1_col0\" class=\"data row1 col0\" >0.877737</td>\n",
       "      <td id=\"T_bcb2b_row1_col1\" class=\"data row1 col1\" >0.888029</td>\n",
       "      <td id=\"T_bcb2b_row1_col2\" class=\"data row1 col2\" >0.882853</td>\n",
       "      <td id=\"T_bcb2b_row1_col3\" class=\"data row1 col3\" >12280</td>\n",
       "    </tr>\n",
       "    <tr>\n",
       "      <th id=\"T_bcb2b_level0_row2\" class=\"row_heading level0 row2\" >accuracy</th>\n",
       "      <td id=\"T_bcb2b_row2_col0\" class=\"data row2 col0\" >0.884240</td>\n",
       "      <td id=\"T_bcb2b_row2_col1\" class=\"data row2 col1\" >0.884240</td>\n",
       "      <td id=\"T_bcb2b_row2_col2\" class=\"data row2 col2\" >0.884240</td>\n",
       "      <td id=\"T_bcb2b_row2_col3\" class=\"data row2 col3\" >0</td>\n",
       "    </tr>\n",
       "    <tr>\n",
       "      <th id=\"T_bcb2b_level0_row3\" class=\"row_heading level0 row3\" >macro avg</th>\n",
       "      <td id=\"T_bcb2b_row3_col0\" class=\"data row3 col0\" >0.884201</td>\n",
       "      <td id=\"T_bcb2b_row3_col1\" class=\"data row3 col1\" >0.884306</td>\n",
       "      <td id=\"T_bcb2b_row3_col2\" class=\"data row3 col2\" >0.884224</td>\n",
       "      <td id=\"T_bcb2b_row3_col3\" class=\"data row3 col3\" >25000</td>\n",
       "    </tr>\n",
       "    <tr>\n",
       "      <th id=\"T_bcb2b_level0_row4\" class=\"row_heading level0 row4\" >weighted avg</th>\n",
       "      <td id=\"T_bcb2b_row4_col0\" class=\"data row4 col0\" >0.884314</td>\n",
       "      <td id=\"T_bcb2b_row4_col1\" class=\"data row4 col1\" >0.884240</td>\n",
       "      <td id=\"T_bcb2b_row4_col2\" class=\"data row4 col2\" >0.884248</td>\n",
       "      <td id=\"T_bcb2b_row4_col3\" class=\"data row4 col3\" >25000</td>\n",
       "    </tr>\n",
       "  </tbody>\n",
       "</table>\n"
      ],
      "text/plain": [
       "<pandas.io.formats.style.Styler at 0x2ab9163c308>"
      ]
     },
     "execution_count": 15,
     "metadata": {},
     "output_type": "execute_result"
    }
   ],
   "source": [
    "from sklearn.metrics import classification_report\n",
    "report = pd.DataFrame(classification_report(y_test_pred, \n",
    "                                        y_test, digits=2,\n",
    "                                        output_dict=True)).T\n",
    "\n",
    "report['support'] = report.support.apply(int)\n",
    "\n",
    "report.style.background_gradient(cmap='RdYlGn',\n",
    "                             subset=pd.IndexSlice['0':'9', :'f1-score'])"
   ]
  },
  {
   "cell_type": "code",
   "execution_count": 16,
   "id": "ec24a128-b4bb-44df-97cf-1b548cfbcfee",
   "metadata": {},
   "outputs": [],
   "source": [
    "from sklearn.svm import LinearSVC\n",
    "clf = LinearSVC(random_state=0)"
   ]
  },
  {
   "cell_type": "code",
   "execution_count": 17,
   "id": "e1792c4a-e6db-47c6-8c4b-ed3f24414c6e",
   "metadata": {},
   "outputs": [
    {
     "data": {
      "text/plain": [
       "LinearSVC(random_state=0)"
      ]
     },
     "execution_count": 17,
     "metadata": {},
     "output_type": "execute_result"
    }
   ],
   "source": [
    "clf.fit(tf_X_train,y_train)"
   ]
  },
  {
   "cell_type": "code",
   "execution_count": 18,
   "id": "8839d5cf-1f67-4153-bf06-f200141bbf30",
   "metadata": {},
   "outputs": [],
   "source": [
    "y_test_pred=clf.predict(tf_X_test)"
   ]
  },
  {
   "cell_type": "code",
   "execution_count": 19,
   "id": "d638086b-c477-4dde-b697-b5163c44d172",
   "metadata": {},
   "outputs": [
    {
     "data": {
      "text/html": [
       "<style type=\"text/css\">\n",
       "#T_75eee_row0_col0, #T_75eee_row0_col2, #T_75eee_row1_col1 {\n",
       "  background-color: #006837;\n",
       "  color: #f1f1f1;\n",
       "}\n",
       "#T_75eee_row0_col1, #T_75eee_row1_col0, #T_75eee_row1_col2 {\n",
       "  background-color: #a50026;\n",
       "  color: #f1f1f1;\n",
       "}\n",
       "</style>\n",
       "<table id=\"T_75eee_\">\n",
       "  <thead>\n",
       "    <tr>\n",
       "      <th class=\"blank level0\" >&nbsp;</th>\n",
       "      <th class=\"col_heading level0 col0\" >precision</th>\n",
       "      <th class=\"col_heading level0 col1\" >recall</th>\n",
       "      <th class=\"col_heading level0 col2\" >f1-score</th>\n",
       "      <th class=\"col_heading level0 col3\" >support</th>\n",
       "    </tr>\n",
       "  </thead>\n",
       "  <tbody>\n",
       "    <tr>\n",
       "      <th id=\"T_75eee_level0_row0\" class=\"row_heading level0 row0\" >0</th>\n",
       "      <td id=\"T_75eee_row0_col0\" class=\"data row0 col0\" >0.886450</td>\n",
       "      <td id=\"T_75eee_row0_col1\" class=\"data row0 col1\" >0.880708</td>\n",
       "      <td id=\"T_75eee_row0_col2\" class=\"data row0 col2\" >0.883570</td>\n",
       "      <td id=\"T_75eee_row0_col3\" class=\"data row0 col3\" >12658</td>\n",
       "    </tr>\n",
       "    <tr>\n",
       "      <th id=\"T_75eee_level0_row1\" class=\"row_heading level0 row1\" >1</th>\n",
       "      <td id=\"T_75eee_row1_col0\" class=\"data row1 col0\" >0.878461</td>\n",
       "      <td id=\"T_75eee_row1_col1\" class=\"data row1 col1\" >0.884298</td>\n",
       "      <td id=\"T_75eee_row1_col2\" class=\"data row1 col2\" >0.881370</td>\n",
       "      <td id=\"T_75eee_row1_col3\" class=\"data row1 col3\" >12342</td>\n",
       "    </tr>\n",
       "    <tr>\n",
       "      <th id=\"T_75eee_level0_row2\" class=\"row_heading level0 row2\" >accuracy</th>\n",
       "      <td id=\"T_75eee_row2_col0\" class=\"data row2 col0\" >0.882480</td>\n",
       "      <td id=\"T_75eee_row2_col1\" class=\"data row2 col1\" >0.882480</td>\n",
       "      <td id=\"T_75eee_row2_col2\" class=\"data row2 col2\" >0.882480</td>\n",
       "      <td id=\"T_75eee_row2_col3\" class=\"data row2 col3\" >0</td>\n",
       "    </tr>\n",
       "    <tr>\n",
       "      <th id=\"T_75eee_level0_row3\" class=\"row_heading level0 row3\" >macro avg</th>\n",
       "      <td id=\"T_75eee_row3_col0\" class=\"data row3 col0\" >0.882456</td>\n",
       "      <td id=\"T_75eee_row3_col1\" class=\"data row3 col1\" >0.882503</td>\n",
       "      <td id=\"T_75eee_row3_col2\" class=\"data row3 col2\" >0.882470</td>\n",
       "      <td id=\"T_75eee_row3_col3\" class=\"data row3 col3\" >25000</td>\n",
       "    </tr>\n",
       "    <tr>\n",
       "      <th id=\"T_75eee_level0_row4\" class=\"row_heading level0 row4\" >weighted avg</th>\n",
       "      <td id=\"T_75eee_row4_col0\" class=\"data row4 col0\" >0.882506</td>\n",
       "      <td id=\"T_75eee_row4_col1\" class=\"data row4 col1\" >0.882480</td>\n",
       "      <td id=\"T_75eee_row4_col2\" class=\"data row4 col2\" >0.882484</td>\n",
       "      <td id=\"T_75eee_row4_col3\" class=\"data row4 col3\" >25000</td>\n",
       "    </tr>\n",
       "  </tbody>\n",
       "</table>\n"
      ],
      "text/plain": [
       "<pandas.io.formats.style.Styler at 0x2ab9180ac08>"
      ]
     },
     "execution_count": 19,
     "metadata": {},
     "output_type": "execute_result"
    }
   ],
   "source": [
    "from sklearn.metrics import classification_report\n",
    "report = pd.DataFrame(classification_report(y_test_pred, \n",
    "                                        y_test, digits=2,\n",
    "                                        output_dict=True)).T\n",
    "\n",
    "report['support'] = report.support.apply(int)\n",
    "\n",
    "report.style.background_gradient(cmap='RdYlGn',\n",
    "                             subset=pd.IndexSlice['0':'9', :'f1-score'])"
   ]
  },
  {
   "cell_type": "code",
   "execution_count": 22,
   "id": "e27840ae-70bd-42fc-969e-591cb9de864d",
   "metadata": {},
   "outputs": [
    {
     "data": {
      "text/plain": [
       "array([0], dtype=int64)"
      ]
     },
     "execution_count": 22,
     "metadata": {},
     "output_type": "execute_result"
    }
   ],
   "source": [
    "new_string = \"This product is not very bad or gross and I do not not like it at all\"\n",
    "\n",
    "processed_new = process_text(new_string)\n",
    "\n",
    "tfidf_new = vectorizer.transform([processed_new])\n",
    "\n",
    "new_predict = clf.predict(tfidf_new)\n",
    "new_predict"
   ]
  },
  {
   "cell_type": "code",
   "execution_count": 21,
   "id": "57101a02-98c0-458e-8b01-525b2b1fe9ba",
   "metadata": {},
   "outputs": [
    {
     "data": {
      "text/plain": [
       "array([1], dtype=int64)"
      ]
     },
     "execution_count": 21,
     "metadata": {},
     "output_type": "execute_result"
    }
   ],
   "source": [
    "new_string = \"This product is very good and awesome and I am very happy with my purchase\"\n",
    "\n",
    "processed_new = process_text(new_string)\n",
    "\n",
    "tfidf_new = vectorizer.transform([processed_new])\n",
    "\n",
    "new_predict = clf.predict(tfidf_new)\n",
    "new_predict"
   ]
  },
  {
   "cell_type": "code",
   "execution_count": null,
   "id": "5e1799ca-4a3a-4965-a973-1976cf40eb7b",
   "metadata": {},
   "outputs": [],
   "source": []
  }
 ],
 "metadata": {
  "kernelspec": {
   "display_name": "Python 3 (ipykernel)",
   "language": "python",
   "name": "python3"
  },
  "language_info": {
   "codemirror_mode": {
    "name": "ipython",
    "version": 3
   },
   "file_extension": ".py",
   "mimetype": "text/x-python",
   "name": "python",
   "nbconvert_exporter": "python",
   "pygments_lexer": "ipython3",
   "version": "3.7.11"
  }
 },
 "nbformat": 4,
 "nbformat_minor": 5
}
