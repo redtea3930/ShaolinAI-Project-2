{
 "cells": [
  {
   "cell_type": "markdown",
   "metadata": {},
   "source": [
    "# N-Gram Counter"
   ]
  },
  {
   "cell_type": "code",
   "execution_count": 1,
   "metadata": {},
   "outputs": [
    {
     "name": "stderr",
     "output_type": "stream",
     "text": [
      "[nltk_data] Downloading package reuters to\n",
      "[nltk_data]     C:\\Users\\nlpza\\AppData\\Roaming\\nltk_data...\n",
      "[nltk_data]   Package reuters is already up-to-date!\n",
      "[nltk_data] Downloading package stopwords to\n",
      "[nltk_data]     C:\\Users\\nlpza\\AppData\\Roaming\\nltk_data...\n",
      "[nltk_data]   Package stopwords is already up-to-date!\n",
      "[nltk_data] Downloading package punkt to\n",
      "[nltk_data]     C:\\Users\\nlpza\\AppData\\Roaming\\nltk_data...\n",
      "[nltk_data]   Package punkt is already up-to-date!\n",
      "[nltk_data] Downloading package wordnet to\n",
      "[nltk_data]     C:\\Users\\nlpza\\AppData\\Roaming\\nltk_data...\n",
      "[nltk_data]   Package wordnet is already up-to-date!\n"
     ]
    },
    {
     "data": {
      "text/plain": [
       "True"
      ]
     },
     "execution_count": 1,
     "metadata": {},
     "output_type": "execute_result"
    }
   ],
   "source": [
    "from nltk.corpus import reuters, stopwords\n",
    "from nltk.util import ngrams\n",
    "from nltk.tokenize import word_tokenize\n",
    "from nltk.stem import WordNetLemmatizer\n",
    "import re\n",
    "\n",
    "# Code to download corpora\n",
    "import nltk\n",
    "nltk.download('reuters')\n",
    "nltk.download('stopwords')\n",
    "nltk.download('punkt')\n",
    "nltk.download('wordnet')"
   ]
  },
  {
   "cell_type": "code",
   "execution_count": 2,
   "metadata": {},
   "outputs": [],
   "source": [
    "lemmatizer = WordNetLemmatizer()"
   ]
  },
  {
   "cell_type": "code",
   "execution_count": 3,
   "metadata": {},
   "outputs": [
    {
     "name": "stdout",
     "output_type": "stream",
     "text": [
      "HUNGARY RAISES PRICES IN EFFORT TO CURB DEFICIT\n",
      "  Hungary has announced sharp price\n",
      "  increases for a range of food and consumer products as part of\n",
      "  its efforts to curb a soaring budget deficit.\n",
      "      The official MTI news agency said the government decided\n",
      "  consumer price subsidies had to be cut to reduce state\n",
      "  spending. From today the price of meat will rise by an average\n",
      "  18 pct and that of beer and spirits by 10 pct, MTI said.\n",
      "      MTI said consumer goods will also become more expensive,\n",
      "  with the price of refrigerators rising some five pct. It also\n",
      "  announced a number of measures to ease hardship, including\n",
      "  higher pensions and family allowances.\n",
      "      Statistics indicate the budget deficit tripled in 1986 to\n",
      "  47 billion forints. Central banker Janos Fekete has said the\n",
      "  Finance Ministry is trying to cut the 1987 shortfall to between\n",
      "  30 and 35 billion from a planned 43.8 billion.\n",
      "      A major tax reform, including the introduction of a\n",
      "  Western-style valued added tax, is planned for January 1988 in\n",
      "  an effort to cure problems in state spending.\n",
      "      But diplomats said the latest announcement shows the\n",
      "  authorities were forced to act quickly to keep this year's\n",
      "  deficit under control.\n",
      "      The measures are also aimed at cooling an overheated\n",
      "  economy, and could help dampen Hungarians' appetite for\n",
      "  imported Western goods which consume increasingly expensive\n",
      "  hard currency, the diplomats said.\n",
      "      The diplomats also said, however, that they did not expect\n",
      "  the kind of social unrest that followed sharp price rises in\n",
      "  other East Bloc states, notably Poland.\n",
      "  \n",
      "\n",
      "\n"
     ]
    }
   ],
   "source": [
    "article = reuters.raw(reuters.fileids(categories='cpi')[2])\n",
    "print(article)"
   ]
  },
  {
   "cell_type": "code",
   "execution_count": 4,
   "metadata": {},
   "outputs": [],
   "source": [
    "def process_text(doc):\n",
    "    sw = set(stopwords.words('english'))\n",
    "    regex = re.compile(\"[^a-zA-Z ]\")\n",
    "    re_clean = regex.sub('', article)\n",
    "    words = word_tokenize(re_clean)\n",
    "    lem = [lemmatizer.lemmatize(word) for word in words]\n",
    "    output = [word.lower() for word in lem if word.lower() not in sw]\n",
    "    return output"
   ]
  },
  {
   "cell_type": "code",
   "execution_count": 5,
   "metadata": {},
   "outputs": [
    {
     "name": "stdout",
     "output_type": "stream",
     "text": [
      "['hungary', 'raises', 'prices', 'effort', 'curb', 'deficit', 'hungary', 'ha', 'announced', 'sharp', 'price', 'increase', 'range', 'food', 'consumer', 'product', 'part', 'effort', 'curb', 'soaring', 'budget', 'deficit', 'official', 'mti', 'news', 'agency', 'said', 'government', 'decided', 'consumer', 'price', 'subsidy', 'cut', 'reduce', 'state', 'spending', 'today', 'price', 'meat', 'rise', 'average', 'pct', 'beer', 'spirit', 'pct', 'mti', 'said', 'mti', 'said', 'consumer', 'good', 'also', 'become', 'expensive', 'price', 'refrigerator', 'rising', 'five', 'pct', 'also', 'announced', 'number', 'measure', 'ease', 'hardship', 'including', 'higher', 'pension', 'family', 'allowance', 'statistics', 'indicate', 'budget', 'deficit', 'tripled', 'billion', 'forint', 'central', 'banker', 'janos', 'fekete', 'ha', 'said', 'finance', 'ministry', 'trying', 'cut', 'shortfall', 'billion', 'planned', 'billion', 'major', 'tax', 'reform', 'including', 'introduction', 'westernstyle', 'valued', 'added', 'tax', 'planned', 'january', 'effort', 'cure', 'problem', 'state', 'spending', 'diplomat', 'said', 'latest', 'announcement', 'show', 'authority', 'forced', 'act', 'quickly', 'keep', 'year', 'deficit', 'control', 'measure', 'also', 'aimed', 'cooling', 'overheated', 'economy', 'could', 'help', 'dampen', 'hungarians', 'appetite', 'imported', 'western', 'good', 'consume', 'increasingly', 'expensive', 'hard', 'currency', 'diplomat', 'said', 'diplomat', 'also', 'said', 'however', 'expect', 'kind', 'social', 'unrest', 'followed', 'sharp', 'price', 'rise', 'east', 'bloc', 'state', 'notably', 'poland']\n"
     ]
    }
   ],
   "source": [
    "processed = process_text(article)\n",
    "print(processed)"
   ]
  },
  {
   "cell_type": "markdown",
   "metadata": {},
   "source": [
    "## Frequency Analysis: Word Counts"
   ]
  },
  {
   "cell_type": "code",
   "execution_count": 6,
   "metadata": {},
   "outputs": [],
   "source": [
    "from collections import Counter"
   ]
  },
  {
   "cell_type": "code",
   "execution_count": 7,
   "metadata": {},
   "outputs": [
    {
     "name": "stdout",
     "output_type": "stream",
     "text": [
      "{'hungary': 2, 'raises': 1, 'prices': 1, 'effort': 3, 'curb': 2, 'deficit': 4, 'ha': 2, 'announced': 2, 'sharp': 2, 'price': 5, 'increase': 1, 'range': 1, 'food': 1, 'consumer': 3, 'product': 1, 'part': 1, 'soaring': 1, 'budget': 2, 'official': 1, 'mti': 3, 'news': 1, 'agency': 1, 'said': 7, 'government': 1, 'decided': 1, 'subsidy': 1, 'cut': 2, 'reduce': 1, 'state': 3, 'spending': 2, 'today': 1, 'meat': 1, 'rise': 2, 'average': 1, 'pct': 3, 'beer': 1, 'spirit': 1, 'good': 2, 'also': 4, 'become': 1, 'expensive': 2, 'refrigerator': 1, 'rising': 1, 'five': 1, 'number': 1, 'measure': 2, 'ease': 1, 'hardship': 1, 'including': 2, 'higher': 1, 'pension': 1, 'family': 1, 'allowance': 1, 'statistics': 1, 'indicate': 1, 'tripled': 1, 'billion': 3, 'forint': 1, 'central': 1, 'banker': 1, 'janos': 1, 'fekete': 1, 'finance': 1, 'ministry': 1, 'trying': 1, 'shortfall': 1, 'planned': 2, 'major': 1, 'tax': 2, 'reform': 1, 'introduction': 1, 'westernstyle': 1, 'valued': 1, 'added': 1, 'january': 1, 'cure': 1, 'problem': 1, 'diplomat': 3, 'latest': 1, 'announcement': 1, 'show': 1, 'authority': 1, 'forced': 1, 'act': 1, 'quickly': 1, 'keep': 1, 'year': 1, 'control': 1, 'aimed': 1, 'cooling': 1, 'overheated': 1, 'economy': 1, 'could': 1, 'help': 1, 'dampen': 1, 'hungarians': 1, 'appetite': 1, 'imported': 1, 'western': 1, 'consume': 1, 'increasingly': 1, 'hard': 1, 'currency': 1, 'however': 1, 'expect': 1, 'kind': 1, 'social': 1, 'unrest': 1, 'followed': 1, 'east': 1, 'bloc': 1, 'notably': 1, 'poland': 1}\n"
     ]
    }
   ],
   "source": [
    "# get word counts\n",
    "word_counts = Counter(processed)\n",
    "print(dict(word_counts))"
   ]
  },
  {
   "cell_type": "code",
   "execution_count": 8,
   "metadata": {},
   "outputs": [
    {
     "name": "stdout",
     "output_type": "stream",
     "text": [
      "{'said': 7, 'price': 5, 'deficit': 4, 'also': 4, 'effort': 3, 'consumer': 3, 'mti': 3, 'state': 3, 'pct': 3, 'billion': 3, 'diplomat': 3, 'hungary': 2, 'curb': 2, 'ha': 2, 'announced': 2, 'sharp': 2, 'budget': 2, 'cut': 2, 'spending': 2, 'rise': 2}\n"
     ]
    }
   ],
   "source": [
    "# get top x words\n",
    "print(dict(word_counts.most_common(20)))"
   ]
  },
  {
   "cell_type": "markdown",
   "metadata": {},
   "source": [
    "## Frequency Analysis: N-gram Counts"
   ]
  },
  {
   "cell_type": "code",
   "execution_count": 9,
   "metadata": {},
   "outputs": [
    {
     "name": "stdout",
     "output_type": "stream",
     "text": [
      "{('hungary', 'raises'): 1, ('raises', 'prices'): 1, ('prices', 'effort'): 1, ('effort', 'curb'): 2, ('curb', 'deficit'): 1, ('deficit', 'hungary'): 1, ('hungary', 'ha'): 1, ('ha', 'announced'): 1, ('announced', 'sharp'): 1, ('sharp', 'price'): 2, ('price', 'increase'): 1, ('increase', 'range'): 1, ('range', 'food'): 1, ('food', 'consumer'): 1, ('consumer', 'product'): 1, ('product', 'part'): 1, ('part', 'effort'): 1, ('curb', 'soaring'): 1, ('soaring', 'budget'): 1, ('budget', 'deficit'): 2, ('deficit', 'official'): 1, ('official', 'mti'): 1, ('mti', 'news'): 1, ('news', 'agency'): 1, ('agency', 'said'): 1, ('said', 'government'): 1, ('government', 'decided'): 1, ('decided', 'consumer'): 1, ('consumer', 'price'): 1, ('price', 'subsidy'): 1, ('subsidy', 'cut'): 1, ('cut', 'reduce'): 1, ('reduce', 'state'): 1, ('state', 'spending'): 2, ('spending', 'today'): 1, ('today', 'price'): 1, ('price', 'meat'): 1, ('meat', 'rise'): 1, ('rise', 'average'): 1, ('average', 'pct'): 1, ('pct', 'beer'): 1, ('beer', 'spirit'): 1, ('spirit', 'pct'): 1, ('pct', 'mti'): 1, ('mti', 'said'): 2, ('said', 'mti'): 1, ('said', 'consumer'): 1, ('consumer', 'good'): 1, ('good', 'also'): 1, ('also', 'become'): 1, ('become', 'expensive'): 1, ('expensive', 'price'): 1, ('price', 'refrigerator'): 1, ('refrigerator', 'rising'): 1, ('rising', 'five'): 1, ('five', 'pct'): 1, ('pct', 'also'): 1, ('also', 'announced'): 1, ('announced', 'number'): 1, ('number', 'measure'): 1, ('measure', 'ease'): 1, ('ease', 'hardship'): 1, ('hardship', 'including'): 1, ('including', 'higher'): 1, ('higher', 'pension'): 1, ('pension', 'family'): 1, ('family', 'allowance'): 1, ('allowance', 'statistics'): 1, ('statistics', 'indicate'): 1, ('indicate', 'budget'): 1, ('deficit', 'tripled'): 1, ('tripled', 'billion'): 1, ('billion', 'forint'): 1, ('forint', 'central'): 1, ('central', 'banker'): 1, ('banker', 'janos'): 1, ('janos', 'fekete'): 1, ('fekete', 'ha'): 1, ('ha', 'said'): 1, ('said', 'finance'): 1, ('finance', 'ministry'): 1, ('ministry', 'trying'): 1, ('trying', 'cut'): 1, ('cut', 'shortfall'): 1, ('shortfall', 'billion'): 1, ('billion', 'planned'): 1, ('planned', 'billion'): 1, ('billion', 'major'): 1, ('major', 'tax'): 1, ('tax', 'reform'): 1, ('reform', 'including'): 1, ('including', 'introduction'): 1, ('introduction', 'westernstyle'): 1, ('westernstyle', 'valued'): 1, ('valued', 'added'): 1, ('added', 'tax'): 1, ('tax', 'planned'): 1, ('planned', 'january'): 1, ('january', 'effort'): 1, ('effort', 'cure'): 1, ('cure', 'problem'): 1, ('problem', 'state'): 1, ('spending', 'diplomat'): 1, ('diplomat', 'said'): 2, ('said', 'latest'): 1, ('latest', 'announcement'): 1, ('announcement', 'show'): 1, ('show', 'authority'): 1, ('authority', 'forced'): 1, ('forced', 'act'): 1, ('act', 'quickly'): 1, ('quickly', 'keep'): 1, ('keep', 'year'): 1, ('year', 'deficit'): 1, ('deficit', 'control'): 1, ('control', 'measure'): 1, ('measure', 'also'): 1, ('also', 'aimed'): 1, ('aimed', 'cooling'): 1, ('cooling', 'overheated'): 1, ('overheated', 'economy'): 1, ('economy', 'could'): 1, ('could', 'help'): 1, ('help', 'dampen'): 1, ('dampen', 'hungarians'): 1, ('hungarians', 'appetite'): 1, ('appetite', 'imported'): 1, ('imported', 'western'): 1, ('western', 'good'): 1, ('good', 'consume'): 1, ('consume', 'increasingly'): 1, ('increasingly', 'expensive'): 1, ('expensive', 'hard'): 1, ('hard', 'currency'): 1, ('currency', 'diplomat'): 1, ('said', 'diplomat'): 1, ('diplomat', 'also'): 1, ('also', 'said'): 1, ('said', 'however'): 1, ('however', 'expect'): 1, ('expect', 'kind'): 1, ('kind', 'social'): 1, ('social', 'unrest'): 1, ('unrest', 'followed'): 1, ('followed', 'sharp'): 1, ('price', 'rise'): 1, ('rise', 'east'): 1, ('east', 'bloc'): 1, ('bloc', 'state'): 1, ('state', 'notably'): 1, ('notably', 'poland'): 1}\n"
     ]
    }
   ],
   "source": [
    "bigram_counts = Counter(ngrams(processed, n=2))\n",
    "print(dict(bigram_counts))"
   ]
  },
  {
   "cell_type": "code",
   "execution_count": 10,
   "metadata": {},
   "outputs": [
    {
     "name": "stdout",
     "output_type": "stream",
     "text": [
      "{('effort', 'curb'): 2, ('sharp', 'price'): 2, ('budget', 'deficit'): 2, ('state', 'spending'): 2, ('mti', 'said'): 2, ('diplomat', 'said'): 2, ('hungary', 'raises'): 1, ('raises', 'prices'): 1, ('prices', 'effort'): 1, ('curb', 'deficit'): 1}\n"
     ]
    }
   ],
   "source": [
    "print(dict(bigram_counts.most_common(10)))"
   ]
  }
 ],
 "metadata": {
  "kernelspec": {
   "display_name": "Python 3 (ipykernel)",
   "language": "python",
   "name": "python3"
  },
  "language_info": {
   "codemirror_mode": {
    "name": "ipython",
    "version": 3
   },
   "file_extension": ".py",
   "mimetype": "text/x-python",
   "name": "python",
   "nbconvert_exporter": "python",
   "pygments_lexer": "ipython3",
   "version": "3.7.11"
  }
 },
 "nbformat": 4,
 "nbformat_minor": 4
}
