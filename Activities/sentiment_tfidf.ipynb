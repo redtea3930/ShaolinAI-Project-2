{
 "cells": [
  {
   "cell_type": "code",
   "execution_count": 30,
   "id": "d3541d9b-65fb-4d9a-bd4e-87bbad8c6e68",
   "metadata": {},
   "outputs": [],
   "source": [
    "import pandas as pd\n",
    "import numpy as np\n",
    "import nltk\n",
    "from nltk.corpus import stopwords\n",
    "from nltk.tokenize import word_tokenize\n",
    "from nltk.stem import WordNetLemmatizer\n",
    "import re"
   ]
  },
  {
   "cell_type": "code",
   "execution_count": 82,
   "id": "b313c383-1ef4-4d3d-96b5-34ab210b4db6",
   "metadata": {},
   "outputs": [
    {
     "data": {
      "text/html": [
       "<div>\n",
       "<style scoped>\n",
       "    .dataframe tbody tr th:only-of-type {\n",
       "        vertical-align: middle;\n",
       "    }\n",
       "\n",
       "    .dataframe tbody tr th {\n",
       "        vertical-align: top;\n",
       "    }\n",
       "\n",
       "    .dataframe thead th {\n",
       "        text-align: right;\n",
       "    }\n",
       "</style>\n",
       "<table border=\"1\" class=\"dataframe\">\n",
       "  <thead>\n",
       "    <tr style=\"text-align: right;\">\n",
       "      <th></th>\n",
       "      <th>reviewText</th>\n",
       "      <th>label</th>\n",
       "    </tr>\n",
       "  </thead>\n",
       "  <tbody>\n",
       "    <tr>\n",
       "      <th>0</th>\n",
       "      <td>its up to you but as per the poppyaustin.com s...</td>\n",
       "      <td>0</td>\n",
       "    </tr>\n",
       "    <tr>\n",
       "      <th>1</th>\n",
       "      <td>I didn't have this item in my home for more th...</td>\n",
       "      <td>0</td>\n",
       "    </tr>\n",
       "    <tr>\n",
       "      <th>2</th>\n",
       "      <td>Description states there should be 144 tattoos...</td>\n",
       "      <td>0</td>\n",
       "    </tr>\n",
       "    <tr>\n",
       "      <th>3</th>\n",
       "      <td>Agreed, this hair is nothing like what you act...</td>\n",
       "      <td>0</td>\n",
       "    </tr>\n",
       "    <tr>\n",
       "      <th>4</th>\n",
       "      <td>Not quite what I expected!</td>\n",
       "      <td>0</td>\n",
       "    </tr>\n",
       "    <tr>\n",
       "      <th>...</th>\n",
       "      <td>...</td>\n",
       "      <td>...</td>\n",
       "    </tr>\n",
       "    <tr>\n",
       "      <th>99995</th>\n",
       "      <td>This is very good for eczema and even more eff...</td>\n",
       "      <td>1</td>\n",
       "    </tr>\n",
       "    <tr>\n",
       "      <th>99996</th>\n",
       "      <td>Love the shimmer and a chap stick as well.</td>\n",
       "      <td>1</td>\n",
       "    </tr>\n",
       "    <tr>\n",
       "      <th>99997</th>\n",
       "      <td>Thanks!!!</td>\n",
       "      <td>1</td>\n",
       "    </tr>\n",
       "    <tr>\n",
       "      <th>99998</th>\n",
       "      <td>Love it, and have been wearing this for 30 years</td>\n",
       "      <td>1</td>\n",
       "    </tr>\n",
       "    <tr>\n",
       "      <th>99999</th>\n",
       "      <td>These brushes were a birthday gift for my 14 y...</td>\n",
       "      <td>1</td>\n",
       "    </tr>\n",
       "  </tbody>\n",
       "</table>\n",
       "<p>100000 rows × 2 columns</p>\n",
       "</div>"
      ],
      "text/plain": [
       "                                              reviewText  label\n",
       "0      its up to you but as per the poppyaustin.com s...      0\n",
       "1      I didn't have this item in my home for more th...      0\n",
       "2      Description states there should be 144 tattoos...      0\n",
       "3      Agreed, this hair is nothing like what you act...      0\n",
       "4                             Not quite what I expected!      0\n",
       "...                                                  ...    ...\n",
       "99995  This is very good for eczema and even more eff...      1\n",
       "99996         Love the shimmer and a chap stick as well.      1\n",
       "99997                                          Thanks!!!      1\n",
       "99998   Love it, and have been wearing this for 30 years      1\n",
       "99999  These brushes were a birthday gift for my 14 y...      1\n",
       "\n",
       "[100000 rows x 2 columns]"
      ]
     },
     "execution_count": 82,
     "metadata": {},
     "output_type": "execute_result"
    }
   ],
   "source": [
    "data = pd.read_csv('../Resources/beauty_reviews.csv')\n",
    "data"
   ]
  },
  {
   "cell_type": "code",
   "execution_count": 27,
   "id": "8fecd5df-497c-4725-8eb0-d6a4817ea1bf",
   "metadata": {},
   "outputs": [],
   "source": [
    "data['pre_process'] = data['reviewText'].apply(lambda x: ' '.join(x.lower() for x in str(x).split()))"
   ]
  },
  {
   "cell_type": "code",
   "execution_count": 28,
   "id": "eebe960e-b628-4865-91c5-c13c1f8415a3",
   "metadata": {},
   "outputs": [],
   "source": [
    "from bs4 import BeautifulSoup\n",
    "data['pre_process']=data['pre_process'].apply(lambda x: BeautifulSoup(x).get_text())\n",
    "\n",
    "data['pre_process']=data['pre_process'].apply(lambda x: re.sub(r'http\\S+', '', x))"
   ]
  },
  {
   "cell_type": "code",
   "execution_count": 68,
   "id": "2b0b115d-8ca6-49a9-ae5f-04c85d755b28",
   "metadata": {},
   "outputs": [],
   "source": [
    "def process_text(doc):\n",
    "    sw = set(stopwords.words('english'))\n",
    "    regex = re.compile(\"[^a-zA-Z ]\")\n",
    "    re_clean = regex.sub('', doc)\n",
    "    lemmatizer = WordNetLemmatizer()\n",
    "    lem = [lemmatizer.lemmatize(w) for w in word_tokenize(re_clean)]\n",
    "    output = [word.lower() for word in lem if word.lower() not in sw]\n",
    "    return ' '.join(output)\n",
    "data['pre_process'] = data['pre_process'].apply(lambda x: process_text(x))"
   ]
  },
  {
   "cell_type": "code",
   "execution_count": 67,
   "id": "0a14277a-087e-459a-a478-44b41794424e",
   "metadata": {},
   "outputs": [
    {
     "data": {
      "text/html": [
       "<div>\n",
       "<style scoped>\n",
       "    .dataframe tbody tr th:only-of-type {\n",
       "        vertical-align: middle;\n",
       "    }\n",
       "\n",
       "    .dataframe tbody tr th {\n",
       "        vertical-align: top;\n",
       "    }\n",
       "\n",
       "    .dataframe thead th {\n",
       "        text-align: right;\n",
       "    }\n",
       "</style>\n",
       "<table border=\"1\" class=\"dataframe\">\n",
       "  <thead>\n",
       "    <tr style=\"text-align: right;\">\n",
       "      <th></th>\n",
       "      <th>reviewText</th>\n",
       "      <th>label</th>\n",
       "      <th>pre_process</th>\n",
       "    </tr>\n",
       "  </thead>\n",
       "  <tbody>\n",
       "    <tr>\n",
       "      <th>0</th>\n",
       "      <td>Do Not deal with these people!\\n True Derma is...</td>\n",
       "      <td>0</td>\n",
       "      <td>deal people true derma total scam product usel...</td>\n",
       "    </tr>\n",
       "    <tr>\n",
       "      <th>1</th>\n",
       "      <td>Disclored</td>\n",
       "      <td>0</td>\n",
       "      <td>disclored</td>\n",
       "    </tr>\n",
       "    <tr>\n",
       "      <th>2</th>\n",
       "      <td>I've had it for 2 months and two brushes broke...</td>\n",
       "      <td>0</td>\n",
       "      <td>ive month two brush broke good quality</td>\n",
       "    </tr>\n",
       "    <tr>\n",
       "      <th>3</th>\n",
       "      <td>It was horrible purchase..The product was defe...</td>\n",
       "      <td>0</td>\n",
       "      <td>wa horrible purchasethe product wa defective</td>\n",
       "    </tr>\n",
       "    <tr>\n",
       "      <th>4</th>\n",
       "      <td>Okay, I've tried these twice now, and all they...</td>\n",
       "      <td>0</td>\n",
       "      <td>okay ive tried twice leave oily mess ive tried...</td>\n",
       "    </tr>\n",
       "    <tr>\n",
       "      <th>...</th>\n",
       "      <td>...</td>\n",
       "      <td>...</td>\n",
       "      <td>...</td>\n",
       "    </tr>\n",
       "    <tr>\n",
       "      <th>99995</th>\n",
       "      <td>This does exactly what I need to trim my beard...</td>\n",
       "      <td>1</td>\n",
       "      <td>doe exactly need trim beard even closer shave ...</td>\n",
       "    </tr>\n",
       "    <tr>\n",
       "      <th>99996</th>\n",
       "      <td>I have used Norelco razors for over 40 years. ...</td>\n",
       "      <td>1</td>\n",
       "      <td>used norelco razor year found le irritating el...</td>\n",
       "    </tr>\n",
       "    <tr>\n",
       "      <th>99997</th>\n",
       "      <td>I just LOVE this product.  It really does the ...</td>\n",
       "      <td>1</td>\n",
       "      <td>love product really doe job feel much cleaner ...</td>\n",
       "    </tr>\n",
       "    <tr>\n",
       "      <th>99998</th>\n",
       "      <td>I started using this product one month ago.  I...</td>\n",
       "      <td>1</td>\n",
       "      <td>started using product one month ago know take ...</td>\n",
       "    </tr>\n",
       "    <tr>\n",
       "      <th>99999</th>\n",
       "      <td>Love ir</td>\n",
       "      <td>1</td>\n",
       "      <td>love ir</td>\n",
       "    </tr>\n",
       "  </tbody>\n",
       "</table>\n",
       "<p>100000 rows × 3 columns</p>\n",
       "</div>"
      ],
      "text/plain": [
       "                                              reviewText  label  \\\n",
       "0      Do Not deal with these people!\\n True Derma is...      0   \n",
       "1                                              Disclored      0   \n",
       "2      I've had it for 2 months and two brushes broke...      0   \n",
       "3      It was horrible purchase..The product was defe...      0   \n",
       "4      Okay, I've tried these twice now, and all they...      0   \n",
       "...                                                  ...    ...   \n",
       "99995  This does exactly what I need to trim my beard...      1   \n",
       "99996  I have used Norelco razors for over 40 years. ...      1   \n",
       "99997  I just LOVE this product.  It really does the ...      1   \n",
       "99998  I started using this product one month ago.  I...      1   \n",
       "99999                                            Love ir      1   \n",
       "\n",
       "                                             pre_process  \n",
       "0      deal people true derma total scam product usel...  \n",
       "1                                              disclored  \n",
       "2                 ive month two brush broke good quality  \n",
       "3           wa horrible purchasethe product wa defective  \n",
       "4      okay ive tried twice leave oily mess ive tried...  \n",
       "...                                                  ...  \n",
       "99995  doe exactly need trim beard even closer shave ...  \n",
       "99996  used norelco razor year found le irritating el...  \n",
       "99997  love product really doe job feel much cleaner ...  \n",
       "99998  started using product one month ago know take ...  \n",
       "99999                                            love ir  \n",
       "\n",
       "[100000 rows x 3 columns]"
      ]
     },
     "execution_count": 67,
     "metadata": {},
     "output_type": "execute_result"
    }
   ],
   "source": [
    "data"
   ]
  },
  {
   "cell_type": "code",
   "execution_count": 34,
   "id": "c772a942-1a59-4e7e-8e58-5c57df7c70d5",
   "metadata": {},
   "outputs": [
    {
     "name": "stdout",
     "output_type": "stream",
     "text": [
      "Train: ((75000,), (75000,))\n",
      "Test: ((25000,), (25000,))\n"
     ]
    }
   ],
   "source": [
    "from sklearn.model_selection import train_test_split\n",
    "X_train, X_test, y_train, y_test = train_test_split(data['pre_process'], data['label'], test_size=0.25, random_state=30)\n",
    "print(f'Train: {X_train.shape,y_train.shape}\\nTest: {X_test.shape,y_test.shape}')"
   ]
  },
  {
   "cell_type": "code",
   "execution_count": 55,
   "id": "553d318c-9446-44e5-ba8c-9d61d50b59af",
   "metadata": {},
   "outputs": [],
   "source": [
    "from sklearn.feature_extraction.text import TfidfVectorizer\n",
    "vectorizer= TfidfVectorizer()\n",
    "tf_X_train = vectorizer.fit_transform(X_train)\n",
    "tf_X_test = vectorizer.transform(X_test)"
   ]
  },
  {
   "cell_type": "code",
   "execution_count": 56,
   "id": "f2783e94-6f7c-465f-b8b8-19bfd486ee42",
   "metadata": {},
   "outputs": [
    {
     "data": {
      "text/plain": [
       "5.966467953956153"
      ]
     },
     "execution_count": 56,
     "metadata": {},
     "output_type": "execute_result"
    }
   ],
   "source": [
    "tf_X_train[0].toarray().sum()"
   ]
  },
  {
   "cell_type": "code",
   "execution_count": 57,
   "id": "751d159d-2748-42ab-9365-14b262b4d20c",
   "metadata": {},
   "outputs": [],
   "source": [
    "from sklearn.linear_model import LogisticRegression\n",
    "clf = LogisticRegression(max_iter=1000,solver='saga')"
   ]
  },
  {
   "cell_type": "code",
   "execution_count": 58,
   "id": "7029cba8-fc16-441d-a681-fa6438503741",
   "metadata": {},
   "outputs": [
    {
     "data": {
      "text/plain": [
       "LogisticRegression(max_iter=1000, solver='saga')"
      ]
     },
     "execution_count": 58,
     "metadata": {},
     "output_type": "execute_result"
    }
   ],
   "source": [
    "clf.fit(tf_X_train,y_train)"
   ]
  },
  {
   "cell_type": "code",
   "execution_count": 59,
   "id": "690ac123-4a0d-4382-ab1e-7ac526af5b28",
   "metadata": {},
   "outputs": [],
   "source": [
    "y_test_pred=clf.predict(tf_X_test)"
   ]
  },
  {
   "cell_type": "code",
   "execution_count": 61,
   "id": "ba889160-479b-4e12-87a5-2f003b653039",
   "metadata": {},
   "outputs": [
    {
     "data": {
      "text/html": [
       "<style type=\"text/css\">\n",
       "#T_1c70d_row0_col0, #T_1c70d_row0_col2, #T_1c70d_row1_col1 {\n",
       "  background-color: #006837;\n",
       "  color: #f1f1f1;\n",
       "}\n",
       "#T_1c70d_row0_col1, #T_1c70d_row1_col0, #T_1c70d_row1_col2 {\n",
       "  background-color: #a50026;\n",
       "  color: #f1f1f1;\n",
       "}\n",
       "</style>\n",
       "<table id=\"T_1c70d_\">\n",
       "  <thead>\n",
       "    <tr>\n",
       "      <th class=\"blank level0\" >&nbsp;</th>\n",
       "      <th class=\"col_heading level0 col0\" >precision</th>\n",
       "      <th class=\"col_heading level0 col1\" >recall</th>\n",
       "      <th class=\"col_heading level0 col2\" >f1-score</th>\n",
       "      <th class=\"col_heading level0 col3\" >support</th>\n",
       "    </tr>\n",
       "  </thead>\n",
       "  <tbody>\n",
       "    <tr>\n",
       "      <th id=\"T_1c70d_level0_row0\" class=\"row_heading level0 row0\" >0</th>\n",
       "      <td id=\"T_1c70d_row0_col0\" class=\"data row0 col0\" >0.897185</td>\n",
       "      <td id=\"T_1c70d_row0_col1\" class=\"data row0 col1\" >0.880315</td>\n",
       "      <td id=\"T_1c70d_row0_col2\" class=\"data row0 col2\" >0.888670</td>\n",
       "      <td id=\"T_1c70d_row0_col3\" class=\"data row0 col3\" >12817</td>\n",
       "    </tr>\n",
       "    <tr>\n",
       "      <th id=\"T_1c70d_level0_row1\" class=\"row_heading level0 row1\" >1</th>\n",
       "      <td id=\"T_1c70d_row1_col0\" class=\"data row1 col0\" >0.876529</td>\n",
       "      <td id=\"T_1c70d_row1_col1\" class=\"data row1 col1\" >0.893869</td>\n",
       "      <td id=\"T_1c70d_row1_col2\" class=\"data row1 col2\" >0.885114</td>\n",
       "      <td id=\"T_1c70d_row1_col3\" class=\"data row1 col3\" >12183</td>\n",
       "    </tr>\n",
       "    <tr>\n",
       "      <th id=\"T_1c70d_level0_row2\" class=\"row_heading level0 row2\" >accuracy</th>\n",
       "      <td id=\"T_1c70d_row2_col0\" class=\"data row2 col0\" >0.886920</td>\n",
       "      <td id=\"T_1c70d_row2_col1\" class=\"data row2 col1\" >0.886920</td>\n",
       "      <td id=\"T_1c70d_row2_col2\" class=\"data row2 col2\" >0.886920</td>\n",
       "      <td id=\"T_1c70d_row2_col3\" class=\"data row2 col3\" >0</td>\n",
       "    </tr>\n",
       "    <tr>\n",
       "      <th id=\"T_1c70d_level0_row3\" class=\"row_heading level0 row3\" >macro avg</th>\n",
       "      <td id=\"T_1c70d_row3_col0\" class=\"data row3 col0\" >0.886857</td>\n",
       "      <td id=\"T_1c70d_row3_col1\" class=\"data row3 col1\" >0.887092</td>\n",
       "      <td id=\"T_1c70d_row3_col2\" class=\"data row3 col2\" >0.886892</td>\n",
       "      <td id=\"T_1c70d_row3_col3\" class=\"data row3 col3\" >25000</td>\n",
       "    </tr>\n",
       "    <tr>\n",
       "      <th id=\"T_1c70d_level0_row4\" class=\"row_heading level0 row4\" >weighted avg</th>\n",
       "      <td id=\"T_1c70d_row4_col0\" class=\"data row4 col0\" >0.887119</td>\n",
       "      <td id=\"T_1c70d_row4_col1\" class=\"data row4 col1\" >0.886920</td>\n",
       "      <td id=\"T_1c70d_row4_col2\" class=\"data row4 col2\" >0.886937</td>\n",
       "      <td id=\"T_1c70d_row4_col3\" class=\"data row4 col3\" >25000</td>\n",
       "    </tr>\n",
       "  </tbody>\n",
       "</table>\n"
      ],
      "text/plain": [
       "<pandas.io.formats.style.Styler at 0x217f39e9388>"
      ]
     },
     "execution_count": 61,
     "metadata": {},
     "output_type": "execute_result"
    }
   ],
   "source": [
    "from sklearn.metrics import classification_report\n",
    "report = pd.DataFrame(classification_report(y_test_pred, \n",
    "                                        y_test, digits=2,\n",
    "                                        output_dict=True)).T\n",
    "\n",
    "report['support'] = report.support.apply(int)\n",
    "\n",
    "report.style.background_gradient(cmap='RdYlGn',\n",
    "                             subset=pd.IndexSlice['0':'9', :'f1-score'])"
   ]
  },
  {
   "cell_type": "code",
   "execution_count": 62,
   "id": "ec24a128-b4bb-44df-97cf-1b548cfbcfee",
   "metadata": {},
   "outputs": [],
   "source": [
    "from sklearn.svm import LinearSVC\n",
    "clf = LinearSVC(random_state=0)"
   ]
  },
  {
   "cell_type": "code",
   "execution_count": 64,
   "id": "e1792c4a-e6db-47c6-8c4b-ed3f24414c6e",
   "metadata": {},
   "outputs": [
    {
     "data": {
      "text/plain": [
       "LinearSVC(random_state=0)"
      ]
     },
     "execution_count": 64,
     "metadata": {},
     "output_type": "execute_result"
    }
   ],
   "source": [
    "clf.fit(tf_X_train,y_train)"
   ]
  },
  {
   "cell_type": "code",
   "execution_count": 65,
   "id": "8839d5cf-1f67-4153-bf06-f200141bbf30",
   "metadata": {},
   "outputs": [],
   "source": [
    "y_test_pred=clf.predict(tf_X_test)"
   ]
  },
  {
   "cell_type": "code",
   "execution_count": 66,
   "id": "d638086b-c477-4dde-b697-b5163c44d172",
   "metadata": {},
   "outputs": [
    {
     "data": {
      "text/html": [
       "<style type=\"text/css\">\n",
       "#T_c2403_row0_col0, #T_c2403_row0_col2, #T_c2403_row1_col1 {\n",
       "  background-color: #006837;\n",
       "  color: #f1f1f1;\n",
       "}\n",
       "#T_c2403_row0_col1, #T_c2403_row1_col0, #T_c2403_row1_col2 {\n",
       "  background-color: #a50026;\n",
       "  color: #f1f1f1;\n",
       "}\n",
       "</style>\n",
       "<table id=\"T_c2403_\">\n",
       "  <thead>\n",
       "    <tr>\n",
       "      <th class=\"blank level0\" >&nbsp;</th>\n",
       "      <th class=\"col_heading level0 col0\" >precision</th>\n",
       "      <th class=\"col_heading level0 col1\" >recall</th>\n",
       "      <th class=\"col_heading level0 col2\" >f1-score</th>\n",
       "      <th class=\"col_heading level0 col3\" >support</th>\n",
       "    </tr>\n",
       "  </thead>\n",
       "  <tbody>\n",
       "    <tr>\n",
       "      <th id=\"T_c2403_level0_row0\" class=\"row_heading level0 row0\" >0</th>\n",
       "      <td id=\"T_c2403_row0_col0\" class=\"data row0 col0\" >0.889631</td>\n",
       "      <td id=\"T_c2403_row0_col1\" class=\"data row0 col1\" >0.881987</td>\n",
       "      <td id=\"T_c2403_row0_col2\" class=\"data row0 col2\" >0.885792</td>\n",
       "      <td id=\"T_c2403_row0_col3\" class=\"data row0 col3\" >12685</td>\n",
       "    </tr>\n",
       "    <tr>\n",
       "      <th id=\"T_c2403_level0_row1\" class=\"row_heading level0 row1\" >1</th>\n",
       "      <td id=\"T_c2403_row1_col0\" class=\"data row1 col0\" >0.879507</td>\n",
       "      <td id=\"T_c2403_row1_col1\" class=\"data row1 col1\" >0.887292</td>\n",
       "      <td id=\"T_c2403_row1_col2\" class=\"data row1 col2\" >0.883383</td>\n",
       "      <td id=\"T_c2403_row1_col3\" class=\"data row1 col3\" >12315</td>\n",
       "    </tr>\n",
       "    <tr>\n",
       "      <th id=\"T_c2403_level0_row2\" class=\"row_heading level0 row2\" >accuracy</th>\n",
       "      <td id=\"T_c2403_row2_col0\" class=\"data row2 col0\" >0.884600</td>\n",
       "      <td id=\"T_c2403_row2_col1\" class=\"data row2 col1\" >0.884600</td>\n",
       "      <td id=\"T_c2403_row2_col2\" class=\"data row2 col2\" >0.884600</td>\n",
       "      <td id=\"T_c2403_row2_col3\" class=\"data row2 col3\" >0</td>\n",
       "    </tr>\n",
       "    <tr>\n",
       "      <th id=\"T_c2403_level0_row3\" class=\"row_heading level0 row3\" >macro avg</th>\n",
       "      <td id=\"T_c2403_row3_col0\" class=\"data row3 col0\" >0.884569</td>\n",
       "      <td id=\"T_c2403_row3_col1\" class=\"data row3 col1\" >0.884639</td>\n",
       "      <td id=\"T_c2403_row3_col2\" class=\"data row3 col2\" >0.884587</td>\n",
       "      <td id=\"T_c2403_row3_col3\" class=\"data row3 col3\" >25000</td>\n",
       "    </tr>\n",
       "    <tr>\n",
       "      <th id=\"T_c2403_level0_row4\" class=\"row_heading level0 row4\" >weighted avg</th>\n",
       "      <td id=\"T_c2403_row4_col0\" class=\"data row4 col0\" >0.884644</td>\n",
       "      <td id=\"T_c2403_row4_col1\" class=\"data row4 col1\" >0.884600</td>\n",
       "      <td id=\"T_c2403_row4_col2\" class=\"data row4 col2\" >0.884605</td>\n",
       "      <td id=\"T_c2403_row4_col3\" class=\"data row4 col3\" >25000</td>\n",
       "    </tr>\n",
       "  </tbody>\n",
       "</table>\n"
      ],
      "text/plain": [
       "<pandas.io.formats.style.Styler at 0x217f3840708>"
      ]
     },
     "execution_count": 66,
     "metadata": {},
     "output_type": "execute_result"
    }
   ],
   "source": [
    "from sklearn.metrics import classification_report\n",
    "report = pd.DataFrame(classification_report(y_test_pred, \n",
    "                                        y_test, digits=2,\n",
    "                                        output_dict=True)).T\n",
    "\n",
    "report['support'] = report.support.apply(int)\n",
    "\n",
    "report.style.background_gradient(cmap='RdYlGn',\n",
    "                             subset=pd.IndexSlice['0':'9', :'f1-score'])"
   ]
  },
  {
   "cell_type": "code",
   "execution_count": 73,
   "id": "e27840ae-70bd-42fc-969e-591cb9de864d",
   "metadata": {},
   "outputs": [
    {
     "data": {
      "text/plain": [
       "array([0])"
      ]
     },
     "execution_count": 73,
     "metadata": {},
     "output_type": "execute_result"
    }
   ],
   "source": [
    "new_string = \"This product is very bad and gross and I do not like it at all\"\n",
    "\n",
    "processed_new = process_text(new_string)\n",
    "\n",
    "tfidf_new = vectorizer.transform([processed_new])\n",
    "\n",
    "new_predict = clf.predict(tfidf_new)\n",
    "new_predict"
   ]
  },
  {
   "cell_type": "code",
   "execution_count": 72,
   "id": "57101a02-98c0-458e-8b01-525b2b1fe9ba",
   "metadata": {},
   "outputs": [
    {
     "data": {
      "text/plain": [
       "array([1])"
      ]
     },
     "execution_count": 72,
     "metadata": {},
     "output_type": "execute_result"
    }
   ],
   "source": [
    "new_string = \"This product is very good and awesome and I am very happy with my purchase\"\n",
    "\n",
    "processed_new = process_text(new_string)\n",
    "\n",
    "tfidf_new = vectorizer.transform([processed_new])\n",
    "\n",
    "new_predict = clf.predict(tfidf_new)\n",
    "new_predict"
   ]
  },
  {
   "cell_type": "code",
   "execution_count": null,
   "id": "5e1799ca-4a3a-4965-a973-1976cf40eb7b",
   "metadata": {},
   "outputs": [],
   "source": []
  }
 ],
 "metadata": {
  "kernelspec": {
   "display_name": "Python 3 (ipykernel)",
   "language": "python",
   "name": "python3"
  },
  "language_info": {
   "codemirror_mode": {
    "name": "ipython",
    "version": 3
   },
   "file_extension": ".py",
   "mimetype": "text/x-python",
   "name": "python",
   "nbconvert_exporter": "python",
   "pygments_lexer": "ipython3",
   "version": "3.7.11"
  }
 },
 "nbformat": 4,
 "nbformat_minor": 5
}
