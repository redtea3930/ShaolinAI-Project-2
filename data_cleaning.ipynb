{
 "cells": [
  {
   "cell_type": "code",
   "execution_count": 1,
   "id": "029a1761-7a5f-45c9-a105-aed28cb012b2",
   "metadata": {},
   "outputs": [],
   "source": [
    "from pathlib import Path\n",
    "import pandas as pd\n",
    "\n"
   ]
  },
  {
   "cell_type": "code",
   "execution_count": 2,
   "id": "64cc0481-b726-4c09-8631-c29ece1666e5",
   "metadata": {},
   "outputs": [],
   "source": [
    "# Read in starting data\n",
    "massive_movies = pd.read_csv('massive_rotten_tomatoes_movies.csv')\n",
    "massive_reviews = pd.read_csv('massive_rotten_tomatoes_movie_reviews.csv')"
   ]
  },
  {
   "cell_type": "code",
   "execution_count": 3,
   "id": "75a54b5c-1fa8-458f-8b4a-2d756c8b93e9",
   "metadata": {
    "tags": []
   },
   "outputs": [],
   "source": [
    "# Combine into one DataFrame, begin cleaning data\n",
    "massive = pd.merge(massive_movies, massive_reviews, how='inner')"
   ]
  },
  {
   "cell_type": "code",
   "execution_count": 4,
   "id": "9a443e8d-83ce-4294-88e0-db1b9e0bd0f4",
   "metadata": {
    "tags": []
   },
   "outputs": [],
   "source": [
    "# Create column containing difference between critic and audience scores\n",
    "massive['delta'] = massive['tomatoMeter'] - massive['audienceScore']"
   ]
  },
  {
   "cell_type": "code",
   "execution_count": 5,
   "id": "afb8cae2-1434-4424-96d1-f878b17eadf8",
   "metadata": {},
   "outputs": [],
   "source": [
    "# Drop unneccesary columns, including input audience and critic scores\n",
    "massive = massive.drop(columns=['originalScore', 'rating', 'ratingContents', 'releaseDateTheaters',\n",
    "                                'releaseDateStreaming', 'runtimeMinutes', 'genre', 'originalLanguage',\n",
    "                                'director', 'writer', 'boxOffice', 'distributor', 'soundMix', 'reviewUrl',\n",
    "                                'id', 'reviewId', 'creationDate', 'isTopCritic', 'reviewState', 'tomatoMeter',\n",
    "                                'audienceScore'])"
   ]
  },
  {
   "cell_type": "code",
   "execution_count": 6,
   "id": "8cafa3a8-9a46-4542-88bb-5716dbc45fef",
   "metadata": {
    "tags": []
   },
   "outputs": [
    {
     "data": {
      "text/plain": [
       "title               5470\n",
       "criticName             0\n",
       "publicatioName         0\n",
       "reviewText         70284\n",
       "scoreSentiment         0\n",
       "delta             109854\n",
       "dtype: int64"
      ]
     },
     "execution_count": 6,
     "metadata": {},
     "output_type": "execute_result"
    }
   ],
   "source": [
    "# Check for nulls\n",
    "massive.isnull().sum()"
   ]
  },
  {
   "cell_type": "code",
   "execution_count": 7,
   "id": "6b5d293b-e18c-459c-8a4c-09d1cb109f53",
   "metadata": {
    "tags": []
   },
   "outputs": [],
   "source": [
    "# Null data in these columns either indicate low quality data or will interfere with score calculations,\n",
    "# drop all nulls\n",
    "massive = massive.dropna()"
   ]
  },
  {
   "cell_type": "code",
   "execution_count": 8,
   "id": "2b6644dd-c937-4213-a8f6-02b429506f28",
   "metadata": {
    "tags": []
   },
   "outputs": [],
   "source": [
    "#Conditionals to isolate reviews where critic scoree is at least 20% either above or below audience scores\n",
    "condition = (massive['delta'] >= 20) & (massive['scoreSentiment'] == 'POSITIVE')\n",
    "\n",
    "if condition.any():\n",
    "    massive = massive.drop(massive[condition].index)"
   ]
  },
  {
   "cell_type": "code",
   "execution_count": 9,
   "id": "4d01b566-ef36-4774-83f6-751333f5786b",
   "metadata": {
    "tags": []
   },
   "outputs": [],
   "source": [
    "condition = (massive['delta'] <= -20) & (massive['scoreSentiment'] == 'NEGATIVE')\n",
    "\n",
    "if condition.any():\n",
    "    massive = massive.drop(massive[condition].index)"
   ]
  },
  {
   "cell_type": "code",
   "execution_count": 10,
   "id": "82d02937-0e33-4e4f-9b45-caddf03164b4",
   "metadata": {
    "tags": []
   },
   "outputs": [],
   "source": [
    "# Dropping duplicate reviews\n",
    "massive = massive.drop_duplicates(subset='reviewText', keep='first')"
   ]
  },
  {
   "cell_type": "code",
   "execution_count": 11,
   "id": "4076259a-c095-4ade-a5dc-46f03986b3c4",
   "metadata": {
    "tags": []
   },
   "outputs": [],
   "source": [
    "# Output to csv for analysis and processing\n",
    "massive.to_csv(\"massive.csv\", index=False)"
   ]
  },
  {
   "cell_type": "code",
   "execution_count": 12,
   "id": "0804c490-33b2-4c52-9ec4-f7cbf61e4fc0",
   "metadata": {},
   "outputs": [
    {
     "data": {
      "text/html": [
       "<div>\n",
       "<style scoped>\n",
       "    .dataframe tbody tr th:only-of-type {\n",
       "        vertical-align: middle;\n",
       "    }\n",
       "\n",
       "    .dataframe tbody tr th {\n",
       "        vertical-align: top;\n",
       "    }\n",
       "\n",
       "    .dataframe thead th {\n",
       "        text-align: right;\n",
       "    }\n",
       "</style>\n",
       "<table border=\"1\" class=\"dataframe\">\n",
       "  <thead>\n",
       "    <tr style=\"text-align: right;\">\n",
       "      <th></th>\n",
       "      <th>title</th>\n",
       "      <th>criticName</th>\n",
       "      <th>publicatioName</th>\n",
       "      <th>reviewText</th>\n",
       "      <th>scoreSentiment</th>\n",
       "      <th>delta</th>\n",
       "    </tr>\n",
       "  </thead>\n",
       "  <tbody>\n",
       "    <tr>\n",
       "      <th>2</th>\n",
       "      <td>Adrift</td>\n",
       "      <td>Josh Parham</td>\n",
       "      <td>Next Best Picture</td>\n",
       "      <td>This is nowhere near the level of other great ...</td>\n",
       "      <td>POSITIVE</td>\n",
       "      <td>4.0</td>\n",
       "    </tr>\n",
       "    <tr>\n",
       "      <th>3</th>\n",
       "      <td>Adrift</td>\n",
       "      <td>Cory Woodroof</td>\n",
       "      <td>615 Film</td>\n",
       "      <td>Adrift somehow survives the late reveal, and t...</td>\n",
       "      <td>POSITIVE</td>\n",
       "      <td>4.0</td>\n",
       "    </tr>\n",
       "    <tr>\n",
       "      <th>4</th>\n",
       "      <td>Adrift</td>\n",
       "      <td>Kip Mooney</td>\n",
       "      <td>College Movie Review</td>\n",
       "      <td>For almost the entire runtime, the only people...</td>\n",
       "      <td>NEGATIVE</td>\n",
       "      <td>4.0</td>\n",
       "    </tr>\n",
       "    <tr>\n",
       "      <th>5</th>\n",
       "      <td>Adrift</td>\n",
       "      <td>Robin Holabird</td>\n",
       "      <td>Robin Holabird</td>\n",
       "      <td>Shailene Woodley shows no fear diving on and o...</td>\n",
       "      <td>POSITIVE</td>\n",
       "      <td>4.0</td>\n",
       "    </tr>\n",
       "    <tr>\n",
       "      <th>6</th>\n",
       "      <td>Adrift</td>\n",
       "      <td>Richard Crouse</td>\n",
       "      <td>Richard Crouse</td>\n",
       "      <td>What is meant to be a voyage of self-discovery...</td>\n",
       "      <td>NEGATIVE</td>\n",
       "      <td>4.0</td>\n",
       "    </tr>\n",
       "    <tr>\n",
       "      <th>...</th>\n",
       "      <td>...</td>\n",
       "      <td>...</td>\n",
       "      <td>...</td>\n",
       "      <td>...</td>\n",
       "      <td>...</td>\n",
       "      <td>...</td>\n",
       "    </tr>\n",
       "    <tr>\n",
       "      <th>1469538</th>\n",
       "      <td>The Human Body</td>\n",
       "      <td>Bruce Feld</td>\n",
       "      <td>Film Journal International</td>\n",
       "      <td>From beginning to end, The Human Body is a rar...</td>\n",
       "      <td>POSITIVE</td>\n",
       "      <td>18.0</td>\n",
       "    </tr>\n",
       "    <tr>\n",
       "      <th>1469539</th>\n",
       "      <td>The Human Body</td>\n",
       "      <td>Bridget Byrne</td>\n",
       "      <td>Boxoffice Magazine</td>\n",
       "      <td>The impression left is that of a series of sli...</td>\n",
       "      <td>NEGATIVE</td>\n",
       "      <td>18.0</td>\n",
       "    </tr>\n",
       "    <tr>\n",
       "      <th>1469540</th>\n",
       "      <td>The Human Body</td>\n",
       "      <td>Ross Anthony</td>\n",
       "      <td>Hollywood Report Card</td>\n",
       "      <td>Though plenty of room for improvement exists, ...</td>\n",
       "      <td>POSITIVE</td>\n",
       "      <td>18.0</td>\n",
       "    </tr>\n",
       "    <tr>\n",
       "      <th>1469541</th>\n",
       "      <td>The Human Body</td>\n",
       "      <td>John Petrakis</td>\n",
       "      <td>Chicago Tribune</td>\n",
       "      <td>My guess is that The Human Body will inspire m...</td>\n",
       "      <td>POSITIVE</td>\n",
       "      <td>18.0</td>\n",
       "    </tr>\n",
       "    <tr>\n",
       "      <th>1469542</th>\n",
       "      <td>The Human Body</td>\n",
       "      <td>Robert W. Butler</td>\n",
       "      <td>Kansas City Star</td>\n",
       "      <td>A near-seamless melding of science fact, visua...</td>\n",
       "      <td>POSITIVE</td>\n",
       "      <td>18.0</td>\n",
       "    </tr>\n",
       "  </tbody>\n",
       "</table>\n",
       "<p>965167 rows × 6 columns</p>\n",
       "</div>"
      ],
      "text/plain": [
       "                  title        criticName              publicatioName  \\\n",
       "2                Adrift       Josh Parham           Next Best Picture   \n",
       "3                Adrift     Cory Woodroof                    615 Film   \n",
       "4                Adrift        Kip Mooney        College Movie Review   \n",
       "5                Adrift    Robin Holabird              Robin Holabird   \n",
       "6                Adrift    Richard Crouse              Richard Crouse   \n",
       "...                 ...               ...                         ...   \n",
       "1469538  The Human Body        Bruce Feld  Film Journal International   \n",
       "1469539  The Human Body     Bridget Byrne          Boxoffice Magazine   \n",
       "1469540  The Human Body      Ross Anthony       Hollywood Report Card   \n",
       "1469541  The Human Body     John Petrakis             Chicago Tribune   \n",
       "1469542  The Human Body  Robert W. Butler            Kansas City Star   \n",
       "\n",
       "                                                reviewText scoreSentiment  \\\n",
       "2        This is nowhere near the level of other great ...       POSITIVE   \n",
       "3        Adrift somehow survives the late reveal, and t...       POSITIVE   \n",
       "4        For almost the entire runtime, the only people...       NEGATIVE   \n",
       "5        Shailene Woodley shows no fear diving on and o...       POSITIVE   \n",
       "6        What is meant to be a voyage of self-discovery...       NEGATIVE   \n",
       "...                                                    ...            ...   \n",
       "1469538  From beginning to end, The Human Body is a rar...       POSITIVE   \n",
       "1469539  The impression left is that of a series of sli...       NEGATIVE   \n",
       "1469540  Though plenty of room for improvement exists, ...       POSITIVE   \n",
       "1469541  My guess is that The Human Body will inspire m...       POSITIVE   \n",
       "1469542  A near-seamless melding of science fact, visua...       POSITIVE   \n",
       "\n",
       "         delta  \n",
       "2          4.0  \n",
       "3          4.0  \n",
       "4          4.0  \n",
       "5          4.0  \n",
       "6          4.0  \n",
       "...        ...  \n",
       "1469538   18.0  \n",
       "1469539   18.0  \n",
       "1469540   18.0  \n",
       "1469541   18.0  \n",
       "1469542   18.0  \n",
       "\n",
       "[965167 rows x 6 columns]"
      ]
     },
     "execution_count": 12,
     "metadata": {},
     "output_type": "execute_result"
    }
   ],
   "source": [
    "# Show output dataframe\n",
    "massive"
   ]
  },
  {
   "cell_type": "code",
   "execution_count": null,
   "id": "8db331b0-ac26-441b-a6f8-64ecfb0c5cc3",
   "metadata": {},
   "outputs": [],
   "source": []
  }
 ],
 "metadata": {
  "kernelspec": {
   "display_name": "Python 3 (ipykernel)",
   "language": "python",
   "name": "python3"
  },
  "language_info": {
   "codemirror_mode": {
    "name": "ipython",
    "version": 3
   },
   "file_extension": ".py",
   "mimetype": "text/x-python",
   "name": "python",
   "nbconvert_exporter": "python",
   "pygments_lexer": "ipython3",
   "version": "3.7.13"
  }
 },
 "nbformat": 4,
 "nbformat_minor": 5
}
