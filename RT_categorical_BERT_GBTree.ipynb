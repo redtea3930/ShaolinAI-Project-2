{
 "cells": [
  {
   "cell_type": "code",
   "execution_count": 1,
   "id": "b80b3cc5-603d-4724-9179-b1f762a2e8c0",
   "metadata": {},
   "outputs": [],
   "source": [
    "#import libraries\n",
    "import pandas as pd\n",
    "import numpy as np\n",
    "from pathlib import Path\n",
    "import matplotlib.pyplot as plt\n",
    "import seaborn as sns\n",
    "from sklearn.model_selection import train_test_split\n",
    "from sklearn.metrics import accuracy_score, classification_report, confusion_matrix\n",
    "from sklearn.preprocessing import StandardScaler\n",
    "from sklearn.decomposition import PCA\n",
    "from sklearn.linear_model import LogisticRegression\n",
    "from sklearn.ensemble import RandomForestClassifier\n",
    "from sklearn.svm import SVC\n",
    "from sklearn.model_selection import GridSearchCV\n",
    "from sklearn.ensemble import GradientBoostingClassifier\n",
    "#from gensim.models import Word2Vec\n",
    "#from gensim.test.utils import datapath\n",
    "#from gensim import utils\n",
    "#import gensim\n",
    "import multiprocessing\n",
    "cores = multiprocessing.cpu_count()\n",
    "import os\n",
    "from time import time\n",
    "import torch\n",
    "from transformers import AutoModel, AutoTokenizer, AutoConfig\n",
    "from transformers import AutoModelForSequenceClassification\n",
    "from torch.utils.data import DataLoader"
   ]
  },
  {
   "cell_type": "code",
   "execution_count": null,
   "id": "b8e08946-4fd4-422f-8669-519037b0459f",
   "metadata": {},
   "outputs": [],
   "source": [
    "# To notify when cell is complete (comment out first line). Add %%notify to the first line of a cell to get notified\n",
    "# !pip uninstall jupyternotify -y\n",
    "!pip install git+https://github.com/cphyc/jupyter-notify.git\n",
    "%reload_ext jupyternotify"
   ]
  },
  {
   "cell_type": "code",
   "execution_count": 3,
   "id": "606c2cda-48a1-4431-be34-c839cf1cd02d",
   "metadata": {},
   "outputs": [],
   "source": [
    "# read in cleaned CSV\n",
    "filepath = Path('../massive.csv')\n",
    "massive = pd.read_csv(filepath)\n",
    "massive = massive.sample(n=15000)\n",
    "massive.reset_index(drop=True, inplace=True)"
   ]
  },
  {
   "cell_type": "markdown",
   "id": "aa421c2a-f53f-4ace-8c04-4bc8189c7da6",
   "metadata": {},
   "source": [
    "## Pre-processing"
   ]
  },
  {
   "cell_type": "code",
   "execution_count": 4,
   "id": "7043144f-4577-4804-a286-d00e82aeff78",
   "metadata": {},
   "outputs": [
    {
     "data": {
      "text/html": [
       "<div>\n",
       "<style scoped>\n",
       "    .dataframe tbody tr th:only-of-type {\n",
       "        vertical-align: middle;\n",
       "    }\n",
       "\n",
       "    .dataframe tbody tr th {\n",
       "        vertical-align: top;\n",
       "    }\n",
       "\n",
       "    .dataframe thead th {\n",
       "        text-align: right;\n",
       "    }\n",
       "</style>\n",
       "<table border=\"1\" class=\"dataframe\">\n",
       "  <thead>\n",
       "    <tr style=\"text-align: right;\">\n",
       "      <th></th>\n",
       "      <th>title</th>\n",
       "      <th>tomatoMeter</th>\n",
       "      <th>criticName</th>\n",
       "      <th>publicatioName</th>\n",
       "      <th>reviewText</th>\n",
       "      <th>scoreSentiment</th>\n",
       "      <th>delta</th>\n",
       "    </tr>\n",
       "  </thead>\n",
       "  <tbody>\n",
       "    <tr>\n",
       "      <th>0</th>\n",
       "      <td>ClownTown</td>\n",
       "      <td>9.0</td>\n",
       "      <td>Roger Moore</td>\n",
       "      <td>Movie Nation</td>\n",
       "      <td>Deathly-dull, but could this no-budget horror ...</td>\n",
       "      <td>NEGATIVE</td>\n",
       "      <td>-19.0</td>\n",
       "    </tr>\n",
       "  </tbody>\n",
       "</table>\n",
       "</div>"
      ],
      "text/plain": [
       "       title  tomatoMeter   criticName publicatioName  \\\n",
       "0  ClownTown          9.0  Roger Moore   Movie Nation   \n",
       "\n",
       "                                          reviewText scoreSentiment  delta  \n",
       "0  Deathly-dull, but could this no-budget horror ...       NEGATIVE  -19.0  "
      ]
     },
     "execution_count": 4,
     "metadata": {},
     "output_type": "execute_result"
    }
   ],
   "source": [
    "# Dropping columns including audienceScore because it could unfairly help the model predict the delta. Leaving tomatoMeter to give the model a base of where the delta could be.\n",
    "massive = massive.drop(columns=['id', 'reviewId', 'creationDate', 'isTopCritic', 'reviewState', 'audienceScore'])\n",
    "massive.head(1)"
   ]
  },
  {
   "cell_type": "code",
   "execution_count": 5,
   "id": "f1c54342-2a2d-40dd-9e09-3ada32d0de68",
   "metadata": {},
   "outputs": [],
   "source": [
    "# Binning delta column into 5 categories for Logistic regression\n",
    "bins = [-99, -26, -11, 10, 25, 99]\n",
    "labels = [0, 1, 2, 3, 4]\n",
    "massive['delta_category'] = pd.cut(massive['delta'], bins=bins, labels=labels)"
   ]
  },
  {
   "cell_type": "code",
   "execution_count": 6,
   "id": "b8673ded-49df-43d3-bf79-634ac7000096",
   "metadata": {},
   "outputs": [
    {
     "data": {
      "text/plain": [
       "title             0\n",
       "tomatoMeter       0\n",
       "criticName        0\n",
       "publicatioName    0\n",
       "reviewText        0\n",
       "scoreSentiment    0\n",
       "delta             0\n",
       "delta_category    0\n",
       "dtype: int64"
      ]
     },
     "execution_count": 6,
     "metadata": {},
     "output_type": "execute_result"
    }
   ],
   "source": [
    "massive.isnull().sum()"
   ]
  },
  {
   "cell_type": "code",
   "execution_count": 7,
   "id": "3038c20c-d453-4bfe-ba9c-f2ff38aec57c",
   "metadata": {},
   "outputs": [
    {
     "data": {
      "text/plain": [
       "title              7215\n",
       "tomatoMeter       14882\n",
       "criticName        11916\n",
       "publicatioName    13485\n",
       "reviewText            0\n",
       "scoreSentiment    14980\n",
       "delta             14860\n",
       "delta_category    14977\n",
       "dtype: int64"
      ]
     },
     "execution_count": 7,
     "metadata": {},
     "output_type": "execute_result"
    }
   ],
   "source": [
    "# Dropping duplicates\n",
    "massive = massive.drop_duplicates(subset='reviewText', keep='first')\n",
    "# Resetting index after dropping dupe's\n",
    "massive.reset_index(drop=True, inplace=True)\n",
    "# Checking for duplicates\n",
    "dup_df = massive.apply(lambda x: x.duplicated()).sum()\n",
    "dup_df"
   ]
  },
  {
   "cell_type": "markdown",
   "id": "1a92a439-9a49-4f84-a81e-39f88f65035e",
   "metadata": {},
   "source": [
    "## BERT Vectorizer"
   ]
  },
  {
   "cell_type": "code",
   "execution_count": 8,
   "id": "c8ef3920-1a56-4063-8460-b6be9b18ba60",
   "metadata": {},
   "outputs": [
    {
     "name": "stderr",
     "output_type": "stream",
     "text": [
      "Some weights of the model checkpoint at activebus/BERT_Review were not used when initializing BertModel: ['cls.predictions.transform.dense.weight', 'cls.predictions.decoder.bias', 'cls.predictions.transform.LayerNorm.weight', 'cls.predictions.transform.LayerNorm.bias', 'cls.predictions.decoder.weight', 'cls.predictions.transform.dense.bias', 'cls.predictions.bias']\n",
      "- This IS expected if you are initializing BertModel from the checkpoint of a model trained on another task or with another architecture (e.g. initializing a BertForSequenceClassification model from a BertForPreTraining model).\n",
      "- This IS NOT expected if you are initializing BertModel from the checkpoint of a model that you expect to be exactly identical (initializing a BertForSequenceClassification model from a BertForSequenceClassification model).\n"
     ]
    }
   ],
   "source": [
    "# Pulling BERT from huggingface\n",
    "tokenizer = AutoTokenizer.from_pretrained(\"activebus/BERT_Review\")\n",
    "model = AutoModel.from_pretrained(\"activebus/BERT_Review\")"
   ]
  },
  {
   "cell_type": "code",
   "execution_count": 9,
   "id": "f02aa687-093e-4da1-97ff-f440bb5c26b3",
   "metadata": {},
   "outputs": [
    {
     "data": {
      "text/html": [
       "<div>\n",
       "<style scoped>\n",
       "    .dataframe tbody tr th:only-of-type {\n",
       "        vertical-align: middle;\n",
       "    }\n",
       "\n",
       "    .dataframe tbody tr th {\n",
       "        vertical-align: top;\n",
       "    }\n",
       "\n",
       "    .dataframe thead th {\n",
       "        text-align: right;\n",
       "    }\n",
       "</style>\n",
       "<table border=\"1\" class=\"dataframe\">\n",
       "  <thead>\n",
       "    <tr style=\"text-align: right;\">\n",
       "      <th></th>\n",
       "      <th>title</th>\n",
       "      <th>tomatoMeter</th>\n",
       "      <th>criticName</th>\n",
       "      <th>publicatioName</th>\n",
       "      <th>reviewText</th>\n",
       "      <th>scoreSentiment</th>\n",
       "      <th>delta</th>\n",
       "      <th>delta_category</th>\n",
       "      <th>embeddings</th>\n",
       "    </tr>\n",
       "  </thead>\n",
       "  <tbody>\n",
       "    <tr>\n",
       "      <th>0</th>\n",
       "      <td>ClownTown</td>\n",
       "      <td>9.0</td>\n",
       "      <td>Roger Moore</td>\n",
       "      <td>Movie Nation</td>\n",
       "      <td>Deathly-dull, but could this no-budget horror ...</td>\n",
       "      <td>NEGATIVE</td>\n",
       "      <td>-19.0</td>\n",
       "      <td>1</td>\n",
       "      <td>[0.08950369, 0.5656611, 0.2512408, 0.053721197...</td>\n",
       "    </tr>\n",
       "    <tr>\n",
       "      <th>1</th>\n",
       "      <td>Maleficent</td>\n",
       "      <td>54.0</td>\n",
       "      <td>Ann Hornaday</td>\n",
       "      <td>Washington Post</td>\n",
       "      <td>For all its limitations, \"Maleficent\" manages ...</td>\n",
       "      <td>POSITIVE</td>\n",
       "      <td>-16.0</td>\n",
       "      <td>1</td>\n",
       "      <td>[-0.3613663, 0.5549257, 0.020555448, -0.069974...</td>\n",
       "    </tr>\n",
       "    <tr>\n",
       "      <th>2</th>\n",
       "      <td>Cosmopolis</td>\n",
       "      <td>66.0</td>\n",
       "      <td>Gary Thompson</td>\n",
       "      <td>Philadelphia Daily News</td>\n",
       "      <td>Here we have a brainy, sometimes impenetrable ...</td>\n",
       "      <td>NEGATIVE</td>\n",
       "      <td>35.0</td>\n",
       "      <td>4</td>\n",
       "      <td>[-0.33737096, 0.4118671, 0.16659085, -0.024679...</td>\n",
       "    </tr>\n",
       "    <tr>\n",
       "      <th>3</th>\n",
       "      <td>Frank Miller's Sin City: A Dame to Kill For</td>\n",
       "      <td>43.0</td>\n",
       "      <td>Jennifer Heaton</td>\n",
       "      <td>Alternative Lens</td>\n",
       "      <td>It often feels like the table scraps of the fi...</td>\n",
       "      <td>NEGATIVE</td>\n",
       "      <td>-1.0</td>\n",
       "      <td>2</td>\n",
       "      <td>[-0.2537944, 0.2904615, 0.081751816, -0.033366...</td>\n",
       "    </tr>\n",
       "    <tr>\n",
       "      <th>4</th>\n",
       "      <td>Hostiles</td>\n",
       "      <td>70.0</td>\n",
       "      <td>Cary Darling</td>\n",
       "      <td>Houston Chronicle</td>\n",
       "      <td>Along with another 2017 film, \"Wind River,\" \"H...</td>\n",
       "      <td>POSITIVE</td>\n",
       "      <td>-5.0</td>\n",
       "      <td>2</td>\n",
       "      <td>[-0.37430876, 0.44088465, -0.19314666, -0.1849...</td>\n",
       "    </tr>\n",
       "  </tbody>\n",
       "</table>\n",
       "</div>"
      ],
      "text/plain": [
       "                                         title  tomatoMeter       criticName  \\\n",
       "0                                    ClownTown          9.0      Roger Moore   \n",
       "1                                   Maleficent         54.0     Ann Hornaday   \n",
       "2                                   Cosmopolis         66.0    Gary Thompson   \n",
       "3  Frank Miller's Sin City: A Dame to Kill For         43.0  Jennifer Heaton   \n",
       "4                                     Hostiles         70.0     Cary Darling   \n",
       "\n",
       "            publicatioName                                         reviewText  \\\n",
       "0             Movie Nation  Deathly-dull, but could this no-budget horror ...   \n",
       "1          Washington Post  For all its limitations, \"Maleficent\" manages ...   \n",
       "2  Philadelphia Daily News  Here we have a brainy, sometimes impenetrable ...   \n",
       "3         Alternative Lens  It often feels like the table scraps of the fi...   \n",
       "4        Houston Chronicle  Along with another 2017 film, \"Wind River,\" \"H...   \n",
       "\n",
       "  scoreSentiment  delta delta_category  \\\n",
       "0       NEGATIVE  -19.0              1   \n",
       "1       POSITIVE  -16.0              1   \n",
       "2       NEGATIVE   35.0              4   \n",
       "3       NEGATIVE   -1.0              2   \n",
       "4       POSITIVE   -5.0              2   \n",
       "\n",
       "                                          embeddings  \n",
       "0  [0.08950369, 0.5656611, 0.2512408, 0.053721197...  \n",
       "1  [-0.3613663, 0.5549257, 0.020555448, -0.069974...  \n",
       "2  [-0.33737096, 0.4118671, 0.16659085, -0.024679...  \n",
       "3  [-0.2537944, 0.2904615, 0.081751816, -0.033366...  \n",
       "4  [-0.37430876, 0.44088465, -0.19314666, -0.1849...  "
      ]
     },
     "execution_count": 9,
     "metadata": {},
     "output_type": "execute_result"
    },
    {
     "data": {
      "application/javascript": [
       "$(document).ready(\n",
       "    function() {\n",
       "        function appendUniqueDiv(){\n",
       "            // append a div with our uuid so we can check that it's already\n",
       "            // been sent and avoid duplicates on page reload\n",
       "            var notifiedDiv = document.createElement(\"div\")\n",
       "            notifiedDiv.id = \"ed623c2c-b213-4d92-818f-8425bc61c25a\"\n",
       "            element.append(notifiedDiv)\n",
       "        }\n",
       "\n",
       "        // only send notifications if the pageload is complete; this will\n",
       "        // help stop extra notifications when a saved notebook is loaded,\n",
       "        // which during testing gives us state \"interactive\", not \"complete\"\n",
       "        if (document.readyState === 'complete') {\n",
       "            // check for the div that signifies that the notification\n",
       "            // was already sent\n",
       "            if (document.getElementById(\"ed623c2c-b213-4d92-818f-8425bc61c25a\") === null) {\n",
       "                var notificationPayload = {\"requireInteraction\": false, \"icon\": \"/static/base/images/favicon.ico\", \"body\": \"Cell execution has finished!\", \"only_in_background\": false};\n",
       "\n",
       "                // We have a notification but the window is active\n",
       "                if (notificationPayload.only_in_background && !window.jupyterNotifyIsInBackground) {\n",
       "                    appendUniqueDiv();\n",
       "                    return;\n",
       "                }\n",
       "                if (Notification.permission !== 'denied') {\n",
       "                    if (Notification.permission !== 'granted') { \n",
       "                        Notification.requestPermission(function (permission) {\n",
       "                            if(!('permission' in Notification)) {\n",
       "                                Notification.permission = permission\n",
       "                            }\n",
       "                        })\n",
       "                    }\n",
       "                    if (Notification.permission === 'granted') {\n",
       "                    var notification = new Notification(\"Jupyter Notebook\", notificationPayload)\n",
       "                    appendUniqueDiv()\n",
       "                    notification.onclick = function () {\n",
       "                        window.focus();\n",
       "                        this.close();\n",
       "                        };\n",
       "                    } \n",
       "                }     \n",
       "            }\n",
       "        }\n",
       "    }\n",
       ")\n"
      ],
      "text/plain": [
       "<IPython.core.display.Javascript object>"
      ]
     },
     "metadata": {},
     "output_type": "display_data"
    }
   ],
   "source": [
    "%%notify\n",
    "# Text preprocessing function\n",
    "def preprocess(text):\n",
    "    new_text = []\n",
    "    for t in text.split(\" \"):\n",
    "        t = '@user' if t.startswith('@') and len(t) > 1 else t\n",
    "        t = 'http' if t.startswith('http') else t\n",
    "        new_text.append(t)\n",
    "    return \" \".join(new_text)\n",
    "# Function to vectorize text with BERT\n",
    "def get_embedding(text):\n",
    "    text = preprocess(text)\n",
    "    encoded_input = tokenizer(text, return_tensors='pt')\n",
    "    features = model(**encoded_input)\n",
    "    features = features[0].detach().numpy() \n",
    "    features_mean = np.mean(features[0], axis=0) \n",
    "    return features_mean\n",
    "# Applying the function to reviewText and outputting to embeddings column\n",
    "massive['embeddings'] = massive.reviewText.map(lambda x: get_embedding(x))\n",
    "massive.head()"
   ]
  },
  {
   "cell_type": "code",
   "execution_count": 10,
   "id": "637ab241-6df2-44c9-84a7-957aed4db95b",
   "metadata": {},
   "outputs": [
    {
     "data": {
      "text/plain": [
       "array([[ 0.08950369,  0.56566107,  0.25124079, ..., -0.22535168,\n",
       "         0.4612647 , -0.28839523],\n",
       "       [-0.3613663 ,  0.55492568,  0.02055545, ..., -0.05430287,\n",
       "         0.3483009 ,  0.34693852],\n",
       "       [-0.33737096,  0.41186711,  0.16659085, ..., -0.39889804,\n",
       "         0.33647817,  0.14008528],\n",
       "       ...,\n",
       "       [ 0.0393588 ,  0.79363269, -0.12832816, ..., -0.18065843,\n",
       "         0.3424049 ,  0.22751403],\n",
       "       [-0.11100719,  0.31592789,  0.00539729, ..., -0.16562848,\n",
       "         0.29397234, -0.53371745],\n",
       "       [-0.37595558,  0.35926038, -0.04925755, ..., -0.299943  ,\n",
       "         0.29099593,  0.09980157]])"
      ]
     },
     "execution_count": 10,
     "metadata": {},
     "output_type": "execute_result"
    }
   ],
   "source": [
    "# Converting embeddings column to numpy array\n",
    "vectors = np.array(massive.embeddings.tolist(), dtype='float')\n",
    "vectors[:10]"
   ]
  },
  {
   "cell_type": "code",
   "execution_count": 11,
   "id": "f52aa422-801e-4535-9bd5-be70318786bc",
   "metadata": {},
   "outputs": [
    {
     "data": {
      "text/html": [
       "<div>\n",
       "<style scoped>\n",
       "    .dataframe tbody tr th:only-of-type {\n",
       "        vertical-align: middle;\n",
       "    }\n",
       "\n",
       "    .dataframe tbody tr th {\n",
       "        vertical-align: top;\n",
       "    }\n",
       "\n",
       "    .dataframe thead th {\n",
       "        text-align: right;\n",
       "    }\n",
       "</style>\n",
       "<table border=\"1\" class=\"dataframe\">\n",
       "  <thead>\n",
       "    <tr style=\"text-align: right;\">\n",
       "      <th></th>\n",
       "      <th>col1</th>\n",
       "      <th>col2</th>\n",
       "      <th>col3</th>\n",
       "      <th>col4</th>\n",
       "      <th>col5</th>\n",
       "      <th>col6</th>\n",
       "      <th>col7</th>\n",
       "      <th>col8</th>\n",
       "      <th>col9</th>\n",
       "      <th>col10</th>\n",
       "      <th>...</th>\n",
       "      <th>col759</th>\n",
       "      <th>col760</th>\n",
       "      <th>col761</th>\n",
       "      <th>col762</th>\n",
       "      <th>col763</th>\n",
       "      <th>col764</th>\n",
       "      <th>col765</th>\n",
       "      <th>col766</th>\n",
       "      <th>col767</th>\n",
       "      <th>col768</th>\n",
       "    </tr>\n",
       "  </thead>\n",
       "  <tbody>\n",
       "    <tr>\n",
       "      <th>0</th>\n",
       "      <td>0.089504</td>\n",
       "      <td>0.565661</td>\n",
       "      <td>0.251241</td>\n",
       "      <td>0.053721</td>\n",
       "      <td>0.242632</td>\n",
       "      <td>-0.062030</td>\n",
       "      <td>0.034294</td>\n",
       "      <td>0.557072</td>\n",
       "      <td>-0.226973</td>\n",
       "      <td>0.128724</td>\n",
       "      <td>...</td>\n",
       "      <td>-0.034860</td>\n",
       "      <td>-0.283966</td>\n",
       "      <td>-0.049585</td>\n",
       "      <td>0.067217</td>\n",
       "      <td>-0.170560</td>\n",
       "      <td>0.059303</td>\n",
       "      <td>-0.018557</td>\n",
       "      <td>-0.225352</td>\n",
       "      <td>0.461265</td>\n",
       "      <td>-0.288395</td>\n",
       "    </tr>\n",
       "    <tr>\n",
       "      <th>1</th>\n",
       "      <td>-0.361366</td>\n",
       "      <td>0.554926</td>\n",
       "      <td>0.020555</td>\n",
       "      <td>-0.069974</td>\n",
       "      <td>0.005973</td>\n",
       "      <td>0.076818</td>\n",
       "      <td>0.208793</td>\n",
       "      <td>0.455620</td>\n",
       "      <td>-0.131073</td>\n",
       "      <td>-0.084887</td>\n",
       "      <td>...</td>\n",
       "      <td>-0.101248</td>\n",
       "      <td>-0.404666</td>\n",
       "      <td>0.158484</td>\n",
       "      <td>-0.055870</td>\n",
       "      <td>-0.132956</td>\n",
       "      <td>-0.038175</td>\n",
       "      <td>0.452400</td>\n",
       "      <td>-0.054303</td>\n",
       "      <td>0.348301</td>\n",
       "      <td>0.346939</td>\n",
       "    </tr>\n",
       "    <tr>\n",
       "      <th>2</th>\n",
       "      <td>-0.337371</td>\n",
       "      <td>0.411867</td>\n",
       "      <td>0.166591</td>\n",
       "      <td>-0.024680</td>\n",
       "      <td>0.375604</td>\n",
       "      <td>0.084084</td>\n",
       "      <td>-0.157392</td>\n",
       "      <td>0.503688</td>\n",
       "      <td>-0.128764</td>\n",
       "      <td>-0.175200</td>\n",
       "      <td>...</td>\n",
       "      <td>-0.059233</td>\n",
       "      <td>-0.332006</td>\n",
       "      <td>0.078353</td>\n",
       "      <td>-0.067937</td>\n",
       "      <td>-0.362091</td>\n",
       "      <td>-0.048901</td>\n",
       "      <td>-0.014837</td>\n",
       "      <td>-0.398898</td>\n",
       "      <td>0.336478</td>\n",
       "      <td>0.140085</td>\n",
       "    </tr>\n",
       "  </tbody>\n",
       "</table>\n",
       "<p>3 rows × 768 columns</p>\n",
       "</div>"
      ],
      "text/plain": [
       "       col1      col2      col3      col4      col5      col6      col7  \\\n",
       "0  0.089504  0.565661  0.251241  0.053721  0.242632 -0.062030  0.034294   \n",
       "1 -0.361366  0.554926  0.020555 -0.069974  0.005973  0.076818  0.208793   \n",
       "2 -0.337371  0.411867  0.166591 -0.024680  0.375604  0.084084 -0.157392   \n",
       "\n",
       "       col8      col9     col10  ...    col759    col760    col761    col762  \\\n",
       "0  0.557072 -0.226973  0.128724  ... -0.034860 -0.283966 -0.049585  0.067217   \n",
       "1  0.455620 -0.131073 -0.084887  ... -0.101248 -0.404666  0.158484 -0.055870   \n",
       "2  0.503688 -0.128764 -0.175200  ... -0.059233 -0.332006  0.078353 -0.067937   \n",
       "\n",
       "     col763    col764    col765    col766    col767    col768  \n",
       "0 -0.170560  0.059303 -0.018557 -0.225352  0.461265 -0.288395  \n",
       "1 -0.132956 -0.038175  0.452400 -0.054303  0.348301  0.346939  \n",
       "2 -0.362091 -0.048901 -0.014837 -0.398898  0.336478  0.140085  \n",
       "\n",
       "[3 rows x 768 columns]"
      ]
     },
     "execution_count": 11,
     "metadata": {},
     "output_type": "execute_result"
    }
   ],
   "source": [
    "# Flattening numpy array and creating dataframe with it\n",
    "v_df = pd.DataFrame(vectors, columns=[f'col{i+1}' for i in range(vectors.shape[1])])\n",
    "v_df.head(3)"
   ]
  },
  {
   "cell_type": "code",
   "execution_count": 12,
   "id": "688d5fd1-c80d-47f4-8c52-4bc91ec9cdd4",
   "metadata": {},
   "outputs": [],
   "source": [
    "# Dropping review text now it is vectorized, and dropping embeddings now that it is flattened\n",
    "massive = massive.drop(columns=['reviewText', 'embeddings', 'delta'])"
   ]
  },
  {
   "cell_type": "code",
   "execution_count": 13,
   "id": "66941dde-e810-4c38-b202-daed024aa859",
   "metadata": {},
   "outputs": [
    {
     "data": {
      "text/plain": [
       "title             0\n",
       "tomatoMeter       0\n",
       "criticName        0\n",
       "publicatioName    0\n",
       "scoreSentiment    0\n",
       "delta_category    0\n",
       "dtype: int64"
      ]
     },
     "execution_count": 13,
     "metadata": {},
     "output_type": "execute_result"
    }
   ],
   "source": [
    "massive.isnull().sum().head(9)"
   ]
  },
  {
   "cell_type": "markdown",
   "id": "fca18b30-14b3-41f7-ae95-809182f5c2a8",
   "metadata": {},
   "source": [
    "## Encoding categorical columns"
   ]
  },
  {
   "cell_type": "code",
   "execution_count": 14,
   "id": "5dac35c1-4c06-49fd-b618-61b900391658",
   "metadata": {},
   "outputs": [
    {
     "data": {
      "text/plain": [
       "Other                  8936\n",
       "Dennis Schwartz          98\n",
       "Roger Ebert              88\n",
       "Jeffrey M. Anderson      85\n",
       "Roger Moore              79\n",
       "                       ... \n",
       "James Rocchi             16\n",
       "John Serba               16\n",
       "Philip Martin            16\n",
       "JoBlo                    16\n",
       "Jon Popick               16\n",
       "Name: criticName, Length: 217, dtype: int64"
      ]
     },
     "execution_count": 14,
     "metadata": {},
     "output_type": "execute_result"
    }
   ],
   "source": [
    "# Renaming the least-appearing critics as Other to later be encoded as the same critic\n",
    "counts = massive.criticName.value_counts()\n",
    "threshold = massive.criticName.isin(counts.index[counts<16])\n",
    "massive.loc[threshold, 'criticName'] = 'Other'\n",
    "massive['criticName'].value_counts()"
   ]
  },
  {
   "cell_type": "code",
   "execution_count": 15,
   "id": "0a6b0a96-a932-4eaf-a06b-4ab22e1ea42a",
   "metadata": {},
   "outputs": [
    {
     "data": {
      "text/plain": [
       "Other                 4088\n",
       "New York Times         212\n",
       "Variety                192\n",
       "Los Angeles Times      138\n",
       "Hollywood Reporter     133\n",
       "                      ... \n",
       "Columbus Alive          12\n",
       "FilmStew.com            12\n",
       "Three Movie Buffs       12\n",
       "rachelsreviews.net      12\n",
       "Black Girl Nerds        12\n",
       "Name: publicatioName, Length: 337, dtype: int64"
      ]
     },
     "execution_count": 15,
     "metadata": {},
     "output_type": "execute_result"
    }
   ],
   "source": [
    "# Repeat for publications\n",
    "counts = massive.publicatioName.value_counts()\n",
    "threshold = massive.publicatioName.isin(counts.index[counts<12])\n",
    "massive.loc[threshold, 'publicatioName'] = 'Other'\n",
    "massive['publicatioName'].value_counts()"
   ]
  },
  {
   "cell_type": "code",
   "execution_count": 16,
   "id": "c935d9a7-59a9-4b8c-a9d1-0e79ab7882c7",
   "metadata": {},
   "outputs": [],
   "source": [
    "# List of columns to dummy\n",
    "categorical_cols = ['title', 'criticName', 'publicatioName', 'scoreSentiment'] \n",
    "# Get dummies on categorical columns\n",
    "massive = pd.get_dummies(massive, columns = categorical_cols)"
   ]
  },
  {
   "cell_type": "markdown",
   "id": "fab508a0-4f8e-4d65-aace-b9f0a0239fa8",
   "metadata": {},
   "source": [
    "## Final pre-processing, splitting, scaling, PCA"
   ]
  },
  {
   "cell_type": "code",
   "execution_count": 17,
   "id": "42303d3e-b19d-4849-bf9a-6edc2c08859e",
   "metadata": {},
   "outputs": [
    {
     "data": {
      "text/html": [
       "<div>\n",
       "<style scoped>\n",
       "    .dataframe tbody tr th:only-of-type {\n",
       "        vertical-align: middle;\n",
       "    }\n",
       "\n",
       "    .dataframe tbody tr th {\n",
       "        vertical-align: top;\n",
       "    }\n",
       "\n",
       "    .dataframe thead th {\n",
       "        text-align: right;\n",
       "    }\n",
       "</style>\n",
       "<table border=\"1\" class=\"dataframe\">\n",
       "  <thead>\n",
       "    <tr style=\"text-align: right;\">\n",
       "      <th></th>\n",
       "      <th>tomatoMeter</th>\n",
       "      <th>delta_category</th>\n",
       "      <th>title_$9.99</th>\n",
       "      <th>title_'71</th>\n",
       "      <th>title_(500) Days of Summer</th>\n",
       "      <th>title_... And They Lived Happily Ever After</th>\n",
       "      <th>title_...And Justice for All</th>\n",
       "      <th>title_1 Day</th>\n",
       "      <th>title_10</th>\n",
       "      <th>title_10 Cloverfield Lane</th>\n",
       "      <th>...</th>\n",
       "      <th>col759</th>\n",
       "      <th>col760</th>\n",
       "      <th>col761</th>\n",
       "      <th>col762</th>\n",
       "      <th>col763</th>\n",
       "      <th>col764</th>\n",
       "      <th>col765</th>\n",
       "      <th>col766</th>\n",
       "      <th>col767</th>\n",
       "      <th>col768</th>\n",
       "    </tr>\n",
       "  </thead>\n",
       "  <tbody>\n",
       "    <tr>\n",
       "      <th>0</th>\n",
       "      <td>9.0</td>\n",
       "      <td>1</td>\n",
       "      <td>0</td>\n",
       "      <td>0</td>\n",
       "      <td>0</td>\n",
       "      <td>0</td>\n",
       "      <td>0</td>\n",
       "      <td>0</td>\n",
       "      <td>0</td>\n",
       "      <td>0</td>\n",
       "      <td>...</td>\n",
       "      <td>-0.03486</td>\n",
       "      <td>-0.283966</td>\n",
       "      <td>-0.049585</td>\n",
       "      <td>0.067217</td>\n",
       "      <td>-0.17056</td>\n",
       "      <td>0.059303</td>\n",
       "      <td>-0.018557</td>\n",
       "      <td>-0.225352</td>\n",
       "      <td>0.461265</td>\n",
       "      <td>-0.288395</td>\n",
       "    </tr>\n",
       "  </tbody>\n",
       "</table>\n",
       "<p>1 rows × 9093 columns</p>\n",
       "</div>"
      ],
      "text/plain": [
       "   tomatoMeter delta_category  title_$9.99  title_'71  \\\n",
       "0          9.0              1            0          0   \n",
       "\n",
       "   title_(500) Days of Summer  title_... And They Lived Happily Ever After  \\\n",
       "0                           0                                            0   \n",
       "\n",
       "   title_...And Justice for All  title_1 Day  title_10  \\\n",
       "0                             0            0         0   \n",
       "\n",
       "   title_10 Cloverfield Lane  ...   col759    col760    col761    col762  \\\n",
       "0                          0  ... -0.03486 -0.283966 -0.049585  0.067217   \n",
       "\n",
       "    col763    col764    col765    col766    col767    col768  \n",
       "0 -0.17056  0.059303 -0.018557 -0.225352  0.461265 -0.288395  \n",
       "\n",
       "[1 rows x 9093 columns]"
      ]
     },
     "execution_count": 17,
     "metadata": {},
     "output_type": "execute_result"
    }
   ],
   "source": [
    "# Merging massive df with vectorized df\n",
    "combined = pd.concat([massive, v_df], axis=1)\n",
    "combined.head(1)"
   ]
  },
  {
   "cell_type": "code",
   "execution_count": 18,
   "id": "eb89e1f1-0bff-4f86-8651-a43c7a1ef3bc",
   "metadata": {},
   "outputs": [],
   "source": [
    "X = combined.drop(columns=['delta_category'])\n",
    "y = combined['delta_category']\n",
    "# Converting Category datatype to integer\n",
    "y = y.cat.codes"
   ]
  },
  {
   "cell_type": "code",
   "execution_count": 19,
   "id": "3ca3d855-6d54-4f08-a154-8263c060c0a5",
   "metadata": {},
   "outputs": [
    {
     "data": {
      "text/plain": [
       "0"
      ]
     },
     "execution_count": 19,
     "metadata": {},
     "output_type": "execute_result"
    }
   ],
   "source": [
    "X.isnull().sum().sum()"
   ]
  },
  {
   "cell_type": "code",
   "execution_count": 20,
   "id": "c7540d4b-fec3-4010-871c-1c04310b757c",
   "metadata": {},
   "outputs": [
    {
     "data": {
      "text/plain": [
       "0    1\n",
       "1    1\n",
       "2    4\n",
       "3    2\n",
       "dtype: int8"
      ]
     },
     "execution_count": 20,
     "metadata": {},
     "output_type": "execute_result"
    }
   ],
   "source": [
    "y[0:4]"
   ]
  },
  {
   "cell_type": "code",
   "execution_count": 21,
   "id": "9563c69a-5fe8-478e-95ef-96b5baa219e8",
   "metadata": {},
   "outputs": [],
   "source": [
    "# Split the data into training and testing sets\n",
    "X_train, X_test, y_train, y_test = train_test_split(X, y, test_size=0.25, random_state=42)"
   ]
  },
  {
   "cell_type": "code",
   "execution_count": 22,
   "id": "3a22dd78-d2dc-439c-8358-5adcc92a006a",
   "metadata": {},
   "outputs": [
    {
     "data": {
      "application/javascript": [
       "$(document).ready(\n",
       "    function() {\n",
       "        function appendUniqueDiv(){\n",
       "            // append a div with our uuid so we can check that it's already\n",
       "            // been sent and avoid duplicates on page reload\n",
       "            var notifiedDiv = document.createElement(\"div\")\n",
       "            notifiedDiv.id = \"f16e8037-9c80-4d61-bc0b-dda107a270d0\"\n",
       "            element.append(notifiedDiv)\n",
       "        }\n",
       "\n",
       "        // only send notifications if the pageload is complete; this will\n",
       "        // help stop extra notifications when a saved notebook is loaded,\n",
       "        // which during testing gives us state \"interactive\", not \"complete\"\n",
       "        if (document.readyState === 'complete') {\n",
       "            // check for the div that signifies that the notification\n",
       "            // was already sent\n",
       "            if (document.getElementById(\"f16e8037-9c80-4d61-bc0b-dda107a270d0\") === null) {\n",
       "                var notificationPayload = {\"requireInteraction\": false, \"icon\": \"/static/base/images/favicon.ico\", \"body\": \"Cell execution has finished!\", \"only_in_background\": false};\n",
       "\n",
       "                // We have a notification but the window is active\n",
       "                if (notificationPayload.only_in_background && !window.jupyterNotifyIsInBackground) {\n",
       "                    appendUniqueDiv();\n",
       "                    return;\n",
       "                }\n",
       "                if (Notification.permission !== 'denied') {\n",
       "                    if (Notification.permission !== 'granted') { \n",
       "                        Notification.requestPermission(function (permission) {\n",
       "                            if(!('permission' in Notification)) {\n",
       "                                Notification.permission = permission\n",
       "                            }\n",
       "                        })\n",
       "                    }\n",
       "                    if (Notification.permission === 'granted') {\n",
       "                    var notification = new Notification(\"Jupyter Notebook\", notificationPayload)\n",
       "                    appendUniqueDiv()\n",
       "                    notification.onclick = function () {\n",
       "                        window.focus();\n",
       "                        this.close();\n",
       "                        };\n",
       "                    } \n",
       "                }     \n",
       "            }\n",
       "        }\n",
       "    }\n",
       ")\n"
      ],
      "text/plain": [
       "<IPython.core.display.Javascript object>"
      ]
     },
     "metadata": {},
     "output_type": "display_data"
    }
   ],
   "source": [
    "%%notify\n",
    "# Scaling X\n",
    "sc = StandardScaler()\n",
    "X_train_sc = sc.fit_transform(X_train)\n",
    "X_test_sc = sc.transform(X_test)"
   ]
  },
  {
   "cell_type": "code",
   "execution_count": 23,
   "id": "b8ae210a-41df-437c-b957-98dd50ebf7c8",
   "metadata": {},
   "outputs": [
    {
     "data": {
      "application/javascript": [
       "$(document).ready(\n",
       "    function() {\n",
       "        function appendUniqueDiv(){\n",
       "            // append a div with our uuid so we can check that it's already\n",
       "            // been sent and avoid duplicates on page reload\n",
       "            var notifiedDiv = document.createElement(\"div\")\n",
       "            notifiedDiv.id = \"f7036da3-1c5e-418f-bf30-baf0020f098f\"\n",
       "            element.append(notifiedDiv)\n",
       "        }\n",
       "\n",
       "        // only send notifications if the pageload is complete; this will\n",
       "        // help stop extra notifications when a saved notebook is loaded,\n",
       "        // which during testing gives us state \"interactive\", not \"complete\"\n",
       "        if (document.readyState === 'complete') {\n",
       "            // check for the div that signifies that the notification\n",
       "            // was already sent\n",
       "            if (document.getElementById(\"f7036da3-1c5e-418f-bf30-baf0020f098f\") === null) {\n",
       "                var notificationPayload = {\"requireInteraction\": false, \"icon\": \"/static/base/images/favicon.ico\", \"body\": \"Cell execution has finished!\", \"only_in_background\": false};\n",
       "\n",
       "                // We have a notification but the window is active\n",
       "                if (notificationPayload.only_in_background && !window.jupyterNotifyIsInBackground) {\n",
       "                    appendUniqueDiv();\n",
       "                    return;\n",
       "                }\n",
       "                if (Notification.permission !== 'denied') {\n",
       "                    if (Notification.permission !== 'granted') { \n",
       "                        Notification.requestPermission(function (permission) {\n",
       "                            if(!('permission' in Notification)) {\n",
       "                                Notification.permission = permission\n",
       "                            }\n",
       "                        })\n",
       "                    }\n",
       "                    if (Notification.permission === 'granted') {\n",
       "                    var notification = new Notification(\"Jupyter Notebook\", notificationPayload)\n",
       "                    appendUniqueDiv()\n",
       "                    notification.onclick = function () {\n",
       "                        window.focus();\n",
       "                        this.close();\n",
       "                        };\n",
       "                    } \n",
       "                }     \n",
       "            }\n",
       "        }\n",
       "    }\n",
       ")\n"
      ],
      "text/plain": [
       "<IPython.core.display.Javascript object>"
      ]
     },
     "metadata": {},
     "output_type": "display_data"
    }
   ],
   "source": [
    "%%notify\n",
    "# PCA to filter most important features\n",
    "pca = PCA(n_components=6000)\n",
    "X_train_p = pca.fit_transform(X_train_sc)\n",
    "X_test_p = pca.transform(X_test_sc)"
   ]
  },
  {
   "cell_type": "markdown",
   "id": "4a517dda-824b-40af-aae0-fa06aa6c9923",
   "metadata": {},
   "source": [
    "## Gradient Boosted Tree Classifier"
   ]
  },
  {
   "cell_type": "code",
   "execution_count": null,
   "id": "aacc2789-6982-4de7-9a43-58a82b7013df",
   "metadata": {},
   "outputs": [],
   "source": [
    "%%notify\n",
    "g_cores = cores-14\n",
    "learning_rates = [0.05, 0.1, 0.25, 0.5, 0.75, 1] \n",
    "for learning_rate in learning_rates: \n",
    "    GBmodel = GradientBoostingClassifier(n_estimators=100,\n",
    "                                         learning_rate=learning_rate,\n",
    "                                         max_depth=3,\n",
    "                                         random_state=69)\n",
    "    GBmodel.fit(X_train_p, y_train.ravel())\n",
    "    print(\"Learning rate: \", learning_rate)\n",
    "    # Score the model\n",
    "    print(\"Accuracy score (training): {0:.3f}\".format(\n",
    "        GBmodel.score(\n",
    "            X_train_p,\n",
    "            y_train.ravel())))\n",
    "    print(\"Accuracy score (validation): {0:.3f}\".format(\n",
    "        GBmodel.score(\n",
    "            X_test_p,\n",
    "            y_test.ravel())))\n",
    "    print()"
   ]
  },
  {
   "cell_type": "code",
   "execution_count": null,
   "id": "25482b51-3441-4d1d-9a05-9be6f704bd12",
   "metadata": {},
   "outputs": [],
   "source": []
  }
 ],
 "metadata": {
  "kernelspec": {
   "display_name": "Python 3 (ipykernel)",
   "language": "python",
   "name": "python3"
  },
  "language_info": {
   "codemirror_mode": {
    "name": "ipython",
    "version": 3
   },
   "file_extension": ".py",
   "mimetype": "text/x-python",
   "name": "python",
   "nbconvert_exporter": "python",
   "pygments_lexer": "ipython3",
   "version": "3.7.13"
  }
 },
 "nbformat": 4,
 "nbformat_minor": 5
}
