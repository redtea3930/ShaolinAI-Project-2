{
 "cells": [
  {
   "cell_type": "code",
   "execution_count": 1,
   "id": "b80b3cc5-603d-4724-9179-b1f762a2e8c0",
   "metadata": {
    "tags": []
   },
   "outputs": [],
   "source": [
    "#import libraries\n",
    "import pandas as pd\n",
    "import numpy as np\n",
    "import matplotlib.pyplot as plt\n",
    "import seaborn as sns\n",
    "from sklearn.model_selection import train_test_split\n",
    "from sklearn.feature_extraction.text import TfidfVectorizer\n",
    "from sklearn.metrics import accuracy_score, classification_report, confusion_matrix\n",
    "from sklearn.model_selection import GridSearchCV\n",
    "from pathlib import Path\n",
    "from nltk.corpus import stopwords\n",
    "from nltk.tokenize import word_tokenize\n",
    "from nltk.stem import WordNetLemmatizer \n",
    "from sklearn.linear_model import LogisticRegression"
   ]
  },
  {
   "cell_type": "code",
   "execution_count": 2,
   "id": "606c2cda-48a1-4431-be34-c839cf1cd02d",
   "metadata": {
    "tags": []
   },
   "outputs": [],
   "source": [
    "# read in cleaned CSV\n",
    "filepath = Path('massive.csv')\n",
    "massive = pd.read_csv(filepath)\n",
    "massive = massive.sample(n=15000)"
   ]
  },
  {
   "cell_type": "code",
   "execution_count": 3,
   "id": "dacfd229-e592-4890-8f1b-973eac81fff8",
   "metadata": {
    "tags": []
   },
   "outputs": [
    {
     "data": {
      "text/html": [
       "<div>\n",
       "<style scoped>\n",
       "    .dataframe tbody tr th:only-of-type {\n",
       "        vertical-align: middle;\n",
       "    }\n",
       "\n",
       "    .dataframe tbody tr th {\n",
       "        vertical-align: top;\n",
       "    }\n",
       "\n",
       "    .dataframe thead th {\n",
       "        text-align: right;\n",
       "    }\n",
       "</style>\n",
       "<table border=\"1\" class=\"dataframe\">\n",
       "  <thead>\n",
       "    <tr style=\"text-align: right;\">\n",
       "      <th></th>\n",
       "      <th>title</th>\n",
       "      <th>criticName</th>\n",
       "      <th>publicatioName</th>\n",
       "      <th>reviewText</th>\n",
       "      <th>scoreSentiment</th>\n",
       "      <th>delta</th>\n",
       "    </tr>\n",
       "  </thead>\n",
       "  <tbody>\n",
       "    <tr>\n",
       "      <th>408720</th>\n",
       "      <td>10 Things I Hate About You</td>\n",
       "      <td>Doris Toumarkine</td>\n",
       "      <td>Film Journal International</td>\n",
       "      <td>A routine exercise in teen-targeted silliness.</td>\n",
       "      <td>NEGATIVE</td>\n",
       "      <td>2.0</td>\n",
       "    </tr>\n",
       "  </tbody>\n",
       "</table>\n",
       "</div>"
      ],
      "text/plain": [
       "                             title        criticName  \\\n",
       "408720  10 Things I Hate About You  Doris Toumarkine   \n",
       "\n",
       "                    publicatioName  \\\n",
       "408720  Film Journal International   \n",
       "\n",
       "                                            reviewText scoreSentiment  delta  \n",
       "408720  A routine exercise in teen-targeted silliness.       NEGATIVE    2.0  "
      ]
     },
     "execution_count": 3,
     "metadata": {},
     "output_type": "execute_result"
    }
   ],
   "source": [
    "massive.head(1)"
   ]
  },
  {
   "cell_type": "code",
   "execution_count": 5,
   "id": "c8ef3920-1a56-4063-8460-b6be9b18ba60",
   "metadata": {
    "tags": []
   },
   "outputs": [],
   "source": [
    "# Lemmatization of reviews\n",
    "# define a function to process text\n",
    "lemmatizer = WordNetLemmatizer()\n",
    "import re\n",
    "def process_text(text): \n",
    "    sw = set(stopwords.words('english')) \n",
    "    regex = re.compile(\"[^a-zA-Z ]\") \n",
    "    re_clean = regex.sub('', text) \n",
    "    words = word_tokenize(re_clean) \n",
    "    lem = [lemmatizer.lemmatize(word) for word in words] \n",
    "    output = ' '.join([word.lower() for word in lem if word.lower() not in sw]) \n",
    "    return output"
   ]
  },
  {
   "cell_type": "code",
   "execution_count": 6,
   "id": "dde6990b-5398-4f51-b517-502d386a59f2",
   "metadata": {
    "tags": []
   },
   "outputs": [],
   "source": [
    "# use a lambda x function to apply process on the whole 'reviewText' column.\n",
    "massive['reviewText'] = massive['reviewText'].apply(lambda x: process_text(x))"
   ]
  },
  {
   "cell_type": "code",
   "execution_count": 7,
   "id": "8c499634-2bfb-41f7-966a-a8877201f39f",
   "metadata": {
    "tags": []
   },
   "outputs": [],
   "source": [
    "# TF-IDF sentiment model\n",
    "# fit vectorizer on reviews with critic sentiment as target\n",
    "tfidf_vectorizer = TfidfVectorizer(max_features=5000)\n",
    "X = tfidf_vectorizer.fit_transform(massive['reviewText'])\n",
    "y = massive['scoreSentiment']"
   ]
  },
  {
   "cell_type": "code",
   "execution_count": 8,
   "id": "698b1ab1-8b50-4058-a10e-bc4988f21785",
   "metadata": {
    "tags": []
   },
   "outputs": [
    {
     "data": {
      "text/plain": [
       "LogisticRegression(max_iter=5000)"
      ]
     },
     "execution_count": 8,
     "metadata": {},
     "output_type": "execute_result"
    }
   ],
   "source": [
    "# Split the data into training and testing sets for sentiment model\n",
    "X_train, X_test, y_train, y_test = train_test_split(X, y, test_size=0.25, random_state=42)\n",
    "\n",
    "# Choose a machine learning model (e.g., Logistic Regression) and train it\n",
    "model = LogisticRegression(max_iter=5000)\n",
    "model.fit(X_train, y_train)"
   ]
  },
  {
   "cell_type": "code",
   "execution_count": 9,
   "id": "253355ed-d047-4679-8c24-99252f8f734a",
   "metadata": {
    "tags": []
   },
   "outputs": [
    {
     "data": {
      "text/plain": [
       "0.8237333333333333"
      ]
     },
     "execution_count": 9,
     "metadata": {},
     "output_type": "execute_result"
    }
   ],
   "source": [
    "model.score(X_train, y_train)"
   ]
  },
  {
   "cell_type": "code",
   "execution_count": 10,
   "id": "93b1bd7a-d373-4ddb-977b-3fcb97f7f85b",
   "metadata": {
    "tags": []
   },
   "outputs": [
    {
     "data": {
      "text/plain": [
       "0.76"
      ]
     },
     "execution_count": 10,
     "metadata": {},
     "output_type": "execute_result"
    }
   ],
   "source": [
    "model.score(X_test, y_test)"
   ]
  },
  {
   "cell_type": "code",
   "execution_count": null,
   "id": "a64ff269-2169-477a-97a3-e7c5eb60abeb",
   "metadata": {},
   "outputs": [],
   "source": []
  },
  {
   "cell_type": "code",
   "execution_count": 14,
   "id": "257b52dc-37a5-4e2a-a043-dce490c45deb",
   "metadata": {
    "tags": []
   },
   "outputs": [],
   "source": [
    "# Rename 'title' to prevent problems with vector or dummy columns\n",
    "massive = massive.rename(columns={'title': 'title_'})"
   ]
  },
  {
   "cell_type": "code",
   "execution_count": 15,
   "id": "5cd0c733-fc83-45d8-8e70-da96ec5473de",
   "metadata": {
    "tags": []
   },
   "outputs": [
    {
     "name": "stderr",
     "output_type": "stream",
     "text": [
      "/Users/jim/anaconda3/envs/mlenv/lib/python3.7/site-packages/sklearn/utils/deprecation.py:87: FutureWarning: Function get_feature_names is deprecated; get_feature_names is deprecated in 1.0 and will be removed in 1.2. Please use get_feature_names_out instead.\n",
      "  warnings.warn(msg, category=FutureWarning)\n"
     ]
    }
   ],
   "source": [
    "# Vectorizing original review text to dense array for linear model\n",
    "tfidf_dense = tfidf_vectorizer.fit_transform(massive['reviewText']).todense()\n",
    "\n",
    "# Naming columns for each vectorized word and combining with original dataframe\n",
    "new_cols = tfidf_vectorizer.get_feature_names()\n",
    "combined = massive.join(pd.DataFrame(tfidf_dense, columns=new_cols))"
   ]
  },
  {
   "cell_type": "code",
   "execution_count": 16,
   "id": "6b275390-dbb5-49ff-ae00-84611c1ac454",
   "metadata": {
    "tags": []
   },
   "outputs": [
    {
     "data": {
      "image/png": "[encoded data removed]",
      "text/plain": [
       "<Figure size 600x300 with 1 Axes>"
      ]
     },
     "metadata": {},
     "output_type": "display_data"
    }
   ],
   "source": [
    "#Limiting populations of critics and publications\n",
    "# Histogram of reviews per publication\n",
    "# Sort the 'publicatioName' column\n",
    "publication_sorted = massive['publicatioName'].value_counts().reset_index().rename(\n",
    "    columns={'index': 'publicatioName', 'publicatioName': 'count'})\n",
    "publication_sorted = publication_sorted.sort_values(by='count', ascending=False)\n",
    "\n",
    "# Set the figure size\n",
    "plt.figure(figsize=(6, 3))\n",
    "\n",
    "# Create a bar plot using Matplotlib\n",
    "plt.bar(publication_sorted['publicatioName'], publication_sorted['count'], color='blue')\n",
    "\n",
    "# Set the title\n",
    "plt.title('Count of reviews by publication, Sorted')\n",
    "\n",
    "# Remove x-axis labels\n",
    "plt.xticks([])\n",
    "\n",
    "# Set the x and y-axis labels\n",
    "plt.xlabel('Publications')\n",
    "plt.ylabel('')\n",
    "\n",
    "# Save the plot as an image\n",
    "plt.savefig(\"output_plots/histo_publicatioName.png\")\n",
    "\n",
    "# Show the plot\n",
    "plt.show()\n"
   ]
  },
  {
   "cell_type": "code",
   "execution_count": 17,
   "id": "65ce7f90-7882-4523-a1fe-19d4ef546562",
   "metadata": {
    "tags": []
   },
   "outputs": [
    {
     "data": {
      "image/png": "[encoded data removed]",
      "text/plain": [
       "<Figure size 600x300 with 1 Axes>"
      ]
     },
     "metadata": {},
     "output_type": "display_data"
    }
   ],
   "source": [
    "# Histogram of reviews per critic\n",
    "# Sort the 'criticName' column\n",
    "critic_sorted = massive['criticName'].value_counts().reset_index().rename(\n",
    "    columns={'index': 'criticName', 'criticName': 'count'})\n",
    "critic_sorted = critic_sorted.sort_values(by='count', ascending=False)\n",
    "\n",
    "# Set the figure size\n",
    "plt.figure(figsize=(6, 3))\n",
    "\n",
    "# Create a bar plot using Matplotlib\n",
    "plt.bar(critic_sorted['criticName'], critic_sorted['count'], color='blue')\n",
    "\n",
    "# Set the title\n",
    "plt.title('Count of reviews by critic, Sorted')\n",
    "\n",
    "# Remove x-axis labels\n",
    "plt.xticks([])\n",
    "\n",
    "# Set the x and y-axis labels\n",
    "plt.xlabel('Critics')\n",
    "plt.ylabel('')\n",
    "\n",
    "# Save the plot as an image\n",
    "plt.savefig(\"output_plots/histo_criticName.png\")\n",
    "\n",
    "# Show the plot\n",
    "plt.show()\n"
   ]
  },
  {
   "cell_type": "code",
   "execution_count": 18,
   "id": "0a6b0a96-a932-4eaf-a06b-4ab22e1ea42a",
   "metadata": {
    "tags": []
   },
   "outputs": [
    {
     "data": {
      "text/plain": [
       "Other                 4300\n",
       "New York Times         198\n",
       "Variety                164\n",
       "Los Angeles Times      144\n",
       "Hollywood Reporter     128\n",
       "                      ... \n",
       "Daily Film Fix          12\n",
       "Sin Magazine            12\n",
       "Schmoes Know            12\n",
       "sbs.com.au              12\n",
       "Patrick Nabarro         12\n",
       "Name: publicatioName, Length: 325, dtype: int64"
      ]
     },
     "execution_count": 18,
     "metadata": {},
     "output_type": "execute_result"
    }
   ],
   "source": [
    "# Grouping bottom publications as Other to be encoded into one\n",
    "counts = combined.publicatioName.value_counts()\n",
    "threshold = combined.publicatioName.isin(counts.index[counts<12])\n",
    "combined.loc[threshold, 'publicatioName'] = 'Other'\n",
    "combined['publicatioName'].value_counts()"
   ]
  },
  {
   "cell_type": "code",
   "execution_count": 19,
   "id": "e47536d5-cf1f-4d7d-9527-be6a4586379d",
   "metadata": {
    "tags": []
   },
   "outputs": [
    {
     "data": {
      "text/plain": [
       "Other              8929\n",
       "David Nusair         97\n",
       "Dennis Schwartz      96\n",
       "Roger Ebert          88\n",
       "Frank Swietek        78\n",
       "                   ... \n",
       "Geoffrey Macnab      16\n",
       "Jennie Kermode       16\n",
       "Chris Bumbray        16\n",
       "Brian Webster        16\n",
       "Mike Clark           16\n",
       "Name: criticName, Length: 221, dtype: int64"
      ]
     },
     "execution_count": 19,
     "metadata": {},
     "output_type": "execute_result"
    }
   ],
   "source": [
    "# Grouping bottom critics as Other to be encoded into one\n",
    "counts = combined.criticName.value_counts()\n",
    "threshold = combined.criticName.isin(counts.index[counts<16])\n",
    "combined.loc[threshold, 'criticName'] = 'Other'\n",
    "combined['criticName'].value_counts()"
   ]
  },
  {
   "cell_type": "code",
   "execution_count": 20,
   "id": "688d5fd1-c80d-47f4-8c52-4bc91ec9cdd4",
   "metadata": {
    "tags": []
   },
   "outputs": [
    {
     "data": {
      "text/html": [
       "<div>\n",
       "<style scoped>\n",
       "    .dataframe tbody tr th:only-of-type {\n",
       "        vertical-align: middle;\n",
       "    }\n",
       "\n",
       "    .dataframe tbody tr th {\n",
       "        vertical-align: top;\n",
       "    }\n",
       "\n",
       "    .dataframe thead th {\n",
       "        text-align: right;\n",
       "    }\n",
       "</style>\n",
       "<table border=\"1\" class=\"dataframe\">\n",
       "  <thead>\n",
       "    <tr style=\"text-align: right;\">\n",
       "      <th></th>\n",
       "      <th>title_</th>\n",
       "      <th>criticName</th>\n",
       "      <th>publicatioName</th>\n",
       "      <th>scoreSentiment</th>\n",
       "      <th>delta</th>\n",
       "      <th>aaron</th>\n",
       "      <th>ability</th>\n",
       "      <th>able</th>\n",
       "      <th>absolute</th>\n",
       "      <th>absolutely</th>\n",
       "      <th>...</th>\n",
       "      <th>young</th>\n",
       "      <th>younger</th>\n",
       "      <th>youngster</th>\n",
       "      <th>youre</th>\n",
       "      <th>youth</th>\n",
       "      <th>youve</th>\n",
       "      <th>zero</th>\n",
       "      <th>zhang</th>\n",
       "      <th>zombie</th>\n",
       "      <th>zone</th>\n",
       "    </tr>\n",
       "  </thead>\n",
       "  <tbody>\n",
       "    <tr>\n",
       "      <th>408720</th>\n",
       "      <td>10 Things I Hate About You</td>\n",
       "      <td>Other</td>\n",
       "      <td>Film Journal International</td>\n",
       "      <td>NEGATIVE</td>\n",
       "      <td>2.0</td>\n",
       "      <td>NaN</td>\n",
       "      <td>NaN</td>\n",
       "      <td>NaN</td>\n",
       "      <td>NaN</td>\n",
       "      <td>NaN</td>\n",
       "      <td>...</td>\n",
       "      <td>NaN</td>\n",
       "      <td>NaN</td>\n",
       "      <td>NaN</td>\n",
       "      <td>NaN</td>\n",
       "      <td>NaN</td>\n",
       "      <td>NaN</td>\n",
       "      <td>NaN</td>\n",
       "      <td>NaN</td>\n",
       "      <td>NaN</td>\n",
       "      <td>NaN</td>\n",
       "    </tr>\n",
       "  </tbody>\n",
       "</table>\n",
       "<p>1 rows × 5005 columns</p>\n",
       "</div>"
      ],
      "text/plain": [
       "                            title_ criticName              publicatioName  \\\n",
       "408720  10 Things I Hate About You      Other  Film Journal International   \n",
       "\n",
       "       scoreSentiment  delta  aaron  ability  able  absolute  absolutely  ...  \\\n",
       "408720       NEGATIVE    2.0    NaN      NaN   NaN       NaN         NaN  ...   \n",
       "\n",
       "        young  younger  youngster  youre  youth  youve  zero  zhang  zombie  \\\n",
       "408720    NaN      NaN        NaN    NaN    NaN    NaN   NaN    NaN     NaN   \n",
       "\n",
       "        zone  \n",
       "408720   NaN  \n",
       "\n",
       "[1 rows x 5005 columns]"
      ]
     },
     "execution_count": 20,
     "metadata": {},
     "output_type": "execute_result"
    }
   ],
   "source": [
    "# Dropping review text now that vectorized words are all columns\n",
    "combined = combined.drop(columns=['reviewText'])\n",
    "combined.head(1)"
   ]
  },
  {
   "cell_type": "code",
   "execution_count": 21,
   "id": "00ec8b92-efdd-4418-8187-952557b62038",
   "metadata": {
    "tags": []
   },
   "outputs": [],
   "source": [
    "combined = combined.fillna(0)"
   ]
  },
  {
   "cell_type": "code",
   "execution_count": 22,
   "id": "66941dde-e810-4c38-b202-daed024aa859",
   "metadata": {
    "tags": []
   },
   "outputs": [
    {
     "data": {
      "text/plain": [
       "title_            0\n",
       "criticName        0\n",
       "publicatioName    0\n",
       "scoreSentiment    0\n",
       "delta             0\n",
       "aaron             0\n",
       "ability           0\n",
       "able              0\n",
       "absolute          0\n",
       "dtype: int64"
      ]
     },
     "execution_count": 22,
     "metadata": {},
     "output_type": "execute_result"
    }
   ],
   "source": [
    "combined.isnull().sum().head(9)"
   ]
  },
  {
   "cell_type": "code",
   "execution_count": 23,
   "id": "c935d9a7-59a9-4b8c-a9d1-0e79ab7882c7",
   "metadata": {
    "tags": []
   },
   "outputs": [],
   "source": [
    "# columns to dummy\n",
    "categorical_cols = ['title_', 'criticName', 'publicatioName', 'scoreSentiment'] \n",
    "# get dummies\n",
    "combined = pd.get_dummies(combined, columns = categorical_cols)"
   ]
  },
  {
   "cell_type": "code",
   "execution_count": 24,
   "id": "eb89e1f1-0bff-4f86-8651-a43c7a1ef3bc",
   "metadata": {
    "tags": []
   },
   "outputs": [],
   "source": [
    "X = combined.drop(columns=['delta'])\n",
    "y = combined['delta']"
   ]
  },
  {
   "cell_type": "code",
   "execution_count": 25,
   "id": "3ca3d855-6d54-4f08-a154-8263c060c0a5",
   "metadata": {
    "tags": []
   },
   "outputs": [
    {
     "data": {
      "text/plain": [
       "aaron                                     0\n",
       "ability                                   0\n",
       "able                                      0\n",
       "absolute                                  0\n",
       "absolutely                                0\n",
       "                                         ..\n",
       "publicatioName_rec.arts.movies.reviews    0\n",
       "publicatioName_sbs.com.au                 0\n",
       "publicatioName_tonymacklin.net            0\n",
       "scoreSentiment_NEGATIVE                   0\n",
       "scoreSentiment_POSITIVE                   0\n",
       "Length: 13337, dtype: int64"
      ]
     },
     "execution_count": 25,
     "metadata": {},
     "output_type": "execute_result"
    }
   ],
   "source": [
    "X.isnull().sum()"
   ]
  },
  {
   "cell_type": "code",
   "execution_count": 26,
   "id": "9563c69a-5fe8-478e-95ef-96b5baa219e8",
   "metadata": {
    "tags": []
   },
   "outputs": [],
   "source": [
    "from sklearn.linear_model import LinearRegression\n",
    "\n",
    "# Split the data into training and testing sets\n",
    "X_train, X_test, y_train, y_test = train_test_split(X, y, test_size=0.25, random_state=42)"
   ]
  },
  {
   "cell_type": "code",
   "execution_count": 27,
   "id": "5cd7a49c-11fe-44c7-b41f-d6103075df8b",
   "metadata": {
    "tags": []
   },
   "outputs": [
    {
     "data": {
      "text/plain": [
       "aaron                                     0\n",
       "ability                                   0\n",
       "able                                      0\n",
       "absolute                                  0\n",
       "absolutely                                0\n",
       "                                         ..\n",
       "publicatioName_rec.arts.movies.reviews    0\n",
       "publicatioName_sbs.com.au                 0\n",
       "publicatioName_tonymacklin.net            0\n",
       "scoreSentiment_NEGATIVE                   0\n",
       "scoreSentiment_POSITIVE                   0\n",
       "Length: 13337, dtype: int64"
      ]
     },
     "execution_count": 27,
     "metadata": {},
     "output_type": "execute_result"
    }
   ],
   "source": [
    "X_train.isnull().sum()"
   ]
  },
  {
   "cell_type": "code",
   "execution_count": 28,
   "id": "5069e7aa-33cc-46f1-9981-32ab137fbc74",
   "metadata": {
    "tags": []
   },
   "outputs": [
    {
     "data": {
      "text/html": [
       "<div>\n",
       "<style scoped>\n",
       "    .dataframe tbody tr th:only-of-type {\n",
       "        vertical-align: middle;\n",
       "    }\n",
       "\n",
       "    .dataframe tbody tr th {\n",
       "        vertical-align: top;\n",
       "    }\n",
       "\n",
       "    .dataframe thead th {\n",
       "        text-align: right;\n",
       "    }\n",
       "</style>\n",
       "<table border=\"1\" class=\"dataframe\">\n",
       "  <thead>\n",
       "    <tr style=\"text-align: right;\">\n",
       "      <th></th>\n",
       "      <th>aaron</th>\n",
       "      <th>ability</th>\n",
       "      <th>able</th>\n",
       "      <th>absolute</th>\n",
       "      <th>absolutely</th>\n",
       "      <th>absorbing</th>\n",
       "      <th>absurd</th>\n",
       "      <th>absurdity</th>\n",
       "      <th>absurdly</th>\n",
       "      <th>abuse</th>\n",
       "      <th>...</th>\n",
       "      <th>publicatioName_eFilmCritic.com</th>\n",
       "      <th>publicatioName_eye WEEKLY</th>\n",
       "      <th>publicatioName_film-authority.com</th>\n",
       "      <th>publicatioName_indieWire</th>\n",
       "      <th>publicatioName_jackiekcooper.com</th>\n",
       "      <th>publicatioName_rec.arts.movies.reviews</th>\n",
       "      <th>publicatioName_sbs.com.au</th>\n",
       "      <th>publicatioName_tonymacklin.net</th>\n",
       "      <th>scoreSentiment_NEGATIVE</th>\n",
       "      <th>scoreSentiment_POSITIVE</th>\n",
       "    </tr>\n",
       "  </thead>\n",
       "  <tbody>\n",
       "    <tr>\n",
       "      <th>901029</th>\n",
       "      <td>0.0</td>\n",
       "      <td>0.0</td>\n",
       "      <td>0.0</td>\n",
       "      <td>0.0</td>\n",
       "      <td>0.0</td>\n",
       "      <td>0.0</td>\n",
       "      <td>0.0</td>\n",
       "      <td>0.0</td>\n",
       "      <td>0.0</td>\n",
       "      <td>0.0</td>\n",
       "      <td>...</td>\n",
       "      <td>0</td>\n",
       "      <td>0</td>\n",
       "      <td>0</td>\n",
       "      <td>0</td>\n",
       "      <td>0</td>\n",
       "      <td>0</td>\n",
       "      <td>0</td>\n",
       "      <td>0</td>\n",
       "      <td>0</td>\n",
       "      <td>1</td>\n",
       "    </tr>\n",
       "    <tr>\n",
       "      <th>651330</th>\n",
       "      <td>0.0</td>\n",
       "      <td>0.0</td>\n",
       "      <td>0.0</td>\n",
       "      <td>0.0</td>\n",
       "      <td>0.0</td>\n",
       "      <td>0.0</td>\n",
       "      <td>0.0</td>\n",
       "      <td>0.0</td>\n",
       "      <td>0.0</td>\n",
       "      <td>0.0</td>\n",
       "      <td>...</td>\n",
       "      <td>0</td>\n",
       "      <td>0</td>\n",
       "      <td>0</td>\n",
       "      <td>0</td>\n",
       "      <td>0</td>\n",
       "      <td>0</td>\n",
       "      <td>0</td>\n",
       "      <td>0</td>\n",
       "      <td>0</td>\n",
       "      <td>1</td>\n",
       "    </tr>\n",
       "    <tr>\n",
       "      <th>893016</th>\n",
       "      <td>0.0</td>\n",
       "      <td>0.0</td>\n",
       "      <td>0.0</td>\n",
       "      <td>0.0</td>\n",
       "      <td>0.0</td>\n",
       "      <td>0.0</td>\n",
       "      <td>0.0</td>\n",
       "      <td>0.0</td>\n",
       "      <td>0.0</td>\n",
       "      <td>0.0</td>\n",
       "      <td>...</td>\n",
       "      <td>0</td>\n",
       "      <td>0</td>\n",
       "      <td>0</td>\n",
       "      <td>0</td>\n",
       "      <td>0</td>\n",
       "      <td>0</td>\n",
       "      <td>0</td>\n",
       "      <td>0</td>\n",
       "      <td>0</td>\n",
       "      <td>1</td>\n",
       "    </tr>\n",
       "    <tr>\n",
       "      <th>45578</th>\n",
       "      <td>0.0</td>\n",
       "      <td>0.0</td>\n",
       "      <td>0.0</td>\n",
       "      <td>0.0</td>\n",
       "      <td>0.0</td>\n",
       "      <td>0.0</td>\n",
       "      <td>0.0</td>\n",
       "      <td>0.0</td>\n",
       "      <td>0.0</td>\n",
       "      <td>0.0</td>\n",
       "      <td>...</td>\n",
       "      <td>0</td>\n",
       "      <td>0</td>\n",
       "      <td>0</td>\n",
       "      <td>0</td>\n",
       "      <td>0</td>\n",
       "      <td>0</td>\n",
       "      <td>0</td>\n",
       "      <td>0</td>\n",
       "      <td>0</td>\n",
       "      <td>1</td>\n",
       "    </tr>\n",
       "    <tr>\n",
       "      <th>50002</th>\n",
       "      <td>0.0</td>\n",
       "      <td>0.0</td>\n",
       "      <td>0.0</td>\n",
       "      <td>0.0</td>\n",
       "      <td>0.0</td>\n",
       "      <td>0.0</td>\n",
       "      <td>0.0</td>\n",
       "      <td>0.0</td>\n",
       "      <td>0.0</td>\n",
       "      <td>0.0</td>\n",
       "      <td>...</td>\n",
       "      <td>0</td>\n",
       "      <td>0</td>\n",
       "      <td>0</td>\n",
       "      <td>0</td>\n",
       "      <td>0</td>\n",
       "      <td>0</td>\n",
       "      <td>0</td>\n",
       "      <td>0</td>\n",
       "      <td>0</td>\n",
       "      <td>1</td>\n",
       "    </tr>\n",
       "  </tbody>\n",
       "</table>\n",
       "<p>5 rows × 13337 columns</p>\n",
       "</div>"
      ],
      "text/plain": [
       "        aaron  ability  able  absolute  absolutely  absorbing  absurd  \\\n",
       "901029    0.0      0.0   0.0       0.0         0.0        0.0     0.0   \n",
       "651330    0.0      0.0   0.0       0.0         0.0        0.0     0.0   \n",
       "893016    0.0      0.0   0.0       0.0         0.0        0.0     0.0   \n",
       "45578     0.0      0.0   0.0       0.0         0.0        0.0     0.0   \n",
       "50002     0.0      0.0   0.0       0.0         0.0        0.0     0.0   \n",
       "\n",
       "        absurdity  absurdly  abuse  ...  publicatioName_eFilmCritic.com  \\\n",
       "901029        0.0       0.0    0.0  ...                               0   \n",
       "651330        0.0       0.0    0.0  ...                               0   \n",
       "893016        0.0       0.0    0.0  ...                               0   \n",
       "45578         0.0       0.0    0.0  ...                               0   \n",
       "50002         0.0       0.0    0.0  ...                               0   \n",
       "\n",
       "        publicatioName_eye WEEKLY  publicatioName_film-authority.com  \\\n",
       "901029                          0                                  0   \n",
       "651330                          0                                  0   \n",
       "893016                          0                                  0   \n",
       "45578                           0                                  0   \n",
       "50002                           0                                  0   \n",
       "\n",
       "        publicatioName_indieWire  publicatioName_jackiekcooper.com  \\\n",
       "901029                         0                                 0   \n",
       "651330                         0                                 0   \n",
       "893016                         0                                 0   \n",
       "45578                          0                                 0   \n",
       "50002                          0                                 0   \n",
       "\n",
       "        publicatioName_rec.arts.movies.reviews  publicatioName_sbs.com.au  \\\n",
       "901029                                       0                          0   \n",
       "651330                                       0                          0   \n",
       "893016                                       0                          0   \n",
       "45578                                        0                          0   \n",
       "50002                                        0                          0   \n",
       "\n",
       "        publicatioName_tonymacklin.net  scoreSentiment_NEGATIVE  \\\n",
       "901029                               0                        0   \n",
       "651330                               0                        0   \n",
       "893016                               0                        0   \n",
       "45578                                0                        0   \n",
       "50002                                0                        0   \n",
       "\n",
       "        scoreSentiment_POSITIVE  \n",
       "901029                        1  \n",
       "651330                        1  \n",
       "893016                        1  \n",
       "45578                         1  \n",
       "50002                         1  \n",
       "\n",
       "[5 rows x 13337 columns]"
      ]
     },
     "execution_count": 28,
     "metadata": {},
     "output_type": "execute_result"
    }
   ],
   "source": [
    "X_train.head()"
   ]
  },
  {
   "cell_type": "code",
   "execution_count": 29,
   "id": "aaf41b4b-c400-4120-b57c-d6fe190442cc",
   "metadata": {
    "tags": []
   },
   "outputs": [
    {
     "data": {
      "text/html": [
       "<div>\n",
       "<style scoped>\n",
       "    .dataframe tbody tr th:only-of-type {\n",
       "        vertical-align: middle;\n",
       "    }\n",
       "\n",
       "    .dataframe tbody tr th {\n",
       "        vertical-align: top;\n",
       "    }\n",
       "\n",
       "    .dataframe thead th {\n",
       "        text-align: right;\n",
       "    }\n",
       "</style>\n",
       "<table border=\"1\" class=\"dataframe\">\n",
       "  <thead>\n",
       "    <tr style=\"text-align: right;\">\n",
       "      <th></th>\n",
       "      <th>aaron</th>\n",
       "      <th>ability</th>\n",
       "      <th>able</th>\n",
       "      <th>absolute</th>\n",
       "      <th>absolutely</th>\n",
       "      <th>absorbing</th>\n",
       "      <th>absurd</th>\n",
       "      <th>absurdity</th>\n",
       "      <th>absurdly</th>\n",
       "      <th>abuse</th>\n",
       "      <th>...</th>\n",
       "      <th>publicatioName_eFilmCritic.com</th>\n",
       "      <th>publicatioName_eye WEEKLY</th>\n",
       "      <th>publicatioName_film-authority.com</th>\n",
       "      <th>publicatioName_indieWire</th>\n",
       "      <th>publicatioName_jackiekcooper.com</th>\n",
       "      <th>publicatioName_rec.arts.movies.reviews</th>\n",
       "      <th>publicatioName_sbs.com.au</th>\n",
       "      <th>publicatioName_tonymacklin.net</th>\n",
       "      <th>scoreSentiment_NEGATIVE</th>\n",
       "      <th>scoreSentiment_POSITIVE</th>\n",
       "    </tr>\n",
       "  </thead>\n",
       "  <tbody>\n",
       "    <tr>\n",
       "      <th>802002</th>\n",
       "      <td>0.0</td>\n",
       "      <td>0.0</td>\n",
       "      <td>0.0</td>\n",
       "      <td>0.0</td>\n",
       "      <td>0.0</td>\n",
       "      <td>0.0</td>\n",
       "      <td>0.0</td>\n",
       "      <td>0.0</td>\n",
       "      <td>0.0</td>\n",
       "      <td>0.0</td>\n",
       "      <td>...</td>\n",
       "      <td>0</td>\n",
       "      <td>0</td>\n",
       "      <td>0</td>\n",
       "      <td>0</td>\n",
       "      <td>0</td>\n",
       "      <td>0</td>\n",
       "      <td>0</td>\n",
       "      <td>0</td>\n",
       "      <td>1</td>\n",
       "      <td>0</td>\n",
       "    </tr>\n",
       "    <tr>\n",
       "      <th>47925</th>\n",
       "      <td>0.0</td>\n",
       "      <td>0.0</td>\n",
       "      <td>0.0</td>\n",
       "      <td>0.0</td>\n",
       "      <td>0.0</td>\n",
       "      <td>0.0</td>\n",
       "      <td>0.0</td>\n",
       "      <td>0.0</td>\n",
       "      <td>0.0</td>\n",
       "      <td>0.0</td>\n",
       "      <td>...</td>\n",
       "      <td>0</td>\n",
       "      <td>0</td>\n",
       "      <td>0</td>\n",
       "      <td>0</td>\n",
       "      <td>0</td>\n",
       "      <td>0</td>\n",
       "      <td>0</td>\n",
       "      <td>0</td>\n",
       "      <td>0</td>\n",
       "      <td>1</td>\n",
       "    </tr>\n",
       "    <tr>\n",
       "      <th>45622</th>\n",
       "      <td>0.0</td>\n",
       "      <td>0.0</td>\n",
       "      <td>0.0</td>\n",
       "      <td>0.0</td>\n",
       "      <td>0.0</td>\n",
       "      <td>0.0</td>\n",
       "      <td>0.0</td>\n",
       "      <td>0.0</td>\n",
       "      <td>0.0</td>\n",
       "      <td>0.0</td>\n",
       "      <td>...</td>\n",
       "      <td>0</td>\n",
       "      <td>0</td>\n",
       "      <td>0</td>\n",
       "      <td>0</td>\n",
       "      <td>0</td>\n",
       "      <td>0</td>\n",
       "      <td>0</td>\n",
       "      <td>0</td>\n",
       "      <td>0</td>\n",
       "      <td>1</td>\n",
       "    </tr>\n",
       "    <tr>\n",
       "      <th>470338</th>\n",
       "      <td>0.0</td>\n",
       "      <td>0.0</td>\n",
       "      <td>0.0</td>\n",
       "      <td>0.0</td>\n",
       "      <td>0.0</td>\n",
       "      <td>0.0</td>\n",
       "      <td>0.0</td>\n",
       "      <td>0.0</td>\n",
       "      <td>0.0</td>\n",
       "      <td>0.0</td>\n",
       "      <td>...</td>\n",
       "      <td>0</td>\n",
       "      <td>0</td>\n",
       "      <td>0</td>\n",
       "      <td>0</td>\n",
       "      <td>0</td>\n",
       "      <td>0</td>\n",
       "      <td>0</td>\n",
       "      <td>0</td>\n",
       "      <td>0</td>\n",
       "      <td>1</td>\n",
       "    </tr>\n",
       "    <tr>\n",
       "      <th>660607</th>\n",
       "      <td>0.0</td>\n",
       "      <td>0.0</td>\n",
       "      <td>0.0</td>\n",
       "      <td>0.0</td>\n",
       "      <td>0.0</td>\n",
       "      <td>0.0</td>\n",
       "      <td>0.0</td>\n",
       "      <td>0.0</td>\n",
       "      <td>0.0</td>\n",
       "      <td>0.0</td>\n",
       "      <td>...</td>\n",
       "      <td>0</td>\n",
       "      <td>0</td>\n",
       "      <td>0</td>\n",
       "      <td>0</td>\n",
       "      <td>0</td>\n",
       "      <td>0</td>\n",
       "      <td>0</td>\n",
       "      <td>0</td>\n",
       "      <td>0</td>\n",
       "      <td>1</td>\n",
       "    </tr>\n",
       "  </tbody>\n",
       "</table>\n",
       "<p>5 rows × 13337 columns</p>\n",
       "</div>"
      ],
      "text/plain": [
       "        aaron  ability  able  absolute  absolutely  absorbing  absurd  \\\n",
       "802002    0.0      0.0   0.0       0.0         0.0        0.0     0.0   \n",
       "47925     0.0      0.0   0.0       0.0         0.0        0.0     0.0   \n",
       "45622     0.0      0.0   0.0       0.0         0.0        0.0     0.0   \n",
       "470338    0.0      0.0   0.0       0.0         0.0        0.0     0.0   \n",
       "660607    0.0      0.0   0.0       0.0         0.0        0.0     0.0   \n",
       "\n",
       "        absurdity  absurdly  abuse  ...  publicatioName_eFilmCritic.com  \\\n",
       "802002        0.0       0.0    0.0  ...                               0   \n",
       "47925         0.0       0.0    0.0  ...                               0   \n",
       "45622         0.0       0.0    0.0  ...                               0   \n",
       "470338        0.0       0.0    0.0  ...                               0   \n",
       "660607        0.0       0.0    0.0  ...                               0   \n",
       "\n",
       "        publicatioName_eye WEEKLY  publicatioName_film-authority.com  \\\n",
       "802002                          0                                  0   \n",
       "47925                           0                                  0   \n",
       "45622                           0                                  0   \n",
       "470338                          0                                  0   \n",
       "660607                          0                                  0   \n",
       "\n",
       "        publicatioName_indieWire  publicatioName_jackiekcooper.com  \\\n",
       "802002                         0                                 0   \n",
       "47925                          0                                 0   \n",
       "45622                          0                                 0   \n",
       "470338                         0                                 0   \n",
       "660607                         0                                 0   \n",
       "\n",
       "        publicatioName_rec.arts.movies.reviews  publicatioName_sbs.com.au  \\\n",
       "802002                                       0                          0   \n",
       "47925                                        0                          0   \n",
       "45622                                        0                          0   \n",
       "470338                                       0                          0   \n",
       "660607                                       0                          0   \n",
       "\n",
       "        publicatioName_tonymacklin.net  scoreSentiment_NEGATIVE  \\\n",
       "802002                               0                        1   \n",
       "47925                                0                        0   \n",
       "45622                                0                        0   \n",
       "470338                               0                        0   \n",
       "660607                               0                        0   \n",
       "\n",
       "        scoreSentiment_POSITIVE  \n",
       "802002                        0  \n",
       "47925                         1  \n",
       "45622                         1  \n",
       "470338                        1  \n",
       "660607                        1  \n",
       "\n",
       "[5 rows x 13337 columns]"
      ]
     },
     "execution_count": 29,
     "metadata": {},
     "output_type": "execute_result"
    }
   ],
   "source": [
    "X_train.tail()"
   ]
  },
  {
   "cell_type": "code",
   "execution_count": 31,
   "id": "23f77fd3-0e56-4485-8a77-da3f463c976f",
   "metadata": {
    "tags": []
   },
   "outputs": [
    {
     "data": {
      "text/plain": [
       "LinearRegression()"
      ]
     },
     "execution_count": 31,
     "metadata": {},
     "output_type": "execute_result"
    }
   ],
   "source": [
    "# Choose a machine learning model (e.g., Logistic Regression) and train it\n",
    "model = LinearRegression()\n",
    "model.fit(X_train, y_train)"
   ]
  },
  {
   "cell_type": "code",
   "execution_count": 33,
   "id": "f456ec82-348d-434d-8f2a-23ef3bd0eecb",
   "metadata": {
    "tags": []
   },
   "outputs": [
    {
     "data": {
      "text/plain": [
       "-6.395684360199288e+21"
      ]
     },
     "execution_count": 33,
     "metadata": {},
     "output_type": "execute_result"
    }
   ],
   "source": [
    "model.score(X_test, y_test)"
   ]
  },
  {
   "cell_type": "code",
   "execution_count": null,
   "id": "c5bd09e9-ba86-4d6c-b7bc-7182e841fc89",
   "metadata": {},
   "outputs": [],
   "source": []
  }
 ],
 "metadata": {
  "kernelspec": {
   "display_name": "Python 3 (ipykernel)",
   "language": "python",
   "name": "python3"
  },
  "language_info": {
   "codemirror_mode": {
    "name": "ipython",
    "version": 3
   },
   "file_extension": ".py",
   "mimetype": "text/x-python",
   "name": "python",
   "nbconvert_exporter": "python",
   "pygments_lexer": "ipython3",
   "version": "3.7.13"
  }
 },
 "nbformat": 4,
 "nbformat_minor": 5
}
