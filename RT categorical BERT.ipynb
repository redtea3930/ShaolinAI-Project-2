{
 "cells": [
  {
   "cell_type": "code",
   "execution_count": 72,
   "id": "b80b3cc5-603d-4724-9179-b1f762a2e8c0",
   "metadata": {},
   "outputs": [],
   "source": [
    "#import libraries\n",
    "import pandas as pd\n",
    "import numpy as np\n",
    "from pathlib import Path\n",
    "import matplotlib.pyplot as plt\n",
    "import seaborn as sns\n",
    "from sklearn.model_selection import train_test_split\n",
    "from sklearn.metrics import accuracy_score, classification_report, confusion_matrix\n",
    "from sklearn.preprocessing import StandardScaler\n",
    "from sklearn.decomposition import PCA\n",
    "from sklearn.linear_model import LogisticRegression\n",
    "from sklearn.ensemble import RandomForestClassifier\n",
    "from sklearn.svm import SVC\n",
    "from sklearn.model_selection import GridSearchCV\n",
    "#from gensim.models import Word2Vec\n",
    "#from gensim.test.utils import datapath\n",
    "#from gensim import utils\n",
    "#import gensim\n",
    "import multiprocessing\n",
    "cores = multiprocessing.cpu_count()\n",
    "import os\n",
    "from time import time\n",
    "import torch\n",
    "from transformers import AutoModel, AutoTokenizer, AutoConfig\n",
    "from transformers import AutoModelForSequenceClassification\n",
    "from torch.utils.data import DataLoader"
   ]
  },
  {
   "cell_type": "code",
   "execution_count": null,
   "id": "b8e08946-4fd4-422f-8669-519037b0459f",
   "metadata": {},
   "outputs": [],
   "source": [
    "# To notify when cell is complete (comment out first line). Add %%notify to the first line of a cell to get notified\n",
    "# !pip uninstall jupyternotify -y\n",
    "!pip install git+https://github.com/cphyc/jupyter-notify.git\n",
    "%reload_ext jupyternotify"
   ]
  },
  {
   "cell_type": "code",
   "execution_count": 3,
   "id": "606c2cda-48a1-4431-be34-c839cf1cd02d",
   "metadata": {},
   "outputs": [],
   "source": [
    "# read in cleaned CSV\n",
    "filepath = Path('../massive.csv')\n",
    "massive = pd.read_csv(filepath)\n",
    "massive = massive.sample(n=15000)\n",
    "massive.reset_index(drop=True, inplace=True)"
   ]
  },
  {
   "cell_type": "markdown",
   "id": "aa421c2a-f53f-4ace-8c04-4bc8189c7da6",
   "metadata": {},
   "source": [
    "### Pre-processing"
   ]
  },
  {
   "cell_type": "code",
   "execution_count": 4,
   "id": "7043144f-4577-4804-a286-d00e82aeff78",
   "metadata": {},
   "outputs": [
    {
     "data": {
      "text/html": [
       "<div>\n",
       "<style scoped>\n",
       "    .dataframe tbody tr th:only-of-type {\n",
       "        vertical-align: middle;\n",
       "    }\n",
       "\n",
       "    .dataframe tbody tr th {\n",
       "        vertical-align: top;\n",
       "    }\n",
       "\n",
       "    .dataframe thead th {\n",
       "        text-align: right;\n",
       "    }\n",
       "</style>\n",
       "<table border=\"1\" class=\"dataframe\">\n",
       "  <thead>\n",
       "    <tr style=\"text-align: right;\">\n",
       "      <th></th>\n",
       "      <th>title</th>\n",
       "      <th>tomatoMeter</th>\n",
       "      <th>criticName</th>\n",
       "      <th>publicatioName</th>\n",
       "      <th>reviewText</th>\n",
       "      <th>scoreSentiment</th>\n",
       "      <th>delta</th>\n",
       "    </tr>\n",
       "  </thead>\n",
       "  <tbody>\n",
       "    <tr>\n",
       "      <th>0</th>\n",
       "      <td>Robin Hood</td>\n",
       "      <td>43.0</td>\n",
       "      <td>Dawn Taylor</td>\n",
       "      <td>Cinematical</td>\n",
       "      <td>It's a little like making a Johnny Appleseed m...</td>\n",
       "      <td>NEGATIVE</td>\n",
       "      <td>-15.0</td>\n",
       "    </tr>\n",
       "  </tbody>\n",
       "</table>\n",
       "</div>"
      ],
      "text/plain": [
       "        title  tomatoMeter   criticName publicatioName  \\\n",
       "0  Robin Hood         43.0  Dawn Taylor    Cinematical   \n",
       "\n",
       "                                          reviewText scoreSentiment  delta  \n",
       "0  It's a little like making a Johnny Appleseed m...       NEGATIVE  -15.0  "
      ]
     },
     "execution_count": 4,
     "metadata": {},
     "output_type": "execute_result"
    }
   ],
   "source": [
    "# Dropping columns including audienceScore because it could unfairly help the model predict the delta. Leaving tomatoMeter to give the model a base of where the delta could be.\n",
    "massive = massive.drop(columns=['id', 'reviewId', 'creationDate', 'isTopCritic', 'reviewState', 'audienceScore'])\n",
    "massive.head(1)"
   ]
  },
  {
   "cell_type": "code",
   "execution_count": 21,
   "id": "f1c54342-2a2d-40dd-9e09-3ada32d0de68",
   "metadata": {},
   "outputs": [],
   "source": [
    "# Binning delta column into 5 categories for Logistic regression\n",
    "bins = [-99, -26, -11, 10, 25, 99]\n",
    "labels = [0, 1, 2, 3, 4]\n",
    "massive['delta_category'] = pd.cut(massive['delta'], bins=bins, labels=labels)"
   ]
  },
  {
   "cell_type": "code",
   "execution_count": 25,
   "id": "b8673ded-49df-43d3-bf79-634ac7000096",
   "metadata": {},
   "outputs": [
    {
     "data": {
      "text/plain": [
       "title             0\n",
       "tomatoMeter       0\n",
       "criticName        0\n",
       "publicatioName    0\n",
       "reviewText        0\n",
       "scoreSentiment    0\n",
       "delta             0\n",
       "delta_category    0\n",
       "dtype: int64"
      ]
     },
     "execution_count": 25,
     "metadata": {},
     "output_type": "execute_result"
    }
   ],
   "source": [
    "massive.isnull().sum()"
   ]
  },
  {
   "cell_type": "code",
   "execution_count": 26,
   "id": "3038c20c-d453-4bfe-ba9c-f2ff38aec57c",
   "metadata": {},
   "outputs": [
    {
     "data": {
      "text/plain": [
       "title              7243\n",
       "tomatoMeter       14885\n",
       "criticName        11924\n",
       "publicatioName    13487\n",
       "reviewText            0\n",
       "scoreSentiment    14984\n",
       "delta             14865\n",
       "delta_category    14981\n",
       "dtype: int64"
      ]
     },
     "execution_count": 26,
     "metadata": {},
     "output_type": "execute_result"
    }
   ],
   "source": [
    "# Dropping duplicates\n",
    "massive = massive.drop_duplicates(subset='reviewText', keep='first')\n",
    "# Resetting index after dropping dupe's\n",
    "massive.reset_index(drop=True, inplace=True)\n",
    "# Checking for duplicates\n",
    "dup_df = massive.apply(lambda x: x.duplicated()).sum()\n",
    "dup_df"
   ]
  },
  {
   "cell_type": "markdown",
   "id": "1a92a439-9a49-4f84-a81e-39f88f65035e",
   "metadata": {},
   "source": [
    "## BERT Vectorizer"
   ]
  },
  {
   "cell_type": "code",
   "execution_count": 27,
   "id": "c8ef3920-1a56-4063-8460-b6be9b18ba60",
   "metadata": {},
   "outputs": [
    {
     "name": "stderr",
     "output_type": "stream",
     "text": [
      "Some weights of the model checkpoint at activebus/BERT_Review were not used when initializing BertModel: ['cls.predictions.transform.LayerNorm.bias', 'cls.predictions.decoder.bias', 'cls.predictions.transform.dense.bias', 'cls.predictions.transform.LayerNorm.weight', 'cls.predictions.bias', 'cls.predictions.transform.dense.weight', 'cls.predictions.decoder.weight']\n",
      "- This IS expected if you are initializing BertModel from the checkpoint of a model trained on another task or with another architecture (e.g. initializing a BertForSequenceClassification model from a BertForPreTraining model).\n",
      "- This IS NOT expected if you are initializing BertModel from the checkpoint of a model that you expect to be exactly identical (initializing a BertForSequenceClassification model from a BertForSequenceClassification model).\n"
     ]
    }
   ],
   "source": [
    "# Pulling BERT from huggingface\n",
    "tokenizer = AutoTokenizer.from_pretrained(\"activebus/BERT_Review\")\n",
    "model = AutoModel.from_pretrained(\"activebus/BERT_Review\")"
   ]
  },
  {
   "cell_type": "code",
   "execution_count": 28,
   "id": "f02aa687-093e-4da1-97ff-f440bb5c26b3",
   "metadata": {},
   "outputs": [
    {
     "name": "stderr",
     "output_type": "stream",
     "text": [
      "C:\\Users\\Dan\\anaconda3\\envs\\nlp\\lib\\site-packages\\ipykernel_launcher.py:18: SettingWithCopyWarning: \n",
      "A value is trying to be set on a copy of a slice from a DataFrame.\n",
      "Try using .loc[row_indexer,col_indexer] = value instead\n",
      "\n",
      "See the caveats in the documentation: https://pandas.pydata.org/pandas-docs/stable/user_guide/indexing.html#returning-a-view-versus-a-copy\n"
     ]
    },
    {
     "data": {
      "text/html": [
       "<div>\n",
       "<style scoped>\n",
       "    .dataframe tbody tr th:only-of-type {\n",
       "        vertical-align: middle;\n",
       "    }\n",
       "\n",
       "    .dataframe tbody tr th {\n",
       "        vertical-align: top;\n",
       "    }\n",
       "\n",
       "    .dataframe thead th {\n",
       "        text-align: right;\n",
       "    }\n",
       "</style>\n",
       "<table border=\"1\" class=\"dataframe\">\n",
       "  <thead>\n",
       "    <tr style=\"text-align: right;\">\n",
       "      <th></th>\n",
       "      <th>title</th>\n",
       "      <th>tomatoMeter</th>\n",
       "      <th>criticName</th>\n",
       "      <th>publicatioName</th>\n",
       "      <th>reviewText</th>\n",
       "      <th>scoreSentiment</th>\n",
       "      <th>delta</th>\n",
       "      <th>delta_category</th>\n",
       "      <th>embeddings</th>\n",
       "    </tr>\n",
       "  </thead>\n",
       "  <tbody>\n",
       "    <tr>\n",
       "      <th>0</th>\n",
       "      <td>Robin Hood</td>\n",
       "      <td>43.0</td>\n",
       "      <td>Dawn Taylor</td>\n",
       "      <td>Cinematical</td>\n",
       "      <td>It's a little like making a Johnny Appleseed m...</td>\n",
       "      <td>NEGATIVE</td>\n",
       "      <td>-15.0</td>\n",
       "      <td>1</td>\n",
       "      <td>[-0.15825821, 0.23516954, 0.037855532, 0.03154...</td>\n",
       "    </tr>\n",
       "    <tr>\n",
       "      <th>1</th>\n",
       "      <td>Safe House</td>\n",
       "      <td>53.0</td>\n",
       "      <td>Jeff Beck</td>\n",
       "      <td>Examiner.com</td>\n",
       "      <td>[\"Safe House\"] becomes a prime example of why ...</td>\n",
       "      <td>NEGATIVE</td>\n",
       "      <td>-10.0</td>\n",
       "      <td>2</td>\n",
       "      <td>[0.05020408, 0.4886594, -0.008877138, -0.08937...</td>\n",
       "    </tr>\n",
       "    <tr>\n",
       "      <th>2</th>\n",
       "      <td>Queen &amp; Slim</td>\n",
       "      <td>83.0</td>\n",
       "      <td>Tim Cogshell</td>\n",
       "      <td>FilmWeek (KPCC - NPR Los Angeles)</td>\n",
       "      <td>Very entertaining in a number of ways. Thrilli...</td>\n",
       "      <td>POSITIVE</td>\n",
       "      <td>-9.0</td>\n",
       "      <td>2</td>\n",
       "      <td>[-0.44251788, 0.51001436, 0.23970549, -0.13053...</td>\n",
       "    </tr>\n",
       "    <tr>\n",
       "      <th>3</th>\n",
       "      <td>Lost in Beijing</td>\n",
       "      <td>52.0</td>\n",
       "      <td>Jack Mathews</td>\n",
       "      <td>New York Daily News</td>\n",
       "      <td>When a rapist (Tony Leung) is the second-most ...</td>\n",
       "      <td>NEGATIVE</td>\n",
       "      <td>-7.0</td>\n",
       "      <td>2</td>\n",
       "      <td>[-0.3622491, 0.3521909, 0.016124029, -0.053949...</td>\n",
       "    </tr>\n",
       "    <tr>\n",
       "      <th>4</th>\n",
       "      <td>Drive My Car</td>\n",
       "      <td>97.0</td>\n",
       "      <td>Danny Leigh</td>\n",
       "      <td>Financial Times</td>\n",
       "      <td>Director Ryusuke Hamaguchi makes it easy to st...</td>\n",
       "      <td>POSITIVE</td>\n",
       "      <td>19.0</td>\n",
       "      <td>3</td>\n",
       "      <td>[-0.0665307, 0.29908082, 0.11836646, 0.0174265...</td>\n",
       "    </tr>\n",
       "  </tbody>\n",
       "</table>\n",
       "</div>"
      ],
      "text/plain": [
       "             title  tomatoMeter    criticName  \\\n",
       "0       Robin Hood         43.0   Dawn Taylor   \n",
       "1       Safe House         53.0     Jeff Beck   \n",
       "2     Queen & Slim         83.0  Tim Cogshell   \n",
       "3  Lost in Beijing         52.0  Jack Mathews   \n",
       "4     Drive My Car         97.0   Danny Leigh   \n",
       "\n",
       "                      publicatioName  \\\n",
       "0                        Cinematical   \n",
       "1                       Examiner.com   \n",
       "2  FilmWeek (KPCC - NPR Los Angeles)   \n",
       "3                New York Daily News   \n",
       "4                    Financial Times   \n",
       "\n",
       "                                          reviewText scoreSentiment  delta  \\\n",
       "0  It's a little like making a Johnny Appleseed m...       NEGATIVE  -15.0   \n",
       "1  [\"Safe House\"] becomes a prime example of why ...       NEGATIVE  -10.0   \n",
       "2  Very entertaining in a number of ways. Thrilli...       POSITIVE   -9.0   \n",
       "3  When a rapist (Tony Leung) is the second-most ...       NEGATIVE   -7.0   \n",
       "4  Director Ryusuke Hamaguchi makes it easy to st...       POSITIVE   19.0   \n",
       "\n",
       "  delta_category                                         embeddings  \n",
       "0              1  [-0.15825821, 0.23516954, 0.037855532, 0.03154...  \n",
       "1              2  [0.05020408, 0.4886594, -0.008877138, -0.08937...  \n",
       "2              2  [-0.44251788, 0.51001436, 0.23970549, -0.13053...  \n",
       "3              2  [-0.3622491, 0.3521909, 0.016124029, -0.053949...  \n",
       "4              3  [-0.0665307, 0.29908082, 0.11836646, 0.0174265...  "
      ]
     },
     "execution_count": 28,
     "metadata": {},
     "output_type": "execute_result"
    },
    {
     "data": {
      "application/javascript": [
       "$(document).ready(\n",
       "    function() {\n",
       "        function appendUniqueDiv(){\n",
       "            // append a div with our uuid so we can check that it's already\n",
       "            // been sent and avoid duplicates on page reload\n",
       "            var notifiedDiv = document.createElement(\"div\")\n",
       "            notifiedDiv.id = \"689bf0fa-7547-4ec2-a979-e4ba885a7170\"\n",
       "            element.append(notifiedDiv)\n",
       "        }\n",
       "\n",
       "        // only send notifications if the pageload is complete; this will\n",
       "        // help stop extra notifications when a saved notebook is loaded,\n",
       "        // which during testing gives us state \"interactive\", not \"complete\"\n",
       "        if (document.readyState === 'complete') {\n",
       "            // check for the div that signifies that the notification\n",
       "            // was already sent\n",
       "            if (document.getElementById(\"689bf0fa-7547-4ec2-a979-e4ba885a7170\") === null) {\n",
       "                var notificationPayload = {\"requireInteraction\": false, \"icon\": \"/static/base/images/favicon.ico\", \"body\": \"Cell execution has finished!\", \"only_in_background\": false};\n",
       "\n",
       "                // We have a notification but the window is active\n",
       "                if (notificationPayload.only_in_background && !window.jupyterNotifyIsInBackground) {\n",
       "                    appendUniqueDiv();\n",
       "                    return;\n",
       "                }\n",
       "                if (Notification.permission !== 'denied') {\n",
       "                    if (Notification.permission !== 'granted') { \n",
       "                        Notification.requestPermission(function (permission) {\n",
       "                            if(!('permission' in Notification)) {\n",
       "                                Notification.permission = permission\n",
       "                            }\n",
       "                        })\n",
       "                    }\n",
       "                    if (Notification.permission === 'granted') {\n",
       "                    var notification = new Notification(\"Jupyter Notebook\", notificationPayload)\n",
       "                    appendUniqueDiv()\n",
       "                    notification.onclick = function () {\n",
       "                        window.focus();\n",
       "                        this.close();\n",
       "                        };\n",
       "                    } \n",
       "                }     \n",
       "            }\n",
       "        }\n",
       "    }\n",
       ")\n"
      ],
      "text/plain": [
       "<IPython.core.display.Javascript object>"
      ]
     },
     "metadata": {},
     "output_type": "display_data"
    }
   ],
   "source": [
    "%%notify\n",
    "# Text preprocessing function\n",
    "def preprocess(text):\n",
    "    new_text = []\n",
    "    for t in text.split(\" \"):\n",
    "        t = '@user' if t.startswith('@') and len(t) > 1 else t\n",
    "        t = 'http' if t.startswith('http') else t\n",
    "        new_text.append(t)\n",
    "    return \" \".join(new_text)\n",
    "# Function to vectorize text with BERT\n",
    "def get_embedding(text):\n",
    "    text = preprocess(text)\n",
    "    encoded_input = tokenizer(text, return_tensors='pt')\n",
    "    features = model(**encoded_input)\n",
    "    features = features[0].detach().numpy() \n",
    "    features_mean = np.mean(features[0], axis=0) \n",
    "    return features_mean\n",
    "# Applying the function to reviewText and outputting to embeddings column\n",
    "massive['embeddings'] = massive.reviewText.map(lambda x: get_embedding(x))\n",
    "massive.head()"
   ]
  },
  {
   "cell_type": "code",
   "execution_count": 29,
   "id": "637ab241-6df2-44c9-84a7-957aed4db95b",
   "metadata": {},
   "outputs": [
    {
     "data": {
      "text/plain": [
       "array([[-0.15825821,  0.23516954,  0.03785553, ..., -0.12963331,\n",
       "         0.41126922,  0.15984839],\n",
       "       [ 0.05020408,  0.48865941, -0.00887714, ..., -0.23357064,\n",
       "         0.26069748, -0.09811916],\n",
       "       [-0.44251788,  0.51001436,  0.23970549, ..., -0.27318379,\n",
       "         0.36491105, -0.16944979],\n",
       "       ...,\n",
       "       [-0.01660984,  0.24159062, -0.22176614, ..., -0.10410111,\n",
       "         0.32589257,  0.13528441],\n",
       "       [-0.03979871,  0.32638577, -0.09368794, ..., -0.11670193,\n",
       "         0.2325905 , -0.22093023],\n",
       "       [-0.63761503,  0.22267888, -0.20360245, ..., -0.05600252,\n",
       "         0.01459969, -0.08805501]])"
      ]
     },
     "execution_count": 29,
     "metadata": {},
     "output_type": "execute_result"
    }
   ],
   "source": [
    "# Converting embeddings column to numpy array\n",
    "vectors = np.array(massive.embeddings.tolist(), dtype='float')\n",
    "vectors[:10]"
   ]
  },
  {
   "cell_type": "code",
   "execution_count": 30,
   "id": "f52aa422-801e-4535-9bd5-be70318786bc",
   "metadata": {},
   "outputs": [
    {
     "data": {
      "text/html": [
       "<div>\n",
       "<style scoped>\n",
       "    .dataframe tbody tr th:only-of-type {\n",
       "        vertical-align: middle;\n",
       "    }\n",
       "\n",
       "    .dataframe tbody tr th {\n",
       "        vertical-align: top;\n",
       "    }\n",
       "\n",
       "    .dataframe thead th {\n",
       "        text-align: right;\n",
       "    }\n",
       "</style>\n",
       "<table border=\"1\" class=\"dataframe\">\n",
       "  <thead>\n",
       "    <tr style=\"text-align: right;\">\n",
       "      <th></th>\n",
       "      <th>col1</th>\n",
       "      <th>col2</th>\n",
       "      <th>col3</th>\n",
       "      <th>col4</th>\n",
       "      <th>col5</th>\n",
       "      <th>col6</th>\n",
       "      <th>col7</th>\n",
       "      <th>col8</th>\n",
       "      <th>col9</th>\n",
       "      <th>col10</th>\n",
       "      <th>...</th>\n",
       "      <th>col759</th>\n",
       "      <th>col760</th>\n",
       "      <th>col761</th>\n",
       "      <th>col762</th>\n",
       "      <th>col763</th>\n",
       "      <th>col764</th>\n",
       "      <th>col765</th>\n",
       "      <th>col766</th>\n",
       "      <th>col767</th>\n",
       "      <th>col768</th>\n",
       "    </tr>\n",
       "  </thead>\n",
       "  <tbody>\n",
       "    <tr>\n",
       "      <th>0</th>\n",
       "      <td>-0.158258</td>\n",
       "      <td>0.235170</td>\n",
       "      <td>0.037856</td>\n",
       "      <td>0.031540</td>\n",
       "      <td>0.306124</td>\n",
       "      <td>0.170648</td>\n",
       "      <td>-0.103593</td>\n",
       "      <td>0.573045</td>\n",
       "      <td>-0.020362</td>\n",
       "      <td>-0.005003</td>\n",
       "      <td>...</td>\n",
       "      <td>-0.002762</td>\n",
       "      <td>-0.303216</td>\n",
       "      <td>0.097986</td>\n",
       "      <td>0.199727</td>\n",
       "      <td>0.036453</td>\n",
       "      <td>-0.065421</td>\n",
       "      <td>-0.037108</td>\n",
       "      <td>-0.129633</td>\n",
       "      <td>0.411269</td>\n",
       "      <td>0.159848</td>\n",
       "    </tr>\n",
       "    <tr>\n",
       "      <th>1</th>\n",
       "      <td>0.050204</td>\n",
       "      <td>0.488659</td>\n",
       "      <td>-0.008877</td>\n",
       "      <td>-0.089375</td>\n",
       "      <td>0.322270</td>\n",
       "      <td>0.192425</td>\n",
       "      <td>0.104532</td>\n",
       "      <td>0.458823</td>\n",
       "      <td>-0.101944</td>\n",
       "      <td>-0.106463</td>\n",
       "      <td>...</td>\n",
       "      <td>-0.242976</td>\n",
       "      <td>-0.178034</td>\n",
       "      <td>0.097337</td>\n",
       "      <td>-0.016775</td>\n",
       "      <td>-0.038906</td>\n",
       "      <td>-0.024188</td>\n",
       "      <td>0.170549</td>\n",
       "      <td>-0.233571</td>\n",
       "      <td>0.260697</td>\n",
       "      <td>-0.098119</td>\n",
       "    </tr>\n",
       "    <tr>\n",
       "      <th>2</th>\n",
       "      <td>-0.442518</td>\n",
       "      <td>0.510014</td>\n",
       "      <td>0.239705</td>\n",
       "      <td>-0.130538</td>\n",
       "      <td>0.411279</td>\n",
       "      <td>-0.033510</td>\n",
       "      <td>0.003244</td>\n",
       "      <td>0.558496</td>\n",
       "      <td>-0.100562</td>\n",
       "      <td>-0.543049</td>\n",
       "      <td>...</td>\n",
       "      <td>0.159986</td>\n",
       "      <td>-0.209504</td>\n",
       "      <td>0.237903</td>\n",
       "      <td>-0.176496</td>\n",
       "      <td>-0.213456</td>\n",
       "      <td>-0.256748</td>\n",
       "      <td>0.115339</td>\n",
       "      <td>-0.273184</td>\n",
       "      <td>0.364911</td>\n",
       "      <td>-0.169450</td>\n",
       "    </tr>\n",
       "  </tbody>\n",
       "</table>\n",
       "<p>3 rows × 768 columns</p>\n",
       "</div>"
      ],
      "text/plain": [
       "       col1      col2      col3      col4      col5      col6      col7  \\\n",
       "0 -0.158258  0.235170  0.037856  0.031540  0.306124  0.170648 -0.103593   \n",
       "1  0.050204  0.488659 -0.008877 -0.089375  0.322270  0.192425  0.104532   \n",
       "2 -0.442518  0.510014  0.239705 -0.130538  0.411279 -0.033510  0.003244   \n",
       "\n",
       "       col8      col9     col10  ...    col759    col760    col761    col762  \\\n",
       "0  0.573045 -0.020362 -0.005003  ... -0.002762 -0.303216  0.097986  0.199727   \n",
       "1  0.458823 -0.101944 -0.106463  ... -0.242976 -0.178034  0.097337 -0.016775   \n",
       "2  0.558496 -0.100562 -0.543049  ...  0.159986 -0.209504  0.237903 -0.176496   \n",
       "\n",
       "     col763    col764    col765    col766    col767    col768  \n",
       "0  0.036453 -0.065421 -0.037108 -0.129633  0.411269  0.159848  \n",
       "1 -0.038906 -0.024188  0.170549 -0.233571  0.260697 -0.098119  \n",
       "2 -0.213456 -0.256748  0.115339 -0.273184  0.364911 -0.169450  \n",
       "\n",
       "[3 rows x 768 columns]"
      ]
     },
     "execution_count": 30,
     "metadata": {},
     "output_type": "execute_result"
    }
   ],
   "source": [
    "# Flattening numpy array and creating dataframe with it\n",
    "v_df = pd.DataFrame(vectors, columns=[f'col{i+1}' for i in range(vectors.shape[1])])\n",
    "v_df.head(3)"
   ]
  },
  {
   "cell_type": "code",
   "execution_count": 31,
   "id": "688d5fd1-c80d-47f4-8c52-4bc91ec9cdd4",
   "metadata": {},
   "outputs": [],
   "source": [
    "# Dropping review text now it is vectorized, and dropping embeddings now that it is flattened\n",
    "massive = massive.drop(columns=['reviewText', 'embeddings', 'delta'])"
   ]
  },
  {
   "cell_type": "code",
   "execution_count": 32,
   "id": "66941dde-e810-4c38-b202-daed024aa859",
   "metadata": {},
   "outputs": [
    {
     "data": {
      "text/plain": [
       "title             0\n",
       "tomatoMeter       0\n",
       "criticName        0\n",
       "publicatioName    0\n",
       "scoreSentiment    0\n",
       "delta_category    0\n",
       "dtype: int64"
      ]
     },
     "execution_count": 32,
     "metadata": {},
     "output_type": "execute_result"
    }
   ],
   "source": [
    "massive.isnull().sum().head(9)"
   ]
  },
  {
   "cell_type": "markdown",
   "id": "fca18b30-14b3-41f7-ae95-809182f5c2a8",
   "metadata": {},
   "source": [
    "### Encoding categorical columns"
   ]
  },
  {
   "cell_type": "code",
   "execution_count": 33,
   "id": "5dac35c1-4c06-49fd-b618-61b900391658",
   "metadata": {},
   "outputs": [
    {
     "data": {
      "text/plain": [
       "Other                            8737\n",
       "Dennis Schwartz                   103\n",
       "Frederic and Mary Ann Brussat      84\n",
       "Roger Ebert                        82\n",
       "Roger Moore                        81\n",
       "                                 ... \n",
       "Shawn Levy                         16\n",
       "Richard Brody                      16\n",
       "Dennis Harvey                      16\n",
       "Gary Wolcott                       16\n",
       "Alonso Duralde                     16\n",
       "Name: criticName, Length: 228, dtype: int64"
      ]
     },
     "execution_count": 33,
     "metadata": {},
     "output_type": "execute_result"
    }
   ],
   "source": [
    "# Renaming the least-appearing critics as Other to later be encoded as the same critic\n",
    "counts = massive.criticName.value_counts()\n",
    "threshold = massive.criticName.isin(counts.index[counts<16])\n",
    "massive.loc[threshold, 'criticName'] = 'Other'\n",
    "massive['criticName'].value_counts()"
   ]
  },
  {
   "cell_type": "code",
   "execution_count": 34,
   "id": "0a6b0a96-a932-4eaf-a06b-4ab22e1ea42a",
   "metadata": {},
   "outputs": [
    {
     "data": {
      "text/plain": [
       "Other                           4117\n",
       "New York Times                   193\n",
       "Variety                          183\n",
       "Los Angeles Times                166\n",
       "Time Out                         143\n",
       "                                ... \n",
       "SF Weekly                         12\n",
       "Patrick Nabarro                   12\n",
       "Your Movies (cleveland.com)       12\n",
       "Film Racket                       12\n",
       "The New York Review of Books      12\n",
       "Name: publicatioName, Length: 334, dtype: int64"
      ]
     },
     "execution_count": 34,
     "metadata": {},
     "output_type": "execute_result"
    }
   ],
   "source": [
    "# Repeat for publications\n",
    "counts = massive.publicatioName.value_counts()\n",
    "threshold = massive.publicatioName.isin(counts.index[counts<12])\n",
    "massive.loc[threshold, 'publicatioName'] = 'Other'\n",
    "massive['publicatioName'].value_counts()"
   ]
  },
  {
   "cell_type": "code",
   "execution_count": 35,
   "id": "c935d9a7-59a9-4b8c-a9d1-0e79ab7882c7",
   "metadata": {},
   "outputs": [],
   "source": [
    "# List of columns to dummy\n",
    "categorical_cols = ['title', 'criticName', 'publicatioName', 'scoreSentiment'] \n",
    "# Get dummies on categorical columns\n",
    "massive = pd.get_dummies(massive, columns = categorical_cols)"
   ]
  },
  {
   "cell_type": "markdown",
   "id": "fab508a0-4f8e-4d65-aace-b9f0a0239fa8",
   "metadata": {},
   "source": [
    "### Final pre-processing, splitting, scaling, PCA"
   ]
  },
  {
   "cell_type": "code",
   "execution_count": 36,
   "id": "42303d3e-b19d-4849-bf9a-6edc2c08859e",
   "metadata": {},
   "outputs": [
    {
     "data": {
      "text/html": [
       "<div>\n",
       "<style scoped>\n",
       "    .dataframe tbody tr th:only-of-type {\n",
       "        vertical-align: middle;\n",
       "    }\n",
       "\n",
       "    .dataframe tbody tr th {\n",
       "        vertical-align: top;\n",
       "    }\n",
       "\n",
       "    .dataframe thead th {\n",
       "        text-align: right;\n",
       "    }\n",
       "</style>\n",
       "<table border=\"1\" class=\"dataframe\">\n",
       "  <thead>\n",
       "    <tr style=\"text-align: right;\">\n",
       "      <th></th>\n",
       "      <th>tomatoMeter</th>\n",
       "      <th>delta_category</th>\n",
       "      <th>title_\"Sr.\"</th>\n",
       "      <th>title_$9.99</th>\n",
       "      <th>title_'71</th>\n",
       "      <th>title_(500) Days of Summer</th>\n",
       "      <th>title_(Untitled)</th>\n",
       "      <th>title_... And They Lived Happily Ever After</th>\n",
       "      <th>title_...And Justice for All</th>\n",
       "      <th>title_10</th>\n",
       "      <th>...</th>\n",
       "      <th>col759</th>\n",
       "      <th>col760</th>\n",
       "      <th>col761</th>\n",
       "      <th>col762</th>\n",
       "      <th>col763</th>\n",
       "      <th>col764</th>\n",
       "      <th>col765</th>\n",
       "      <th>col766</th>\n",
       "      <th>col767</th>\n",
       "      <th>col768</th>\n",
       "    </tr>\n",
       "  </thead>\n",
       "  <tbody>\n",
       "    <tr>\n",
       "      <th>0</th>\n",
       "      <td>43.0</td>\n",
       "      <td>1</td>\n",
       "      <td>0</td>\n",
       "      <td>0</td>\n",
       "      <td>0</td>\n",
       "      <td>0</td>\n",
       "      <td>0</td>\n",
       "      <td>0</td>\n",
       "      <td>0</td>\n",
       "      <td>0</td>\n",
       "      <td>...</td>\n",
       "      <td>-0.002762</td>\n",
       "      <td>-0.303216</td>\n",
       "      <td>0.097986</td>\n",
       "      <td>0.199727</td>\n",
       "      <td>0.036453</td>\n",
       "      <td>-0.065421</td>\n",
       "      <td>-0.037108</td>\n",
       "      <td>-0.129633</td>\n",
       "      <td>0.411269</td>\n",
       "      <td>0.159848</td>\n",
       "    </tr>\n",
       "  </tbody>\n",
       "</table>\n",
       "<p>1 rows × 9077 columns</p>\n",
       "</div>"
      ],
      "text/plain": [
       "   tomatoMeter delta_category  title_\"Sr.\"  title_$9.99  title_'71  \\\n",
       "0         43.0              1            0            0          0   \n",
       "\n",
       "   title_(500) Days of Summer  title_(Untitled)  \\\n",
       "0                           0                 0   \n",
       "\n",
       "   title_... And They Lived Happily Ever After  title_...And Justice for All  \\\n",
       "0                                            0                             0   \n",
       "\n",
       "   title_10  ...    col759    col760    col761    col762    col763    col764  \\\n",
       "0         0  ... -0.002762 -0.303216  0.097986  0.199727  0.036453 -0.065421   \n",
       "\n",
       "     col765    col766    col767    col768  \n",
       "0 -0.037108 -0.129633  0.411269  0.159848  \n",
       "\n",
       "[1 rows x 9077 columns]"
      ]
     },
     "execution_count": 36,
     "metadata": {},
     "output_type": "execute_result"
    },
    {
     "data": {
      "application/javascript": [
       "$(document).ready(\n",
       "    function() {\n",
       "        function appendUniqueDiv(){\n",
       "            // append a div with our uuid so we can check that it's already\n",
       "            // been sent and avoid duplicates on page reload\n",
       "            var notifiedDiv = document.createElement(\"div\")\n",
       "            notifiedDiv.id = \"a96f6912-8dea-400a-92fb-e08c64348ca0\"\n",
       "            element.append(notifiedDiv)\n",
       "        }\n",
       "\n",
       "        // only send notifications if the pageload is complete; this will\n",
       "        // help stop extra notifications when a saved notebook is loaded,\n",
       "        // which during testing gives us state \"interactive\", not \"complete\"\n",
       "        if (document.readyState === 'complete') {\n",
       "            // check for the div that signifies that the notification\n",
       "            // was already sent\n",
       "            if (document.getElementById(\"a96f6912-8dea-400a-92fb-e08c64348ca0\") === null) {\n",
       "                var notificationPayload = {\"requireInteraction\": false, \"icon\": \"/static/base/images/favicon.ico\", \"body\": \"Cell execution has finished!\", \"only_in_background\": false};\n",
       "\n",
       "                // We have a notification but the window is active\n",
       "                if (notificationPayload.only_in_background && !window.jupyterNotifyIsInBackground) {\n",
       "                    appendUniqueDiv();\n",
       "                    return;\n",
       "                }\n",
       "                if (Notification.permission !== 'denied') {\n",
       "                    if (Notification.permission !== 'granted') { \n",
       "                        Notification.requestPermission(function (permission) {\n",
       "                            if(!('permission' in Notification)) {\n",
       "                                Notification.permission = permission\n",
       "                            }\n",
       "                        })\n",
       "                    }\n",
       "                    if (Notification.permission === 'granted') {\n",
       "                    var notification = new Notification(\"Jupyter Notebook\", notificationPayload)\n",
       "                    appendUniqueDiv()\n",
       "                    notification.onclick = function () {\n",
       "                        window.focus();\n",
       "                        this.close();\n",
       "                        };\n",
       "                    } \n",
       "                }     \n",
       "            }\n",
       "        }\n",
       "    }\n",
       ")\n"
      ],
      "text/plain": [
       "<IPython.core.display.Javascript object>"
      ]
     },
     "metadata": {},
     "output_type": "display_data"
    }
   ],
   "source": [
    "# Merging massive df with vectorized df\n",
    "combined = pd.concat([massive, v_df], axis=1)\n",
    "combined.head(1)"
   ]
  },
  {
   "cell_type": "code",
   "execution_count": 37,
   "id": "eb89e1f1-0bff-4f86-8651-a43c7a1ef3bc",
   "metadata": {},
   "outputs": [],
   "source": [
    "X = combined.drop(columns=['delta_category'])\n",
    "y = combined['delta_category']\n",
    "# Converting Category datatype to integer\n",
    "y = y.cat.codes"
   ]
  },
  {
   "cell_type": "code",
   "execution_count": 38,
   "id": "3ca3d855-6d54-4f08-a154-8263c060c0a5",
   "metadata": {},
   "outputs": [
    {
     "data": {
      "text/plain": [
       "0"
      ]
     },
     "execution_count": 38,
     "metadata": {},
     "output_type": "execute_result"
    }
   ],
   "source": [
    "X.isnull().sum().sum()"
   ]
  },
  {
   "cell_type": "code",
   "execution_count": 54,
   "id": "c7540d4b-fec3-4010-871c-1c04310b757c",
   "metadata": {},
   "outputs": [
    {
     "data": {
      "text/plain": [
       "0    1\n",
       "1    2\n",
       "2    2\n",
       "3    2\n",
       "dtype: int8"
      ]
     },
     "execution_count": 54,
     "metadata": {},
     "output_type": "execute_result"
    }
   ],
   "source": [
    "y[0:4]"
   ]
  },
  {
   "cell_type": "code",
   "execution_count": 55,
   "id": "9563c69a-5fe8-478e-95ef-96b5baa219e8",
   "metadata": {},
   "outputs": [],
   "source": [
    "# Split the data into training and testing sets\n",
    "X_train, X_test, y_train, y_test = train_test_split(X, y, test_size=0.25, random_state=42)"
   ]
  },
  {
   "cell_type": "code",
   "execution_count": 57,
   "id": "3a22dd78-d2dc-439c-8358-5adcc92a006a",
   "metadata": {},
   "outputs": [
    {
     "data": {
      "application/javascript": [
       "$(document).ready(\n",
       "    function() {\n",
       "        function appendUniqueDiv(){\n",
       "            // append a div with our uuid so we can check that it's already\n",
       "            // been sent and avoid duplicates on page reload\n",
       "            var notifiedDiv = document.createElement(\"div\")\n",
       "            notifiedDiv.id = \"2af4d242-7f54-4116-8c4e-0a1d8504fbe0\"\n",
       "            element.append(notifiedDiv)\n",
       "        }\n",
       "\n",
       "        // only send notifications if the pageload is complete; this will\n",
       "        // help stop extra notifications when a saved notebook is loaded,\n",
       "        // which during testing gives us state \"interactive\", not \"complete\"\n",
       "        if (document.readyState === 'complete') {\n",
       "            // check for the div that signifies that the notification\n",
       "            // was already sent\n",
       "            if (document.getElementById(\"2af4d242-7f54-4116-8c4e-0a1d8504fbe0\") === null) {\n",
       "                var notificationPayload = {\"requireInteraction\": false, \"icon\": \"/static/base/images/favicon.ico\", \"body\": \"Cell execution has finished!\", \"only_in_background\": false};\n",
       "\n",
       "                // We have a notification but the window is active\n",
       "                if (notificationPayload.only_in_background && !window.jupyterNotifyIsInBackground) {\n",
       "                    appendUniqueDiv();\n",
       "                    return;\n",
       "                }\n",
       "                if (Notification.permission !== 'denied') {\n",
       "                    if (Notification.permission !== 'granted') { \n",
       "                        Notification.requestPermission(function (permission) {\n",
       "                            if(!('permission' in Notification)) {\n",
       "                                Notification.permission = permission\n",
       "                            }\n",
       "                        })\n",
       "                    }\n",
       "                    if (Notification.permission === 'granted') {\n",
       "                    var notification = new Notification(\"Jupyter Notebook\", notificationPayload)\n",
       "                    appendUniqueDiv()\n",
       "                    notification.onclick = function () {\n",
       "                        window.focus();\n",
       "                        this.close();\n",
       "                        };\n",
       "                    } \n",
       "                }     \n",
       "            }\n",
       "        }\n",
       "    }\n",
       ")\n"
      ],
      "text/plain": [
       "<IPython.core.display.Javascript object>"
      ]
     },
     "metadata": {},
     "output_type": "display_data"
    }
   ],
   "source": [
    "%%notify\n",
    "# Scaling X\n",
    "sc = StandardScaler()\n",
    "X_train_sc = sc.fit_transform(X_train)\n",
    "X_test_sc = sc.transform(X_test)"
   ]
  },
  {
   "cell_type": "code",
   "execution_count": 60,
   "id": "b8ae210a-41df-437c-b957-98dd50ebf7c8",
   "metadata": {},
   "outputs": [
    {
     "data": {
      "application/javascript": [
       "$(document).ready(\n",
       "    function() {\n",
       "        function appendUniqueDiv(){\n",
       "            // append a div with our uuid so we can check that it's already\n",
       "            // been sent and avoid duplicates on page reload\n",
       "            var notifiedDiv = document.createElement(\"div\")\n",
       "            notifiedDiv.id = \"e04abc8d-66a6-46c3-baba-1272fa1da7e6\"\n",
       "            element.append(notifiedDiv)\n",
       "        }\n",
       "\n",
       "        // only send notifications if the pageload is complete; this will\n",
       "        // help stop extra notifications when a saved notebook is loaded,\n",
       "        // which during testing gives us state \"interactive\", not \"complete\"\n",
       "        if (document.readyState === 'complete') {\n",
       "            // check for the div that signifies that the notification\n",
       "            // was already sent\n",
       "            if (document.getElementById(\"e04abc8d-66a6-46c3-baba-1272fa1da7e6\") === null) {\n",
       "                var notificationPayload = {\"requireInteraction\": false, \"icon\": \"/static/base/images/favicon.ico\", \"body\": \"Cell execution has finished!\", \"only_in_background\": false};\n",
       "\n",
       "                // We have a notification but the window is active\n",
       "                if (notificationPayload.only_in_background && !window.jupyterNotifyIsInBackground) {\n",
       "                    appendUniqueDiv();\n",
       "                    return;\n",
       "                }\n",
       "                if (Notification.permission !== 'denied') {\n",
       "                    if (Notification.permission !== 'granted') { \n",
       "                        Notification.requestPermission(function (permission) {\n",
       "                            if(!('permission' in Notification)) {\n",
       "                                Notification.permission = permission\n",
       "                            }\n",
       "                        })\n",
       "                    }\n",
       "                    if (Notification.permission === 'granted') {\n",
       "                    var notification = new Notification(\"Jupyter Notebook\", notificationPayload)\n",
       "                    appendUniqueDiv()\n",
       "                    notification.onclick = function () {\n",
       "                        window.focus();\n",
       "                        this.close();\n",
       "                        };\n",
       "                    } \n",
       "                }     \n",
       "            }\n",
       "        }\n",
       "    }\n",
       ")\n"
      ],
      "text/plain": [
       "<IPython.core.display.Javascript object>"
      ]
     },
     "metadata": {},
     "output_type": "display_data"
    }
   ],
   "source": [
    "%%notify\n",
    "# PCA to filter most important features\n",
    "pca = PCA(n_components=6000)\n",
    "X_train_p = pca.fit_transform(X_train_sc)\n",
    "X_test_p = pca.transform(X_test_sc)"
   ]
  },
  {
   "cell_type": "markdown",
   "id": "d15c06a0-af41-48e8-823b-c4d0a8287cb5",
   "metadata": {},
   "source": [
    "## Logistic Regression"
   ]
  },
  {
   "cell_type": "code",
   "execution_count": 62,
   "id": "23f77fd3-0e56-4485-8a77-da3f463c976f",
   "metadata": {},
   "outputs": [
    {
     "data": {
      "text/plain": [
       "LogisticRegression(max_iter=5000)"
      ]
     },
     "execution_count": 62,
     "metadata": {},
     "output_type": "execute_result"
    },
    {
     "data": {
      "application/javascript": [
       "$(document).ready(\n",
       "    function() {\n",
       "        function appendUniqueDiv(){\n",
       "            // append a div with our uuid so we can check that it's already\n",
       "            // been sent and avoid duplicates on page reload\n",
       "            var notifiedDiv = document.createElement(\"div\")\n",
       "            notifiedDiv.id = \"afaa99aa-6827-45c7-9277-7724857ba913\"\n",
       "            element.append(notifiedDiv)\n",
       "        }\n",
       "\n",
       "        // only send notifications if the pageload is complete; this will\n",
       "        // help stop extra notifications when a saved notebook is loaded,\n",
       "        // which during testing gives us state \"interactive\", not \"complete\"\n",
       "        if (document.readyState === 'complete') {\n",
       "            // check for the div that signifies that the notification\n",
       "            // was already sent\n",
       "            if (document.getElementById(\"afaa99aa-6827-45c7-9277-7724857ba913\") === null) {\n",
       "                var notificationPayload = {\"requireInteraction\": false, \"icon\": \"/static/base/images/favicon.ico\", \"body\": \"Cell execution has finished!\", \"only_in_background\": false};\n",
       "\n",
       "                // We have a notification but the window is active\n",
       "                if (notificationPayload.only_in_background && !window.jupyterNotifyIsInBackground) {\n",
       "                    appendUniqueDiv();\n",
       "                    return;\n",
       "                }\n",
       "                if (Notification.permission !== 'denied') {\n",
       "                    if (Notification.permission !== 'granted') { \n",
       "                        Notification.requestPermission(function (permission) {\n",
       "                            if(!('permission' in Notification)) {\n",
       "                                Notification.permission = permission\n",
       "                            }\n",
       "                        })\n",
       "                    }\n",
       "                    if (Notification.permission === 'granted') {\n",
       "                    var notification = new Notification(\"Jupyter Notebook\", notificationPayload)\n",
       "                    appendUniqueDiv()\n",
       "                    notification.onclick = function () {\n",
       "                        window.focus();\n",
       "                        this.close();\n",
       "                        };\n",
       "                    } \n",
       "                }     \n",
       "            }\n",
       "        }\n",
       "    }\n",
       ")\n"
      ],
      "text/plain": [
       "<IPython.core.display.Javascript object>"
      ]
     },
     "metadata": {},
     "output_type": "display_data"
    }
   ],
   "source": [
    "%%notify\n",
    "# Training learning model\n",
    "model = LogisticRegression(max_iter=5000)\n",
    "model.fit(X_train_p, y_train)"
   ]
  },
  {
   "cell_type": "code",
   "execution_count": 63,
   "id": "5c029fd9-cedb-403e-ac43-debd16f82170",
   "metadata": {},
   "outputs": [
    {
     "data": {
      "text/plain": [
       "1.0"
      ]
     },
     "execution_count": 63,
     "metadata": {},
     "output_type": "execute_result"
    }
   ],
   "source": [
    "model.score(X_train_p, y_train)"
   ]
  },
  {
   "cell_type": "code",
   "execution_count": 64,
   "id": "f456ec82-348d-434d-8f2a-23ef3bd0eecb",
   "metadata": {},
   "outputs": [
    {
     "data": {
      "text/plain": [
       "0.8070456365092074"
      ]
     },
     "execution_count": 64,
     "metadata": {},
     "output_type": "execute_result"
    }
   ],
   "source": [
    "model.score(X_test_p, y_test)"
   ]
  },
  {
   "cell_type": "code",
   "execution_count": 65,
   "id": "527c8bdf-f07e-4cec-94a6-019223f53430",
   "metadata": {},
   "outputs": [],
   "source": [
    "y_pred = model.predict(X_test_p)"
   ]
  },
  {
   "cell_type": "code",
   "execution_count": 80,
   "id": "a71a7f21-0236-46c1-90df-70144794da1b",
   "metadata": {},
   "outputs": [
    {
     "name": "stdout",
     "output_type": "stream",
     "text": [
      "              precision    recall  f1-score   support\n",
      "\n",
      "           0       0.94      0.36      0.52       133\n",
      "           1       0.93      0.65      0.76       542\n",
      "           2       0.76      0.97      0.86      2116\n",
      "           3       0.92      0.62      0.74       880\n",
      "           4       0.94      0.21      0.34        76\n",
      "\n",
      "    accuracy                           0.81      3747\n",
      "   macro avg       0.90      0.56      0.64      3747\n",
      "weighted avg       0.83      0.81      0.79      3747\n",
      "\n"
     ]
    }
   ],
   "source": [
    "print(classification_report(y_test, y_pred))"
   ]
  },
  {
   "cell_type": "code",
   "execution_count": 66,
   "id": "ee56c45a-aa70-4787-a5bf-3ede3c24053b",
   "metadata": {},
   "outputs": [
    {
     "data": {
      "image/png": "[encoded data removed]",
      "text/plain": [
       "<Figure size 600x300 with 1 Axes>"
      ]
     },
     "metadata": {},
     "output_type": "display_data"
    }
   ],
   "source": [
    "sns.set(rc = {'figure.figsize':(6,3)})\n",
    "sns.histplot(data=y_pred)\n",
    "plt.savefig('BERT_logistic_predictions.png')"
   ]
  },
  {
   "cell_type": "code",
   "execution_count": 67,
   "id": "8c784d72-ea47-434a-9ee3-6892ce0b6885",
   "metadata": {},
   "outputs": [
    {
     "data": {
      "image/png": "[encoded data removed]",
      "text/plain": [
       "<Figure size 600x300 with 1 Axes>"
      ]
     },
     "metadata": {},
     "output_type": "display_data"
    }
   ],
   "source": [
    "sns.set(rc = {'figure.figsize':(6,3)})\n",
    "sns.histplot(data=y_test)\n",
    "plt.savefig('BERT_logistic_ytest.png')"
   ]
  },
  {
   "cell_type": "markdown",
   "id": "2a85cc20-4788-4c99-93f5-11318c863f0c",
   "metadata": {},
   "source": [
    "## Random Forest Classifier"
   ]
  },
  {
   "cell_type": "code",
   "execution_count": 69,
   "id": "64adcc58-afbc-4890-942e-dddce68c2c87",
   "metadata": {},
   "outputs": [
    {
     "data": {
      "text/plain": [
       "RandomForestClassifier(n_estimators=500, n_jobs=16, random_state=30)"
      ]
     },
     "execution_count": 69,
     "metadata": {},
     "output_type": "execute_result"
    },
    {
     "data": {
      "application/javascript": [
       "$(document).ready(\n",
       "    function() {\n",
       "        function appendUniqueDiv(){\n",
       "            // append a div with our uuid so we can check that it's already\n",
       "            // been sent and avoid duplicates on page reload\n",
       "            var notifiedDiv = document.createElement(\"div\")\n",
       "            notifiedDiv.id = \"c63689a4-581f-450a-abe6-e16030cac547\"\n",
       "            element.append(notifiedDiv)\n",
       "        }\n",
       "\n",
       "        // only send notifications if the pageload is complete; this will\n",
       "        // help stop extra notifications when a saved notebook is loaded,\n",
       "        // which during testing gives us state \"interactive\", not \"complete\"\n",
       "        if (document.readyState === 'complete') {\n",
       "            // check for the div that signifies that the notification\n",
       "            // was already sent\n",
       "            if (document.getElementById(\"c63689a4-581f-450a-abe6-e16030cac547\") === null) {\n",
       "                var notificationPayload = {\"requireInteraction\": false, \"icon\": \"/static/base/images/favicon.ico\", \"body\": \"Cell execution has finished!\", \"only_in_background\": false};\n",
       "\n",
       "                // We have a notification but the window is active\n",
       "                if (notificationPayload.only_in_background && !window.jupyterNotifyIsInBackground) {\n",
       "                    appendUniqueDiv();\n",
       "                    return;\n",
       "                }\n",
       "                if (Notification.permission !== 'denied') {\n",
       "                    if (Notification.permission !== 'granted') { \n",
       "                        Notification.requestPermission(function (permission) {\n",
       "                            if(!('permission' in Notification)) {\n",
       "                                Notification.permission = permission\n",
       "                            }\n",
       "                        })\n",
       "                    }\n",
       "                    if (Notification.permission === 'granted') {\n",
       "                    var notification = new Notification(\"Jupyter Notebook\", notificationPayload)\n",
       "                    appendUniqueDiv()\n",
       "                    notification.onclick = function () {\n",
       "                        window.focus();\n",
       "                        this.close();\n",
       "                        };\n",
       "                    } \n",
       "                }     \n",
       "            }\n",
       "        }\n",
       "    }\n",
       ")\n"
      ],
      "text/plain": [
       "<IPython.core.display.Javascript object>"
      ]
     },
     "metadata": {},
     "output_type": "display_data"
    }
   ],
   "source": [
    "%%notify\n",
    "f_cores = cores-5\n",
    "fmodel = RandomForestClassifier(n_estimators=500, n_jobs=f_cores, random_state=30)\n",
    "fmodel.fit(X_train_p, y_train)"
   ]
  },
  {
   "cell_type": "code",
   "execution_count": 70,
   "id": "43003201-251e-4b86-8739-bbf99c1e4c75",
   "metadata": {},
   "outputs": [
    {
     "data": {
      "text/plain": [
       "1.0"
      ]
     },
     "execution_count": 70,
     "metadata": {},
     "output_type": "execute_result"
    }
   ],
   "source": [
    "fmodel.score(X_train_p, y_train)"
   ]
  },
  {
   "cell_type": "code",
   "execution_count": 71,
   "id": "c729ae56-cb5a-49a7-aedd-f4b7492ac7a5",
   "metadata": {},
   "outputs": [
    {
     "data": {
      "text/plain": [
       "0.8115825994128636"
      ]
     },
     "execution_count": 71,
     "metadata": {},
     "output_type": "execute_result"
    }
   ],
   "source": [
    "fmodel.score(X_test_p, y_test)"
   ]
  },
  {
   "cell_type": "markdown",
   "id": "0a4673c3-ff43-4931-b7e4-61c9affe8e76",
   "metadata": {},
   "source": [
    "## SVM Classifier (SVC)"
   ]
  },
  {
   "cell_type": "code",
   "execution_count": null,
   "id": "957f078c-d828-4050-9d32-438e79a4b658",
   "metadata": {},
   "outputs": [],
   "source": [
    "%%notify\n",
    "param_grid = {\n",
    "    'C': [0.1, 1],\n",
    "    'kernel': ['linear', 'rbf', 'poly'],\n",
    "    #'epsilon': [0.1, 0.2, 0.5], # For regression models\n",
    "    'gamma': ['scale', 'auto']  # For RBF kernel\n",
    "}\n",
    "svc = SVC()\n",
    "\n",
    "grid_search = GridSearchCV(estimator=svc, param_grid=param_grid, scoring='accuracy', cv=5)\n",
    "\n",
    "grid_search.fit(X_train_p, y_train)\n",
    "\n",
    "best_params = grid_search.best_params_\n",
    "best_model = grid_search.best_estimator_\n",
    "predictions = best_model.predict(X_test_p)"
   ]
  },
  {
   "cell_type": "code",
   "execution_count": null,
   "id": "fd1fcc53-c2ea-4377-af9f-912c1cccb2cc",
   "metadata": {},
   "outputs": [],
   "source": [
    "best_model.score(X_train_p, y_train)"
   ]
  },
  {
   "cell_type": "code",
   "execution_count": null,
   "id": "91ba4793-1794-4634-8508-5cd88c7a5576",
   "metadata": {},
   "outputs": [],
   "source": [
    "best_model.score(X_test_p, y_test)"
   ]
  },
  {
   "cell_type": "markdown",
   "id": "4a517dda-824b-40af-aae0-fa06aa6c9923",
   "metadata": {},
   "source": [
    "## Gradient Boosted Tree Classifier"
   ]
  },
  {
   "cell_type": "code",
   "execution_count": null,
   "id": "aacc2789-6982-4de7-9a43-58a82b7013df",
   "metadata": {},
   "outputs": [],
   "source": [
    "# Choose a machine learning model (e.g., Logistic Regression) and train it\n",
    "learning_rates = [0.05, 0.1, 0.25, 0.5, 0.75, 1] \n",
    "for learning_rate in learning_rates: \n",
    "    GBmodel = GradientBoostingClassifier(n_estimators=100, \n",
    "                                      learning_rate=learning_rate,\n",
    "                                      max_features=2,\n",
    "                                      max_depth=3,\n",
    "                                      random_state=69)\n",
    "    GBmodel.fit(X_train_p, y_train.ravel())\n",
    "    print(\"Learning rate: \", learning_rate)\n",
    "    # Score the model\n",
    "    print(\"Accuracy score (training): {0:.3f}\".format(\n",
    "        GBmodel.score(\n",
    "            X_train_p,\n",
    "            y_train.ravel())))\n",
    "    print(\"Accuracy score (validation): {0:.3f}\".format(\n",
    "        GBmodel.score(\n",
    "            X_test_p,\n",
    "            y_test.ravel())))\n",
    "    print()"
   ]
  }
 ],
 "metadata": {
  "kernelspec": {
   "display_name": "Python 3 (ipykernel)",
   "language": "python",
   "name": "python3"
  },
  "language_info": {
   "codemirror_mode": {
    "name": "ipython",
    "version": 3
   },
   "file_extension": ".py",
   "mimetype": "text/x-python",
   "name": "python",
   "nbconvert_exporter": "python",
   "pygments_lexer": "ipython3",
   "version": "3.7.13"
  }
 },
 "nbformat": 4,
 "nbformat_minor": 5
}
