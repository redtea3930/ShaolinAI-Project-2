{
 "cells": [
  {
   "cell_type": "code",
   "execution_count": 1,
   "id": "b80b3cc5-603d-4724-9179-b1f762a2e8c0",
   "metadata": {},
   "outputs": [],
   "source": [
    "#import libraries\n",
    "import pandas as pd\n",
    "import numpy as np\n",
    "from pathlib import Path\n",
    "import matplotlib.pyplot as plt\n",
    "import seaborn as sns\n",
    "from sklearn.model_selection import train_test_split\n",
    "from sklearn.metrics import accuracy_score, classification_report, confusion_matrix\n",
    "from sklearn.preprocessing import StandardScaler\n",
    "from sklearn.decomposition import PCA\n",
    "from sklearn.linear_model import LogisticRegression\n",
    "from sklearn.ensemble import RandomForestClassifier\n",
    "from sklearn.svm import SVC\n",
    "from sklearn.model_selection import GridSearchCV\n",
    "import multiprocessing\n",
    "cores = multiprocessing.cpu_count()\n",
    "import os\n",
    "from time import time\n",
    "import torch\n",
    "from transformers import AutoModel, AutoTokenizer, AutoConfig\n",
    "from transformers import AutoModelForSequenceClassification\n",
    "from torch.utils.data import DataLoader\n",
    "import pickle"
   ]
  },
  {
   "cell_type": "code",
   "execution_count": null,
   "id": "b8e08946-4fd4-422f-8669-519037b0459f",
   "metadata": {},
   "outputs": [],
   "source": [
    "# To notify when cell is complete (comment out first line). Add %%notify to the first line of a cell to get notified\n",
    "# !pip uninstall jupyternotify -y\n",
    "!pip install git+https://github.com/cphyc/jupyter-notify.git\n",
    "%reload_ext jupyternotify"
   ]
  },
  {
   "cell_type": "code",
   "execution_count": 3,
   "id": "606c2cda-48a1-4431-be34-c839cf1cd02d",
   "metadata": {},
   "outputs": [],
   "source": [
    "# read in cleaned CSV\n",
    "filepath = Path('../massive.csv')\n",
    "massive = pd.read_csv(filepath)\n",
    "massive = massive.sample(n=16000)\n",
    "massive.reset_index(drop=True, inplace=True)"
   ]
  },
  {
   "cell_type": "markdown",
   "id": "aa421c2a-f53f-4ace-8c04-4bc8189c7da6",
   "metadata": {},
   "source": [
    "### Pre-processing"
   ]
  },
  {
   "cell_type": "code",
   "execution_count": 4,
   "id": "7043144f-4577-4804-a286-d00e82aeff78",
   "metadata": {},
   "outputs": [
    {
     "data": {
      "text/html": [
       "<div>\n",
       "<style scoped>\n",
       "    .dataframe tbody tr th:only-of-type {\n",
       "        vertical-align: middle;\n",
       "    }\n",
       "\n",
       "    .dataframe tbody tr th {\n",
       "        vertical-align: top;\n",
       "    }\n",
       "\n",
       "    .dataframe thead th {\n",
       "        text-align: right;\n",
       "    }\n",
       "</style>\n",
       "<table border=\"1\" class=\"dataframe\">\n",
       "  <thead>\n",
       "    <tr style=\"text-align: right;\">\n",
       "      <th></th>\n",
       "      <th>title</th>\n",
       "      <th>tomatoMeter</th>\n",
       "      <th>criticName</th>\n",
       "      <th>publicatioName</th>\n",
       "      <th>reviewText</th>\n",
       "      <th>scoreSentiment</th>\n",
       "      <th>delta</th>\n",
       "    </tr>\n",
       "  </thead>\n",
       "  <tbody>\n",
       "    <tr>\n",
       "      <th>0</th>\n",
       "      <td>Fractured</td>\n",
       "      <td>59.0</td>\n",
       "      <td>Scott Phillips</td>\n",
       "      <td>The Screen Scene</td>\n",
       "      <td>It's not bad, but it's not particularly good. ...</td>\n",
       "      <td>NEGATIVE</td>\n",
       "      <td>8.0</td>\n",
       "    </tr>\n",
       "  </tbody>\n",
       "</table>\n",
       "</div>"
      ],
      "text/plain": [
       "       title  tomatoMeter      criticName    publicatioName  \\\n",
       "0  Fractured         59.0  Scott Phillips  The Screen Scene   \n",
       "\n",
       "                                          reviewText scoreSentiment  delta  \n",
       "0  It's not bad, but it's not particularly good. ...       NEGATIVE    8.0  "
      ]
     },
     "execution_count": 4,
     "metadata": {},
     "output_type": "execute_result"
    }
   ],
   "source": [
    "# Dropping columns including audienceScore because it could unfairly help the model predict the delta. Leaving tomatoMeter to give the model a base of where the delta could be.\n",
    "massive = massive.drop(columns=['id', 'reviewId', 'creationDate', 'isTopCritic', 'reviewState', 'audienceScore'])\n",
    "massive.head(1)"
   ]
  },
  {
   "cell_type": "code",
   "execution_count": 99,
   "id": "d1f1d4e7-b81f-43d7-b824-bfa3492f604f",
   "metadata": {
    "collapsed": true,
    "jupyter": {
     "outputs_hidden": true
    },
    "tags": []
   },
   "outputs": [
    {
     "data": {
      "text/html": [
       "<div>\n",
       "<style scoped>\n",
       "    .dataframe tbody tr th:only-of-type {\n",
       "        vertical-align: middle;\n",
       "    }\n",
       "\n",
       "    .dataframe tbody tr th {\n",
       "        vertical-align: top;\n",
       "    }\n",
       "\n",
       "    .dataframe thead th {\n",
       "        text-align: right;\n",
       "    }\n",
       "</style>\n",
       "<table border=\"1\" class=\"dataframe\">\n",
       "  <thead>\n",
       "    <tr style=\"text-align: right;\">\n",
       "      <th></th>\n",
       "      <th>title</th>\n",
       "      <th>tomatoMeter</th>\n",
       "      <th>criticName</th>\n",
       "      <th>publicatioName</th>\n",
       "      <th>reviewText</th>\n",
       "      <th>scoreSentiment</th>\n",
       "      <th>delta</th>\n",
       "      <th>delta_category</th>\n",
       "    </tr>\n",
       "  </thead>\n",
       "  <tbody>\n",
       "    <tr>\n",
       "      <th>0</th>\n",
       "      <td>Fractured</td>\n",
       "      <td>59.0</td>\n",
       "      <td>Scott Phillips</td>\n",
       "      <td>The Screen Scene</td>\n",
       "      <td>It's not bad, but it's not particularly good. ...</td>\n",
       "      <td>NEGATIVE</td>\n",
       "      <td>8.0</td>\n",
       "      <td>2</td>\n",
       "    </tr>\n",
       "    <tr>\n",
       "      <th>1</th>\n",
       "      <td>Sherlock Holmes</td>\n",
       "      <td>69.0</td>\n",
       "      <td>Matthew Turner</td>\n",
       "      <td>ViewLondon</td>\n",
       "      <td>Sherlock Holmes is a surprisingly enjoyable ac...</td>\n",
       "      <td>POSITIVE</td>\n",
       "      <td>-8.0</td>\n",
       "      <td>2</td>\n",
       "    </tr>\n",
       "    <tr>\n",
       "      <th>2</th>\n",
       "      <td>Lilo &amp; Stitch 2: Stitch Has a Glitch</td>\n",
       "      <td>40.0</td>\n",
       "      <td>Willie Waffle</td>\n",
       "      <td>WaffleMovies.com</td>\n",
       "      <td>After a rough start, Lilo and Stitch 2 finally...</td>\n",
       "      <td>POSITIVE</td>\n",
       "      <td>-16.0</td>\n",
       "      <td>1</td>\n",
       "    </tr>\n",
       "    <tr>\n",
       "      <th>3</th>\n",
       "      <td>Dracula: Pages From a Virgin's Diary</td>\n",
       "      <td>87.0</td>\n",
       "      <td>Liz Braun</td>\n",
       "      <td>Jam! Movies</td>\n",
       "      <td>The visuals are stunning. The concept is clever.</td>\n",
       "      <td>POSITIVE</td>\n",
       "      <td>14.0</td>\n",
       "      <td>3</td>\n",
       "    </tr>\n",
       "    <tr>\n",
       "      <th>4</th>\n",
       "      <td>Gran Torino</td>\n",
       "      <td>81.0</td>\n",
       "      <td>Robert Roten</td>\n",
       "      <td>Laramie Movie Scope</td>\n",
       "      <td>He goes out as a hero. He can be forgiven if h...</td>\n",
       "      <td>POSITIVE</td>\n",
       "      <td>-9.0</td>\n",
       "      <td>2</td>\n",
       "    </tr>\n",
       "  </tbody>\n",
       "</table>\n",
       "</div>"
      ],
      "text/plain": [
       "                                  title  tomatoMeter      criticName  \\\n",
       "0                             Fractured         59.0  Scott Phillips   \n",
       "1                       Sherlock Holmes         69.0  Matthew Turner   \n",
       "2  Lilo & Stitch 2: Stitch Has a Glitch         40.0   Willie Waffle   \n",
       "3  Dracula: Pages From a Virgin's Diary         87.0       Liz Braun   \n",
       "4                           Gran Torino         81.0    Robert Roten   \n",
       "\n",
       "        publicatioName                                         reviewText  \\\n",
       "0     The Screen Scene  It's not bad, but it's not particularly good. ...   \n",
       "1           ViewLondon  Sherlock Holmes is a surprisingly enjoyable ac...   \n",
       "2     WaffleMovies.com  After a rough start, Lilo and Stitch 2 finally...   \n",
       "3          Jam! Movies   The visuals are stunning. The concept is clever.   \n",
       "4  Laramie Movie Scope  He goes out as a hero. He can be forgiven if h...   \n",
       "\n",
       "  scoreSentiment  delta delta_category  \n",
       "0       NEGATIVE    8.0              2  \n",
       "1       POSITIVE   -8.0              2  \n",
       "2       POSITIVE  -16.0              1  \n",
       "3       POSITIVE   14.0              3  \n",
       "4       POSITIVE   -9.0              2  "
      ]
     },
     "execution_count": 99,
     "metadata": {},
     "output_type": "execute_result"
    }
   ],
   "source": [
    "massive.head(5)"
   ]
  },
  {
   "cell_type": "code",
   "execution_count": 5,
   "id": "f1c54342-2a2d-40dd-9e09-3ada32d0de68",
   "metadata": {},
   "outputs": [],
   "source": [
    "# Binning delta column into 5 categories for Logistic regression\n",
    "bins = [-99, -26, -11, 10, 25, 99]\n",
    "labels = [0, 1, 2, 3, 4]\n",
    "massive['delta_category'] = pd.cut(massive['delta'], bins=bins, labels=labels)"
   ]
  },
  {
   "cell_type": "code",
   "execution_count": 6,
   "id": "b8673ded-49df-43d3-bf79-634ac7000096",
   "metadata": {},
   "outputs": [
    {
     "data": {
      "text/plain": [
       "title             0\n",
       "tomatoMeter       0\n",
       "criticName        0\n",
       "publicatioName    0\n",
       "reviewText        0\n",
       "scoreSentiment    0\n",
       "delta             0\n",
       "delta_category    0\n",
       "dtype: int64"
      ]
     },
     "execution_count": 6,
     "metadata": {},
     "output_type": "execute_result"
    }
   ],
   "source": [
    "massive.isnull().sum()"
   ]
  },
  {
   "cell_type": "code",
   "execution_count": 7,
   "id": "3038c20c-d453-4bfe-ba9c-f2ff38aec57c",
   "metadata": {},
   "outputs": [
    {
     "data": {
      "text/plain": [
       "title              7967\n",
       "tomatoMeter       15880\n",
       "criticName        12766\n",
       "publicatioName    14447\n",
       "reviewText            0\n",
       "scoreSentiment    15979\n",
       "delta             15860\n",
       "delta_category    15976\n",
       "dtype: int64"
      ]
     },
     "execution_count": 7,
     "metadata": {},
     "output_type": "execute_result"
    }
   ],
   "source": [
    "# Dropping duplicates\n",
    "massive = massive.drop_duplicates(subset='reviewText', keep='first')\n",
    "# Resetting index after dropping dupe's\n",
    "massive.reset_index(drop=True, inplace=True)\n",
    "# Checking for duplicates\n",
    "dup_df = massive.apply(lambda x: x.duplicated()).sum()\n",
    "dup_df"
   ]
  },
  {
   "cell_type": "markdown",
   "id": "ae9d64e9-84a5-4a10-a461-0ad5ac2d47bc",
   "metadata": {},
   "source": [
    "## Adding Athen picks (high delta outliers)"
   ]
  },
  {
   "cell_type": "code",
   "execution_count": 8,
   "id": "f409d5b6-47f2-43c2-bf9e-2099188409d5",
   "metadata": {},
   "outputs": [],
   "source": [
    "# Loading full massive df without samples, sorting, picking top 20 and bottom 20 delta entries\n",
    "massive_full = pd.read_csv(filepath)\n",
    "massive_full_sort = massive_full.sort_values(by='delta')\n",
    "massive_full_asc = massive_full_sort.head(2500)\n",
    "massive_full_desc = massive_full_sort.tail(2500)\n",
    "# Combine most positive and most negative delta dataframes\n",
    "massive_outliers = pd.concat([massive_full_asc, massive_full_desc], ignore_index=True)"
   ]
  },
  {
   "cell_type": "code",
   "execution_count": 9,
   "id": "8dfe2c3e-d5fa-488d-b7d8-57a19c2f2b9d",
   "metadata": {},
   "outputs": [],
   "source": [
    "# Create a list of titles from massive\n",
    "existing_titles = massive['title'].tolist()\n",
    "# Use isin() function to check if titles in massive_outliers exist in massive\n",
    "mask = massive_outliers['title'].isin(existing_titles)\n",
    "# Filter massive_outliers to keep only rows that don't exist in massive\n",
    "massive_outliers = massive_outliers[~mask]"
   ]
  },
  {
   "cell_type": "code",
   "execution_count": 11,
   "id": "36049e79-279e-47f6-a74a-6e79c477e1c3",
   "metadata": {},
   "outputs": [],
   "source": [
    "# Running above pre-processing code for massive_outliers\n",
    "massive_outliers = massive_outliers.drop(columns=['id', 'reviewId', 'creationDate', 'isTopCritic', 'reviewState', 'audienceScore'])\n",
    "# Binning delta column into 5 categories for Logistic regression\n",
    "massive_outliers['delta_category'] = pd.cut(massive_outliers['delta'], bins=bins, labels=labels)"
   ]
  },
  {
   "cell_type": "code",
   "execution_count": 12,
   "id": "0a573b3a-dbd1-4afa-bfdd-801f2c95fcaf",
   "metadata": {},
   "outputs": [],
   "source": [
    "# Append outliers to bottom of massive to feed model some outlier data\n",
    "massive_merge = pd.concat([massive, massive_outliers], ignore_index=True)"
   ]
  },
  {
   "cell_type": "code",
   "execution_count": 13,
   "id": "4e29d000-b41b-46f3-9836-329aa4e698a6",
   "metadata": {},
   "outputs": [
    {
     "data": {
      "text/html": [
       "<div>\n",
       "<style scoped>\n",
       "    .dataframe tbody tr th:only-of-type {\n",
       "        vertical-align: middle;\n",
       "    }\n",
       "\n",
       "    .dataframe tbody tr th {\n",
       "        vertical-align: top;\n",
       "    }\n",
       "\n",
       "    .dataframe thead th {\n",
       "        text-align: right;\n",
       "    }\n",
       "</style>\n",
       "<table border=\"1\" class=\"dataframe\">\n",
       "  <thead>\n",
       "    <tr style=\"text-align: right;\">\n",
       "      <th></th>\n",
       "      <th>title</th>\n",
       "      <th>tomatoMeter</th>\n",
       "      <th>criticName</th>\n",
       "      <th>publicatioName</th>\n",
       "      <th>reviewText</th>\n",
       "      <th>scoreSentiment</th>\n",
       "      <th>delta</th>\n",
       "      <th>delta_category</th>\n",
       "    </tr>\n",
       "  </thead>\n",
       "  <tbody>\n",
       "    <tr>\n",
       "      <th>19548</th>\n",
       "      <td>Knock Down the House</td>\n",
       "      <td>99.0</td>\n",
       "      <td>CJ Sheu</td>\n",
       "      <td>Critics at Large</td>\n",
       "      <td>If only the film had expanded this focus [on A...</td>\n",
       "      <td>NEGATIVE</td>\n",
       "      <td>88.0</td>\n",
       "      <td>4</td>\n",
       "    </tr>\n",
       "  </tbody>\n",
       "</table>\n",
       "</div>"
      ],
      "text/plain": [
       "                      title  tomatoMeter criticName    publicatioName  \\\n",
       "19548  Knock Down the House         99.0    CJ Sheu  Critics at Large   \n",
       "\n",
       "                                              reviewText scoreSentiment  \\\n",
       "19548  If only the film had expanded this focus [on A...       NEGATIVE   \n",
       "\n",
       "       delta delta_category  \n",
       "19548   88.0              4  "
      ]
     },
     "execution_count": 13,
     "metadata": {},
     "output_type": "execute_result"
    }
   ],
   "source": [
    "massive_merge.tail(1)"
   ]
  },
  {
   "cell_type": "markdown",
   "id": "a8fadd01-be44-40ce-bb2e-01e8a9f4da67",
   "metadata": {},
   "source": [
    "## Adding Selected Movies Curated by Jim"
   ]
  },
  {
   "cell_type": "code",
   "execution_count": 14,
   "id": "88c46344-ef12-4f55-99d5-01a78f93ccff",
   "metadata": {},
   "outputs": [
    {
     "data": {
      "text/html": [
       "<div>\n",
       "<style scoped>\n",
       "    .dataframe tbody tr th:only-of-type {\n",
       "        vertical-align: middle;\n",
       "    }\n",
       "\n",
       "    .dataframe tbody tr th {\n",
       "        vertical-align: top;\n",
       "    }\n",
       "\n",
       "    .dataframe thead th {\n",
       "        text-align: right;\n",
       "    }\n",
       "</style>\n",
       "<table border=\"1\" class=\"dataframe\">\n",
       "  <thead>\n",
       "    <tr style=\"text-align: right;\">\n",
       "      <th></th>\n",
       "      <th>title</th>\n",
       "      <th>tomatoMeter</th>\n",
       "      <th>criticName</th>\n",
       "      <th>publicatioName</th>\n",
       "      <th>reviewText</th>\n",
       "      <th>scoreSentiment</th>\n",
       "      <th>delta</th>\n",
       "      <th>delta_category</th>\n",
       "    </tr>\n",
       "  </thead>\n",
       "  <tbody>\n",
       "    <tr>\n",
       "      <th>0</th>\n",
       "      <td>Karen</td>\n",
       "      <td>17.0</td>\n",
       "      <td>Keith Garlington</td>\n",
       "      <td>Keith &amp; the Movies</td>\n",
       "      <td>You can&amp;#8217;t miss its bludgeoning message w...</td>\n",
       "      <td>NEGATIVE</td>\n",
       "      <td>-2.0</td>\n",
       "      <td>2</td>\n",
       "    </tr>\n",
       "  </tbody>\n",
       "</table>\n",
       "</div>"
      ],
      "text/plain": [
       "   title  tomatoMeter        criticName      publicatioName  \\\n",
       "0  Karen         17.0  Keith Garlington  Keith & the Movies   \n",
       "\n",
       "                                          reviewText scoreSentiment  delta  \\\n",
       "0  You can&#8217;t miss its bludgeoning message w...       NEGATIVE   -2.0   \n",
       "\n",
       "  delta_category  \n",
       "0              2  "
      ]
     },
     "execution_count": 14,
     "metadata": {},
     "output_type": "execute_result"
    }
   ],
   "source": [
    "# Grabbing reviews for Karen from massive full\n",
    "Karen = massive_full[massive_full['title'] == 'Karen'].copy()\n",
    "Karen.reset_index(drop=True, inplace=True)\n",
    "Karen = Karen.drop(columns=['id', 'reviewId', 'creationDate', 'isTopCritic', 'reviewState', 'audienceScore'])\n",
    "# Binning delta column into 5 categories for Logistic regression\n",
    "Karen['delta_category'] = pd.cut(Karen['delta'], bins=bins, labels=labels)\n",
    "Karen.head(1)"
   ]
  },
  {
   "cell_type": "code",
   "execution_count": 16,
   "id": "7647b4a7-5acc-47fd-b7bb-36b46e86c17a",
   "metadata": {},
   "outputs": [],
   "source": [
    "# Create a list of titles from massive\n",
    "existing_titles = massive['title'].tolist()\n",
    "# Use isin() function to check if titles in massive_outliers exist in massive\n",
    "mask = Karen['title'].isin(existing_titles)\n",
    "# Filter massive_outliers to keep only rows that don't exist in massive\n",
    "Karen = Karen[~mask]"
   ]
  },
  {
   "cell_type": "code",
   "execution_count": null,
   "id": "98667ede-e68d-403d-986a-72ca20a5b4dc",
   "metadata": {},
   "outputs": [],
   "source": [
    "# Manually copied reviews from rottentomatoes.com by Jim\n",
    "extract = pd.read_csv('extract.csv')\n",
    "extract['delta_category'] = pd.cut(extract['delta'], bins=bins, labels=labels)\n",
    "column_order = ['title', 'tomatoMeter', 'criticName', 'publicatioName', 'reviewText', 'scoreSentiment', 'delta', 'delta_category']\n",
    "extract = extract[column_order]\n",
    "extract"
   ]
  },
  {
   "cell_type": "code",
   "execution_count": null,
   "id": "a21d725f-d556-4e76-b204-81519a9d39f8",
   "metadata": {},
   "outputs": [],
   "source": [
    "massive_merge[massive_merge['title'] == 'Jigsaw']"
   ]
  },
  {
   "cell_type": "markdown",
   "id": "1a92a439-9a49-4f84-a81e-39f88f65035e",
   "metadata": {},
   "source": [
    "## BERT Vectorizer"
   ]
  },
  {
   "cell_type": "code",
   "execution_count": 19,
   "id": "c8ef3920-1a56-4063-8460-b6be9b18ba60",
   "metadata": {},
   "outputs": [
    {
     "name": "stderr",
     "output_type": "stream",
     "text": [
      "Some weights of the model checkpoint at activebus/BERT_Review were not used when initializing BertModel: ['cls.predictions.decoder.weight', 'cls.predictions.transform.LayerNorm.weight', 'cls.predictions.bias', 'cls.predictions.transform.LayerNorm.bias', 'cls.predictions.transform.dense.weight', 'cls.predictions.transform.dense.bias', 'cls.predictions.decoder.bias']\n",
      "- This IS expected if you are initializing BertModel from the checkpoint of a model trained on another task or with another architecture (e.g. initializing a BertForSequenceClassification model from a BertForPreTraining model).\n",
      "- This IS NOT expected if you are initializing BertModel from the checkpoint of a model that you expect to be exactly identical (initializing a BertForSequenceClassification model from a BertForSequenceClassification model).\n"
     ]
    }
   ],
   "source": [
    "# Pulling BERT from huggingface\n",
    "tokenizer = AutoTokenizer.from_pretrained(\"activebus/BERT_Review\")\n",
    "model = AutoModel.from_pretrained(\"activebus/BERT_Review\")"
   ]
  },
  {
   "cell_type": "code",
   "execution_count": 20,
   "id": "f02aa687-093e-4da1-97ff-f440bb5c26b3",
   "metadata": {},
   "outputs": [
    {
     "data": {
      "text/html": [
       "<div>\n",
       "<style scoped>\n",
       "    .dataframe tbody tr th:only-of-type {\n",
       "        vertical-align: middle;\n",
       "    }\n",
       "\n",
       "    .dataframe tbody tr th {\n",
       "        vertical-align: top;\n",
       "    }\n",
       "\n",
       "    .dataframe thead th {\n",
       "        text-align: right;\n",
       "    }\n",
       "</style>\n",
       "<table border=\"1\" class=\"dataframe\">\n",
       "  <thead>\n",
       "    <tr style=\"text-align: right;\">\n",
       "      <th></th>\n",
       "      <th>title</th>\n",
       "      <th>tomatoMeter</th>\n",
       "      <th>criticName</th>\n",
       "      <th>publicatioName</th>\n",
       "      <th>reviewText</th>\n",
       "      <th>scoreSentiment</th>\n",
       "      <th>delta</th>\n",
       "      <th>delta_category</th>\n",
       "      <th>embeddings</th>\n",
       "    </tr>\n",
       "  </thead>\n",
       "  <tbody>\n",
       "    <tr>\n",
       "      <th>0</th>\n",
       "      <td>Karen</td>\n",
       "      <td>17.0</td>\n",
       "      <td>Keith Garlington</td>\n",
       "      <td>Keith &amp; the Movies</td>\n",
       "      <td>You can&amp;#8217;t miss its bludgeoning message w...</td>\n",
       "      <td>NEGATIVE</td>\n",
       "      <td>-2.0</td>\n",
       "      <td>2</td>\n",
       "      <td>[-0.47593927, 0.72280616, -0.01203326, -0.0237...</td>\n",
       "    </tr>\n",
       "    <tr>\n",
       "      <th>1</th>\n",
       "      <td>Karen</td>\n",
       "      <td>17.0</td>\n",
       "      <td>Jordan Elizabeth</td>\n",
       "      <td>Common Sense Media</td>\n",
       "      <td>Karen is a kitschy representation of a very re...</td>\n",
       "      <td>NEGATIVE</td>\n",
       "      <td>-2.0</td>\n",
       "      <td>2</td>\n",
       "      <td>[-0.14955108, 0.226287, -0.19022815, -0.315930...</td>\n",
       "    </tr>\n",
       "  </tbody>\n",
       "</table>\n",
       "</div>"
      ],
      "text/plain": [
       "   title  tomatoMeter        criticName      publicatioName  \\\n",
       "0  Karen         17.0  Keith Garlington  Keith & the Movies   \n",
       "1  Karen         17.0  Jordan Elizabeth  Common Sense Media   \n",
       "\n",
       "                                          reviewText scoreSentiment  delta  \\\n",
       "0  You can&#8217;t miss its bludgeoning message w...       NEGATIVE   -2.0   \n",
       "1  Karen is a kitschy representation of a very re...       NEGATIVE   -2.0   \n",
       "\n",
       "  delta_category                                         embeddings  \n",
       "0              2  [-0.47593927, 0.72280616, -0.01203326, -0.0237...  \n",
       "1              2  [-0.14955108, 0.226287, -0.19022815, -0.315930...  "
      ]
     },
     "execution_count": 20,
     "metadata": {},
     "output_type": "execute_result"
    },
    {
     "data": {
      "application/javascript": [
       "$(document).ready(\n",
       "    function() {\n",
       "        function appendUniqueDiv(){\n",
       "            // append a div with our uuid so we can check that it's already\n",
       "            // been sent and avoid duplicates on page reload\n",
       "            var notifiedDiv = document.createElement(\"div\")\n",
       "            notifiedDiv.id = \"7d331b11-2e41-47c5-886e-c4f49754dded\"\n",
       "            element.append(notifiedDiv)\n",
       "        }\n",
       "\n",
       "        // only send notifications if the pageload is complete; this will\n",
       "        // help stop extra notifications when a saved notebook is loaded,\n",
       "        // which during testing gives us state \"interactive\", not \"complete\"\n",
       "        if (document.readyState === 'complete') {\n",
       "            // check for the div that signifies that the notification\n",
       "            // was already sent\n",
       "            if (document.getElementById(\"7d331b11-2e41-47c5-886e-c4f49754dded\") === null) {\n",
       "                var notificationPayload = {\"requireInteraction\": false, \"icon\": \"/static/base/images/favicon.ico\", \"body\": \"Cell execution has finished!\", \"only_in_background\": false};\n",
       "\n",
       "                // We have a notification but the window is active\n",
       "                if (notificationPayload.only_in_background && !window.jupyterNotifyIsInBackground) {\n",
       "                    appendUniqueDiv();\n",
       "                    return;\n",
       "                }\n",
       "                if (Notification.permission !== 'denied') {\n",
       "                    if (Notification.permission !== 'granted') { \n",
       "                        Notification.requestPermission(function (permission) {\n",
       "                            if(!('permission' in Notification)) {\n",
       "                                Notification.permission = permission\n",
       "                            }\n",
       "                        })\n",
       "                    }\n",
       "                    if (Notification.permission === 'granted') {\n",
       "                    var notification = new Notification(\"Jupyter Notebook\", notificationPayload)\n",
       "                    appendUniqueDiv()\n",
       "                    notification.onclick = function () {\n",
       "                        window.focus();\n",
       "                        this.close();\n",
       "                        };\n",
       "                    } \n",
       "                }     \n",
       "            }\n",
       "        }\n",
       "    }\n",
       ")\n"
      ],
      "text/plain": [
       "<IPython.core.display.Javascript object>"
      ]
     },
     "metadata": {},
     "output_type": "display_data"
    }
   ],
   "source": [
    "%%notify\n",
    "# Text preprocessing function\n",
    "def preprocess(text):\n",
    "    # Replace &#8217; and &#44; with an empty string\n",
    "    cleaned_text = text.replace(\"&#8217;\", \"\")\n",
    "    cleaned_text = cleaned_text.replace(\"&#44;\", \"\")\n",
    "    # Split the cleaned text into tokens\n",
    "    tokens = cleaned_text.split(\" \")\n",
    "    # Remove empty tokens\n",
    "    tokens = [t for t in tokens if t]\n",
    "    # Join the cleaned tokens back together\n",
    "    cleaned_text = \" \".join(tokens)\n",
    "    return cleaned_text\n",
    "\n",
    "# Function to vectorize text with BERT\n",
    "def get_embedding(text):\n",
    "    text = preprocess(text)\n",
    "    encoded_input = tokenizer(text, return_tensors='pt')\n",
    "    features = model(**encoded_input)\n",
    "    features = features[0].detach().numpy() \n",
    "    features_mean = np.mean(features[0], axis=0) \n",
    "    return features_mean\n",
    "# Applying the function to reviewText and outputting to embeddings column\n",
    "Karen['embeddings'] = Karen.reviewText.map(lambda x: get_embedding(x))\n",
    "extract['embeddings'] = extract.reviewText.map(lambda x: get_embedding(x))\n",
    "massive_merge['embeddings'] = massive_merge.reviewText.map(lambda x: get_embedding(x))\n",
    "Karen.head(2)"
   ]
  },
  {
   "cell_type": "code",
   "execution_count": 29,
   "id": "4b7e41bb-3b41-4746-9f79-1c793c56ad8f",
   "metadata": {},
   "outputs": [
    {
     "data": {
      "text/html": [
       "<div>\n",
       "<style scoped>\n",
       "    .dataframe tbody tr th:only-of-type {\n",
       "        vertical-align: middle;\n",
       "    }\n",
       "\n",
       "    .dataframe tbody tr th {\n",
       "        vertical-align: top;\n",
       "    }\n",
       "\n",
       "    .dataframe thead th {\n",
       "        text-align: right;\n",
       "    }\n",
       "</style>\n",
       "<table border=\"1\" class=\"dataframe\">\n",
       "  <thead>\n",
       "    <tr style=\"text-align: right;\">\n",
       "      <th></th>\n",
       "      <th>title</th>\n",
       "      <th>tomatoMeter</th>\n",
       "      <th>criticName</th>\n",
       "      <th>publicatioName</th>\n",
       "      <th>reviewText</th>\n",
       "      <th>scoreSentiment</th>\n",
       "      <th>delta</th>\n",
       "      <th>delta_category</th>\n",
       "      <th>embeddings</th>\n",
       "    </tr>\n",
       "  </thead>\n",
       "  <tbody>\n",
       "    <tr>\n",
       "      <th>19549</th>\n",
       "      <td>Karen</td>\n",
       "      <td>17.0</td>\n",
       "      <td>Keith Garlington</td>\n",
       "      <td>Keith &amp; the Movies</td>\n",
       "      <td>You can&amp;#8217;t miss its bludgeoning message w...</td>\n",
       "      <td>NEGATIVE</td>\n",
       "      <td>-2.0</td>\n",
       "      <td>2</td>\n",
       "      <td>[-0.47593927, 0.72280616, -0.01203326, -0.0237...</td>\n",
       "    </tr>\n",
       "  </tbody>\n",
       "</table>\n",
       "</div>"
      ],
      "text/plain": [
       "       title  tomatoMeter        criticName      publicatioName  \\\n",
       "19549  Karen         17.0  Keith Garlington  Keith & the Movies   \n",
       "\n",
       "                                              reviewText scoreSentiment  \\\n",
       "19549  You can&#8217;t miss its bludgeoning message w...       NEGATIVE   \n",
       "\n",
       "       delta delta_category                                         embeddings  \n",
       "19549   -2.0              2  [-0.47593927, 0.72280616, -0.01203326, -0.0237...  "
      ]
     },
     "execution_count": 29,
     "metadata": {},
     "output_type": "execute_result"
    }
   ],
   "source": [
    "massive_merge.iloc[19549:19550] #17830 is first Karen entry"
   ]
  },
  {
   "cell_type": "code",
   "execution_count": 96,
   "id": "b91742d7-c1b5-44c4-ad9b-a67556ca0b65",
   "metadata": {
    "collapsed": true,
    "jupyter": {
     "outputs_hidden": true
    },
    "tags": []
   },
   "outputs": [
    {
     "data": {
      "text/html": [
       "<div>\n",
       "<style scoped>\n",
       "    .dataframe tbody tr th:only-of-type {\n",
       "        vertical-align: middle;\n",
       "    }\n",
       "\n",
       "    .dataframe tbody tr th {\n",
       "        vertical-align: top;\n",
       "    }\n",
       "\n",
       "    .dataframe thead th {\n",
       "        text-align: right;\n",
       "    }\n",
       "</style>\n",
       "<table border=\"1\" class=\"dataframe\">\n",
       "  <thead>\n",
       "    <tr style=\"text-align: right;\">\n",
       "      <th></th>\n",
       "      <th>tomatoMeter</th>\n",
       "      <th>delta_category</th>\n",
       "      <th>title_\"Sr.\"</th>\n",
       "      <th>title_#Unfit: The Psychology of Donald Trump</th>\n",
       "      <th>title_$upercapitalist</th>\n",
       "      <th>title_(500) Days of Summer</th>\n",
       "      <th>title_(Untitled)</th>\n",
       "      <th>title_*batteries not Included</th>\n",
       "      <th>title_1</th>\n",
       "      <th>title_1-800-Hot-Nite</th>\n",
       "      <th>...</th>\n",
       "      <th>publicatioName_eFilmCritic.com</th>\n",
       "      <th>publicatioName_film-authority.com</th>\n",
       "      <th>publicatioName_indieWire</th>\n",
       "      <th>publicatioName_jackiekcooper.com</th>\n",
       "      <th>publicatioName_jimschembri.com</th>\n",
       "      <th>publicatioName_rachelsreviews.net</th>\n",
       "      <th>publicatioName_rec.arts.movies.reviews</th>\n",
       "      <th>publicatioName_sbs.com.au</th>\n",
       "      <th>scoreSentiment_NEGATIVE</th>\n",
       "      <th>scoreSentiment_POSITIVE</th>\n",
       "    </tr>\n",
       "  </thead>\n",
       "  <tbody>\n",
       "    <tr>\n",
       "      <th>19601</th>\n",
       "      <td>83.0</td>\n",
       "      <td>4</td>\n",
       "      <td>0</td>\n",
       "      <td>0</td>\n",
       "      <td>0</td>\n",
       "      <td>0</td>\n",
       "      <td>0</td>\n",
       "      <td>0</td>\n",
       "      <td>0</td>\n",
       "      <td>0</td>\n",
       "      <td>...</td>\n",
       "      <td>0</td>\n",
       "      <td>0</td>\n",
       "      <td>0</td>\n",
       "      <td>0</td>\n",
       "      <td>0</td>\n",
       "      <td>0</td>\n",
       "      <td>0</td>\n",
       "      <td>0</td>\n",
       "      <td>0</td>\n",
       "      <td>1</td>\n",
       "    </tr>\n",
       "  </tbody>\n",
       "</table>\n",
       "<p>1 rows × 9663 columns</p>\n",
       "</div>"
      ],
      "text/plain": [
       "       tomatoMeter delta_category  title_\"Sr.\"  \\\n",
       "19601         83.0              4            0   \n",
       "\n",
       "       title_#Unfit: The Psychology of Donald Trump  title_$upercapitalist  \\\n",
       "19601                                             0                      0   \n",
       "\n",
       "       title_(500) Days of Summer  title_(Untitled)  \\\n",
       "19601                           0                 0   \n",
       "\n",
       "       title_*batteries not Included  title_1  title_1-800-Hot-Nite  ...  \\\n",
       "19601                              0        0                     0  ...   \n",
       "\n",
       "       publicatioName_eFilmCritic.com  publicatioName_film-authority.com  \\\n",
       "19601                               0                                  0   \n",
       "\n",
       "       publicatioName_indieWire  publicatioName_jackiekcooper.com  \\\n",
       "19601                         0                                 0   \n",
       "\n",
       "       publicatioName_jimschembri.com  publicatioName_rachelsreviews.net  \\\n",
       "19601                               0                                  0   \n",
       "\n",
       "       publicatioName_rec.arts.movies.reviews  publicatioName_sbs.com.au  \\\n",
       "19601                                       0                          0   \n",
       "\n",
       "       scoreSentiment_NEGATIVE  scoreSentiment_POSITIVE  \n",
       "19601                        0                        1  \n",
       "\n",
       "[1 rows x 9663 columns]"
      ]
     },
     "execution_count": 96,
     "metadata": {},
     "output_type": "execute_result"
    }
   ],
   "source": [
    "massive_merge.tail(1)"
   ]
  },
  {
   "cell_type": "code",
   "execution_count": 23,
   "id": "c72f7dcc-278b-4af3-8e3d-71467112b98c",
   "metadata": {},
   "outputs": [],
   "source": [
    "# Append Karen and extract to bottom of massive merge, will later use them as test data\n",
    "massive_merge = pd.concat([massive_merge, Karen], ignore_index=True)\n",
    "massive_merge = pd.concat([massive_merge, extract], ignore_index=True)"
   ]
  },
  {
   "cell_type": "code",
   "execution_count": 31,
   "id": "637ab241-6df2-44c9-84a7-957aed4db95b",
   "metadata": {},
   "outputs": [
    {
     "data": {
      "text/plain": [
       "array([[-0.43389595,  0.34827933, -0.2383406 , ..., -0.19308986,\n",
       "         0.16802344,  0.09420886],\n",
       "       [-0.14234835,  0.07326289,  0.20431201, ..., -0.00971311,\n",
       "         0.40391847, -0.03476195],\n",
       "       [-0.16884245,  0.16325556,  0.21106704, ..., -0.06948403,\n",
       "         0.40979126,  0.01262082],\n",
       "       ...,\n",
       "       [-0.40600485,  0.47996828, -0.06811081, ..., -0.00080269,\n",
       "         0.32329607,  0.08391051],\n",
       "       [-0.05602273,  0.62315124, -0.15400185, ..., -0.25609121,\n",
       "         0.44035068,  0.13438614],\n",
       "       [-0.25505507,  0.55469555, -0.07458504, ..., -0.13576549,\n",
       "         0.2006789 , -0.00410696]])"
      ]
     },
     "execution_count": 31,
     "metadata": {},
     "output_type": "execute_result"
    }
   ],
   "source": [
    "# Converting embeddings column to numpy array\n",
    "vectors = np.array(massive_merge.embeddings.tolist(), dtype='float')\n",
    "vectors[:10]"
   ]
  },
  {
   "cell_type": "code",
   "execution_count": 32,
   "id": "f52aa422-801e-4535-9bd5-be70318786bc",
   "metadata": {},
   "outputs": [
    {
     "data": {
      "text/html": [
       "<div>\n",
       "<style scoped>\n",
       "    .dataframe tbody tr th:only-of-type {\n",
       "        vertical-align: middle;\n",
       "    }\n",
       "\n",
       "    .dataframe tbody tr th {\n",
       "        vertical-align: top;\n",
       "    }\n",
       "\n",
       "    .dataframe thead th {\n",
       "        text-align: right;\n",
       "    }\n",
       "</style>\n",
       "<table border=\"1\" class=\"dataframe\">\n",
       "  <thead>\n",
       "    <tr style=\"text-align: right;\">\n",
       "      <th></th>\n",
       "      <th>col1</th>\n",
       "      <th>col2</th>\n",
       "      <th>col3</th>\n",
       "      <th>col4</th>\n",
       "      <th>col5</th>\n",
       "      <th>col6</th>\n",
       "      <th>col7</th>\n",
       "      <th>col8</th>\n",
       "      <th>col9</th>\n",
       "      <th>col10</th>\n",
       "      <th>...</th>\n",
       "      <th>col759</th>\n",
       "      <th>col760</th>\n",
       "      <th>col761</th>\n",
       "      <th>col762</th>\n",
       "      <th>col763</th>\n",
       "      <th>col764</th>\n",
       "      <th>col765</th>\n",
       "      <th>col766</th>\n",
       "      <th>col767</th>\n",
       "      <th>col768</th>\n",
       "    </tr>\n",
       "  </thead>\n",
       "  <tbody>\n",
       "    <tr>\n",
       "      <th>19600</th>\n",
       "      <td>0.052963</td>\n",
       "      <td>0.162317</td>\n",
       "      <td>0.125751</td>\n",
       "      <td>-0.098146</td>\n",
       "      <td>0.011355</td>\n",
       "      <td>-0.224838</td>\n",
       "      <td>0.154928</td>\n",
       "      <td>0.506497</td>\n",
       "      <td>-0.009151</td>\n",
       "      <td>-0.691070</td>\n",
       "      <td>...</td>\n",
       "      <td>0.058181</td>\n",
       "      <td>0.066088</td>\n",
       "      <td>-0.074512</td>\n",
       "      <td>-0.050494</td>\n",
       "      <td>0.053227</td>\n",
       "      <td>-0.017694</td>\n",
       "      <td>-0.010848</td>\n",
       "      <td>-0.236267</td>\n",
       "      <td>0.308740</td>\n",
       "      <td>0.084204</td>\n",
       "    </tr>\n",
       "    <tr>\n",
       "      <th>19601</th>\n",
       "      <td>-0.208760</td>\n",
       "      <td>0.327155</td>\n",
       "      <td>0.229765</td>\n",
       "      <td>-0.184427</td>\n",
       "      <td>0.071725</td>\n",
       "      <td>-0.157181</td>\n",
       "      <td>0.099763</td>\n",
       "      <td>0.565991</td>\n",
       "      <td>-0.044930</td>\n",
       "      <td>-0.406662</td>\n",
       "      <td>...</td>\n",
       "      <td>0.044122</td>\n",
       "      <td>-0.092793</td>\n",
       "      <td>0.179549</td>\n",
       "      <td>-0.047291</td>\n",
       "      <td>-0.162539</td>\n",
       "      <td>-0.181654</td>\n",
       "      <td>0.363411</td>\n",
       "      <td>-0.151188</td>\n",
       "      <td>0.146897</td>\n",
       "      <td>-0.001422</td>\n",
       "    </tr>\n",
       "  </tbody>\n",
       "</table>\n",
       "<p>2 rows × 768 columns</p>\n",
       "</div>"
      ],
      "text/plain": [
       "           col1      col2      col3      col4      col5      col6      col7  \\\n",
       "19600  0.052963  0.162317  0.125751 -0.098146  0.011355 -0.224838  0.154928   \n",
       "19601 -0.208760  0.327155  0.229765 -0.184427  0.071725 -0.157181  0.099763   \n",
       "\n",
       "           col8      col9     col10  ...    col759    col760    col761  \\\n",
       "19600  0.506497 -0.009151 -0.691070  ...  0.058181  0.066088 -0.074512   \n",
       "19601  0.565991 -0.044930 -0.406662  ...  0.044122 -0.092793  0.179549   \n",
       "\n",
       "         col762    col763    col764    col765    col766    col767    col768  \n",
       "19600 -0.050494  0.053227 -0.017694 -0.010848 -0.236267  0.308740  0.084204  \n",
       "19601 -0.047291 -0.162539 -0.181654  0.363411 -0.151188  0.146897 -0.001422  \n",
       "\n",
       "[2 rows x 768 columns]"
      ]
     },
     "execution_count": 32,
     "metadata": {},
     "output_type": "execute_result"
    }
   ],
   "source": [
    "# Flattening numpy array and creating dataframe with it\n",
    "v_df = pd.DataFrame(vectors, columns=[f'col{i+1}' for i in range(vectors.shape[1])])\n",
    "v_df.tail(2)"
   ]
  },
  {
   "cell_type": "code",
   "execution_count": 33,
   "id": "688d5fd1-c80d-47f4-8c52-4bc91ec9cdd4",
   "metadata": {},
   "outputs": [],
   "source": [
    "# Dropping review text now it is vectorized, and dropping embeddings now that it is flattened\n",
    "massive_merge = massive_merge.drop(columns=['reviewText', 'embeddings', 'delta'])"
   ]
  },
  {
   "cell_type": "code",
   "execution_count": 34,
   "id": "66941dde-e810-4c38-b202-daed024aa859",
   "metadata": {},
   "outputs": [
    {
     "data": {
      "text/plain": [
       "title             0\n",
       "tomatoMeter       0\n",
       "criticName        0\n",
       "publicatioName    0\n",
       "scoreSentiment    0\n",
       "delta_category    0\n",
       "dtype: int64"
      ]
     },
     "execution_count": 34,
     "metadata": {},
     "output_type": "execute_result"
    }
   ],
   "source": [
    "massive_merge.isnull().sum().head(9)"
   ]
  },
  {
   "cell_type": "markdown",
   "id": "fca18b30-14b3-41f7-ae95-809182f5c2a8",
   "metadata": {},
   "source": [
    "### Encoding categorical columns"
   ]
  },
  {
   "cell_type": "code",
   "execution_count": 36,
   "id": "5dac35c1-4c06-49fd-b618-61b900391658",
   "metadata": {},
   "outputs": [
    {
     "data": {
      "text/plain": [
       "Other                10449\n",
       "Dennis Schwartz        145\n",
       "Roger Moore            130\n",
       "David Nusair           123\n",
       "Roger Ebert            104\n",
       "                     ...  \n",
       "Gary Goldstein          16\n",
       "Jake Wilson             16\n",
       "Chris Hicks             16\n",
       "Henry Fitzherbert       16\n",
       "Keshav Kant             16\n",
       "Name: criticName, Length: 307, dtype: int64"
      ]
     },
     "execution_count": 36,
     "metadata": {},
     "output_type": "execute_result"
    }
   ],
   "source": [
    "# Renaming the least-appearing critics as Other to later be encoded as the same critic\n",
    "counts = massive_merge.criticName.value_counts()\n",
    "threshold = massive_merge.criticName.isin(counts.index[counts<16])\n",
    "massive_merge.loc[threshold, 'criticName'] = 'Other'\n",
    "massive_merge['criticName'].value_counts()"
   ]
  },
  {
   "cell_type": "code",
   "execution_count": 37,
   "id": "0a6b0a96-a932-4eaf-a06b-4ab22e1ea42a",
   "metadata": {},
   "outputs": [
    {
     "data": {
      "text/plain": [
       "Other                           4265\n",
       "New York Times                   277\n",
       "Variety                          220\n",
       "Los Angeles Times                209\n",
       "Village Voice                    181\n",
       "                                ... \n",
       "The Skinny                        12\n",
       "The Dispatch (Lexington, NC)      12\n",
       "The Hollywood Outsider            12\n",
       "MSN Movies                        12\n",
       "Marvelous Geeks Media             12\n",
       "Name: publicatioName, Length: 435, dtype: int64"
      ]
     },
     "execution_count": 37,
     "metadata": {},
     "output_type": "execute_result"
    }
   ],
   "source": [
    "# Repeat for publications\n",
    "counts = massive_merge.publicatioName.value_counts()\n",
    "threshold = massive_merge.publicatioName.isin(counts.index[counts<12])\n",
    "massive_merge.loc[threshold, 'publicatioName'] = 'Other'\n",
    "massive_merge['publicatioName'].value_counts()"
   ]
  },
  {
   "cell_type": "code",
   "execution_count": 38,
   "id": "c935d9a7-59a9-4b8c-a9d1-0e79ab7882c7",
   "metadata": {},
   "outputs": [],
   "source": [
    "# List of columns to dummy\n",
    "categorical_cols = ['title', 'criticName', 'publicatioName', 'scoreSentiment'] \n",
    "# Get dummies on categorical columns\n",
    "massive_merge = pd.get_dummies(massive_merge, columns = categorical_cols)"
   ]
  },
  {
   "cell_type": "markdown",
   "id": "fab508a0-4f8e-4d65-aace-b9f0a0239fa8",
   "metadata": {},
   "source": [
    "### Final pre-processing, splitting, scaling, PCA"
   ]
  },
  {
   "cell_type": "code",
   "execution_count": 39,
   "id": "42303d3e-b19d-4849-bf9a-6edc2c08859e",
   "metadata": {},
   "outputs": [
    {
     "data": {
      "text/html": [
       "<div>\n",
       "<style scoped>\n",
       "    .dataframe tbody tr th:only-of-type {\n",
       "        vertical-align: middle;\n",
       "    }\n",
       "\n",
       "    .dataframe tbody tr th {\n",
       "        vertical-align: top;\n",
       "    }\n",
       "\n",
       "    .dataframe thead th {\n",
       "        text-align: right;\n",
       "    }\n",
       "</style>\n",
       "<table border=\"1\" class=\"dataframe\">\n",
       "  <thead>\n",
       "    <tr style=\"text-align: right;\">\n",
       "      <th></th>\n",
       "      <th>tomatoMeter</th>\n",
       "      <th>delta_category</th>\n",
       "      <th>title_\"Sr.\"</th>\n",
       "      <th>title_#Unfit: The Psychology of Donald Trump</th>\n",
       "      <th>title_$upercapitalist</th>\n",
       "      <th>title_(500) Days of Summer</th>\n",
       "      <th>title_(Untitled)</th>\n",
       "      <th>title_*batteries not Included</th>\n",
       "      <th>title_1</th>\n",
       "      <th>title_1-800-Hot-Nite</th>\n",
       "      <th>...</th>\n",
       "      <th>col759</th>\n",
       "      <th>col760</th>\n",
       "      <th>col761</th>\n",
       "      <th>col762</th>\n",
       "      <th>col763</th>\n",
       "      <th>col764</th>\n",
       "      <th>col765</th>\n",
       "      <th>col766</th>\n",
       "      <th>col767</th>\n",
       "      <th>col768</th>\n",
       "    </tr>\n",
       "  </thead>\n",
       "  <tbody>\n",
       "    <tr>\n",
       "      <th>19601</th>\n",
       "      <td>83.0</td>\n",
       "      <td>4</td>\n",
       "      <td>0</td>\n",
       "      <td>0</td>\n",
       "      <td>0</td>\n",
       "      <td>0</td>\n",
       "      <td>0</td>\n",
       "      <td>0</td>\n",
       "      <td>0</td>\n",
       "      <td>0</td>\n",
       "      <td>...</td>\n",
       "      <td>0.044122</td>\n",
       "      <td>-0.092793</td>\n",
       "      <td>0.179549</td>\n",
       "      <td>-0.047291</td>\n",
       "      <td>-0.162539</td>\n",
       "      <td>-0.181654</td>\n",
       "      <td>0.363411</td>\n",
       "      <td>-0.151188</td>\n",
       "      <td>0.146897</td>\n",
       "      <td>-0.001422</td>\n",
       "    </tr>\n",
       "  </tbody>\n",
       "</table>\n",
       "<p>1 rows × 10431 columns</p>\n",
       "</div>"
      ],
      "text/plain": [
       "       tomatoMeter delta_category  title_\"Sr.\"  \\\n",
       "19601         83.0              4            0   \n",
       "\n",
       "       title_#Unfit: The Psychology of Donald Trump  title_$upercapitalist  \\\n",
       "19601                                             0                      0   \n",
       "\n",
       "       title_(500) Days of Summer  title_(Untitled)  \\\n",
       "19601                           0                 0   \n",
       "\n",
       "       title_*batteries not Included  title_1  title_1-800-Hot-Nite  ...  \\\n",
       "19601                              0        0                     0  ...   \n",
       "\n",
       "         col759    col760    col761    col762    col763    col764    col765  \\\n",
       "19601  0.044122 -0.092793  0.179549 -0.047291 -0.162539 -0.181654  0.363411   \n",
       "\n",
       "         col766    col767    col768  \n",
       "19601 -0.151188  0.146897 -0.001422  \n",
       "\n",
       "[1 rows x 10431 columns]"
      ]
     },
     "execution_count": 39,
     "metadata": {},
     "output_type": "execute_result"
    }
   ],
   "source": [
    "# Joining massive df with vectorized df\n",
    "combined = pd.concat([massive_merge, v_df], axis=1)\n",
    "combined.tail(1)"
   ]
  },
  {
   "cell_type": "code",
   "execution_count": 40,
   "id": "d906e54b-c61a-4b7e-ad19-e4aa6ffa7232",
   "metadata": {
    "tags": []
   },
   "outputs": [],
   "source": [
    "# Splitting train and test from combined dataframe by bottom rows\n",
    "# Gathering total rows of combined\n",
    "total_rows = len(combined)\n",
    "# Number of rows to keep for training (all except the last n, which are from Athen & Jim picks)\n",
    "train_rows = total_rows - 53\n",
    "# Splitting Train from massive df and Test from massive_outliers\n",
    "combined_main = combined.iloc[:train_rows, :]\n",
    "combined_val = combined.iloc[train_rows:, :]"
   ]
  },
  {
   "cell_type": "code",
   "execution_count": 47,
   "id": "45eb7501-223f-4143-b24e-109a50f95ff0",
   "metadata": {},
   "outputs": [],
   "source": [
    "# Splitting X and y\n",
    "X = combined_main.drop(columns=['delta_category'])\n",
    "y = combined_main['delta_category']"
   ]
  },
  {
   "cell_type": "code",
   "execution_count": 48,
   "id": "3b47eb9e-3486-400e-9f1e-caa2bf709d48",
   "metadata": {
    "tags": []
   },
   "outputs": [],
   "source": [
    "# Splitting X and y\n",
    "X_val = combined_val.drop(columns=['delta_category'])\n",
    "y_val = combined_val['delta_category']\n",
    "# Converting Category datatype to integer\n",
    "y_val = y_val.cat.codes"
   ]
  },
  {
   "cell_type": "code",
   "execution_count": 49,
   "id": "eb89e1f1-0bff-4f86-8651-a43c7a1ef3bc",
   "metadata": {
    "tags": []
   },
   "outputs": [],
   "source": [
    "X_train, X_test, y_train, y_test = train_test_split(X, y, test_size=0.25, random_state=42)\n",
    "y_train = y_train.cat.codes\n",
    "y_test = y_test.cat.codes"
   ]
  },
  {
   "cell_type": "code",
   "execution_count": 50,
   "id": "3ca3d855-6d54-4f08-a154-8263c060c0a5",
   "metadata": {},
   "outputs": [
    {
     "data": {
      "text/plain": [
       "0"
      ]
     },
     "execution_count": 50,
     "metadata": {},
     "output_type": "execute_result"
    }
   ],
   "source": [
    "X_train.isnull().sum().sum()"
   ]
  },
  {
   "cell_type": "code",
   "execution_count": 51,
   "id": "c7540d4b-fec3-4010-871c-1c04310b757c",
   "metadata": {},
   "outputs": [
    {
     "data": {
      "text/plain": [
       "4787     2\n",
       "9696     3\n",
       "17476    0\n",
       "5849     3\n",
       "7285     1\n",
       "dtype: int8"
      ]
     },
     "execution_count": 51,
     "metadata": {},
     "output_type": "execute_result"
    }
   ],
   "source": [
    "y_train[:5]"
   ]
  },
  {
   "cell_type": "code",
   "execution_count": 52,
   "id": "3a22dd78-d2dc-439c-8358-5adcc92a006a",
   "metadata": {},
   "outputs": [
    {
     "data": {
      "application/javascript": [
       "$(document).ready(\n",
       "    function() {\n",
       "        function appendUniqueDiv(){\n",
       "            // append a div with our uuid so we can check that it's already\n",
       "            // been sent and avoid duplicates on page reload\n",
       "            var notifiedDiv = document.createElement(\"div\")\n",
       "            notifiedDiv.id = \"6070f6cf-9567-4a00-a69a-6bf138d408ca\"\n",
       "            element.append(notifiedDiv)\n",
       "        }\n",
       "\n",
       "        // only send notifications if the pageload is complete; this will\n",
       "        // help stop extra notifications when a saved notebook is loaded,\n",
       "        // which during testing gives us state \"interactive\", not \"complete\"\n",
       "        if (document.readyState === 'complete') {\n",
       "            // check for the div that signifies that the notification\n",
       "            // was already sent\n",
       "            if (document.getElementById(\"6070f6cf-9567-4a00-a69a-6bf138d408ca\") === null) {\n",
       "                var notificationPayload = {\"requireInteraction\": false, \"icon\": \"/static/base/images/favicon.ico\", \"body\": \"Cell execution has finished!\", \"only_in_background\": false};\n",
       "\n",
       "                // We have a notification but the window is active\n",
       "                if (notificationPayload.only_in_background && !window.jupyterNotifyIsInBackground) {\n",
       "                    appendUniqueDiv();\n",
       "                    return;\n",
       "                }\n",
       "                if (Notification.permission !== 'denied') {\n",
       "                    if (Notification.permission !== 'granted') { \n",
       "                        Notification.requestPermission(function (permission) {\n",
       "                            if(!('permission' in Notification)) {\n",
       "                                Notification.permission = permission\n",
       "                            }\n",
       "                        })\n",
       "                    }\n",
       "                    if (Notification.permission === 'granted') {\n",
       "                    var notification = new Notification(\"Jupyter Notebook\", notificationPayload)\n",
       "                    appendUniqueDiv()\n",
       "                    notification.onclick = function () {\n",
       "                        window.focus();\n",
       "                        this.close();\n",
       "                        };\n",
       "                    } \n",
       "                }     \n",
       "            }\n",
       "        }\n",
       "    }\n",
       ")\n"
      ],
      "text/plain": [
       "<IPython.core.display.Javascript object>"
      ]
     },
     "metadata": {},
     "output_type": "display_data"
    }
   ],
   "source": [
    "%%notify\n",
    "# Scaling X\n",
    "sc = StandardScaler()\n",
    "X_train_sc = sc.fit_transform(X_train)\n",
    "X_test_sc = sc.transform(X_test)"
   ]
  },
  {
   "cell_type": "code",
   "execution_count": 53,
   "id": "b8ae210a-41df-437c-b957-98dd50ebf7c8",
   "metadata": {},
   "outputs": [
    {
     "data": {
      "application/javascript": [
       "$(document).ready(\n",
       "    function() {\n",
       "        function appendUniqueDiv(){\n",
       "            // append a div with our uuid so we can check that it's already\n",
       "            // been sent and avoid duplicates on page reload\n",
       "            var notifiedDiv = document.createElement(\"div\")\n",
       "            notifiedDiv.id = \"be679b2a-2ffa-4889-8f91-ca9b5c8331c2\"\n",
       "            element.append(notifiedDiv)\n",
       "        }\n",
       "\n",
       "        // only send notifications if the pageload is complete; this will\n",
       "        // help stop extra notifications when a saved notebook is loaded,\n",
       "        // which during testing gives us state \"interactive\", not \"complete\"\n",
       "        if (document.readyState === 'complete') {\n",
       "            // check for the div that signifies that the notification\n",
       "            // was already sent\n",
       "            if (document.getElementById(\"be679b2a-2ffa-4889-8f91-ca9b5c8331c2\") === null) {\n",
       "                var notificationPayload = {\"requireInteraction\": false, \"icon\": \"/static/base/images/favicon.ico\", \"body\": \"Cell execution has finished!\", \"only_in_background\": false};\n",
       "\n",
       "                // We have a notification but the window is active\n",
       "                if (notificationPayload.only_in_background && !window.jupyterNotifyIsInBackground) {\n",
       "                    appendUniqueDiv();\n",
       "                    return;\n",
       "                }\n",
       "                if (Notification.permission !== 'denied') {\n",
       "                    if (Notification.permission !== 'granted') { \n",
       "                        Notification.requestPermission(function (permission) {\n",
       "                            if(!('permission' in Notification)) {\n",
       "                                Notification.permission = permission\n",
       "                            }\n",
       "                        })\n",
       "                    }\n",
       "                    if (Notification.permission === 'granted') {\n",
       "                    var notification = new Notification(\"Jupyter Notebook\", notificationPayload)\n",
       "                    appendUniqueDiv()\n",
       "                    notification.onclick = function () {\n",
       "                        window.focus();\n",
       "                        this.close();\n",
       "                        };\n",
       "                    } \n",
       "                }     \n",
       "            }\n",
       "        }\n",
       "    }\n",
       ")\n"
      ],
      "text/plain": [
       "<IPython.core.display.Javascript object>"
      ]
     },
     "metadata": {},
     "output_type": "display_data"
    }
   ],
   "source": [
    "%%notify\n",
    "# PCA to filter most important features\n",
    "pca = PCA(n_components=6000)\n",
    "X_train_p = pca.fit_transform(X_train_sc)\n",
    "X_test_p = pca.transform(X_test_sc)"
   ]
  },
  {
   "cell_type": "code",
   "execution_count": 54,
   "id": "a68a73ec-7817-46a0-9a3d-254151ae520e",
   "metadata": {},
   "outputs": [],
   "source": [
    "X_val_sc = sc.transform(X_val)\n",
    "X_val_p = pca.transform(X_val_sc)"
   ]
  },
  {
   "cell_type": "markdown",
   "id": "d15c06a0-af41-48e8-823b-c4d0a8287cb5",
   "metadata": {},
   "source": [
    "## Logistic Regression"
   ]
  },
  {
   "cell_type": "code",
   "execution_count": 55,
   "id": "23f77fd3-0e56-4485-8a77-da3f463c976f",
   "metadata": {},
   "outputs": [
    {
     "data": {
      "text/plain": [
       "LogisticRegression(max_iter=5000)"
      ]
     },
     "execution_count": 55,
     "metadata": {},
     "output_type": "execute_result"
    },
    {
     "data": {
      "application/javascript": [
       "$(document).ready(\n",
       "    function() {\n",
       "        function appendUniqueDiv(){\n",
       "            // append a div with our uuid so we can check that it's already\n",
       "            // been sent and avoid duplicates on page reload\n",
       "            var notifiedDiv = document.createElement(\"div\")\n",
       "            notifiedDiv.id = \"1c931648-db16-49bb-889a-73707ddb0ef2\"\n",
       "            element.append(notifiedDiv)\n",
       "        }\n",
       "\n",
       "        // only send notifications if the pageload is complete; this will\n",
       "        // help stop extra notifications when a saved notebook is loaded,\n",
       "        // which during testing gives us state \"interactive\", not \"complete\"\n",
       "        if (document.readyState === 'complete') {\n",
       "            // check for the div that signifies that the notification\n",
       "            // was already sent\n",
       "            if (document.getElementById(\"1c931648-db16-49bb-889a-73707ddb0ef2\") === null) {\n",
       "                var notificationPayload = {\"requireInteraction\": false, \"icon\": \"/static/base/images/favicon.ico\", \"body\": \"Cell execution has finished!\", \"only_in_background\": false};\n",
       "\n",
       "                // We have a notification but the window is active\n",
       "                if (notificationPayload.only_in_background && !window.jupyterNotifyIsInBackground) {\n",
       "                    appendUniqueDiv();\n",
       "                    return;\n",
       "                }\n",
       "                if (Notification.permission !== 'denied') {\n",
       "                    if (Notification.permission !== 'granted') { \n",
       "                        Notification.requestPermission(function (permission) {\n",
       "                            if(!('permission' in Notification)) {\n",
       "                                Notification.permission = permission\n",
       "                            }\n",
       "                        })\n",
       "                    }\n",
       "                    if (Notification.permission === 'granted') {\n",
       "                    var notification = new Notification(\"Jupyter Notebook\", notificationPayload)\n",
       "                    appendUniqueDiv()\n",
       "                    notification.onclick = function () {\n",
       "                        window.focus();\n",
       "                        this.close();\n",
       "                        };\n",
       "                    } \n",
       "                }     \n",
       "            }\n",
       "        }\n",
       "    }\n",
       ")\n"
      ],
      "text/plain": [
       "<IPython.core.display.Javascript object>"
      ]
     },
     "metadata": {},
     "output_type": "display_data"
    }
   ],
   "source": [
    "%%notify\n",
    "# Training learning model\n",
    "model = LogisticRegression(max_iter=5000)\n",
    "model.fit(X_train_p, y_train)"
   ]
  },
  {
   "cell_type": "code",
   "execution_count": 56,
   "id": "5c029fd9-cedb-403e-ac43-debd16f82170",
   "metadata": {},
   "outputs": [
    {
     "data": {
      "text/plain": [
       "1.0"
      ]
     },
     "execution_count": 56,
     "metadata": {},
     "output_type": "execute_result"
    }
   ],
   "source": [
    "model.score(X_train_p, y_train)"
   ]
  },
  {
   "cell_type": "code",
   "execution_count": 57,
   "id": "f456ec82-348d-434d-8f2a-23ef3bd0eecb",
   "metadata": {},
   "outputs": [
    {
     "data": {
      "text/plain": [
       "0.8238543371522095"
      ]
     },
     "execution_count": 57,
     "metadata": {},
     "output_type": "execute_result"
    }
   ],
   "source": [
    "model.score(X_test_p, y_test)"
   ]
  },
  {
   "cell_type": "code",
   "execution_count": 62,
   "id": "367d8d8d-f75e-49c9-ae6b-240823014e47",
   "metadata": {},
   "outputs": [],
   "source": [
    "y_pred = model.predict(X_test_p)"
   ]
  },
  {
   "cell_type": "code",
   "execution_count": 58,
   "id": "527c8bdf-f07e-4cec-94a6-019223f53430",
   "metadata": {},
   "outputs": [
    {
     "data": {
      "text/plain": [
       "array([2, 1, 2, 2, 2, 0, 2, 2, 0, 2, 2, 2, 2, 4, 2, 2, 1, 2, 4, 0, 2, 2,\n",
       "       2, 4, 2, 2, 2, 2, 2, 2, 2, 2, 2, 2, 2, 2, 2, 2, 2, 2, 2, 2, 2, 2,\n",
       "       2, 2, 2, 2, 2, 2, 2, 2, 2], dtype=int8)"
      ]
     },
     "execution_count": 58,
     "metadata": {},
     "output_type": "execute_result"
    }
   ],
   "source": [
    "# Predicting the 52 samples curated by Jim\n",
    "y_val_pred = model.predict(X_val_p)\n",
    "y_val_pred"
   ]
  },
  {
   "cell_type": "code",
   "execution_count": 60,
   "id": "2c81c8d3-3ed1-45f7-9251-8dd4aa17e002",
   "metadata": {},
   "outputs": [
    {
     "data": {
      "text/plain": [
       "array([2, 2, 2, 2, 2, 2, 2, 2, 2, 2, 2, 2, 2, 2, 2, 2, 2, 2, 2, 2, 2, 2,\n",
       "       2, 2, 0, 4, 4, 4, 4, 4, 4, 4, 4, 4, 4, 4, 4, 4, 4, 4, 4, 4, 4, 4,\n",
       "       4, 4, 4, 4, 4, 4, 4, 4, 4], dtype=int8)"
      ]
     },
     "execution_count": 60,
     "metadata": {},
     "output_type": "execute_result"
    }
   ],
   "source": [
    "# Actual targets. Lots of correct guesses for Karen\n",
    "y_val_test = np.array(y_val)\n",
    "y_val_test"
   ]
  },
  {
   "cell_type": "code",
   "execution_count": 71,
   "id": "59d6c561-7419-468a-8d74-36df8ebba74b",
   "metadata": {},
   "outputs": [
    {
     "data": {
      "text/html": [
       "<div>\n",
       "<style scoped>\n",
       "    .dataframe tbody tr th:only-of-type {\n",
       "        vertical-align: middle;\n",
       "    }\n",
       "\n",
       "    .dataframe tbody tr th {\n",
       "        vertical-align: top;\n",
       "    }\n",
       "\n",
       "    .dataframe thead th {\n",
       "        text-align: right;\n",
       "    }\n",
       "</style>\n",
       "<table border=\"1\" class=\"dataframe\">\n",
       "  <thead>\n",
       "    <tr style=\"text-align: right;\">\n",
       "      <th></th>\n",
       "      <th>title</th>\n",
       "      <th>tomatoMeter</th>\n",
       "      <th>criticName</th>\n",
       "      <th>publicatioName</th>\n",
       "      <th>reviewText</th>\n",
       "      <th>scoreSentiment</th>\n",
       "      <th>delta</th>\n",
       "      <th>delta_category</th>\n",
       "      <th>embeddings</th>\n",
       "    </tr>\n",
       "  </thead>\n",
       "  <tbody>\n",
       "    <tr>\n",
       "      <th>0</th>\n",
       "      <td>Karen</td>\n",
       "      <td>17.0</td>\n",
       "      <td>Keith Garlington</td>\n",
       "      <td>Keith &amp; the Movies</td>\n",
       "      <td>You can&amp;#8217;t miss its bludgeoning message w...</td>\n",
       "      <td>NEGATIVE</td>\n",
       "      <td>-2.0</td>\n",
       "      <td>2</td>\n",
       "      <td>[-0.47593927, 0.72280616, -0.01203326, -0.0237...</td>\n",
       "    </tr>\n",
       "  </tbody>\n",
       "</table>\n",
       "</div>"
      ],
      "text/plain": [
       "   title  tomatoMeter        criticName      publicatioName  \\\n",
       "0  Karen         17.0  Keith Garlington  Keith & the Movies   \n",
       "\n",
       "                                          reviewText scoreSentiment  delta  \\\n",
       "0  You can&#8217;t miss its bludgeoning message w...       NEGATIVE   -2.0   \n",
       "\n",
       "  delta_category                                         embeddings  \n",
       "0              2  [-0.47593927, 0.72280616, -0.01203326, -0.0237...  "
      ]
     },
     "execution_count": 71,
     "metadata": {},
     "output_type": "execute_result"
    }
   ],
   "source": [
    "Karen.head(1)"
   ]
  },
  {
   "cell_type": "code",
   "execution_count": 70,
   "id": "bab086b3-777a-4897-91f0-f033cb72f33c",
   "metadata": {},
   "outputs": [
    {
     "data": {
      "text/html": [
       "<div>\n",
       "<style scoped>\n",
       "    .dataframe tbody tr th:only-of-type {\n",
       "        vertical-align: middle;\n",
       "    }\n",
       "\n",
       "    .dataframe tbody tr th {\n",
       "        vertical-align: top;\n",
       "    }\n",
       "\n",
       "    .dataframe thead th {\n",
       "        text-align: right;\n",
       "    }\n",
       "</style>\n",
       "<table border=\"1\" class=\"dataframe\">\n",
       "  <thead>\n",
       "    <tr style=\"text-align: right;\">\n",
       "      <th></th>\n",
       "      <th>title</th>\n",
       "      <th>tomatoMeter</th>\n",
       "      <th>criticName</th>\n",
       "      <th>publicatioName</th>\n",
       "      <th>reviewText</th>\n",
       "      <th>scoreSentiment</th>\n",
       "      <th>delta</th>\n",
       "      <th>delta_category</th>\n",
       "      <th>embeddings</th>\n",
       "    </tr>\n",
       "  </thead>\n",
       "  <tbody>\n",
       "    <tr>\n",
       "      <th>0</th>\n",
       "      <td>Sound of Freedom</td>\n",
       "      <td>57</td>\n",
       "      <td>Maria Latilla</td>\n",
       "      <td>WhyNow</td>\n",
       "      <td>Sound of Freedom arrives in UK cinemas with a ...</td>\n",
       "      <td>NEGATIVE</td>\n",
       "      <td>-42.0</td>\n",
       "      <td>0</td>\n",
       "      <td>[0.093633525, 0.19919057, 0.106464155, -0.2038...</td>\n",
       "    </tr>\n",
       "  </tbody>\n",
       "</table>\n",
       "</div>"
      ],
      "text/plain": [
       "              title  tomatoMeter     criticName publicatioName  \\\n",
       "0  Sound of Freedom           57  Maria Latilla         WhyNow   \n",
       "\n",
       "                                          reviewText scoreSentiment  delta  \\\n",
       "0  Sound of Freedom arrives in UK cinemas with a ...       NEGATIVE  -42.0   \n",
       "\n",
       "  delta_category                                         embeddings  \n",
       "0              0  [0.093633525, 0.19919057, 0.106464155, -0.2038...  "
      ]
     },
     "execution_count": 70,
     "metadata": {},
     "output_type": "execute_result"
    }
   ],
   "source": [
    "extract.head(1)"
   ]
  },
  {
   "cell_type": "code",
   "execution_count": 63,
   "id": "a71a7f21-0236-46c1-90df-70144794da1b",
   "metadata": {},
   "outputs": [
    {
     "name": "stdout",
     "output_type": "stream",
     "text": [
      "              precision    recall  f1-score   support\n",
      "\n",
      "           0       0.95      0.84      0.89       597\n",
      "           1       0.90      0.65      0.76       529\n",
      "           2       0.77      0.94      0.85      2332\n",
      "           3       0.91      0.62      0.74       903\n",
      "           4       0.82      0.82      0.82       527\n",
      "\n",
      "    accuracy                           0.82      4888\n",
      "   macro avg       0.87      0.77      0.81      4888\n",
      "weighted avg       0.84      0.82      0.82      4888\n",
      "\n"
     ]
    }
   ],
   "source": [
    "print(classification_report(y_test, y_pred))"
   ]
  },
  {
   "cell_type": "code",
   "execution_count": 90,
   "id": "ee56c45a-aa70-4787-a5bf-3ede3c24053b",
   "metadata": {},
   "outputs": [
    {
     "data": {
      "image/png": "[encoded data removed]",
      "text/plain": [
       "<Figure size 640x480 with 1 Axes>"
      ]
     },
     "metadata": {},
     "output_type": "display_data"
    }
   ],
   "source": [
    "x = np.arange(5)\n",
    "\n",
    "bar_width = 0.45\n",
    "\n",
    "# Create bar graphs for y_pred and y_test\n",
    "plt.bar(x - bar_width/2, np.bincount(y_pred), bar_width, label='Model Prediction', color='orange', align='center')\n",
    "plt.bar(x + bar_width/2, np.bincount(y_test), bar_width, label='Actual', color='red', align='center')\n",
    "\n",
    "plt.title(\"Predicting Critic's Disagreement with Audience\")\n",
    "custom_labels = ['Over 25% Lower\\n(Critics Scathing)', '10-25% Lower', 'Mutual Agreement', '10-25% Higher', 'Over 25% Higher\\n(Critics Coping)']\n",
    "plt.xticks(x, custom_labels, rotation=0)\n",
    "xtick_labels = plt.gca().get_xticklabels()\n",
    "xtick_labels[0].set_y(-0.1)  # Adjust the y-position\n",
    "xtick_labels[-1].set_y(-0.1)\n",
    "xtick_labels[1].set_y(-0.049)\n",
    "xtick_labels[3].set_y(-0.049)\n",
    "plt.legend()\n",
    "plt.savefig('BERT_categorical_pred_vs_test.png')\n",
    "plt.show()"
   ]
  },
  {
   "cell_type": "code",
   "execution_count": null,
   "id": "a8c33a8e-4afa-4e8f-ade1-4e06e1968933",
   "metadata": {},
   "outputs": [],
   "source": [
    "# Saving model\n",
    "with open('BERT_categorical_outliers_model.pkl', 'wb') as file:\n",
    "    pickle.dump(model, file)"
   ]
  },
  {
   "cell_type": "markdown",
   "id": "2a85cc20-4788-4c99-93f5-11318c863f0c",
   "metadata": {},
   "source": [
    "## Random Forest Classifier"
   ]
  },
  {
   "cell_type": "code",
   "execution_count": null,
   "id": "64adcc58-afbc-4890-942e-dddce68c2c87",
   "metadata": {},
   "outputs": [],
   "source": [
    "%%notify\n",
    "f_cores = cores-10\n",
    "fmodel = RandomForestClassifier(n_estimators=50, n_jobs=f_cores, random_state=30)\n",
    "fmodel.fit(X_train_p, y_train)"
   ]
  },
  {
   "cell_type": "code",
   "execution_count": null,
   "id": "43003201-251e-4b86-8739-bbf99c1e4c75",
   "metadata": {},
   "outputs": [],
   "source": [
    "fmodel.score(X_train_p, y_train)"
   ]
  },
  {
   "cell_type": "code",
   "execution_count": null,
   "id": "c729ae56-cb5a-49a7-aedd-f4b7492ac7a5",
   "metadata": {},
   "outputs": [],
   "source": [
    "fmodel.score(X_test_p, y_test)"
   ]
  },
  {
   "cell_type": "markdown",
   "id": "0a4673c3-ff43-4931-b7e4-61c9affe8e76",
   "metadata": {},
   "source": [
    "## SVM Classifier (SVC)"
   ]
  },
  {
   "cell_type": "code",
   "execution_count": null,
   "id": "957f078c-d828-4050-9d32-438e79a4b658",
   "metadata": {},
   "outputs": [],
   "source": [
    "# Running in GBTree notebook\n",
    "\"\"\"\"%%notify\n",
    "param_grid = {\n",
    "    'C': [0.1, 1],\n",
    "    'kernel': ['linear', 'rbf', 'poly'],\n",
    "    #'epsilon': [0.1, 0.2, 0.5], # For regression models\n",
    "    'gamma': ['scale', 'auto']  # For RBF kernel\n",
    "}\n",
    "svc = SVC()\n",
    "\n",
    "grid_search = GridSearchCV(estimator=svc, param_grid=param_grid, scoring='accuracy', cv=5)\n",
    "\n",
    "grid_search.fit(X_train_p, y_train)\n",
    "\n",
    "best_params = grid_search.best_params_\n",
    "best_model = grid_search.best_estimator_\n",
    "predictions = best_model.predict(X_test_p)\"\"\"\""
   ]
  },
  {
   "cell_type": "code",
   "execution_count": null,
   "id": "fd1fcc53-c2ea-4377-af9f-912c1cccb2cc",
   "metadata": {},
   "outputs": [],
   "source": [
    "best_model.score(X_train_p, y_train)"
   ]
  },
  {
   "cell_type": "code",
   "execution_count": null,
   "id": "91ba4793-1794-4634-8508-5cd88c7a5576",
   "metadata": {},
   "outputs": [],
   "source": [
    "best_model.score(X_test_p, y_test)"
   ]
  },
  {
   "cell_type": "code",
   "execution_count": null,
   "id": "e5115d5e-f0cd-4a95-b928-fc400e59d914",
   "metadata": {},
   "outputs": [],
   "source": []
  }
 ],
 "metadata": {
  "kernelspec": {
   "display_name": "Python 3 (ipykernel)",
   "language": "python",
   "name": "python3"
  },
  "language_info": {
   "codemirror_mode": {
    "name": "ipython",
    "version": 3
   },
   "file_extension": ".py",
   "mimetype": "text/x-python",
   "name": "python",
   "nbconvert_exporter": "python",
   "pygments_lexer": "ipython3",
   "version": "3.7.13"
  }
 },
 "nbformat": 4,
 "nbformat_minor": 5
}
