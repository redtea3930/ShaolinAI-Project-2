{
 "cells": [
  {
   "cell_type": "code",
   "execution_count": 72,
   "id": "b80b3cc5-603d-4724-9179-b1f762a2e8c0",
   "metadata": {},
   "outputs": [],
   "source": [
    "#import libraries\n",
    "import pandas as pd\n",
    "import numpy as np\n",
    "from pathlib import Path\n",
    "import matplotlib.pyplot as plt\n",
    "import seaborn as sns\n",
    "from sklearn.model_selection import train_test_split\n",
    "from sklearn.metrics import accuracy_score, classification_report, confusion_matrix\n",
    "from sklearn.preprocessing import StandardScaler\n",
    "from sklearn.decomposition import PCA\n",
    "from sklearn.linear_model import LogisticRegression\n",
    "from sklearn.ensemble import RandomForestClassifier\n",
    "from sklearn.svm import SVC\n",
    "from sklearn.model_selection import GridSearchCV\n",
    "import multiprocessing\n",
    "cores = multiprocessing.cpu_count()\n",
    "import os\n",
    "from time import time\n",
    "import torch\n",
    "from transformers import AutoModel, AutoTokenizer, AutoConfig\n",
    "from transformers import AutoModelForSequenceClassification\n",
    "from torch.utils.data import DataLoader"
   ]
  },
  {
   "cell_type": "code",
   "execution_count": null,
   "id": "b8e08946-4fd4-422f-8669-519037b0459f",
   "metadata": {},
   "outputs": [],
   "source": [
    "# To notify when cell is complete (comment out first line). Add %%notify to the first line of a cell to get notified\n",
    "# !pip uninstall jupyternotify -y\n",
    "!pip install git+https://github.com/cphyc/jupyter-notify.git\n",
    "%reload_ext jupyternotify"
   ]
  },
  {
   "cell_type": "code",
   "execution_count": 3,
   "id": "606c2cda-48a1-4431-be34-c839cf1cd02d",
   "metadata": {},
   "outputs": [],
   "source": [
    "# read in cleaned CSV\n",
    "filepath = Path('../massive.csv')\n",
    "massive = pd.read_csv(filepath)\n",
    "massive = massive.sample(n=15000)\n",
    "massive.reset_index(drop=True, inplace=True)"
   ]
  },
  {
   "cell_type": "markdown",
   "id": "aa421c2a-f53f-4ace-8c04-4bc8189c7da6",
   "metadata": {},
   "source": [
    "### Pre-processing"
   ]
  },
  {
   "cell_type": "code",
   "execution_count": 4,
   "id": "7043144f-4577-4804-a286-d00e82aeff78",
   "metadata": {},
   "outputs": [
    {
     "data": {
      "text/html": [
       "<div>\n",
       "<style scoped>\n",
       "    .dataframe tbody tr th:only-of-type {\n",
       "        vertical-align: middle;\n",
       "    }\n",
       "\n",
       "    .dataframe tbody tr th {\n",
       "        vertical-align: top;\n",
       "    }\n",
       "\n",
       "    .dataframe thead th {\n",
       "        text-align: right;\n",
       "    }\n",
       "</style>\n",
       "<table border=\"1\" class=\"dataframe\">\n",
       "  <thead>\n",
       "    <tr style=\"text-align: right;\">\n",
       "      <th></th>\n",
       "      <th>title</th>\n",
       "      <th>tomatoMeter</th>\n",
       "      <th>criticName</th>\n",
       "      <th>publicatioName</th>\n",
       "      <th>reviewText</th>\n",
       "      <th>scoreSentiment</th>\n",
       "      <th>delta</th>\n",
       "    </tr>\n",
       "  </thead>\n",
       "  <tbody>\n",
       "    <tr>\n",
       "      <th>0</th>\n",
       "      <td>Robin Hood</td>\n",
       "      <td>43.0</td>\n",
       "      <td>Dawn Taylor</td>\n",
       "      <td>Cinematical</td>\n",
       "      <td>It's a little like making a Johnny Appleseed m...</td>\n",
       "      <td>NEGATIVE</td>\n",
       "      <td>-15.0</td>\n",
       "    </tr>\n",
       "  </tbody>\n",
       "</table>\n",
       "</div>"
      ],
      "text/plain": [
       "        title  tomatoMeter   criticName publicatioName  \\\n",
       "0  Robin Hood         43.0  Dawn Taylor    Cinematical   \n",
       "\n",
       "                                          reviewText scoreSentiment  delta  \n",
       "0  It's a little like making a Johnny Appleseed m...       NEGATIVE  -15.0  "
      ]
     },
     "execution_count": 4,
     "metadata": {},
     "output_type": "execute_result"
    }
   ],
   "source": [
    "# Dropping columns including audienceScore because it could unfairly help the model predict the delta. Leaving tomatoMeter to give the model a base of where the delta could be.\n",
    "massive = massive.drop(columns=['id', 'reviewId', 'creationDate', 'isTopCritic', 'reviewState', 'audienceScore'])\n",
    "massive.head(1)"
   ]
  },
  {
   "cell_type": "code",
   "execution_count": 21,
   "id": "f1c54342-2a2d-40dd-9e09-3ada32d0de68",
   "metadata": {},
   "outputs": [],
   "source": [
    "# Binning delta column into 5 categories for Logistic regression\n",
    "bins = [-99, -26, -11, 10, 25, 99]\n",
    "labels = [0, 1, 2, 3, 4]\n",
    "massive['delta_category'] = pd.cut(massive['delta'], bins=bins, labels=labels)"
   ]
  },
  {
   "cell_type": "code",
   "execution_count": 25,
   "id": "b8673ded-49df-43d3-bf79-634ac7000096",
   "metadata": {},
   "outputs": [
    {
     "data": {
      "text/plain": [
       "title             0\n",
       "tomatoMeter       0\n",
       "criticName        0\n",
       "publicatioName    0\n",
       "reviewText        0\n",
       "scoreSentiment    0\n",
       "delta             0\n",
       "delta_category    0\n",
       "dtype: int64"
      ]
     },
     "execution_count": 25,
     "metadata": {},
     "output_type": "execute_result"
    }
   ],
   "source": [
    "massive.isnull().sum()"
   ]
  },
  {
   "cell_type": "code",
   "execution_count": 26,
   "id": "3038c20c-d453-4bfe-ba9c-f2ff38aec57c",
   "metadata": {},
   "outputs": [
    {
     "data": {
      "text/plain": [
       "title              7243\n",
       "tomatoMeter       14885\n",
       "criticName        11924\n",
       "publicatioName    13487\n",
       "reviewText            0\n",
       "scoreSentiment    14984\n",
       "delta             14865\n",
       "delta_category    14981\n",
       "dtype: int64"
      ]
     },
     "execution_count": 26,
     "metadata": {},
     "output_type": "execute_result"
    }
   ],
   "source": [
    "# Dropping duplicates\n",
    "massive = massive.drop_duplicates(subset='reviewText', keep='first')\n",
    "# Resetting index after dropping dupe's\n",
    "massive.reset_index(drop=True, inplace=True)\n",
    "# Checking for duplicates\n",
    "dup_df = massive.apply(lambda x: x.duplicated()).sum()\n",
    "dup_df"
   ]
  },
  {
   "cell_type": "markdown",
   "id": "1a92a439-9a49-4f84-a81e-39f88f65035e",
   "metadata": {},
   "source": [
    "## BERT Vectorizer"
   ]
  },
  {
   "cell_type": "code",
   "execution_count": 27,
   "id": "c8ef3920-1a56-4063-8460-b6be9b18ba60",
   "metadata": {},
   "outputs": [
    {
     "name": "stderr",
     "output_type": "stream",
     "text": [
      "Some weights of the model checkpoint at activebus/BERT_Review were not used when initializing BertModel: ['cls.predictions.transform.LayerNorm.bias', 'cls.predictions.decoder.bias', 'cls.predictions.transform.dense.bias', 'cls.predictions.transform.LayerNorm.weight', 'cls.predictions.bias', 'cls.predictions.transform.dense.weight', 'cls.predictions.decoder.weight']\n",
      "- This IS expected if you are initializing BertModel from the checkpoint of a model trained on another task or with another architecture (e.g. initializing a BertForSequenceClassification model from a BertForPreTraining model).\n",
      "- This IS NOT expected if you are initializing BertModel from the checkpoint of a model that you expect to be exactly identical (initializing a BertForSequenceClassification model from a BertForSequenceClassification model).\n"
     ]
    }
   ],
   "source": [
    "# Pulling BERT from huggingface\n",
    "tokenizer = AutoTokenizer.from_pretrained(\"activebus/BERT_Review\")\n",
    "model = AutoModel.from_pretrained(\"activebus/BERT_Review\")"
   ]
  },
  {
   "cell_type": "code",
   "execution_count": 28,
   "id": "f02aa687-093e-4da1-97ff-f440bb5c26b3",
   "metadata": {},
   "outputs": [
    {
     "name": "stderr",
     "output_type": "stream",
     "text": [
      "C:\\Users\\Dan\\anaconda3\\envs\\nlp\\lib\\site-packages\\ipykernel_launcher.py:18: SettingWithCopyWarning: \n",
      "A value is trying to be set on a copy of a slice from a DataFrame.\n",
      "Try using .loc[row_indexer,col_indexer] = value instead\n",
      "\n",
      "See the caveats in the documentation: https://pandas.pydata.org/pandas-docs/stable/user_guide/indexing.html#returning-a-view-versus-a-copy\n"
     ]
    },
    {
     "data": {
      "text/html": [
       "<div>\n",
       "<style scoped>\n",
       "    .dataframe tbody tr th:only-of-type {\n",
       "        vertical-align: middle;\n",
       "    }\n",
       "\n",
       "    .dataframe tbody tr th {\n",
       "        vertical-align: top;\n",
       "    }\n",
       "\n",
       "    .dataframe thead th {\n",
       "        text-align: right;\n",
       "    }\n",
       "</style>\n",
       "<table border=\"1\" class=\"dataframe\">\n",
       "  <thead>\n",
       "    <tr style=\"text-align: right;\">\n",
       "      <th></th>\n",
       "      <th>title</th>\n",
       "      <th>tomatoMeter</th>\n",
       "      <th>criticName</th>\n",
       "      <th>publicatioName</th>\n",
       "      <th>reviewText</th>\n",
       "      <th>scoreSentiment</th>\n",
       "      <th>delta</th>\n",
       "      <th>delta_category</th>\n",
       "      <th>embeddings</th>\n",
       "    </tr>\n",
       "  </thead>\n",
       "  <tbody>\n",
       "    <tr>\n",
       "      <th>0</th>\n",
       "      <td>Robin Hood</td>\n",
       "      <td>43.0</td>\n",
       "      <td>Dawn Taylor</td>\n",
       "      <td>Cinematical</td>\n",
       "      <td>It's a little like making a Johnny Appleseed m...</td>\n",
       "      <td>NEGATIVE</td>\n",
       "      <td>-15.0</td>\n",
       "      <td>1</td>\n",
       "      <td>[-0.15825821, 0.23516954, 0.037855532, 0.03154...</td>\n",
       "    </tr>\n",
       "    <tr>\n",
       "      <th>1</th>\n",
       "      <td>Safe House</td>\n",
       "      <td>53.0</td>\n",
       "      <td>Jeff Beck</td>\n",
       "      <td>Examiner.com</td>\n",
       "      <td>[\"Safe House\"] becomes a prime example of why ...</td>\n",
       "      <td>NEGATIVE</td>\n",
       "      <td>-10.0</td>\n",
       "      <td>2</td>\n",
       "      <td>[0.05020408, 0.4886594, -0.008877138, -0.08937...</td>\n",
       "    </tr>\n",
       "    <tr>\n",
       "      <th>2</th>\n",
       "      <td>Queen &amp; Slim</td>\n",
       "      <td>83.0</td>\n",
       "      <td>Tim Cogshell</td>\n",
       "      <td>FilmWeek (KPCC - NPR Los Angeles)</td>\n",
       "      <td>Very entertaining in a number of ways. Thrilli...</td>\n",
       "      <td>POSITIVE</td>\n",
       "      <td>-9.0</td>\n",
       "      <td>2</td>\n",
       "      <td>[-0.44251788, 0.51001436, 0.23970549, -0.13053...</td>\n",
       "    </tr>\n",
       "    <tr>\n",
       "      <th>3</th>\n",
       "      <td>Lost in Beijing</td>\n",
       "      <td>52.0</td>\n",
       "      <td>Jack Mathews</td>\n",
       "      <td>New York Daily News</td>\n",
       "      <td>When a rapist (Tony Leung) is the second-most ...</td>\n",
       "      <td>NEGATIVE</td>\n",
       "      <td>-7.0</td>\n",
       "      <td>2</td>\n",
       "      <td>[-0.3622491, 0.3521909, 0.016124029, -0.053949...</td>\n",
       "    </tr>\n",
       "    <tr>\n",
       "      <th>4</th>\n",
       "      <td>Drive My Car</td>\n",
       "      <td>97.0</td>\n",
       "      <td>Danny Leigh</td>\n",
       "      <td>Financial Times</td>\n",
       "      <td>Director Ryusuke Hamaguchi makes it easy to st...</td>\n",
       "      <td>POSITIVE</td>\n",
       "      <td>19.0</td>\n",
       "      <td>3</td>\n",
       "      <td>[-0.0665307, 0.29908082, 0.11836646, 0.0174265...</td>\n",
       "    </tr>\n",
       "  </tbody>\n",
       "</table>\n",
       "</div>"
      ],
      "text/plain": [
       "             title  tomatoMeter    criticName  \\\n",
       "0       Robin Hood         43.0   Dawn Taylor   \n",
       "1       Safe House         53.0     Jeff Beck   \n",
       "2     Queen & Slim         83.0  Tim Cogshell   \n",
       "3  Lost in Beijing         52.0  Jack Mathews   \n",
       "4     Drive My Car         97.0   Danny Leigh   \n",
       "\n",
       "                      publicatioName  \\\n",
       "0                        Cinematical   \n",
       "1                       Examiner.com   \n",
       "2  FilmWeek (KPCC - NPR Los Angeles)   \n",
       "3                New York Daily News   \n",
       "4                    Financial Times   \n",
       "\n",
       "                                          reviewText scoreSentiment  delta  \\\n",
       "0  It's a little like making a Johnny Appleseed m...       NEGATIVE  -15.0   \n",
       "1  [\"Safe House\"] becomes a prime example of why ...       NEGATIVE  -10.0   \n",
       "2  Very entertaining in a number of ways. Thrilli...       POSITIVE   -9.0   \n",
       "3  When a rapist (Tony Leung) is the second-most ...       NEGATIVE   -7.0   \n",
       "4  Director Ryusuke Hamaguchi makes it easy to st...       POSITIVE   19.0   \n",
       "\n",
       "  delta_category                                         embeddings  \n",
       "0              1  [-0.15825821, 0.23516954, 0.037855532, 0.03154...  \n",
       "1              2  [0.05020408, 0.4886594, -0.008877138, -0.08937...  \n",
       "2              2  [-0.44251788, 0.51001436, 0.23970549, -0.13053...  \n",
       "3              2  [-0.3622491, 0.3521909, 0.016124029, -0.053949...  \n",
       "4              3  [-0.0665307, 0.29908082, 0.11836646, 0.0174265...  "
      ]
     },
     "execution_count": 28,
     "metadata": {},
     "output_type": "execute_result"
    },
    {
     "data": {
      "application/javascript": [
       "$(document).ready(\n",
       "    function() {\n",
       "        function appendUniqueDiv(){\n",
       "            // append a div with our uuid so we can check that it's already\n",
       "            // been sent and avoid duplicates on page reload\n",
       "            var notifiedDiv = document.createElement(\"div\")\n",
       "            notifiedDiv.id = \"689bf0fa-7547-4ec2-a979-e4ba885a7170\"\n",
       "            element.append(notifiedDiv)\n",
       "        }\n",
       "\n",
       "        // only send notifications if the pageload is complete; this will\n",
       "        // help stop extra notifications when a saved notebook is loaded,\n",
       "        // which during testing gives us state \"interactive\", not \"complete\"\n",
       "        if (document.readyState === 'complete') {\n",
       "            // check for the div that signifies that the notification\n",
       "            // was already sent\n",
       "            if (document.getElementById(\"689bf0fa-7547-4ec2-a979-e4ba885a7170\") === null) {\n",
       "                var notificationPayload = {\"requireInteraction\": false, \"icon\": \"/static/base/images/favicon.ico\", \"body\": \"Cell execution has finished!\", \"only_in_background\": false};\n",
       "\n",
       "                // We have a notification but the window is active\n",
       "                if (notificationPayload.only_in_background && !window.jupyterNotifyIsInBackground) {\n",
       "                    appendUniqueDiv();\n",
       "                    return;\n",
       "                }\n",
       "                if (Notification.permission !== 'denied') {\n",
       "                    if (Notification.permission !== 'granted') { \n",
       "                        Notification.requestPermission(function (permission) {\n",
       "                            if(!('permission' in Notification)) {\n",
       "                                Notification.permission = permission\n",
       "                            }\n",
       "                        })\n",
       "                    }\n",
       "                    if (Notification.permission === 'granted') {\n",
       "                    var notification = new Notification(\"Jupyter Notebook\", notificationPayload)\n",
       "                    appendUniqueDiv()\n",
       "                    notification.onclick = function () {\n",
       "                        window.focus();\n",
       "                        this.close();\n",
       "                        };\n",
       "                    } \n",
       "                }     \n",
       "            }\n",
       "        }\n",
       "    }\n",
       ")\n"
      ],
      "text/plain": [
       "<IPython.core.display.Javascript object>"
      ]
     },
     "metadata": {},
     "output_type": "display_data"
    }
   ],
   "source": [
    "%%notify\n",
    "# Text preprocessing function\n",
    "def preprocess(text):\n",
    "    new_text = []\n",
    "    for t in text.split(\" \"):\n",
    "        t = '@user' if t.startswith('@') and len(t) > 1 else t\n",
    "        t = 'http' if t.startswith('http') else t\n",
    "        new_text.append(t)\n",
    "    return \" \".join(new_text)\n",
    "# Function to vectorize text with BERT\n",
    "def get_embedding(text):\n",
    "    text = preprocess(text)\n",
    "    encoded_input = tokenizer(text, return_tensors='pt')\n",
    "    features = model(**encoded_input)\n",
    "    features = features[0].detach().numpy() \n",
    "    features_mean = np.mean(features[0], axis=0) \n",
    "    return features_mean\n",
    "# Applying the function to reviewText and outputting to embeddings column\n",
    "massive['embeddings'] = massive.reviewText.map(lambda x: get_embedding(x))\n",
    "massive.head()"
   ]
  },
  {
   "cell_type": "code",
   "execution_count": 29,
   "id": "637ab241-6df2-44c9-84a7-957aed4db95b",
   "metadata": {},
   "outputs": [
    {
     "data": {
      "text/plain": [
       "array([[-0.15825821,  0.23516954,  0.03785553, ..., -0.12963331,\n",
       "         0.41126922,  0.15984839],\n",
       "       [ 0.05020408,  0.48865941, -0.00887714, ..., -0.23357064,\n",
       "         0.26069748, -0.09811916],\n",
       "       [-0.44251788,  0.51001436,  0.23970549, ..., -0.27318379,\n",
       "         0.36491105, -0.16944979],\n",
       "       ...,\n",
       "       [-0.01660984,  0.24159062, -0.22176614, ..., -0.10410111,\n",
       "         0.32589257,  0.13528441],\n",
       "       [-0.03979871,  0.32638577, -0.09368794, ..., -0.11670193,\n",
       "         0.2325905 , -0.22093023],\n",
       "       [-0.63761503,  0.22267888, -0.20360245, ..., -0.05600252,\n",
       "         0.01459969, -0.08805501]])"
      ]
     },
     "execution_count": 29,
     "metadata": {},
     "output_type": "execute_result"
    }
   ],
   "source": [
    "# Converting embeddings column to numpy array\n",
    "vectors = np.array(massive.embeddings.tolist(), dtype='float')\n",
    "vectors[:10]"
   ]
  },
  {
   "cell_type": "code",
   "execution_count": 30,
   "id": "f52aa422-801e-4535-9bd5-be70318786bc",
   "metadata": {},
   "outputs": [
    {
     "data": {
      "text/html": [
       "<div>\n",
       "<style scoped>\n",
       "    .dataframe tbody tr th:only-of-type {\n",
       "        vertical-align: middle;\n",
       "    }\n",
       "\n",
       "    .dataframe tbody tr th {\n",
       "        vertical-align: top;\n",
       "    }\n",
       "\n",
       "    .dataframe thead th {\n",
       "        text-align: right;\n",
       "    }\n",
       "</style>\n",
       "<table border=\"1\" class=\"dataframe\">\n",
       "  <thead>\n",
       "    <tr style=\"text-align: right;\">\n",
       "      <th></th>\n",
       "      <th>col1</th>\n",
       "      <th>col2</th>\n",
       "      <th>col3</th>\n",
       "      <th>col4</th>\n",
       "      <th>col5</th>\n",
       "      <th>col6</th>\n",
       "      <th>col7</th>\n",
       "      <th>col8</th>\n",
       "      <th>col9</th>\n",
       "      <th>col10</th>\n",
       "      <th>...</th>\n",
       "      <th>col759</th>\n",
       "      <th>col760</th>\n",
       "      <th>col761</th>\n",
       "      <th>col762</th>\n",
       "      <th>col763</th>\n",
       "      <th>col764</th>\n",
       "      <th>col765</th>\n",
       "      <th>col766</th>\n",
       "      <th>col767</th>\n",
       "      <th>col768</th>\n",
       "    </tr>\n",
       "  </thead>\n",
       "  <tbody>\n",
       "    <tr>\n",
       "      <th>0</th>\n",
       "      <td>-0.158258</td>\n",
       "      <td>0.235170</td>\n",
       "      <td>0.037856</td>\n",
       "      <td>0.031540</td>\n",
       "      <td>0.306124</td>\n",
       "      <td>0.170648</td>\n",
       "      <td>-0.103593</td>\n",
       "      <td>0.573045</td>\n",
       "      <td>-0.020362</td>\n",
       "      <td>-0.005003</td>\n",
       "      <td>...</td>\n",
       "      <td>-0.002762</td>\n",
       "      <td>-0.303216</td>\n",
       "      <td>0.097986</td>\n",
       "      <td>0.199727</td>\n",
       "      <td>0.036453</td>\n",
       "      <td>-0.065421</td>\n",
       "      <td>-0.037108</td>\n",
       "      <td>-0.129633</td>\n",
       "      <td>0.411269</td>\n",
       "      <td>0.159848</td>\n",
       "    </tr>\n",
       "    <tr>\n",
       "      <th>1</th>\n",
       "      <td>0.050204</td>\n",
       "      <td>0.488659</td>\n",
       "      <td>-0.008877</td>\n",
       "      <td>-0.089375</td>\n",
       "      <td>0.322270</td>\n",
       "      <td>0.192425</td>\n",
       "      <td>0.104532</td>\n",
       "      <td>0.458823</td>\n",
       "      <td>-0.101944</td>\n",
       "      <td>-0.106463</td>\n",
       "      <td>...</td>\n",
       "      <td>-0.242976</td>\n",
       "      <td>-0.178034</td>\n",
       "      <td>0.097337</td>\n",
       "      <td>-0.016775</td>\n",
       "      <td>-0.038906</td>\n",
       "      <td>-0.024188</td>\n",
       "      <td>0.170549</td>\n",
       "      <td>-0.233571</td>\n",
       "      <td>0.260697</td>\n",
       "      <td>-0.098119</td>\n",
       "    </tr>\n",
       "    <tr>\n",
       "      <th>2</th>\n",
       "      <td>-0.442518</td>\n",
       "      <td>0.510014</td>\n",
       "      <td>0.239705</td>\n",
       "      <td>-0.130538</td>\n",
       "      <td>0.411279</td>\n",
       "      <td>-0.033510</td>\n",
       "      <td>0.003244</td>\n",
       "      <td>0.558496</td>\n",
       "      <td>-0.100562</td>\n",
       "      <td>-0.543049</td>\n",
       "      <td>...</td>\n",
       "      <td>0.159986</td>\n",
       "      <td>-0.209504</td>\n",
       "      <td>0.237903</td>\n",
       "      <td>-0.176496</td>\n",
       "      <td>-0.213456</td>\n",
       "      <td>-0.256748</td>\n",
       "      <td>0.115339</td>\n",
       "      <td>-0.273184</td>\n",
       "      <td>0.364911</td>\n",
       "      <td>-0.169450</td>\n",
       "    </tr>\n",
       "  </tbody>\n",
       "</table>\n",
       "<p>3 rows × 768 columns</p>\n",
       "</div>"
      ],
      "text/plain": [
       "       col1      col2      col3      col4      col5      col6      col7  \\\n",
       "0 -0.158258  0.235170  0.037856  0.031540  0.306124  0.170648 -0.103593   \n",
       "1  0.050204  0.488659 -0.008877 -0.089375  0.322270  0.192425  0.104532   \n",
       "2 -0.442518  0.510014  0.239705 -0.130538  0.411279 -0.033510  0.003244   \n",
       "\n",
       "       col8      col9     col10  ...    col759    col760    col761    col762  \\\n",
       "0  0.573045 -0.020362 -0.005003  ... -0.002762 -0.303216  0.097986  0.199727   \n",
       "1  0.458823 -0.101944 -0.106463  ... -0.242976 -0.178034  0.097337 -0.016775   \n",
       "2  0.558496 -0.100562 -0.543049  ...  0.159986 -0.209504  0.237903 -0.176496   \n",
       "\n",
       "     col763    col764    col765    col766    col767    col768  \n",
       "0  0.036453 -0.065421 -0.037108 -0.129633  0.411269  0.159848  \n",
       "1 -0.038906 -0.024188  0.170549 -0.233571  0.260697 -0.098119  \n",
       "2 -0.213456 -0.256748  0.115339 -0.273184  0.364911 -0.169450  \n",
       "\n",
       "[3 rows x 768 columns]"
      ]
     },
     "execution_count": 30,
     "metadata": {},
     "output_type": "execute_result"
    }
   ],
   "source": [
    "# Flattening numpy array and creating dataframe with it\n",
    "v_df = pd.DataFrame(vectors, columns=[f'col{i+1}' for i in range(vectors.shape[1])])\n",
    "v_df.head(3)"
   ]
  },
  {
   "cell_type": "code",
   "execution_count": 31,
   "id": "688d5fd1-c80d-47f4-8c52-4bc91ec9cdd4",
   "metadata": {},
   "outputs": [],
   "source": [
    "# Dropping review text now it is vectorized, and dropping embeddings now that it is flattened\n",
    "massive = massive.drop(columns=['reviewText', 'embeddings', 'delta'])"
   ]
  },
  {
   "cell_type": "code",
   "execution_count": 32,
   "id": "66941dde-e810-4c38-b202-daed024aa859",
   "metadata": {},
   "outputs": [
    {
     "data": {
      "text/plain": [
       "title             0\n",
       "tomatoMeter       0\n",
       "criticName        0\n",
       "publicatioName    0\n",
       "scoreSentiment    0\n",
       "delta_category    0\n",
       "dtype: int64"
      ]
     },
     "execution_count": 32,
     "metadata": {},
     "output_type": "execute_result"
    }
   ],
   "source": [
    "massive.isnull().sum().head(9)"
   ]
  },
  {
   "cell_type": "markdown",
   "id": "fca18b30-14b3-41f7-ae95-809182f5c2a8",
   "metadata": {},
   "source": [
    "### Encoding categorical columns"
   ]
  },
  {
   "cell_type": "code",
   "execution_count": 33,
   "id": "5dac35c1-4c06-49fd-b618-61b900391658",
   "metadata": {},
   "outputs": [
    {
     "data": {
      "text/plain": [
       "Other                            8737\n",
       "Dennis Schwartz                   103\n",
       "Frederic and Mary Ann Brussat      84\n",
       "Roger Ebert                        82\n",
       "Roger Moore                        81\n",
       "                                 ... \n",
       "Shawn Levy                         16\n",
       "Richard Brody                      16\n",
       "Dennis Harvey                      16\n",
       "Gary Wolcott                       16\n",
       "Alonso Duralde                     16\n",
       "Name: criticName, Length: 228, dtype: int64"
      ]
     },
     "execution_count": 33,
     "metadata": {},
     "output_type": "execute_result"
    }
   ],
   "source": [
    "# Renaming the least-appearing critics as Other to later be encoded as the same critic\n",
    "counts = massive.criticName.value_counts()\n",
    "threshold = massive.criticName.isin(counts.index[counts<16])\n",
    "massive.loc[threshold, 'criticName'] = 'Other'\n",
    "massive['criticName'].value_counts()"
   ]
  },
  {
   "cell_type": "code",
   "execution_count": 34,
   "id": "0a6b0a96-a932-4eaf-a06b-4ab22e1ea42a",
   "metadata": {},
   "outputs": [
    {
     "data": {
      "text/plain": [
       "Other                           4117\n",
       "New York Times                   193\n",
       "Variety                          183\n",
       "Los Angeles Times                166\n",
       "Time Out                         143\n",
       "                                ... \n",
       "SF Weekly                         12\n",
       "Patrick Nabarro                   12\n",
       "Your Movies (cleveland.com)       12\n",
       "Film Racket                       12\n",
       "The New York Review of Books      12\n",
       "Name: publicatioName, Length: 334, dtype: int64"
      ]
     },
     "execution_count": 34,
     "metadata": {},
     "output_type": "execute_result"
    }
   ],
   "source": [
    "# Repeat for publications\n",
    "counts = massive.publicatioName.value_counts()\n",
    "threshold = massive.publicatioName.isin(counts.index[counts<12])\n",
    "massive.loc[threshold, 'publicatioName'] = 'Other'\n",
    "massive['publicatioName'].value_counts()"
   ]
  },
  {
   "cell_type": "code",
   "execution_count": 35,
   "id": "c935d9a7-59a9-4b8c-a9d1-0e79ab7882c7",
   "metadata": {},
   "outputs": [],
   "source": [
    "# List of columns to dummy\n",
    "categorical_cols = ['title', 'criticName', 'publicatioName', 'scoreSentiment'] \n",
    "# Get dummies on categorical columns\n",
    "massive = pd.get_dummies(massive, columns = categorical_cols)"
   ]
  },
  {
   "cell_type": "markdown",
   "id": "fab508a0-4f8e-4d65-aace-b9f0a0239fa8",
   "metadata": {},
   "source": [
    "### Final pre-processing, splitting, scaling, PCA"
   ]
  },
  {
   "cell_type": "code",
   "execution_count": 36,
   "id": "42303d3e-b19d-4849-bf9a-6edc2c08859e",
   "metadata": {},
   "outputs": [
    {
     "data": {
      "text/html": [
       "<div>\n",
       "<style scoped>\n",
       "    .dataframe tbody tr th:only-of-type {\n",
       "        vertical-align: middle;\n",
       "    }\n",
       "\n",
       "    .dataframe tbody tr th {\n",
       "        vertical-align: top;\n",
       "    }\n",
       "\n",
       "    .dataframe thead th {\n",
       "        text-align: right;\n",
       "    }\n",
       "</style>\n",
       "<table border=\"1\" class=\"dataframe\">\n",
       "  <thead>\n",
       "    <tr style=\"text-align: right;\">\n",
       "      <th></th>\n",
       "      <th>tomatoMeter</th>\n",
       "      <th>delta_category</th>\n",
       "      <th>title_\"Sr.\"</th>\n",
       "      <th>title_$9.99</th>\n",
       "      <th>title_'71</th>\n",
       "      <th>title_(500) Days of Summer</th>\n",
       "      <th>title_(Untitled)</th>\n",
       "      <th>title_... And They Lived Happily Ever After</th>\n",
       "      <th>title_...And Justice for All</th>\n",
       "      <th>title_10</th>\n",
       "      <th>...</th>\n",
       "      <th>col759</th>\n",
       "      <th>col760</th>\n",
       "      <th>col761</th>\n",
       "      <th>col762</th>\n",
       "      <th>col763</th>\n",
       "      <th>col764</th>\n",
       "      <th>col765</th>\n",
       "      <th>col766</th>\n",
       "      <th>col767</th>\n",
       "      <th>col768</th>\n",
       "    </tr>\n",
       "  </thead>\n",
       "  <tbody>\n",
       "    <tr>\n",
       "      <th>0</th>\n",
       "      <td>43.0</td>\n",
       "      <td>1</td>\n",
       "      <td>0</td>\n",
       "      <td>0</td>\n",
       "      <td>0</td>\n",
       "      <td>0</td>\n",
       "      <td>0</td>\n",
       "      <td>0</td>\n",
       "      <td>0</td>\n",
       "      <td>0</td>\n",
       "      <td>...</td>\n",
       "      <td>-0.002762</td>\n",
       "      <td>-0.303216</td>\n",
       "      <td>0.097986</td>\n",
       "      <td>0.199727</td>\n",
       "      <td>0.036453</td>\n",
       "      <td>-0.065421</td>\n",
       "      <td>-0.037108</td>\n",
       "      <td>-0.129633</td>\n",
       "      <td>0.411269</td>\n",
       "      <td>0.159848</td>\n",
       "    </tr>\n",
       "  </tbody>\n",
       "</table>\n",
       "<p>1 rows × 9077 columns</p>\n",
       "</div>"
      ],
      "text/plain": [
       "   tomatoMeter delta_category  title_\"Sr.\"  title_$9.99  title_'71  \\\n",
       "0         43.0              1            0            0          0   \n",
       "\n",
       "   title_(500) Days of Summer  title_(Untitled)  \\\n",
       "0                           0                 0   \n",
       "\n",
       "   title_... And They Lived Happily Ever After  title_...And Justice for All  \\\n",
       "0                                            0                             0   \n",
       "\n",
       "   title_10  ...    col759    col760    col761    col762    col763    col764  \\\n",
       "0         0  ... -0.002762 -0.303216  0.097986  0.199727  0.036453 -0.065421   \n",
       "\n",
       "     col765    col766    col767    col768  \n",
       "0 -0.037108 -0.129633  0.411269  0.159848  \n",
       "\n",
       "[1 rows x 9077 columns]"
      ]
     },
     "execution_count": 36,
     "metadata": {},
     "output_type": "execute_result"
    },
    {
     "data": {
      "application/javascript": [
       "$(document).ready(\n",
       "    function() {\n",
       "        function appendUniqueDiv(){\n",
       "            // append a div with our uuid so we can check that it's already\n",
       "            // been sent and avoid duplicates on page reload\n",
       "            var notifiedDiv = document.createElement(\"div\")\n",
       "            notifiedDiv.id = \"a96f6912-8dea-400a-92fb-e08c64348ca0\"\n",
       "            element.append(notifiedDiv)\n",
       "        }\n",
       "\n",
       "        // only send notifications if the pageload is complete; this will\n",
       "        // help stop extra notifications when a saved notebook is loaded,\n",
       "        // which during testing gives us state \"interactive\", not \"complete\"\n",
       "        if (document.readyState === 'complete') {\n",
       "            // check for the div that signifies that the notification\n",
       "            // was already sent\n",
       "            if (document.getElementById(\"a96f6912-8dea-400a-92fb-e08c64348ca0\") === null) {\n",
       "                var notificationPayload = {\"requireInteraction\": false, \"icon\": \"/static/base/images/favicon.ico\", \"body\": \"Cell execution has finished!\", \"only_in_background\": false};\n",
       "\n",
       "                // We have a notification but the window is active\n",
       "                if (notificationPayload.only_in_background && !window.jupyterNotifyIsInBackground) {\n",
       "                    appendUniqueDiv();\n",
       "                    return;\n",
       "                }\n",
       "                if (Notification.permission !== 'denied') {\n",
       "                    if (Notification.permission !== 'granted') { \n",
       "                        Notification.requestPermission(function (permission) {\n",
       "                            if(!('permission' in Notification)) {\n",
       "                                Notification.permission = permission\n",
       "                            }\n",
       "                        })\n",
       "                    }\n",
       "                    if (Notification.permission === 'granted') {\n",
       "                    var notification = new Notification(\"Jupyter Notebook\", notificationPayload)\n",
       "                    appendUniqueDiv()\n",
       "                    notification.onclick = function () {\n",
       "                        window.focus();\n",
       "                        this.close();\n",
       "                        };\n",
       "                    } \n",
       "                }     \n",
       "            }\n",
       "        }\n",
       "    }\n",
       ")\n"
      ],
      "text/plain": [
       "<IPython.core.display.Javascript object>"
      ]
     },
     "metadata": {},
     "output_type": "display_data"
    }
   ],
   "source": [
    "# Merging massive df with vectorized df\n",
    "combined = pd.concat([massive, v_df], axis=1)\n",
    "combined.head(1)"
   ]
  },
  {
   "cell_type": "code",
   "execution_count": 37,
   "id": "eb89e1f1-0bff-4f86-8651-a43c7a1ef3bc",
   "metadata": {},
   "outputs": [],
   "source": [
    "X = combined.drop(columns=['delta_category'])\n",
    "y = combined['delta_category']\n",
    "# Converting Category datatype to integer\n",
    "y = y.cat.codes"
   ]
  },
  {
   "cell_type": "code",
   "execution_count": 38,
   "id": "3ca3d855-6d54-4f08-a154-8263c060c0a5",
   "metadata": {},
   "outputs": [
    {
     "data": {
      "text/plain": [
       "0"
      ]
     },
     "execution_count": 38,
     "metadata": {},
     "output_type": "execute_result"
    }
   ],
   "source": [
    "X.isnull().sum().sum()"
   ]
  },
  {
   "cell_type": "code",
   "execution_count": 54,
   "id": "c7540d4b-fec3-4010-871c-1c04310b757c",
   "metadata": {},
   "outputs": [
    {
     "data": {
      "text/plain": [
       "0    1\n",
       "1    2\n",
       "2    2\n",
       "3    2\n",
       "dtype: int8"
      ]
     },
     "execution_count": 54,
     "metadata": {},
     "output_type": "execute_result"
    }
   ],
   "source": [
    "y[0:4]"
   ]
  },
  {
   "cell_type": "code",
   "execution_count": 55,
   "id": "9563c69a-5fe8-478e-95ef-96b5baa219e8",
   "metadata": {},
   "outputs": [],
   "source": [
    "# Split the data into training and testing sets\n",
    "X_train, X_test, y_train, y_test = train_test_split(X, y, test_size=0.25, random_state=42)"
   ]
  },
  {
   "cell_type": "code",
   "execution_count": 57,
   "id": "3a22dd78-d2dc-439c-8358-5adcc92a006a",
   "metadata": {},
   "outputs": [
    {
     "data": {
      "application/javascript": [
       "$(document).ready(\n",
       "    function() {\n",
       "        function appendUniqueDiv(){\n",
       "            // append a div with our uuid so we can check that it's already\n",
       "            // been sent and avoid duplicates on page reload\n",
       "            var notifiedDiv = document.createElement(\"div\")\n",
       "            notifiedDiv.id = \"2af4d242-7f54-4116-8c4e-0a1d8504fbe0\"\n",
       "            element.append(notifiedDiv)\n",
       "        }\n",
       "\n",
       "        // only send notifications if the pageload is complete; this will\n",
       "        // help stop extra notifications when a saved notebook is loaded,\n",
       "        // which during testing gives us state \"interactive\", not \"complete\"\n",
       "        if (document.readyState === 'complete') {\n",
       "            // check for the div that signifies that the notification\n",
       "            // was already sent\n",
       "            if (document.getElementById(\"2af4d242-7f54-4116-8c4e-0a1d8504fbe0\") === null) {\n",
       "                var notificationPayload = {\"requireInteraction\": false, \"icon\": \"/static/base/images/favicon.ico\", \"body\": \"Cell execution has finished!\", \"only_in_background\": false};\n",
       "\n",
       "                // We have a notification but the window is active\n",
       "                if (notificationPayload.only_in_background && !window.jupyterNotifyIsInBackground) {\n",
       "                    appendUniqueDiv();\n",
       "                    return;\n",
       "                }\n",
       "                if (Notification.permission !== 'denied') {\n",
       "                    if (Notification.permission !== 'granted') { \n",
       "                        Notification.requestPermission(function (permission) {\n",
       "                            if(!('permission' in Notification)) {\n",
       "                                Notification.permission = permission\n",
       "                            }\n",
       "                        })\n",
       "                    }\n",
       "                    if (Notification.permission === 'granted') {\n",
       "                    var notification = new Notification(\"Jupyter Notebook\", notificationPayload)\n",
       "                    appendUniqueDiv()\n",
       "                    notification.onclick = function () {\n",
       "                        window.focus();\n",
       "                        this.close();\n",
       "                        };\n",
       "                    } \n",
       "                }     \n",
       "            }\n",
       "        }\n",
       "    }\n",
       ")\n"
      ],
      "text/plain": [
       "<IPython.core.display.Javascript object>"
      ]
     },
     "metadata": {},
     "output_type": "display_data"
    }
   ],
   "source": [
    "%%notify\n",
    "# Scaling X\n",
    "sc = StandardScaler()\n",
    "X_train_sc = sc.fit_transform(X_train)\n",
    "X_test_sc = sc.transform(X_test)"
   ]
  },
  {
   "cell_type": "code",
   "execution_count": 60,
   "id": "b8ae210a-41df-437c-b957-98dd50ebf7c8",
   "metadata": {},
   "outputs": [
    {
     "data": {
      "application/javascript": [
       "$(document).ready(\n",
       "    function() {\n",
       "        function appendUniqueDiv(){\n",
       "            // append a div with our uuid so we can check that it's already\n",
       "            // been sent and avoid duplicates on page reload\n",
       "            var notifiedDiv = document.createElement(\"div\")\n",
       "            notifiedDiv.id = \"e04abc8d-66a6-46c3-baba-1272fa1da7e6\"\n",
       "            element.append(notifiedDiv)\n",
       "        }\n",
       "\n",
       "        // only send notifications if the pageload is complete; this will\n",
       "        // help stop extra notifications when a saved notebook is loaded,\n",
       "        // which during testing gives us state \"interactive\", not \"complete\"\n",
       "        if (document.readyState === 'complete') {\n",
       "            // check for the div that signifies that the notification\n",
       "            // was already sent\n",
       "            if (document.getElementById(\"e04abc8d-66a6-46c3-baba-1272fa1da7e6\") === null) {\n",
       "                var notificationPayload = {\"requireInteraction\": false, \"icon\": \"/static/base/images/favicon.ico\", \"body\": \"Cell execution has finished!\", \"only_in_background\": false};\n",
       "\n",
       "                // We have a notification but the window is active\n",
       "                if (notificationPayload.only_in_background && !window.jupyterNotifyIsInBackground) {\n",
       "                    appendUniqueDiv();\n",
       "                    return;\n",
       "                }\n",
       "                if (Notification.permission !== 'denied') {\n",
       "                    if (Notification.permission !== 'granted') { \n",
       "                        Notification.requestPermission(function (permission) {\n",
       "                            if(!('permission' in Notification)) {\n",
       "                                Notification.permission = permission\n",
       "                            }\n",
       "                        })\n",
       "                    }\n",
       "                    if (Notification.permission === 'granted') {\n",
       "                    var notification = new Notification(\"Jupyter Notebook\", notificationPayload)\n",
       "                    appendUniqueDiv()\n",
       "                    notification.onclick = function () {\n",
       "                        window.focus();\n",
       "                        this.close();\n",
       "                        };\n",
       "                    } \n",
       "                }     \n",
       "            }\n",
       "        }\n",
       "    }\n",
       ")\n"
      ],
      "text/plain": [
       "<IPython.core.display.Javascript object>"
      ]
     },
     "metadata": {},
     "output_type": "display_data"
    }
   ],
   "source": [
    "%%notify\n",
    "# PCA to filter most important features\n",
    "pca = PCA(n_components=6000)\n",
    "X_train_p = pca.fit_transform(X_train_sc)\n",
    "X_test_p = pca.transform(X_test_sc)"
   ]
  },
  {
   "cell_type": "markdown",
   "id": "d15c06a0-af41-48e8-823b-c4d0a8287cb5",
   "metadata": {},
   "source": [
    "## Logistic Regression"
   ]
  },
  {
   "cell_type": "code",
   "execution_count": 62,
   "id": "23f77fd3-0e56-4485-8a77-da3f463c976f",
   "metadata": {},
   "outputs": [
    {
     "data": {
      "text/plain": [
       "LogisticRegression(max_iter=5000)"
      ]
     },
     "execution_count": 62,
     "metadata": {},
     "output_type": "execute_result"
    },
    {
     "data": {
      "application/javascript": [
       "$(document).ready(\n",
       "    function() {\n",
       "        function appendUniqueDiv(){\n",
       "            // append a div with our uuid so we can check that it's already\n",
       "            // been sent and avoid duplicates on page reload\n",
       "            var notifiedDiv = document.createElement(\"div\")\n",
       "            notifiedDiv.id = \"afaa99aa-6827-45c7-9277-7724857ba913\"\n",
       "            element.append(notifiedDiv)\n",
       "        }\n",
       "\n",
       "        // only send notifications if the pageload is complete; this will\n",
       "        // help stop extra notifications when a saved notebook is loaded,\n",
       "        // which during testing gives us state \"interactive\", not \"complete\"\n",
       "        if (document.readyState === 'complete') {\n",
       "            // check for the div that signifies that the notification\n",
       "            // was already sent\n",
       "            if (document.getElementById(\"afaa99aa-6827-45c7-9277-7724857ba913\") === null) {\n",
       "                var notificationPayload = {\"requireInteraction\": false, \"icon\": \"/static/base/images/favicon.ico\", \"body\": \"Cell execution has finished!\", \"only_in_background\": false};\n",
       "\n",
       "                // We have a notification but the window is active\n",
       "                if (notificationPayload.only_in_background && !window.jupyterNotifyIsInBackground) {\n",
       "                    appendUniqueDiv();\n",
       "                    return;\n",
       "                }\n",
       "                if (Notification.permission !== 'denied') {\n",
       "                    if (Notification.permission !== 'granted') { \n",
       "                        Notification.requestPermission(function (permission) {\n",
       "                            if(!('permission' in Notification)) {\n",
       "                                Notification.permission = permission\n",
       "                            }\n",
       "                        })\n",
       "                    }\n",
       "                    if (Notification.permission === 'granted') {\n",
       "                    var notification = new Notification(\"Jupyter Notebook\", notificationPayload)\n",
       "                    appendUniqueDiv()\n",
       "                    notification.onclick = function () {\n",
       "                        window.focus();\n",
       "                        this.close();\n",
       "                        };\n",
       "                    } \n",
       "                }     \n",
       "            }\n",
       "        }\n",
       "    }\n",
       ")\n"
      ],
      "text/plain": [
       "<IPython.core.display.Javascript object>"
      ]
     },
     "metadata": {},
     "output_type": "display_data"
    }
   ],
   "source": [
    "%%notify\n",
    "# Training learning model\n",
    "model = LogisticRegression(max_iter=5000)\n",
    "model.fit(X_train_p, y_train)"
   ]
  },
  {
   "cell_type": "code",
   "execution_count": 63,
   "id": "5c029fd9-cedb-403e-ac43-debd16f82170",
   "metadata": {},
   "outputs": [
    {
     "data": {
      "text/plain": [
       "1.0"
      ]
     },
     "execution_count": 63,
     "metadata": {},
     "output_type": "execute_result"
    }
   ],
   "source": [
    "model.score(X_train_p, y_train)"
   ]
  },
  {
   "cell_type": "code",
   "execution_count": 64,
   "id": "f456ec82-348d-434d-8f2a-23ef3bd0eecb",
   "metadata": {},
   "outputs": [
    {
     "data": {
      "text/plain": [
       "0.8070456365092074"
      ]
     },
     "execution_count": 64,
     "metadata": {},
     "output_type": "execute_result"
    }
   ],
   "source": [
    "model.score(X_test_p, y_test)"
   ]
  },
  {
   "cell_type": "code",
   "execution_count": 65,
   "id": "527c8bdf-f07e-4cec-94a6-019223f53430",
   "metadata": {},
   "outputs": [],
   "source": [
    "y_pred = model.predict(X_test_p)"
   ]
  },
  {
   "cell_type": "code",
   "execution_count": 80,
   "id": "a71a7f21-0236-46c1-90df-70144794da1b",
   "metadata": {},
   "outputs": [
    {
     "name": "stdout",
     "output_type": "stream",
     "text": [
      "              precision    recall  f1-score   support\n",
      "\n",
      "           0       0.94      0.36      0.52       133\n",
      "           1       0.93      0.65      0.76       542\n",
      "           2       0.76      0.97      0.86      2116\n",
      "           3       0.92      0.62      0.74       880\n",
      "           4       0.94      0.21      0.34        76\n",
      "\n",
      "    accuracy                           0.81      3747\n",
      "   macro avg       0.90      0.56      0.64      3747\n",
      "weighted avg       0.83      0.81      0.79      3747\n",
      "\n"
     ]
    }
   ],
   "source": [
    "print(classification_report(y_test, y_pred))"
   ]
  },
  {
   "cell_type": "code",
   "execution_count": 66,
   "id": "ee56c45a-aa70-4787-a5bf-3ede3c24053b",
   "metadata": {},
   "outputs": [
    {
     "data": {
      "image/png": "[encoded data removed]",
      "text/plain": [
       "<Figure size 600x300 with 1 Axes>"
      ]
     },
     "metadata": {},
     "output_type": "display_data"
    }
   ],
   "source": [
    "sns.set(rc = {'figure.figsize':(6,3)})\n",
    "sns.histplot(data=y_pred)\n",
    "plt.savefig('BERT_logistic_predictions.png')"
   ]
  },
  {
   "cell_type": "code",
   "execution_count": 67,
   "id": "8c784d72-ea47-434a-9ee3-6892ce0b6885",
   "metadata": {},
   "outputs": [
    {
     "data": {
      "image/png": "[encoded data removed]",
      "text/plain": [
       "<Figure size 600x300 with 1 Axes>"
      ]
     },
     "metadata": {},
     "output_type": "display_data"
    }
   ],
   "source": [
    "sns.set(rc = {'figure.figsize':(6,3)})\n",
    "sns.histplot(data=y_test)\n",
    "plt.savefig('BERT_logistic_ytest.png')"
   ]
  },
  {
   "cell_type": "markdown",
   "id": "2a85cc20-4788-4c99-93f5-11318c863f0c",
   "metadata": {},
   "source": [
    "## Random Forest Classifier"
   ]
  },
  {
   "cell_type": "code",
   "execution_count": 69,
   "id": "64adcc58-afbc-4890-942e-dddce68c2c87",
   "metadata": {},
   "outputs": [
    {
     "data": {
      "text/plain": [
       "RandomForestClassifier(n_estimators=500, n_jobs=16, random_state=30)"
      ]
     },
     "execution_count": 69,
     "metadata": {},
     "output_type": "execute_result"
    },
    {
     "data": {
      "application/javascript": [
       "$(document).ready(\n",
       "    function() {\n",
       "        function appendUniqueDiv(){\n",
       "            // append a div with our uuid so we can check that it's already\n",
       "            // been sent and avoid duplicates on page reload\n",
       "            var notifiedDiv = document.createElement(\"div\")\n",
       "            notifiedDiv.id = \"c63689a4-581f-450a-abe6-e16030cac547\"\n",
       "            element.append(notifiedDiv)\n",
       "        }\n",
       "\n",
       "        // only send notifications if the pageload is complete; this will\n",
       "        // help stop extra notifications when a saved notebook is loaded,\n",
       "        // which during testing gives us state \"interactive\", not \"complete\"\n",
       "        if (document.readyState === 'complete') {\n",
       "            // check for the div that signifies that the notification\n",
       "            // was already sent\n",
       "            if (document.getElementById(\"c63689a4-581f-450a-abe6-e16030cac547\") === null) {\n",
       "                var notificationPayload = {\"requireInteraction\": false, \"icon\": \"/static/base/images/favicon.ico\", \"body\": \"Cell execution has finished!\", \"only_in_background\": false};\n",
       "\n",
       "                // We have a notification but the window is active\n",
       "                if (notificationPayload.only_in_background && !window.jupyterNotifyIsInBackground) {\n",
       "                    appendUniqueDiv();\n",
       "                    return;\n",
       "                }\n",
       "                if (Notification.permission !== 'denied') {\n",
       "                    if (Notification.permission !== 'granted') { \n",
       "                        Notification.requestPermission(function (permission) {\n",
       "                            if(!('permission' in Notification)) {\n",
       "                                Notification.permission = permission\n",
       "                            }\n",
       "                        })\n",
       "                    }\n",
       "                    if (Notification.permission === 'granted') {\n",
       "                    var notification = new Notification(\"Jupyter Notebook\", notificationPayload)\n",
       "                    appendUniqueDiv()\n",
       "                    notification.onclick = function () {\n",
       "                        window.focus();\n",
       "                        this.close();\n",
       "                        };\n",
       "                    } \n",
       "                }     \n",
       "            }\n",
       "        }\n",
       "    }\n",
       ")\n"
      ],
      "text/plain": [
       "<IPython.core.display.Javascript object>"
      ]
     },
     "metadata": {},
     "output_type": "display_data"
    }
   ],
   "source": [
    "%%notify\n",
    "f_cores = cores-5\n",
    "fmodel = RandomForestClassifier(n_estimators=500, n_jobs=f_cores, random_state=30)\n",
    "fmodel.fit(X_train_p, y_train)"
   ]
  },
  {
   "cell_type": "code",
   "execution_count": 70,
   "id": "43003201-251e-4b86-8739-bbf99c1e4c75",
   "metadata": {},
   "outputs": [
    {
     "data": {
      "text/plain": [
       "1.0"
      ]
     },
     "execution_count": 70,
     "metadata": {},
     "output_type": "execute_result"
    }
   ],
   "source": [
    "fmodel.score(X_train_p, y_train)"
   ]
  },
  {
   "cell_type": "code",
   "execution_count": 85,
   "id": "c729ae56-cb5a-49a7-aedd-f4b7492ac7a5",
   "metadata": {},
   "outputs": [
    {
     "data": {
      "text/plain": [
       "0.8115825994128636"
      ]
     },
     "execution_count": 85,
     "metadata": {},
     "output_type": "execute_result"
    }
   ],
   "source": [
    "fmodel.score(X_test_p, y_test)"
   ]
  },
  {
   "cell_type": "code",
   "execution_count": 84,
   "id": "e64873ee-08c8-47de-88fc-d77a0ddaceae",
   "metadata": {},
   "outputs": [
    {
     "name": "stdout",
     "output_type": "stream",
     "text": [
      "[8.91363217e-05 1.45929588e-04 7.64672878e-05 ... 1.67123199e-04\n",
      " 1.34798607e-04 1.11455223e-04]\n"
     ]
    },
    {
     "data": {
      "image/png": "[encoded data removed]",
      "text/plain": [
       "<Figure size 600x300 with 1 Axes>"
      ]
     },
     "metadata": {},
     "output_type": "display_data"
    }
   ],
   "source": [
    "features = fmodel.feature_importances_\n",
    "print(features)\n",
    "plt.bar(x = range(len(features)), height=features)\n",
    "plt.show()"
   ]
  },
  {
   "cell_type": "code",
   "execution_count": 92,
   "id": "4b583f3f-a305-484a-8979-942c8a5bc182",
   "metadata": {},
   "outputs": [
    {
     "data": {
      "text/plain": [
       "array([ True,  True,  True, ...,  True,  True,  True])"
      ]
     },
     "execution_count": 92,
     "metadata": {},
     "output_type": "execute_result"
    }
   ],
   "source": [
    "from sklearn.feature_selection import SelectFromModel\n",
    "sel = SelectFromModel(fmodel)\n",
    "sel.fit(X_train_p, y_train)\n",
    "mask = sel.get_support()\n",
    "mask"
   ]
  },
  {
   "cell_type": "code",
   "execution_count": 93,
   "id": "79c28bf0-02ae-4dcf-888c-a6ad418530cb",
   "metadata": {
    "collapsed": true,
    "jupyter": {
     "outputs_hidden": true
    },
    "tags": []
   },
   "outputs": [
    {
     "name": "stdout",
     "output_type": "stream",
     "text": [
      "Most important features: ['tomatoMeter', 'title_\"Sr.\"', 'title_$9.99', \"title_'71\", 'title_(500) Days of Summer', 'title_(Untitled)', 'title_... And They Lived Happily Ever After', 'title_...And Justice for All', 'title_10', 'title_10 Cloverfield Lane', 'title_10 Items or Less', 'title_10 on Ten', 'title_100% Wolf', \"title_101 Dalmatians II: Patch's London Adventure\", 'title_102 Dalmatians', 'title_11-09-01: September 11', 'title_12 Angry Men', 'title_12 Mighty Orphans', 'title_12 Strong', 'title_12 Years a Slave', 'title_127 Hours', 'title_13 Assassins', 'title_13 Going on 30', 'title_13 Hours: The Secret Soldiers of Benghazi', 'title_13 Sins', 'title_14 Blades', 'title_14 Peaks: Nothing Is Impossible', 'title_1408', 'title_15 Minutes', 'title_16 Blocks', 'title_17 Again', 'title_18 1/2', 'title_18 Again!', 'title_1900', 'title_1917', 'title_1945', 'title_1971', 'title_2 Days in New York', 'title_2 Days in the Valley', 'title_2 Fast 2 Furious', 'title_2 Guns', 'title_2001: A Space Odyssey', 'title_2012', 'title_2046', 'title_21', 'title_21 Grams', 'title_21 Jump Street', 'title_21 and Over', 'title_211', 'title_22 July', 'title_22 Jump Street', 'title_24 Days', 'title_24 Hour Party People', 'title_24 Hours to Live', 'title_25th Hour', 'title_27 Dresses', 'title_28 Days', 'title_28 Days Later', 'title_28 Weeks Later', 'title_29th Street', 'title_3 1/2 Minutes, Ten Bullets', 'title_3 Days to Kill', 'title_3 From Hell', 'title_3 Generations', 'title_3, 2, 1... Frankie Go Boom', 'title_3-D Sex and Zen: Extreme Ecstasy', 'title_30 Beats', 'title_30 Days of Night', 'title_30 Minutes or Less', 'title_300', 'title_300: Rise of an Empire', 'title_303', 'title_31', 'title_32 Weeks', 'title_360', 'title_3:10 to Yuma', 'title_4 (Chetyre)', 'title_4 Months, 3 Weeks and 2 Days', 'title_4.3.2.1.', 'title_40 Days and 40 Nights', 'title_40 Years in the Making: The Magic Music Movie', 'title_400 Days', 'title_42', 'title_42 Up', 'title_44 Inch Chest', 'title_47 Meters Down', 'title_47 Ronin', 'title_49 Up', 'title_4:30', 'title_5 Broken Cameras', 'title_5 Flights Up', 'title_5 to 7', 'title_50 First Dates', 'title_50/50', 'title_51 Birch Street', 'title_5B', 'title_5x2', 'title_63 Up', 'title_7 Days', 'title_7 Days in Entebbe', 'title_7 Days in Hell', 'title_7 Prisoners', 'title_7500', 'title_76 Days', 'title_78/52', 'title_7th Street', 'title_8 1/2', 'title_8 1/2 Women', 'title_8 Mile', 'title_8 Women', 'title_80 for Brady', 'title_800 Bullets', 'title_8MM', 'title_9', 'title_9 to 5', 'title_93Queen', 'title_95 Miles to Go', 'title_99 Homes', 'title_A Bad Moms Christmas', 'title_A Bag of Marbles', 'title_A Band Called Death', 'title_A Band Called Impaled Rektum', 'title_A Beautiful Day in the Neighborhood', 'title_A Beautiful Mind', 'title_A Better Life', 'title_A Bloody Aria', 'title_A Bottle in the Gaza Sea', 'title_A Boy and His Dog', \"title_A Bug's Life\", 'title_A Call to Spy', 'title_A Cambodian Spring', 'title_A Cat in Paris', 'title_A Chiara', 'title_A Christmas Carol', 'title_A Christmas Prince: The Royal Wedding', 'title_A Christmas Story', 'title_A Christmas Tale', 'title_A Civil Action', 'title_A Clockwork Orange', 'title_A Coffee in Berlin', 'title_A Cure for Wellness', 'title_A Dangerous Method', 'title_A Decade Under the Influence', \"title_A Dog's Way Home\", 'title_A Dry White Season', 'title_A Fantastic Fear of Everything', 'title_A Fantastic Woman', 'title_A Few Good Men', 'title_A Few Less Men', 'title_A Field in England', 'title_A Film Unfinished', 'title_A Fish Called Wanda', 'title_A Funny Thing Happened on the Way to the Forum', 'title_A Futile and Stupid Gesture', 'title_A Gentle Creature', 'title_A Girl Like Her', 'title_A Girl at My Door', 'title_A Glitch in the Matrix', 'title_A Good American', 'title_A Good Old Fashioned Orgy', 'title_A Guy Thing', 'title_A Hard Day', 'title_A Haunting in Cawdor', 'title_A Hidden Life', 'title_A History of Violence', 'title_A Hologram for the King', 'title_A Home at the End of the World', 'title_A House Made of Splinters', 'title_A Huey P. Newton Story', 'title_A Hundred Streets', 'title_A Kind of Murder', \"title_A Knight's Tale\", 'title_A Late Quartet', 'title_A League of Ordinary Gentlemen', 'title_A Letter to Momo', \"title_A Liar's Autobiography - The Untrue Story of Monty Python's Graham Chapman\", 'title_A Lot Like Love', 'title_A Love Song for Bobby Long', 'title_A Man Called Otto', 'title_A Man Called Ove', 'title_A Man for All Seasons', \"title_A Man's Castle\", \"title_A Man's Story\", 'title_A Married Woman', 'title_A Match Made in Heaven', \"title_A Merry Friggin' Christmas\", \"title_A Midsummer Night's Dream\", \"title_A Midwinter's Tale\", 'title_A Mighty Heart', 'title_A Million Ways to Die in the West', 'title_A Monster Calls', 'title_A New Leaf', 'title_A Nightmare Wakes', 'title_A Nightmare on Elm Street', 'title_A Nightmare on Elm Street 3: Dream Warriors', 'title_A One and a Two...', 'title_A Patch of Fog', 'title_A Perfect Getaway', 'title_A Pigeon Sat on a Branch Reflecting on Existence', 'title_A Place at the Table', 'title_A Prairie Home Companion', 'title_A Prayer Before Dawn', 'title_A Prophet', 'title_A Quiet Place', 'title_A Quiet Place Part II', 'title_A Rainy Day in New York', 'title_A Raisin in the Sun', 'title_A Room With a View', 'title_A Royal Scandal', 'title_A Scanner Darkly', 'title_A Secret', 'title_A Secret Love', 'title_A Separation', 'title_A Serbian Film', 'title_A Shaun the Sheep Movie: Farmageddon', 'title_A Simple Favor', 'title_A Simple Plan', 'title_A Simple Twist of Fate', 'title_A Single Man', 'title_A Single Shot', 'title_A Slipping-Down Life', 'title_A Small Act', \"title_A Soldier's Story\", 'title_A Song Is Born', 'title_A Star Is Born', 'title_A State of Mind', 'title_A Story of Children and Film', 'title_A Stranger Among Us', 'title_A Street Cat Named Bob', 'title_A Streetcar Named Desire', \"title_A Summer's Tale\", 'title_A Syrian Love Story', 'title_A Tale of Two Sisters', 'title_A Taste of Honey', 'title_A Taste of Hunger', 'title_A Teacher', 'title_A Thin Line Between Love and Hate', 'title_A Thousand Acres', 'title_A Time to Kill', 'title_A Town Called Panic', 'title_A Tuba to Cuba', \"title_A Turtle's Tale: Sammy's Adventures\", 'title_A United Kingdom', 'title_A Very Brady Sequel', 'title_A Very Long Engagement', 'title_A View to a Kill', 'title_A Walk Among the Tombstones', 'title_A Walk in the Woods', 'title_A War', 'title_A Wedding', \"title_A Winter's Tale\", 'title_A Wolf at the Door', \"title_A Woman's Face\", \"title_A Woman's Secret\", 'title_A Wrinkle in Time', \"title_A Writer's Odyssey\", 'title_ABCD', 'title_AKA Jane Roe', 'title_ATL', 'title_ATM', 'title_Abandoned', 'title_Abattoir', 'title_Abbott and Costello Go to Mars', \"title_Abe & Phil's Last Poker Game\", 'title_Abel', 'title_Abominable', 'title_About Last Night', 'title_About Last Night ...', 'title_About Schmidt', 'title_About Time', 'title_Above Suspicion', 'title_Above and Beyond', 'title_Above the Law', 'title_Abraham Lincoln: Vampire Hunter', 'title_Absolute Power', 'title_Absolutely Fabulous: The Movie', 'title_Acasa, My Home', 'title_Across the Universe', 'title_Act of Valor', 'title_Action Point', 'title_Adam', 'title_Adaptation', 'title_Admiral', 'title_Admission', 'title_Adoration', 'title_Adrift', 'title_Adult Beginners', 'title_Adult Life Skills', 'title_Adult World', 'title_Adventureland', 'title_Aeon Flux', 'title_Affluenza', 'title_Afraid of the Dark', 'title_African Cats', 'title_After Earth', 'title_After Louie', 'title_After You', 'title_After the Ball', 'title_After the Storm', 'title_After the Wedding', 'title_After.Life', 'title_Aftermath', 'title_Aftershock', 'title_Aftersun', 'title_Against the Ropes', 'title_Agatha', 'title_Agent Cody Banks', 'title_Agent Cody Banks 2: Destination London', 'title_Aguirre: The Wrath of God', 'title_Ahead of the Curve', 'title_Ai Weiwei: Never Sorry', \"title_Ain't Them Bodies Saints\", \"title_Ain't in It for My Health: A Film About Levon Helm\", 'title_Air', 'title_Air Strike', 'title_Airplane!', 'title_Ajami', 'title_Akeelah and the Bee', 'title_Al Franken: God Spoke', 'title_Aladdin', 'title_Alamar', 'title_Alaskan Nets', 'title_Albert Nobbs', 'title_Alex & Emma', 'title_Alex Cross', 'title_Alex Strangelove', 'title_Alexander and the Terrible, Horrible, No Good, Very Bad Day', 'title_Alfie', 'title_Ali', 'title_Ali & Nino', \"title_Ali's Wedding\", \"title_Alice Doesn't Live Here Anymore\", 'title_Alice Through the Looking Glass', 'title_Alice in Wonderland', \"title_Alice's Restaurant\", 'title_Alien', 'title_Alien Addiction', 'title_Alien Resurrection', 'title_Alien: Covenant', \"title_Alien: The Director's Cut\", 'title_Aliens in the Attic', 'title_Aliens vs. Predator: Requiem', 'title_Aliens, Clowns & Geeks', 'title_Alita: Battle Angel', 'title_All About Eve', 'title_All About Nina', 'title_All Day and a Night', 'title_All Good Things', 'title_All I See Is You', 'title_All Is True', 'title_All My Friends Hate Me', 'title_All My Life', 'title_All My Loved Ones', 'title_All My Puny Sorrows', 'title_All Over Me', 'title_All Over the Guy', 'title_All Quiet on the Western Front', 'title_All Roads Lead to Rome', 'title_All Square', 'title_All That Breathes', 'title_All That Heaven Allows', 'title_All That Jazz', 'title_All Things Must Pass', 'title_All We Had', 'title_All in Good Time', 'title_All in This Tea', 'title_All or Nothing', 'title_All the Boys Love Mandy Lane', 'title_All the Bright Places', 'title_All the Money in the World', 'title_All the Old Knives', \"title_All the President's Men\", 'title_All the Pretty Horses', 'title_All the Way', 'title_All the Wild Horses', 'title_All the Wilderness', 'title_Allegro', 'title_Allegro non Troppo', 'title_Almost Christmas', 'title_Almost Famous', 'title_Aloha', 'title_Alone Together', 'title_Alone in Berlin', 'title_Alone in the Dark', 'title_Along for the Ride', 'title_Alpha', 'title_Alpha Dog', 'title_Alphaville', 'title_Altiplano', 'title_Alvin and the Chipmunks: The Squeakquel', 'title_Always at the Carlyle', 'title_Amadeus', 'title_Amandla! A Revolution in Four-Part Harmony', 'title_Amazing Grace', 'title_Ambulance', 'title_Amelia', 'title_America the Beautiful', \"title_America's Heart and Soul\", \"title_America's Sweethearts\", 'title_American Animals', 'title_American Assassin', 'title_American Beauty', 'title_American Dreamz', 'title_American Factory', 'title_American Folk', 'title_American Graffiti', 'title_American Hardcore', 'title_American History X', 'title_American Honey', 'title_American Hustle', 'title_American Made', 'title_American Mary', 'title_American Murderer', 'title_American Pastoral', 'title_American Pie', 'title_American Pie 2', 'title_American Promise', 'title_American Psycho', 'title_American Relapse', 'title_American Reunion', 'title_American Revolutionary: The Evolution of Grace Lee Boggs', 'title_American Skin', 'title_American Sniper', 'title_American Son', 'title_American Splendor', 'title_American Teen', 'title_American Ultra', 'title_American Wedding', 'title_American: The Bill Hicks Story', 'title_Amigo', 'title_Ammonite', 'title_Amour', 'title_Amreeka', 'title_Amu', 'title_Amy', 'title_Amélie', \"title_An Actor's Revenge\", 'title_An Affair of the Heart', 'title_An American Carol', 'title_An American Rhapsody', 'title_An American in Paris', 'title_An Autumn Afternoon', 'title_An Education', 'title_An Elephant Sitting Still', 'title_An Evening With Beverly Luff Linn', 'title_An Everlasting Piece', 'title_An Honest Liar', 'title_An Ideal Husband', 'title_An Impossible Love', 'title_An Unfinished Life', 'title_An Unreasonable Man', 'title_Analyze This', 'title_Anastasia', 'title_Anatomy of a Murder', 'title_Anchorman 2: The Legend Continues', 'title_Anchorman: The Legend of Ron Burgundy', 'title_And God Created Woman', 'title_And Now for Something Completely Different', 'title_And Now... Ladies and Gentlemen', 'title_And Then We Danced', 'title_And When Did You Last See Your Father?', 'title_Andre the Giant', 'title_Androcles and the Lion', 'title_Angel', 'title_Angel Eyes', 'title_Angel-A', \"title_Angela's Ashes\", 'title_Anger Management', 'title_Angkor Awakens: A Portrait of Cambodia', 'title_Angry Inuk', 'title_Angry Monk: Reflections on Tibet', 'title_Anguish', 'title_Angus, Thongs and Perfect Snogging', 'title_Aniara', 'title_Animal Kingdom', 'title_Animal World', 'title_Anita', 'title_Anna', 'title_Anna Karenina', 'title_Anna and the Apocalypse', 'title_Annabelle', 'title_Annabelle Comes Home', 'title_Annabelle: Creation', 'title_Anne Frank Remembered', 'title_Annette', 'title_Annie', 'title_Annie Hall', 'title_Anonymous', 'title_Another Day of Life', 'title_Another Earth', 'title_Another Gay Sequel: Gays Gone Wild', 'title_Another Happy Day', 'title_Another Road Home', 'title_Another Round', 'title_Another Year', 'title_Ant-Man', 'title_Ant-Man and The Wasp', 'title_Ant-Man and The Wasp: Quantumania', 'title_Antebellum', 'title_Anthem', 'title_Anthropoid', 'title_Anti Matter', 'title_Antichrist', 'title_Antlers', \"title_Anton Chekhov's The Duel\", 'title_Ants on a Shrimp', 'title_Anvil! The Story of Anvil', 'title_Any Day Now', 'title_Any Given Sunday', 'title_Anything Else', 'title_Apartment Zero', 'title_Apocalypse Now Redux', 'title_Apocalypto', 'title_Apollo 10 1/2: A Space Age Childhood', 'title_Apollo 11', 'title_Apollo 13', 'title_Apostle', 'title_Appaloosa', 'title_Applause', 'title_Apples', 'title_Apt Pupil', 'title_Aquaman', 'title_Aquamarine', 'title_Arabian Nights: Volume 3 -- The Enchanted One', 'title_Ararat', 'title_Arbitrage', 'title_Arctic', 'title_Arctic Tale', 'title_Ardor', 'title_Are You Here', 'title_Argentina, 1985', \"title_Argento's Dracula\", 'title_Argo', 'title_Ariel Phenomenon', 'title_Arizona', 'title_Arlington Road', 'title_Arlo the Alligator Boy', 'title_Armadillo', 'title_Armageddon Time', 'title_Army Of The Dead', 'title_Army in the Shadows', 'title_Army of Darkness', 'title_Army of Thieves', 'title_Arranged', 'title_Arrival', 'title_Arrivederci, Baby!', 'title_Art and Craft', 'title_Artemis Fowl', 'title_Arthur', 'title_Arthur Christmas', 'title_Arthur Newman', 'title_As Above, So Below', 'title_As Good as It Gets', 'title_As It Is in Heaven', 'title_As Luck Would Have It', 'title_As They Made Us', 'title_Ashes of Time Redux', 'title_Ask Dr. Ruth', 'title_Ask for Jane', 'title_Ask the Dust', 'title_Ass Backwards', 'title_Assassination Tango', 'title_Assault on Precinct 13', 'title_Asterix and Obelix: Mansion of the Gods', 'title_Astro', 'title_Asylum', 'title_At Any Price', \"title_At Eternity's Gate\", 'title_At Middleton', 'title_Atanarjuat the Fast Runner', 'title_Atlantis: The Lost Empire', 'title_Atomic Blonde', 'title_Atonement', 'title_Attachment', 'title_Attack of the Crab Monsters', 'title_Attack of the Killer Tomatoes', 'title_Attack the Block', 'title_Au Hasard Balthazar', 'title_August Rush', 'title_August: Osage County', 'title_Aurora', 'title_Austin Powers in Goldmember', 'title_Austin Powers: International Man of Mystery', 'title_Austin Powers: The Spy Who Shagged Me', 'title_Australia', 'title_Authors Anonymous', 'title_Auto Focus', 'title_Autoluminescent: Rowland S. Howard', 'title_Automatons', 'title_Autumn Sonata', 'title_Autumn Tale', 'title_Avatar', 'title_Avatar: The Way of Water', 'title_Avengers: Age of Ultron', 'title_Avengers: Endgame', 'title_Avengers: Infinity War', 'title_Awake', 'title_Awakening the Zodiac', 'title_Aware: Glimpses of Consciousness', 'title_Away From Her', 'title_Away We Go', 'title_Awaydays', 'title_Azumi', 'title_BMX Bandits', 'title_BPM (Beats Per Minute)', 'title_Babel', 'title_Babies', 'title_Baby Boom', 'title_Baby Boy', 'title_Baby Driver', 'title_Baby Face', 'title_Baby Mama', 'title_Babylon', 'title_Babylon A.D.', 'title_Babyteeth', 'title_Bachelorette', 'title_Back of the Net', 'title_Back on Board: Greg Louganis', 'title_Back to School', 'title_Back to the Future', 'title_Back to the Outback', 'title_Backstage', 'title_Backtrack', 'title_Bacurau', 'title_Bad Boys II', 'title_Bad Day at Black Rock', 'title_Bad Education', 'title_Bad Hurt', 'title_Bad Kids Go to Hell', 'title_Bad Lieutenant', 'title_Bad Lieutenant: Port of Call New Orleans', 'title_Bad Moms', 'title_Bad News Bears', 'title_Bad Santa', 'title_Bad Santa 2', 'title_Bad Teacher', 'title_Bad Times at the El Royale', 'title_Bad Timing: A Sensual Obsession', 'title_Bad Words', 'title_Badlands', 'title_Badrinath Ki Dulhania', 'title_Bajirao Mastani', 'title_Ball of Fire', 'title_Ballad of a White Cow', 'title_Balls of Fury', 'title_Bamako', 'title_Bamboozled', 'title_Band Aid', 'title_Band of Outsiders', 'title_Bandit', 'title_Bandits', 'title_Bandslam', 'title_Bangkok Dangerous', 'title_Baran', 'title_Barb & Star Go to Vista Del Mar', 'title_Bardo, False Chronicle of a Handful of Truths', 'title_Bare', 'title_Barenaked in America', 'title_Barnyard: The Original Party Animals', 'title_Barry Lyndon', 'title_Basic', 'title_Basquiat', 'title_Bastards', 'title_Batkid Begins: The Wish Heard Around the World', 'title_Batman & Robin', 'title_Batman Begins', 'title_Batman Vs. Teenage Mutant Ninja Turtles', 'title_Batman and Superman: Battle of the Super Sons', 'title_Batman v Superman: Dawn of Justice', 'title_Batman: Death in the Family', 'title_Batman: The Killing Joke', 'title_Batman: Under the Red Hood', 'title_Battle for Terra', 'title_Battle for the Planet of the Apes', 'title_Battle of the Sexes', 'title_Battle: Los Angeles', 'title_Battlefield Earth', 'title_Battleship', 'title_Be Cool', 'title_Be Natural: The Untold Story of Alice Guy-Blaché', 'title_Beach House', 'title_Beaches', 'title_Bean', 'title_Bear Cub', 'title_Bears', 'title_Beast', 'title_Beastie Boys Story', 'title_Beasts Clawing at Straws', 'title_Beasts of No Nation', 'title_Beasts of the Southern Wild', 'title_Beau travail', 'title_Beautiful Boxer', 'title_Beautiful Boy', 'title_Beautiful Creatures', 'title_Beautiful Losers', 'title_Beauty Mark', 'title_Beauty and the Beast', 'title_Beavis and Butt-Head Do the Universe', 'title_Beavis and Butt-head Do America', 'title_Beba', 'title_Because of Winn-Dixie', 'title_Becket', 'title_Beckett', 'title_Becoming Bond', 'title_Becoming Jane', 'title_Bedazzled', 'title_Bedrooms & Hallways', 'title_Bee Movie', 'title_Before I Fall', 'title_Before I Go to Sleep', 'title_Before I Wake', \"title_Before I'm Dead\", 'title_Before Midnight', 'title_Before Night Falls', 'title_Before Sunset', \"title_Before the Devil Knows You're Dead\", 'title_Before the Fall', 'title_Before the Flood', 'title_Before the Rains', 'title_Before the Winter Chill', 'title_Begin Again', 'title_Beginners', 'title_Behen Hogi Teri', 'title_Behind the Burly Q', 'title_Being Charlie', 'title_Being Flynn', 'title_Being John Malkovich', 'title_Being Julia', 'title_Being the Ricardos', 'title_Bel Ami', 'title_Belfast', 'title_Belgica', 'title_Belizaire the Cajun', 'title_Belladonna of Sadness', 'title_Belle', 'title_Belle de Jour', 'title_Bellflower', 'title_Belly of the Beast', 'title_Beloved', 'title_Below', 'title_Belushi', 'title_Ben', 'title_Ben Is Back', 'title_Ben-Hur', 'title_Bend It Like Beckham', 'title_Beneath', 'title_Beneath Hill 60', 'title_Beneath the Harvest Sky', 'title_Beneath the Leaves', 'title_Benedetta', 'title_Benji', 'title_Beowulf', 'title_Beowulf & Grendel', 'title_Berberian Sound Studio', 'title_Bereavement', 'title_Besharam', 'title_Best Summer Ever', 'title_Better Luck Tomorrow', 'title_Better Nate Than Ever', 'title_Better Off Dead', 'title_Between Us', 'title_Beverly Hills Chihuahua', 'title_Beverly Hills Cop III', 'title_Beware the Gonzo', 'title_Bewitched', 'title_Beyond Vanilla', 'title_Beyond the Black Rainbow', 'title_Beyond the Edge', 'title_Beyond the Hills', 'title_Beyond the Infinite Two Minutes', 'title_Beyond the Mat', 'title_Beyond the Pole', 'title_Beyond the Reach', 'title_Beyond the Sea', 'title_Beyond the Valley of the Dolls', 'title_Bhaji on the Beach', 'title_Bicentennial Man', \"title_Bickford Schmeckler's Cool Ideas\", 'title_Bicycle Thieves', 'title_Big', 'title_Big Bad Wolves', 'title_Big Deal on Madonna Street', 'title_Big Driver', 'title_Big Eden', 'title_Big Eyes', 'title_Big Fish', 'title_Big Game', 'title_Big Hero 6', 'title_Big Jake', 'title_Big Miracle', 'title_Big Nothing', 'title_Big Sonia', 'title_Big Time', 'title_Big Time Adolescence', 'title_Big Trouble', 'title_Big Trouble in Little China', 'title_Bigger Than Life', 'title_Bigger Than the Sky', 'title_Biggie: I Got a Story to Tell', 'title_Bilal: A New Breed of Hero', 'title_Bill & Ted Face the Music', \"title_Bill & Ted's Bogus Journey\", 'title_Bill Cunningham New York', \"title_Billie Eilish: The World's a Little Blurry\", 'title_Billy Elliot', \"title_Billy Lynn's Long Halftime Walk\", \"title_Billy's Hollywood Screen Kiss\", 'title_Bird Box', 'title_Bird People', 'title_Birdman or (The Unexpected Virtue of Ignorance)', 'title_Birds of Prey (and the Fantabulous Emancipation of One Harley Quinn)', 'title_Birdy', 'title_Birth', 'title_Bitch Slap', 'title_Bite', 'title_Bite the Bullet', 'title_Biutiful', 'title_BlacKkKlansman', \"title_Black '47\", 'title_Black Adam', 'title_Black Beauty', 'title_Black Book', 'title_Black Box', 'title_Black Christmas', 'title_Black Hawk Down', 'title_Black Is King', 'title_Black Mass', 'title_Black Moon Rising', 'title_Black Nativity', 'title_Black November', 'title_Black Orpheus', 'title_Black Panther', 'title_Black Panther: Wakanda Forever', 'title_Black Snake Moan', 'title_Black Swan', 'title_Black Water', 'title_Black Widow', 'title_Black and White', 'title_Blackbird', 'title_Blackboards', 'title_Blackfish', 'title_Blackhat', 'title_Blackmail', 'title_Blackthorn', 'title_Blacula', 'title_Blade', 'title_Blade II', 'title_Blade Runner', 'title_Blade: Trinity', 'title_Blades of Glory', 'title_Blair Witch', 'title_Blame', 'title_Blast From the Past', 'title_Blazing Saddles', 'title_Bleed for This', 'title_Blind', 'title_Blind Date', 'title_Blind Flight', 'title_Blind Spot', 'title_Blinded by the Light', 'title_Blindsight', 'title_Blink of an Eye', 'title_Bliss', 'title_Blithe Spirit', 'title_Blood', 'title_Blood Brother', 'title_Blood Brothers: Malcolm X & Muhammad Ali', 'title_Blood Diamond', 'title_Blood Fest', 'title_Blood Hunters', 'title_Blood and Tears: The Arab-Israeli Conflict', 'title_Blood: The Last Vampire', 'title_BloodRayne', 'title_Bloodshot', 'title_Bloody Hell', 'title_Bloody Sunday', 'title_Blow', 'title_Blow Out', 'title_Blue Bayou', 'title_Blue Car', 'title_Blue Collar', 'title_Blue Is the Warmest Color', 'title_Blue Jasmine', 'title_Blue Like Jazz', 'title_Blue My Mind', 'title_Blue Ruin', 'title_Blue Story', 'title_Blue Valentine', \"title_Blue's Big City Adventure\", 'title_Blueback', 'title_Blues Brothers 2000', 'title_Blumenthal', \"title_Blumhouse's Truth or Dare\", 'title_Bo Burnham: Inside', 'title_Bobbi Jene', 'title_Bobby', 'title_Bodied', 'title_Bodies Bodies Bodies', 'title_Body Heat', 'title_Body of Lies', 'title_Body of War', 'title_Bohemian Rhapsody', 'title_Boiler Room', 'title_Bol Bachchan', 'title_Bollywood/Hollywood', 'title_Bolt', 'title_Bombay Beach', 'title_Bombay Velvet', 'title_Bombshell', 'title_Bombshell: The Hedy Lamarr Story', 'title_Bon Voyage', 'title_Bone Tomahawk', 'title_Bones and All', 'title_Bonnie and Clyde', 'title_Bonsai People: The Vision of Muhammad Yunus', 'title_Boogeyman', 'title_Boogie', 'title_Boogie Nights', 'title_Book Club', 'title_Book of Love', 'title_Booksmart', 'title_Boom for Real: The Late Teenage Years of Jean-Michel Basquiat', 'title_Borg vs. McEnroe', 'title_Born Into Brothels', 'title_Born Romantic', 'title_Born in China', 'title_Born to Be Blue', 'title_Born to Kill', 'title_Borstal Boy', 'title_Boss Level', 'title_Boston Strangler', 'title_Bottle Rocket', 'title_Boundaries', 'title_Bowling for Columbine', 'title_Boy', 'title_Boy Culture', 'title_Boy Erased', 'title_Boy Meets Boy', 'title_Boy Meets Girl', 'title_Boy and the World', 'title_Boychoir', 'title_Boyhood', 'title_Boys State', 'title_Boys Town', 'title_Boys in the Trees', 'title_Boys of Abu Ghraib', 'title_Boys on the Side', 'title_Boyz N the Hood', 'title_Bra Boys', \"title_Brad's Status\", 'title_Brahmāstra Part One: Shiva', 'title_Brainwashed: Sex-Camera-Power', 'title_Brake', \"title_Bram Stoker's Dracula\", 'title_Bran Nue Dae', 'title_Brand Upon the Brain', 'title_Branded', 'title_Brave', 'title_Breach', 'title_Breakdown', 'title_Breaker Morant', \"title_Breakfast at Tiffany's\", 'title_Breakfast of Champions', 'title_Breakheart Pass', \"title_Breakin' All the Rules\", 'title_Breaking', 'title_Breaking Boundaries: The Science Of Our Planet', 'title_Breaking News', 'title_Breaking and Entering', 'title_Breath', 'title_Breath of the Gods', 'title_Breathe', 'title_Brexit', 'title_Brian Wilson: Long Promised Road', 'title_Brian and Charles', 'title_Brick', 'title_Bride & Prejudice', 'title_Bride Flight', 'title_Bride Wars', 'title_Bridesmaids', 'title_Bridge to Terabithia', \"title_Bridget Jones's Baby\", 'title_Brief Encounter', 'title_Bright Star', 'title_Brightburn', 'title_Brighton Rock', 'title_Brigsby Bear', 'title_Brimstone', 'title_Bring It On', 'title_Bringing Down the House', 'title_Bringing Out the Dead', 'title_Bringing Up Baby', 'title_Brittany Runs a Marathon', 'title_Broadway Melody of 1936', 'title_Brokeback Mountain', 'title_Broken City', 'title_Broken Flowers', \"title_Broken Lizard's Club Dread\", 'title_Broken Sky', 'title_Broken Vessels', 'title_Broken Wings', 'title_Bronson', 'title_Brooklyn', 'title_Brooklyn Rules', 'title_Bros', 'title_Brother', 'title_Brother Bear', \"title_Brother's Nest\", 'title_Brotherhood', 'title_Brotherhood of the Wolf', 'title_Brothers', 'title_Brothers of the Head', 'title_Brown Sugar', 'title_Bruce Almighty', 'title_Bruised', 'title_Brüno', 'title_Bubba Ho-Tep', 'title_Bubble', 'title_Buck', 'title_Buddy Games', 'title_Buffalo Bill and the Indians', 'title_Buffalo Soldiers', 'title_Bug', 'title_Bugsy', 'title_Bukowski: Born Into This', 'title_Bulbbul', 'title_Bull Durham', 'title_Bullet to the Head', 'title_Bulletproof Monk', 'title_Bullets of Justice', 'title_Bullett Raja', 'title_Bullhead', 'title_Bullitt', 'title_Bully', 'title_Bumblebee', 'title_Bunch of Kunst', 'title_Buoyancy', 'title_Burden', 'title_Burke & Hare', 'title_Burlesque', 'title_Burn', 'title_Burn, Witch, Burn!', 'title_Burning', 'title_Burning Blue', 'title_Burnt', 'title_Burying the Ex', 'title_Bus 174', \"title_But I'm a Cheerleader\", 'title_Butter', 'title_By the Gun', 'title_By the Sea', 'title_Bye Bye Birdie', 'title_Bye Bye Germany', \"title_C'mon C'mon\", 'title_CODA', 'title_CRSHD', 'title_Cabin in the Sky', 'title_Caché', 'title_Cadillac Records', 'title_Caesar Must Die', 'title_Café Lumière', 'title_Café Society', 'title_Cairo Time', 'title_Cake', 'title_California Typewriter', 'title_Caligula', 'title_Call Jane', 'title_Call Me Kuchu', 'title_Call Me by Your Name', 'title_Calle 54', 'title_Calvary', 'title_Cam2Cam', 'title_Camp Rock', 'title_Can You Ever Forgive Me?', 'title_Can You Keep a Secret?', 'title_Candyman', 'title_Cane Toads: The Conquest', 'title_Cannibal Holocaust', 'title_Cape Fear', 'title_Capernaum', 'title_Capitalism: A Love Story', 'title_Captain America: Civil War', 'title_Captain America: The Winter Soldier', 'title_Captain Eager and the Mark of Voth', 'title_Captain Fantastic', 'title_Captain Marvel', 'title_Captain Pantoja and the Special Service', 'title_Captain Phillips', 'title_Captive', 'title_Captive State', 'title_Capture the Flag', 'title_Caramel', 'title_Carandiru', 'title_Careful', 'title_Carnage', 'title_Carnage Park', 'title_Carnival of Souls', 'title_Carrie', 'title_Carrington', 'title_Cars', 'title_Cars 3', 'title_Cartel Land', 'title_Carter', 'title_Casanova', 'title_Case 39', 'title_Cashback', 'title_Casino Royale', 'title_Cast Away', 'title_Casting By', 'title_Cat People', 'title_Cat on a Hot Tin Roof', 'title_Catch Me if You Can', 'title_Catch a Fire', 'title_Catch and Release', 'title_Catfight', 'title_Catfish', 'title_Catherine Called Birdy', 'title_Cats', \"title_Cats Don't Dance\", 'title_Catwalk: Tales From The Cat Show Circuit', 'title_Causeway', 'title_Cave of the Yellow Dog', 'title_Cavite', 'title_Cecil B. Demented', 'title_Celeste and Jesse Forever', 'title_Cell', 'title_Cell 211', 'title_Cellular', 'title_Cemetery Junction', 'title_Center of My World', 'title_Centigrade', 'title_Central Intelligence', 'title_Central Station', 'title_Centurion', 'title_Certified Copy', 'title_Cesar and Rosalie', 'title_Cha Cha Real Smooth', 'title_Chalk', 'title_Chandni Chowk to China', 'title_Change of Plans', 'title_Chaplin', 'title_Chappaquiddick', 'title_Chappie', 'title_Chapter 27', 'title_Charade', 'title_Chariots of Fire', 'title_Charli XCX: Alone Together', 'title_Charlie Bartlett', 'title_Charlie Says', 'title_Charlie and the Chocolate Factory', \"title_Charlie's Angels\", \"title_Charlie's Angels: Full Throttle\", \"title_Charlie's Country\", 'title_Charlotte', \"title_Charlotte Bronte's Jane Eyre\", 'title_Charlotte Has Fun', 'title_Charulata', 'title_Chasers', 'title_Chasing Einstein', 'title_Chasing the Win', 'title_Chatham', 'title_Chatroom', 'title_Chavela', 'title_Che: Part One', 'title_Cheap Thrills', \"title_Cheatin'\", 'title_Chelsea on the Rocks', 'title_Chennai Express', 'title_Cherish', 'title_Chernobyl Diaries', 'title_Cherry Blossoms', 'title_Chicago', 'title_Chicago 10', 'title_ChickLit', 'title_Chicken Little', 'title_Chiko', \"title_Child's Play\", \"title_Child's Pose\", 'title_Children of Men', 'title_Children of Paradise', 'title_Chimes at Midnight', 'title_Chimpanzee', 'title_Chinatown', 'title_Chinese Puzzle', 'title_Chingu 2', \"title_Chip 'n' Dale: Rescue Rangers\", 'title_Chloe', 'title_Choke', 'title_Choking Man', 'title_Chongqing Hot Pot', 'title_Chop Shop', 'title_Chopper', 'title_Chris & Don: A Love Story', 'title_Christine', 'title_Chronically Metropolitan', 'title_Chronicle', 'title_Chuck & Buck', \"title_Chuck Berry Hail! Hail! Rock 'n' Roll\", 'title_Chungking Express', 'title_Chunhyang', 'title_Ciao! Manhattan', 'title_Cinderella', 'title_Cinderella Man', 'title_Cinderfella', 'title_Cinema Paradiso', 'title_Circumstance', \"title_Cirque du Freak: The Vampire's Assistant\", 'title_Cirque du Soleil: Worlds Away', 'title_Citizen Kane', 'title_Citizen X', 'title_Citizenfour', 'title_City Island', 'title_City by the Sea', 'title_City of Angels', 'title_City of Ember', 'title_City of God', 'title_City of Hope', 'title_City of Lies', 'title_Clash', 'title_Clash of the Titans', 'title_Class Action Park', 'title_Class of 1984', 'title_Class of 1999', 'title_Clean', 'title_Clementine', 'title_Clerks', 'title_Clerks II', 'title_Clerks III', 'title_Client 9: The Rise and Fall of Eliot Spitzer', \"title_Clifford's Really Big Movie\", 'title_Climates', 'title_Climax', 'title_Clive Davis: The Soundtrack of Our Lives', 'title_Clockstoppers', 'title_Close', 'title_Close to Home', 'title_Close-Up', 'title_Closed Circuit', 'title_Closer', 'title_Closer to the Edge', 'title_Closet Monster', 'title_Cloud Atlas', 'title_Cloudy With a Chance of Meatballs', 'title_Cloudy With a Chance of Meatballs 2', 'title_Cloverfield', 'title_Clown', 'title_ClownTown', 'title_Clueless', \"title_Coal Miner's Daughter\", 'title_Cocaine Bear', 'title_Cocaine Cowboys', 'title_Coco', 'title_Coco Before Chanel', 'title_Coco Chanel & Igor Stravinsky', 'title_Code 46', 'title_Code Unknown', 'title_Coffee & Kareem', 'title_Coffee Date', 'title_Coffee and Cigarettes', 'title_Coherence', 'title_Cold Case Hammarskjöld', 'title_Cold Creek Manor', 'title_Cold Fish', 'title_Cold Mountain', 'title_Cold Pursuit', 'title_Cold War', 'title_Cold in July', 'title_Coldplay: A Head Full of Dreams', 'title_Colette', 'title_Colin', 'title_Collapse', 'title_Collateral', 'title_Collateral Damage', 'title_Collective', 'title_Color Out of Space', 'title_Colors', 'title_Columbus', 'title_Come Away', 'title_Come From Away', 'title_Come Play', 'title_Come as You Are', 'title_Come to Daddy', 'title_Comedian', 'title_Comes a Horseman', 'title_Comet', 'title_Coming 2 America', 'title_Coming Home', 'title_Coming Home Again', 'title_Coming to America', 'title_Command and Control', 'title_Compadres', 'title_Compartment No. 6', 'title_Complete Unknown', 'title_Con Air', \"title_Conan O'Brien Can't Stop\", 'title_Conan the Barbarian', 'title_Concrete Cowboy', 'title_Concussion', 'title_Confess, Fletch', 'title_Confessions of a Dangerous Mind', 'title_Confessions of a Shopaholic', 'title_Confetti', 'title_Confidence', 'title_Confirmation', 'title_Confucius', 'title_Confusion of Genders', 'title_Congo', 'title_Conquest of the Planet of the Apes', 'title_Conrack', 'title_Consecration', 'title_Conspiracy Theory', 'title_Constantine', 'title_Contact', 'title_Contagion', 'title_Contemporary Color', 'title_Contraband', 'title_Control', 'title_Conviction', 'title_Cool It', 'title_Cooley High', 'title_Cooties', 'title_Cop Car', 'title_Cops and Robbersons', 'title_Copshop', 'title_Copycat', 'title_Coral Reef Adventure', 'title_Coraline', \"title_Corman's World: Exploits of a Hollywood Rebel\", 'title_Corpus Christi', 'title_Cosmopolis', 'title_Cotton Mary', 'title_Count Yorga, Vampire', 'title_Countdown to Zero', 'title_Country Strong', 'title_Coup 53', 'title_Court', 'title_Cowboy Bebop: The Movie', 'title_Cowboys & Aliens', 'title_Cracks', 'title_Cradle Will Rock', 'title_Crank', 'title_Crank: High Voltage', 'title_Crash', 'title_Crash Pad', 'title_Crawl', 'title_Crawlspace', 'title_Crazy Eyes', 'title_Crazy Heart', 'title_Crazy Love', 'title_Crazy Rich Asians', 'title_Crazy as Hell', 'title_Crazy/Beautiful', 'title_Creation', 'title_Creative Control', 'title_Creature From the Black Lagoon', 'title_Creed', 'title_Creed II', 'title_Creed III', 'title_Creep', 'title_Creepshow', 'title_Creepy', 'title_Crime + Punishment', 'title_Crime After Crime', 'title_Crimes of the Heart', 'title_Criminal', 'title_Crimson Gold', 'title_Crimson Peak', 'title_Crimson Tide', 'title_Crip Camp', 'title_Crisis', 'title_Critters', 'title_Critters 2: The Main Course', 'title_Crocodile Gennadiy', 'title_Cronicas', 'title_Crooklyn', 'title_Crop Circles: Quest for Truth', 'title_Cross My Heart', 'title_Crossfire Hurricane', 'title_Crossing the Line', 'title_Crouching Tiger, Hidden Dragon', 'title_Crown Heights', 'title_Crude', 'title_Cruel Intentions', 'title_Cruella', 'title_Cruising', 'title_Crumb', 'title_Cry Baby', 'title_Cry Wolf', 'title_Cuban Fury', 'title_Cubby', 'title_Cube', 'title_Cul-de-Sac', 'title_Curse of Aurore', 'title_Curse of the Golden Flower', 'title_Cursed', 'title_Curvature', 'title_Custody', 'title_Cut Throat City', 'title_Cutthroat Island', 'title_Cymbeline', 'title_Cypher', 'title_Cyrano', 'title_D.E.B.S.', 'title_D.O.A.', 'title_DC League of Super-Pets', 'title_Daawat-e-Ishq', 'title_Dachra', 'title_Daddy Day Care', 'title_Daddy Issues', \"title_Daddy's Home\", \"title_Daddy's Little Girls\", 'title_Dagon', 'title_Daisies', 'title_Dallas Buyers Club', 'title_Damsel', 'title_Damsels in Distress', 'title_Dan in Real Life', 'title_Dance Flick', 'title_Dance Me Outside', 'title_Dance With Me', 'title_Dancer in the Dark', 'title_Dances With Wolves', 'title_Dancing in Jaffa', 'title_Dandelion', 'title_Dangerous Ishhq', 'title_Dangerous Liaisons', 'title_Dangerous Lies', \"title_Daniel Isn't Real\", 'title_Danny Collins', 'title_Danny Deckchair', 'title_Dante 01', \"title_Dante's Peak\", 'title_Danton', 'title_Darbareye Elly', 'title_Dare', 'title_Daredevil', 'title_Dark Blue World', 'title_Dark City', 'title_Dark Days', 'title_Dark Night', 'title_Dark Night of the Scarecrow', 'title_Dark Passage', 'title_Dark Phoenix', 'title_Dark Places', 'title_Dark Shadows', 'title_Dark Star', \"title_Dark Star: H.R. Giger's World\", 'title_Dark Water', 'title_Dark Waters', 'title_Darkest Hour', 'title_Darling Companion', 'title_Das Boot', 'title_Date Night', \"title_Dave Chappelle's Block Party\", 'title_David Brent: Life on the Road', \"title_David Byrne's American Utopia\", 'title_David Lynch: The Art Life', 'title_Dawn of the Dead', 'title_Dawn of the Planet of the Apes', 'title_Day Watch', 'title_Day of Wrath', 'title_Day of the Dead', 'title_Daybreak', 'title_Daybreakers', 'title_Days of Being Wild', 'title_Days of Wine and Roses', 'title_Days of the Bagnold Summer', 'title_Dazed and Confused', 'title_De Palma', 'title_De-Lovely', 'title_Dead & Beautiful', 'title_Dead & Breakfast', 'title_Dead Europe', 'title_Dead Man Down', \"title_Dead Man's Burden\", 'title_Dead Ringers', 'title_Dead in a Week', 'title_Deadfall', 'title_Deadline', 'title_Deadly Illusions', 'title_Deadpool', 'title_Deadpool 2', 'title_Deadstream', 'title_Deadwood: The Movie', 'title_Dealt', 'title_Dean', 'title_Dear Comrades!', 'title_Dear Evan Hansen', 'title_Dear God', 'title_Dear Lemon Lima', 'title_Dear Mother', 'title_Death Note', 'title_Death Race', 'title_Death Race 2000', 'title_Death Wish', 'title_Death and the Maiden', 'title_Death at a Funeral', 'title_Death by China', 'title_Death in Venice', 'title_Death of Me', 'title_Death of a President', 'title_Death on the Nile', 'title_Death to 2020', 'title_Death to Smoochy', 'title_December Boys', 'title_Decision to Leave', 'title_Deconstructing Harry', 'title_Deep', 'title_Deep Blue', 'title_Deep Blue Sea', 'title_Deep Cover', 'title_Deep Water', 'title_Deep Web', 'title_Deepwater Horizon', 'title_Defamation', 'title_Default', 'title_Defiance', 'title_Definitely, Maybe', 'title_Delgo', 'title_Delhi Safari', 'title_Delhi-6', 'title_Deli Man', 'title_Delicacy', 'title_Delirious', 'title_Deliver Us From Evil', 'title_Deliverance', 'title_Delivery Man', 'title_Dementia', 'title_Demolition', 'title_Demolition Man', 'title_Demon', 'title_Demon Slayer -Kimetsu no Yaiba- The Movie: Mugen Train', 'title_Demonic', 'title_Den of Thieves', 'title_Denial', 'title_Departures', 'title_Descendants', 'title_Desierto - Border Sniper', 'title_Despair', 'title_Desperate Hours', 'title_Despicable Me', 'title_Despicable Me 3', 'title_Detachment', 'title_Detention of the Dead', 'title_Detour', 'title_Detroit', 'title_Deuce Bigalow: European Gigolo', 'title_Deviation', 'title_Devil', 'title_Devil Doll', \"title_Devil's Reincarnation\", 'title_Devotion', 'title_Dhamaka', 'title_Dheepan', 'title_Diabolique', 'title_Diana', 'title_Diana Vreeland: The Eye Has to Travel', 'title_Diary of a Chambermaid', 'title_Diary of a Wimpy Kid', 'title_Diary of a Wimpy Kid: Rodrick Rules', 'title_Diary of the Dead', 'title_Dick', 'title_Dickie Roberts: Former Child Star', 'title_Did You Hear About the Morgans?', 'title_Die Another Day', 'title_Die Hard', 'title_Die Hard 2', 'title_Die Hard With a Vengeance', 'title_Die Tomorrow', 'title_Diggers', 'title_Dil Se', 'title_Diminished Capacity', 'title_Diner', 'title_Dingo', 'title_Dinner for Schmucks', 'title_Dinner in America', 'title_Dinosaur', 'title_Dinosaur 13', 'title_Dior and I', \"title_Director's Cut\", 'title_Dirty Dancing', 'title_Dirty Girl', 'title_Dirty Harry', 'title_Dirty Laundry', 'title_Dirty Pretty Things', 'title_Dirty Rotten Scoundrels', 'title_Dirty Wars', 'title_Disappearances', 'title_Disconnect', 'title_Dishonored', \"title_Disney's A Christmas Carol\", 'title_Disobedience', 'title_District 9', 'title_District B13', 'title_Disturbia', 'title_Diva', 'title_Divan', 'title_Divided We Fall', 'title_Divine Intervention', 'title_Divine Secrets of the Ya-Ya Sisterhood', 'title_Divines', 'title_Django Unchained', 'title_Do It Like an Hombre', 'title_Do You Trust This Computer?', 'title_Doc Hollywood', 'title_Doctor Detroit', 'title_Doctor Sleep', 'title_Doctor Strange', 'title_Doctor Strange in the Multiverse of Madness', 'title_Dodgeball: A True Underdog Story', 'title_Dog', 'title_Dog Day Afternoon', 'title_Dog Days', 'title_Dog Pound', 'title_Doghouse', 'title_Dogma', 'title_Dogman', 'title_Dogtooth', 'title_Dogtown and Z-Boys', 'title_Dogville', 'title_Dolemite Is My Name', 'title_Dolittle', 'title_Dolls', 'title_Dolly Ki Doli', \"title_Dolly Parton's Christmas on the Square\", 'title_Dolphin Island', 'title_Dom Hemingway', 'title_Domestic Disturbance', 'title_Domino', 'title_Don Juan DeMarco', 'title_Don McKay', \"title_Don't Be Nice\", \"title_Don't Breathe\", \"title_Don't Come Knocking\", \"title_Don't Look Now\", \"title_Don't Make Me Go\", \"title_Don't Move\", \"title_Don't Say a Word\", \"title_Don't Sleep\", \"title_Don't Stop Believin': Everyman's Journey\", \"title_Don't Talk to Irene\", \"title_Don't Worry Darling\", \"title_Don't Worry, He Won't Get Far on Foot\", 'title_Donald Cried', 'title_Donbass', 'title_Donnie Darko', \"title_Donny's Bar Mitzvah\", 'title_Donnybrook', 'title_Doomsday', 'title_Dope', 'title_Dora and the Lost City of Gold', 'title_Dorian Gray', 'title_Dostana', 'title_Double Dragon', 'title_Double Indemnity', 'title_Double Lover', 'title_Doubt', 'title_Down Terrace', 'title_Down With Love', 'title_Down in the Delta', 'title_Down in the Valley', 'title_Downfall', 'title_Downfall: The Case Against Boeing', 'title_Downhill', 'title_Downsizing', 'title_Downton Abbey', 'title_Downton Abbey: A New Era', 'title_Downtown 81', 'title_Dr. Dolittle', 'title_Dr. Dolittle 2', 'title_Dr. Giggles', \"title_Dr. Seuss' The Cat in the Hat\", \"title_Dr. Seuss' The Grinch\", \"title_Dr. Seuss' the Lorax\", 'title_Dr. Strangelove Or: How I Learned to Stop Worrying and Love the Bomb', 'title_Dr. T & the Women', 'title_Dracula', \"title_Dracula: Pages From a Virgin's Diary\", 'title_Drag Me to Hell', 'title_Dragged Across Concrete', 'title_Dragon Ball Super: Broly', 'title_Dragon Ball Super: Super Hero', 'title_Dragon Blade', 'title_Dragon Inn', 'title_Dragonfly', 'title_Dream Home', 'title_Dream Horse', 'title_Dreamcatcher', 'title_Dreamer: Inspired by a True Story', 'title_Dreamgirls', 'title_Dreaming Lhasa', 'title_Dreaming Walls: Inside the Chelsea Hotel', 'title_Dreamland', 'title_Dreams With Sharp Teeth', 'title_Dreams of a Life', 'title_Dredd', 'title_Drillbit Taylor', 'title_Drive', 'title_Drive Angry', 'title_Drive Hard', 'title_Drive Me Crazy', 'title_Drive My Car', 'title_Driven', 'title_Driveways', 'title_Drop Dead Gorgeous', 'title_Drowning Mona', 'title_Drugstore Cowboy', 'title_Drumline', 'title_Drunk Stoned Brilliant Dead: The Story of the National Lampoon', 'title_Drunken Angel', \"title_Drunktown's Finest\", 'title_Dual', 'title_Duck Season', 'title_Due Date', 'title_Duets', 'title_Duma', 'title_Dumb & Dumber', 'title_Dumb and Dumber To', 'title_Dumbo', 'title_Dune', 'title_Dunkirk', 'title_Duplex', 'title_Dying Laughing', 'title_Dying to Know: Ram Dass & Timothy Leary', 'title_Déjà Vu', 'title_EDtv', 'title_EMMA.', 'title_Eagle Eye', 'title_Eames: The Architect & the Painter', 'title_Earth', 'title_Earth Girls Are Easy', 'title_Earth to Echo', 'title_Eastern Boys', 'title_Eastern Promises', 'title_Easy A', 'title_Easy Living', 'title_Easy Rider', 'title_Easy Virtue', 'title_Eat Drink Man Woman', 'title_Eat Pray Love', 'title_Echo in the Canyon', 'title_Echoes of the Empire: Beyond Genghis Khan', 'title_Eddie Murphy Raw', 'title_Eddie Reynolds y los Ángeles de Acero', 'title_Eddie and the Cruisers', 'title_Eddie the Eagle', 'title_Eden', 'title_Edge of Darkness', 'title_Edge of Tomorrow', 'title_Edvard Munch', 'title_Effie Gray', 'title_Eight Legged Freaks', 'title_Eight Minutes Idle', 'title_Eighth Grade', 'title_Eisenstein in Guanajuato', 'title_El Camino: A Breaking Bad Movie', 'title_El Mariachi', 'title_El topo', 'title_El último traje', 'title_Election', 'title_Electric Man', 'title_Electrick Children', 'title_Elegy', 'title_Elektra', 'title_Elektra Luxx', 'title_Elephant', 'title_Elevator to the Gallows', 'title_Elf', 'title_Eli', 'title_Elite Squad 2', 'title_Elizabeth', 'title_Elizabeth: The Golden Age', 'title_Elizabethtown', 'title_Ella Enchanted', 'title_Elle', 'title_Elsa & Fred', \"title_Elvira I Will Give You My Life But I'm Using It\", 'title_Elvira Madigan', 'title_Elvis & Nixon', 'title_Elysium', 'title_Emancipation', 'title_Emile', 'title_Emily', 'title_Emily the Criminal', 'title_Empathy, Inc.', 'title_Emperor', 'title_Empire of Light', 'title_Empire of Silver', 'title_Empire of the Sun', 'title_Encanto', 'title_Enchanted', 'title_Enchanted April', 'title_Encounter', 'title_Encounter in the Third Dimension', 'title_Encounters at the End of the World', 'title_End of Watch', 'title_End of the Century', \"title_Ender's Game\", 'title_Endgame', 'title_Endhiran', 'title_Enduring Love', 'title_Enemy', 'title_Enemy at the Gates', 'title_Enemy of the State', 'title_England Is Mine', 'title_Enigma', 'title_Enola Holmes 2', 'title_Enough', 'title_Enron: The Smartest Guys in the Room', 'title_Enter the Dragon', 'title_Enter the Void', 'title_Entrapment', 'title_Envy', 'title_Epic', 'title_Eraserhead', 'title_Erin Brockovich', 'title_Eros', 'title_Escape From New York', 'title_Escape From Planet Earth', 'title_Escape Plan', 'title_Escape Room', 'title_Escape from Kabul', 'title_Esther Kahn', 'title_Eternal Spring', 'title_Eternal Sunshine of the Spotless Mind', 'title_Eternals', 'title_Ethel', 'title_Euphoria', 'title_Eureka', 'title_Euro Pudding', 'title_Eurovision Song Contest: The Story of Fire Saga', 'title_Eva', 'title_Eva Hesse', 'title_Evangelion: 1.11 You Are (Not) Alone', 'title_Evangelion: 2.22 You Can (Not) Advance', 'title_Eve of Destruction', \"title_Eve's Bayou\", 'title_Evelyn', 'title_Even Cowgirls Get the Blues', 'title_Even Money', 'title_Even the Rain', 'title_Event Horizon', 'title_Ever After: A Cinderella Story', 'title_Everest', 'title_Evergreen', 'title_Everlasting Moments', 'title_Every Little Step', 'title_Everybody Knows', \"title_Everybody Says I'm Fine!\", 'title_Everybody Wants Some!!', \"title_Everybody's All-American\", \"title_Everybody's Talking About Jamie\", 'title_Everyday Sunshine: The Story of Fishbone', \"title_Everyone's Hero\", 'title_Everything Everywhere All at Once', 'title_Everything Is Illuminated', 'title_Everything Must Go', 'title_Everything Relative', 'title_Everything, Everything', 'title_Evil Aliens', 'title_Ex Machina', 'title_Excalibur', 'title_Excision', 'title_Executive Decision', 'title_Exiles', 'title_Exit Through the Gift Shop', 'title_Exit Wounds', 'title_Exodus: Gods and Kings', \"title_Exorcist: The Version You've Never Seen\", 'title_Experimenter', 'title_Explorers', 'title_Exposed', 'title_Extinct', 'title_Extract', 'title_Extraordinary Measures', 'title_Extremely Loud & Incredibly Close', 'title_Extremely Wicked, Shockingly Evil and Vile', 'title_Eye in the Sky', 'title_Eye of the Beholder', 'title_Eyes Wide Shut', 'title_Eyes Without a Face', 'title_Eyes of Laura Mars', 'title_F... for Forest', 'title_F.T.A.', 'title_F9 The Fast Saga', 'title_Fabricated City', 'title_Face/Off', 'title_Faces Places', 'title_Fading Gigolo', 'title_Fading Petals', 'title_Fahrenheit 11/9', 'title_Fahrenheit 451', 'title_Fahrenheit 9/11', 'title_Fair Game', 'title_Faith Based', 'title_Faithless', 'title_Fall', 'title_Falling', 'title_Falling for Christmas', 'title_Family Weekend', 'title_Fantasia 2000', 'title_Fantastic Beasts and Where to Find Them', 'title_Fantastic Beasts: The Secrets of Dumbledore', 'title_Fantastic Four', 'title_Fantastic Four: Rise of the Silver Surfer', 'title_Fantastic Mr. Fox', 'title_Far From Men', 'title_Far From the Madding Crowd', 'title_Far and Away', 'title_Farewell', 'title_Fast & Furious 6', 'title_Fast & Furious Presents: Hobbs & Shaw', 'title_Fast Five', 'title_Fast Food Nation', 'title_Fast, Cheap & Out of Control', 'title_Faster', 'title_Fat City', 'title_Fat Girls', 'title_Fatal Affair', 'title_Fatal Attraction', 'title_Father Figures', 'title_Father Goose', 'title_Father Soldier Son', 'title_Father of the Bride Part II', \"title_Father's Day\", 'title_Fatherhood', 'title_Fathers and Daughters', \"title_Fathers' Day\", 'title_Fatima', 'title_Fatman', 'title_Fatso', 'title_Fay Grim', 'title_Fear', 'title_Fear Street Part One: 1994', 'title_Fear Street Part Three: 1666', 'title_Fear Street Part Two: 1978', 'title_FeardotCom', 'title_Fearless', 'title_Feast of Love', 'title_Fed Up', 'title_Federal Hill', 'title_Feel the Beat', 'title_Feels Good Man', 'title_Femme Fatale', 'title_Fences', 'title_Ferdinand', 'title_FernGully ... the Last Rainforest', 'title_Ferpect Crime', 'title_Festival Express', 'title_Festival in Cannes', 'title_Fetih 1453', 'title_Fever Pitch', 'title_Fiddler: A Miracle of Miracles', 'title_Fido', 'title_Fifi Az Khoshhali Zooze Mikeshad', 'title_Fifty Shades Freed', 'title_Fifty Shades of Black', 'title_Fifty Shades of Grey', 'title_Fight Club', 'title_Fighters', 'title_Fighting', 'title_Fighting With My Family', 'title_Fightville', 'title_Film Socialisme', \"title_Film Stars Don't Die in Liverpool\", 'title_Filth', 'title_Fin', 'title_Final Account', 'title_Final Cut', 'title_Final Destination 2', 'title_Final Destination 3', 'title_Final Destination 5', 'title_Final Fantasy: The Spirits Within', 'title_Final Girl', 'title_Finch', 'title_Find Me Guilty', 'title_Finding Amanda', 'title_Finding Dory', 'title_Finding Forrester', 'title_Finding Neverland', 'title_Finding Steve McQueen', 'title_Finding Vivian Maier', 'title_Finding Your Feet', 'title_Finishing the Game', 'title_Fire', 'title_Fire in the Blood', 'title_Fire in the Night', 'title_Fire of Love', 'title_Fired Up', 'title_Firestorm', 'title_Firewall', 'title_Fireworks', 'title_First Descent', 'title_First Kill', 'title_First Knight', 'title_First Love', 'title_First Man', 'title_First Match', \"title_Fisherman's Friends\", 'title_Fishing Without Nets', 'title_Fist Fight', 'title_Five Days Without Nora', 'title_Five Feet Apart', 'title_Five Fingers for Marseilles', 'title_Five Nights in Maine', 'title_Fix', 'title_Flag Wars', 'title_Flags of Our Fathers', 'title_Flame & Citron', 'title_Flamenco, Flamenco', 'title_Flash Gordon', 'title_Flatliners', 'title_Flavor of Green Tea Over Rice', 'title_Flawless', 'title_Flee', 'title_Flight', 'title_Flight of the Navigator', 'title_Float Like a Butterfly', 'title_Flora and Ulysses', 'title_Flow: For Love of Water', 'title_Flower Drum Song', 'title_Flowers in the Attic', 'title_Flushed Away', 'title_Flux Gourmet', 'title_Fly Me to the Moon', 'title_Folk Hero & Funny Guy', 'title_Food Beware: The French Organic Revolution', 'title_Food, Inc.', \"title_Fool's Gold\", 'title_Footlight Parade', 'title_Footloose', 'title_Footnote', 'title_For Colored Girls', 'title_For Ever Mozart', 'title_For Love of the Game', 'title_For No Good Reason', 'title_For Sama', 'title_For Your Consideration', 'title_For a Few Dollars More', 'title_For a Good Time, Call ...', 'title_For the Bible Tells Me So', 'title_For the Sake of Vicious', 'title_Forbidden Games', 'title_Forbidden Planet', 'title_Force 10 From Navarone', 'title_Force 2', 'title_Ford v Ferrari', 'title_Foreign Correspondent', 'title_Forgetting Sarah Marshall', 'title_Forks Over Knives', 'title_Formosa Betrayed', 'title_Forrest Gump', \"title_Fortune and Men's Eyes\", 'title_Forty Shades of Blue', 'title_Found', 'title_Four Adventures of Reinette and Mirabelle', 'title_Four Horsemen', 'title_Four Kids and It', 'title_Four Lions', 'title_Four Nights With Anna', 'title_Four Seasons Lodge', 'title_Foxcatcher', 'title_Foxtrot', 'title_Fracture', 'title_Frailty', 'title_Framing John DeLorean', 'title_France', 'title_Frances Ha', 'title_Frank', \"title_Frank Miller's Sin City: A Dame to Kill For\", 'title_Frankenhooker', 'title_Frankenstein', 'title_Frankenweenie', 'title_Frankie and Johnny Are Married', 'title_Frantic', 'title_Frantz', 'title_Freak Show', 'title_Freakonomics', 'title_Freaks', 'title_Freakscene: The Story of Dinosaur Jr.', 'title_Freaky', 'title_Freddy vs. Jason', 'title_Free Fire', 'title_Free Guy', 'title_Free Men', 'title_Free Radicals: A History of Experimental Film', 'title_Free Solo', 'title_Free State of Jones', 'title_Free Trip to Egypt', 'title_Free Willy 2: The Adventure Home', 'title_Free the Mind', 'title_Free the Nipple', 'title_Freedom Writers', 'title_Freedomland', 'title_Freeheld', 'title_Freeze Frame', 'title_Freeze Me', 'title_Frequency', 'title_Fresh', 'title_Freud', 'title_Frida', 'title_Friday Night Lights', 'title_Friday the 13th -- A New Beginning', 'title_Friday the 13th Part VIII: Jason Takes Manhattan', 'title_Friday the 13th, Part 2', 'title_Friday the 13th, Part VI: Jason Lives', 'title_Friday the 13th: The Final Chapter', 'title_Friends With Kids', 'title_Friends: The Reunion', 'title_Friendsgiving', 'title_Fright Night', 'title_From Dusk Till Dawn', 'title_From Hell', 'title_From Here to Eternity', 'title_From Paris With Love', 'title_From Up on Poppy Hill', 'title_From the Head', 'title_From the Hood to the Holler', 'title_Frontera', 'title_Frost/Nixon', 'title_Frownland', 'title_Frozen', 'title_Frozen II', 'title_Frozen River', 'title_Fruitvale Station', 'title_Fugitive Pieces', 'title_Full Battle Rattle', 'title_Full Frontal', 'title_Full Metal Jacket', 'title_Fulltime Killer', 'title_Fun Mom Dinner', 'title_Fun and Fancy Free', 'title_Funny Cow', 'title_Funny Games', 'title_Fur: An Imaginary Portrait of Diane Arbus', 'title_Furious 7', 'title_Future People: The Family of Donor 5114', 'title_Future World', 'title_Futuro Beach', 'title_Fyre', 'title_G-Force', 'title_G.I. Jane', 'title_G.I. Joe: Retaliation', 'title_G.I. Joe: The Rise of Cobra', \"title_Gabby Giffords Won't Back Down\", 'title_Gaga: Five Foot Two', 'title_Gainsbourg', 'title_Galaxy Quest', 'title_Galaxy of Terror', 'title_Galveston', 'title_Gambit', 'title_Game 6', 'title_Game Night', 'title_Game Over', 'title_GameStop: Rise of the Players', 'title_Gandhi', 'title_Gangs of New York', 'title_Gangster No. 1', 'title_Garbo: The Spy', 'title_Garden State', 'title_Garry Winogrand: All Things Are Photographable', 'title_GasLand', 'title_Gatlopp', 'title_Gayby Baby', 'title_Gemini Man', 'title_General Orders No. 9', 'title_Generation Wealth', 'title_Genius', \"title_Gentleman's Agreement\", 'title_Gentlemen Broncos', 'title_Gentlemen Prefer Blondes', 'title_George Harrison: Living in the Material World', 'title_George Michael: Freedom', 'title_George of the Jungle', 'title_Gerhard Richter Painting', 'title_Gerontophilia', 'title_Get Hard', 'title_Get Him to the Greek', 'title_Get Low', 'title_Get Married If You Can', 'title_Get On Up', 'title_Get Out', 'title_Get Over It', 'title_Get Shorty', 'title_Get Smart', 'title_Get on the Bus', 'title_Get the Gringo', 'title_Gettysburg', 'title_Ghidrah, the Three-Headed Monster', 'title_Ghost', 'title_Ghost Dog: The Way of the Samurai', 'title_Ghost House', 'title_Ghost Rider: Spirit of Vengeance', 'title_Ghost World', 'title_Ghost in the Shell', 'title_Ghost in the Shell 2: Innocence', 'title_Ghostbusters', 'title_Ghosts of Abu Ghraib', 'title_Ghosts of Girlfriends Past', 'title_Ghosts of War', 'title_Ghosts of the Abyss', 'title_Giant', 'title_Gifted', 'title_Gigantic', 'title_Gigi', 'title_Gilda', 'title_Ginger Snaps', 'title_Girl', 'title_Girl 6', 'title_Girl Most Likely', 'title_Girl Picture', 'title_Girl With a Pearl Earring', 'title_Girl, Interrupted', 'title_Girlfight', 'title_Girls Against Boys', \"title_Girls Can't Swim\", 'title_Girls Lost', 'title_Girls Rock!', 'title_Girls Trip', 'title_Girls Will Be Girls', 'title_Girls of the Sun', 'title_Giuliani Time', 'title_Give Me Your Hand', 'title_Glass', 'title_Glastonbury', 'title_Gleason', \"title_Glen Campbell... I'll Be Me\", 'title_Gloria', 'title_Glory Road', 'title_Gnomeo & Juliet', 'title_Go', 'title_Go Fish', 'title_Go for Zucker', 'title_Goal! The Dream Begins', 'title_God Bless America', 'title_God Help the Girl', \"title_God's Country\", \"title_God's Own Country\", \"title_God's Pocket\", 'title_Godmothered', 'title_Gods and Monsters', 'title_Godsend', 'title_Godzilla', 'title_Godzilla 2000', 'title_Godzilla vs. Kong', 'title_Godzilla vs. Megaguirus', 'title_Godzilla, King of the Monsters!', 'title_Godzilla: King of the Monsters', 'title_Going Clear: Scientology & the Prison of Belief', 'title_Going My Way', 'title_Going in Style', 'title_Going the Distance', 'title_Gold', 'title_Golden Arm', 'title_Golden Door', 'title_Goldstone', 'title_Gone Baby Gone', 'title_Gone Too Far', 'title_Gone in Sixty Seconds', 'title_Gone in the Night', 'title_Gonzo: The Life and Work of Dr. Hunter S. Thompson', 'title_Good Boys', 'title_Good Bye Lenin!', 'title_Good Luck to You, Leo Grande', 'title_Good Night Oppy', 'title_Good Night, and Good Luck.', 'title_Good Time', 'title_Good Vibrations', 'title_Good Will Hunting', 'title_Good on Paper', 'title_Goodbye Bafana', 'title_Goodbye Charlie', 'title_Goodbye Christopher Robin', 'title_Goodbye Solo', 'title_Goodbye, Don Glees!', 'title_Goodnight Mommy', 'title_Gook', 'title_Goon', 'title_Goon: Last of the Enforcers', 'title_Goosebumps', 'title_Goosebumps 2: Haunted Halloween', 'title_Gordon Lightfoot: If You Could Read My Mind', 'title_Gosford Park', \"title_Goya's Ghosts\", 'title_Grace Is Gone', 'title_Grace of My Heart', 'title_Gracie', 'title_Graduation', 'title_Gran Torino', 'title_Grass', 'title_Grateful Dawg', 'title_Graveyard Alive: A Zombie Nurse in Love', 'title_Gravity', 'title_Grbavica: The Land of My Dreams', 'title_Grease: Live!', 'title_Great Expectations', 'title_Green', 'title_Green Lantern', 'title_Green Room', 'title_Gregory Crewdson: Brief Encounters', 'title_Gremlins', 'title_Greta', 'title_Gretel & Hansel', 'title_Greyhound', 'title_Gridiron Gang', 'title_Grindhouse', 'title_Gringo', 'title_Grudge Match', 'title_Guardians of the Galaxy', 'title_Guava Island', 'title_Guess Who', \"title_Guess Who's Coming to Dinner\", 'title_Guest of Cindy Sherman', 'title_Guidance', \"title_Guillermo del Toro's Pinocchio\", 'title_Gulaab Gang', 'title_Gulabo Sitabo', 'title_Gully Boy', 'title_Gummo', 'title_Gun Crazy', 'title_Guns Akimbo', 'title_Gutterbug', 'title_Guy and Madeline on a Park Bench', 'title_Gypsy Caravan', 'title_Güeros', 'title_Hacksaw Ridge', 'title_Haiku Tunnel', 'title_Hairspray', 'title_Half Brothers', 'title_Half of a Yellow Sun', 'title_Hall Pass', 'title_Hallam Foe', 'title_Halloween', 'title_Halloween Ends', 'title_Halloween H20: 20 Years Later', 'title_Halloween Kills', 'title_Hamilton', 'title_Hamlet', 'title_Hampstead', 'title_Hancock', 'title_Hanna', 'title_Hannah Arendt', 'title_Hannah Montana and Miley Cyrus: Best of Both Worlds Concert', 'title_Hannah Takes the Stairs', 'title_Happiest Season', 'title_Happy Accidents', 'title_Happy Death Day 2U', 'title_Happy Feet', 'title_Happy Gilmore', 'title_Happy New Year', 'title_Happy New Year, Colin Burstead', 'title_Happy People: A Year in the Taiga', 'title_Happy Tears', 'title_Happythankyoumoreplease', 'title_Hard Candy', 'title_Hard Paint', 'title_Hard Target', 'title_Hardball', 'title_Hardcore', 'title_Hardcore Henry', 'title_Harmontown', 'title_Harold & Kumar Escape From Guantanamo Bay', 'title_Harold & Kumar Go to White Castle', 'title_Harold and Lillian: A Hollywood Love Story', 'title_Harriet', 'title_Harriet the Spy', 'title_Harry Potter and the Chamber of Secrets', 'title_Harry Potter and the Deathly Hallows: Part 1', 'title_Harry Potter and the Deathly Hallows: Part 2', 'title_Harry Potter and the Goblet of Fire', 'title_Harry Potter and the Half-Blood Prince', 'title_Harry Potter and the Order of the Phoenix', 'title_Harry and Walter Go to New York', 'title_Harsh Times', \"title_Hart's War\", 'title_Hating Peter Tatchell', 'title_Haunt', 'title_Haymaker', 'title_He Loves Me... He Loves Me Not', 'title_He Named Me Malala', 'title_He Never Died', 'title_He Walked by Night', 'title_Head On', 'title_Head of State', 'title_Heart Like a Wheel', 'title_Heart and Souls', 'title_Heartbeats', 'title_Hearts Beat Loud', 'title_Hearts and Minds', 'title_Hearts of Fire', 'title_Heat', 'title_Heathers', 'title_Heaven Can Wait', 'title_Heavenly Creatures', 'title_Heavy Metal', 'title_Heist', 'title_Hell or High Water', \"title_Hell's Highway\", 'title_Hellboy II: The Golden Army', 'title_Hello, My Name Is Doris', 'title_Hellraiser', 'title_Help!', \"title_Hemingway's Garden of Eden\", 'title_Heneral Luna', 'title_Henry Poole Is Here', 'title_Henry V', 'title_Her', 'title_Her Majesty', 'title_Herb and Dorothy', 'title_Herbie: Fully Loaded', 'title_Here Before', 'title_Here Comes the Boom', 'title_Here Comes the Devil', 'title_Hereafter', 'title_Hero', 'title_Hidalgo', 'title_Hidden Figures', 'title_Hide and Seek', 'title_High Art', 'title_High Fidelity', 'title_High Ground', 'title_High Noon', 'title_High School Musical 3: Senior Year', 'title_High Society', 'title_Highlander', 'title_Hippocrates', 'title_Hiroshima, Mon Amour', 'title_Hitchcock', 'title_Hitman', 'title_Hits', 'title_Hobo With a Shotgun', 'title_Hocus Pocus 2', 'title_Hold That Ghost', 'title_Hollywood Ending', 'title_Holy Smoke', 'title_Home', 'title_Home Again', 'title_Home of Phobia', 'title_Homefront', 'title_Homme Less', 'title_Honeydripper', 'title_Hoodwinked!', 'title_Hoop Dreams', 'title_Horns', 'title_Horrible Bosses', 'title_Horrible Bosses 2', 'title_Horrible Histories: The Movie - Rotten Romans', 'title_Hostel', 'title_Hot Blood', 'title_Hot Fuzz', 'title_Hot Seat', 'title_Hot Summer Nights', 'title_Hot Tub Time Machine', 'title_Hot Tub Time Machine 2', 'title_Hot to Trot', 'title_Hotel Mumbai', 'title_Hotel Rwanda', 'title_Hotel Transylvania', 'title_Hotel for Dogs', 'title_House Party 2', 'title_House of D', 'title_House of Flying Daggers', 'title_House of Gucci', 'title_House of My Father', 'title_House of Usher', 'title_House of Wax', 'title_House of the Dead', 'title_House of the Sleeping Beauties', 'title_How Do You Know', 'title_How I Live Now', 'title_How the Grinch Stole Christmas', 'title_How to Be Single', 'title_How to Change the World', \"title_How to Kill Your Neighbor's Dog\", 'title_How to Live Forever', 'title_How to Lose Friends & Alienate People', 'title_How to Rob', 'title_How to Survive a Plague', 'title_How to Talk to Girls at Parties', 'title_Howards End', 'title_Howl', \"title_Howl's Moving Castle\", 'title_Hugo Pool', 'title_Hukkle', 'title_Hulk', 'title_Human Capital', 'title_Humanité', 'title_Humpback Whales', 'title_Humpday', 'title_Hunger', 'title_Hungry Hearts', 'title_Hunt', 'title_Hunted', 'title_Hunting Elephants', 'title_Hurlyburly', 'title_Hurry Sundown', 'title_Husk', 'title_Hustlers', 'title_Hyena Road', 'title_Hysteria', 'title_I Am Chris Farley', 'title_I Am Love', 'title_I Am Mother', 'title_I Am Sam', 'title_I Am the Blues', 'title_I Called Him Morgan', 'title_I Capture the Castle', 'title_I Carry You With Me', 'title_I Could Never Be Your Woman', \"title_I Don't Feel at Home in This World Anymore\", \"title_I Don't Know How She Does It\", 'title_I Give It a Year', \"title_I Hate Valentine's Day\", 'title_I Heart Huckabees', 'title_I Kill Giants', 'title_I Knew It Was You: Rediscovering John Cazale', 'title_I Know What You Did Last Summer', 'title_I Lost My Body', 'title_I Love You Phillip Morris', 'title_I Love You, Beth Cooper', 'title_I Love You, Man', 'title_I Love Your Work', 'title_I Remember Me', 'title_I Saw the Light', 'title_I Spit on Your Grave', 'title_I Spy', 'title_I Travel Alone', 'title_I Want Someone to Eat Cheese With', \"title_I'll Cry Tomorrow\", \"title_I'm So Excited!\", \"title_I'm Still Here\", \"title_I'm Thinking of Ending Things\", \"title_I'm Your Man\", 'title_I, Tonya', 'title_Ice Age', 'title_Ice Age: Dawn of the Dinosaurs', 'title_Ice Princess', 'title_Ichi the Killer', 'title_Ida', 'title_Ideal Home', 'title_Identifying Features', 'title_Identity Thief', 'title_Idlewild', 'title_If These Walls Could Sing', 'title_Ignorant Fairies', 'title_Igor', 'title_Il Grido', 'title_Imaginary Witness: Hollywood and the Holocaust', 'title_Imagine That', 'title_Immediate Family', 'title_Immortals', 'title_Imperial Dreams', 'title_Implanted', 'title_In Front of Your Face', 'title_In Good Company', \"title_In Our Mothers' Gardens\", 'title_In Praise of Love', 'title_In Search of Haydn', 'title_In Search of Mozart', 'title_In Their Skin', 'title_In Your Hands', 'title_In a Better World', 'title_In the City of Sylvia', 'title_In the Company of Men', 'title_In the Fade', 'title_In the Hands of the Gods', 'title_In the Heart of the Sea', 'title_In the Heights', 'title_In the House', 'title_In the Land of Women', 'title_In the Loop', 'title_In the Mouth of Madness', 'title_In the Name of the King: A Dungeon Siege Tale', 'title_In the Realms of the Unreal', 'title_In the Same Breath', 'title_In the Shadow of the Moon', 'title_In the Valley of Elah', 'title_Incendiary', 'title_Incendiary: The Willingham Case', 'title_Incendies', 'title_Inception', 'title_Independence Day', 'title_Independence Day: Resurgence', 'title_Indie Game: The Movie', 'title_Indivisible', 'title_Inequality for All', 'title_Infernal Affairs', 'title_Infinite', 'title_Inglourious Basterds', 'title_Ingrid Goes West', 'title_Inherit the Wind', 'title_Inkheart', 'title_Inland Empire', 'title_Inside Deep Throat', 'title_Inside Out', 'title_Insidious: Chapter 2', 'title_Insomnia', 'title_Instant Family', 'title_Instructions Not Included', 'title_Intact', 'title_Interior. Leather Bar.', 'title_Interstellar', 'title_Interview', 'title_Interview With the Vampire', 'title_Intimacy', 'title_Intimate Strangers', 'title_Into the Arms of Strangers: Stories of the Kindertransport', 'title_Into the Blue', 'title_Into the Deep', 'title_Into the Woods', 'title_Intruders', 'title_Invictus', 'title_Invincible', 'title_Ip Man: The Final Fight', 'title_Iraq in Fragments', 'title_Iron Man', 'title_Iron Man 3', 'title_Iron Monkey', 'title_Iron Will', 'title_Ironclad', 'title_Is Anybody There?', 'title_Ishtar', 'title_Isle of Dogs', \"title_Isn't It Romantic\", 'title_It', 'title_It Happened in L.A.', 'title_It Is Fine. Everything Is Fine!', 'title_It Might Get Loud', 'title_It Runs in the Family', \"title_It's Complicated\", \"title_It's Kind of a Funny Story\", \"title_It's Only the End of the World\", 'title_It: Chapter Two', 'title_Italian Studies', 'title_Ivan the Terrible, Part II', 'title_J. Edgar', 'title_Jack Goes Boating', 'title_Jack Reacher', 'title_Jack Reacher: Never Go Back', 'title_Jack Ryan: Shadow Recruit', 'title_Jack of the Red Hearts', 'title_Jack the Giant Slayer', 'title_Jackass Presents: Bad Grandpa', 'title_Jackass: Number Two', 'title_Jackass: The Movie', \"title_Jacob's Ladder\", 'title_Jade', \"title_Jafar Panahi's Taxi\", 'title_Jagged Edge', 'title_Jai Gangaajal', 'title_Jailbreak', 'title_James Dean', 'title_Jane', 'title_Janis: Little Girl Blue', 'title_Japanese Story', 'title_Jarhead', 'title_Jason X', 'title_Jasper Jones', 'title_Jaws', 'title_Jay and Silent Bob Strike Back', 'title_Je suis Karl', 'title_Jeff, Who Lives at Home', 'title_Jellyfish', \"title_Jennifer's Body\", 'title_Jerry Maguire', 'title_Jersey Girl', 'title_Jersey Shore Massacre', 'title_Jessabelle', 'title_Jesus Henry Christ', 'title_Jesus Is King', 'title_Jesus Revolution', \"title_Jesus' Son\", 'title_Jethica', 'title_Jews and Baseball: An American Love Story', 'title_Jexi', 'title_Jig', 'title_Jim', 'title_Jim & Andy: The Great Beyond - Featuring a Very Special, Contractually Obligated Mention of Tony Clifton', 'title_Jiminy Glick in Lalawood', 'title_Jimmy Carter: Man From Plains', 'title_Jindabyne', 'title_Joe Somebody', \"title_John Carpenter's Vampires\", \"title_John Carpenter's Vampires: Los Muertos\", 'title_John Carter', \"title_John Grisham's The Rainmaker\", 'title_John Wick', 'title_John Wick: Chapter 2', 'title_John Wick: Chapter 3 -- Parabellum', 'title_John Wick: Chapter 4', 'title_Johnny Cool', 'title_Johnny Mnemonic', 'title_Joker', 'title_Jolt', 'title_Jonathan', 'title_Josep', 'title_Joshua Tree, 1951: A Portrait of James Dean', 'title_Journey 2: The Mysterious Island', 'title_Journey to the Center of the Earth', 'title_Ju Dou', 'title_Ju-on: The Grudge 2', 'title_Judge Dredd', 'title_Julie & Julia', 'title_Juliet, Naked', 'title_Jumanji: The Next Level', 'title_Jumanji: Welcome to the Jungle', 'title_Junction 48', 'title_Jung_E', 'title_Jungle Cruise', 'title_Junior', 'title_Juno', 'title_Jupiter Ascending', 'title_Jurassic World Dominion', 'title_Jurassic World: Fallen Kingdom', 'title_Just 6.5', 'title_Just One of the Guys', 'title_Just a Kiss', \"title_Justin Bieber's Believe\", 'title_Justin Bieber: Never Say Never', 'title_Kabali', 'title_Kabir Singh', 'title_Kajillionaire', 'title_Kalank', 'title_Kandahar', 'title_Kangaroo', 'title_Karwaan', 'title_Kate & Leopold', 'title_Katie', 'title_Keanu', 'title_Kedi', 'title_Keep an Eye Out', 'title_Keeping Mum', 'title_Keeping the Faith', 'title_Kelly & Cal', 'title_Key Largo', 'title_Kidnap', 'title_Kill Bill: Vol. 1', 'title_Kill Me Three Times', 'title_Kill Your Darlings', 'title_Kill Your Friends', 'title_Kill the Irishman', 'title_Kill the Messenger', 'title_Killer Joe', 'title_Killer of Sheep', 'title_Killing Gunther', 'title_Killing Kennedy', 'title_Kind Hearts and Coronets', 'title_King Arthur', 'title_King Kong', 'title_King Richard', 'title_King of New York', 'title_King of Thieves', 'title_Kingsman: The Secret Service', 'title_Kinky Boots', 'title_Kinsey', 'title_Kismet', 'title_Kiss Kiss, Bang Bang', 'title_Kiss Me Deadly', 'title_Kiss of the Dragon', 'title_Kit Kittredge: An American Girl', 'title_Knife + Heart', 'title_Knock at the Cabin', 'title_Knocking', 'title_Kolya', 'title_Kon-Tiki', 'title_Kramer vs. Kramer', 'title_Kronos', 'title_Kráska v Nesnázích (Beauty in Trouble)', 'title_Kubo and the Two Strings', 'title_Kumiko, the Treasure Hunter', 'title_Kung Fu Panda 2', 'title_Kusama: Infinity', 'title_Kárhozat, (Damnation)', \"title_L'économie du couple\", 'title_L.A. Confidential', 'title_La Bamba', 'title_La Chana', 'title_La La Land', 'title_Ladder 49', 'title_Ladies in Lavender', 'title_Lady Macbeth', 'title_Lady Vengeance', 'title_Lagerfeld Confidential', 'title_Laggies', 'title_Lake of Fire', 'title_Land of the Dead', 'title_Landline', 'title_Last Days in the Desert', 'title_Last Film Show', 'title_Last Life in the Universe', 'title_Last Man Standing: Suge Knight and the Murders of Biggie & Tupac', 'title_Last Night in Soho', 'title_Last Passenger', 'title_Last Vegas', 'title_Late August, Early September', 'title_Late Bloomers', 'title_Late Marriage', 'title_Laurel Canyon', 'title_Laurence Anyways', 'title_Lazer Team', 'title_Le Samouraï', 'title_Lean on Me', 'title_Lean on Pete', 'title_Leap of Faith', 'title_Leap of Faith: William Friedkin on The Exorcist', 'title_Leatherface', 'title_Leaving Las Vegas', 'title_Lebanon, Pa.', \"title_Legend of the Guardians: The Owls of Ga'Hoole\", 'title_Legends of the Fall', 'title_Legion of Super-Heroes', 'title_Lemmy', 'title_Leprechaun: Origins', 'title_Les Misérables', 'title_Les misérables', 'title_Let Him Go', 'title_Let It Fall: Los Angeles 1982-1992', 'title_Let the Fire Burn', 'title_Lethal Weapon', 'title_Lethal Weapon 4', 'title_Letters From Iwo Jima', 'title_Liam', 'title_Life After Beth', 'title_Life With Mikey', 'title_Life and Nothing More', 'title_Life as We Know It', 'title_Life in a Day', 'title_Life of Pi', 'title_Life of the Party', 'title_Life or Something Like It', 'title_Light of Day', 'title_Lightning in a Bottle', 'title_Like Mike', 'title_Lilies of the Field', 'title_Limitless', 'title_Lincoln', 'title_Little Accidents', 'title_Little Boxes', 'title_Little Fish', 'title_Little Fockers', 'title_Little Lord Fauntleroy', 'title_Little Manhattan', 'title_Little Monsters', 'title_Little Otik', 'title_Little Sister', 'title_Liv & Ingmar', 'title_Live From New York!', 'title_Living Is Easy With Eyes Closed', 'title_Lock, Stock and Two Smoking Barrels', 'title_Locke', 'title_Locked Down', 'title_Lola', 'title_Lone Survivor', 'title_Long Shot', 'title_Look at Me', 'title_Looking for Hortense', 'title_Lords of Chaos', 'title_Los Angeles Plays Itself', 'title_Los Lobos', 'title_Loser', 'title_Lost Illusions', 'title_Lost River', \"title_Lost Soul: The Doomed Journey of Richard Stanley's Island of Dr. Moreau\", 'title_Lost in Paris', 'title_Lots of Kids, a Monkey and a Castle', 'title_Lottery Ticket', 'title_Love Aaj Kal', 'title_Love Affair', 'title_Love Liza', 'title_Love Sarah', 'title_Love for Sale', 'title_Love in the Time of Cholera', 'title_Love, Marilyn', 'title_Love, Simon', 'title_Loverboy', 'title_Loving Vincent', 'title_Lucha Mexico', 'title_Lucky You', 'title_Lucy', 'title_Luther: The Fallen Sun', 'title_Lux Æterna', 'title_M*A*S*H', 'title_M.F.A.', 'title_Ma', 'title_MacGruber', 'title_Macbeth', 'title_Machuca', 'title_Mad Detective', 'title_Mad Hot Ballroom', 'title_Mad Max 2: The Road Warrior', 'title_Mad Money', 'title_Madame Claude', \"title_Magic Trip: Ken Kesey's Search for a Kool Place\", 'title_Maiden', 'title_Maleficent', 'title_Malignant', 'title_Malik', 'title_Mammoth', 'title_Man on Wire', 'title_Mank', 'title_Manny & Lo', \"title_Mao's Last Dancer\", 'title_Maps to the Stars', 'title_Marc Maron: Too Real', 'title_Marcel the Shell with Shoes On', 'title_March of the Penguins', 'title_Margin Call', 'title_Marley', 'title_Mars at Sunrise', 'title_Martian Child', \"title_Mary J. Blige's My Life\", 'title_Mary and Max', 'title_Mask', 'title_Mass Appeal', 'title_Master of the Flying Guillotine', 'title_Maya Angelou and Still I Rise', 'title_Mayhem', 'title_Mayor of the Sunset Strip', 'title_Maytime', 'title_Me Time', 'title_Me and Earl and the Dying Girl', 'title_Me and You', 'title_Mean Creek', 'title_Mean Streets', \"title_Meek's Cutoff\", 'title_Meet Cute', 'title_Meet Me in the Bathroom', 'title_Meetings With Anna', 'title_Mega Shark vs. Giant Octopus', 'title_Melinda and Melinda', 'title_Memento', 'title_Men in Black', 'title_Men, Women & Children', 'title_Michael Moore Hates America', 'title_Mickey Blue Eyes', 'title_Six Dance Lessons in Six Weeks', 'title_Skeletons', 'title_Skin', 'title_Sky Captain and the World of Tomorrow', 'title_Slaughterhouse Rulez', 'title_Slaxx', 'title_Sleepover', 'title_Sleepwalk With Me', 'title_Sleepy Hollow', 'title_Slingshot (Tirador)', 'title_Slither', 'title_Slumdog Millionaire', 'title_Small Apartments', 'title_Small Time Crooks', 'title_Smart People', 'title_Smashed', 'title_Smile', 'title_Smoke Signals', 'title_Smokey and the Bandit', 'title_Smokey and the Bandit Part 3', \"title_Smokin' Aces\", 'title_Snakes on a Plane', 'title_Snatch', 'title_Snatched', 'title_Snow Cake', 'title_Snow White and the Huntsman', 'title_Snowden', \"title_Snowman's Land\", 'title_Soap', 'title_Soapdish', 'title_Society', 'title_Solaris', 'title_Sold', 'title_Solo: A Star Wars Story', 'title_Solomon Kane', 'title_Some Came Running', 'title_Some Girl(s)', 'title_Some Kind of Heaven', 'title_Some Like It Hot', 'title_Somebody I Used To Know', 'title_Someone Great', 'title_Someone Like You', 'title_Something Borrowed', 'title_Something From Nothing: The Art of Rap', 'title_Something New', \"title_Something from Tiffany's\", \"title_Something's Gotta Give\", 'title_Sometimes Always Never', 'title_Somm', 'title_Sommersby', 'title_Son of Babylon', 'title_Son of God', 'title_Son of Monarchs', 'title_Son of Rambow', 'title_Son of Saul', 'title_Son of a Gun', 'title_Son of the Mask', 'title_Son of the Pink Panther', 'title_Sonatine', 'title_Song of the Sea', 'title_Song to Song', 'title_Songcatcher', 'title_Songs From the Second Floor', 'title_Soni', 'title_Sonic the Hedgehog', 'title_Sonic the Hedgehog 2', 'title_Sophie Scholl: The Final Days', 'title_Sordid Lives', 'title_Sorority Boys', 'title_Sorry We Missed You', 'title_Soul', 'title_Soul Food', 'title_Soul Plane', 'title_Soul Surfer', 'title_Sound and Fury', 'title_Sound of Metal', 'title_Sound of My Voice', 'title_Sound of Violence', 'title_Sounds Like Teen Spirit', 'title_Soundtrack for a Revolution', 'title_Sour Grapes', 'title_Source Code', 'title_South Pacific', 'title_South Park: The Movie', 'title_South of Heaven', 'title_Southern Comfort', 'title_Southland Tales', 'title_Southpaw', 'title_Southpaw: The Francis Barrett Story', 'title_Southside With You', 'title_Souvenir', 'title_Space Chimps', 'title_Space Jam: A New Legacy', 'title_SpaceCamp', 'title_Spaceship Earth', 'title_Spanish Lake', 'title_Sparkle', 'title_Spartacus', 'title_Spartan', 'title_Speak', 'title_Special', 'title_Special 26', 'title_Species', 'title_Species II', 'title_Spectre', 'title_Speed', 'title_Speed 2: Cruise Control', 'title_Speed Racer', 'title_Spell', 'title_Spellbound', 'title_Spencer', 'title_Spice World', 'title_Spider-Man 2', 'title_Spider-Man 3', 'title_Spider-Man: Far From Home', 'title_Spider-Man: Homecoming', 'title_Spider-Man: Into the Spider-Verse', 'title_Spider-Man: No Way Home', 'title_Spiderhead', 'title_Spiderhole', 'title_Spielberg', 'title_Spies', 'title_Spies in Disguise', 'title_Spike Island', 'title_Spin Me Round', 'title_Spinning Plates', 'title_Spiral', 'title_Spirit Untamed', 'title_Spirit: Stallion of the Cimarron', 'title_Spirited', 'title_Spirited Away', 'title_Spitfire', 'title_Splice', 'title_Split', 'title_Spoiler Alert', 'title_Spotlight', 'title_Spree', 'title_Spring in a Small Town', 'title_Spring, Summer, Fall, Winter ... and Spring', 'title_Springsteen & I', 'title_Spun', 'title_Sputnik', 'title_Spy', 'title_Spy Game', 'title_Spy Intervention', 'title_Spy Kids 3: Game Over', \"title_St. Trinian's\", 'title_St. Vincent', 'title_Stage Beauty', 'title_Stage Fright', 'title_Stalag 17', 'title_Stalingrad', 'title_Stalker', 'title_Stallone: Frank, That Is', 'title_Stan & Ollie', 'title_Stand Up Guys', 'title_Stand and Deliver', 'title_Standard Operating Procedure', 'title_Stander', 'title_Standing Tall', 'title_Standing Up, Falling Down', 'title_Standing in the Shadows of Motown', 'title_Star Trek', 'title_Star Trek Beyond', 'title_Star Trek III: The Search for Spock', 'title_Star Trek Into Darkness', 'title_Star Trek VI: The Undiscovered Country', 'title_Star Trek: Insurrection', 'title_Star Trek: Nemesis', 'title_Star Trek: The Motion Picture', 'title_Star Wars: Episode I -- The Phantom Menace', 'title_Star Wars: Episode II -- Attack of the Clones', 'title_Star Wars: Episode III -- Revenge of the Sith', 'title_Star Wars: Episode IV -- A New Hope', 'title_Star Wars: Episode VI -- Return of the Jedi', 'title_Star Wars: Holiday Special', 'title_Star Wars: The Force Awakens', 'title_Star Wars: The Last Jedi', 'title_Star Wars: The Rise of Skywalker', 'title_Stardust', 'title_Starlet', 'title_Starred Up', 'title_Starry Eyes', 'title_Stars at Noon', 'title_Starship Troopers 2: Hero of the Federation', 'title_Starsky & Hutch', 'title_Starting Out in the Evening', 'title_State and Main', 'title_State of Play', 'title_Staten Island Summer', 'title_States of Grace', 'title_Stay', 'title_Stealing Harvard', 'title_Steam', 'title_Steamboat Bill, Jr.', 'title_Steep', 'title_Stella Dallas', 'title_Step', 'title_Step Brothers', 'title_Step Into Liquid', 'title_Step Up', 'title_Step Up 2 the Streets', 'title_Step Up 3', 'title_Step Up Revolution', 'title_Step Up: All In', 'title_Steve Jobs', 'title_Steve Jobs: The Man in the Machine', 'title_Steve McQueen: The Man & Le Mans', 'title_Stevie', 'title_Still Alice', 'title_Still Life', 'title_Still Walking', 'title_Stillwater', 'title_Stir of Echoes', 'title_Stockholm', 'title_Stoked: The Rise and Fall of Gator', 'title_Stoker', 'title_Stolen', 'title_Stone Reader', 'title_Stone of Destiny', 'title_Stop-Loss', 'title_Stop-Zemlia', 'title_Stories We Tell', 'title_Storm Surfers', 'title_Straight Outta Compton', \"title_Stranded: I've Come From a Plane That Crashed on the Mountains\", 'title_Strange Nature', 'title_Strange Powers: Stephin Merritt and the Magnetic Fields', 'title_Strange Weather', 'title_Strange World', 'title_Strange but True', 'title_Stranger Than Fiction', 'title_Strangerland', 'title_Strangers When We Meet', 'title_Straw Dogs', 'title_Strawberry Mansion', 'title_Strayed', 'title_Street Kings', 'title_Street Trash', 'title_StreetDance', 'title_Strippers vs Werewolves', 'title_Stronger', 'title_Stuart Little', 'title_Stuck', 'title_Stuck in Love', 'title_Studio 54: The Documentary', 'title_Studio 666', 'title_Submarine', 'title_Submergence', 'title_Suburban Girl', 'title_Suburbicon', 'title_Suburra', 'title_Sucker Punch', 'title_Suffragette', 'title_Sugar & Spice', 'title_Sui Dhaaga: Made in India', 'title_Suicide Squad', 'title_Suicide Squad: Hell to Pay', 'title_Suite Française', 'title_Sukiyaki Western Django', \"title_Sullivan's Travels\", 'title_Sully', 'title_Summer', \"title_Summer '04\", 'title_Summer 1993', 'title_Summer Coda', 'title_Summer Love', 'title_Summer of 85', 'title_Summer of Sam', 'title_Summer of Soul (...Or, When the Revolution Could Not Be Televised)', 'title_Summerland', 'title_Summertime', 'title_Sunday', 'title_Sunday Girl', \"title_Sunday's Illness\", 'title_Sunday, Bloody Sunday', 'title_Sundown', 'title_Sunlight Jr.', 'title_Sunrise', 'title_Sunset Blvd.', 'title_Sunset Edge', 'title_Sunshine', 'title_Sunshine Cleaning', 'title_Sunshine on Leith', 'title_Supa Modo', 'title_Super', 'title_Super 8', 'title_Super Dark Times', 'title_Super Size Me 2: Holy Chicken!', 'title_Superbad', 'title_Supercross: The Movie', 'title_Superfly', 'title_Superintelligence', 'title_Superman II', 'title_Superman Returns', 'title_Supermensch: The Legend of Shep Gordon', 'title_Supernova', 'title_Superpower Dogs', 'title_Suriyothai', 'title_Surrogates', 'title_Sushi: The Global Catch', 'title_Suspect Zero', 'title_Suspiria', 'title_Swallow', 'title_Swan Song', 'title_Sweeney Todd: The Demon Barber of Fleet Street', 'title_Sweet Bean', 'title_Sweetie', 'title_Swimfan', 'title_Swimming Upstream', 'title_Swimming With Men', 'title_Swimming With Sharks', 'title_Swimming to Cambodia', 'title_Swing Vote', 'title_Swiss Army Man', 'title_Switchback', 'title_Switchblade Romance', 'title_Sword Master', 'title_Sylvia', 'title_Sylvia Scarlett', \"title_Sylvie's Love\", 'title_Synchronic', 'title_Synchronicity', 'title_Synonymes', 'title_Syriana', 'title_Séraphine', 'title_T2 Trainspotting', 'title_TMNT', 'title_Table 19', 'title_Tag', 'title_Take Shelter', 'title_Take the Lead', 'title_Taking Woodstock', 'title_Tale of the Mummy', 'title_Tales From the Gimli Hospital', 'title_Tales From the Golden Age', 'title_Tales From the Hood', 'title_Tales From the Script', 'title_Tales of Terror', 'title_Talk to Her', 'title_Talk to Me', 'title_Talladega Nights: The Ballad of Ricky Bobby', 'title_Tamara Drewe', 'title_Tamasha', 'title_Tammy', \"title_Tammy's Always Dying\", 'title_Tampopo', 'title_Tangerines', 'title_Tanhaji: The Unsung Warrior', 'title_Tank Girl', 'title_Tanna', 'title_Tarzan', 'title_Tattoo', 'title_Taxi Driver', 'title_Taxi to the Dark Side', 'title_Taxidermia', 'title_Taylor Swift: Miss Americana', 'title_Team America: World Police', 'title_Ted', 'title_Ted 2', 'title_Teddy Bear', 'title_Teen Spirit', 'title_Teenage Mutant Ninja Turtles', 'title_Teenage Mutant Ninja Turtles: Out of the Shadows', 'title_Tehran Taboo', 'title_Teknolust', 'title_Tell No One', 'title_Telstar', 'title_Tempestad', 'title_Ten Thousand Saints', 'title_Tenet', 'title_Terminal', 'title_Terminator Salvation', 'title_Terminator: Dark Fate', 'title_Terms of Endearment', 'title_Terraferma', 'title_Terri', 'title_Terribly Happy', 'title_Terrified', 'title_Tesla', 'title_Tess', 'title_Testament of Youth', 'title_Tetro', 'title_Texas Chainsaw Massacre', 'title_Texas Killing Fields', 'title_Thank You for Playing', 'title_Thank You for Your Service', 'title_That Thing You Do!', 'title_The 12th Man', 'title_The 3 Rooms of Melancholia', 'title_The 400 Blows', 'title_The 5,000 Fingers of Dr. T.', 'title_The 9th Life of Louis Drax', 'title_The A-Team', 'title_The ABCs of Death', 'title_The Accountant', 'title_The Act of Killing', 'title_The Addams Family 2', 'title_The Adderall Diaries', 'title_The Adventures of Baron Munchausen', 'title_The Adventures of Buckaroo Banzai Across the Eighth Dimension', 'title_The Adventures of Pluto Nash', 'title_The Adventures of Prince Achmed', 'title_The Adventures of Sharkboy and Lavagirl', 'title_The Adventures of Sherlock Holmes', 'title_The Adventures of Tintin', 'title_The Age of Adaline', 'title_The Agent', 'title_The Ambassador', \"title_The Artist's Wife\", 'title_The Assassination of Richard Nixon', 'title_The Aviator', 'title_The Babymakers', 'title_The Badge', 'title_The Bank Job', 'title_The Banker', 'title_The Beautiful Days of Aranjuez', 'title_The Beguiled', 'title_The Best Intentions', 'title_The Best and the Brightest', 'title_The Big Bad Fox and Other Tales...', 'title_The Big Sick', 'title_The Big Sleep', 'title_The Big Uneasy', 'title_The Black Cauldron', 'title_The Black Dahlia', 'title_The Blue Angel', 'title_The Book of Eli', 'title_The Boys Are Back', 'title_The Boys of Baraka', 'title_The Break-Up', 'title_The Breakfast Club', 'title_The Bridge on the River Kwai', 'title_The Broken Hearts Gallery', 'title_The Bye Bye Man', 'title_The Bélier Family', 'title_The Cabin in the Woods', 'title_The Canyons', 'title_The Card Player', 'title_The Claim', 'title_The Closet', 'title_The Columnist', \"title_The Comedian's Guide to Survival\", 'title_The Commitments', 'title_The Commuter', 'title_The Company Men', 'title_The Company You Keep', 'title_The Conjuring: The Devil Made Me Do It', 'title_The Corruptor', 'title_The Counterfeiters', 'title_The Cremator', 'title_The Crime of Monsieur Lange', 'title_The Crocodile Hunter: Collision Course', 'title_The DUFF', 'title_The Damned United', 'title_The Danish Girl', 'title_The Dark Crystal', 'title_The Dark Hours', 'title_The Dark Knight', 'title_The Dark Tower', 'title_The Daughter', 'title_The Day After Tomorrow', 'title_The Day Shall Come', 'title_The Decalogue', 'title_The Deep Blue Sea', 'title_The Den', 'title_The Descent', 'title_The Descent: Part 2', 'title_The Devil Inside', 'title_The Devil Is a Woman', 'title_The Devil and Daniel Johnston', \"title_The Devil's Backbone\", \"title_The Devil's Double\", 'title_The Devil, Probably', 'title_The Devils', 'title_The Diaries of Vaslav Nijinsky', 'title_The Dictator', 'title_The Dilemma', 'title_The Dinner', 'title_The Disaster Artist', 'title_The Discreet Charm of the Bourgeoisie', 'title_The Dish', 'title_The Divergent Series: Allegiant', 'title_The Divide', 'title_The Door in the Floor', 'title_The Double', 'title_The Double Hour', 'title_The Dreamers', 'title_The Drop', 'title_The Dry Land', 'title_The Eagle', 'title_The Eagle Huntress', 'title_The Eclipse', 'title_The Edge', 'title_The Edge of Seventeen', 'title_The Electrical Life of Louis Wain', \"title_The Emperor's Club\", \"title_The Emperor's New Clothes\", \"title_The Emperor's New Groove\", 'title_The End Of Us', 'title_The Endless', \"title_The Endurance: Shackleton's Legendary Antarctic Expedition\", 'title_The Equalizer 2', 'title_The Estate', 'title_The Eternal Daughter', 'title_The Etruscan Smile', 'title_The Event', 'title_The Exchange', 'title_The Exorcism of Emily Rose', 'title_The Exorcist III', 'title_The Expendables', 'title_The Expendables 3', 'title_The Experiment', 'title_The Exploding Girl', 'title_The Eye', 'title_The Eye of the Storm', 'title_The Eyes of Orson Welles', 'title_The Fabelmans', 'title_The Fall', 'title_The Fall of the American Empire', 'title_The Fallout', 'title_The Family', 'title_The Family Stone', 'title_The Family Way', 'title_The Farewell', 'title_The Fast and the Furious', 'title_The Fate of the Furious', 'title_The Father', 'title_The Fault in Our Stars', 'title_The Fear of 13', 'title_The Fencer', 'title_The Fifth Element', 'title_The Fifth Estate', 'title_The Fighter', 'title_The Final Cut', 'title_The Final Destination', 'title_The Finest Hours', \"title_The Firemen's Ball\", 'title_The First Basket', 'title_The First Beautiful Thing', 'title_The First Day of the Rest of Your Life', 'title_The First Monday in May', 'title_The Fits', 'title_The Five-Year Engagement', 'title_The Flintstones', 'title_The Florida Project', 'title_The Fly', 'title_The Flying Scotsman', 'title_The Fog', 'title_The Food of the Gods', 'title_The Fool', 'title_The Foot Fist Way', 'title_The Foreigner', 'title_The Forest', 'title_The Forever Purge', 'title_The Forgiven', 'title_The Forgiveness of Blood', 'title_The Fortress', 'title_The Founder', 'title_The Four Times', 'title_The Fourth Noble Truth', 'title_The Free World', 'title_The French Dispatch', 'title_The Frisco Kid', 'title_The Front', 'title_The Front Runner', 'title_The Fugitive Kind', 'title_The Furies', 'title_The Galapagos Affair: Satan Came to Eden', 'title_The Gambler', 'title_The Gangster, the Cop, the Devil', 'title_The Garden', 'title_The Gardener', 'title_The Gatekeepers', 'title_The Gateway', 'title_The General', 'title_The Gentlemen', 'title_The Get Together', 'title_The Ghost Writer', 'title_The Ghosts in Our Machine', 'title_The Giant Mechanical Man', 'title_The Gift', \"title_The Girl Can't Help It\", 'title_The Girl From Monday', 'title_The Girl Next Door', \"title_The Girl Who Kicked the Hornet's Nest\", 'title_The Girl With All the Gifts', 'title_The Girl With the Dragon Tattoo', 'title_The Girl Without Hands', \"title_The Girl in the Spider's Web\", 'title_The Girl on the Train', 'title_The Girlfriend Experience', 'title_The Giver', 'title_The Glass Castle', 'title_The Gleaners and I', 'title_The Glory Guys', 'title_The God Committee', 'title_The Godfather', 'title_The Golden Compass', 'title_The Golden Era', 'title_The Golden Glove', 'title_The Good Boss']\n"
     ]
    }
   ],
   "source": [
    "feature_names = X_train.columns\n",
    "selected_feature_names = [feature_names[i] for i, selected in enumerate(mask) if selected]\n",
    "print(\"Most important features:\", selected_feature_names)"
   ]
  },
  {
   "cell_type": "code",
   "execution_count": 89,
   "id": "f9674531-3925-4441-857f-0cb0236d77f0",
   "metadata": {},
   "outputs": [],
   "source": [
    "X_sc = sc.transform(X)\n",
    "X_p = pca.transform(X_sc)"
   ]
  },
  {
   "cell_type": "code",
   "execution_count": 90,
   "id": "8372aa10-fc1f-42ef-baa8-d58b5544b4ae",
   "metadata": {},
   "outputs": [
    {
     "data": {
      "application/javascript": [
       "$(document).ready(\n",
       "    function() {\n",
       "        function appendUniqueDiv(){\n",
       "            // append a div with our uuid so we can check that it's already\n",
       "            // been sent and avoid duplicates on page reload\n",
       "            var notifiedDiv = document.createElement(\"div\")\n",
       "            notifiedDiv.id = \"c023c45b-281d-4ed3-8d77-a6b38df942cb\"\n",
       "            element.append(notifiedDiv)\n",
       "        }\n",
       "\n",
       "        // only send notifications if the pageload is complete; this will\n",
       "        // help stop extra notifications when a saved notebook is loaded,\n",
       "        // which during testing gives us state \"interactive\", not \"complete\"\n",
       "        if (document.readyState === 'complete') {\n",
       "            // check for the div that signifies that the notification\n",
       "            // was already sent\n",
       "            if (document.getElementById(\"c023c45b-281d-4ed3-8d77-a6b38df942cb\") === null) {\n",
       "                var notificationPayload = {\"requireInteraction\": false, \"icon\": \"/static/base/images/favicon.ico\", \"body\": \"Cell execution has finished!\", \"only_in_background\": false};\n",
       "\n",
       "                // We have a notification but the window is active\n",
       "                if (notificationPayload.only_in_background && !window.jupyterNotifyIsInBackground) {\n",
       "                    appendUniqueDiv();\n",
       "                    return;\n",
       "                }\n",
       "                if (Notification.permission !== 'denied') {\n",
       "                    if (Notification.permission !== 'granted') { \n",
       "                        Notification.requestPermission(function (permission) {\n",
       "                            if(!('permission' in Notification)) {\n",
       "                                Notification.permission = permission\n",
       "                            }\n",
       "                        })\n",
       "                    }\n",
       "                    if (Notification.permission === 'granted') {\n",
       "                    var notification = new Notification(\"Jupyter Notebook\", notificationPayload)\n",
       "                    appendUniqueDiv()\n",
       "                    notification.onclick = function () {\n",
       "                        window.focus();\n",
       "                        this.close();\n",
       "                        };\n",
       "                    } \n",
       "                }     \n",
       "            }\n",
       "        }\n",
       "    }\n",
       ")\n"
      ],
      "text/plain": [
       "<IPython.core.display.Javascript object>"
      ]
     },
     "metadata": {},
     "output_type": "display_data"
    }
   ],
   "source": [
    "%%notify\n",
    "X_selected_train, X_selected_test, y_train, y_test = train_test_split(sel.transform(X_p), y, random_state=1)\n",
    "scaler = StandardScaler().fit(X_selected_train)\n",
    "X_selected_train_scaled = scaler.transform(X_selected_train)\n",
    "X_selected_test_scaled = scaler.transform(X_selected_test)"
   ]
  },
  {
   "cell_type": "code",
   "execution_count": 91,
   "id": "7a8daa51-7871-439e-be9c-57448cf62ba9",
   "metadata": {},
   "outputs": [
    {
     "name": "stdout",
     "output_type": "stream",
     "text": [
      "Training Score: 0.9531986831568645\n",
      "Testing Score: 0.7331198291966907\n"
     ]
    },
    {
     "name": "stderr",
     "output_type": "stream",
     "text": [
      "C:\\Users\\Dan\\anaconda3\\envs\\nlp\\lib\\site-packages\\sklearn\\linear_model\\_logistic.py:818: ConvergenceWarning: lbfgs failed to converge (status=1):\n",
      "STOP: TOTAL NO. of ITERATIONS REACHED LIMIT.\n",
      "\n",
      "Increase the number of iterations (max_iter) or scale the data as shown in:\n",
      "    https://scikit-learn.org/stable/modules/preprocessing.html\n",
      "Please also refer to the documentation for alternative solver options:\n",
      "    https://scikit-learn.org/stable/modules/linear_model.html#logistic-regression\n",
      "  extra_warning_msg=_LOGISTIC_SOLVER_CONVERGENCE_MSG,\n"
     ]
    },
    {
     "data": {
      "application/javascript": [
       "$(document).ready(\n",
       "    function() {\n",
       "        function appendUniqueDiv(){\n",
       "            // append a div with our uuid so we can check that it's already\n",
       "            // been sent and avoid duplicates on page reload\n",
       "            var notifiedDiv = document.createElement(\"div\")\n",
       "            notifiedDiv.id = \"d28a7057-a0ac-4b68-8724-b8af9e0b642a\"\n",
       "            element.append(notifiedDiv)\n",
       "        }\n",
       "\n",
       "        // only send notifications if the pageload is complete; this will\n",
       "        // help stop extra notifications when a saved notebook is loaded,\n",
       "        // which during testing gives us state \"interactive\", not \"complete\"\n",
       "        if (document.readyState === 'complete') {\n",
       "            // check for the div that signifies that the notification\n",
       "            // was already sent\n",
       "            if (document.getElementById(\"d28a7057-a0ac-4b68-8724-b8af9e0b642a\") === null) {\n",
       "                var notificationPayload = {\"requireInteraction\": false, \"icon\": \"/static/base/images/favicon.ico\", \"body\": \"Cell execution has finished!\", \"only_in_background\": false};\n",
       "\n",
       "                // We have a notification but the window is active\n",
       "                if (notificationPayload.only_in_background && !window.jupyterNotifyIsInBackground) {\n",
       "                    appendUniqueDiv();\n",
       "                    return;\n",
       "                }\n",
       "                if (Notification.permission !== 'denied') {\n",
       "                    if (Notification.permission !== 'granted') { \n",
       "                        Notification.requestPermission(function (permission) {\n",
       "                            if(!('permission' in Notification)) {\n",
       "                                Notification.permission = permission\n",
       "                            }\n",
       "                        })\n",
       "                    }\n",
       "                    if (Notification.permission === 'granted') {\n",
       "                    var notification = new Notification(\"Jupyter Notebook\", notificationPayload)\n",
       "                    appendUniqueDiv()\n",
       "                    notification.onclick = function () {\n",
       "                        window.focus();\n",
       "                        this.close();\n",
       "                        };\n",
       "                    } \n",
       "                }     \n",
       "            }\n",
       "        }\n",
       "    }\n",
       ")\n"
      ],
      "text/plain": [
       "<IPython.core.display.Javascript object>"
      ]
     },
     "metadata": {},
     "output_type": "display_data"
    }
   ],
   "source": [
    "%%notify\n",
    "clf = LogisticRegression()\n",
    "clf.fit(X_selected_train_scaled, y_train)\n",
    "print(f'Training Score: {clf.score(X_selected_train_scaled, y_train)}')\n",
    "print(f'Testing Score: {clf.score(X_selected_test_scaled, y_test)}')"
   ]
  },
  {
   "cell_type": "markdown",
   "id": "0a4673c3-ff43-4931-b7e4-61c9affe8e76",
   "metadata": {},
   "source": [
    "## SVM Classifier (SVC)"
   ]
  },
  {
   "cell_type": "code",
   "execution_count": 81,
   "id": "957f078c-d828-4050-9d32-438e79a4b658",
   "metadata": {},
   "outputs": [
    {
     "data": {
      "application/javascript": [
       "$(document).ready(\n",
       "    function() {\n",
       "        function appendUniqueDiv(){\n",
       "            // append a div with our uuid so we can check that it's already\n",
       "            // been sent and avoid duplicates on page reload\n",
       "            var notifiedDiv = document.createElement(\"div\")\n",
       "            notifiedDiv.id = \"4969fee4-3f5a-4311-85bd-825e5a6e3a03\"\n",
       "            element.append(notifiedDiv)\n",
       "        }\n",
       "\n",
       "        // only send notifications if the pageload is complete; this will\n",
       "        // help stop extra notifications when a saved notebook is loaded,\n",
       "        // which during testing gives us state \"interactive\", not \"complete\"\n",
       "        if (document.readyState === 'complete') {\n",
       "            // check for the div that signifies that the notification\n",
       "            // was already sent\n",
       "            if (document.getElementById(\"4969fee4-3f5a-4311-85bd-825e5a6e3a03\") === null) {\n",
       "                var notificationPayload = {\"requireInteraction\": false, \"icon\": \"/static/base/images/favicon.ico\", \"body\": \"Cell execution has finished!\", \"only_in_background\": false};\n",
       "\n",
       "                // We have a notification but the window is active\n",
       "                if (notificationPayload.only_in_background && !window.jupyterNotifyIsInBackground) {\n",
       "                    appendUniqueDiv();\n",
       "                    return;\n",
       "                }\n",
       "                if (Notification.permission !== 'denied') {\n",
       "                    if (Notification.permission !== 'granted') { \n",
       "                        Notification.requestPermission(function (permission) {\n",
       "                            if(!('permission' in Notification)) {\n",
       "                                Notification.permission = permission\n",
       "                            }\n",
       "                        })\n",
       "                    }\n",
       "                    if (Notification.permission === 'granted') {\n",
       "                    var notification = new Notification(\"Jupyter Notebook\", notificationPayload)\n",
       "                    appendUniqueDiv()\n",
       "                    notification.onclick = function () {\n",
       "                        window.focus();\n",
       "                        this.close();\n",
       "                        };\n",
       "                    } \n",
       "                }     \n",
       "            }\n",
       "        }\n",
       "    }\n",
       ")\n"
      ],
      "text/plain": [
       "<IPython.core.display.Javascript object>"
      ]
     },
     "metadata": {},
     "output_type": "display_data"
    }
   ],
   "source": [
    "%%notify\n",
    "param_grid = {\n",
    "    'C': [0.1, 1],\n",
    "    'kernel': ['linear', 'rbf', 'poly'],\n",
    "    #'epsilon': [0.1, 0.2, 0.5], # For regression models\n",
    "    'gamma': ['scale', 'auto']  # For RBF kernel\n",
    "}\n",
    "svc = SVC()\n",
    "\n",
    "grid_search = GridSearchCV(estimator=svc, param_grid=param_grid, scoring='accuracy', cv=5)\n",
    "\n",
    "grid_search.fit(X_train_p, y_train)\n",
    "\n",
    "best_params = grid_search.best_params_\n",
    "best_model = grid_search.best_estimator_\n",
    "predictions = best_model.predict(X_test_p)"
   ]
  },
  {
   "cell_type": "code",
   "execution_count": 82,
   "id": "fd1fcc53-c2ea-4377-af9f-912c1cccb2cc",
   "metadata": {},
   "outputs": [
    {
     "data": {
      "text/plain": [
       "0.9927039772221727"
      ]
     },
     "execution_count": 82,
     "metadata": {},
     "output_type": "execute_result"
    }
   ],
   "source": [
    "best_model.score(X_train_p, y_train)"
   ]
  },
  {
   "cell_type": "code",
   "execution_count": 83,
   "id": "91ba4793-1794-4634-8508-5cd88c7a5576",
   "metadata": {},
   "outputs": [
    {
     "data": {
      "text/plain": [
       "0.792100346944222"
      ]
     },
     "execution_count": 83,
     "metadata": {},
     "output_type": "execute_result"
    }
   ],
   "source": [
    "best_model.score(X_test_p, y_test)"
   ]
  },
  {
   "cell_type": "code",
   "execution_count": null,
   "id": "22b264be-b9bc-452b-8acc-9a9dca8e6280",
   "metadata": {},
   "outputs": [],
   "source": []
  }
 ],
 "metadata": {
  "kernelspec": {
   "display_name": "Python 3 (ipykernel)",
   "language": "python",
   "name": "python3"
  },
  "language_info": {
   "codemirror_mode": {
    "name": "ipython",
    "version": 3
   },
   "file_extension": ".py",
   "mimetype": "text/x-python",
   "name": "python",
   "nbconvert_exporter": "python",
   "pygments_lexer": "ipython3",
   "version": "3.7.13"
  }
 },
 "nbformat": 4,
 "nbformat_minor": 5
}
