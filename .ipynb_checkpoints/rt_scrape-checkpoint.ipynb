{
 "cells": [
  {
   "cell_type": "code",
   "execution_count": 2,
   "id": "0a4db5d2-7c9a-481b-95a8-fc26022864dd",
   "metadata": {},
   "outputs": [],
   "source": [
    "from selenium.webdriver.support.ui import WebDriverWait\n",
    "from selenium.webdriver.support import expected_conditions as EC\n",
    "\n",
    "from selenium.webdriver.common.by import By"
   ]
  },
  {
   "cell_type": "code",
   "execution_count": 10,
   "id": "6ab1cc3e-94af-42fd-8263-1ab3c8105aab",
   "metadata": {},
   "outputs": [],
   "source": [
    "from selenium import webdriver\n",
    "\n",
    "driver = webdriver.Chrome()"
   ]
  },
  {
   "cell_type": "code",
   "execution_count": 13,
   "id": "1bfdbd19-b999-4fc3-a438-37d13cc4fe3e",
   "metadata": {},
   "outputs": [],
   "source": [
    "driver.get(\"https://www.rottentomatoes.com/m/the_hunt_2019\")"
   ]
  },
  {
   "cell_type": "code",
   "execution_count": 14,
   "id": "ede81491-665e-4b5f-9c6d-6117afa311a9",
   "metadata": {},
   "outputs": [
    {
     "name": "stdout",
     "output_type": "stream",
     "text": [
      "66\n"
     ]
    }
   ],
   "source": [
    "print(driver.find_element(By.CSS_SELECTOR,'#topSection score-board').get_attribute('audiencescore'))\n"
   ]
  },
  {
   "cell_type": "code",
   "execution_count": 16,
   "id": "31318232-a505-480f-9553-97569b516fd0",
   "metadata": {},
   "outputs": [
    {
     "name": "stdout",
     "output_type": "stream",
     "text": [
      "57\n"
     ]
    }
   ],
   "source": [
    "print(driver.find_element(By.CSS_SELECTOR,'#topSection score-board').get_attribute('tomatometerscore'))"
   ]
  },
  {
   "cell_type": "markdown",
   "id": "4a3806f6-d028-4b0a-8a41-46154bab7fa6",
   "metadata": {},
   "source": [
    "https://stackoverflow.com/questions/72572897/python-selenium-scraping-rotten-tomatoes-for-audience-score"
   ]
  },
  {
   "cell_type": "code",
   "execution_count": 17,
   "id": "17052e88-078c-4e11-966e-add4de9de793",
   "metadata": {},
   "outputs": [
    {
     "name": "stdout",
     "output_type": "stream",
     "text": [
      "96\n"
     ]
    }
   ],
   "source": [
    "driver.get(\"https://www.rottentomatoes.com/m/pulp_fiction\")\n",
    "print(WebDriverWait(driver, 20).until(EC.visibility_of_element_located((By.CSS_SELECTOR, \"#topSection score-board\"))).get_attribute(\"audiencescore\"))"
   ]
  },
  {
   "cell_type": "code",
   "execution_count": null,
   "id": "1fe25377-8fcb-483a-bb80-4e371a578b27",
   "metadata": {},
   "outputs": [],
   "source": []
  }
 ],
 "metadata": {
  "kernelspec": {
   "display_name": "Python 3 (ipykernel)",
   "language": "python",
   "name": "python3"
  },
  "language_info": {
   "codemirror_mode": {
    "name": "ipython",
    "version": 3
   },
   "file_extension": ".py",
   "mimetype": "text/x-python",
   "name": "python",
   "nbconvert_exporter": "python",
   "pygments_lexer": "ipython3",
   "version": "3.7.11"
  }
 },
 "nbformat": 4,
 "nbformat_minor": 5
}
