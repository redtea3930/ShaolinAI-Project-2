{
 "cells": [
  {
   "cell_type": "code",
   "execution_count": 1,
   "id": "b80b3cc5-603d-4724-9179-b1f762a2e8c0",
   "metadata": {
    "tags": []
   },
   "outputs": [],
   "source": [
    "#import libraries\n",
    "import pandas as pd\n",
    "import numpy as np\n",
    "import matplotlib.pyplot as plt\n",
    "import seaborn as sns\n",
    "from sklearn.model_selection import train_test_split\n",
    "from sklearn.feature_extraction.text import TfidfVectorizer\n",
    "from sklearn.metrics import accuracy_score, classification_report, confusion_matrix\n",
    "from sklearn.model_selection import GridSearchCV\n",
    "from pathlib import Path\n",
    "from nltk.corpus import stopwords\n",
    "from nltk.tokenize import word_tokenize\n",
    "from nltk.stem import WordNetLemmatizer \n",
    "from sklearn.linear_model import LogisticRegression"
   ]
  },
  {
   "cell_type": "code",
   "execution_count": 2,
   "id": "606c2cda-48a1-4431-be34-c839cf1cd02d",
   "metadata": {
    "tags": []
   },
   "outputs": [],
   "source": [
    "# read in cleaned CSV\n",
    "filepath = Path('massive.csv')\n",
    "massive = pd.read_csv(filepath)\n",
    "massive = massive.sample(n=15000)"
   ]
  },
  {
   "cell_type": "code",
   "execution_count": 3,
   "id": "dacfd229-e592-4890-8f1b-973eac81fff8",
   "metadata": {
    "tags": []
   },
   "outputs": [
    {
     "data": {
      "text/html": [
       "<div>\n",
       "<style scoped>\n",
       "    .dataframe tbody tr th:only-of-type {\n",
       "        vertical-align: middle;\n",
       "    }\n",
       "\n",
       "    .dataframe tbody tr th {\n",
       "        vertical-align: top;\n",
       "    }\n",
       "\n",
       "    .dataframe thead th {\n",
       "        text-align: right;\n",
       "    }\n",
       "</style>\n",
       "<table border=\"1\" class=\"dataframe\">\n",
       "  <thead>\n",
       "    <tr style=\"text-align: right;\">\n",
       "      <th></th>\n",
       "      <th>id</th>\n",
       "      <th>title</th>\n",
       "      <th>audienceScore</th>\n",
       "      <th>tomatoMeter</th>\n",
       "      <th>reviewId</th>\n",
       "      <th>creationDate</th>\n",
       "      <th>criticName</th>\n",
       "      <th>isTopCritic</th>\n",
       "      <th>reviewState</th>\n",
       "      <th>publicatioName</th>\n",
       "      <th>reviewText</th>\n",
       "      <th>scoreSentiment</th>\n",
       "      <th>delta</th>\n",
       "    </tr>\n",
       "  </thead>\n",
       "  <tbody>\n",
       "    <tr>\n",
       "      <th>975558</th>\n",
       "      <td>city_of_gold_2016</td>\n",
       "      <td>City of Gold</td>\n",
       "      <td>80.0</td>\n",
       "      <td>89.0</td>\n",
       "      <td>2320869</td>\n",
       "      <td>2016-04-14</td>\n",
       "      <td>Kimberley Jones</td>\n",
       "      <td>True</td>\n",
       "      <td>fresh</td>\n",
       "      <td>Austin Chronicle</td>\n",
       "      <td>The film's final shots of Gold in his truck, n...</td>\n",
       "      <td>POSITIVE</td>\n",
       "      <td>9.0</td>\n",
       "    </tr>\n",
       "  </tbody>\n",
       "</table>\n",
       "</div>"
      ],
      "text/plain": [
       "                       id         title  audienceScore  tomatoMeter  reviewId  \\\n",
       "975558  city_of_gold_2016  City of Gold           80.0         89.0   2320869   \n",
       "\n",
       "       creationDate       criticName  isTopCritic reviewState  \\\n",
       "975558   2016-04-14  Kimberley Jones         True       fresh   \n",
       "\n",
       "          publicatioName                                         reviewText  \\\n",
       "975558  Austin Chronicle  The film's final shots of Gold in his truck, n...   \n",
       "\n",
       "       scoreSentiment  delta  \n",
       "975558       POSITIVE    9.0  "
      ]
     },
     "execution_count": 3,
     "metadata": {},
     "output_type": "execute_result"
    }
   ],
   "source": [
    "massive.head(1)"
   ]
  },
  {
   "cell_type": "code",
   "execution_count": 4,
   "id": "7043144f-4577-4804-a286-d00e82aeff78",
   "metadata": {
    "tags": []
   },
   "outputs": [],
   "source": [
    "massive = massive.drop(columns=['id', 'reviewId', 'creationDate', 'isTopCritic', 'reviewState', 'tomatoMeter'])\n"
   ]
  },
  {
   "cell_type": "code",
   "execution_count": 5,
   "id": "b8673ded-49df-43d3-bf79-634ac7000096",
   "metadata": {
    "tags": []
   },
   "outputs": [
    {
     "data": {
      "text/plain": [
       "title             0\n",
       "audienceScore     0\n",
       "criticName        0\n",
       "publicatioName    0\n",
       "reviewText        0\n",
       "scoreSentiment    0\n",
       "delta             0\n",
       "dtype: int64"
      ]
     },
     "execution_count": 5,
     "metadata": {},
     "output_type": "execute_result"
    }
   ],
   "source": [
    "massive.isnull().sum()"
   ]
  },
  {
   "cell_type": "code",
   "execution_count": 6,
   "id": "3038c20c-d453-4bfe-ba9c-f2ff38aec57c",
   "metadata": {
    "tags": []
   },
   "outputs": [
    {
     "data": {
      "text/plain": [
       "title              7238\n",
       "audienceScore     14894\n",
       "criticName        11904\n",
       "publicatioName    13503\n",
       "reviewText            0\n",
       "scoreSentiment    14987\n",
       "delta             14868\n",
       "dtype: int64"
      ]
     },
     "execution_count": 6,
     "metadata": {},
     "output_type": "execute_result"
    }
   ],
   "source": [
    "# Dropping duplicates\n",
    "massive = massive.drop_duplicates(subset='reviewText', keep='first')\n",
    "# Checking for duplicates\n",
    "dup_df = massive.apply(lambda x: x.duplicated()).sum()\n",
    "dup_df"
   ]
  },
  {
   "cell_type": "code",
   "execution_count": 7,
   "id": "6b275390-dbb5-49ff-ae00-84611c1ac454",
   "metadata": {
    "tags": []
   },
   "outputs": [
    {
     "data": {
      "image/png": "[encoded data removed]",
      "text/plain": [
       "<Figure size 600x300 with 1 Axes>"
      ]
     },
     "metadata": {},
     "output_type": "display_data"
    }
   ],
   "source": [
    "# Sort the 'publicatioName' column\n",
    "massive_sorted = massive['publicatioName'].value_counts().reset_index().rename(\n",
    "    columns={'index': 'publicatioName', 'publicatioName': 'count'})\n",
    "massive_sorted = massive_sorted.sort_values(by='count', ascending=False)\n",
    "\n",
    "# Set the figure size\n",
    "plt.figure(figsize=(6, 3))\n",
    "\n",
    "# Create a bar plot using Matplotlib\n",
    "plt.bar(massive_sorted['publicatioName'], massive_sorted['count'], color='blue')\n",
    "\n",
    "# Set the title\n",
    "plt.title('Count of reviews by publication, Sorted')\n",
    "\n",
    "# Remove x-axis labels\n",
    "plt.xticks([])\n",
    "\n",
    "# Set the x and y-axis labels\n",
    "plt.xlabel('Publications')\n",
    "plt.ylabel('')\n",
    "\n",
    "# Save the plot as an image\n",
    "plt.savefig(\"output_plots/histo_publicatioName.png\")\n",
    "\n",
    "# Show the plot\n",
    "plt.show()\n",
    "\n",
    "\n",
    "\n",
    "\n",
    "\n",
    "\n"
   ]
  },
  {
   "cell_type": "code",
   "execution_count": 8,
   "id": "65ce7f90-7882-4523-a1fe-19d4ef546562",
   "metadata": {
    "tags": []
   },
   "outputs": [
    {
     "data": {
      "image/png": "[encoded data removed]",
      "text/plain": [
       "<Figure size 600x300 with 1 Axes>"
      ]
     },
     "metadata": {},
     "output_type": "display_data"
    }
   ],
   "source": [
    "# Sort the 'criticName' column\n",
    "critic_sorted = massive['publicatioName'].value_counts().reset_index().rename(\n",
    "    columns={'index': 'publicatioName', 'publicatioName': 'count'})\n",
    "critic_sorted = massive_sorted.sort_values(by='count', ascending=False)\n",
    "\n",
    "# Set the figure size\n",
    "plt.figure(figsize=(6, 3))\n",
    "\n",
    "# Create a bar plot using Matplotlib\n",
    "plt.bar(critic_sorted['publicatioName'], critic_sorted['count'], color='blue')\n",
    "\n",
    "# Set the title\n",
    "plt.title('Count of reviews by publication, Sorted')\n",
    "\n",
    "# Remove x-axis labels\n",
    "plt.xticks([])\n",
    "\n",
    "# Set the x and y-axis labels\n",
    "plt.xlabel('Publications')\n",
    "plt.ylabel('')\n",
    "\n",
    "# Save the plot as an image\n",
    "plt.savefig(\"output_plots/histo_criticName.png\")\n",
    "\n",
    "# Show the plot\n",
    "plt.show()\n"
   ]
  },
  {
   "cell_type": "code",
   "execution_count": 171,
   "id": "c8ef3920-1a56-4063-8460-b6be9b18ba60",
   "metadata": {},
   "outputs": [],
   "source": [
    "# define a function to process text on the data\n",
    "lemmatizer = WordNetLemmatizer()\n",
    "import re\n",
    "def process_text(text): \n",
    "    sw = set(stopwords.words('english')) \n",
    "    regex = re.compile(\"[^a-zA-Z ]\") \n",
    "    re_clean = regex.sub('', text) \n",
    "    words = word_tokenize(re_clean) \n",
    "    lem = [lemmatizer.lemmatize(word) for word in words] \n",
    "    output = ' '.join([word.lower() for word in lem if word.lower() not in sw]) \n",
    "    return output"
   ]
  },
  {
   "cell_type": "code",
   "execution_count": 172,
   "id": "dde6990b-5398-4f51-b517-502d386a59f2",
   "metadata": {},
   "outputs": [],
   "source": [
    "# use a lambda x function to apple process text on the whole column.\n",
    "massive['reviewText'] = massive['reviewText'].apply(lambda x: process_text(x))"
   ]
  },
  {
   "cell_type": "code",
   "execution_count": 174,
   "id": "8c499634-2bfb-41f7-966a-a8877201f39f",
   "metadata": {},
   "outputs": [],
   "source": [
    "# tfidf vectorizer for sentiment model\n",
    "tfidf_vectorizer = TfidfVectorizer(max_features=5000)\n",
    "X = tfidf_vectorizer.fit_transform(massive['reviewText'])\n",
    "y = massive['scoreSentiment']"
   ]
  },
  {
   "cell_type": "code",
   "execution_count": 175,
   "id": "698b1ab1-8b50-4058-a10e-bc4988f21785",
   "metadata": {},
   "outputs": [
    {
     "data": {
      "text/plain": [
       "LogisticRegression(max_iter=5000)"
      ]
     },
     "execution_count": 175,
     "metadata": {},
     "output_type": "execute_result"
    }
   ],
   "source": [
    "# Split the data into training and testing sets for sentiment model\n",
    "X_train, X_test, y_train, y_test = train_test_split(X, y, test_size=0.25, random_state=42)\n",
    "\n",
    "# Choose a machine learning model (e.g., Logistic Regression) and train it\n",
    "model = LogisticRegression(max_iter=5000)\n",
    "model.fit(X_train, y_train)"
   ]
  },
  {
   "cell_type": "code",
   "execution_count": 176,
   "id": "253355ed-d047-4679-8c24-99252f8f734a",
   "metadata": {},
   "outputs": [
    {
     "data": {
      "text/plain": [
       "0.8205356348429576"
      ]
     },
     "execution_count": 176,
     "metadata": {},
     "output_type": "execute_result"
    }
   ],
   "source": [
    "model.score(X_train, y_train)"
   ]
  },
  {
   "cell_type": "code",
   "execution_count": 177,
   "id": "93b1bd7a-d373-4ddb-977b-3fcb97f7f85b",
   "metadata": {},
   "outputs": [
    {
     "data": {
      "text/plain": [
       "0.7531358420069388"
      ]
     },
     "execution_count": 177,
     "metadata": {},
     "output_type": "execute_result"
    }
   ],
   "source": [
    "model.score(X_test, y_test)"
   ]
  },
  {
   "cell_type": "code",
   "execution_count": 178,
   "id": "326e26c0-c76a-4826-be13-79c35472cfb3",
   "metadata": {},
   "outputs": [
    {
     "name": "stderr",
     "output_type": "stream",
     "text": [
      "C:\\Users\\Dan\\anaconda3\\envs\\nlp\\lib\\site-packages\\sklearn\\utils\\deprecation.py:87: FutureWarning: Function get_feature_names is deprecated; get_feature_names is deprecated in 1.0 and will be removed in 1.2. Please use get_feature_names_out instead.\n",
      "  warnings.warn(msg, category=FutureWarning)\n"
     ]
    }
   ],
   "source": [
    "# Creating a dataframe made of the vectorized review text for a linear model\n",
    "massive_features = pd.DataFrame(X.toarray(), columns=tfidf_vectorizer.get_feature_names())"
   ]
  },
  {
   "cell_type": "code",
   "execution_count": 179,
   "id": "60c8d2db-9d4f-4494-8b24-43620e7698ae",
   "metadata": {},
   "outputs": [
    {
     "data": {
      "text/html": [
       "<div>\n",
       "<style scoped>\n",
       "    .dataframe tbody tr th:only-of-type {\n",
       "        vertical-align: middle;\n",
       "    }\n",
       "\n",
       "    .dataframe tbody tr th {\n",
       "        vertical-align: top;\n",
       "    }\n",
       "\n",
       "    .dataframe thead th {\n",
       "        text-align: right;\n",
       "    }\n",
       "</style>\n",
       "<table border=\"1\" class=\"dataframe\">\n",
       "  <thead>\n",
       "    <tr style=\"text-align: right;\">\n",
       "      <th></th>\n",
       "      <th>abandon</th>\n",
       "      <th>abandoned</th>\n",
       "      <th>ability</th>\n",
       "      <th>able</th>\n",
       "      <th>abrams</th>\n",
       "      <th>absent</th>\n",
       "      <th>absolute</th>\n",
       "      <th>absolutely</th>\n",
       "      <th>absorbing</th>\n",
       "      <th>absurd</th>\n",
       "      <th>...</th>\n",
       "      <th>youthful</th>\n",
       "      <th>youve</th>\n",
       "      <th>zack</th>\n",
       "      <th>zany</th>\n",
       "      <th>zeitgeist</th>\n",
       "      <th>zellweger</th>\n",
       "      <th>zemeckis</th>\n",
       "      <th>zero</th>\n",
       "      <th>zombie</th>\n",
       "      <th>zone</th>\n",
       "    </tr>\n",
       "  </thead>\n",
       "  <tbody>\n",
       "    <tr>\n",
       "      <th>0</th>\n",
       "      <td>0.0</td>\n",
       "      <td>0.0</td>\n",
       "      <td>0.0</td>\n",
       "      <td>0.0</td>\n",
       "      <td>0.0</td>\n",
       "      <td>0.0</td>\n",
       "      <td>0.0</td>\n",
       "      <td>0.0</td>\n",
       "      <td>0.0</td>\n",
       "      <td>0.0</td>\n",
       "      <td>...</td>\n",
       "      <td>0.0</td>\n",
       "      <td>0.0</td>\n",
       "      <td>0.0</td>\n",
       "      <td>0.0</td>\n",
       "      <td>0.0</td>\n",
       "      <td>0.0</td>\n",
       "      <td>0.0</td>\n",
       "      <td>0.0</td>\n",
       "      <td>0.0</td>\n",
       "      <td>0.0</td>\n",
       "    </tr>\n",
       "    <tr>\n",
       "      <th>1</th>\n",
       "      <td>0.0</td>\n",
       "      <td>0.0</td>\n",
       "      <td>0.0</td>\n",
       "      <td>0.0</td>\n",
       "      <td>0.0</td>\n",
       "      <td>0.0</td>\n",
       "      <td>0.0</td>\n",
       "      <td>0.0</td>\n",
       "      <td>0.0</td>\n",
       "      <td>0.0</td>\n",
       "      <td>...</td>\n",
       "      <td>0.0</td>\n",
       "      <td>0.0</td>\n",
       "      <td>0.0</td>\n",
       "      <td>0.0</td>\n",
       "      <td>0.0</td>\n",
       "      <td>0.0</td>\n",
       "      <td>0.0</td>\n",
       "      <td>0.0</td>\n",
       "      <td>0.0</td>\n",
       "      <td>0.0</td>\n",
       "    </tr>\n",
       "  </tbody>\n",
       "</table>\n",
       "<p>2 rows × 5000 columns</p>\n",
       "</div>"
      ],
      "text/plain": [
       "   abandon  abandoned  ability  able  abrams  absent  absolute  absolutely  \\\n",
       "0      0.0        0.0      0.0   0.0     0.0     0.0       0.0         0.0   \n",
       "1      0.0        0.0      0.0   0.0     0.0     0.0       0.0         0.0   \n",
       "\n",
       "   absorbing  absurd  ...  youthful  youve  zack  zany  zeitgeist  zellweger  \\\n",
       "0        0.0     0.0  ...       0.0    0.0   0.0   0.0        0.0        0.0   \n",
       "1        0.0     0.0  ...       0.0    0.0   0.0   0.0        0.0        0.0   \n",
       "\n",
       "   zemeckis  zero  zombie  zone  \n",
       "0       0.0   0.0     0.0   0.0  \n",
       "1       0.0   0.0     0.0   0.0  \n",
       "\n",
       "[2 rows x 5000 columns]"
      ]
     },
     "execution_count": 179,
     "metadata": {},
     "output_type": "execute_result"
    }
   ],
   "source": [
    "massive_features.head(2)"
   ]
  },
  {
   "cell_type": "code",
   "execution_count": 182,
   "id": "257b52dc-37a5-4e2a-a043-dce490c45deb",
   "metadata": {},
   "outputs": [],
   "source": [
    "# Need to rename because title is also a column in massive_features\n",
    "massive = massive.rename(columns={'title': 'title_'})"
   ]
  },
  {
   "cell_type": "code",
   "execution_count": 200,
   "id": "5cd0c733-fc83-45d8-8e70-da96ec5473de",
   "metadata": {},
   "outputs": [
    {
     "name": "stderr",
     "output_type": "stream",
     "text": [
      "C:\\Users\\Dan\\anaconda3\\envs\\nlp\\lib\\site-packages\\sklearn\\utils\\deprecation.py:87: FutureWarning: Function get_feature_names is deprecated; get_feature_names is deprecated in 1.0 and will be removed in 1.2. Please use get_feature_names_out instead.\n",
      "  warnings.warn(msg, category=FutureWarning)\n"
     ]
    }
   ],
   "source": [
    "# Vectorizing original df to dense array for linear model\n",
    "tfidf_dense = tfidf_vectorizer.fit_transform(massive['reviewText']).todense()\n",
    "\n",
    "# Naming columns for each vectorized word and combining with original dataframe\n",
    "new_cols = tfidf_vectorizer.get_feature_names()\n",
    "combined = massive.join(pd.DataFrame(tfidf_dense, columns=new_cols))"
   ]
  },
  {
   "cell_type": "code",
   "execution_count": 105,
   "id": "35a70089-6243-40b4-b7a7-b5bfce444c1a",
   "metadata": {},
   "outputs": [],
   "source": [
    "# Not using\n",
    "# combined = pd.concat([massive, massive_features], axis=1)"
   ]
  },
  {
   "cell_type": "code",
   "execution_count": 201,
   "id": "688d5fd1-c80d-47f4-8c52-4bc91ec9cdd4",
   "metadata": {},
   "outputs": [
    {
     "data": {
      "text/html": [
       "<div>\n",
       "<style scoped>\n",
       "    .dataframe tbody tr th:only-of-type {\n",
       "        vertical-align: middle;\n",
       "    }\n",
       "\n",
       "    .dataframe tbody tr th {\n",
       "        vertical-align: top;\n",
       "    }\n",
       "\n",
       "    .dataframe thead th {\n",
       "        text-align: right;\n",
       "    }\n",
       "</style>\n",
       "<table border=\"1\" class=\"dataframe\">\n",
       "  <thead>\n",
       "    <tr style=\"text-align: right;\">\n",
       "      <th></th>\n",
       "      <th>title_</th>\n",
       "      <th>audienceScore</th>\n",
       "      <th>criticName</th>\n",
       "      <th>publicatioName</th>\n",
       "      <th>scoreSentiment</th>\n",
       "      <th>delta</th>\n",
       "      <th>abandon</th>\n",
       "      <th>abandoned</th>\n",
       "      <th>ability</th>\n",
       "      <th>able</th>\n",
       "      <th>...</th>\n",
       "      <th>youthful</th>\n",
       "      <th>youve</th>\n",
       "      <th>zack</th>\n",
       "      <th>zany</th>\n",
       "      <th>zeitgeist</th>\n",
       "      <th>zellweger</th>\n",
       "      <th>zemeckis</th>\n",
       "      <th>zero</th>\n",
       "      <th>zombie</th>\n",
       "      <th>zone</th>\n",
       "    </tr>\n",
       "  </thead>\n",
       "  <tbody>\n",
       "    <tr>\n",
       "      <th>584840</th>\n",
       "      <td>My Name Is Hmmm...</td>\n",
       "      <td>36.0</td>\n",
       "      <td>Cath Clarke</td>\n",
       "      <td>Time Out</td>\n",
       "      <td>NEGATIVE</td>\n",
       "      <td>-14.0</td>\n",
       "      <td>NaN</td>\n",
       "      <td>NaN</td>\n",
       "      <td>NaN</td>\n",
       "      <td>NaN</td>\n",
       "      <td>...</td>\n",
       "      <td>NaN</td>\n",
       "      <td>NaN</td>\n",
       "      <td>NaN</td>\n",
       "      <td>NaN</td>\n",
       "      <td>NaN</td>\n",
       "      <td>NaN</td>\n",
       "      <td>NaN</td>\n",
       "      <td>NaN</td>\n",
       "      <td>NaN</td>\n",
       "      <td>NaN</td>\n",
       "    </tr>\n",
       "  </tbody>\n",
       "</table>\n",
       "<p>1 rows × 5006 columns</p>\n",
       "</div>"
      ],
      "text/plain": [
       "                    title_  audienceScore   criticName publicatioName  \\\n",
       "584840  My Name Is Hmmm...           36.0  Cath Clarke       Time Out   \n",
       "\n",
       "       scoreSentiment  delta  abandon  abandoned  ability  able  ...  \\\n",
       "584840       NEGATIVE  -14.0      NaN        NaN      NaN   NaN  ...   \n",
       "\n",
       "        youthful  youve  zack  zany  zeitgeist  zellweger  zemeckis  zero  \\\n",
       "584840       NaN    NaN   NaN   NaN        NaN        NaN       NaN   NaN   \n",
       "\n",
       "        zombie  zone  \n",
       "584840     NaN   NaN  \n",
       "\n",
       "[1 rows x 5006 columns]"
      ]
     },
     "execution_count": 201,
     "metadata": {},
     "output_type": "execute_result"
    }
   ],
   "source": [
    "# Dropping review text now that vectorized words are all columns\n",
    "combined = combined.drop(columns=['reviewText'])\n",
    "combined.head(1)"
   ]
  },
  {
   "cell_type": "code",
   "execution_count": 203,
   "id": "00ec8b92-efdd-4418-8187-952557b62038",
   "metadata": {},
   "outputs": [],
   "source": [
    "combined = combined.fillna(0)"
   ]
  },
  {
   "cell_type": "code",
   "execution_count": 205,
   "id": "66941dde-e810-4c38-b202-daed024aa859",
   "metadata": {},
   "outputs": [
    {
     "data": {
      "text/plain": [
       "title_            0\n",
       "audienceScore     0\n",
       "criticName        0\n",
       "publicatioName    0\n",
       "scoreSentiment    0\n",
       "delta             0\n",
       "abandon           0\n",
       "abandoned         0\n",
       "ability           0\n",
       "dtype: int64"
      ]
     },
     "execution_count": 205,
     "metadata": {},
     "output_type": "execute_result"
    }
   ],
   "source": [
    "combined.isnull().sum().head(9)"
   ]
  },
  {
   "cell_type": "code",
   "execution_count": 207,
   "id": "5dac35c1-4c06-49fd-b618-61b900391658",
   "metadata": {},
   "outputs": [
    {
     "data": {
      "text/plain": [
       "Other                  8954\n",
       "Dennis Schwartz         103\n",
       "Jeffrey M. Anderson      96\n",
       "Roger Moore              85\n",
       "Roger Ebert              73\n",
       "                       ... \n",
       "Tim Robey                16\n",
       "Michael O'Sullivan       16\n",
       "Brian Viner              16\n",
       "Eddie Harrison           16\n",
       "Peter Debruge            16\n",
       "Name: criticName, Length: 214, dtype: int64"
      ]
     },
     "execution_count": 207,
     "metadata": {},
     "output_type": "execute_result"
    }
   ],
   "source": [
    "# Grouping bottom critics as Other to be encoded into one\n",
    "counts = combined.criticName.value_counts()\n",
    "threshold = combined.criticName.isin(counts.index[counts<16])\n",
    "combined.loc[threshold, 'criticName'] = 'Other'\n",
    "combined['criticName'].value_counts()"
   ]
  },
  {
   "cell_type": "code",
   "execution_count": 211,
   "id": "0a6b0a96-a932-4eaf-a06b-4ab22e1ea42a",
   "metadata": {},
   "outputs": [
    {
     "data": {
      "text/plain": [
       "Other                4185\n",
       "New York Times        184\n",
       "Variety               156\n",
       "Slant Magazine        138\n",
       "Los Angeles Times     132\n",
       "                     ... \n",
       "RedEye                 12\n",
       "Three Movie Buffs      12\n",
       "That Shelf             12\n",
       "SPLICEDWire            12\n",
       "CultureMap             12\n",
       "Name: publicatioName, Length: 328, dtype: int64"
      ]
     },
     "execution_count": 211,
     "metadata": {},
     "output_type": "execute_result"
    }
   ],
   "source": [
    "# Repeat for publications\n",
    "counts = combined.publicatioName.value_counts()\n",
    "threshold = combined.publicatioName.isin(counts.index[counts<12])\n",
    "combined.loc[threshold, 'publicatioName'] = 'Other'\n",
    "combined['publicatioName'].value_counts()"
   ]
  },
  {
   "cell_type": "code",
   "execution_count": null,
   "id": "b8ae210a-41df-437c-b957-98dd50ebf7c8",
   "metadata": {},
   "outputs": [],
   "source": [
    "# To Do:\n",
    "Scale X data?\n",
    "dummies\n",
    "PCA\n",
    "test train split after "
   ]
  },
  {
   "cell_type": "code",
   "execution_count": 122,
   "id": "c935d9a7-59a9-4b8c-a9d1-0e79ab7882c7",
   "metadata": {},
   "outputs": [],
   "source": [
    "# columns to dummy\n",
    "categorical_cols = ['title_', 'criticName', 'publicatioName', 'scoreSentiment'] \n",
    "# get dummies\n",
    "combined = pd.get_dummies(combined, columns = categorical_cols)"
   ]
  },
  {
   "cell_type": "code",
   "execution_count": 113,
   "id": "eb89e1f1-0bff-4f86-8651-a43c7a1ef3bc",
   "metadata": {},
   "outputs": [],
   "source": [
    "X = combined.drop(columns=['delta'])\n",
    "y = combined['delta']"
   ]
  },
  {
   "cell_type": "code",
   "execution_count": 114,
   "id": "3ca3d855-6d54-4f08-a154-8263c060c0a5",
   "metadata": {},
   "outputs": [
    {
     "data": {
      "text/plain": [
       "title_            0\n",
       "criticName        0\n",
       "publicatioName    0\n",
       "scoreSentiment    0\n",
       "aaron             0\n",
       "                 ..\n",
       "zero              0\n",
       "zodiac            0\n",
       "zombie            0\n",
       "zombies           0\n",
       "zone              0\n",
       "Length: 5004, dtype: int64"
      ]
     },
     "execution_count": 114,
     "metadata": {},
     "output_type": "execute_result"
    }
   ],
   "source": [
    "X.isnull().sum()"
   ]
  },
  {
   "cell_type": "code",
   "execution_count": 115,
   "id": "9563c69a-5fe8-478e-95ef-96b5baa219e8",
   "metadata": {},
   "outputs": [],
   "source": [
    "from sklearn.linear_model import LinearRegression\n",
    "\n",
    "# Split the data into training and testing sets\n",
    "X_train, X_test, y_train, y_test = train_test_split(X, y, test_size=0.25, random_state=42)"
   ]
  },
  {
   "cell_type": "code",
   "execution_count": 116,
   "id": "5cd7a49c-11fe-44c7-b41f-d6103075df8b",
   "metadata": {},
   "outputs": [
    {
     "data": {
      "text/plain": [
       "title_            0\n",
       "criticName        0\n",
       "publicatioName    0\n",
       "scoreSentiment    0\n",
       "aaron             0\n",
       "                 ..\n",
       "zero              0\n",
       "zodiac            0\n",
       "zombie            0\n",
       "zombies           0\n",
       "zone              0\n",
       "Length: 5004, dtype: int64"
      ]
     },
     "execution_count": 116,
     "metadata": {},
     "output_type": "execute_result"
    }
   ],
   "source": [
    "X_train.isnull().sum()"
   ]
  },
  {
   "cell_type": "code",
   "execution_count": 117,
   "id": "5069e7aa-33cc-46f1-9981-32ab137fbc74",
   "metadata": {},
   "outputs": [
    {
     "data": {
      "text/html": [
       "<div>\n",
       "<style scoped>\n",
       "    .dataframe tbody tr th:only-of-type {\n",
       "        vertical-align: middle;\n",
       "    }\n",
       "\n",
       "    .dataframe tbody tr th {\n",
       "        vertical-align: top;\n",
       "    }\n",
       "\n",
       "    .dataframe thead th {\n",
       "        text-align: right;\n",
       "    }\n",
       "</style>\n",
       "<table border=\"1\" class=\"dataframe\">\n",
       "  <thead>\n",
       "    <tr style=\"text-align: right;\">\n",
       "      <th></th>\n",
       "      <th>title_</th>\n",
       "      <th>criticName</th>\n",
       "      <th>publicatioName</th>\n",
       "      <th>scoreSentiment</th>\n",
       "      <th>aaron</th>\n",
       "      <th>abandon</th>\n",
       "      <th>abandoned</th>\n",
       "      <th>ability</th>\n",
       "      <th>able</th>\n",
       "      <th>ably</th>\n",
       "      <th>...</th>\n",
       "      <th>youth</th>\n",
       "      <th>youthful</th>\n",
       "      <th>youve</th>\n",
       "      <th>zany</th>\n",
       "      <th>zeitgeist</th>\n",
       "      <th>zero</th>\n",
       "      <th>zodiac</th>\n",
       "      <th>zombie</th>\n",
       "      <th>zombies</th>\n",
       "      <th>zone</th>\n",
       "    </tr>\n",
       "  </thead>\n",
       "  <tbody>\n",
       "    <tr>\n",
       "      <th>448204</th>\n",
       "      <td>Narco cultura</td>\n",
       "      <td>Joe Neumaier</td>\n",
       "      <td>New York Daily News</td>\n",
       "      <td>NEGATIVE</td>\n",
       "      <td>0.0</td>\n",
       "      <td>0.0</td>\n",
       "      <td>0.0</td>\n",
       "      <td>0.0</td>\n",
       "      <td>0.0</td>\n",
       "      <td>0.0</td>\n",
       "      <td>...</td>\n",
       "      <td>0.0</td>\n",
       "      <td>0.0</td>\n",
       "      <td>0.0</td>\n",
       "      <td>0.0</td>\n",
       "      <td>0.0</td>\n",
       "      <td>0.0</td>\n",
       "      <td>0.0</td>\n",
       "      <td>0.0</td>\n",
       "      <td>0.0</td>\n",
       "      <td>0.0</td>\n",
       "    </tr>\n",
       "    <tr>\n",
       "      <th>762304</th>\n",
       "      <td>Diana</td>\n",
       "      <td>Nicholas Bell</td>\n",
       "      <td>IONCINEMA.com</td>\n",
       "      <td>NEGATIVE</td>\n",
       "      <td>0.0</td>\n",
       "      <td>0.0</td>\n",
       "      <td>0.0</td>\n",
       "      <td>0.0</td>\n",
       "      <td>0.0</td>\n",
       "      <td>0.0</td>\n",
       "      <td>...</td>\n",
       "      <td>0.0</td>\n",
       "      <td>0.0</td>\n",
       "      <td>0.0</td>\n",
       "      <td>0.0</td>\n",
       "      <td>0.0</td>\n",
       "      <td>0.0</td>\n",
       "      <td>0.0</td>\n",
       "      <td>0.0</td>\n",
       "      <td>0.0</td>\n",
       "      <td>0.0</td>\n",
       "    </tr>\n",
       "    <tr>\n",
       "      <th>840540</th>\n",
       "      <td>Greta</td>\n",
       "      <td>Richard von Busack</td>\n",
       "      <td>Pacific Sun (San Rafael, CA)</td>\n",
       "      <td>POSITIVE</td>\n",
       "      <td>0.0</td>\n",
       "      <td>0.0</td>\n",
       "      <td>0.0</td>\n",
       "      <td>0.0</td>\n",
       "      <td>0.0</td>\n",
       "      <td>0.0</td>\n",
       "      <td>...</td>\n",
       "      <td>0.0</td>\n",
       "      <td>0.0</td>\n",
       "      <td>0.0</td>\n",
       "      <td>0.0</td>\n",
       "      <td>0.0</td>\n",
       "      <td>0.0</td>\n",
       "      <td>0.0</td>\n",
       "      <td>0.0</td>\n",
       "      <td>0.0</td>\n",
       "      <td>0.0</td>\n",
       "    </tr>\n",
       "    <tr>\n",
       "      <th>47414</th>\n",
       "      <td>2046</td>\n",
       "      <td>Enrique Buchichio</td>\n",
       "      <td>Uruguay Total</td>\n",
       "      <td>POSITIVE</td>\n",
       "      <td>0.0</td>\n",
       "      <td>0.0</td>\n",
       "      <td>0.0</td>\n",
       "      <td>0.0</td>\n",
       "      <td>0.0</td>\n",
       "      <td>0.0</td>\n",
       "      <td>...</td>\n",
       "      <td>0.0</td>\n",
       "      <td>0.0</td>\n",
       "      <td>0.0</td>\n",
       "      <td>0.0</td>\n",
       "      <td>0.0</td>\n",
       "      <td>0.0</td>\n",
       "      <td>0.0</td>\n",
       "      <td>0.0</td>\n",
       "      <td>0.0</td>\n",
       "      <td>0.0</td>\n",
       "    </tr>\n",
       "    <tr>\n",
       "      <th>875600</th>\n",
       "      <td>The Truth About Emanuel</td>\n",
       "      <td>Brian Orndorf</td>\n",
       "      <td>Blu-ray.com</td>\n",
       "      <td>POSITIVE</td>\n",
       "      <td>0.0</td>\n",
       "      <td>0.0</td>\n",
       "      <td>0.0</td>\n",
       "      <td>0.0</td>\n",
       "      <td>0.0</td>\n",
       "      <td>0.0</td>\n",
       "      <td>...</td>\n",
       "      <td>0.0</td>\n",
       "      <td>0.0</td>\n",
       "      <td>0.0</td>\n",
       "      <td>0.0</td>\n",
       "      <td>0.0</td>\n",
       "      <td>0.0</td>\n",
       "      <td>0.0</td>\n",
       "      <td>0.0</td>\n",
       "      <td>0.0</td>\n",
       "      <td>0.0</td>\n",
       "    </tr>\n",
       "  </tbody>\n",
       "</table>\n",
       "<p>5 rows × 5004 columns</p>\n",
       "</div>"
      ],
      "text/plain": [
       "                         title_          criticName  \\\n",
       "448204            Narco cultura        Joe Neumaier   \n",
       "762304                    Diana       Nicholas Bell   \n",
       "840540                    Greta  Richard von Busack   \n",
       "47414                      2046   Enrique Buchichio   \n",
       "875600  The Truth About Emanuel       Brian Orndorf   \n",
       "\n",
       "                      publicatioName scoreSentiment  aaron  abandon  \\\n",
       "448204           New York Daily News       NEGATIVE    0.0      0.0   \n",
       "762304                 IONCINEMA.com       NEGATIVE    0.0      0.0   \n",
       "840540  Pacific Sun (San Rafael, CA)       POSITIVE    0.0      0.0   \n",
       "47414                  Uruguay Total       POSITIVE    0.0      0.0   \n",
       "875600                   Blu-ray.com       POSITIVE    0.0      0.0   \n",
       "\n",
       "        abandoned  ability  able  ably  ...  youth  youthful  youve  zany  \\\n",
       "448204        0.0      0.0   0.0   0.0  ...    0.0       0.0    0.0   0.0   \n",
       "762304        0.0      0.0   0.0   0.0  ...    0.0       0.0    0.0   0.0   \n",
       "840540        0.0      0.0   0.0   0.0  ...    0.0       0.0    0.0   0.0   \n",
       "47414         0.0      0.0   0.0   0.0  ...    0.0       0.0    0.0   0.0   \n",
       "875600        0.0      0.0   0.0   0.0  ...    0.0       0.0    0.0   0.0   \n",
       "\n",
       "        zeitgeist  zero  zodiac  zombie  zombies  zone  \n",
       "448204        0.0   0.0     0.0     0.0      0.0   0.0  \n",
       "762304        0.0   0.0     0.0     0.0      0.0   0.0  \n",
       "840540        0.0   0.0     0.0     0.0      0.0   0.0  \n",
       "47414         0.0   0.0     0.0     0.0      0.0   0.0  \n",
       "875600        0.0   0.0     0.0     0.0      0.0   0.0  \n",
       "\n",
       "[5 rows x 5004 columns]"
      ]
     },
     "execution_count": 117,
     "metadata": {},
     "output_type": "execute_result"
    }
   ],
   "source": [
    "X_train.head()"
   ]
  },
  {
   "cell_type": "code",
   "execution_count": 147,
   "id": "aaf41b4b-c400-4120-b57c-d6fe190442cc",
   "metadata": {},
   "outputs": [
    {
     "data": {
      "text/html": [
       "<div>\n",
       "<style scoped>\n",
       "    .dataframe tbody tr th:only-of-type {\n",
       "        vertical-align: middle;\n",
       "    }\n",
       "\n",
       "    .dataframe tbody tr th {\n",
       "        vertical-align: top;\n",
       "    }\n",
       "\n",
       "    .dataframe thead th {\n",
       "        text-align: right;\n",
       "    }\n",
       "</style>\n",
       "<table border=\"1\" class=\"dataframe\">\n",
       "  <thead>\n",
       "    <tr style=\"text-align: right;\">\n",
       "      <th></th>\n",
       "      <th>title_</th>\n",
       "      <th>criticName</th>\n",
       "      <th>publicatioName</th>\n",
       "      <th>scoreSentiment</th>\n",
       "      <th>aaron</th>\n",
       "      <th>abandon</th>\n",
       "      <th>abandoned</th>\n",
       "      <th>ability</th>\n",
       "      <th>able</th>\n",
       "      <th>ably</th>\n",
       "      <th>...</th>\n",
       "      <th>Deborah Henderson</th>\n",
       "      <th>Joe Utichi</th>\n",
       "      <th>Michael Bonner</th>\n",
       "      <th>Drew Gregory</th>\n",
       "      <th>Justin Hartung</th>\n",
       "      <th>Matt Bochenski</th>\n",
       "      <th>Meagan Navarro</th>\n",
       "      <th>Peg Aloi</th>\n",
       "      <th>Ron Wells</th>\n",
       "      <th>R. Kurt Osenlund</th>\n",
       "    </tr>\n",
       "  </thead>\n",
       "  <tbody>\n",
       "    <tr>\n",
       "      <th>865392</th>\n",
       "      <td>From Hell</td>\n",
       "      <td>James Berardinelli</td>\n",
       "      <td>ReelViews</td>\n",
       "      <td>POSITIVE</td>\n",
       "      <td>0.0</td>\n",
       "      <td>0.0</td>\n",
       "      <td>0.0</td>\n",
       "      <td>0.0</td>\n",
       "      <td>0.0</td>\n",
       "      <td>0.0</td>\n",
       "      <td>...</td>\n",
       "      <td>0</td>\n",
       "      <td>0</td>\n",
       "      <td>0</td>\n",
       "      <td>0</td>\n",
       "      <td>0</td>\n",
       "      <td>0</td>\n",
       "      <td>0</td>\n",
       "      <td>0</td>\n",
       "      <td>0</td>\n",
       "      <td>0</td>\n",
       "    </tr>\n",
       "    <tr>\n",
       "      <th>763566</th>\n",
       "      <td>Our Daily Bread</td>\n",
       "      <td>Leo Goldsmith</td>\n",
       "      <td>Not Coming to a Theater Near You</td>\n",
       "      <td>POSITIVE</td>\n",
       "      <td>0.0</td>\n",
       "      <td>0.0</td>\n",
       "      <td>0.0</td>\n",
       "      <td>0.0</td>\n",
       "      <td>0.0</td>\n",
       "      <td>0.0</td>\n",
       "      <td>...</td>\n",
       "      <td>0</td>\n",
       "      <td>0</td>\n",
       "      <td>0</td>\n",
       "      <td>0</td>\n",
       "      <td>0</td>\n",
       "      <td>0</td>\n",
       "      <td>0</td>\n",
       "      <td>0</td>\n",
       "      <td>0</td>\n",
       "      <td>0</td>\n",
       "    </tr>\n",
       "    <tr>\n",
       "      <th>48191</th>\n",
       "      <td>Spider-Man 2</td>\n",
       "      <td>Andy Klein</td>\n",
       "      <td>Los Angeles CityBeat</td>\n",
       "      <td>POSITIVE</td>\n",
       "      <td>0.0</td>\n",
       "      <td>0.0</td>\n",
       "      <td>0.0</td>\n",
       "      <td>0.0</td>\n",
       "      <td>0.0</td>\n",
       "      <td>0.0</td>\n",
       "      <td>...</td>\n",
       "      <td>0</td>\n",
       "      <td>0</td>\n",
       "      <td>0</td>\n",
       "      <td>0</td>\n",
       "      <td>0</td>\n",
       "      <td>0</td>\n",
       "      <td>0</td>\n",
       "      <td>0</td>\n",
       "      <td>0</td>\n",
       "      <td>0</td>\n",
       "    </tr>\n",
       "    <tr>\n",
       "      <th>11786</th>\n",
       "      <td>The Son of No One</td>\n",
       "      <td>R. Kurt Osenlund</td>\n",
       "      <td>Slant Magazine</td>\n",
       "      <td>POSITIVE</td>\n",
       "      <td>0.0</td>\n",
       "      <td>0.0</td>\n",
       "      <td>0.0</td>\n",
       "      <td>0.0</td>\n",
       "      <td>0.0</td>\n",
       "      <td>0.0</td>\n",
       "      <td>...</td>\n",
       "      <td>0</td>\n",
       "      <td>0</td>\n",
       "      <td>0</td>\n",
       "      <td>0</td>\n",
       "      <td>0</td>\n",
       "      <td>0</td>\n",
       "      <td>0</td>\n",
       "      <td>0</td>\n",
       "      <td>0</td>\n",
       "      <td>1</td>\n",
       "    </tr>\n",
       "    <tr>\n",
       "      <th>543751</th>\n",
       "      <td>Kill Bill: Vol. 1</td>\n",
       "      <td>Paul Byrnes</td>\n",
       "      <td>Sydney Morning Herald</td>\n",
       "      <td>NEGATIVE</td>\n",
       "      <td>0.0</td>\n",
       "      <td>0.0</td>\n",
       "      <td>0.0</td>\n",
       "      <td>0.0</td>\n",
       "      <td>0.0</td>\n",
       "      <td>0.0</td>\n",
       "      <td>...</td>\n",
       "      <td>0</td>\n",
       "      <td>0</td>\n",
       "      <td>0</td>\n",
       "      <td>0</td>\n",
       "      <td>0</td>\n",
       "      <td>0</td>\n",
       "      <td>0</td>\n",
       "      <td>0</td>\n",
       "      <td>0</td>\n",
       "      <td>0</td>\n",
       "    </tr>\n",
       "  </tbody>\n",
       "</table>\n",
       "<p>5 rows × 7731 columns</p>\n",
       "</div>"
      ],
      "text/plain": [
       "                   title_          criticName  \\\n",
       "865392          From Hell  James Berardinelli   \n",
       "763566    Our Daily Bread       Leo Goldsmith   \n",
       "48191        Spider-Man 2          Andy Klein   \n",
       "11786   The Son of No One    R. Kurt Osenlund   \n",
       "543751  Kill Bill: Vol. 1         Paul Byrnes   \n",
       "\n",
       "                          publicatioName scoreSentiment  aaron  abandon  \\\n",
       "865392                         ReelViews       POSITIVE    0.0      0.0   \n",
       "763566  Not Coming to a Theater Near You       POSITIVE    0.0      0.0   \n",
       "48191               Los Angeles CityBeat       POSITIVE    0.0      0.0   \n",
       "11786                     Slant Magazine       POSITIVE    0.0      0.0   \n",
       "543751             Sydney Morning Herald       NEGATIVE    0.0      0.0   \n",
       "\n",
       "        abandoned  ability  able  ably  ...  Deborah Henderson  Joe Utichi  \\\n",
       "865392        0.0      0.0   0.0   0.0  ...                  0           0   \n",
       "763566        0.0      0.0   0.0   0.0  ...                  0           0   \n",
       "48191         0.0      0.0   0.0   0.0  ...                  0           0   \n",
       "11786         0.0      0.0   0.0   0.0  ...                  0           0   \n",
       "543751        0.0      0.0   0.0   0.0  ...                  0           0   \n",
       "\n",
       "        Michael Bonner  Drew Gregory  Justin Hartung  Matt Bochenski  \\\n",
       "865392               0             0               0               0   \n",
       "763566               0             0               0               0   \n",
       "48191                0             0               0               0   \n",
       "11786                0             0               0               0   \n",
       "543751               0             0               0               0   \n",
       "\n",
       "        Meagan Navarro  Peg Aloi  Ron Wells  R. Kurt Osenlund  \n",
       "865392               0         0          0                 0  \n",
       "763566               0         0          0                 0  \n",
       "48191                0         0          0                 0  \n",
       "11786                0         0          0                 1  \n",
       "543751               0         0          0                 0  \n",
       "\n",
       "[5 rows x 7731 columns]"
      ]
     },
     "execution_count": 147,
     "metadata": {},
     "output_type": "execute_result"
    }
   ],
   "source": [
    "X_train.tail()"
   ]
  },
  {
   "cell_type": "code",
   "execution_count": 124,
   "id": "23f77fd3-0e56-4485-8a77-da3f463c976f",
   "metadata": {},
   "outputs": [
    {
     "data": {
      "text/plain": [
       "LinearRegression()"
      ]
     },
     "execution_count": 124,
     "metadata": {},
     "output_type": "execute_result"
    }
   ],
   "source": [
    "# Choose a machine learning model (e.g., Logistic Regression) and train it\n",
    "model = LinearRegression()\n",
    "model.fit(X_train_coded, y_train)"
   ]
  },
  {
   "cell_type": "code",
   "execution_count": 125,
   "id": "f456ec82-348d-434d-8f2a-23ef3bd0eecb",
   "metadata": {},
   "outputs": [
    {
     "name": "stderr",
     "output_type": "stream",
     "text": [
      "C:\\Users\\Dan\\anaconda3\\envs\\nlp\\lib\\site-packages\\sklearn\\base.py:493: FutureWarning: The feature names should match those that were passed during fit. Starting version 1.2, an error will be raised.\n",
      "Feature names unseen at fit time:\n",
      "- criticName_A.D. Murphy\n",
      "- criticName_Aaron Lazenby\n",
      "- criticName_Abby Garnett\n",
      "- criticName_Adam Lippe\n",
      "- criticName_Adrián Monserrat\n",
      "- ...\n",
      "Feature names seen at fit time, yet now missing:\n",
      "- criticName_ Anjolie Therrien\n",
      "- criticName_A.C. Koch\n",
      "- criticName_A.S. Hamrah\n",
      "- criticName_AJ Caulfield\n",
      "- criticName_AP Kryza\n",
      "- ...\n",
      "\n",
      "  warnings.warn(message, FutureWarning)\n"
     ]
    },
    {
     "ename": "ValueError",
     "evalue": "X has 10553 features, but LinearRegression is expecting 15602 features as input.",
     "output_type": "error",
     "traceback": [
      "\u001b[1;31m---------------------------------------------------------------------------\u001b[0m",
      "\u001b[1;31mValueError\u001b[0m                                Traceback (most recent call last)",
      "\u001b[1;32m~\\AppData\\Local\\Temp\\ipykernel_37344\\990665960.py\u001b[0m in \u001b[0;36m<module>\u001b[1;34m\u001b[0m\n\u001b[1;32m----> 1\u001b[1;33m \u001b[0mmodel\u001b[0m\u001b[1;33m.\u001b[0m\u001b[0mscore\u001b[0m\u001b[1;33m(\u001b[0m\u001b[0mX_test_coded\u001b[0m\u001b[1;33m,\u001b[0m \u001b[0my_test\u001b[0m\u001b[1;33m)\u001b[0m\u001b[1;33m\u001b[0m\u001b[1;33m\u001b[0m\u001b[0m\n\u001b[0m",
      "\u001b[1;32m~\\anaconda3\\envs\\nlp\\lib\\site-packages\\sklearn\\base.py\u001b[0m in \u001b[0;36mscore\u001b[1;34m(self, X, y, sample_weight)\u001b[0m\n\u001b[0;32m    703\u001b[0m         \u001b[1;32mfrom\u001b[0m \u001b[1;33m.\u001b[0m\u001b[0mmetrics\u001b[0m \u001b[1;32mimport\u001b[0m \u001b[0mr2_score\u001b[0m\u001b[1;33m\u001b[0m\u001b[1;33m\u001b[0m\u001b[0m\n\u001b[0;32m    704\u001b[0m \u001b[1;33m\u001b[0m\u001b[0m\n\u001b[1;32m--> 705\u001b[1;33m         \u001b[0my_pred\u001b[0m \u001b[1;33m=\u001b[0m \u001b[0mself\u001b[0m\u001b[1;33m.\u001b[0m\u001b[0mpredict\u001b[0m\u001b[1;33m(\u001b[0m\u001b[0mX\u001b[0m\u001b[1;33m)\u001b[0m\u001b[1;33m\u001b[0m\u001b[1;33m\u001b[0m\u001b[0m\n\u001b[0m\u001b[0;32m    706\u001b[0m         \u001b[1;32mreturn\u001b[0m \u001b[0mr2_score\u001b[0m\u001b[1;33m(\u001b[0m\u001b[0my\u001b[0m\u001b[1;33m,\u001b[0m \u001b[0my_pred\u001b[0m\u001b[1;33m,\u001b[0m \u001b[0msample_weight\u001b[0m\u001b[1;33m=\u001b[0m\u001b[0msample_weight\u001b[0m\u001b[1;33m)\u001b[0m\u001b[1;33m\u001b[0m\u001b[1;33m\u001b[0m\u001b[0m\n\u001b[0;32m    707\u001b[0m \u001b[1;33m\u001b[0m\u001b[0m\n",
      "\u001b[1;32m~\\anaconda3\\envs\\nlp\\lib\\site-packages\\sklearn\\linear_model\\_base.py\u001b[0m in \u001b[0;36mpredict\u001b[1;34m(self, X)\u001b[0m\n\u001b[0;32m    360\u001b[0m             \u001b[0mReturns\u001b[0m \u001b[0mpredicted\u001b[0m \u001b[0mvalues\u001b[0m\u001b[1;33m.\u001b[0m\u001b[1;33m\u001b[0m\u001b[1;33m\u001b[0m\u001b[0m\n\u001b[0;32m    361\u001b[0m         \"\"\"\n\u001b[1;32m--> 362\u001b[1;33m         \u001b[1;32mreturn\u001b[0m \u001b[0mself\u001b[0m\u001b[1;33m.\u001b[0m\u001b[0m_decision_function\u001b[0m\u001b[1;33m(\u001b[0m\u001b[0mX\u001b[0m\u001b[1;33m)\u001b[0m\u001b[1;33m\u001b[0m\u001b[1;33m\u001b[0m\u001b[0m\n\u001b[0m\u001b[0;32m    363\u001b[0m \u001b[1;33m\u001b[0m\u001b[0m\n\u001b[0;32m    364\u001b[0m     \u001b[0m_preprocess_data\u001b[0m \u001b[1;33m=\u001b[0m \u001b[0mstaticmethod\u001b[0m\u001b[1;33m(\u001b[0m\u001b[0m_preprocess_data\u001b[0m\u001b[1;33m)\u001b[0m\u001b[1;33m\u001b[0m\u001b[1;33m\u001b[0m\u001b[0m\n",
      "\u001b[1;32m~\\anaconda3\\envs\\nlp\\lib\\site-packages\\sklearn\\linear_model\\_base.py\u001b[0m in \u001b[0;36m_decision_function\u001b[1;34m(self, X)\u001b[0m\n\u001b[0;32m    343\u001b[0m         \u001b[0mcheck_is_fitted\u001b[0m\u001b[1;33m(\u001b[0m\u001b[0mself\u001b[0m\u001b[1;33m)\u001b[0m\u001b[1;33m\u001b[0m\u001b[1;33m\u001b[0m\u001b[0m\n\u001b[0;32m    344\u001b[0m \u001b[1;33m\u001b[0m\u001b[0m\n\u001b[1;32m--> 345\u001b[1;33m         \u001b[0mX\u001b[0m \u001b[1;33m=\u001b[0m \u001b[0mself\u001b[0m\u001b[1;33m.\u001b[0m\u001b[0m_validate_data\u001b[0m\u001b[1;33m(\u001b[0m\u001b[0mX\u001b[0m\u001b[1;33m,\u001b[0m \u001b[0maccept_sparse\u001b[0m\u001b[1;33m=\u001b[0m\u001b[1;33m[\u001b[0m\u001b[1;34m\"csr\"\u001b[0m\u001b[1;33m,\u001b[0m \u001b[1;34m\"csc\"\u001b[0m\u001b[1;33m,\u001b[0m \u001b[1;34m\"coo\"\u001b[0m\u001b[1;33m]\u001b[0m\u001b[1;33m,\u001b[0m \u001b[0mreset\u001b[0m\u001b[1;33m=\u001b[0m\u001b[1;32mFalse\u001b[0m\u001b[1;33m)\u001b[0m\u001b[1;33m\u001b[0m\u001b[1;33m\u001b[0m\u001b[0m\n\u001b[0m\u001b[0;32m    346\u001b[0m         \u001b[1;32mreturn\u001b[0m \u001b[0msafe_sparse_dot\u001b[0m\u001b[1;33m(\u001b[0m\u001b[0mX\u001b[0m\u001b[1;33m,\u001b[0m \u001b[0mself\u001b[0m\u001b[1;33m.\u001b[0m\u001b[0mcoef_\u001b[0m\u001b[1;33m.\u001b[0m\u001b[0mT\u001b[0m\u001b[1;33m,\u001b[0m \u001b[0mdense_output\u001b[0m\u001b[1;33m=\u001b[0m\u001b[1;32mTrue\u001b[0m\u001b[1;33m)\u001b[0m \u001b[1;33m+\u001b[0m \u001b[0mself\u001b[0m\u001b[1;33m.\u001b[0m\u001b[0mintercept_\u001b[0m\u001b[1;33m\u001b[0m\u001b[1;33m\u001b[0m\u001b[0m\n\u001b[0;32m    347\u001b[0m \u001b[1;33m\u001b[0m\u001b[0m\n",
      "\u001b[1;32m~\\anaconda3\\envs\\nlp\\lib\\site-packages\\sklearn\\base.py\u001b[0m in \u001b[0;36m_validate_data\u001b[1;34m(self, X, y, reset, validate_separately, **check_params)\u001b[0m\n\u001b[0;32m    583\u001b[0m \u001b[1;33m\u001b[0m\u001b[0m\n\u001b[0;32m    584\u001b[0m         \u001b[1;32mif\u001b[0m \u001b[1;32mnot\u001b[0m \u001b[0mno_val_X\u001b[0m \u001b[1;32mand\u001b[0m \u001b[0mcheck_params\u001b[0m\u001b[1;33m.\u001b[0m\u001b[0mget\u001b[0m\u001b[1;33m(\u001b[0m\u001b[1;34m\"ensure_2d\"\u001b[0m\u001b[1;33m,\u001b[0m \u001b[1;32mTrue\u001b[0m\u001b[1;33m)\u001b[0m\u001b[1;33m:\u001b[0m\u001b[1;33m\u001b[0m\u001b[1;33m\u001b[0m\u001b[0m\n\u001b[1;32m--> 585\u001b[1;33m             \u001b[0mself\u001b[0m\u001b[1;33m.\u001b[0m\u001b[0m_check_n_features\u001b[0m\u001b[1;33m(\u001b[0m\u001b[0mX\u001b[0m\u001b[1;33m,\u001b[0m \u001b[0mreset\u001b[0m\u001b[1;33m=\u001b[0m\u001b[0mreset\u001b[0m\u001b[1;33m)\u001b[0m\u001b[1;33m\u001b[0m\u001b[1;33m\u001b[0m\u001b[0m\n\u001b[0m\u001b[0;32m    586\u001b[0m \u001b[1;33m\u001b[0m\u001b[0m\n\u001b[0;32m    587\u001b[0m         \u001b[1;32mreturn\u001b[0m \u001b[0mout\u001b[0m\u001b[1;33m\u001b[0m\u001b[1;33m\u001b[0m\u001b[0m\n",
      "\u001b[1;32m~\\anaconda3\\envs\\nlp\\lib\\site-packages\\sklearn\\base.py\u001b[0m in \u001b[0;36m_check_n_features\u001b[1;34m(self, X, reset)\u001b[0m\n\u001b[0;32m    399\u001b[0m         \u001b[1;32mif\u001b[0m \u001b[0mn_features\u001b[0m \u001b[1;33m!=\u001b[0m \u001b[0mself\u001b[0m\u001b[1;33m.\u001b[0m\u001b[0mn_features_in_\u001b[0m\u001b[1;33m:\u001b[0m\u001b[1;33m\u001b[0m\u001b[1;33m\u001b[0m\u001b[0m\n\u001b[0;32m    400\u001b[0m             raise ValueError(\n\u001b[1;32m--> 401\u001b[1;33m                 \u001b[1;34mf\"X has {n_features} features, but {self.__class__.__name__} \"\u001b[0m\u001b[1;33m\u001b[0m\u001b[1;33m\u001b[0m\u001b[0m\n\u001b[0m\u001b[0;32m    402\u001b[0m                 \u001b[1;34mf\"is expecting {self.n_features_in_} features as input.\"\u001b[0m\u001b[1;33m\u001b[0m\u001b[1;33m\u001b[0m\u001b[0m\n\u001b[0;32m    403\u001b[0m             )\n",
      "\u001b[1;31mValueError\u001b[0m: X has 10553 features, but LinearRegression is expecting 15602 features as input."
     ]
    }
   ],
   "source": [
    "model.score(X_test_coded, y_test)"
   ]
  },
  {
   "cell_type": "code",
   "execution_count": null,
   "id": "c5bd09e9-ba86-4d6c-b7bc-7182e841fc89",
   "metadata": {},
   "outputs": [],
   "source": []
  }
 ],
 "metadata": {
  "kernelspec": {
   "display_name": "Python 3 (ipykernel)",
   "language": "python",
   "name": "python3"
  },
  "language_info": {
   "codemirror_mode": {
    "name": "ipython",
    "version": 3
   },
   "file_extension": ".py",
   "mimetype": "text/x-python",
   "name": "python",
   "nbconvert_exporter": "python",
   "pygments_lexer": "ipython3",
   "version": "3.7.13"
  }
 },
 "nbformat": 4,
 "nbformat_minor": 5
}
