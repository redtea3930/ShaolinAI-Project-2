{
 "cells": [
  {
   "cell_type": "code",
   "execution_count": 326,
   "id": "b80b3cc5-603d-4724-9179-b1f762a2e8c0",
   "metadata": {},
   "outputs": [],
   "source": [
    "#import libraries\n",
    "import pandas as pd\n",
    "import numpy as np\n",
    "from pathlib import Path\n",
    "import matplotlib.pyplot as plt\n",
    "import seaborn as sns\n",
    "from sklearn.model_selection import train_test_split\n",
    "from sklearn.feature_extraction.text import TfidfVectorizer\n",
    "from sklearn.metrics import accuracy_score, classification_report, confusion_matrix\n",
    "from sklearn.model_selection import GridSearchCV\n",
    "from sklearn.preprocessing import StandardScaler\n",
    "from sklearn.decomposition import PCA\n",
    "from sklearn.linear_model import LogisticRegression\n",
    "from sklearn.linear_model import LinearRegression\n",
    "from nltk.corpus import stopwords\n",
    "from nltk.tokenize import word_tokenize\n",
    "from nltk.stem import WordNetLemmatizer "
   ]
  },
  {
   "cell_type": "code",
   "execution_count": 364,
   "id": "606c2cda-48a1-4431-be34-c839cf1cd02d",
   "metadata": {},
   "outputs": [],
   "source": [
    "# read in cleaned CSV\n",
    "filepath = Path('../massive.csv')\n",
    "massive = pd.read_csv(filepath)\n",
    "massive = massive.sample(n=15000)"
   ]
  },
  {
   "cell_type": "code",
   "execution_count": 367,
   "id": "dacfd229-e592-4890-8f1b-973eac81fff8",
   "metadata": {},
   "outputs": [
    {
     "data": {
      "text/html": [
       "<div>\n",
       "<style scoped>\n",
       "    .dataframe tbody tr th:only-of-type {\n",
       "        vertical-align: middle;\n",
       "    }\n",
       "\n",
       "    .dataframe tbody tr th {\n",
       "        vertical-align: top;\n",
       "    }\n",
       "\n",
       "    .dataframe thead th {\n",
       "        text-align: right;\n",
       "    }\n",
       "</style>\n",
       "<table border=\"1\" class=\"dataframe\">\n",
       "  <thead>\n",
       "    <tr style=\"text-align: right;\">\n",
       "      <th></th>\n",
       "      <th>title</th>\n",
       "      <th>tomatoMeter</th>\n",
       "      <th>criticName</th>\n",
       "      <th>publicatioName</th>\n",
       "      <th>reviewText</th>\n",
       "      <th>scoreSentiment</th>\n",
       "      <th>delta</th>\n",
       "    </tr>\n",
       "  </thead>\n",
       "  <tbody>\n",
       "    <tr>\n",
       "      <th>335130</th>\n",
       "      <td>Bombshell</td>\n",
       "      <td>68.0</td>\n",
       "      <td>Sandra Hall</td>\n",
       "      <td>Sydney Morning Herald</td>\n",
       "      <td>[Director Jay Roach] and Randolph are rightly ...</td>\n",
       "      <td>POSITIVE</td>\n",
       "      <td>-16.0</td>\n",
       "    </tr>\n",
       "  </tbody>\n",
       "</table>\n",
       "</div>"
      ],
      "text/plain": [
       "            title  tomatoMeter   criticName         publicatioName  \\\n",
       "335130  Bombshell         68.0  Sandra Hall  Sydney Morning Herald   \n",
       "\n",
       "                                               reviewText scoreSentiment  \\\n",
       "335130  [Director Jay Roach] and Randolph are rightly ...       POSITIVE   \n",
       "\n",
       "        delta  \n",
       "335130  -16.0  "
      ]
     },
     "execution_count": 367,
     "metadata": {},
     "output_type": "execute_result"
    }
   ],
   "source": [
    "massive.head(1)"
   ]
  },
  {
   "cell_type": "code",
   "execution_count": 366,
   "id": "7043144f-4577-4804-a286-d00e82aeff78",
   "metadata": {},
   "outputs": [],
   "source": [
    "# Dropping columns including audienceScore because it could unfairly help the model predict the delta. Leaving tomatoMeter to give the model a base of where the delta could be.\n",
    "massive = massive.drop(columns=['id', 'reviewId', 'creationDate', 'isTopCritic', 'reviewState', 'audienceScore'])"
   ]
  },
  {
   "cell_type": "code",
   "execution_count": 368,
   "id": "b8673ded-49df-43d3-bf79-634ac7000096",
   "metadata": {},
   "outputs": [
    {
     "data": {
      "text/plain": [
       "title             0\n",
       "tomatoMeter       0\n",
       "criticName        0\n",
       "publicatioName    0\n",
       "reviewText        0\n",
       "scoreSentiment    0\n",
       "delta             0\n",
       "dtype: int64"
      ]
     },
     "execution_count": 368,
     "metadata": {},
     "output_type": "execute_result"
    }
   ],
   "source": [
    "massive.isnull().sum()"
   ]
  },
  {
   "cell_type": "code",
   "execution_count": 369,
   "id": "3038c20c-d453-4bfe-ba9c-f2ff38aec57c",
   "metadata": {},
   "outputs": [
    {
     "data": {
      "text/plain": [
       "title             36110\n",
       "tomatoMeter       49741\n",
       "criticName        44855\n",
       "publicatioName    47935\n",
       "reviewText            0\n",
       "scoreSentiment    49840\n",
       "delta             49705\n",
       "dtype: int64"
      ]
     },
     "execution_count": 369,
     "metadata": {},
     "output_type": "execute_result"
    }
   ],
   "source": [
    "# Dropping duplicates\n",
    "massive = massive.drop_duplicates(subset='reviewText', keep='first')\n",
    "# Checking for duplicates\n",
    "dup_df = massive.apply(lambda x: x.duplicated()).sum()\n",
    "dup_df"
   ]
  },
  {
   "cell_type": "code",
   "execution_count": 370,
   "id": "836fd104-2e74-45d9-a604-fbbc3af65312",
   "metadata": {},
   "outputs": [
    {
     "data": {
      "text/plain": [
       "<AxesSubplot:xlabel='publicatioName', ylabel='Count'>"
      ]
     },
     "execution_count": 370,
     "metadata": {},
     "output_type": "execute_result"
    },
    {
     "data": {
      "image/png": "[encoded data removed]",
      "text/plain": [
       "<Figure size 600x300 with 1 Axes>"
      ]
     },
     "metadata": {},
     "output_type": "display_data"
    }
   ],
   "source": [
    "sns.set(rc = {'figure.figsize':(6,3)})\n",
    "sns.histplot(data=massive, x='publicatioName')"
   ]
  },
  {
   "cell_type": "code",
   "execution_count": 151,
   "id": "29aeba55-fee8-44dc-aef0-54b550ef2e06",
   "metadata": {},
   "outputs": [
    {
     "data": {
      "text/plain": [
       "<AxesSubplot:xlabel='criticName', ylabel='Count'>"
      ]
     },
     "execution_count": 151,
     "metadata": {},
     "output_type": "execute_result"
    },
    {
     "data": {
      "image/png": "[encoded data removed]",
      "text/plain": [
       "<Figure size 600x300 with 1 Axes>"
      ]
     },
     "metadata": {},
     "output_type": "display_data"
    }
   ],
   "source": [
    "sns.set(rc = {'figure.figsize':(6,3)})\n",
    "sns.histplot(data=massive, x='criticName')"
   ]
  },
  {
   "cell_type": "code",
   "execution_count": 372,
   "id": "a717857c-0ddd-438a-9064-ed0ad9061b98",
   "metadata": {},
   "outputs": [
    {
     "data": {
      "text/plain": [
       "array([[<AxesSubplot:title={'center':'delta'}>]], dtype=object)"
      ]
     },
     "execution_count": 372,
     "metadata": {},
     "output_type": "execute_result"
    },
    {
     "data": {
      "image/png": "[encoded data removed]",
      "text/plain": [
       "<Figure size 600x300 with 1 Axes>"
      ]
     },
     "metadata": {},
     "output_type": "display_data"
    }
   ],
   "source": [
    "massive.hist(column='delta', bins=100)"
   ]
  },
  {
   "cell_type": "code",
   "execution_count": 373,
   "id": "c8ef3920-1a56-4063-8460-b6be9b18ba60",
   "metadata": {},
   "outputs": [],
   "source": [
    "# define a function to process text on the data\n",
    "lemmatizer = WordNetLemmatizer()\n",
    "import re\n",
    "def process_text(text): \n",
    "    sw = set(stopwords.words('english')) \n",
    "    regex = re.compile(\"[^a-zA-Z ]\") \n",
    "    re_clean = regex.sub('', text) \n",
    "    words = word_tokenize(re_clean) \n",
    "    lem = [lemmatizer.lemmatize(word) for word in words] \n",
    "    output = ' '.join([word.lower() for word in lem if word.lower() not in sw]) \n",
    "    return output"
   ]
  },
  {
   "cell_type": "code",
   "execution_count": 374,
   "id": "dde6990b-5398-4f51-b517-502d386a59f2",
   "metadata": {},
   "outputs": [],
   "source": [
    "# use a lambda x function to apple process text on the whole column.\n",
    "massive['reviewText'] = massive['reviewText'].apply(lambda x: process_text(x))"
   ]
  },
  {
   "cell_type": "code",
   "execution_count": 375,
   "id": "8c499634-2bfb-41f7-966a-a8877201f39f",
   "metadata": {},
   "outputs": [],
   "source": [
    "# tfidf vectorizer for sentiment model\n",
    "tfidf_vectorizer = TfidfVectorizer(max_features=5000)\n",
    "X = tfidf_vectorizer.fit_transform(massive['reviewText'])\n",
    "y = massive['scoreSentiment']"
   ]
  },
  {
   "cell_type": "code",
   "execution_count": 376,
   "id": "698b1ab1-8b50-4058-a10e-bc4988f21785",
   "metadata": {},
   "outputs": [
    {
     "data": {
      "text/plain": [
       "LogisticRegression(max_iter=5000)"
      ]
     },
     "execution_count": 376,
     "metadata": {},
     "output_type": "execute_result"
    }
   ],
   "source": [
    "# Split the data into training and testing sets for sentiment model\n",
    "X_train, X_test, y_train, y_test = train_test_split(X, y, test_size=0.25, random_state=42)\n",
    "\n",
    "# Choose a machine learning model (e.g., Logistic Regression) and train it\n",
    "model = LogisticRegression(max_iter=5000)\n",
    "model.fit(X_train, y_train)"
   ]
  },
  {
   "cell_type": "code",
   "execution_count": 377,
   "id": "253355ed-d047-4679-8c24-99252f8f734a",
   "metadata": {},
   "outputs": [
    {
     "data": {
      "text/plain": [
       "0.8217276156336106"
      ]
     },
     "execution_count": 377,
     "metadata": {},
     "output_type": "execute_result"
    }
   ],
   "source": [
    "model.score(X_train, y_train)"
   ]
  },
  {
   "cell_type": "code",
   "execution_count": 378,
   "id": "93b1bd7a-d373-4ddb-977b-3fcb97f7f85b",
   "metadata": {},
   "outputs": [
    {
     "data": {
      "text/plain": [
       "0.7833239707888613"
      ]
     },
     "execution_count": 378,
     "metadata": {},
     "output_type": "execute_result"
    }
   ],
   "source": [
    "model.score(X_test, y_test)"
   ]
  },
  {
   "cell_type": "code",
   "execution_count": 379,
   "id": "326e26c0-c76a-4826-be13-79c35472cfb3",
   "metadata": {},
   "outputs": [
    {
     "name": "stderr",
     "output_type": "stream",
     "text": [
      "C:\\Users\\Dan\\anaconda3\\envs\\nlp\\lib\\site-packages\\sklearn\\utils\\deprecation.py:87: FutureWarning: Function get_feature_names is deprecated; get_feature_names is deprecated in 1.0 and will be removed in 1.2. Please use get_feature_names_out instead.\n",
      "  warnings.warn(msg, category=FutureWarning)\n"
     ]
    }
   ],
   "source": [
    "# Creating a dataframe made of the vectorized review text for the linear model\n",
    "massive_features = pd.DataFrame(X.toarray(), columns=tfidf_vectorizer.get_feature_names())"
   ]
  },
  {
   "cell_type": "code",
   "execution_count": 380,
   "id": "60c8d2db-9d4f-4494-8b24-43620e7698ae",
   "metadata": {},
   "outputs": [
    {
     "data": {
      "text/html": [
       "<div>\n",
       "<style scoped>\n",
       "    .dataframe tbody tr th:only-of-type {\n",
       "        vertical-align: middle;\n",
       "    }\n",
       "\n",
       "    .dataframe tbody tr th {\n",
       "        vertical-align: top;\n",
       "    }\n",
       "\n",
       "    .dataframe thead th {\n",
       "        text-align: right;\n",
       "    }\n",
       "</style>\n",
       "<table border=\"1\" class=\"dataframe\">\n",
       "  <thead>\n",
       "    <tr style=\"text-align: right;\">\n",
       "      <th></th>\n",
       "      <th>aaron</th>\n",
       "      <th>abandon</th>\n",
       "      <th>ability</th>\n",
       "      <th>able</th>\n",
       "      <th>abrams</th>\n",
       "      <th>absence</th>\n",
       "      <th>absent</th>\n",
       "      <th>absolute</th>\n",
       "      <th>absolutely</th>\n",
       "      <th>absorbing</th>\n",
       "      <th>...</th>\n",
       "      <th>youngster</th>\n",
       "      <th>youre</th>\n",
       "      <th>youth</th>\n",
       "      <th>youthful</th>\n",
       "      <th>youve</th>\n",
       "      <th>zack</th>\n",
       "      <th>zany</th>\n",
       "      <th>zero</th>\n",
       "      <th>zombie</th>\n",
       "      <th>zone</th>\n",
       "    </tr>\n",
       "  </thead>\n",
       "  <tbody>\n",
       "    <tr>\n",
       "      <th>0</th>\n",
       "      <td>0.0</td>\n",
       "      <td>0.0</td>\n",
       "      <td>0.0</td>\n",
       "      <td>0.0</td>\n",
       "      <td>0.0</td>\n",
       "      <td>0.0</td>\n",
       "      <td>0.0</td>\n",
       "      <td>0.0</td>\n",
       "      <td>0.0</td>\n",
       "      <td>0.0</td>\n",
       "      <td>...</td>\n",
       "      <td>0.0</td>\n",
       "      <td>0.0</td>\n",
       "      <td>0.0</td>\n",
       "      <td>0.0</td>\n",
       "      <td>0.0</td>\n",
       "      <td>0.0</td>\n",
       "      <td>0.0</td>\n",
       "      <td>0.0</td>\n",
       "      <td>0.0</td>\n",
       "      <td>0.0</td>\n",
       "    </tr>\n",
       "    <tr>\n",
       "      <th>1</th>\n",
       "      <td>0.0</td>\n",
       "      <td>0.0</td>\n",
       "      <td>0.0</td>\n",
       "      <td>0.0</td>\n",
       "      <td>0.0</td>\n",
       "      <td>0.0</td>\n",
       "      <td>0.0</td>\n",
       "      <td>0.0</td>\n",
       "      <td>0.0</td>\n",
       "      <td>0.0</td>\n",
       "      <td>...</td>\n",
       "      <td>0.0</td>\n",
       "      <td>0.0</td>\n",
       "      <td>0.0</td>\n",
       "      <td>0.0</td>\n",
       "      <td>0.0</td>\n",
       "      <td>0.0</td>\n",
       "      <td>0.0</td>\n",
       "      <td>0.0</td>\n",
       "      <td>0.0</td>\n",
       "      <td>0.0</td>\n",
       "    </tr>\n",
       "  </tbody>\n",
       "</table>\n",
       "<p>2 rows × 5000 columns</p>\n",
       "</div>"
      ],
      "text/plain": [
       "   aaron  abandon  ability  able  abrams  absence  absent  absolute  \\\n",
       "0    0.0      0.0      0.0   0.0     0.0      0.0     0.0       0.0   \n",
       "1    0.0      0.0      0.0   0.0     0.0      0.0     0.0       0.0   \n",
       "\n",
       "   absolutely  absorbing  ...  youngster  youre  youth  youthful  youve  zack  \\\n",
       "0         0.0        0.0  ...        0.0    0.0    0.0       0.0    0.0   0.0   \n",
       "1         0.0        0.0  ...        0.0    0.0    0.0       0.0    0.0   0.0   \n",
       "\n",
       "   zany  zero  zombie  zone  \n",
       "0   0.0   0.0     0.0   0.0  \n",
       "1   0.0   0.0     0.0   0.0  \n",
       "\n",
       "[2 rows x 5000 columns]"
      ]
     },
     "execution_count": 380,
     "metadata": {},
     "output_type": "execute_result"
    }
   ],
   "source": [
    "massive_features.head(2)"
   ]
  },
  {
   "cell_type": "code",
   "execution_count": 381,
   "id": "257b52dc-37a5-4e2a-a043-dce490c45deb",
   "metadata": {},
   "outputs": [],
   "source": [
    "# Need to rename column because title is also a column in massive_features\n",
    "massive = massive.rename(columns={'title': 'title_'})"
   ]
  },
  {
   "cell_type": "code",
   "execution_count": 382,
   "id": "5cd0c733-fc83-45d8-8e70-da96ec5473de",
   "metadata": {},
   "outputs": [
    {
     "name": "stderr",
     "output_type": "stream",
     "text": [
      "C:\\Users\\Dan\\anaconda3\\envs\\nlp\\lib\\site-packages\\sklearn\\utils\\deprecation.py:87: FutureWarning: Function get_feature_names is deprecated; get_feature_names is deprecated in 1.0 and will be removed in 1.2. Please use get_feature_names_out instead.\n",
      "  warnings.warn(msg, category=FutureWarning)\n"
     ]
    }
   ],
   "source": [
    "# Vectorizing original df to dense array for linear model\n",
    "tfidf_dense = tfidf_vectorizer.fit_transform(massive['reviewText']).todense()\n",
    "\n",
    "# Naming columns for each vectorized word and combining with original massive dataframe\n",
    "new_cols = tfidf_vectorizer.get_feature_names()\n",
    "combined = massive.join(pd.DataFrame(tfidf_dense, columns=new_cols))"
   ]
  },
  {
   "cell_type": "code",
   "execution_count": 383,
   "id": "688d5fd1-c80d-47f4-8c52-4bc91ec9cdd4",
   "metadata": {},
   "outputs": [],
   "source": [
    "# Dropping review text now that vectorized words are all columns\n",
    "combined = combined.drop(columns=['reviewText'])"
   ]
  },
  {
   "cell_type": "code",
   "execution_count": 384,
   "id": "00ec8b92-efdd-4418-8187-952557b62038",
   "metadata": {},
   "outputs": [],
   "source": [
    "# Fill the nulls in all of the word columns with 0\n",
    "combined = combined.fillna(0)"
   ]
  },
  {
   "cell_type": "code",
   "execution_count": 385,
   "id": "66941dde-e810-4c38-b202-daed024aa859",
   "metadata": {},
   "outputs": [
    {
     "data": {
      "text/plain": [
       "title_            0\n",
       "tomatoMeter       0\n",
       "criticName        0\n",
       "publicatioName    0\n",
       "scoreSentiment    0\n",
       "delta             0\n",
       "aaron             0\n",
       "abandon           0\n",
       "ability           0\n",
       "dtype: int64"
      ]
     },
     "execution_count": 385,
     "metadata": {},
     "output_type": "execute_result"
    }
   ],
   "source": [
    "combined.isnull().sum().head(9)"
   ]
  },
  {
   "cell_type": "code",
   "execution_count": 386,
   "id": "5dac35c1-4c06-49fd-b618-61b900391658",
   "metadata": {},
   "outputs": [
    {
     "data": {
      "text/plain": [
       "Other                   14087\n",
       "Dennis Schwartz           332\n",
       "Jeffrey M. Anderson       289\n",
       "Roger Ebert               278\n",
       "Roger Moore               263\n",
       "                        ...  \n",
       "Morgan Rojas               16\n",
       "Tom Milne                  16\n",
       "Trace Thurman              16\n",
       "Kenneth R. Morefield       16\n",
       "Sr. Rose Pacatte           16\n",
       "Name: criticName, Length: 808, dtype: int64"
      ]
     },
     "execution_count": 386,
     "metadata": {},
     "output_type": "execute_result"
    }
   ],
   "source": [
    "# Renaming the least-appearing critics as Other to be encoded as the same critic later\n",
    "counts = combined.criticName.value_counts()\n",
    "threshold = combined.criticName.isin(counts.index[counts<16])\n",
    "combined.loc[threshold, 'criticName'] = 'Other'\n",
    "combined['criticName'].value_counts()"
   ]
  },
  {
   "cell_type": "code",
   "execution_count": 387,
   "id": "0a6b0a96-a932-4eaf-a06b-4ab22e1ea42a",
   "metadata": {},
   "outputs": [
    {
     "data": {
      "text/plain": [
       "Other                               4593\n",
       "New York Times                       632\n",
       "Variety                              584\n",
       "Los Angeles Times                    468\n",
       "Hollywood Reporter                   437\n",
       "                                    ... \n",
       "The Popcorn Junkie                    12\n",
       "Edge Media Network                    12\n",
       "The News-Herald (Willoughby, OH)      12\n",
       "ABC Tucson                            12\n",
       "Cinemania                             12\n",
       "Name: publicatioName, Length: 790, dtype: int64"
      ]
     },
     "execution_count": 387,
     "metadata": {},
     "output_type": "execute_result"
    }
   ],
   "source": [
    "# Repeat for publications\n",
    "counts = combined.publicatioName.value_counts()\n",
    "threshold = combined.publicatioName.isin(counts.index[counts<12])\n",
    "combined.loc[threshold, 'publicatioName'] = 'Other'\n",
    "combined['publicatioName'].value_counts()"
   ]
  },
  {
   "cell_type": "code",
   "execution_count": 388,
   "id": "8e2b43ac-cd1e-45d7-99ed-0febba501f75",
   "metadata": {},
   "outputs": [
    {
     "data": {
      "text/html": [
       "<div>\n",
       "<style scoped>\n",
       "    .dataframe tbody tr th:only-of-type {\n",
       "        vertical-align: middle;\n",
       "    }\n",
       "\n",
       "    .dataframe tbody tr th {\n",
       "        vertical-align: top;\n",
       "    }\n",
       "\n",
       "    .dataframe thead th {\n",
       "        text-align: right;\n",
       "    }\n",
       "</style>\n",
       "<table border=\"1\" class=\"dataframe\">\n",
       "  <thead>\n",
       "    <tr style=\"text-align: right;\">\n",
       "      <th></th>\n",
       "      <th>title_</th>\n",
       "      <th>tomatoMeter</th>\n",
       "      <th>criticName</th>\n",
       "      <th>publicatioName</th>\n",
       "      <th>scoreSentiment</th>\n",
       "      <th>delta</th>\n",
       "      <th>aaron</th>\n",
       "      <th>abandon</th>\n",
       "      <th>ability</th>\n",
       "      <th>able</th>\n",
       "      <th>...</th>\n",
       "      <th>youngster</th>\n",
       "      <th>youre</th>\n",
       "      <th>youth</th>\n",
       "      <th>youthful</th>\n",
       "      <th>youve</th>\n",
       "      <th>zack</th>\n",
       "      <th>zany</th>\n",
       "      <th>zero</th>\n",
       "      <th>zombie</th>\n",
       "      <th>zone</th>\n",
       "    </tr>\n",
       "  </thead>\n",
       "  <tbody>\n",
       "    <tr>\n",
       "      <th>335130</th>\n",
       "      <td>Bombshell</td>\n",
       "      <td>68.0</td>\n",
       "      <td>Sandra Hall</td>\n",
       "      <td>Sydney Morning Herald</td>\n",
       "      <td>POSITIVE</td>\n",
       "      <td>-16.0</td>\n",
       "      <td>0.0</td>\n",
       "      <td>0.0</td>\n",
       "      <td>0.0</td>\n",
       "      <td>0.0</td>\n",
       "      <td>...</td>\n",
       "      <td>0.0</td>\n",
       "      <td>0.0</td>\n",
       "      <td>0.0</td>\n",
       "      <td>0.0</td>\n",
       "      <td>0.0</td>\n",
       "      <td>0.0</td>\n",
       "      <td>0.0</td>\n",
       "      <td>0.0</td>\n",
       "      <td>0.0</td>\n",
       "      <td>0.0</td>\n",
       "    </tr>\n",
       "  </tbody>\n",
       "</table>\n",
       "<p>1 rows × 5006 columns</p>\n",
       "</div>"
      ],
      "text/plain": [
       "           title_  tomatoMeter   criticName         publicatioName  \\\n",
       "335130  Bombshell         68.0  Sandra Hall  Sydney Morning Herald   \n",
       "\n",
       "       scoreSentiment  delta  aaron  abandon  ability  able  ...  youngster  \\\n",
       "335130       POSITIVE  -16.0    0.0      0.0      0.0   0.0  ...        0.0   \n",
       "\n",
       "        youre  youth  youthful  youve  zack  zany  zero  zombie  zone  \n",
       "335130    0.0    0.0       0.0    0.0   0.0   0.0   0.0     0.0   0.0  \n",
       "\n",
       "[1 rows x 5006 columns]"
      ]
     },
     "execution_count": 388,
     "metadata": {},
     "output_type": "execute_result"
    }
   ],
   "source": [
    "combined.head(1)"
   ]
  },
  {
   "cell_type": "code",
   "execution_count": 389,
   "id": "c935d9a7-59a9-4b8c-a9d1-0e79ab7882c7",
   "metadata": {},
   "outputs": [],
   "source": [
    "# list of columns to dummy\n",
    "categorical_cols = ['title_', 'criticName', 'publicatioName', 'scoreSentiment'] \n",
    "# get dummies on categorical columns\n",
    "combined = pd.get_dummies(combined, columns = categorical_cols)"
   ]
  },
  {
   "cell_type": "code",
   "execution_count": 390,
   "id": "eb89e1f1-0bff-4f86-8651-a43c7a1ef3bc",
   "metadata": {},
   "outputs": [],
   "source": [
    "X = combined.drop(columns=['delta'])\n",
    "y = combined['delta']"
   ]
  },
  {
   "cell_type": "code",
   "execution_count": 391,
   "id": "3ca3d855-6d54-4f08-a154-8263c060c0a5",
   "metadata": {},
   "outputs": [
    {
     "data": {
      "text/plain": [
       "0"
      ]
     },
     "execution_count": 391,
     "metadata": {},
     "output_type": "execute_result"
    }
   ],
   "source": [
    "X.isnull().sum().sum()"
   ]
  },
  {
   "cell_type": "code",
   "execution_count": 393,
   "id": "c7540d4b-fec3-4010-871c-1c04310b757c",
   "metadata": {},
   "outputs": [
    {
     "data": {
      "text/plain": [
       "0"
      ]
     },
     "execution_count": 393,
     "metadata": {},
     "output_type": "execute_result"
    }
   ],
   "source": [
    "y.isnull().sum()"
   ]
  },
  {
   "cell_type": "code",
   "execution_count": 394,
   "id": "9563c69a-5fe8-478e-95ef-96b5baa219e8",
   "metadata": {},
   "outputs": [],
   "source": [
    "# Split the data into training and testing sets\n",
    "X_train, X_test, y_train, y_test = train_test_split(X, y, test_size=0.25, random_state=42)"
   ]
  },
  {
   "cell_type": "code",
   "execution_count": 395,
   "id": "5cd7a49c-11fe-44c7-b41f-d6103075df8b",
   "metadata": {},
   "outputs": [
    {
     "data": {
      "text/plain": [
       "0"
      ]
     },
     "execution_count": 395,
     "metadata": {},
     "output_type": "execute_result"
    }
   ],
   "source": [
    "X_train.isnull().sum().sum()"
   ]
  },
  {
   "cell_type": "code",
   "execution_count": 396,
   "id": "3a22dd78-d2dc-439c-8358-5adcc92a006a",
   "metadata": {},
   "outputs": [],
   "source": [
    "# Scaling X\n",
    "sc = StandardScaler()\n",
    "X_train_sc = sc.fit_transform(X_train)\n",
    "X_test_sc = sc.transform(X_test)"
   ]
  },
  {
   "cell_type": "code",
   "execution_count": 401,
   "id": "b8ae210a-41df-437c-b957-98dd50ebf7c8",
   "metadata": {},
   "outputs": [],
   "source": [
    "pca = PCA(n_components=500)\n",
    "X_train_p = pca.fit_transform(X_train_sc)\n",
    "X_test_p = pca.transform(X_test_sc)"
   ]
  },
  {
   "cell_type": "code",
   "execution_count": 402,
   "id": "23f77fd3-0e56-4485-8a77-da3f463c976f",
   "metadata": {},
   "outputs": [
    {
     "data": {
      "text/plain": [
       "LinearRegression()"
      ]
     },
     "execution_count": 402,
     "metadata": {},
     "output_type": "execute_result"
    }
   ],
   "source": [
    "# Choose a machine learning model (e.g., Logistic Regression) and train it\n",
    "model = LinearRegression()\n",
    "model.fit(X_train_p, y_train)"
   ]
  },
  {
   "cell_type": "code",
   "execution_count": 403,
   "id": "5c029fd9-cedb-403e-ac43-debd16f82170",
   "metadata": {},
   "outputs": [
    {
     "data": {
      "text/plain": [
       "0.03880947072601981"
      ]
     },
     "execution_count": 403,
     "metadata": {},
     "output_type": "execute_result"
    }
   ],
   "source": [
    "model.score(X_train_p, y_train)"
   ]
  },
  {
   "cell_type": "code",
   "execution_count": 404,
   "id": "f456ec82-348d-434d-8f2a-23ef3bd0eecb",
   "metadata": {},
   "outputs": [
    {
     "data": {
      "text/plain": [
       "0.018709247845990484"
      ]
     },
     "execution_count": 404,
     "metadata": {},
     "output_type": "execute_result"
    }
   ],
   "source": [
    "model.score(X_test_p, y_test)"
   ]
  },
  {
   "cell_type": "code",
   "execution_count": null,
   "id": "527c8bdf-f07e-4cec-94a6-019223f53430",
   "metadata": {},
   "outputs": [],
   "source": []
  }
 ],
 "metadata": {
  "kernelspec": {
   "display_name": "Python 3 (ipykernel)",
   "language": "python",
   "name": "python3"
  },
  "language_info": {
   "codemirror_mode": {
    "name": "ipython",
    "version": 3
   },
   "file_extension": ".py",
   "mimetype": "text/x-python",
   "name": "python",
   "nbconvert_exporter": "python",
   "pygments_lexer": "ipython3",
   "version": "3.7.13"
  }
 },
 "nbformat": 4,
 "nbformat_minor": 5
}
