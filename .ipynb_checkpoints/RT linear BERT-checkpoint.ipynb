{
 "cells": [
  {
   "cell_type": "code",
   "execution_count": 1,
   "id": "b80b3cc5-603d-4724-9179-b1f762a2e8c0",
   "metadata": {},
   "outputs": [],
   "source": [
    "#import libraries\n",
    "import pandas as pd\n",
    "import numpy as np\n",
    "from pathlib import Path\n",
    "import matplotlib.pyplot as plt\n",
    "import seaborn as sns\n",
    "from sklearn.model_selection import train_test_split\n",
    "from sklearn.metrics import accuracy_score, classification_report, confusion_matrix\n",
    "from sklearn.preprocessing import StandardScaler\n",
    "from sklearn.decomposition import PCA\n",
    "from sklearn.linear_model import LinearRegression\n",
    "from nltk.corpus import stopwords\n",
    "from nltk.tokenize import word_tokenize\n",
    "from nltk.stem import WordNetLemmatizer \n",
    "from gensim.models import Word2Vec\n",
    "from gensim.test.utils import datapath\n",
    "from gensim import utils\n",
    "import gensim\n",
    "import multiprocessing\n",
    "cores = multiprocessing.cpu_count()\n",
    "import os\n",
    "from time import time\n",
    "import torch\n",
    "from transformers import AutoModel, AutoTokenizer, AutoConfig\n",
    "from transformers import AutoModelForSequenceClassification\n",
    "from torch.utils.data import DataLoader"
   ]
  },
  {
   "cell_type": "code",
   "execution_count": null,
   "id": "b8e08946-4fd4-422f-8669-519037b0459f",
   "metadata": {},
   "outputs": [],
   "source": [
    "# To notify when cell is complete (comment out first line)\n",
    "# !pip uninstall jupyternotify -y\n",
    "!pip install git+https://github.com/cphyc/jupyter-notify.git\n",
    "%reload_ext jupyternotify"
   ]
  },
  {
   "cell_type": "code",
   "execution_count": 66,
   "id": "606c2cda-48a1-4431-be34-c839cf1cd02d",
   "metadata": {},
   "outputs": [],
   "source": [
    "# read in cleaned CSV\n",
    "filepath = Path('../massive.csv')\n",
    "massive = pd.read_csv(filepath)\n",
    "massive = massive.sample(n=15000)\n",
    "massive.reset_index(drop=True, inplace=True)"
   ]
  },
  {
   "cell_type": "code",
   "execution_count": 70,
   "id": "7043144f-4577-4804-a286-d00e82aeff78",
   "metadata": {},
   "outputs": [],
   "source": [
    "# Dropping columns including audienceScore because it could unfairly help the model predict the delta. Leaving tomatoMeter to give the model a base of where the delta could be.\n",
    "massive = massive.drop(columns=['id', 'reviewId', 'creationDate', 'isTopCritic', 'reviewState', 'audienceScore'])\n",
    "massive.head(1)"
   ]
  },
  {
   "cell_type": "code",
   "execution_count": 72,
   "id": "b8673ded-49df-43d3-bf79-634ac7000096",
   "metadata": {},
   "outputs": [
    {
     "data": {
      "text/plain": [
       "title             0\n",
       "tomatoMeter       0\n",
       "criticName        0\n",
       "publicatioName    0\n",
       "reviewText        0\n",
       "scoreSentiment    0\n",
       "delta             0\n",
       "dtype: int64"
      ]
     },
     "execution_count": 72,
     "metadata": {},
     "output_type": "execute_result"
    }
   ],
   "source": [
    "massive.isnull().sum()"
   ]
  },
  {
   "cell_type": "code",
   "execution_count": 73,
   "id": "3038c20c-d453-4bfe-ba9c-f2ff38aec57c",
   "metadata": {},
   "outputs": [
    {
     "data": {
      "text/plain": [
       "title              7256\n",
       "tomatoMeter       14876\n",
       "criticName        11857\n",
       "publicatioName    13494\n",
       "reviewText            0\n",
       "scoreSentiment    14974\n",
       "delta             14854\n",
       "dtype: int64"
      ]
     },
     "execution_count": 73,
     "metadata": {},
     "output_type": "execute_result"
    }
   ],
   "source": [
    "# Dropping duplicates\n",
    "massive = massive.drop_duplicates(subset='reviewText', keep='first')\n",
    "# Resetting index after dropping dupe's\n",
    "massive.reset_index(drop=True, inplace=True)\n",
    "# Checking for duplicates\n",
    "dup_df = massive.apply(lambda x: x.duplicated()).sum()\n",
    "dup_df"
   ]
  },
  {
   "cell_type": "code",
   "execution_count": 74,
   "id": "c8ef3920-1a56-4063-8460-b6be9b18ba60",
   "metadata": {},
   "outputs": [
    {
     "name": "stderr",
     "output_type": "stream",
     "text": [
      "Some weights of the model checkpoint at activebus/BERT_Review were not used when initializing BertModel: ['cls.predictions.transform.dense.bias', 'cls.predictions.transform.LayerNorm.weight', 'cls.predictions.transform.dense.weight', 'cls.predictions.bias', 'cls.predictions.decoder.weight', 'cls.predictions.transform.LayerNorm.bias', 'cls.predictions.decoder.bias']\n",
      "- This IS expected if you are initializing BertModel from the checkpoint of a model trained on another task or with another architecture (e.g. initializing a BertForSequenceClassification model from a BertForPreTraining model).\n",
      "- This IS NOT expected if you are initializing BertModel from the checkpoint of a model that you expect to be exactly identical (initializing a BertForSequenceClassification model from a BertForSequenceClassification model).\n"
     ]
    }
   ],
   "source": [
    "# Pulling BERT from huggingface\n",
    "tokenizer = AutoTokenizer.from_pretrained(\"activebus/BERT_Review\")\n",
    "model = AutoModel.from_pretrained(\"activebus/BERT_Review\")"
   ]
  },
  {
   "cell_type": "code",
   "execution_count": 75,
   "id": "f02aa687-093e-4da1-97ff-f440bb5c26b3",
   "metadata": {},
   "outputs": [
    {
     "data": {
      "text/html": [
       "<div>\n",
       "<style scoped>\n",
       "    .dataframe tbody tr th:only-of-type {\n",
       "        vertical-align: middle;\n",
       "    }\n",
       "\n",
       "    .dataframe tbody tr th {\n",
       "        vertical-align: top;\n",
       "    }\n",
       "\n",
       "    .dataframe thead th {\n",
       "        text-align: right;\n",
       "    }\n",
       "</style>\n",
       "<table border=\"1\" class=\"dataframe\">\n",
       "  <thead>\n",
       "    <tr style=\"text-align: right;\">\n",
       "      <th></th>\n",
       "      <th>title</th>\n",
       "      <th>tomatoMeter</th>\n",
       "      <th>criticName</th>\n",
       "      <th>publicatioName</th>\n",
       "      <th>reviewText</th>\n",
       "      <th>scoreSentiment</th>\n",
       "      <th>delta</th>\n",
       "      <th>embeddings</th>\n",
       "    </tr>\n",
       "  </thead>\n",
       "  <tbody>\n",
       "    <tr>\n",
       "      <th>0</th>\n",
       "      <td>Mr. Deeds</td>\n",
       "      <td>22.0</td>\n",
       "      <td>Robin Clifford</td>\n",
       "      <td>Reeling Reviews</td>\n",
       "      <td>\"Mr. Deeds\" is suitable summer entertainment t...</td>\n",
       "      <td>POSITIVE</td>\n",
       "      <td>-37.0</td>\n",
       "      <td>[-0.32600164, 0.61281604, 0.16838151, -0.01734...</td>\n",
       "    </tr>\n",
       "    <tr>\n",
       "      <th>1</th>\n",
       "      <td>I Am Not Your Negro</td>\n",
       "      <td>99.0</td>\n",
       "      <td>Sean Nelson</td>\n",
       "      <td>The Stranger (Seattle, WA)</td>\n",
       "      <td>An ingeniously constructed documentary about o...</td>\n",
       "      <td>POSITIVE</td>\n",
       "      <td>16.0</td>\n",
       "      <td>[-0.1996221, 0.37342745, -0.046215247, -0.1627...</td>\n",
       "    </tr>\n",
       "    <tr>\n",
       "      <th>2</th>\n",
       "      <td>The Man Who Knew Infinity</td>\n",
       "      <td>63.0</td>\n",
       "      <td>Marsha Lederman</td>\n",
       "      <td>Globe and Mail</td>\n",
       "      <td>When one of the most enlightening moments of a...</td>\n",
       "      <td>NEGATIVE</td>\n",
       "      <td>-8.0</td>\n",
       "      <td>[-0.32620835, 0.5845065, -0.0119517725, -0.129...</td>\n",
       "    </tr>\n",
       "    <tr>\n",
       "      <th>3</th>\n",
       "      <td>Last Chance Harvey</td>\n",
       "      <td>71.0</td>\n",
       "      <td>Linda Cook</td>\n",
       "      <td>Quad City Times (Davenport, IA)</td>\n",
       "      <td>Sometimes it's nice to be reminded that romanc...</td>\n",
       "      <td>POSITIVE</td>\n",
       "      <td>18.0</td>\n",
       "      <td>[-0.006058085, -0.00083954335, -0.09051174, 0....</td>\n",
       "    </tr>\n",
       "    <tr>\n",
       "      <th>4</th>\n",
       "      <td>Café Lumière</td>\n",
       "      <td>91.0</td>\n",
       "      <td>Ted Fry</td>\n",
       "      <td>Seattle Times</td>\n",
       "      <td>The film often takes on the hypnotic rhythm of...</td>\n",
       "      <td>POSITIVE</td>\n",
       "      <td>14.0</td>\n",
       "      <td>[0.07741421, 0.46812433, 0.20540753, -0.115314...</td>\n",
       "    </tr>\n",
       "  </tbody>\n",
       "</table>\n",
       "</div>"
      ],
      "text/plain": [
       "                       title  tomatoMeter       criticName  \\\n",
       "0                  Mr. Deeds         22.0   Robin Clifford   \n",
       "1        I Am Not Your Negro         99.0      Sean Nelson   \n",
       "2  The Man Who Knew Infinity         63.0  Marsha Lederman   \n",
       "3         Last Chance Harvey         71.0       Linda Cook   \n",
       "4               Café Lumière         91.0          Ted Fry   \n",
       "\n",
       "                    publicatioName  \\\n",
       "0                  Reeling Reviews   \n",
       "1       The Stranger (Seattle, WA)   \n",
       "2                   Globe and Mail   \n",
       "3  Quad City Times (Davenport, IA)   \n",
       "4                    Seattle Times   \n",
       "\n",
       "                                          reviewText scoreSentiment  delta  \\\n",
       "0  \"Mr. Deeds\" is suitable summer entertainment t...       POSITIVE  -37.0   \n",
       "1  An ingeniously constructed documentary about o...       POSITIVE   16.0   \n",
       "2  When one of the most enlightening moments of a...       NEGATIVE   -8.0   \n",
       "3  Sometimes it's nice to be reminded that romanc...       POSITIVE   18.0   \n",
       "4  The film often takes on the hypnotic rhythm of...       POSITIVE   14.0   \n",
       "\n",
       "                                          embeddings  \n",
       "0  [-0.32600164, 0.61281604, 0.16838151, -0.01734...  \n",
       "1  [-0.1996221, 0.37342745, -0.046215247, -0.1627...  \n",
       "2  [-0.32620835, 0.5845065, -0.0119517725, -0.129...  \n",
       "3  [-0.006058085, -0.00083954335, -0.09051174, 0....  \n",
       "4  [0.07741421, 0.46812433, 0.20540753, -0.115314...  "
      ]
     },
     "execution_count": 75,
     "metadata": {},
     "output_type": "execute_result"
    }
   ],
   "source": [
    "# Text preprocessing function\n",
    "def preprocess(text):\n",
    "    new_text = []\n",
    "    for t in text.split(\" \"):\n",
    "        t = '@user' if t.startswith('@') and len(t) > 1 else t\n",
    "        t = 'http' if t.startswith('http') else t\n",
    "        new_text.append(t)\n",
    "    return \" \".join(new_text)\n",
    "# Function to vectorize text with BERT\n",
    "def get_embedding(text):\n",
    "    text = preprocess(text)\n",
    "    encoded_input = tokenizer(text, return_tensors='pt')\n",
    "    features = model(**encoded_input)\n",
    "    features = features[0].detach().numpy() \n",
    "    features_mean = np.mean(features[0], axis=0) \n",
    "    return features_mean\n",
    "# Applying the function to reviewText and outputting to embeddings column\n",
    "massive['embeddings'] = massive.reviewText.map(lambda x: get_embedding(x))\n",
    "massive.head()"
   ]
  },
  {
   "cell_type": "code",
   "execution_count": null,
   "id": "637ab241-6df2-44c9-84a7-957aed4db95b",
   "metadata": {},
   "outputs": [],
   "source": [
    "# Converting embeddings column to numpy array\n",
    "vectors = np.array(massive.embeddings.tolist(), dtype='float')\n",
    "vectors[:10]"
   ]
  },
  {
   "cell_type": "code",
   "execution_count": 77,
   "id": "f52aa422-801e-4535-9bd5-be70318786bc",
   "metadata": {},
   "outputs": [
    {
     "data": {
      "text/html": [
       "<div>\n",
       "<style scoped>\n",
       "    .dataframe tbody tr th:only-of-type {\n",
       "        vertical-align: middle;\n",
       "    }\n",
       "\n",
       "    .dataframe tbody tr th {\n",
       "        vertical-align: top;\n",
       "    }\n",
       "\n",
       "    .dataframe thead th {\n",
       "        text-align: right;\n",
       "    }\n",
       "</style>\n",
       "<table border=\"1\" class=\"dataframe\">\n",
       "  <thead>\n",
       "    <tr style=\"text-align: right;\">\n",
       "      <th></th>\n",
       "      <th>col1</th>\n",
       "      <th>col2</th>\n",
       "      <th>col3</th>\n",
       "      <th>col4</th>\n",
       "      <th>col5</th>\n",
       "      <th>col6</th>\n",
       "      <th>col7</th>\n",
       "      <th>col8</th>\n",
       "      <th>col9</th>\n",
       "      <th>col10</th>\n",
       "      <th>...</th>\n",
       "      <th>col759</th>\n",
       "      <th>col760</th>\n",
       "      <th>col761</th>\n",
       "      <th>col762</th>\n",
       "      <th>col763</th>\n",
       "      <th>col764</th>\n",
       "      <th>col765</th>\n",
       "      <th>col766</th>\n",
       "      <th>col767</th>\n",
       "      <th>col768</th>\n",
       "    </tr>\n",
       "  </thead>\n",
       "  <tbody>\n",
       "    <tr>\n",
       "      <th>0</th>\n",
       "      <td>-0.326002</td>\n",
       "      <td>0.612816</td>\n",
       "      <td>0.168382</td>\n",
       "      <td>-0.017348</td>\n",
       "      <td>0.542521</td>\n",
       "      <td>-0.195864</td>\n",
       "      <td>0.175667</td>\n",
       "      <td>0.291534</td>\n",
       "      <td>-0.042749</td>\n",
       "      <td>-0.298336</td>\n",
       "      <td>...</td>\n",
       "      <td>-0.098349</td>\n",
       "      <td>-0.258789</td>\n",
       "      <td>0.061945</td>\n",
       "      <td>-0.048800</td>\n",
       "      <td>0.044166</td>\n",
       "      <td>-0.255626</td>\n",
       "      <td>0.332104</td>\n",
       "      <td>-0.113984</td>\n",
       "      <td>0.170599</td>\n",
       "      <td>-0.026536</td>\n",
       "    </tr>\n",
       "    <tr>\n",
       "      <th>1</th>\n",
       "      <td>-0.199622</td>\n",
       "      <td>0.373427</td>\n",
       "      <td>-0.046215</td>\n",
       "      <td>-0.162763</td>\n",
       "      <td>0.161503</td>\n",
       "      <td>-0.090786</td>\n",
       "      <td>0.093958</td>\n",
       "      <td>0.354282</td>\n",
       "      <td>0.015286</td>\n",
       "      <td>-0.198374</td>\n",
       "      <td>...</td>\n",
       "      <td>0.118767</td>\n",
       "      <td>-0.257988</td>\n",
       "      <td>0.020987</td>\n",
       "      <td>-0.173951</td>\n",
       "      <td>-0.197309</td>\n",
       "      <td>-0.219377</td>\n",
       "      <td>0.157864</td>\n",
       "      <td>-0.137923</td>\n",
       "      <td>0.240960</td>\n",
       "      <td>0.034384</td>\n",
       "    </tr>\n",
       "    <tr>\n",
       "      <th>2</th>\n",
       "      <td>-0.326208</td>\n",
       "      <td>0.584507</td>\n",
       "      <td>-0.011952</td>\n",
       "      <td>-0.129251</td>\n",
       "      <td>0.277130</td>\n",
       "      <td>0.050193</td>\n",
       "      <td>0.047537</td>\n",
       "      <td>0.587490</td>\n",
       "      <td>-0.165023</td>\n",
       "      <td>-0.215091</td>\n",
       "      <td>...</td>\n",
       "      <td>-0.018306</td>\n",
       "      <td>-0.191655</td>\n",
       "      <td>0.139052</td>\n",
       "      <td>-0.196631</td>\n",
       "      <td>-0.181573</td>\n",
       "      <td>-0.082238</td>\n",
       "      <td>0.186720</td>\n",
       "      <td>-0.109939</td>\n",
       "      <td>0.048487</td>\n",
       "      <td>0.265249</td>\n",
       "    </tr>\n",
       "  </tbody>\n",
       "</table>\n",
       "<p>3 rows × 768 columns</p>\n",
       "</div>"
      ],
      "text/plain": [
       "       col1      col2      col3      col4      col5      col6      col7  \\\n",
       "0 -0.326002  0.612816  0.168382 -0.017348  0.542521 -0.195864  0.175667   \n",
       "1 -0.199622  0.373427 -0.046215 -0.162763  0.161503 -0.090786  0.093958   \n",
       "2 -0.326208  0.584507 -0.011952 -0.129251  0.277130  0.050193  0.047537   \n",
       "\n",
       "       col8      col9     col10  ...    col759    col760    col761    col762  \\\n",
       "0  0.291534 -0.042749 -0.298336  ... -0.098349 -0.258789  0.061945 -0.048800   \n",
       "1  0.354282  0.015286 -0.198374  ...  0.118767 -0.257988  0.020987 -0.173951   \n",
       "2  0.587490 -0.165023 -0.215091  ... -0.018306 -0.191655  0.139052 -0.196631   \n",
       "\n",
       "     col763    col764    col765    col766    col767    col768  \n",
       "0  0.044166 -0.255626  0.332104 -0.113984  0.170599 -0.026536  \n",
       "1 -0.197309 -0.219377  0.157864 -0.137923  0.240960  0.034384  \n",
       "2 -0.181573 -0.082238  0.186720 -0.109939  0.048487  0.265249  \n",
       "\n",
       "[3 rows x 768 columns]"
      ]
     },
     "execution_count": 77,
     "metadata": {},
     "output_type": "execute_result"
    }
   ],
   "source": [
    "# Flattening numpy array and creating dataframe with it\n",
    "v_df = pd.DataFrame(vectors, columns=[f'col{i+1}' for i in range(vectors.shape[1])])\n",
    "v_df.head(3)"
   ]
  },
  {
   "cell_type": "code",
   "execution_count": 78,
   "id": "688d5fd1-c80d-47f4-8c52-4bc91ec9cdd4",
   "metadata": {},
   "outputs": [],
   "source": [
    "# Dropping review text now it is vectorized, and dropping embeddings now that it is flattened\n",
    "massive = massive.drop(columns=['reviewText', 'embeddings'])"
   ]
  },
  {
   "cell_type": "code",
   "execution_count": 79,
   "id": "66941dde-e810-4c38-b202-daed024aa859",
   "metadata": {},
   "outputs": [
    {
     "data": {
      "text/plain": [
       "title             0\n",
       "tomatoMeter       0\n",
       "criticName        0\n",
       "publicatioName    0\n",
       "scoreSentiment    0\n",
       "delta             0\n",
       "embeddings        0\n",
       "dtype: int64"
      ]
     },
     "execution_count": 79,
     "metadata": {},
     "output_type": "execute_result"
    }
   ],
   "source": [
    "massive.isnull().sum().head(9)"
   ]
  },
  {
   "cell_type": "code",
   "execution_count": 80,
   "id": "5dac35c1-4c06-49fd-b618-61b900391658",
   "metadata": {},
   "outputs": [
    {
     "data": {
      "text/plain": [
       "Other                  9153\n",
       "Jeffrey M. Anderson     100\n",
       "Dennis Schwartz          95\n",
       "David Nusair             86\n",
       "Roger Ebert              86\n",
       "                       ... \n",
       "Rick Groen               16\n",
       "Danielle Solzman         16\n",
       "Robert Kojder            16\n",
       "Liz Braun                16\n",
       "Glenn Whipp              16\n",
       "Name: criticName, Length: 211, dtype: int64"
      ]
     },
     "execution_count": 80,
     "metadata": {},
     "output_type": "execute_result"
    }
   ],
   "source": [
    "# Renaming the least-appearing critics as Other to later be encoded as the same critic\n",
    "counts = massive.criticName.value_counts()\n",
    "threshold = massive.criticName.isin(counts.index[counts<16])\n",
    "massive.loc[threshold, 'criticName'] = 'Other'\n",
    "massive['criticName'].value_counts()"
   ]
  },
  {
   "cell_type": "code",
   "execution_count": 81,
   "id": "0a6b0a96-a932-4eaf-a06b-4ab22e1ea42a",
   "metadata": {},
   "outputs": [
    {
     "data": {
      "text/plain": [
       "Other                                  4209\n",
       "New York Times                          202\n",
       "Variety                                 163\n",
       "Los Angeles Times                       151\n",
       "Slant Magazine                          123\n",
       "                                       ... \n",
       "Next Best Picture                        12\n",
       "The Movie Minute                         12\n",
       "KDHX (St. Louis)                         12\n",
       "Northwest Herald (Crystal Lake, IL)      12\n",
       "Dread Central                            12\n",
       "Name: publicatioName, Length: 334, dtype: int64"
      ]
     },
     "execution_count": 81,
     "metadata": {},
     "output_type": "execute_result"
    }
   ],
   "source": [
    "# Repeat for publications\n",
    "counts = massive.publicatioName.value_counts()\n",
    "threshold = massive.publicatioName.isin(counts.index[counts<12])\n",
    "massive.loc[threshold, 'publicatioName'] = 'Other'\n",
    "massive['publicatioName'].value_counts()"
   ]
  },
  {
   "cell_type": "code",
   "execution_count": 82,
   "id": "c935d9a7-59a9-4b8c-a9d1-0e79ab7882c7",
   "metadata": {},
   "outputs": [],
   "source": [
    "# List of columns to dummy\n",
    "categorical_cols = ['title', 'criticName', 'publicatioName', 'scoreSentiment'] \n",
    "# Get dummies on categorical columns\n",
    "massive = pd.get_dummies(massive, columns = categorical_cols)"
   ]
  },
  {
   "cell_type": "code",
   "execution_count": 101,
   "id": "42303d3e-b19d-4849-bf9a-6edc2c08859e",
   "metadata": {},
   "outputs": [
    {
     "data": {
      "text/html": [
       "<div>\n",
       "<style scoped>\n",
       "    .dataframe tbody tr th:only-of-type {\n",
       "        vertical-align: middle;\n",
       "    }\n",
       "\n",
       "    .dataframe tbody tr th {\n",
       "        vertical-align: top;\n",
       "    }\n",
       "\n",
       "    .dataframe thead th {\n",
       "        text-align: right;\n",
       "    }\n",
       "</style>\n",
       "<table border=\"1\" class=\"dataframe\">\n",
       "  <thead>\n",
       "    <tr style=\"text-align: right;\">\n",
       "      <th></th>\n",
       "      <th>tomatoMeter</th>\n",
       "      <th>delta</th>\n",
       "      <th>title_#Unfit: The Psychology of Donald Trump</th>\n",
       "      <th>title_$9.99</th>\n",
       "      <th>title_$upercapitalist</th>\n",
       "      <th>title_'71</th>\n",
       "      <th>title_(500) Days of Summer</th>\n",
       "      <th>title_(Untitled)</th>\n",
       "      <th>title_... And They Lived Happily Ever After</th>\n",
       "      <th>title_...So Goes the Nation</th>\n",
       "      <th>...</th>\n",
       "      <th>col759</th>\n",
       "      <th>col760</th>\n",
       "      <th>col761</th>\n",
       "      <th>col762</th>\n",
       "      <th>col763</th>\n",
       "      <th>col764</th>\n",
       "      <th>col765</th>\n",
       "      <th>col766</th>\n",
       "      <th>col767</th>\n",
       "      <th>col768</th>\n",
       "    </tr>\n",
       "  </thead>\n",
       "  <tbody>\n",
       "    <tr>\n",
       "      <th>0</th>\n",
       "      <td>22.0</td>\n",
       "      <td>-37.0</td>\n",
       "      <td>0</td>\n",
       "      <td>0</td>\n",
       "      <td>0</td>\n",
       "      <td>0</td>\n",
       "      <td>0</td>\n",
       "      <td>0</td>\n",
       "      <td>0</td>\n",
       "      <td>0</td>\n",
       "      <td>...</td>\n",
       "      <td>-0.098349</td>\n",
       "      <td>-0.258789</td>\n",
       "      <td>0.061945</td>\n",
       "      <td>-0.0488</td>\n",
       "      <td>0.044166</td>\n",
       "      <td>-0.255626</td>\n",
       "      <td>0.332104</td>\n",
       "      <td>-0.113984</td>\n",
       "      <td>0.170599</td>\n",
       "      <td>-0.026536</td>\n",
       "    </tr>\n",
       "  </tbody>\n",
       "</table>\n",
       "<p>1 rows × 9037 columns</p>\n",
       "</div>"
      ],
      "text/plain": [
       "   tomatoMeter  delta  title_#Unfit: The Psychology of Donald Trump  \\\n",
       "0         22.0  -37.0                                             0   \n",
       "\n",
       "   title_$9.99  title_$upercapitalist  title_'71  title_(500) Days of Summer  \\\n",
       "0            0                      0          0                           0   \n",
       "\n",
       "   title_(Untitled)  title_... And They Lived Happily Ever After  \\\n",
       "0                 0                                            0   \n",
       "\n",
       "   title_...So Goes the Nation  ...    col759    col760    col761  col762  \\\n",
       "0                            0  ... -0.098349 -0.258789  0.061945 -0.0488   \n",
       "\n",
       "     col763    col764    col765    col766    col767    col768  \n",
       "0  0.044166 -0.255626  0.332104 -0.113984  0.170599 -0.026536  \n",
       "\n",
       "[1 rows x 9037 columns]"
      ]
     },
     "execution_count": 101,
     "metadata": {},
     "output_type": "execute_result"
    }
   ],
   "source": [
    "# Merging massive df with vectorized df\n",
    "combined = pd.concat([massive, v_df], axis=1)\n",
    "combined.head(1)"
   ]
  },
  {
   "cell_type": "code",
   "execution_count": 102,
   "id": "eb89e1f1-0bff-4f86-8651-a43c7a1ef3bc",
   "metadata": {},
   "outputs": [],
   "source": [
    "X = combined.drop(columns=['delta'])\n",
    "y = combined['delta']"
   ]
  },
  {
   "cell_type": "code",
   "execution_count": 105,
   "id": "3ca3d855-6d54-4f08-a154-8263c060c0a5",
   "metadata": {},
   "outputs": [
    {
     "data": {
      "text/plain": [
       "0"
      ]
     },
     "execution_count": 105,
     "metadata": {},
     "output_type": "execute_result"
    }
   ],
   "source": [
    "X.isnull().sum().sum()"
   ]
  },
  {
   "cell_type": "code",
   "execution_count": 92,
   "id": "c7540d4b-fec3-4010-871c-1c04310b757c",
   "metadata": {},
   "outputs": [
    {
     "data": {
      "text/plain": [
       "0   -37.0\n",
       "1    16.0\n",
       "2    -8.0\n",
       "3    18.0\n",
       "4    14.0\n",
       "Name: delta, dtype: float64"
      ]
     },
     "execution_count": 92,
     "metadata": {},
     "output_type": "execute_result"
    }
   ],
   "source": [
    "y[:5]"
   ]
  },
  {
   "cell_type": "code",
   "execution_count": 107,
   "id": "9563c69a-5fe8-478e-95ef-96b5baa219e8",
   "metadata": {},
   "outputs": [],
   "source": [
    "# Split the data into training and testing sets\n",
    "X_train, X_test, y_train, y_test = train_test_split(X, y, test_size=0.25, random_state=42)"
   ]
  },
  {
   "cell_type": "code",
   "execution_count": 109,
   "id": "3a22dd78-d2dc-439c-8358-5adcc92a006a",
   "metadata": {},
   "outputs": [],
   "source": [
    "%%notify\n",
    "# Scaling X\n",
    "sc = StandardScaler()\n",
    "X_train_sc = sc.fit_transform(X_train)\n",
    "X_test_sc = sc.transform(X_test)"
   ]
  },
  {
   "cell_type": "code",
   "execution_count": 148,
   "id": "b8ae210a-41df-437c-b957-98dd50ebf7c8",
   "metadata": {},
   "outputs": [
    {
     "data": {
      "application/javascript": [
       "$(document).ready(\n",
       "    function() {\n",
       "        function appendUniqueDiv(){\n",
       "            // append a div with our uuid so we can check that it's already\n",
       "            // been sent and avoid duplicates on page reload\n",
       "            var notifiedDiv = document.createElement(\"div\")\n",
       "            notifiedDiv.id = \"07c7d9a1-9b28-4524-b0df-b36c31144bde\"\n",
       "            element.append(notifiedDiv)\n",
       "        }\n",
       "\n",
       "        // only send notifications if the pageload is complete; this will\n",
       "        // help stop extra notifications when a saved notebook is loaded,\n",
       "        // which during testing gives us state \"interactive\", not \"complete\"\n",
       "        if (document.readyState === 'complete') {\n",
       "            // check for the div that signifies that the notification\n",
       "            // was already sent\n",
       "            if (document.getElementById(\"07c7d9a1-9b28-4524-b0df-b36c31144bde\") === null) {\n",
       "                var notificationPayload = {\"requireInteraction\": false, \"icon\": \"/static/base/images/favicon.ico\", \"body\": \"Cell execution has finished!\", \"only_in_background\": false};\n",
       "\n",
       "                // We have a notification but the window is active\n",
       "                if (notificationPayload.only_in_background && !window.jupyterNotifyIsInBackground) {\n",
       "                    appendUniqueDiv();\n",
       "                    return;\n",
       "                }\n",
       "                if (Notification.permission !== 'denied') {\n",
       "                    if (Notification.permission !== 'granted') { \n",
       "                        Notification.requestPermission(function (permission) {\n",
       "                            if(!('permission' in Notification)) {\n",
       "                                Notification.permission = permission\n",
       "                            }\n",
       "                        })\n",
       "                    }\n",
       "                    if (Notification.permission === 'granted') {\n",
       "                    var notification = new Notification(\"Jupyter Notebook\", notificationPayload)\n",
       "                    appendUniqueDiv()\n",
       "                    notification.onclick = function () {\n",
       "                        window.focus();\n",
       "                        this.close();\n",
       "                        };\n",
       "                    } \n",
       "                }     \n",
       "            }\n",
       "        }\n",
       "    }\n",
       ")\n"
      ],
      "text/plain": [
       "<IPython.core.display.Javascript object>"
      ]
     },
     "metadata": {},
     "output_type": "display_data"
    }
   ],
   "source": [
    "%%notify\n",
    "# PCA to filter most important features\n",
    "pca = PCA(n_components=6000)\n",
    "X_train_p = pca.fit_transform(X_train_sc)\n",
    "X_test_p = pca.transform(X_test_sc)"
   ]
  },
  {
   "cell_type": "code",
   "execution_count": 149,
   "id": "23f77fd3-0e56-4485-8a77-da3f463c976f",
   "metadata": {},
   "outputs": [
    {
     "data": {
      "text/plain": [
       "LinearRegression()"
      ]
     },
     "execution_count": 149,
     "metadata": {},
     "output_type": "execute_result"
    },
    {
     "data": {
      "application/javascript": [
       "$(document).ready(\n",
       "    function() {\n",
       "        function appendUniqueDiv(){\n",
       "            // append a div with our uuid so we can check that it's already\n",
       "            // been sent and avoid duplicates on page reload\n",
       "            var notifiedDiv = document.createElement(\"div\")\n",
       "            notifiedDiv.id = \"2aee5b76-fe22-4446-bdbc-964f8e6b58c5\"\n",
       "            element.append(notifiedDiv)\n",
       "        }\n",
       "\n",
       "        // only send notifications if the pageload is complete; this will\n",
       "        // help stop extra notifications when a saved notebook is loaded,\n",
       "        // which during testing gives us state \"interactive\", not \"complete\"\n",
       "        if (document.readyState === 'complete') {\n",
       "            // check for the div that signifies that the notification\n",
       "            // was already sent\n",
       "            if (document.getElementById(\"2aee5b76-fe22-4446-bdbc-964f8e6b58c5\") === null) {\n",
       "                var notificationPayload = {\"requireInteraction\": false, \"icon\": \"/static/base/images/favicon.ico\", \"body\": \"Cell execution has finished!\", \"only_in_background\": false};\n",
       "\n",
       "                // We have a notification but the window is active\n",
       "                if (notificationPayload.only_in_background && !window.jupyterNotifyIsInBackground) {\n",
       "                    appendUniqueDiv();\n",
       "                    return;\n",
       "                }\n",
       "                if (Notification.permission !== 'denied') {\n",
       "                    if (Notification.permission !== 'granted') { \n",
       "                        Notification.requestPermission(function (permission) {\n",
       "                            if(!('permission' in Notification)) {\n",
       "                                Notification.permission = permission\n",
       "                            }\n",
       "                        })\n",
       "                    }\n",
       "                    if (Notification.permission === 'granted') {\n",
       "                    var notification = new Notification(\"Jupyter Notebook\", notificationPayload)\n",
       "                    appendUniqueDiv()\n",
       "                    notification.onclick = function () {\n",
       "                        window.focus();\n",
       "                        this.close();\n",
       "                        };\n",
       "                    } \n",
       "                }     \n",
       "            }\n",
       "        }\n",
       "    }\n",
       ")\n"
      ],
      "text/plain": [
       "<IPython.core.display.Javascript object>"
      ]
     },
     "metadata": {},
     "output_type": "display_data"
    }
   ],
   "source": [
    "%%notify\n",
    "# Training learning model\n",
    "model = LinearRegression()\n",
    "model.fit(X_train_p, y_train)"
   ]
  },
  {
   "cell_type": "code",
   "execution_count": 150,
   "id": "5c029fd9-cedb-403e-ac43-debd16f82170",
   "metadata": {},
   "outputs": [
    {
     "data": {
      "text/plain": [
       "0.9227881013926973"
      ]
     },
     "execution_count": 150,
     "metadata": {},
     "output_type": "execute_result"
    }
   ],
   "source": [
    "model.score(X_train_p, y_train)"
   ]
  },
  {
   "cell_type": "code",
   "execution_count": 151,
   "id": "f456ec82-348d-434d-8f2a-23ef3bd0eecb",
   "metadata": {},
   "outputs": [
    {
     "data": {
      "text/plain": [
       "0.5212681489904241"
      ]
     },
     "execution_count": 151,
     "metadata": {},
     "output_type": "execute_result"
    }
   ],
   "source": [
    "model.score(X_test_p, y_test)"
   ]
  },
  {
   "cell_type": "code",
   "execution_count": 152,
   "id": "527c8bdf-f07e-4cec-94a6-019223f53430",
   "metadata": {},
   "outputs": [],
   "source": [
    "y_pred = model.predict(X_test_p)"
   ]
  },
  {
   "cell_type": "code",
   "execution_count": 157,
   "id": "ee56c45a-aa70-4787-a5bf-3ede3c24053b",
   "metadata": {},
   "outputs": [
    {
     "data": {
      "image/png": "[encoded data removed]",
      "text/plain": [
       "<Figure size 600x300 with 1 Axes>"
      ]
     },
     "metadata": {},
     "output_type": "display_data"
    }
   ],
   "source": [
    "sns.set(rc = {'figure.figsize':(6,3)})\n",
    "sns.histplot(data=y_pred)\n",
    "plt.savefig('BERT_linear_predictions.png')"
   ]
  },
  {
   "cell_type": "code",
   "execution_count": 158,
   "id": "8c784d72-ea47-434a-9ee3-6892ce0b6885",
   "metadata": {},
   "outputs": [
    {
     "data": {
      "image/png": "[encoded data removed]",
      "text/plain": [
       "<Figure size 600x300 with 1 Axes>"
      ]
     },
     "metadata": {},
     "output_type": "display_data"
    }
   ],
   "source": [
    "sns.set(rc = {'figure.figsize':(6,3)})\n",
    "sns.histplot(data=y_test)\n",
    "plt.savefig('BERT_linear_ytest.png')"
   ]
  },
  {
   "cell_type": "code",
   "execution_count": null,
   "id": "64adcc58-afbc-4890-942e-dddce68c2c87",
   "metadata": {},
   "outputs": [],
   "source": []
  }
 ],
 "metadata": {
  "kernelspec": {
   "display_name": "Python 3 (ipykernel)",
   "language": "python",
   "name": "python3"
  },
  "language_info": {
   "codemirror_mode": {
    "name": "ipython",
    "version": 3
   },
   "file_extension": ".py",
   "mimetype": "text/x-python",
   "name": "python",
   "nbconvert_exporter": "python",
   "pygments_lexer": "ipython3",
   "version": "3.7.13"
  }
 },
 "nbformat": 4,
 "nbformat_minor": 5
}
