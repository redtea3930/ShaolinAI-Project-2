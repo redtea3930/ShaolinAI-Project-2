{
 "cells": [
  {
   "cell_type": "code",
   "execution_count": 1,
   "id": "b80b3cc5-603d-4724-9179-b1f762a2e8c0",
   "metadata": {},
   "outputs": [],
   "source": [
    "#import libraries\n",
    "import pandas as pd\n",
    "import numpy as np\n",
    "from pathlib import Path\n",
    "import matplotlib.pyplot as plt\n",
    "import seaborn as sns\n",
    "from sklearn.model_selection import train_test_split\n",
    "from sklearn.metrics import accuracy_score, classification_report, confusion_matrix\n",
    "from sklearn.preprocessing import StandardScaler\n",
    "from sklearn.decomposition import PCA\n",
    "from sklearn.linear_model import LogisticRegression\n",
    "from sklearn.ensemble import RandomForestClassifier\n",
    "from sklearn.svm import SVC\n",
    "from sklearn.model_selection import GridSearchCV\n",
    "#from gensim.models import Word2Vec\n",
    "#from gensim.test.utils import datapath\n",
    "#from gensim import utils\n",
    "#import gensim\n",
    "import multiprocessing\n",
    "cores = multiprocessing.cpu_count()\n",
    "import os\n",
    "from time import time\n",
    "import torch\n",
    "from transformers import AutoModel, AutoTokenizer, AutoConfig\n",
    "from transformers import AutoModelForSequenceClassification\n",
    "from torch.utils.data import DataLoader"
   ]
  },
  {
   "cell_type": "code",
   "execution_count": null,
   "id": "b8e08946-4fd4-422f-8669-519037b0459f",
   "metadata": {},
   "outputs": [],
   "source": [
    "# To notify when cell is complete (comment out first line). Add %%notify to the first line of a cell to get notified\n",
    "# !pip uninstall jupyternotify -y\n",
    "!pip install git+https://github.com/cphyc/jupyter-notify.git\n",
    "%reload_ext jupyternotify"
   ]
  },
  {
   "cell_type": "code",
   "execution_count": 3,
   "id": "606c2cda-48a1-4431-be34-c839cf1cd02d",
   "metadata": {},
   "outputs": [],
   "source": [
    "# read in cleaned CSV\n",
    "filepath = Path('../massive.csv')\n",
    "massive = pd.read_csv(filepath)\n",
    "massive = massive.sample(n=15000)\n",
    "massive.reset_index(drop=True, inplace=True)"
   ]
  },
  {
   "cell_type": "markdown",
   "id": "aa421c2a-f53f-4ace-8c04-4bc8189c7da6",
   "metadata": {},
   "source": [
    "### Pre-processing"
   ]
  },
  {
   "cell_type": "code",
   "execution_count": 4,
   "id": "7043144f-4577-4804-a286-d00e82aeff78",
   "metadata": {},
   "outputs": [
    {
     "data": {
      "text/html": [
       "<div>\n",
       "<style scoped>\n",
       "    .dataframe tbody tr th:only-of-type {\n",
       "        vertical-align: middle;\n",
       "    }\n",
       "\n",
       "    .dataframe tbody tr th {\n",
       "        vertical-align: top;\n",
       "    }\n",
       "\n",
       "    .dataframe thead th {\n",
       "        text-align: right;\n",
       "    }\n",
       "</style>\n",
       "<table border=\"1\" class=\"dataframe\">\n",
       "  <thead>\n",
       "    <tr style=\"text-align: right;\">\n",
       "      <th></th>\n",
       "      <th>title</th>\n",
       "      <th>tomatoMeter</th>\n",
       "      <th>criticName</th>\n",
       "      <th>publicatioName</th>\n",
       "      <th>reviewText</th>\n",
       "      <th>scoreSentiment</th>\n",
       "      <th>delta</th>\n",
       "    </tr>\n",
       "  </thead>\n",
       "  <tbody>\n",
       "    <tr>\n",
       "      <th>0</th>\n",
       "      <td>The Hateful Eight</td>\n",
       "      <td>74.0</td>\n",
       "      <td>Jim Schembri</td>\n",
       "      <td>3AW</td>\n",
       "      <td>For all his good intentions and adoration of o...</td>\n",
       "      <td>POSITIVE</td>\n",
       "      <td>-3.0</td>\n",
       "    </tr>\n",
       "  </tbody>\n",
       "</table>\n",
       "</div>"
      ],
      "text/plain": [
       "               title  tomatoMeter    criticName publicatioName  \\\n",
       "0  The Hateful Eight         74.0  Jim Schembri            3AW   \n",
       "\n",
       "                                          reviewText scoreSentiment  delta  \n",
       "0  For all his good intentions and adoration of o...       POSITIVE   -3.0  "
      ]
     },
     "execution_count": 4,
     "metadata": {},
     "output_type": "execute_result"
    }
   ],
   "source": [
    "# Dropping columns including audienceScore because it could unfairly help the model predict the delta. Leaving tomatoMeter to give the model a base of where the delta could be.\n",
    "massive = massive.drop(columns=['id', 'reviewId', 'creationDate', 'isTopCritic', 'reviewState', 'audienceScore'])\n",
    "massive.head(1)"
   ]
  },
  {
   "cell_type": "code",
   "execution_count": 5,
   "id": "f1c54342-2a2d-40dd-9e09-3ada32d0de68",
   "metadata": {},
   "outputs": [],
   "source": [
    "# Binning delta column into 5 categories for Logistic regression\n",
    "bins = [-99, -26, -11, 10, 25, 99]\n",
    "labels = [0, 1, 2, 3, 4]\n",
    "massive['delta_category'] = pd.cut(massive['delta'], bins=bins, labels=labels)"
   ]
  },
  {
   "cell_type": "code",
   "execution_count": 6,
   "id": "b8673ded-49df-43d3-bf79-634ac7000096",
   "metadata": {},
   "outputs": [
    {
     "data": {
      "text/plain": [
       "title             0\n",
       "tomatoMeter       0\n",
       "criticName        0\n",
       "publicatioName    0\n",
       "reviewText        0\n",
       "scoreSentiment    0\n",
       "delta             0\n",
       "delta_category    0\n",
       "dtype: int64"
      ]
     },
     "execution_count": 6,
     "metadata": {},
     "output_type": "execute_result"
    }
   ],
   "source": [
    "massive.isnull().sum()"
   ]
  },
  {
   "cell_type": "code",
   "execution_count": 7,
   "id": "3038c20c-d453-4bfe-ba9c-f2ff38aec57c",
   "metadata": {},
   "outputs": [
    {
     "data": {
      "text/plain": [
       "title              7226\n",
       "tomatoMeter       14871\n",
       "criticName        11922\n",
       "publicatioName    13462\n",
       "reviewText            0\n",
       "scoreSentiment    14970\n",
       "delta             14847\n",
       "delta_category    14967\n",
       "dtype: int64"
      ]
     },
     "execution_count": 7,
     "metadata": {},
     "output_type": "execute_result"
    }
   ],
   "source": [
    "# Dropping duplicates\n",
    "massive = massive.drop_duplicates(subset='reviewText', keep='first')\n",
    "# Resetting index after dropping dupe's\n",
    "massive.reset_index(drop=True, inplace=True)\n",
    "# Checking for duplicates\n",
    "dup_df = massive.apply(lambda x: x.duplicated()).sum()\n",
    "dup_df"
   ]
  },
  {
   "cell_type": "markdown",
   "id": "ae9d64e9-84a5-4a10-a461-0ad5ac2d47bc",
   "metadata": {},
   "source": [
    "## Defining target with Athen picks"
   ]
  },
  {
   "cell_type": "code",
   "execution_count": 62,
   "id": "f409d5b6-47f2-43c2-bf9e-2099188409d5",
   "metadata": {},
   "outputs": [],
   "source": [
    "# Loading full massive df without samples, sorting, picking top 20 and bottom 20 delta entries\n",
    "massive_full = pd.read_csv(filepath)\n",
    "massive_full_sort = massive_full.sort_values(by='delta')\n",
    "massive_full_asc = massive_full_sort.head(2000)\n",
    "massive_full_desc = massive_full_sort.tail(2000)\n",
    "massive_outliers = pd.concat([massive_full_asc, massive_full_desc], ignore_index=True)"
   ]
  },
  {
   "cell_type": "code",
   "execution_count": 63,
   "id": "8dfe2c3e-d5fa-488d-b7d8-57a19c2f2b9d",
   "metadata": {},
   "outputs": [],
   "source": [
    "# Create a list of titles from massive\n",
    "existing_titles = massive['title'].tolist()\n",
    "# Use isin() function to check if titles in massive_outliers exist in massive\n",
    "mask = massive_outliers['title'].isin(existing_titles)\n",
    "# Filter massive_outliers to keep only rows that don't exist in massive\n",
    "massive_outliers = massive_outliers[~mask]"
   ]
  },
  {
   "cell_type": "code",
   "execution_count": 65,
   "id": "36049e79-279e-47f6-a74a-6e79c477e1c3",
   "metadata": {},
   "outputs": [],
   "source": [
    "# Running above pre-processing code for massive_outliers\n",
    "massive_outliers = massive_outliers.drop(columns=['id', 'reviewId', 'creationDate', 'isTopCritic', 'reviewState', 'audienceScore'])\n",
    "# Binning delta column into 5 categories for Logistic regression\n",
    "massive_outliers['delta_category'] = pd.cut(massive_outliers['delta'], bins=bins, labels=labels)"
   ]
  },
  {
   "cell_type": "code",
   "execution_count": 66,
   "id": "0a573b3a-dbd1-4afa-bfdd-801f2c95fcaf",
   "metadata": {},
   "outputs": [],
   "source": [
    "# Append outliers to bottom of massive, will later use outliers as test data\n",
    "massive_merge = pd.concat([massive, massive_outliers], ignore_index=True)"
   ]
  },
  {
   "cell_type": "code",
   "execution_count": 71,
   "id": "4e29d000-b41b-46f3-9836-329aa4e698a6",
   "metadata": {},
   "outputs": [
    {
     "data": {
      "text/plain": [
       "(17893, 8)"
      ]
     },
     "execution_count": 71,
     "metadata": {},
     "output_type": "execute_result"
    }
   ],
   "source": [
    "massive_merge.shape"
   ]
  },
  {
   "cell_type": "markdown",
   "id": "1a92a439-9a49-4f84-a81e-39f88f65035e",
   "metadata": {},
   "source": [
    "## BERT Vectorizer"
   ]
  },
  {
   "cell_type": "code",
   "execution_count": 72,
   "id": "c8ef3920-1a56-4063-8460-b6be9b18ba60",
   "metadata": {},
   "outputs": [
    {
     "name": "stderr",
     "output_type": "stream",
     "text": [
      "Some weights of the model checkpoint at activebus/BERT_Review were not used when initializing BertModel: ['cls.predictions.transform.dense.bias', 'cls.predictions.bias', 'cls.predictions.transform.LayerNorm.weight', 'cls.predictions.decoder.bias', 'cls.predictions.transform.dense.weight', 'cls.predictions.decoder.weight', 'cls.predictions.transform.LayerNorm.bias']\n",
      "- This IS expected if you are initializing BertModel from the checkpoint of a model trained on another task or with another architecture (e.g. initializing a BertForSequenceClassification model from a BertForPreTraining model).\n",
      "- This IS NOT expected if you are initializing BertModel from the checkpoint of a model that you expect to be exactly identical (initializing a BertForSequenceClassification model from a BertForSequenceClassification model).\n"
     ]
    }
   ],
   "source": [
    "# Pulling BERT from huggingface\n",
    "tokenizer = AutoTokenizer.from_pretrained(\"activebus/BERT_Review\")\n",
    "model = AutoModel.from_pretrained(\"activebus/BERT_Review\")"
   ]
  },
  {
   "cell_type": "code",
   "execution_count": 73,
   "id": "f02aa687-093e-4da1-97ff-f440bb5c26b3",
   "metadata": {},
   "outputs": [
    {
     "data": {
      "text/html": [
       "<div>\n",
       "<style scoped>\n",
       "    .dataframe tbody tr th:only-of-type {\n",
       "        vertical-align: middle;\n",
       "    }\n",
       "\n",
       "    .dataframe tbody tr th {\n",
       "        vertical-align: top;\n",
       "    }\n",
       "\n",
       "    .dataframe thead th {\n",
       "        text-align: right;\n",
       "    }\n",
       "</style>\n",
       "<table border=\"1\" class=\"dataframe\">\n",
       "  <thead>\n",
       "    <tr style=\"text-align: right;\">\n",
       "      <th></th>\n",
       "      <th>title</th>\n",
       "      <th>tomatoMeter</th>\n",
       "      <th>criticName</th>\n",
       "      <th>publicatioName</th>\n",
       "      <th>reviewText</th>\n",
       "      <th>scoreSentiment</th>\n",
       "      <th>delta</th>\n",
       "      <th>delta_category</th>\n",
       "      <th>embeddings</th>\n",
       "    </tr>\n",
       "  </thead>\n",
       "  <tbody>\n",
       "    <tr>\n",
       "      <th>0</th>\n",
       "      <td>The Hateful Eight</td>\n",
       "      <td>74.0</td>\n",
       "      <td>Jim Schembri</td>\n",
       "      <td>3AW</td>\n",
       "      <td>For all his good intentions and adoration of o...</td>\n",
       "      <td>POSITIVE</td>\n",
       "      <td>-3.0</td>\n",
       "      <td>2</td>\n",
       "      <td>[-0.27614614, 0.5173415, -0.31366226, -0.07027...</td>\n",
       "    </tr>\n",
       "    <tr>\n",
       "      <th>1</th>\n",
       "      <td>Güeros</td>\n",
       "      <td>93.0</td>\n",
       "      <td>Allan Hunter</td>\n",
       "      <td>The List</td>\n",
       "      <td>The sincere performances, engaging music choic...</td>\n",
       "      <td>POSITIVE</td>\n",
       "      <td>12.0</td>\n",
       "      <td>3</td>\n",
       "      <td>[-0.23736842, 0.51649374, 0.12125993, -0.07803...</td>\n",
       "    </tr>\n",
       "  </tbody>\n",
       "</table>\n",
       "</div>"
      ],
      "text/plain": [
       "               title  tomatoMeter    criticName publicatioName  \\\n",
       "0  The Hateful Eight         74.0  Jim Schembri            3AW   \n",
       "1             Güeros         93.0  Allan Hunter       The List   \n",
       "\n",
       "                                          reviewText scoreSentiment  delta  \\\n",
       "0  For all his good intentions and adoration of o...       POSITIVE   -3.0   \n",
       "1  The sincere performances, engaging music choic...       POSITIVE   12.0   \n",
       "\n",
       "  delta_category                                         embeddings  \n",
       "0              2  [-0.27614614, 0.5173415, -0.31366226, -0.07027...  \n",
       "1              3  [-0.23736842, 0.51649374, 0.12125993, -0.07803...  "
      ]
     },
     "execution_count": 73,
     "metadata": {},
     "output_type": "execute_result"
    },
    {
     "data": {
      "application/javascript": [
       "$(document).ready(\n",
       "    function() {\n",
       "        function appendUniqueDiv(){\n",
       "            // append a div with our uuid so we can check that it's already\n",
       "            // been sent and avoid duplicates on page reload\n",
       "            var notifiedDiv = document.createElement(\"div\")\n",
       "            notifiedDiv.id = \"0188553a-5193-4fb8-9f7e-298c399988ae\"\n",
       "            element.append(notifiedDiv)\n",
       "        }\n",
       "\n",
       "        // only send notifications if the pageload is complete; this will\n",
       "        // help stop extra notifications when a saved notebook is loaded,\n",
       "        // which during testing gives us state \"interactive\", not \"complete\"\n",
       "        if (document.readyState === 'complete') {\n",
       "            // check for the div that signifies that the notification\n",
       "            // was already sent\n",
       "            if (document.getElementById(\"0188553a-5193-4fb8-9f7e-298c399988ae\") === null) {\n",
       "                var notificationPayload = {\"requireInteraction\": false, \"icon\": \"/static/base/images/favicon.ico\", \"body\": \"Cell execution has finished!\", \"only_in_background\": false};\n",
       "\n",
       "                // We have a notification but the window is active\n",
       "                if (notificationPayload.only_in_background && !window.jupyterNotifyIsInBackground) {\n",
       "                    appendUniqueDiv();\n",
       "                    return;\n",
       "                }\n",
       "                if (Notification.permission !== 'denied') {\n",
       "                    if (Notification.permission !== 'granted') { \n",
       "                        Notification.requestPermission(function (permission) {\n",
       "                            if(!('permission' in Notification)) {\n",
       "                                Notification.permission = permission\n",
       "                            }\n",
       "                        })\n",
       "                    }\n",
       "                    if (Notification.permission === 'granted') {\n",
       "                    var notification = new Notification(\"Jupyter Notebook\", notificationPayload)\n",
       "                    appendUniqueDiv()\n",
       "                    notification.onclick = function () {\n",
       "                        window.focus();\n",
       "                        this.close();\n",
       "                        };\n",
       "                    } \n",
       "                }     \n",
       "            }\n",
       "        }\n",
       "    }\n",
       ")\n"
      ],
      "text/plain": [
       "<IPython.core.display.Javascript object>"
      ]
     },
     "metadata": {},
     "output_type": "display_data"
    }
   ],
   "source": [
    "%%notify\n",
    "# Text preprocessing function\n",
    "def preprocess(text):\n",
    "    new_text = []\n",
    "    for t in text.split(\" \"):\n",
    "        t = '@user' if t.startswith('@') and len(t) > 1 else t\n",
    "        t = 'http' if t.startswith('http') else t\n",
    "        new_text.append(t)\n",
    "    return \" \".join(new_text)\n",
    "# Function to vectorize text with BERT\n",
    "def get_embedding(text):\n",
    "    text = preprocess(text)\n",
    "    encoded_input = tokenizer(text, return_tensors='pt')\n",
    "    features = model(**encoded_input)\n",
    "    features = features[0].detach().numpy() \n",
    "    features_mean = np.mean(features[0], axis=0) \n",
    "    return features_mean\n",
    "# Applying the function to reviewText and outputting to embeddings column\n",
    "massive_merge['embeddings'] = massive_merge.reviewText.map(lambda x: get_embedding(x))\n",
    "massive_merge.head(2)"
   ]
  },
  {
   "cell_type": "code",
   "execution_count": 74,
   "id": "637ab241-6df2-44c9-84a7-957aed4db95b",
   "metadata": {},
   "outputs": [
    {
     "data": {
      "text/plain": [
       "array([[-0.27614614,  0.51734149, -0.31366226, ...,  0.0233048 ,\n",
       "         0.31324869,  0.23287235],\n",
       "       [-0.23736842,  0.51649374,  0.12125993, ..., -0.03314331,\n",
       "         0.2566013 , -0.08877753],\n",
       "       [-0.38433185,  0.45252639, -0.31068572, ..., -0.01846283,\n",
       "         0.35508096, -0.10636049],\n",
       "       ...,\n",
       "       [-0.14018941,  0.49290696,  0.32612795, ..., -0.07511334,\n",
       "         0.10112862,  0.11051622],\n",
       "       [-0.72498584,  0.50838673,  0.31152537, ..., -0.21804951,\n",
       "         0.36169127,  0.20319694],\n",
       "       [-0.13334534,  0.66490716, -0.22029068, ..., -0.2142341 ,\n",
       "         0.01744156,  0.00090015]])"
      ]
     },
     "execution_count": 74,
     "metadata": {},
     "output_type": "execute_result"
    }
   ],
   "source": [
    "# Converting embeddings column to numpy array\n",
    "vectors = np.array(massive_merge.embeddings.tolist(), dtype='float')\n",
    "vectors[:10]"
   ]
  },
  {
   "cell_type": "code",
   "execution_count": 75,
   "id": "f52aa422-801e-4535-9bd5-be70318786bc",
   "metadata": {},
   "outputs": [
    {
     "data": {
      "text/html": [
       "<div>\n",
       "<style scoped>\n",
       "    .dataframe tbody tr th:only-of-type {\n",
       "        vertical-align: middle;\n",
       "    }\n",
       "\n",
       "    .dataframe tbody tr th {\n",
       "        vertical-align: top;\n",
       "    }\n",
       "\n",
       "    .dataframe thead th {\n",
       "        text-align: right;\n",
       "    }\n",
       "</style>\n",
       "<table border=\"1\" class=\"dataframe\">\n",
       "  <thead>\n",
       "    <tr style=\"text-align: right;\">\n",
       "      <th></th>\n",
       "      <th>col1</th>\n",
       "      <th>col2</th>\n",
       "      <th>col3</th>\n",
       "      <th>col4</th>\n",
       "      <th>col5</th>\n",
       "      <th>col6</th>\n",
       "      <th>col7</th>\n",
       "      <th>col8</th>\n",
       "      <th>col9</th>\n",
       "      <th>col10</th>\n",
       "      <th>...</th>\n",
       "      <th>col759</th>\n",
       "      <th>col760</th>\n",
       "      <th>col761</th>\n",
       "      <th>col762</th>\n",
       "      <th>col763</th>\n",
       "      <th>col764</th>\n",
       "      <th>col765</th>\n",
       "      <th>col766</th>\n",
       "      <th>col767</th>\n",
       "      <th>col768</th>\n",
       "    </tr>\n",
       "  </thead>\n",
       "  <tbody>\n",
       "    <tr>\n",
       "      <th>0</th>\n",
       "      <td>-0.276146</td>\n",
       "      <td>0.517341</td>\n",
       "      <td>-0.313662</td>\n",
       "      <td>-0.070278</td>\n",
       "      <td>0.223958</td>\n",
       "      <td>0.046860</td>\n",
       "      <td>0.041668</td>\n",
       "      <td>0.506741</td>\n",
       "      <td>-0.150684</td>\n",
       "      <td>-0.275460</td>\n",
       "      <td>...</td>\n",
       "      <td>-0.025331</td>\n",
       "      <td>-0.032566</td>\n",
       "      <td>0.079747</td>\n",
       "      <td>-0.172987</td>\n",
       "      <td>-0.095285</td>\n",
       "      <td>0.011509</td>\n",
       "      <td>0.284208</td>\n",
       "      <td>0.023305</td>\n",
       "      <td>0.313249</td>\n",
       "      <td>0.232872</td>\n",
       "    </tr>\n",
       "    <tr>\n",
       "      <th>1</th>\n",
       "      <td>-0.237368</td>\n",
       "      <td>0.516494</td>\n",
       "      <td>0.121260</td>\n",
       "      <td>-0.078034</td>\n",
       "      <td>0.342481</td>\n",
       "      <td>-0.118543</td>\n",
       "      <td>0.048783</td>\n",
       "      <td>0.198592</td>\n",
       "      <td>0.065328</td>\n",
       "      <td>-0.361978</td>\n",
       "      <td>...</td>\n",
       "      <td>-0.009166</td>\n",
       "      <td>-0.156251</td>\n",
       "      <td>0.172889</td>\n",
       "      <td>-0.094377</td>\n",
       "      <td>-0.486071</td>\n",
       "      <td>-0.062862</td>\n",
       "      <td>0.276540</td>\n",
       "      <td>-0.033143</td>\n",
       "      <td>0.256601</td>\n",
       "      <td>-0.088778</td>\n",
       "    </tr>\n",
       "  </tbody>\n",
       "</table>\n",
       "<p>2 rows × 768 columns</p>\n",
       "</div>"
      ],
      "text/plain": [
       "       col1      col2      col3      col4      col5      col6      col7  \\\n",
       "0 -0.276146  0.517341 -0.313662 -0.070278  0.223958  0.046860  0.041668   \n",
       "1 -0.237368  0.516494  0.121260 -0.078034  0.342481 -0.118543  0.048783   \n",
       "\n",
       "       col8      col9     col10  ...    col759    col760    col761    col762  \\\n",
       "0  0.506741 -0.150684 -0.275460  ... -0.025331 -0.032566  0.079747 -0.172987   \n",
       "1  0.198592  0.065328 -0.361978  ... -0.009166 -0.156251  0.172889 -0.094377   \n",
       "\n",
       "     col763    col764    col765    col766    col767    col768  \n",
       "0 -0.095285  0.011509  0.284208  0.023305  0.313249  0.232872  \n",
       "1 -0.486071 -0.062862  0.276540 -0.033143  0.256601 -0.088778  \n",
       "\n",
       "[2 rows x 768 columns]"
      ]
     },
     "execution_count": 75,
     "metadata": {},
     "output_type": "execute_result"
    }
   ],
   "source": [
    "# Flattening numpy array and creating dataframe with it\n",
    "v_df = pd.DataFrame(vectors, columns=[f'col{i+1}' for i in range(vectors.shape[1])])\n",
    "v_df.head(2)"
   ]
  },
  {
   "cell_type": "code",
   "execution_count": 76,
   "id": "688d5fd1-c80d-47f4-8c52-4bc91ec9cdd4",
   "metadata": {},
   "outputs": [],
   "source": [
    "# Dropping review text now it is vectorized, and dropping embeddings now that it is flattened\n",
    "massive_merge = massive_merge.drop(columns=['reviewText', 'embeddings', 'delta'])"
   ]
  },
  {
   "cell_type": "code",
   "execution_count": 77,
   "id": "66941dde-e810-4c38-b202-daed024aa859",
   "metadata": {},
   "outputs": [
    {
     "data": {
      "text/plain": [
       "title             0\n",
       "tomatoMeter       0\n",
       "criticName        0\n",
       "publicatioName    0\n",
       "scoreSentiment    0\n",
       "delta_category    0\n",
       "dtype: int64"
      ]
     },
     "execution_count": 77,
     "metadata": {},
     "output_type": "execute_result"
    }
   ],
   "source": [
    "massive_merge.isnull().sum().head(9)"
   ]
  },
  {
   "cell_type": "markdown",
   "id": "fca18b30-14b3-41f7-ae95-809182f5c2a8",
   "metadata": {},
   "source": [
    "### Encoding categorical columns"
   ]
  },
  {
   "cell_type": "code",
   "execution_count": 78,
   "id": "5dac35c1-4c06-49fd-b618-61b900391658",
   "metadata": {},
   "outputs": [
    {
     "data": {
      "text/plain": [
       "Other                  9791\n",
       "Dennis Schwartz         124\n",
       "Roger Moore             115\n",
       "David Nusair            115\n",
       "Jeffrey M. Anderson      98\n",
       "                       ... \n",
       "Steven Rea               16\n",
       "Lisa Kennedy             16\n",
       "Phil Hall                16\n",
       "Alan Ng                  16\n",
       "Eric Kohn                16\n",
       "Name: criticName, Length: 279, dtype: int64"
      ]
     },
     "execution_count": 78,
     "metadata": {},
     "output_type": "execute_result"
    }
   ],
   "source": [
    "# Renaming the least-appearing critics as Other to later be encoded as the same critic\n",
    "counts = massive_merge.criticName.value_counts()\n",
    "threshold = massive_merge.criticName.isin(counts.index[counts<16])\n",
    "massive_merge.loc[threshold, 'criticName'] = 'Other'\n",
    "massive_merge['criticName'].value_counts()"
   ]
  },
  {
   "cell_type": "code",
   "execution_count": 79,
   "id": "0a6b0a96-a932-4eaf-a06b-4ab22e1ea42a",
   "metadata": {},
   "outputs": [
    {
     "data": {
      "text/plain": [
       "Other                           4325\n",
       "New York Times                   254\n",
       "Variety                          215\n",
       "Hollywood Reporter               179\n",
       "Los Angeles Times                174\n",
       "                                ... \n",
       "New York Press                    12\n",
       "Lyles' Movie Files                12\n",
       "Reel Talk with Chuck and Pam      12\n",
       "Flick Feast                       12\n",
       "3AW                               12\n",
       "Name: publicatioName, Length: 392, dtype: int64"
      ]
     },
     "execution_count": 79,
     "metadata": {},
     "output_type": "execute_result"
    }
   ],
   "source": [
    "# Repeat for publications\n",
    "counts = massive_merge.publicatioName.value_counts()\n",
    "threshold = massive_merge.publicatioName.isin(counts.index[counts<12])\n",
    "massive_merge.loc[threshold, 'publicatioName'] = 'Other'\n",
    "massive_merge['publicatioName'].value_counts()"
   ]
  },
  {
   "cell_type": "code",
   "execution_count": 80,
   "id": "c935d9a7-59a9-4b8c-a9d1-0e79ab7882c7",
   "metadata": {},
   "outputs": [],
   "source": [
    "# List of columns to dummy\n",
    "categorical_cols = ['title', 'criticName', 'publicatioName', 'scoreSentiment'] \n",
    "# Get dummies on categorical columns\n",
    "massive_merge = pd.get_dummies(massive_merge, columns = categorical_cols)"
   ]
  },
  {
   "cell_type": "markdown",
   "id": "fab508a0-4f8e-4d65-aace-b9f0a0239fa8",
   "metadata": {},
   "source": [
    "### Final pre-processing, splitting, scaling, PCA"
   ]
  },
  {
   "cell_type": "code",
   "execution_count": 81,
   "id": "42303d3e-b19d-4849-bf9a-6edc2c08859e",
   "metadata": {},
   "outputs": [
    {
     "data": {
      "text/html": [
       "<div>\n",
       "<style scoped>\n",
       "    .dataframe tbody tr th:only-of-type {\n",
       "        vertical-align: middle;\n",
       "    }\n",
       "\n",
       "    .dataframe tbody tr th {\n",
       "        vertical-align: top;\n",
       "    }\n",
       "\n",
       "    .dataframe thead th {\n",
       "        text-align: right;\n",
       "    }\n",
       "</style>\n",
       "<table border=\"1\" class=\"dataframe\">\n",
       "  <thead>\n",
       "    <tr style=\"text-align: right;\">\n",
       "      <th></th>\n",
       "      <th>tomatoMeter</th>\n",
       "      <th>delta_category</th>\n",
       "      <th>title_#Unfit: The Psychology of Donald Trump</th>\n",
       "      <th>title_$upercapitalist</th>\n",
       "      <th>title_'71</th>\n",
       "      <th>title_'96</th>\n",
       "      <th>title_'R Xmas</th>\n",
       "      <th>title_(500) Days of Summer</th>\n",
       "      <th>title_(T)ERROR</th>\n",
       "      <th>title_...So Goes the Nation</th>\n",
       "      <th>...</th>\n",
       "      <th>col759</th>\n",
       "      <th>col760</th>\n",
       "      <th>col761</th>\n",
       "      <th>col762</th>\n",
       "      <th>col763</th>\n",
       "      <th>col764</th>\n",
       "      <th>col765</th>\n",
       "      <th>col766</th>\n",
       "      <th>col767</th>\n",
       "      <th>col768</th>\n",
       "    </tr>\n",
       "  </thead>\n",
       "  <tbody>\n",
       "    <tr>\n",
       "      <th>0</th>\n",
       "      <td>74.0</td>\n",
       "      <td>2</td>\n",
       "      <td>0</td>\n",
       "      <td>0</td>\n",
       "      <td>0</td>\n",
       "      <td>0</td>\n",
       "      <td>0</td>\n",
       "      <td>0</td>\n",
       "      <td>0</td>\n",
       "      <td>0</td>\n",
       "      <td>...</td>\n",
       "      <td>-0.025331</td>\n",
       "      <td>-0.032566</td>\n",
       "      <td>0.079747</td>\n",
       "      <td>-0.172987</td>\n",
       "      <td>-0.095285</td>\n",
       "      <td>0.011509</td>\n",
       "      <td>0.284208</td>\n",
       "      <td>0.023305</td>\n",
       "      <td>0.313249</td>\n",
       "      <td>0.232872</td>\n",
       "    </tr>\n",
       "  </tbody>\n",
       "</table>\n",
       "<p>1 rows × 9938 columns</p>\n",
       "</div>"
      ],
      "text/plain": [
       "   tomatoMeter delta_category  title_#Unfit: The Psychology of Donald Trump  \\\n",
       "0         74.0              2                                             0   \n",
       "\n",
       "   title_$upercapitalist  title_'71  title_'96  title_'R Xmas  \\\n",
       "0                      0          0          0              0   \n",
       "\n",
       "   title_(500) Days of Summer  title_(T)ERROR  title_...So Goes the Nation  \\\n",
       "0                           0               0                            0   \n",
       "\n",
       "   ...    col759    col760    col761    col762    col763    col764    col765  \\\n",
       "0  ... -0.025331 -0.032566  0.079747 -0.172987 -0.095285  0.011509  0.284208   \n",
       "\n",
       "     col766    col767    col768  \n",
       "0  0.023305  0.313249  0.232872  \n",
       "\n",
       "[1 rows x 9938 columns]"
      ]
     },
     "execution_count": 81,
     "metadata": {},
     "output_type": "execute_result"
    }
   ],
   "source": [
    "# Joining massive df with vectorized df\n",
    "combined = pd.concat([massive_merge, v_df], axis=1)\n",
    "combined.head(1)"
   ]
  },
  {
   "cell_type": "code",
   "execution_count": 82,
   "id": "eb89e1f1-0bff-4f86-8651-a43c7a1ef3bc",
   "metadata": {},
   "outputs": [],
   "source": [
    "# Splitting X and y manually\n",
    "X = combined.drop(columns=['delta_category'])\n",
    "y = combined['delta_category']\n",
    "# Converting Category datatype to integer\n",
    "y = y.cat.codes"
   ]
  },
  {
   "cell_type": "code",
   "execution_count": 83,
   "id": "854e5c0e-c0cb-48ea-aecf-2ddf1f6d2ce3",
   "metadata": {},
   "outputs": [],
   "source": [
    "X_train, X_test, y_train, y_test = train_test_split(X, y, test_size=0.25, random_state=42)"
   ]
  },
  {
   "cell_type": "code",
   "execution_count": 84,
   "id": "3ca3d855-6d54-4f08-a154-8263c060c0a5",
   "metadata": {},
   "outputs": [
    {
     "data": {
      "text/plain": [
       "0"
      ]
     },
     "execution_count": 84,
     "metadata": {},
     "output_type": "execute_result"
    }
   ],
   "source": [
    "X_test.isnull().sum().sum()"
   ]
  },
  {
   "cell_type": "code",
   "execution_count": 87,
   "id": "c7540d4b-fec3-4010-871c-1c04310b757c",
   "metadata": {},
   "outputs": [
    {
     "data": {
      "text/plain": [
       "8051     2\n",
       "12376    1\n",
       "8025     3\n",
       "10051    3\n",
       "12247    2\n",
       "15468    0\n",
       "11216    2\n",
       "9390     3\n",
       "2684     2\n",
       "17691    4\n",
       "dtype: int8"
      ]
     },
     "execution_count": 87,
     "metadata": {},
     "output_type": "execute_result"
    }
   ],
   "source": [
    "y_test[1000:1010]"
   ]
  },
  {
   "cell_type": "code",
   "execution_count": 90,
   "id": "3a22dd78-d2dc-439c-8358-5adcc92a006a",
   "metadata": {},
   "outputs": [
    {
     "data": {
      "application/javascript": [
       "$(document).ready(\n",
       "    function() {\n",
       "        function appendUniqueDiv(){\n",
       "            // append a div with our uuid so we can check that it's already\n",
       "            // been sent and avoid duplicates on page reload\n",
       "            var notifiedDiv = document.createElement(\"div\")\n",
       "            notifiedDiv.id = \"379703f0-e8ec-4d3a-ab5f-c691cfc6a627\"\n",
       "            element.append(notifiedDiv)\n",
       "        }\n",
       "\n",
       "        // only send notifications if the pageload is complete; this will\n",
       "        // help stop extra notifications when a saved notebook is loaded,\n",
       "        // which during testing gives us state \"interactive\", not \"complete\"\n",
       "        if (document.readyState === 'complete') {\n",
       "            // check for the div that signifies that the notification\n",
       "            // was already sent\n",
       "            if (document.getElementById(\"379703f0-e8ec-4d3a-ab5f-c691cfc6a627\") === null) {\n",
       "                var notificationPayload = {\"requireInteraction\": false, \"icon\": \"/static/base/images/favicon.ico\", \"body\": \"Cell execution has finished!\", \"only_in_background\": false};\n",
       "\n",
       "                // We have a notification but the window is active\n",
       "                if (notificationPayload.only_in_background && !window.jupyterNotifyIsInBackground) {\n",
       "                    appendUniqueDiv();\n",
       "                    return;\n",
       "                }\n",
       "                if (Notification.permission !== 'denied') {\n",
       "                    if (Notification.permission !== 'granted') { \n",
       "                        Notification.requestPermission(function (permission) {\n",
       "                            if(!('permission' in Notification)) {\n",
       "                                Notification.permission = permission\n",
       "                            }\n",
       "                        })\n",
       "                    }\n",
       "                    if (Notification.permission === 'granted') {\n",
       "                    var notification = new Notification(\"Jupyter Notebook\", notificationPayload)\n",
       "                    appendUniqueDiv()\n",
       "                    notification.onclick = function () {\n",
       "                        window.focus();\n",
       "                        this.close();\n",
       "                        };\n",
       "                    } \n",
       "                }     \n",
       "            }\n",
       "        }\n",
       "    }\n",
       ")\n"
      ],
      "text/plain": [
       "<IPython.core.display.Javascript object>"
      ]
     },
     "metadata": {},
     "output_type": "display_data"
    }
   ],
   "source": [
    "%%notify\n",
    "# Scaling X\n",
    "sc = StandardScaler()\n",
    "X_train_sc = sc.fit_transform(X_train)\n",
    "X_test_sc = sc.transform(X_test)"
   ]
  },
  {
   "cell_type": "code",
   "execution_count": 91,
   "id": "b8ae210a-41df-437c-b957-98dd50ebf7c8",
   "metadata": {},
   "outputs": [
    {
     "data": {
      "application/javascript": [
       "$(document).ready(\n",
       "    function() {\n",
       "        function appendUniqueDiv(){\n",
       "            // append a div with our uuid so we can check that it's already\n",
       "            // been sent and avoid duplicates on page reload\n",
       "            var notifiedDiv = document.createElement(\"div\")\n",
       "            notifiedDiv.id = \"36f692d1-6730-4a0e-b3f5-07d21a45d20e\"\n",
       "            element.append(notifiedDiv)\n",
       "        }\n",
       "\n",
       "        // only send notifications if the pageload is complete; this will\n",
       "        // help stop extra notifications when a saved notebook is loaded,\n",
       "        // which during testing gives us state \"interactive\", not \"complete\"\n",
       "        if (document.readyState === 'complete') {\n",
       "            // check for the div that signifies that the notification\n",
       "            // was already sent\n",
       "            if (document.getElementById(\"36f692d1-6730-4a0e-b3f5-07d21a45d20e\") === null) {\n",
       "                var notificationPayload = {\"requireInteraction\": false, \"icon\": \"/static/base/images/favicon.ico\", \"body\": \"Cell execution has finished!\", \"only_in_background\": false};\n",
       "\n",
       "                // We have a notification but the window is active\n",
       "                if (notificationPayload.only_in_background && !window.jupyterNotifyIsInBackground) {\n",
       "                    appendUniqueDiv();\n",
       "                    return;\n",
       "                }\n",
       "                if (Notification.permission !== 'denied') {\n",
       "                    if (Notification.permission !== 'granted') { \n",
       "                        Notification.requestPermission(function (permission) {\n",
       "                            if(!('permission' in Notification)) {\n",
       "                                Notification.permission = permission\n",
       "                            }\n",
       "                        })\n",
       "                    }\n",
       "                    if (Notification.permission === 'granted') {\n",
       "                    var notification = new Notification(\"Jupyter Notebook\", notificationPayload)\n",
       "                    appendUniqueDiv()\n",
       "                    notification.onclick = function () {\n",
       "                        window.focus();\n",
       "                        this.close();\n",
       "                        };\n",
       "                    } \n",
       "                }     \n",
       "            }\n",
       "        }\n",
       "    }\n",
       ")\n"
      ],
      "text/plain": [
       "<IPython.core.display.Javascript object>"
      ]
     },
     "metadata": {},
     "output_type": "display_data"
    }
   ],
   "source": [
    "%%notify\n",
    "# PCA to filter most important features\n",
    "pca = PCA(n_components=6000)\n",
    "X_train_p = pca.fit_transform(X_train_sc)\n",
    "X_test_p = pca.transform(X_test_sc)"
   ]
  },
  {
   "cell_type": "markdown",
   "id": "d15c06a0-af41-48e8-823b-c4d0a8287cb5",
   "metadata": {},
   "source": [
    "## Logistic Regression"
   ]
  },
  {
   "cell_type": "code",
   "execution_count": 92,
   "id": "23f77fd3-0e56-4485-8a77-da3f463c976f",
   "metadata": {},
   "outputs": [
    {
     "data": {
      "text/plain": [
       "LogisticRegression(max_iter=5000)"
      ]
     },
     "execution_count": 92,
     "metadata": {},
     "output_type": "execute_result"
    },
    {
     "data": {
      "application/javascript": [
       "$(document).ready(\n",
       "    function() {\n",
       "        function appendUniqueDiv(){\n",
       "            // append a div with our uuid so we can check that it's already\n",
       "            // been sent and avoid duplicates on page reload\n",
       "            var notifiedDiv = document.createElement(\"div\")\n",
       "            notifiedDiv.id = \"ee8aa826-52c5-4862-8bb1-c4d9afcec1c5\"\n",
       "            element.append(notifiedDiv)\n",
       "        }\n",
       "\n",
       "        // only send notifications if the pageload is complete; this will\n",
       "        // help stop extra notifications when a saved notebook is loaded,\n",
       "        // which during testing gives us state \"interactive\", not \"complete\"\n",
       "        if (document.readyState === 'complete') {\n",
       "            // check for the div that signifies that the notification\n",
       "            // was already sent\n",
       "            if (document.getElementById(\"ee8aa826-52c5-4862-8bb1-c4d9afcec1c5\") === null) {\n",
       "                var notificationPayload = {\"requireInteraction\": false, \"icon\": \"/static/base/images/favicon.ico\", \"body\": \"Cell execution has finished!\", \"only_in_background\": false};\n",
       "\n",
       "                // We have a notification but the window is active\n",
       "                if (notificationPayload.only_in_background && !window.jupyterNotifyIsInBackground) {\n",
       "                    appendUniqueDiv();\n",
       "                    return;\n",
       "                }\n",
       "                if (Notification.permission !== 'denied') {\n",
       "                    if (Notification.permission !== 'granted') { \n",
       "                        Notification.requestPermission(function (permission) {\n",
       "                            if(!('permission' in Notification)) {\n",
       "                                Notification.permission = permission\n",
       "                            }\n",
       "                        })\n",
       "                    }\n",
       "                    if (Notification.permission === 'granted') {\n",
       "                    var notification = new Notification(\"Jupyter Notebook\", notificationPayload)\n",
       "                    appendUniqueDiv()\n",
       "                    notification.onclick = function () {\n",
       "                        window.focus();\n",
       "                        this.close();\n",
       "                        };\n",
       "                    } \n",
       "                }     \n",
       "            }\n",
       "        }\n",
       "    }\n",
       ")\n"
      ],
      "text/plain": [
       "<IPython.core.display.Javascript object>"
      ]
     },
     "metadata": {},
     "output_type": "display_data"
    }
   ],
   "source": [
    "%%notify\n",
    "# Training learning model\n",
    "model = LogisticRegression(max_iter=5000)\n",
    "model.fit(X_train_p, y_train)"
   ]
  },
  {
   "cell_type": "code",
   "execution_count": 93,
   "id": "5c029fd9-cedb-403e-ac43-debd16f82170",
   "metadata": {},
   "outputs": [
    {
     "data": {
      "text/plain": [
       "1.0"
      ]
     },
     "execution_count": 93,
     "metadata": {},
     "output_type": "execute_result"
    }
   ],
   "source": [
    "model.score(X_train_p, y_train)"
   ]
  },
  {
   "cell_type": "code",
   "execution_count": 94,
   "id": "f456ec82-348d-434d-8f2a-23ef3bd0eecb",
   "metadata": {},
   "outputs": [
    {
     "data": {
      "text/plain": [
       "0.8039785426911041"
      ]
     },
     "execution_count": 94,
     "metadata": {},
     "output_type": "execute_result"
    }
   ],
   "source": [
    "model.score(X_test_p, y_test)"
   ]
  },
  {
   "cell_type": "code",
   "execution_count": 95,
   "id": "527c8bdf-f07e-4cec-94a6-019223f53430",
   "metadata": {},
   "outputs": [],
   "source": [
    "y_pred = model.predict(X_test_p)"
   ]
  },
  {
   "cell_type": "code",
   "execution_count": 96,
   "id": "a71a7f21-0236-46c1-90df-70144794da1b",
   "metadata": {},
   "outputs": [
    {
     "name": "stdout",
     "output_type": "stream",
     "text": [
      "              precision    recall  f1-score   support\n",
      "\n",
      "           0       0.94      0.82      0.88       498\n",
      "           1       0.90      0.61      0.73       587\n",
      "           2       0.74      0.94      0.83      2069\n",
      "           3       0.92      0.60      0.72       869\n",
      "           4       0.83      0.79      0.81       451\n",
      "\n",
      "    accuracy                           0.80      4474\n",
      "   macro avg       0.87      0.75      0.79      4474\n",
      "weighted avg       0.83      0.80      0.80      4474\n",
      "\n"
     ]
    }
   ],
   "source": [
    "print(classification_report(y_test, y_pred))"
   ]
  },
  {
   "cell_type": "code",
   "execution_count": 129,
   "id": "ee56c45a-aa70-4787-a5bf-3ede3c24053b",
   "metadata": {},
   "outputs": [
    {
     "data": {
      "image/png": "[encoded data removed]",
      "text/plain": [
       "<Figure size 600x300 with 1 Axes>"
      ]
     },
     "metadata": {},
     "output_type": "display_data"
    }
   ],
   "source": [
    "x = np.arange(5)\n",
    "\n",
    "# Set the width of the bars\n",
    "bar_width = 0.45\n",
    "\n",
    "# Create bar graphs for y_pred (blue) and y_test (red)\n",
    "plt.bar(x - bar_width/2, np.bincount(y_pred), bar_width, label='Model Prediction', color='orange', align='center')\n",
    "plt.bar(x + bar_width/2, np.bincount(y_test), bar_width, label='Actual', color='red', align='center')\n",
    "\n",
    "# Add labels, a legend, and a title\n",
    "plt.xlabel('Critic Attitude compared to Audience')\n",
    "plt.ylabel('Frequency')\n",
    "custom_labels = ['Very Seething', 'Moderately Seething', 'Agree', 'Moderately Pretentious', 'Very Pretentious']\n",
    "plt.xticks(x, custom_labels, rotation=45)\n",
    "plt.legend()\n",
    "plt.savefig('BERT_categorical_pred_vs_test.png')\n",
    "plt.show()"
   ]
  },
  {
   "cell_type": "markdown",
   "id": "2a85cc20-4788-4c99-93f5-11318c863f0c",
   "metadata": {},
   "source": [
    "## Random Forest Classifier"
   ]
  },
  {
   "cell_type": "code",
   "execution_count": 53,
   "id": "64adcc58-afbc-4890-942e-dddce68c2c87",
   "metadata": {},
   "outputs": [
    {
     "data": {
      "text/plain": [
       "RandomForestClassifier(n_estimators=500, n_jobs=12, random_state=30)"
      ]
     },
     "execution_count": 53,
     "metadata": {},
     "output_type": "execute_result"
    },
    {
     "data": {
      "application/javascript": [
       "$(document).ready(\n",
       "    function() {\n",
       "        function appendUniqueDiv(){\n",
       "            // append a div with our uuid so we can check that it's already\n",
       "            // been sent and avoid duplicates on page reload\n",
       "            var notifiedDiv = document.createElement(\"div\")\n",
       "            notifiedDiv.id = \"42bb02d5-b7ef-4825-b935-17b363a46a60\"\n",
       "            element.append(notifiedDiv)\n",
       "        }\n",
       "\n",
       "        // only send notifications if the pageload is complete; this will\n",
       "        // help stop extra notifications when a saved notebook is loaded,\n",
       "        // which during testing gives us state \"interactive\", not \"complete\"\n",
       "        if (document.readyState === 'complete') {\n",
       "            // check for the div that signifies that the notification\n",
       "            // was already sent\n",
       "            if (document.getElementById(\"42bb02d5-b7ef-4825-b935-17b363a46a60\") === null) {\n",
       "                var notificationPayload = {\"requireInteraction\": false, \"icon\": \"/static/base/images/favicon.ico\", \"body\": \"Cell execution has finished!\", \"only_in_background\": false};\n",
       "\n",
       "                // We have a notification but the window is active\n",
       "                if (notificationPayload.only_in_background && !window.jupyterNotifyIsInBackground) {\n",
       "                    appendUniqueDiv();\n",
       "                    return;\n",
       "                }\n",
       "                if (Notification.permission !== 'denied') {\n",
       "                    if (Notification.permission !== 'granted') { \n",
       "                        Notification.requestPermission(function (permission) {\n",
       "                            if(!('permission' in Notification)) {\n",
       "                                Notification.permission = permission\n",
       "                            }\n",
       "                        })\n",
       "                    }\n",
       "                    if (Notification.permission === 'granted') {\n",
       "                    var notification = new Notification(\"Jupyter Notebook\", notificationPayload)\n",
       "                    appendUniqueDiv()\n",
       "                    notification.onclick = function () {\n",
       "                        window.focus();\n",
       "                        this.close();\n",
       "                        };\n",
       "                    } \n",
       "                }     \n",
       "            }\n",
       "        }\n",
       "    }\n",
       ")\n"
      ],
      "text/plain": [
       "<IPython.core.display.Javascript object>"
      ]
     },
     "metadata": {},
     "output_type": "display_data"
    }
   ],
   "source": [
    "%%notify\n",
    "f_cores = cores-10\n",
    "fmodel = RandomForestClassifier(n_estimators=500, n_jobs=f_cores, random_state=30)\n",
    "fmodel.fit(X_train_p, y_train)"
   ]
  },
  {
   "cell_type": "code",
   "execution_count": 54,
   "id": "43003201-251e-4b86-8739-bbf99c1e4c75",
   "metadata": {},
   "outputs": [
    {
     "data": {
      "text/plain": [
       "1.0"
      ]
     },
     "execution_count": 54,
     "metadata": {},
     "output_type": "execute_result"
    }
   ],
   "source": [
    "fmodel.score(X_train_p, y_train)"
   ]
  },
  {
   "cell_type": "code",
   "execution_count": 55,
   "id": "c729ae56-cb5a-49a7-aedd-f4b7492ac7a5",
   "metadata": {},
   "outputs": [
    {
     "data": {
      "text/plain": [
       "0.0"
      ]
     },
     "execution_count": 55,
     "metadata": {},
     "output_type": "execute_result"
    }
   ],
   "source": [
    "fmodel.score(X_test_p, y_test)"
   ]
  },
  {
   "cell_type": "markdown",
   "id": "0a4673c3-ff43-4931-b7e4-61c9affe8e76",
   "metadata": {},
   "source": [
    "## SVM Classifier (SVC)"
   ]
  },
  {
   "cell_type": "code",
   "execution_count": null,
   "id": "957f078c-d828-4050-9d32-438e79a4b658",
   "metadata": {},
   "outputs": [],
   "source": [
    "%%notify\n",
    "param_grid = {\n",
    "    'C': [0.1, 1],\n",
    "    'kernel': ['linear', 'rbf', 'poly'],\n",
    "    #'epsilon': [0.1, 0.2, 0.5], # For regression models\n",
    "    'gamma': ['scale', 'auto']  # For RBF kernel\n",
    "}\n",
    "svc = SVC()\n",
    "\n",
    "grid_search = GridSearchCV(estimator=svc, param_grid=param_grid, scoring='accuracy', cv=5)\n",
    "\n",
    "grid_search.fit(X_train_p, y_train)\n",
    "\n",
    "best_params = grid_search.best_params_\n",
    "best_model = grid_search.best_estimator_\n",
    "predictions = best_model.predict(X_test_p)"
   ]
  },
  {
   "cell_type": "code",
   "execution_count": null,
   "id": "fd1fcc53-c2ea-4377-af9f-912c1cccb2cc",
   "metadata": {},
   "outputs": [],
   "source": [
    "best_model.score(X_train_p, y_train)"
   ]
  },
  {
   "cell_type": "code",
   "execution_count": null,
   "id": "91ba4793-1794-4634-8508-5cd88c7a5576",
   "metadata": {},
   "outputs": [],
   "source": [
    "best_model.score(X_test_p, y_test)"
   ]
  }
 ],
 "metadata": {
  "kernelspec": {
   "display_name": "Python 3 (ipykernel)",
   "language": "python",
   "name": "python3"
  },
  "language_info": {
   "codemirror_mode": {
    "name": "ipython",
    "version": 3
   },
   "file_extension": ".py",
   "mimetype": "text/x-python",
   "name": "python",
   "nbconvert_exporter": "python",
   "pygments_lexer": "ipython3",
   "version": "3.7.13"
  }
 },
 "nbformat": 4,
 "nbformat_minor": 5
}
